{
 "cells": [
  {
   "cell_type": "markdown",
   "metadata": {
    "id": "HzCIJvcWmtud"
   },
   "source": [
    "# <font color='blue'> Project 2 - Regression </font>\n",
    "#### Group Members:\n",
    "#### Femina Martin Pereira - FXP190002\n",
    "#### Divya Deepak Pai - DXP190009\n",
    "    \n",
    "### Dataset Source:\n",
    "The data set contains data on used cars (Toyota Corolla) on sale during the late summer of 2004 in the Netherlands. The data set is from the book Data Mining in Excel by 2005 Galit Shmueli, Nitin R. Patel, Peter C. Bruce.(https://www3.nd.edu/~busiforc/problems/DataMining/ToyotaCorolla.xls).\n",
    "It has 1421 records containing details on 38 attributes including Price, Age, Kilometers, Horsepower, and other specifications \n",
    "    \n",
    "### Dataset Description:    \n",
    "A large Toyota car dealer offers purchasers of a new Toyota cars the option to buy from them their used car. In particular, a new promotion promises to pay high prices for used Toyota Corolla cars for purchasers of a new car. The dealer then sells the used cars with a small profit. In order to\n",
    "ensure a reasonable profit, the dealer needs to be able to predict the price that they will get for the used cars. For that reason they collected data on all previous sales of used Toyota Corolla’s at their dealership. The data include the sales price and information on the car such as its age, mileage, fuel\n",
    "type, engine size, etc (Data Mining in Excel, 2005, pg.57)\n",
    "\n",
    "### Goal:\n",
    "The regression goal is to predict various factors which has been chosen initially that really affect the price of the Toyota Corolla model. \n",
    "    \n",
    "### 1) Attributes Information:\n",
    "\n",
    "#### I) Feature Set\n",
    "##### Toyota Corolla Car Atrributes:-\n",
    "- Id Record_ID\n",
    "- Model Model Description\n",
    "-Age_08_04 Age in months as in August 2004\n",
    "-Mfg_Month\tManufacturing month\n",
    "-Mfg_Year\tManufacturing Year\n",
    "-KM\tAccumulated Kilometers on odometer\n",
    "-Fuel_Type\tFuel Type (Petrol, Diesel, CNG)\n",
    "-HP\tHorse Power\n",
    "-Met_Color\tMetallic Color?  (Yes=1, No=0)\n",
    "-Color\tColor (Blue, Red, Grey, Silver, Black, etc.)\n",
    "-Automatic\tAutomatic ( (Yes=1, No=0)\n",
    "-CC\tCylinder Volume in cubic centimeters\n",
    "-Doors\tNumber of doors\n",
    "-Cylinders\tNumber of cylinders\n",
    "-Gears\tNumber of gear positions\n",
    "-Quarterly_Tax\tQuarterly road tax in EUROs\n",
    "-Weight\tWeight in Kilograms\n",
    "-Mfr_Guarantee\tWithin Manufacturer's Guarantee period  (Yes=1, No=0)\n",
    "-BOVAG_Guarantee\tBOVAG (Dutch dealer network) Guarantee  (Yes=1, No=0)\n",
    "-Guarantee_Period\tGuarantee period in months\n",
    "-ABS\tAnti-Lock Brake System (Yes=1, No=0)\n",
    "-Airbag_1\tDriver_Airbag  (Yes=1, No=0)\n",
    "-Airbag_2\tPassenger Airbag  (Yes=1, No=0)\n",
    "-Airco\tAirconditioning  (Yes=1, No=0)\n",
    "-Automatic_airco\tAutomatic Airconditioning  (Yes=1, No=0)\n",
    "-Boardcomputer\tBoardcomputer  (Yes=1, No=0)\n",
    "-CD_Player\tCD Player  (Yes=1, No=0)\n",
    "-Central_Lock\tCentral Lock  (Yes=1, No=0)\n",
    "-Powered_Windows\tPowered Windows  (Yes=1, No=0)\n",
    "-Power_Steering\tPower Steering  (Yes=1, No=0)\n",
    "-Radio\tRadio  (Yes=1, No=0)\n",
    "-Mistlamps\tMistlamps  (Yes=1, No=0)\n",
    "-Sport_Model\tSport Model  (Yes=1, No=0)\n",
    "-Backseat_Divider\tBackseat Divider  (Yes=1, No=0)\n",
    "-Metallic_Rim\tMetallic Rim  (Yes=1, No=0)\n",
    "-Radio_cassette\tRadio Cassette  (Yes=1, No=0)\n",
    "-Parking_Assistant\tParking assistance system  (Yes=1, No=0)\n",
    "-Tow_Bar\tTow Bar  (Yes=1, No=0)\n",
    "   \n",
    "#### II) Target Value\n",
    "- Price\tOffer Price in EUROs\n"
   ]
  },
  {
   "cell_type": "code",
   "execution_count": 1,
   "metadata": {
    "id": "E4sESa5cmtud"
   },
   "outputs": [],
   "source": [
    "import numpy as np\n",
    "import pandas as pd\n",
    "import matplotlib.pyplot as plt\n",
    "import warnings\n",
    "warnings.filterwarnings('ignore')"
   ]
  },
  {
   "cell_type": "markdown",
   "metadata": {
    "id": "wOhTJeL9mtud"
   },
   "source": [
    "# Exploratory Data Analaysis and Pre-Processing "
   ]
  },
  {
   "cell_type": "markdown",
   "metadata": {
    "id": "OtQosX6Gmtue"
   },
   "source": [
    "### 1) Importing the Original Dataset with no missing values"
   ]
  },
  {
   "cell_type": "code",
   "execution_count": 2,
   "metadata": {
    "id": "sSn6zmAOmtue"
   },
   "outputs": [],
   "source": [
    "df = pd.read_csv('ToyotaCorolla.csv', encoding='latin1')"
   ]
  },
  {
   "cell_type": "code",
   "execution_count": 3,
   "metadata": {
    "colab": {
     "base_uri": "https://localhost:8080/",
     "height": 1000
    },
    "id": "4f3nr7KLmtue",
    "outputId": "7657c50a-b979-46db-92a3-baaed0a99878"
   },
   "outputs": [
    {
     "data": {
      "text/html": [
       "<div>\n",
       "<style scoped>\n",
       "    .dataframe tbody tr th:only-of-type {\n",
       "        vertical-align: middle;\n",
       "    }\n",
       "\n",
       "    .dataframe tbody tr th {\n",
       "        vertical-align: top;\n",
       "    }\n",
       "\n",
       "    .dataframe thead th {\n",
       "        text-align: right;\n",
       "    }\n",
       "</style>\n",
       "<table border=\"1\" class=\"dataframe\">\n",
       "  <thead>\n",
       "    <tr style=\"text-align: right;\">\n",
       "      <th></th>\n",
       "      <th>Id</th>\n",
       "      <th>Model</th>\n",
       "      <th>Price</th>\n",
       "      <th>Age_08_04</th>\n",
       "      <th>Mfg_Month</th>\n",
       "      <th>Mfg_Year</th>\n",
       "      <th>KM</th>\n",
       "      <th>Fuel_Type</th>\n",
       "      <th>HP</th>\n",
       "      <th>Met_Color</th>\n",
       "      <th>Color</th>\n",
       "      <th>Automatic</th>\n",
       "      <th>CC</th>\n",
       "      <th>Doors</th>\n",
       "      <th>Cylinders</th>\n",
       "      <th>Gears</th>\n",
       "      <th>Quarterly_Tax</th>\n",
       "      <th>Weight</th>\n",
       "      <th>Mfr_Guarantee</th>\n",
       "      <th>BOVAG_Guarantee</th>\n",
       "      <th>Guarantee_Period</th>\n",
       "      <th>ABS</th>\n",
       "      <th>Airbag_1</th>\n",
       "      <th>Airbag_2</th>\n",
       "      <th>Airco</th>\n",
       "      <th>Automatic_airco</th>\n",
       "      <th>Boardcomputer</th>\n",
       "      <th>CD_Player</th>\n",
       "      <th>Central_Lock</th>\n",
       "      <th>Powered_Windows</th>\n",
       "      <th>Power_Steering</th>\n",
       "      <th>Radio</th>\n",
       "      <th>Mistlamps</th>\n",
       "      <th>Sport_Model</th>\n",
       "      <th>Backseat_Divider</th>\n",
       "      <th>Metallic_Rim</th>\n",
       "      <th>Radio_cassette</th>\n",
       "      <th>Parking_Assistant</th>\n",
       "      <th>Tow_Bar</th>\n",
       "    </tr>\n",
       "  </thead>\n",
       "  <tbody>\n",
       "    <tr>\n",
       "      <th>0</th>\n",
       "      <td>1</td>\n",
       "      <td>TOYOTA Corolla 2.0 D4D HATCHB TERRA 2/3-Doors</td>\n",
       "      <td>13500</td>\n",
       "      <td>23</td>\n",
       "      <td>October</td>\n",
       "      <td>2002</td>\n",
       "      <td>46986</td>\n",
       "      <td>Diesel</td>\n",
       "      <td>90</td>\n",
       "      <td>1</td>\n",
       "      <td>Blue</td>\n",
       "      <td>0</td>\n",
       "      <td>2000</td>\n",
       "      <td>3</td>\n",
       "      <td>4</td>\n",
       "      <td>5</td>\n",
       "      <td>210</td>\n",
       "      <td>1165</td>\n",
       "      <td>0</td>\n",
       "      <td>1</td>\n",
       "      <td>3</td>\n",
       "      <td>1</td>\n",
       "      <td>1</td>\n",
       "      <td>1</td>\n",
       "      <td>0</td>\n",
       "      <td>0</td>\n",
       "      <td>1</td>\n",
       "      <td>0</td>\n",
       "      <td>1</td>\n",
       "      <td>1</td>\n",
       "      <td>1</td>\n",
       "      <td>0</td>\n",
       "      <td>0</td>\n",
       "      <td>0</td>\n",
       "      <td>1</td>\n",
       "      <td>0</td>\n",
       "      <td>0</td>\n",
       "      <td>0</td>\n",
       "      <td>0</td>\n",
       "    </tr>\n",
       "    <tr>\n",
       "      <th>1</th>\n",
       "      <td>2</td>\n",
       "      <td>TOYOTA Corolla 2.0 D4D HATCHB TERRA 2/3-Doors</td>\n",
       "      <td>13750</td>\n",
       "      <td>23</td>\n",
       "      <td>October</td>\n",
       "      <td>2002</td>\n",
       "      <td>72937</td>\n",
       "      <td>Diesel</td>\n",
       "      <td>90</td>\n",
       "      <td>1</td>\n",
       "      <td>Silver</td>\n",
       "      <td>0</td>\n",
       "      <td>2000</td>\n",
       "      <td>3</td>\n",
       "      <td>4</td>\n",
       "      <td>5</td>\n",
       "      <td>210</td>\n",
       "      <td>1165</td>\n",
       "      <td>0</td>\n",
       "      <td>1</td>\n",
       "      <td>3</td>\n",
       "      <td>1</td>\n",
       "      <td>1</td>\n",
       "      <td>1</td>\n",
       "      <td>1</td>\n",
       "      <td>0</td>\n",
       "      <td>1</td>\n",
       "      <td>1</td>\n",
       "      <td>1</td>\n",
       "      <td>0</td>\n",
       "      <td>1</td>\n",
       "      <td>0</td>\n",
       "      <td>0</td>\n",
       "      <td>0</td>\n",
       "      <td>1</td>\n",
       "      <td>0</td>\n",
       "      <td>0</td>\n",
       "      <td>0</td>\n",
       "      <td>0</td>\n",
       "    </tr>\n",
       "    <tr>\n",
       "      <th>2</th>\n",
       "      <td>3</td>\n",
       "      <td>TOYOTA Corolla 2.0 D4D HATCHB TERRA 2/3-Doors</td>\n",
       "      <td>13950</td>\n",
       "      <td>24</td>\n",
       "      <td>September</td>\n",
       "      <td>2002</td>\n",
       "      <td>41711</td>\n",
       "      <td>Diesel</td>\n",
       "      <td>90</td>\n",
       "      <td>1</td>\n",
       "      <td>Blue</td>\n",
       "      <td>0</td>\n",
       "      <td>2000</td>\n",
       "      <td>3</td>\n",
       "      <td>4</td>\n",
       "      <td>5</td>\n",
       "      <td>210</td>\n",
       "      <td>1165</td>\n",
       "      <td>1</td>\n",
       "      <td>1</td>\n",
       "      <td>3</td>\n",
       "      <td>1</td>\n",
       "      <td>1</td>\n",
       "      <td>1</td>\n",
       "      <td>0</td>\n",
       "      <td>0</td>\n",
       "      <td>1</td>\n",
       "      <td>0</td>\n",
       "      <td>0</td>\n",
       "      <td>0</td>\n",
       "      <td>1</td>\n",
       "      <td>0</td>\n",
       "      <td>0</td>\n",
       "      <td>0</td>\n",
       "      <td>1</td>\n",
       "      <td>0</td>\n",
       "      <td>0</td>\n",
       "      <td>0</td>\n",
       "      <td>0</td>\n",
       "    </tr>\n",
       "    <tr>\n",
       "      <th>3</th>\n",
       "      <td>4</td>\n",
       "      <td>TOYOTA Corolla 2.0 D4D HATCHB TERRA 2/3-Doors</td>\n",
       "      <td>14950</td>\n",
       "      <td>26</td>\n",
       "      <td>July</td>\n",
       "      <td>2002</td>\n",
       "      <td>48000</td>\n",
       "      <td>Diesel</td>\n",
       "      <td>90</td>\n",
       "      <td>0</td>\n",
       "      <td>Black</td>\n",
       "      <td>0</td>\n",
       "      <td>2000</td>\n",
       "      <td>3</td>\n",
       "      <td>4</td>\n",
       "      <td>5</td>\n",
       "      <td>210</td>\n",
       "      <td>1165</td>\n",
       "      <td>1</td>\n",
       "      <td>1</td>\n",
       "      <td>3</td>\n",
       "      <td>1</td>\n",
       "      <td>1</td>\n",
       "      <td>1</td>\n",
       "      <td>0</td>\n",
       "      <td>0</td>\n",
       "      <td>1</td>\n",
       "      <td>0</td>\n",
       "      <td>0</td>\n",
       "      <td>0</td>\n",
       "      <td>1</td>\n",
       "      <td>0</td>\n",
       "      <td>0</td>\n",
       "      <td>0</td>\n",
       "      <td>1</td>\n",
       "      <td>0</td>\n",
       "      <td>0</td>\n",
       "      <td>0</td>\n",
       "      <td>0</td>\n",
       "    </tr>\n",
       "    <tr>\n",
       "      <th>4</th>\n",
       "      <td>5</td>\n",
       "      <td>TOYOTA Corolla 2.0 D4D HATCHB SOL 2/3-Doors</td>\n",
       "      <td>13750</td>\n",
       "      <td>30</td>\n",
       "      <td>March</td>\n",
       "      <td>2002</td>\n",
       "      <td>38500</td>\n",
       "      <td>Diesel</td>\n",
       "      <td>90</td>\n",
       "      <td>0</td>\n",
       "      <td>Black</td>\n",
       "      <td>0</td>\n",
       "      <td>2000</td>\n",
       "      <td>3</td>\n",
       "      <td>4</td>\n",
       "      <td>5</td>\n",
       "      <td>210</td>\n",
       "      <td>1170</td>\n",
       "      <td>1</td>\n",
       "      <td>1</td>\n",
       "      <td>3</td>\n",
       "      <td>1</td>\n",
       "      <td>1</td>\n",
       "      <td>1</td>\n",
       "      <td>1</td>\n",
       "      <td>0</td>\n",
       "      <td>1</td>\n",
       "      <td>0</td>\n",
       "      <td>1</td>\n",
       "      <td>1</td>\n",
       "      <td>1</td>\n",
       "      <td>0</td>\n",
       "      <td>1</td>\n",
       "      <td>0</td>\n",
       "      <td>1</td>\n",
       "      <td>0</td>\n",
       "      <td>0</td>\n",
       "      <td>0</td>\n",
       "      <td>0</td>\n",
       "    </tr>\n",
       "    <tr>\n",
       "      <th>...</th>\n",
       "      <td>...</td>\n",
       "      <td>...</td>\n",
       "      <td>...</td>\n",
       "      <td>...</td>\n",
       "      <td>...</td>\n",
       "      <td>...</td>\n",
       "      <td>...</td>\n",
       "      <td>...</td>\n",
       "      <td>...</td>\n",
       "      <td>...</td>\n",
       "      <td>...</td>\n",
       "      <td>...</td>\n",
       "      <td>...</td>\n",
       "      <td>...</td>\n",
       "      <td>...</td>\n",
       "      <td>...</td>\n",
       "      <td>...</td>\n",
       "      <td>...</td>\n",
       "      <td>...</td>\n",
       "      <td>...</td>\n",
       "      <td>...</td>\n",
       "      <td>...</td>\n",
       "      <td>...</td>\n",
       "      <td>...</td>\n",
       "      <td>...</td>\n",
       "      <td>...</td>\n",
       "      <td>...</td>\n",
       "      <td>...</td>\n",
       "      <td>...</td>\n",
       "      <td>...</td>\n",
       "      <td>...</td>\n",
       "      <td>...</td>\n",
       "      <td>...</td>\n",
       "      <td>...</td>\n",
       "      <td>...</td>\n",
       "      <td>...</td>\n",
       "      <td>...</td>\n",
       "      <td>...</td>\n",
       "      <td>...</td>\n",
       "    </tr>\n",
       "    <tr>\n",
       "      <th>1420</th>\n",
       "      <td>1438</td>\n",
       "      <td>TOYOTA Corolla 1.3 16V HATCHB G6 2/3-Doors</td>\n",
       "      <td>7500</td>\n",
       "      <td>69</td>\n",
       "      <td>December</td>\n",
       "      <td>1998</td>\n",
       "      <td>20544</td>\n",
       "      <td>Petrol</td>\n",
       "      <td>86</td>\n",
       "      <td>1</td>\n",
       "      <td>Blue</td>\n",
       "      <td>0</td>\n",
       "      <td>1300</td>\n",
       "      <td>3</td>\n",
       "      <td>4</td>\n",
       "      <td>5</td>\n",
       "      <td>69</td>\n",
       "      <td>1025</td>\n",
       "      <td>1</td>\n",
       "      <td>1</td>\n",
       "      <td>3</td>\n",
       "      <td>1</td>\n",
       "      <td>1</td>\n",
       "      <td>1</td>\n",
       "      <td>1</td>\n",
       "      <td>0</td>\n",
       "      <td>0</td>\n",
       "      <td>0</td>\n",
       "      <td>1</td>\n",
       "      <td>1</td>\n",
       "      <td>1</td>\n",
       "      <td>0</td>\n",
       "      <td>1</td>\n",
       "      <td>1</td>\n",
       "      <td>1</td>\n",
       "      <td>0</td>\n",
       "      <td>0</td>\n",
       "      <td>0</td>\n",
       "      <td>0</td>\n",
       "    </tr>\n",
       "    <tr>\n",
       "      <th>1421</th>\n",
       "      <td>1439</td>\n",
       "      <td>TOYOTA Corolla 1.3 16V HATCHB LINEA TERRA 2/3-...</td>\n",
       "      <td>10845</td>\n",
       "      <td>72</td>\n",
       "      <td>September</td>\n",
       "      <td>1998</td>\n",
       "      <td>19000</td>\n",
       "      <td>Petrol</td>\n",
       "      <td>86</td>\n",
       "      <td>0</td>\n",
       "      <td>Grey</td>\n",
       "      <td>0</td>\n",
       "      <td>1300</td>\n",
       "      <td>3</td>\n",
       "      <td>4</td>\n",
       "      <td>5</td>\n",
       "      <td>69</td>\n",
       "      <td>1015</td>\n",
       "      <td>0</td>\n",
       "      <td>1</td>\n",
       "      <td>3</td>\n",
       "      <td>1</td>\n",
       "      <td>1</td>\n",
       "      <td>1</td>\n",
       "      <td>0</td>\n",
       "      <td>0</td>\n",
       "      <td>0</td>\n",
       "      <td>0</td>\n",
       "      <td>0</td>\n",
       "      <td>0</td>\n",
       "      <td>1</td>\n",
       "      <td>0</td>\n",
       "      <td>0</td>\n",
       "      <td>1</td>\n",
       "      <td>1</td>\n",
       "      <td>0</td>\n",
       "      <td>0</td>\n",
       "      <td>0</td>\n",
       "      <td>0</td>\n",
       "    </tr>\n",
       "    <tr>\n",
       "      <th>1422</th>\n",
       "      <td>1440</td>\n",
       "      <td>TOYOTA Corolla 1.3 16V HATCHB LINEA TERRA 2/3-...</td>\n",
       "      <td>8500</td>\n",
       "      <td>71</td>\n",
       "      <td>October</td>\n",
       "      <td>1998</td>\n",
       "      <td>17016</td>\n",
       "      <td>Petrol</td>\n",
       "      <td>86</td>\n",
       "      <td>0</td>\n",
       "      <td>Blue</td>\n",
       "      <td>0</td>\n",
       "      <td>1300</td>\n",
       "      <td>3</td>\n",
       "      <td>4</td>\n",
       "      <td>5</td>\n",
       "      <td>69</td>\n",
       "      <td>1015</td>\n",
       "      <td>0</td>\n",
       "      <td>1</td>\n",
       "      <td>3</td>\n",
       "      <td>0</td>\n",
       "      <td>1</td>\n",
       "      <td>1</td>\n",
       "      <td>0</td>\n",
       "      <td>0</td>\n",
       "      <td>0</td>\n",
       "      <td>0</td>\n",
       "      <td>0</td>\n",
       "      <td>0</td>\n",
       "      <td>1</td>\n",
       "      <td>0</td>\n",
       "      <td>0</td>\n",
       "      <td>0</td>\n",
       "      <td>1</td>\n",
       "      <td>0</td>\n",
       "      <td>0</td>\n",
       "      <td>0</td>\n",
       "      <td>0</td>\n",
       "    </tr>\n",
       "    <tr>\n",
       "      <th>1423</th>\n",
       "      <td>1441</td>\n",
       "      <td>TOYOTA Corolla 1.3 16V HATCHB LINEA TERRA 2/3-...</td>\n",
       "      <td>7250</td>\n",
       "      <td>70</td>\n",
       "      <td>November</td>\n",
       "      <td>1998</td>\n",
       "      <td>16916</td>\n",
       "      <td>Petrol</td>\n",
       "      <td>86</td>\n",
       "      <td>1</td>\n",
       "      <td>Grey</td>\n",
       "      <td>0</td>\n",
       "      <td>1300</td>\n",
       "      <td>3</td>\n",
       "      <td>4</td>\n",
       "      <td>5</td>\n",
       "      <td>69</td>\n",
       "      <td>1015</td>\n",
       "      <td>1</td>\n",
       "      <td>1</td>\n",
       "      <td>3</td>\n",
       "      <td>0</td>\n",
       "      <td>0</td>\n",
       "      <td>0</td>\n",
       "      <td>0</td>\n",
       "      <td>0</td>\n",
       "      <td>0</td>\n",
       "      <td>0</td>\n",
       "      <td>0</td>\n",
       "      <td>0</td>\n",
       "      <td>0</td>\n",
       "      <td>0</td>\n",
       "      <td>0</td>\n",
       "      <td>0</td>\n",
       "      <td>1</td>\n",
       "      <td>0</td>\n",
       "      <td>0</td>\n",
       "      <td>0</td>\n",
       "      <td>0</td>\n",
       "    </tr>\n",
       "    <tr>\n",
       "      <th>1424</th>\n",
       "      <td>1442</td>\n",
       "      <td>TOYOTA Corolla 1.6 LB LINEA TERRA 4/5-Doors</td>\n",
       "      <td>6950</td>\n",
       "      <td>76</td>\n",
       "      <td>May</td>\n",
       "      <td>1998</td>\n",
       "      <td>1</td>\n",
       "      <td>Petrol</td>\n",
       "      <td>110</td>\n",
       "      <td>0</td>\n",
       "      <td>Green</td>\n",
       "      <td>0</td>\n",
       "      <td>1600</td>\n",
       "      <td>5</td>\n",
       "      <td>4</td>\n",
       "      <td>5</td>\n",
       "      <td>19</td>\n",
       "      <td>1114</td>\n",
       "      <td>0</td>\n",
       "      <td>0</td>\n",
       "      <td>3</td>\n",
       "      <td>0</td>\n",
       "      <td>1</td>\n",
       "      <td>0</td>\n",
       "      <td>0</td>\n",
       "      <td>0</td>\n",
       "      <td>0</td>\n",
       "      <td>0</td>\n",
       "      <td>0</td>\n",
       "      <td>0</td>\n",
       "      <td>1</td>\n",
       "      <td>0</td>\n",
       "      <td>0</td>\n",
       "      <td>0</td>\n",
       "      <td>0</td>\n",
       "      <td>0</td>\n",
       "      <td>0</td>\n",
       "      <td>0</td>\n",
       "      <td>0</td>\n",
       "    </tr>\n",
       "  </tbody>\n",
       "</table>\n",
       "<p>1425 rows × 39 columns</p>\n",
       "</div>"
      ],
      "text/plain": [
       "        Id  ... Tow_Bar\n",
       "0        1  ...       0\n",
       "1        2  ...       0\n",
       "2        3  ...       0\n",
       "3        4  ...       0\n",
       "4        5  ...       0\n",
       "...    ...  ...     ...\n",
       "1420  1438  ...       0\n",
       "1421  1439  ...       0\n",
       "1422  1440  ...       0\n",
       "1423  1441  ...       0\n",
       "1424  1442  ...       0\n",
       "\n",
       "[1425 rows x 39 columns]"
      ]
     },
     "execution_count": 3,
     "metadata": {
      "tags": []
     },
     "output_type": "execute_result"
    }
   ],
   "source": [
    "main = df\n",
    "main"
   ]
  },
  {
   "cell_type": "markdown",
   "metadata": {
    "id": "nTdiDZW8mtuh"
   },
   "source": [
    "### 3) Splitting the Main Dataset to X - Features and Y - Target\n",
    "##### We are first splitting the datasets to X and Y because we want to introduce NaN values only to the feature dataset"
   ]
  },
  {
   "cell_type": "code",
   "execution_count": 4,
   "metadata": {
    "colab": {
     "base_uri": "https://localhost:8080/",
     "height": 1000
    },
    "id": "7w6bXNBTmtuh",
    "outputId": "d9342080-784b-4a67-f1f0-a6ac533fba65"
   },
   "outputs": [
    {
     "data": {
      "text/html": [
       "<div>\n",
       "<style scoped>\n",
       "    .dataframe tbody tr th:only-of-type {\n",
       "        vertical-align: middle;\n",
       "    }\n",
       "\n",
       "    .dataframe tbody tr th {\n",
       "        vertical-align: top;\n",
       "    }\n",
       "\n",
       "    .dataframe thead th {\n",
       "        text-align: right;\n",
       "    }\n",
       "</style>\n",
       "<table border=\"1\" class=\"dataframe\">\n",
       "  <thead>\n",
       "    <tr style=\"text-align: right;\">\n",
       "      <th></th>\n",
       "      <th>Id</th>\n",
       "      <th>Model</th>\n",
       "      <th>Age_08_04</th>\n",
       "      <th>Mfg_Month</th>\n",
       "      <th>Mfg_Year</th>\n",
       "      <th>KM</th>\n",
       "      <th>Fuel_Type</th>\n",
       "      <th>HP</th>\n",
       "      <th>Met_Color</th>\n",
       "      <th>Color</th>\n",
       "      <th>Automatic</th>\n",
       "      <th>CC</th>\n",
       "      <th>Doors</th>\n",
       "      <th>Cylinders</th>\n",
       "      <th>Gears</th>\n",
       "      <th>Quarterly_Tax</th>\n",
       "      <th>Weight</th>\n",
       "      <th>Mfr_Guarantee</th>\n",
       "      <th>BOVAG_Guarantee</th>\n",
       "      <th>Guarantee_Period</th>\n",
       "      <th>ABS</th>\n",
       "      <th>Airbag_1</th>\n",
       "      <th>Airbag_2</th>\n",
       "      <th>Airco</th>\n",
       "      <th>Automatic_airco</th>\n",
       "      <th>Boardcomputer</th>\n",
       "      <th>CD_Player</th>\n",
       "      <th>Central_Lock</th>\n",
       "      <th>Powered_Windows</th>\n",
       "      <th>Power_Steering</th>\n",
       "      <th>Radio</th>\n",
       "      <th>Mistlamps</th>\n",
       "      <th>Sport_Model</th>\n",
       "      <th>Backseat_Divider</th>\n",
       "      <th>Metallic_Rim</th>\n",
       "      <th>Radio_cassette</th>\n",
       "      <th>Parking_Assistant</th>\n",
       "      <th>Tow_Bar</th>\n",
       "    </tr>\n",
       "  </thead>\n",
       "  <tbody>\n",
       "    <tr>\n",
       "      <th>0</th>\n",
       "      <td>1</td>\n",
       "      <td>TOYOTA Corolla 2.0 D4D HATCHB TERRA 2/3-Doors</td>\n",
       "      <td>23</td>\n",
       "      <td>October</td>\n",
       "      <td>2002</td>\n",
       "      <td>46986</td>\n",
       "      <td>Diesel</td>\n",
       "      <td>90</td>\n",
       "      <td>1</td>\n",
       "      <td>Blue</td>\n",
       "      <td>0</td>\n",
       "      <td>2000</td>\n",
       "      <td>3</td>\n",
       "      <td>4</td>\n",
       "      <td>5</td>\n",
       "      <td>210</td>\n",
       "      <td>1165</td>\n",
       "      <td>0</td>\n",
       "      <td>1</td>\n",
       "      <td>3</td>\n",
       "      <td>1</td>\n",
       "      <td>1</td>\n",
       "      <td>1</td>\n",
       "      <td>0</td>\n",
       "      <td>0</td>\n",
       "      <td>1</td>\n",
       "      <td>0</td>\n",
       "      <td>1</td>\n",
       "      <td>1</td>\n",
       "      <td>1</td>\n",
       "      <td>0</td>\n",
       "      <td>0</td>\n",
       "      <td>0</td>\n",
       "      <td>1</td>\n",
       "      <td>0</td>\n",
       "      <td>0</td>\n",
       "      <td>0</td>\n",
       "      <td>0</td>\n",
       "    </tr>\n",
       "    <tr>\n",
       "      <th>1</th>\n",
       "      <td>2</td>\n",
       "      <td>TOYOTA Corolla 2.0 D4D HATCHB TERRA 2/3-Doors</td>\n",
       "      <td>23</td>\n",
       "      <td>October</td>\n",
       "      <td>2002</td>\n",
       "      <td>72937</td>\n",
       "      <td>Diesel</td>\n",
       "      <td>90</td>\n",
       "      <td>1</td>\n",
       "      <td>Silver</td>\n",
       "      <td>0</td>\n",
       "      <td>2000</td>\n",
       "      <td>3</td>\n",
       "      <td>4</td>\n",
       "      <td>5</td>\n",
       "      <td>210</td>\n",
       "      <td>1165</td>\n",
       "      <td>0</td>\n",
       "      <td>1</td>\n",
       "      <td>3</td>\n",
       "      <td>1</td>\n",
       "      <td>1</td>\n",
       "      <td>1</td>\n",
       "      <td>1</td>\n",
       "      <td>0</td>\n",
       "      <td>1</td>\n",
       "      <td>1</td>\n",
       "      <td>1</td>\n",
       "      <td>0</td>\n",
       "      <td>1</td>\n",
       "      <td>0</td>\n",
       "      <td>0</td>\n",
       "      <td>0</td>\n",
       "      <td>1</td>\n",
       "      <td>0</td>\n",
       "      <td>0</td>\n",
       "      <td>0</td>\n",
       "      <td>0</td>\n",
       "    </tr>\n",
       "    <tr>\n",
       "      <th>2</th>\n",
       "      <td>3</td>\n",
       "      <td>TOYOTA Corolla 2.0 D4D HATCHB TERRA 2/3-Doors</td>\n",
       "      <td>24</td>\n",
       "      <td>September</td>\n",
       "      <td>2002</td>\n",
       "      <td>41711</td>\n",
       "      <td>Diesel</td>\n",
       "      <td>90</td>\n",
       "      <td>1</td>\n",
       "      <td>Blue</td>\n",
       "      <td>0</td>\n",
       "      <td>2000</td>\n",
       "      <td>3</td>\n",
       "      <td>4</td>\n",
       "      <td>5</td>\n",
       "      <td>210</td>\n",
       "      <td>1165</td>\n",
       "      <td>1</td>\n",
       "      <td>1</td>\n",
       "      <td>3</td>\n",
       "      <td>1</td>\n",
       "      <td>1</td>\n",
       "      <td>1</td>\n",
       "      <td>0</td>\n",
       "      <td>0</td>\n",
       "      <td>1</td>\n",
       "      <td>0</td>\n",
       "      <td>0</td>\n",
       "      <td>0</td>\n",
       "      <td>1</td>\n",
       "      <td>0</td>\n",
       "      <td>0</td>\n",
       "      <td>0</td>\n",
       "      <td>1</td>\n",
       "      <td>0</td>\n",
       "      <td>0</td>\n",
       "      <td>0</td>\n",
       "      <td>0</td>\n",
       "    </tr>\n",
       "    <tr>\n",
       "      <th>3</th>\n",
       "      <td>4</td>\n",
       "      <td>TOYOTA Corolla 2.0 D4D HATCHB TERRA 2/3-Doors</td>\n",
       "      <td>26</td>\n",
       "      <td>July</td>\n",
       "      <td>2002</td>\n",
       "      <td>48000</td>\n",
       "      <td>Diesel</td>\n",
       "      <td>90</td>\n",
       "      <td>0</td>\n",
       "      <td>Black</td>\n",
       "      <td>0</td>\n",
       "      <td>2000</td>\n",
       "      <td>3</td>\n",
       "      <td>4</td>\n",
       "      <td>5</td>\n",
       "      <td>210</td>\n",
       "      <td>1165</td>\n",
       "      <td>1</td>\n",
       "      <td>1</td>\n",
       "      <td>3</td>\n",
       "      <td>1</td>\n",
       "      <td>1</td>\n",
       "      <td>1</td>\n",
       "      <td>0</td>\n",
       "      <td>0</td>\n",
       "      <td>1</td>\n",
       "      <td>0</td>\n",
       "      <td>0</td>\n",
       "      <td>0</td>\n",
       "      <td>1</td>\n",
       "      <td>0</td>\n",
       "      <td>0</td>\n",
       "      <td>0</td>\n",
       "      <td>1</td>\n",
       "      <td>0</td>\n",
       "      <td>0</td>\n",
       "      <td>0</td>\n",
       "      <td>0</td>\n",
       "    </tr>\n",
       "    <tr>\n",
       "      <th>4</th>\n",
       "      <td>5</td>\n",
       "      <td>TOYOTA Corolla 2.0 D4D HATCHB SOL 2/3-Doors</td>\n",
       "      <td>30</td>\n",
       "      <td>March</td>\n",
       "      <td>2002</td>\n",
       "      <td>38500</td>\n",
       "      <td>Diesel</td>\n",
       "      <td>90</td>\n",
       "      <td>0</td>\n",
       "      <td>Black</td>\n",
       "      <td>0</td>\n",
       "      <td>2000</td>\n",
       "      <td>3</td>\n",
       "      <td>4</td>\n",
       "      <td>5</td>\n",
       "      <td>210</td>\n",
       "      <td>1170</td>\n",
       "      <td>1</td>\n",
       "      <td>1</td>\n",
       "      <td>3</td>\n",
       "      <td>1</td>\n",
       "      <td>1</td>\n",
       "      <td>1</td>\n",
       "      <td>1</td>\n",
       "      <td>0</td>\n",
       "      <td>1</td>\n",
       "      <td>0</td>\n",
       "      <td>1</td>\n",
       "      <td>1</td>\n",
       "      <td>1</td>\n",
       "      <td>0</td>\n",
       "      <td>1</td>\n",
       "      <td>0</td>\n",
       "      <td>1</td>\n",
       "      <td>0</td>\n",
       "      <td>0</td>\n",
       "      <td>0</td>\n",
       "      <td>0</td>\n",
       "    </tr>\n",
       "    <tr>\n",
       "      <th>...</th>\n",
       "      <td>...</td>\n",
       "      <td>...</td>\n",
       "      <td>...</td>\n",
       "      <td>...</td>\n",
       "      <td>...</td>\n",
       "      <td>...</td>\n",
       "      <td>...</td>\n",
       "      <td>...</td>\n",
       "      <td>...</td>\n",
       "      <td>...</td>\n",
       "      <td>...</td>\n",
       "      <td>...</td>\n",
       "      <td>...</td>\n",
       "      <td>...</td>\n",
       "      <td>...</td>\n",
       "      <td>...</td>\n",
       "      <td>...</td>\n",
       "      <td>...</td>\n",
       "      <td>...</td>\n",
       "      <td>...</td>\n",
       "      <td>...</td>\n",
       "      <td>...</td>\n",
       "      <td>...</td>\n",
       "      <td>...</td>\n",
       "      <td>...</td>\n",
       "      <td>...</td>\n",
       "      <td>...</td>\n",
       "      <td>...</td>\n",
       "      <td>...</td>\n",
       "      <td>...</td>\n",
       "      <td>...</td>\n",
       "      <td>...</td>\n",
       "      <td>...</td>\n",
       "      <td>...</td>\n",
       "      <td>...</td>\n",
       "      <td>...</td>\n",
       "      <td>...</td>\n",
       "      <td>...</td>\n",
       "    </tr>\n",
       "    <tr>\n",
       "      <th>1420</th>\n",
       "      <td>1438</td>\n",
       "      <td>TOYOTA Corolla 1.3 16V HATCHB G6 2/3-Doors</td>\n",
       "      <td>69</td>\n",
       "      <td>December</td>\n",
       "      <td>1998</td>\n",
       "      <td>20544</td>\n",
       "      <td>Petrol</td>\n",
       "      <td>86</td>\n",
       "      <td>1</td>\n",
       "      <td>Blue</td>\n",
       "      <td>0</td>\n",
       "      <td>1300</td>\n",
       "      <td>3</td>\n",
       "      <td>4</td>\n",
       "      <td>5</td>\n",
       "      <td>69</td>\n",
       "      <td>1025</td>\n",
       "      <td>1</td>\n",
       "      <td>1</td>\n",
       "      <td>3</td>\n",
       "      <td>1</td>\n",
       "      <td>1</td>\n",
       "      <td>1</td>\n",
       "      <td>1</td>\n",
       "      <td>0</td>\n",
       "      <td>0</td>\n",
       "      <td>0</td>\n",
       "      <td>1</td>\n",
       "      <td>1</td>\n",
       "      <td>1</td>\n",
       "      <td>0</td>\n",
       "      <td>1</td>\n",
       "      <td>1</td>\n",
       "      <td>1</td>\n",
       "      <td>0</td>\n",
       "      <td>0</td>\n",
       "      <td>0</td>\n",
       "      <td>0</td>\n",
       "    </tr>\n",
       "    <tr>\n",
       "      <th>1421</th>\n",
       "      <td>1439</td>\n",
       "      <td>TOYOTA Corolla 1.3 16V HATCHB LINEA TERRA 2/3-...</td>\n",
       "      <td>72</td>\n",
       "      <td>September</td>\n",
       "      <td>1998</td>\n",
       "      <td>19000</td>\n",
       "      <td>Petrol</td>\n",
       "      <td>86</td>\n",
       "      <td>0</td>\n",
       "      <td>Grey</td>\n",
       "      <td>0</td>\n",
       "      <td>1300</td>\n",
       "      <td>3</td>\n",
       "      <td>4</td>\n",
       "      <td>5</td>\n",
       "      <td>69</td>\n",
       "      <td>1015</td>\n",
       "      <td>0</td>\n",
       "      <td>1</td>\n",
       "      <td>3</td>\n",
       "      <td>1</td>\n",
       "      <td>1</td>\n",
       "      <td>1</td>\n",
       "      <td>0</td>\n",
       "      <td>0</td>\n",
       "      <td>0</td>\n",
       "      <td>0</td>\n",
       "      <td>0</td>\n",
       "      <td>0</td>\n",
       "      <td>1</td>\n",
       "      <td>0</td>\n",
       "      <td>0</td>\n",
       "      <td>1</td>\n",
       "      <td>1</td>\n",
       "      <td>0</td>\n",
       "      <td>0</td>\n",
       "      <td>0</td>\n",
       "      <td>0</td>\n",
       "    </tr>\n",
       "    <tr>\n",
       "      <th>1422</th>\n",
       "      <td>1440</td>\n",
       "      <td>TOYOTA Corolla 1.3 16V HATCHB LINEA TERRA 2/3-...</td>\n",
       "      <td>71</td>\n",
       "      <td>October</td>\n",
       "      <td>1998</td>\n",
       "      <td>17016</td>\n",
       "      <td>Petrol</td>\n",
       "      <td>86</td>\n",
       "      <td>0</td>\n",
       "      <td>Blue</td>\n",
       "      <td>0</td>\n",
       "      <td>1300</td>\n",
       "      <td>3</td>\n",
       "      <td>4</td>\n",
       "      <td>5</td>\n",
       "      <td>69</td>\n",
       "      <td>1015</td>\n",
       "      <td>0</td>\n",
       "      <td>1</td>\n",
       "      <td>3</td>\n",
       "      <td>0</td>\n",
       "      <td>1</td>\n",
       "      <td>1</td>\n",
       "      <td>0</td>\n",
       "      <td>0</td>\n",
       "      <td>0</td>\n",
       "      <td>0</td>\n",
       "      <td>0</td>\n",
       "      <td>0</td>\n",
       "      <td>1</td>\n",
       "      <td>0</td>\n",
       "      <td>0</td>\n",
       "      <td>0</td>\n",
       "      <td>1</td>\n",
       "      <td>0</td>\n",
       "      <td>0</td>\n",
       "      <td>0</td>\n",
       "      <td>0</td>\n",
       "    </tr>\n",
       "    <tr>\n",
       "      <th>1423</th>\n",
       "      <td>1441</td>\n",
       "      <td>TOYOTA Corolla 1.3 16V HATCHB LINEA TERRA 2/3-...</td>\n",
       "      <td>70</td>\n",
       "      <td>November</td>\n",
       "      <td>1998</td>\n",
       "      <td>16916</td>\n",
       "      <td>Petrol</td>\n",
       "      <td>86</td>\n",
       "      <td>1</td>\n",
       "      <td>Grey</td>\n",
       "      <td>0</td>\n",
       "      <td>1300</td>\n",
       "      <td>3</td>\n",
       "      <td>4</td>\n",
       "      <td>5</td>\n",
       "      <td>69</td>\n",
       "      <td>1015</td>\n",
       "      <td>1</td>\n",
       "      <td>1</td>\n",
       "      <td>3</td>\n",
       "      <td>0</td>\n",
       "      <td>0</td>\n",
       "      <td>0</td>\n",
       "      <td>0</td>\n",
       "      <td>0</td>\n",
       "      <td>0</td>\n",
       "      <td>0</td>\n",
       "      <td>0</td>\n",
       "      <td>0</td>\n",
       "      <td>0</td>\n",
       "      <td>0</td>\n",
       "      <td>0</td>\n",
       "      <td>0</td>\n",
       "      <td>1</td>\n",
       "      <td>0</td>\n",
       "      <td>0</td>\n",
       "      <td>0</td>\n",
       "      <td>0</td>\n",
       "    </tr>\n",
       "    <tr>\n",
       "      <th>1424</th>\n",
       "      <td>1442</td>\n",
       "      <td>TOYOTA Corolla 1.6 LB LINEA TERRA 4/5-Doors</td>\n",
       "      <td>76</td>\n",
       "      <td>May</td>\n",
       "      <td>1998</td>\n",
       "      <td>1</td>\n",
       "      <td>Petrol</td>\n",
       "      <td>110</td>\n",
       "      <td>0</td>\n",
       "      <td>Green</td>\n",
       "      <td>0</td>\n",
       "      <td>1600</td>\n",
       "      <td>5</td>\n",
       "      <td>4</td>\n",
       "      <td>5</td>\n",
       "      <td>19</td>\n",
       "      <td>1114</td>\n",
       "      <td>0</td>\n",
       "      <td>0</td>\n",
       "      <td>3</td>\n",
       "      <td>0</td>\n",
       "      <td>1</td>\n",
       "      <td>0</td>\n",
       "      <td>0</td>\n",
       "      <td>0</td>\n",
       "      <td>0</td>\n",
       "      <td>0</td>\n",
       "      <td>0</td>\n",
       "      <td>0</td>\n",
       "      <td>1</td>\n",
       "      <td>0</td>\n",
       "      <td>0</td>\n",
       "      <td>0</td>\n",
       "      <td>0</td>\n",
       "      <td>0</td>\n",
       "      <td>0</td>\n",
       "      <td>0</td>\n",
       "      <td>0</td>\n",
       "    </tr>\n",
       "  </tbody>\n",
       "</table>\n",
       "<p>1425 rows × 38 columns</p>\n",
       "</div>"
      ],
      "text/plain": [
       "        Id  ... Tow_Bar\n",
       "0        1  ...       0\n",
       "1        2  ...       0\n",
       "2        3  ...       0\n",
       "3        4  ...       0\n",
       "4        5  ...       0\n",
       "...    ...  ...     ...\n",
       "1420  1438  ...       0\n",
       "1421  1439  ...       0\n",
       "1422  1440  ...       0\n",
       "1423  1441  ...       0\n",
       "1424  1442  ...       0\n",
       "\n",
       "[1425 rows x 38 columns]"
      ]
     },
     "execution_count": 4,
     "metadata": {
      "tags": []
     },
     "output_type": "execute_result"
    }
   ],
   "source": [
    "# Y - Target Dataset\n",
    "Y = main['Price']\n",
    "Y\n",
    "\n",
    "#X - Feature Dataset\n",
    "X = main\n",
    "X.drop(columns = ['Price'], axis =1, inplace=True)\n",
    "X"
   ]
  },
  {
   "cell_type": "markdown",
   "metadata": {
    "id": "xuY9aF3Cmtuh"
   },
   "source": [
    "### 4) Since the dataset is complete, we randomly insert 5-10% NaN values. \n",
    "#### Replace about 5 percent of the feature data with NaN values using np.random.random"
   ]
  },
  {
   "cell_type": "code",
   "execution_count": 5,
   "metadata": {
    "id": "RsXKdiTgmtuh"
   },
   "outputs": [],
   "source": [
    "np.random.seed(0)\n",
    "X = X.mask(np.random.random(X.shape) < .05)"
   ]
  },
  {
   "cell_type": "markdown",
   "metadata": {
    "id": "yh_C5WDCmtui"
   },
   "source": [
    "### 5) Test what percentage of data is missing\n",
    "#### Below the code shows that only 95% of Data is available and the rest 5% is NaN values as we intended it to be"
   ]
  },
  {
   "cell_type": "code",
   "execution_count": 6,
   "metadata": {
    "colab": {
     "base_uri": "https://localhost:8080/"
    },
    "id": "0t9ohL3tmtui",
    "outputId": "e8dba291-73d2-4d90-e964-8e9086b3eb11"
   },
   "outputs": [
    {
     "name": "stdout",
     "output_type": "stream",
     "text": [
      "0.9493628808864266\n"
     ]
    }
   ],
   "source": [
    "val = 0\n",
    "for col in X.columns:\n",
    "    val += X[col].count()\n",
    "\n",
    "print(val / X.size )"
   ]
  },
  {
   "cell_type": "code",
   "execution_count": 7,
   "metadata": {
    "colab": {
     "base_uri": "https://localhost:8080/",
     "height": 1000
    },
    "id": "UPkKMnXVmtuj",
    "outputId": "9048b28d-7c0f-4b66-ac32-b89949aeca66"
   },
   "outputs": [
    {
     "data": {
      "text/html": [
       "<div>\n",
       "<style scoped>\n",
       "    .dataframe tbody tr th:only-of-type {\n",
       "        vertical-align: middle;\n",
       "    }\n",
       "\n",
       "    .dataframe tbody tr th {\n",
       "        vertical-align: top;\n",
       "    }\n",
       "\n",
       "    .dataframe thead th {\n",
       "        text-align: right;\n",
       "    }\n",
       "</style>\n",
       "<table border=\"1\" class=\"dataframe\">\n",
       "  <thead>\n",
       "    <tr style=\"text-align: right;\">\n",
       "      <th></th>\n",
       "      <th>Id</th>\n",
       "      <th>Model</th>\n",
       "      <th>Age_08_04</th>\n",
       "      <th>Mfg_Month</th>\n",
       "      <th>Mfg_Year</th>\n",
       "      <th>KM</th>\n",
       "      <th>Fuel_Type</th>\n",
       "      <th>HP</th>\n",
       "      <th>Met_Color</th>\n",
       "      <th>Color</th>\n",
       "      <th>Automatic</th>\n",
       "      <th>CC</th>\n",
       "      <th>Doors</th>\n",
       "      <th>Cylinders</th>\n",
       "      <th>Gears</th>\n",
       "      <th>Quarterly_Tax</th>\n",
       "      <th>Weight</th>\n",
       "      <th>Mfr_Guarantee</th>\n",
       "      <th>BOVAG_Guarantee</th>\n",
       "      <th>Guarantee_Period</th>\n",
       "      <th>ABS</th>\n",
       "      <th>Airbag_1</th>\n",
       "      <th>Airbag_2</th>\n",
       "      <th>Airco</th>\n",
       "      <th>Automatic_airco</th>\n",
       "      <th>Boardcomputer</th>\n",
       "      <th>CD_Player</th>\n",
       "      <th>Central_Lock</th>\n",
       "      <th>Powered_Windows</th>\n",
       "      <th>Power_Steering</th>\n",
       "      <th>Radio</th>\n",
       "      <th>Mistlamps</th>\n",
       "      <th>Sport_Model</th>\n",
       "      <th>Backseat_Divider</th>\n",
       "      <th>Metallic_Rim</th>\n",
       "      <th>Radio_cassette</th>\n",
       "      <th>Parking_Assistant</th>\n",
       "      <th>Tow_Bar</th>\n",
       "    </tr>\n",
       "  </thead>\n",
       "  <tbody>\n",
       "    <tr>\n",
       "      <th>0</th>\n",
       "      <td>1.0</td>\n",
       "      <td>TOYOTA Corolla 2.0 D4D HATCHB TERRA 2/3-Doors</td>\n",
       "      <td>23.0</td>\n",
       "      <td>October</td>\n",
       "      <td>2002.0</td>\n",
       "      <td>46986.0</td>\n",
       "      <td>Diesel</td>\n",
       "      <td>90.0</td>\n",
       "      <td>1.0</td>\n",
       "      <td>Blue</td>\n",
       "      <td>0.0</td>\n",
       "      <td>2000.0</td>\n",
       "      <td>3.0</td>\n",
       "      <td>4.0</td>\n",
       "      <td>5.0</td>\n",
       "      <td>210.0</td>\n",
       "      <td>NaN</td>\n",
       "      <td>0.0</td>\n",
       "      <td>1.0</td>\n",
       "      <td>3.0</td>\n",
       "      <td>1.0</td>\n",
       "      <td>1.0</td>\n",
       "      <td>1.0</td>\n",
       "      <td>0.0</td>\n",
       "      <td>0.0</td>\n",
       "      <td>1.0</td>\n",
       "      <td>0.0</td>\n",
       "      <td>1.0</td>\n",
       "      <td>1.0</td>\n",
       "      <td>1.0</td>\n",
       "      <td>0.0</td>\n",
       "      <td>0.0</td>\n",
       "      <td>0.0</td>\n",
       "      <td>1.0</td>\n",
       "      <td>NaN</td>\n",
       "      <td>0.0</td>\n",
       "      <td>0.0</td>\n",
       "      <td>0.0</td>\n",
       "    </tr>\n",
       "    <tr>\n",
       "      <th>1</th>\n",
       "      <td>2.0</td>\n",
       "      <td>TOYOTA Corolla 2.0 D4D HATCHB TERRA 2/3-Doors</td>\n",
       "      <td>23.0</td>\n",
       "      <td>October</td>\n",
       "      <td>2002.0</td>\n",
       "      <td>72937.0</td>\n",
       "      <td>Diesel</td>\n",
       "      <td>90.0</td>\n",
       "      <td>1.0</td>\n",
       "      <td>Silver</td>\n",
       "      <td>0.0</td>\n",
       "      <td>2000.0</td>\n",
       "      <td>3.0</td>\n",
       "      <td>4.0</td>\n",
       "      <td>5.0</td>\n",
       "      <td>210.0</td>\n",
       "      <td>1165.0</td>\n",
       "      <td>0.0</td>\n",
       "      <td>1.0</td>\n",
       "      <td>3.0</td>\n",
       "      <td>1.0</td>\n",
       "      <td>1.0</td>\n",
       "      <td>1.0</td>\n",
       "      <td>1.0</td>\n",
       "      <td>0.0</td>\n",
       "      <td>1.0</td>\n",
       "      <td>1.0</td>\n",
       "      <td>1.0</td>\n",
       "      <td>0.0</td>\n",
       "      <td>1.0</td>\n",
       "      <td>0.0</td>\n",
       "      <td>0.0</td>\n",
       "      <td>0.0</td>\n",
       "      <td>1.0</td>\n",
       "      <td>0.0</td>\n",
       "      <td>0.0</td>\n",
       "      <td>0.0</td>\n",
       "      <td>NaN</td>\n",
       "    </tr>\n",
       "    <tr>\n",
       "      <th>2</th>\n",
       "      <td>3.0</td>\n",
       "      <td>TOYOTA Corolla 2.0 D4D HATCHB TERRA 2/3-Doors</td>\n",
       "      <td>24.0</td>\n",
       "      <td>September</td>\n",
       "      <td>2002.0</td>\n",
       "      <td>41711.0</td>\n",
       "      <td>Diesel</td>\n",
       "      <td>90.0</td>\n",
       "      <td>1.0</td>\n",
       "      <td>Blue</td>\n",
       "      <td>0.0</td>\n",
       "      <td>2000.0</td>\n",
       "      <td>3.0</td>\n",
       "      <td>4.0</td>\n",
       "      <td>5.0</td>\n",
       "      <td>210.0</td>\n",
       "      <td>1165.0</td>\n",
       "      <td>1.0</td>\n",
       "      <td>1.0</td>\n",
       "      <td>3.0</td>\n",
       "      <td>1.0</td>\n",
       "      <td>NaN</td>\n",
       "      <td>1.0</td>\n",
       "      <td>NaN</td>\n",
       "      <td>0.0</td>\n",
       "      <td>1.0</td>\n",
       "      <td>0.0</td>\n",
       "      <td>0.0</td>\n",
       "      <td>0.0</td>\n",
       "      <td>1.0</td>\n",
       "      <td>0.0</td>\n",
       "      <td>0.0</td>\n",
       "      <td>0.0</td>\n",
       "      <td>1.0</td>\n",
       "      <td>0.0</td>\n",
       "      <td>0.0</td>\n",
       "      <td>0.0</td>\n",
       "      <td>0.0</td>\n",
       "    </tr>\n",
       "    <tr>\n",
       "      <th>3</th>\n",
       "      <td>4.0</td>\n",
       "      <td>TOYOTA Corolla 2.0 D4D HATCHB TERRA 2/3-Doors</td>\n",
       "      <td>26.0</td>\n",
       "      <td>July</td>\n",
       "      <td>2002.0</td>\n",
       "      <td>48000.0</td>\n",
       "      <td>Diesel</td>\n",
       "      <td>90.0</td>\n",
       "      <td>0.0</td>\n",
       "      <td>Black</td>\n",
       "      <td>0.0</td>\n",
       "      <td>2000.0</td>\n",
       "      <td>NaN</td>\n",
       "      <td>4.0</td>\n",
       "      <td>5.0</td>\n",
       "      <td>210.0</td>\n",
       "      <td>1165.0</td>\n",
       "      <td>1.0</td>\n",
       "      <td>1.0</td>\n",
       "      <td>3.0</td>\n",
       "      <td>1.0</td>\n",
       "      <td>1.0</td>\n",
       "      <td>1.0</td>\n",
       "      <td>0.0</td>\n",
       "      <td>0.0</td>\n",
       "      <td>1.0</td>\n",
       "      <td>0.0</td>\n",
       "      <td>0.0</td>\n",
       "      <td>0.0</td>\n",
       "      <td>1.0</td>\n",
       "      <td>0.0</td>\n",
       "      <td>0.0</td>\n",
       "      <td>0.0</td>\n",
       "      <td>1.0</td>\n",
       "      <td>0.0</td>\n",
       "      <td>0.0</td>\n",
       "      <td>0.0</td>\n",
       "      <td>0.0</td>\n",
       "    </tr>\n",
       "    <tr>\n",
       "      <th>4</th>\n",
       "      <td>5.0</td>\n",
       "      <td>TOYOTA Corolla 2.0 D4D HATCHB SOL 2/3-Doors</td>\n",
       "      <td>30.0</td>\n",
       "      <td>March</td>\n",
       "      <td>2002.0</td>\n",
       "      <td>38500.0</td>\n",
       "      <td>Diesel</td>\n",
       "      <td>90.0</td>\n",
       "      <td>0.0</td>\n",
       "      <td>Black</td>\n",
       "      <td>0.0</td>\n",
       "      <td>2000.0</td>\n",
       "      <td>3.0</td>\n",
       "      <td>4.0</td>\n",
       "      <td>NaN</td>\n",
       "      <td>210.0</td>\n",
       "      <td>1170.0</td>\n",
       "      <td>1.0</td>\n",
       "      <td>1.0</td>\n",
       "      <td>3.0</td>\n",
       "      <td>1.0</td>\n",
       "      <td>NaN</td>\n",
       "      <td>1.0</td>\n",
       "      <td>1.0</td>\n",
       "      <td>0.0</td>\n",
       "      <td>1.0</td>\n",
       "      <td>0.0</td>\n",
       "      <td>NaN</td>\n",
       "      <td>1.0</td>\n",
       "      <td>1.0</td>\n",
       "      <td>0.0</td>\n",
       "      <td>1.0</td>\n",
       "      <td>0.0</td>\n",
       "      <td>1.0</td>\n",
       "      <td>0.0</td>\n",
       "      <td>0.0</td>\n",
       "      <td>0.0</td>\n",
       "      <td>0.0</td>\n",
       "    </tr>\n",
       "    <tr>\n",
       "      <th>...</th>\n",
       "      <td>...</td>\n",
       "      <td>...</td>\n",
       "      <td>...</td>\n",
       "      <td>...</td>\n",
       "      <td>...</td>\n",
       "      <td>...</td>\n",
       "      <td>...</td>\n",
       "      <td>...</td>\n",
       "      <td>...</td>\n",
       "      <td>...</td>\n",
       "      <td>...</td>\n",
       "      <td>...</td>\n",
       "      <td>...</td>\n",
       "      <td>...</td>\n",
       "      <td>...</td>\n",
       "      <td>...</td>\n",
       "      <td>...</td>\n",
       "      <td>...</td>\n",
       "      <td>...</td>\n",
       "      <td>...</td>\n",
       "      <td>...</td>\n",
       "      <td>...</td>\n",
       "      <td>...</td>\n",
       "      <td>...</td>\n",
       "      <td>...</td>\n",
       "      <td>...</td>\n",
       "      <td>...</td>\n",
       "      <td>...</td>\n",
       "      <td>...</td>\n",
       "      <td>...</td>\n",
       "      <td>...</td>\n",
       "      <td>...</td>\n",
       "      <td>...</td>\n",
       "      <td>...</td>\n",
       "      <td>...</td>\n",
       "      <td>...</td>\n",
       "      <td>...</td>\n",
       "      <td>...</td>\n",
       "    </tr>\n",
       "    <tr>\n",
       "      <th>1420</th>\n",
       "      <td>1438.0</td>\n",
       "      <td>TOYOTA Corolla 1.3 16V HATCHB G6 2/3-Doors</td>\n",
       "      <td>69.0</td>\n",
       "      <td>December</td>\n",
       "      <td>1998.0</td>\n",
       "      <td>20544.0</td>\n",
       "      <td>Petrol</td>\n",
       "      <td>NaN</td>\n",
       "      <td>1.0</td>\n",
       "      <td>Blue</td>\n",
       "      <td>0.0</td>\n",
       "      <td>1300.0</td>\n",
       "      <td>3.0</td>\n",
       "      <td>4.0</td>\n",
       "      <td>5.0</td>\n",
       "      <td>69.0</td>\n",
       "      <td>1025.0</td>\n",
       "      <td>1.0</td>\n",
       "      <td>1.0</td>\n",
       "      <td>3.0</td>\n",
       "      <td>1.0</td>\n",
       "      <td>1.0</td>\n",
       "      <td>1.0</td>\n",
       "      <td>1.0</td>\n",
       "      <td>0.0</td>\n",
       "      <td>0.0</td>\n",
       "      <td>0.0</td>\n",
       "      <td>1.0</td>\n",
       "      <td>1.0</td>\n",
       "      <td>1.0</td>\n",
       "      <td>0.0</td>\n",
       "      <td>1.0</td>\n",
       "      <td>1.0</td>\n",
       "      <td>1.0</td>\n",
       "      <td>0.0</td>\n",
       "      <td>0.0</td>\n",
       "      <td>0.0</td>\n",
       "      <td>0.0</td>\n",
       "    </tr>\n",
       "    <tr>\n",
       "      <th>1421</th>\n",
       "      <td>1439.0</td>\n",
       "      <td>TOYOTA Corolla 1.3 16V HATCHB LINEA TERRA 2/3-...</td>\n",
       "      <td>72.0</td>\n",
       "      <td>September</td>\n",
       "      <td>1998.0</td>\n",
       "      <td>19000.0</td>\n",
       "      <td>NaN</td>\n",
       "      <td>86.0</td>\n",
       "      <td>0.0</td>\n",
       "      <td>Grey</td>\n",
       "      <td>0.0</td>\n",
       "      <td>1300.0</td>\n",
       "      <td>3.0</td>\n",
       "      <td>4.0</td>\n",
       "      <td>5.0</td>\n",
       "      <td>NaN</td>\n",
       "      <td>1015.0</td>\n",
       "      <td>0.0</td>\n",
       "      <td>1.0</td>\n",
       "      <td>3.0</td>\n",
       "      <td>1.0</td>\n",
       "      <td>1.0</td>\n",
       "      <td>1.0</td>\n",
       "      <td>0.0</td>\n",
       "      <td>NaN</td>\n",
       "      <td>0.0</td>\n",
       "      <td>0.0</td>\n",
       "      <td>0.0</td>\n",
       "      <td>0.0</td>\n",
       "      <td>1.0</td>\n",
       "      <td>0.0</td>\n",
       "      <td>0.0</td>\n",
       "      <td>1.0</td>\n",
       "      <td>1.0</td>\n",
       "      <td>0.0</td>\n",
       "      <td>0.0</td>\n",
       "      <td>0.0</td>\n",
       "      <td>0.0</td>\n",
       "    </tr>\n",
       "    <tr>\n",
       "      <th>1422</th>\n",
       "      <td>1440.0</td>\n",
       "      <td>TOYOTA Corolla 1.3 16V HATCHB LINEA TERRA 2/3-...</td>\n",
       "      <td>71.0</td>\n",
       "      <td>October</td>\n",
       "      <td>1998.0</td>\n",
       "      <td>17016.0</td>\n",
       "      <td>Petrol</td>\n",
       "      <td>86.0</td>\n",
       "      <td>0.0</td>\n",
       "      <td>Blue</td>\n",
       "      <td>0.0</td>\n",
       "      <td>1300.0</td>\n",
       "      <td>3.0</td>\n",
       "      <td>4.0</td>\n",
       "      <td>5.0</td>\n",
       "      <td>69.0</td>\n",
       "      <td>1015.0</td>\n",
       "      <td>0.0</td>\n",
       "      <td>1.0</td>\n",
       "      <td>3.0</td>\n",
       "      <td>0.0</td>\n",
       "      <td>1.0</td>\n",
       "      <td>1.0</td>\n",
       "      <td>0.0</td>\n",
       "      <td>NaN</td>\n",
       "      <td>0.0</td>\n",
       "      <td>0.0</td>\n",
       "      <td>0.0</td>\n",
       "      <td>0.0</td>\n",
       "      <td>1.0</td>\n",
       "      <td>0.0</td>\n",
       "      <td>0.0</td>\n",
       "      <td>0.0</td>\n",
       "      <td>1.0</td>\n",
       "      <td>0.0</td>\n",
       "      <td>0.0</td>\n",
       "      <td>NaN</td>\n",
       "      <td>0.0</td>\n",
       "    </tr>\n",
       "    <tr>\n",
       "      <th>1423</th>\n",
       "      <td>1441.0</td>\n",
       "      <td>TOYOTA Corolla 1.3 16V HATCHB LINEA TERRA 2/3-...</td>\n",
       "      <td>70.0</td>\n",
       "      <td>November</td>\n",
       "      <td>1998.0</td>\n",
       "      <td>16916.0</td>\n",
       "      <td>Petrol</td>\n",
       "      <td>86.0</td>\n",
       "      <td>1.0</td>\n",
       "      <td>Grey</td>\n",
       "      <td>0.0</td>\n",
       "      <td>1300.0</td>\n",
       "      <td>3.0</td>\n",
       "      <td>4.0</td>\n",
       "      <td>5.0</td>\n",
       "      <td>69.0</td>\n",
       "      <td>1015.0</td>\n",
       "      <td>1.0</td>\n",
       "      <td>1.0</td>\n",
       "      <td>3.0</td>\n",
       "      <td>0.0</td>\n",
       "      <td>0.0</td>\n",
       "      <td>0.0</td>\n",
       "      <td>0.0</td>\n",
       "      <td>0.0</td>\n",
       "      <td>0.0</td>\n",
       "      <td>0.0</td>\n",
       "      <td>0.0</td>\n",
       "      <td>0.0</td>\n",
       "      <td>0.0</td>\n",
       "      <td>0.0</td>\n",
       "      <td>0.0</td>\n",
       "      <td>0.0</td>\n",
       "      <td>1.0</td>\n",
       "      <td>0.0</td>\n",
       "      <td>0.0</td>\n",
       "      <td>0.0</td>\n",
       "      <td>0.0</td>\n",
       "    </tr>\n",
       "    <tr>\n",
       "      <th>1424</th>\n",
       "      <td>1442.0</td>\n",
       "      <td>TOYOTA Corolla 1.6 LB LINEA TERRA 4/5-Doors</td>\n",
       "      <td>NaN</td>\n",
       "      <td>May</td>\n",
       "      <td>1998.0</td>\n",
       "      <td>1.0</td>\n",
       "      <td>Petrol</td>\n",
       "      <td>110.0</td>\n",
       "      <td>0.0</td>\n",
       "      <td>Green</td>\n",
       "      <td>0.0</td>\n",
       "      <td>1600.0</td>\n",
       "      <td>5.0</td>\n",
       "      <td>4.0</td>\n",
       "      <td>5.0</td>\n",
       "      <td>19.0</td>\n",
       "      <td>1114.0</td>\n",
       "      <td>0.0</td>\n",
       "      <td>0.0</td>\n",
       "      <td>3.0</td>\n",
       "      <td>0.0</td>\n",
       "      <td>1.0</td>\n",
       "      <td>0.0</td>\n",
       "      <td>0.0</td>\n",
       "      <td>NaN</td>\n",
       "      <td>0.0</td>\n",
       "      <td>0.0</td>\n",
       "      <td>0.0</td>\n",
       "      <td>0.0</td>\n",
       "      <td>1.0</td>\n",
       "      <td>0.0</td>\n",
       "      <td>0.0</td>\n",
       "      <td>0.0</td>\n",
       "      <td>0.0</td>\n",
       "      <td>0.0</td>\n",
       "      <td>0.0</td>\n",
       "      <td>0.0</td>\n",
       "      <td>0.0</td>\n",
       "    </tr>\n",
       "  </tbody>\n",
       "</table>\n",
       "<p>1425 rows × 38 columns</p>\n",
       "</div>"
      ],
      "text/plain": [
       "          Id  ... Tow_Bar\n",
       "0        1.0  ...     0.0\n",
       "1        2.0  ...     NaN\n",
       "2        3.0  ...     0.0\n",
       "3        4.0  ...     0.0\n",
       "4        5.0  ...     0.0\n",
       "...      ...  ...     ...\n",
       "1420  1438.0  ...     0.0\n",
       "1421  1439.0  ...     0.0\n",
       "1422  1440.0  ...     0.0\n",
       "1423  1441.0  ...     0.0\n",
       "1424  1442.0  ...     0.0\n",
       "\n",
       "[1425 rows x 38 columns]"
      ]
     },
     "execution_count": 7,
     "metadata": {
      "tags": []
     },
     "output_type": "execute_result"
    }
   ],
   "source": [
    "X"
   ]
  },
  {
   "cell_type": "markdown",
   "metadata": {
    "id": "AX9WIRrEmtuj"
   },
   "source": [
    "### 6) Performing Train and Test Splits"
   ]
  },
  {
   "cell_type": "code",
   "execution_count": 8,
   "metadata": {
    "id": "G5qzly4amtuj"
   },
   "outputs": [],
   "source": [
    "from sklearn.model_selection import train_test_split\n",
    "\n",
    "#Split for the Feature Dataset X\n",
    "train_X, test_X = train_test_split(X, random_state = 0)\n",
    "\n",
    "#Split for the Target Dataset Y\n",
    "train_Y, test_Y = train_test_split(Y, random_state = 0)"
   ]
  },
  {
   "cell_type": "code",
   "execution_count": 9,
   "metadata": {
    "colab": {
     "base_uri": "https://localhost:8080/",
     "height": 1000
    },
    "id": "6h6Q70Rjmtuj",
    "outputId": "3cca7f87-3741-4b0e-e8f9-c7d93dd62bc9"
   },
   "outputs": [
    {
     "data": {
      "text/html": [
       "<div>\n",
       "<style scoped>\n",
       "    .dataframe tbody tr th:only-of-type {\n",
       "        vertical-align: middle;\n",
       "    }\n",
       "\n",
       "    .dataframe tbody tr th {\n",
       "        vertical-align: top;\n",
       "    }\n",
       "\n",
       "    .dataframe thead th {\n",
       "        text-align: right;\n",
       "    }\n",
       "</style>\n",
       "<table border=\"1\" class=\"dataframe\">\n",
       "  <thead>\n",
       "    <tr style=\"text-align: right;\">\n",
       "      <th></th>\n",
       "      <th>Id</th>\n",
       "      <th>Model</th>\n",
       "      <th>Age_08_04</th>\n",
       "      <th>Mfg_Month</th>\n",
       "      <th>Mfg_Year</th>\n",
       "      <th>KM</th>\n",
       "      <th>Fuel_Type</th>\n",
       "      <th>HP</th>\n",
       "      <th>Met_Color</th>\n",
       "      <th>Color</th>\n",
       "      <th>Automatic</th>\n",
       "      <th>CC</th>\n",
       "      <th>Doors</th>\n",
       "      <th>Cylinders</th>\n",
       "      <th>Gears</th>\n",
       "      <th>Quarterly_Tax</th>\n",
       "      <th>Weight</th>\n",
       "      <th>Mfr_Guarantee</th>\n",
       "      <th>BOVAG_Guarantee</th>\n",
       "      <th>Guarantee_Period</th>\n",
       "      <th>ABS</th>\n",
       "      <th>Airbag_1</th>\n",
       "      <th>Airbag_2</th>\n",
       "      <th>Airco</th>\n",
       "      <th>Automatic_airco</th>\n",
       "      <th>Boardcomputer</th>\n",
       "      <th>CD_Player</th>\n",
       "      <th>Central_Lock</th>\n",
       "      <th>Powered_Windows</th>\n",
       "      <th>Power_Steering</th>\n",
       "      <th>Radio</th>\n",
       "      <th>Mistlamps</th>\n",
       "      <th>Sport_Model</th>\n",
       "      <th>Backseat_Divider</th>\n",
       "      <th>Metallic_Rim</th>\n",
       "      <th>Radio_cassette</th>\n",
       "      <th>Parking_Assistant</th>\n",
       "      <th>Tow_Bar</th>\n",
       "    </tr>\n",
       "  </thead>\n",
       "  <tbody>\n",
       "    <tr>\n",
       "      <th>1297</th>\n",
       "      <td>1313.0</td>\n",
       "      <td>TOYOTA Corolla 1.6 16V HATCHB LINEA TERRA 2/3-...</td>\n",
       "      <td>76.0</td>\n",
       "      <td>May</td>\n",
       "      <td>1998.0</td>\n",
       "      <td>70039.0</td>\n",
       "      <td>Petrol</td>\n",
       "      <td>110.0</td>\n",
       "      <td>1.0</td>\n",
       "      <td>Grey</td>\n",
       "      <td>0.0</td>\n",
       "      <td>1600.0</td>\n",
       "      <td>3.0</td>\n",
       "      <td>4.0</td>\n",
       "      <td>5.0</td>\n",
       "      <td>69.0</td>\n",
       "      <td>1050.0</td>\n",
       "      <td>1.0</td>\n",
       "      <td>1.0</td>\n",
       "      <td>3.0</td>\n",
       "      <td>1.0</td>\n",
       "      <td>1.0</td>\n",
       "      <td>0.0</td>\n",
       "      <td>0.0</td>\n",
       "      <td>0.0</td>\n",
       "      <td>0.0</td>\n",
       "      <td>0.0</td>\n",
       "      <td>0.0</td>\n",
       "      <td>0.0</td>\n",
       "      <td>1.0</td>\n",
       "      <td>0.0</td>\n",
       "      <td>0.0</td>\n",
       "      <td>1.0</td>\n",
       "      <td>1.0</td>\n",
       "      <td>0.0</td>\n",
       "      <td>0.0</td>\n",
       "      <td>0.0</td>\n",
       "      <td>1.0</td>\n",
       "    </tr>\n",
       "    <tr>\n",
       "      <th>338</th>\n",
       "      <td>343.0</td>\n",
       "      <td>TOYOTA Corolla Liftback 1.6 VVTI 4/5-Doors</td>\n",
       "      <td>41.0</td>\n",
       "      <td>April</td>\n",
       "      <td>2001.0</td>\n",
       "      <td>29716.0</td>\n",
       "      <td>Petrol</td>\n",
       "      <td>116.0</td>\n",
       "      <td>1.0</td>\n",
       "      <td>Grey</td>\n",
       "      <td>0.0</td>\n",
       "      <td>1600.0</td>\n",
       "      <td>5.0</td>\n",
       "      <td>4.0</td>\n",
       "      <td>5.0</td>\n",
       "      <td>85.0</td>\n",
       "      <td>1075.0</td>\n",
       "      <td>0.0</td>\n",
       "      <td>1.0</td>\n",
       "      <td>3.0</td>\n",
       "      <td>1.0</td>\n",
       "      <td>1.0</td>\n",
       "      <td>NaN</td>\n",
       "      <td>NaN</td>\n",
       "      <td>0.0</td>\n",
       "      <td>NaN</td>\n",
       "      <td>1.0</td>\n",
       "      <td>0.0</td>\n",
       "      <td>0.0</td>\n",
       "      <td>1.0</td>\n",
       "      <td>0.0</td>\n",
       "      <td>0.0</td>\n",
       "      <td>0.0</td>\n",
       "      <td>0.0</td>\n",
       "      <td>0.0</td>\n",
       "      <td>0.0</td>\n",
       "      <td>0.0</td>\n",
       "      <td>1.0</td>\n",
       "    </tr>\n",
       "    <tr>\n",
       "      <th>649</th>\n",
       "      <td>656.0</td>\n",
       "      <td>TOYOTA Corolla 1.6 G6-R 2/3-Doors</td>\n",
       "      <td>63.0</td>\n",
       "      <td>June</td>\n",
       "      <td>1999.0</td>\n",
       "      <td>115000.0</td>\n",
       "      <td>CNG</td>\n",
       "      <td>110.0</td>\n",
       "      <td>0.0</td>\n",
       "      <td>Red</td>\n",
       "      <td>0.0</td>\n",
       "      <td>1600.0</td>\n",
       "      <td>3.0</td>\n",
       "      <td>NaN</td>\n",
       "      <td>5.0</td>\n",
       "      <td>197.0</td>\n",
       "      <td>1109.0</td>\n",
       "      <td>0.0</td>\n",
       "      <td>1.0</td>\n",
       "      <td>6.0</td>\n",
       "      <td>1.0</td>\n",
       "      <td>1.0</td>\n",
       "      <td>0.0</td>\n",
       "      <td>1.0</td>\n",
       "      <td>0.0</td>\n",
       "      <td>0.0</td>\n",
       "      <td>0.0</td>\n",
       "      <td>1.0</td>\n",
       "      <td>NaN</td>\n",
       "      <td>1.0</td>\n",
       "      <td>0.0</td>\n",
       "      <td>1.0</td>\n",
       "      <td>0.0</td>\n",
       "      <td>0.0</td>\n",
       "      <td>1.0</td>\n",
       "      <td>0.0</td>\n",
       "      <td>0.0</td>\n",
       "      <td>1.0</td>\n",
       "    </tr>\n",
       "    <tr>\n",
       "      <th>1366</th>\n",
       "      <td>1382.0</td>\n",
       "      <td>TOYOTA Corolla 1.3 16V SEDAN LINEA TERRA 4/5-D...</td>\n",
       "      <td>80.0</td>\n",
       "      <td>January</td>\n",
       "      <td>1998.0</td>\n",
       "      <td>57000.0</td>\n",
       "      <td>Petrol</td>\n",
       "      <td>86.0</td>\n",
       "      <td>0.0</td>\n",
       "      <td>Blue</td>\n",
       "      <td>0.0</td>\n",
       "      <td>1300.0</td>\n",
       "      <td>4.0</td>\n",
       "      <td>4.0</td>\n",
       "      <td>5.0</td>\n",
       "      <td>69.0</td>\n",
       "      <td>1000.0</td>\n",
       "      <td>1.0</td>\n",
       "      <td>1.0</td>\n",
       "      <td>3.0</td>\n",
       "      <td>NaN</td>\n",
       "      <td>1.0</td>\n",
       "      <td>0.0</td>\n",
       "      <td>0.0</td>\n",
       "      <td>0.0</td>\n",
       "      <td>0.0</td>\n",
       "      <td>0.0</td>\n",
       "      <td>0.0</td>\n",
       "      <td>0.0</td>\n",
       "      <td>1.0</td>\n",
       "      <td>0.0</td>\n",
       "      <td>0.0</td>\n",
       "      <td>0.0</td>\n",
       "      <td>0.0</td>\n",
       "      <td>0.0</td>\n",
       "      <td>0.0</td>\n",
       "      <td>0.0</td>\n",
       "      <td>0.0</td>\n",
       "    </tr>\n",
       "    <tr>\n",
       "      <th>918</th>\n",
       "      <td>927.0</td>\n",
       "      <td>TOYOTA Corolla 1.6 16V HATCHB LINEA TERRA 2/3-...</td>\n",
       "      <td>67.0</td>\n",
       "      <td>February</td>\n",
       "      <td>1999.0</td>\n",
       "      <td>57000.0</td>\n",
       "      <td>Petrol</td>\n",
       "      <td>110.0</td>\n",
       "      <td>0.0</td>\n",
       "      <td>Grey</td>\n",
       "      <td>0.0</td>\n",
       "      <td>1600.0</td>\n",
       "      <td>3.0</td>\n",
       "      <td>4.0</td>\n",
       "      <td>5.0</td>\n",
       "      <td>69.0</td>\n",
       "      <td>1050.0</td>\n",
       "      <td>0.0</td>\n",
       "      <td>1.0</td>\n",
       "      <td>3.0</td>\n",
       "      <td>1.0</td>\n",
       "      <td>1.0</td>\n",
       "      <td>1.0</td>\n",
       "      <td>0.0</td>\n",
       "      <td>0.0</td>\n",
       "      <td>0.0</td>\n",
       "      <td>0.0</td>\n",
       "      <td>0.0</td>\n",
       "      <td>0.0</td>\n",
       "      <td>1.0</td>\n",
       "      <td>0.0</td>\n",
       "      <td>0.0</td>\n",
       "      <td>1.0</td>\n",
       "      <td>1.0</td>\n",
       "      <td>0.0</td>\n",
       "      <td>0.0</td>\n",
       "      <td>0.0</td>\n",
       "      <td>0.0</td>\n",
       "    </tr>\n",
       "    <tr>\n",
       "      <th>...</th>\n",
       "      <td>...</td>\n",
       "      <td>...</td>\n",
       "      <td>...</td>\n",
       "      <td>...</td>\n",
       "      <td>...</td>\n",
       "      <td>...</td>\n",
       "      <td>...</td>\n",
       "      <td>...</td>\n",
       "      <td>...</td>\n",
       "      <td>...</td>\n",
       "      <td>...</td>\n",
       "      <td>...</td>\n",
       "      <td>...</td>\n",
       "      <td>...</td>\n",
       "      <td>...</td>\n",
       "      <td>...</td>\n",
       "      <td>...</td>\n",
       "      <td>...</td>\n",
       "      <td>...</td>\n",
       "      <td>...</td>\n",
       "      <td>...</td>\n",
       "      <td>...</td>\n",
       "      <td>...</td>\n",
       "      <td>...</td>\n",
       "      <td>...</td>\n",
       "      <td>...</td>\n",
       "      <td>...</td>\n",
       "      <td>...</td>\n",
       "      <td>...</td>\n",
       "      <td>...</td>\n",
       "      <td>...</td>\n",
       "      <td>...</td>\n",
       "      <td>...</td>\n",
       "      <td>...</td>\n",
       "      <td>...</td>\n",
       "      <td>...</td>\n",
       "      <td>...</td>\n",
       "      <td>...</td>\n",
       "    </tr>\n",
       "    <tr>\n",
       "      <th>763</th>\n",
       "      <td>772.0</td>\n",
       "      <td>TOYOTA Corolla 2.0 D Linea luna Wagon Stationw...</td>\n",
       "      <td>59.0</td>\n",
       "      <td>October</td>\n",
       "      <td>1999.0</td>\n",
       "      <td>78750.0</td>\n",
       "      <td>Diesel</td>\n",
       "      <td>90.0</td>\n",
       "      <td>1.0</td>\n",
       "      <td>Silver</td>\n",
       "      <td>NaN</td>\n",
       "      <td>1975.0</td>\n",
       "      <td>5.0</td>\n",
       "      <td>4.0</td>\n",
       "      <td>5.0</td>\n",
       "      <td>210.0</td>\n",
       "      <td>1155.0</td>\n",
       "      <td>0.0</td>\n",
       "      <td>0.0</td>\n",
       "      <td>NaN</td>\n",
       "      <td>0.0</td>\n",
       "      <td>1.0</td>\n",
       "      <td>0.0</td>\n",
       "      <td>1.0</td>\n",
       "      <td>0.0</td>\n",
       "      <td>0.0</td>\n",
       "      <td>0.0</td>\n",
       "      <td>0.0</td>\n",
       "      <td>1.0</td>\n",
       "      <td>1.0</td>\n",
       "      <td>1.0</td>\n",
       "      <td>0.0</td>\n",
       "      <td>0.0</td>\n",
       "      <td>0.0</td>\n",
       "      <td>0.0</td>\n",
       "      <td>1.0</td>\n",
       "      <td>0.0</td>\n",
       "      <td>NaN</td>\n",
       "    </tr>\n",
       "    <tr>\n",
       "      <th>835</th>\n",
       "      <td>844.0</td>\n",
       "      <td>TOYOTA Corolla 1.3 16V HATCHB LINEA TERRA AUT3...</td>\n",
       "      <td>68.0</td>\n",
       "      <td>January</td>\n",
       "      <td>1999.0</td>\n",
       "      <td>66785.0</td>\n",
       "      <td>Petrol</td>\n",
       "      <td>86.0</td>\n",
       "      <td>0.0</td>\n",
       "      <td>Blue</td>\n",
       "      <td>1.0</td>\n",
       "      <td>1300.0</td>\n",
       "      <td>3.0</td>\n",
       "      <td>4.0</td>\n",
       "      <td>5.0</td>\n",
       "      <td>69.0</td>\n",
       "      <td>1045.0</td>\n",
       "      <td>0.0</td>\n",
       "      <td>1.0</td>\n",
       "      <td>3.0</td>\n",
       "      <td>1.0</td>\n",
       "      <td>1.0</td>\n",
       "      <td>1.0</td>\n",
       "      <td>0.0</td>\n",
       "      <td>0.0</td>\n",
       "      <td>0.0</td>\n",
       "      <td>0.0</td>\n",
       "      <td>0.0</td>\n",
       "      <td>0.0</td>\n",
       "      <td>1.0</td>\n",
       "      <td>0.0</td>\n",
       "      <td>0.0</td>\n",
       "      <td>1.0</td>\n",
       "      <td>1.0</td>\n",
       "      <td>0.0</td>\n",
       "      <td>0.0</td>\n",
       "      <td>0.0</td>\n",
       "      <td>0.0</td>\n",
       "    </tr>\n",
       "    <tr>\n",
       "      <th>1216</th>\n",
       "      <td>1232.0</td>\n",
       "      <td>TOYOTA Corolla 1.6 16V HATCHB LINEA TERRA 2/3-...</td>\n",
       "      <td>74.0</td>\n",
       "      <td>July</td>\n",
       "      <td>1998.0</td>\n",
       "      <td>84123.0</td>\n",
       "      <td>Petrol</td>\n",
       "      <td>110.0</td>\n",
       "      <td>0.0</td>\n",
       "      <td>Black</td>\n",
       "      <td>0.0</td>\n",
       "      <td>1600.0</td>\n",
       "      <td>3.0</td>\n",
       "      <td>4.0</td>\n",
       "      <td>5.0</td>\n",
       "      <td>69.0</td>\n",
       "      <td>1050.0</td>\n",
       "      <td>0.0</td>\n",
       "      <td>1.0</td>\n",
       "      <td>3.0</td>\n",
       "      <td>1.0</td>\n",
       "      <td>1.0</td>\n",
       "      <td>1.0</td>\n",
       "      <td>0.0</td>\n",
       "      <td>0.0</td>\n",
       "      <td>0.0</td>\n",
       "      <td>0.0</td>\n",
       "      <td>0.0</td>\n",
       "      <td>0.0</td>\n",
       "      <td>1.0</td>\n",
       "      <td>0.0</td>\n",
       "      <td>0.0</td>\n",
       "      <td>1.0</td>\n",
       "      <td>1.0</td>\n",
       "      <td>0.0</td>\n",
       "      <td>0.0</td>\n",
       "      <td>0.0</td>\n",
       "      <td>0.0</td>\n",
       "    </tr>\n",
       "    <tr>\n",
       "      <th>559</th>\n",
       "      <td>566.0</td>\n",
       "      <td>TOYOTA Corolla 1.4 16V VVT I HATCHB TERRA 2/3-...</td>\n",
       "      <td>NaN</td>\n",
       "      <td>October</td>\n",
       "      <td>2000.0</td>\n",
       "      <td>38900.0</td>\n",
       "      <td>NaN</td>\n",
       "      <td>97.0</td>\n",
       "      <td>1.0</td>\n",
       "      <td>Grey</td>\n",
       "      <td>0.0</td>\n",
       "      <td>1400.0</td>\n",
       "      <td>3.0</td>\n",
       "      <td>4.0</td>\n",
       "      <td>5.0</td>\n",
       "      <td>NaN</td>\n",
       "      <td>1025.0</td>\n",
       "      <td>0.0</td>\n",
       "      <td>1.0</td>\n",
       "      <td>3.0</td>\n",
       "      <td>1.0</td>\n",
       "      <td>NaN</td>\n",
       "      <td>1.0</td>\n",
       "      <td>0.0</td>\n",
       "      <td>0.0</td>\n",
       "      <td>1.0</td>\n",
       "      <td>1.0</td>\n",
       "      <td>0.0</td>\n",
       "      <td>0.0</td>\n",
       "      <td>1.0</td>\n",
       "      <td>0.0</td>\n",
       "      <td>0.0</td>\n",
       "      <td>NaN</td>\n",
       "      <td>1.0</td>\n",
       "      <td>0.0</td>\n",
       "      <td>0.0</td>\n",
       "      <td>0.0</td>\n",
       "      <td>0.0</td>\n",
       "    </tr>\n",
       "    <tr>\n",
       "      <th>684</th>\n",
       "      <td>691.0</td>\n",
       "      <td>TOYOTA Corolla 1.6 16V WAGON LINEA TERRA Stati...</td>\n",
       "      <td>67.0</td>\n",
       "      <td>February</td>\n",
       "      <td>1999.0</td>\n",
       "      <td>99781.0</td>\n",
       "      <td>Petrol</td>\n",
       "      <td>110.0</td>\n",
       "      <td>1.0</td>\n",
       "      <td>Grey</td>\n",
       "      <td>0.0</td>\n",
       "      <td>1600.0</td>\n",
       "      <td>5.0</td>\n",
       "      <td>4.0</td>\n",
       "      <td>5.0</td>\n",
       "      <td>85.0</td>\n",
       "      <td>1085.0</td>\n",
       "      <td>0.0</td>\n",
       "      <td>1.0</td>\n",
       "      <td>3.0</td>\n",
       "      <td>1.0</td>\n",
       "      <td>NaN</td>\n",
       "      <td>1.0</td>\n",
       "      <td>0.0</td>\n",
       "      <td>0.0</td>\n",
       "      <td>0.0</td>\n",
       "      <td>0.0</td>\n",
       "      <td>0.0</td>\n",
       "      <td>0.0</td>\n",
       "      <td>1.0</td>\n",
       "      <td>0.0</td>\n",
       "      <td>0.0</td>\n",
       "      <td>NaN</td>\n",
       "      <td>1.0</td>\n",
       "      <td>0.0</td>\n",
       "      <td>0.0</td>\n",
       "      <td>NaN</td>\n",
       "      <td>0.0</td>\n",
       "    </tr>\n",
       "  </tbody>\n",
       "</table>\n",
       "<p>1068 rows × 38 columns</p>\n",
       "</div>"
      ],
      "text/plain": [
       "          Id  ... Tow_Bar\n",
       "1297  1313.0  ...     1.0\n",
       "338    343.0  ...     1.0\n",
       "649    656.0  ...     1.0\n",
       "1366  1382.0  ...     0.0\n",
       "918    927.0  ...     0.0\n",
       "...      ...  ...     ...\n",
       "763    772.0  ...     NaN\n",
       "835    844.0  ...     0.0\n",
       "1216  1232.0  ...     0.0\n",
       "559    566.0  ...     0.0\n",
       "684    691.0  ...     0.0\n",
       "\n",
       "[1068 rows x 38 columns]"
      ]
     },
     "execution_count": 9,
     "metadata": {
      "tags": []
     },
     "output_type": "execute_result"
    }
   ],
   "source": [
    "train_X"
   ]
  },
  {
   "cell_type": "code",
   "execution_count": 10,
   "metadata": {
    "colab": {
     "base_uri": "https://localhost:8080/"
    },
    "id": "WcaTZOj7mtuj",
    "outputId": "8d5d30a6-936d-4992-f58a-7492b6dd5b3f"
   },
   "outputs": [
    {
     "data": {
      "text/plain": [
       "1297     7500\n",
       "338     11900\n",
       "649      9450\n",
       "1366     7750\n",
       "918      8250\n",
       "        ...  \n",
       "763     10950\n",
       "835     10400\n",
       "1216     7950\n",
       "559      8950\n",
       "684      9450\n",
       "Name: Price, Length: 1068, dtype: int64"
      ]
     },
     "execution_count": 10,
     "metadata": {
      "tags": []
     },
     "output_type": "execute_result"
    }
   ],
   "source": [
    "train_Y"
   ]
  },
  {
   "cell_type": "code",
   "execution_count": 11,
   "metadata": {
    "colab": {
     "base_uri": "https://localhost:8080/",
     "height": 1000
    },
    "id": "itAvOg30mtuj",
    "outputId": "4a4c22b2-6b92-4957-ae6c-66ed3abb72b9"
   },
   "outputs": [
    {
     "data": {
      "text/html": [
       "<div>\n",
       "<style scoped>\n",
       "    .dataframe tbody tr th:only-of-type {\n",
       "        vertical-align: middle;\n",
       "    }\n",
       "\n",
       "    .dataframe tbody tr th {\n",
       "        vertical-align: top;\n",
       "    }\n",
       "\n",
       "    .dataframe thead th {\n",
       "        text-align: right;\n",
       "    }\n",
       "</style>\n",
       "<table border=\"1\" class=\"dataframe\">\n",
       "  <thead>\n",
       "    <tr style=\"text-align: right;\">\n",
       "      <th></th>\n",
       "      <th>Id</th>\n",
       "      <th>Model</th>\n",
       "      <th>Age_08_04</th>\n",
       "      <th>Mfg_Month</th>\n",
       "      <th>Mfg_Year</th>\n",
       "      <th>KM</th>\n",
       "      <th>Fuel_Type</th>\n",
       "      <th>HP</th>\n",
       "      <th>Met_Color</th>\n",
       "      <th>Color</th>\n",
       "      <th>Automatic</th>\n",
       "      <th>CC</th>\n",
       "      <th>Doors</th>\n",
       "      <th>Cylinders</th>\n",
       "      <th>Gears</th>\n",
       "      <th>Quarterly_Tax</th>\n",
       "      <th>Weight</th>\n",
       "      <th>Mfr_Guarantee</th>\n",
       "      <th>BOVAG_Guarantee</th>\n",
       "      <th>Guarantee_Period</th>\n",
       "      <th>ABS</th>\n",
       "      <th>Airbag_1</th>\n",
       "      <th>Airbag_2</th>\n",
       "      <th>Airco</th>\n",
       "      <th>Automatic_airco</th>\n",
       "      <th>Boardcomputer</th>\n",
       "      <th>CD_Player</th>\n",
       "      <th>Central_Lock</th>\n",
       "      <th>Powered_Windows</th>\n",
       "      <th>Power_Steering</th>\n",
       "      <th>Radio</th>\n",
       "      <th>Mistlamps</th>\n",
       "      <th>Sport_Model</th>\n",
       "      <th>Backseat_Divider</th>\n",
       "      <th>Metallic_Rim</th>\n",
       "      <th>Radio_cassette</th>\n",
       "      <th>Parking_Assistant</th>\n",
       "      <th>Tow_Bar</th>\n",
       "    </tr>\n",
       "  </thead>\n",
       "  <tbody>\n",
       "    <tr>\n",
       "      <th>740</th>\n",
       "      <td>748.0</td>\n",
       "      <td>TOYOTA Corolla 1.3 16V HATCHB LINEA TERRA 2/3-...</td>\n",
       "      <td>65.0</td>\n",
       "      <td>April</td>\n",
       "      <td>1999.0</td>\n",
       "      <td>NaN</td>\n",
       "      <td>Petrol</td>\n",
       "      <td>86.0</td>\n",
       "      <td>1.0</td>\n",
       "      <td>Blue</td>\n",
       "      <td>0.0</td>\n",
       "      <td>1300.0</td>\n",
       "      <td>3.0</td>\n",
       "      <td>4.0</td>\n",
       "      <td>5.0</td>\n",
       "      <td>69.0</td>\n",
       "      <td>1015.0</td>\n",
       "      <td>0.0</td>\n",
       "      <td>0.0</td>\n",
       "      <td>3.0</td>\n",
       "      <td>1.0</td>\n",
       "      <td>1.0</td>\n",
       "      <td>1.0</td>\n",
       "      <td>0.0</td>\n",
       "      <td>0.0</td>\n",
       "      <td>0.0</td>\n",
       "      <td>0.0</td>\n",
       "      <td>0.0</td>\n",
       "      <td>0.0</td>\n",
       "      <td>1.0</td>\n",
       "      <td>0.0</td>\n",
       "      <td>0.0</td>\n",
       "      <td>NaN</td>\n",
       "      <td>1.0</td>\n",
       "      <td>NaN</td>\n",
       "      <td>0.0</td>\n",
       "      <td>0.0</td>\n",
       "      <td>1.0</td>\n",
       "    </tr>\n",
       "    <tr>\n",
       "      <th>644</th>\n",
       "      <td>651.0</td>\n",
       "      <td>TOYOTA Corolla 2.0 DSL HATCHB LINEA TERRA 2/3-...</td>\n",
       "      <td>68.0</td>\n",
       "      <td>January</td>\n",
       "      <td>1999.0</td>\n",
       "      <td>117000.0</td>\n",
       "      <td>Diesel</td>\n",
       "      <td>72.0</td>\n",
       "      <td>0.0</td>\n",
       "      <td>Silver</td>\n",
       "      <td>0.0</td>\n",
       "      <td>2000.0</td>\n",
       "      <td>3.0</td>\n",
       "      <td>4.0</td>\n",
       "      <td>5.0</td>\n",
       "      <td>185.0</td>\n",
       "      <td>1115.0</td>\n",
       "      <td>0.0</td>\n",
       "      <td>1.0</td>\n",
       "      <td>3.0</td>\n",
       "      <td>1.0</td>\n",
       "      <td>1.0</td>\n",
       "      <td>1.0</td>\n",
       "      <td>0.0</td>\n",
       "      <td>0.0</td>\n",
       "      <td>0.0</td>\n",
       "      <td>NaN</td>\n",
       "      <td>0.0</td>\n",
       "      <td>0.0</td>\n",
       "      <td>1.0</td>\n",
       "      <td>0.0</td>\n",
       "      <td>0.0</td>\n",
       "      <td>1.0</td>\n",
       "      <td>NaN</td>\n",
       "      <td>0.0</td>\n",
       "      <td>0.0</td>\n",
       "      <td>0.0</td>\n",
       "      <td>0.0</td>\n",
       "    </tr>\n",
       "    <tr>\n",
       "      <th>434</th>\n",
       "      <td>440.0</td>\n",
       "      <td>TOYOTA Corolla 1.6 16V VVT I LIFTB TERRA 4/5-...</td>\n",
       "      <td>48.0</td>\n",
       "      <td>NaN</td>\n",
       "      <td>2000.0</td>\n",
       "      <td>78600.0</td>\n",
       "      <td>Petrol</td>\n",
       "      <td>110.0</td>\n",
       "      <td>1.0</td>\n",
       "      <td>Blue</td>\n",
       "      <td>0.0</td>\n",
       "      <td>1600.0</td>\n",
       "      <td>5.0</td>\n",
       "      <td>4.0</td>\n",
       "      <td>5.0</td>\n",
       "      <td>85.0</td>\n",
       "      <td>1075.0</td>\n",
       "      <td>0.0</td>\n",
       "      <td>1.0</td>\n",
       "      <td>3.0</td>\n",
       "      <td>1.0</td>\n",
       "      <td>1.0</td>\n",
       "      <td>1.0</td>\n",
       "      <td>0.0</td>\n",
       "      <td>0.0</td>\n",
       "      <td>1.0</td>\n",
       "      <td>0.0</td>\n",
       "      <td>1.0</td>\n",
       "      <td>1.0</td>\n",
       "      <td>1.0</td>\n",
       "      <td>1.0</td>\n",
       "      <td>0.0</td>\n",
       "      <td>0.0</td>\n",
       "      <td>1.0</td>\n",
       "      <td>0.0</td>\n",
       "      <td>1.0</td>\n",
       "      <td>0.0</td>\n",
       "      <td>NaN</td>\n",
       "    </tr>\n",
       "    <tr>\n",
       "      <th>858</th>\n",
       "      <td>867.0</td>\n",
       "      <td>TOYOTA Corolla 1.3 16V HATCHB LINEA TERRA 2/3-...</td>\n",
       "      <td>60.0</td>\n",
       "      <td>September</td>\n",
       "      <td>1999.0</td>\n",
       "      <td>64383.0</td>\n",
       "      <td>Petrol</td>\n",
       "      <td>86.0</td>\n",
       "      <td>0.0</td>\n",
       "      <td>Red</td>\n",
       "      <td>0.0</td>\n",
       "      <td>1300.0</td>\n",
       "      <td>3.0</td>\n",
       "      <td>4.0</td>\n",
       "      <td>5.0</td>\n",
       "      <td>69.0</td>\n",
       "      <td>1015.0</td>\n",
       "      <td>1.0</td>\n",
       "      <td>NaN</td>\n",
       "      <td>3.0</td>\n",
       "      <td>NaN</td>\n",
       "      <td>1.0</td>\n",
       "      <td>1.0</td>\n",
       "      <td>0.0</td>\n",
       "      <td>0.0</td>\n",
       "      <td>0.0</td>\n",
       "      <td>0.0</td>\n",
       "      <td>0.0</td>\n",
       "      <td>0.0</td>\n",
       "      <td>1.0</td>\n",
       "      <td>0.0</td>\n",
       "      <td>0.0</td>\n",
       "      <td>0.0</td>\n",
       "      <td>1.0</td>\n",
       "      <td>0.0</td>\n",
       "      <td>0.0</td>\n",
       "      <td>0.0</td>\n",
       "      <td>0.0</td>\n",
       "    </tr>\n",
       "    <tr>\n",
       "      <th>141</th>\n",
       "      <td>143.0</td>\n",
       "      <td>TOYOTA Corolla 1.8 VVTL-i T-Sport 3-Drs 4/5-D...</td>\n",
       "      <td>19.0</td>\n",
       "      <td>February</td>\n",
       "      <td>2003.0</td>\n",
       "      <td>21684.0</td>\n",
       "      <td>Petrol</td>\n",
       "      <td>192.0</td>\n",
       "      <td>1.0</td>\n",
       "      <td>Silver</td>\n",
       "      <td>0.0</td>\n",
       "      <td>1800.0</td>\n",
       "      <td>5.0</td>\n",
       "      <td>4.0</td>\n",
       "      <td>5.0</td>\n",
       "      <td>19.0</td>\n",
       "      <td>1185.0</td>\n",
       "      <td>0.0</td>\n",
       "      <td>1.0</td>\n",
       "      <td>12.0</td>\n",
       "      <td>1.0</td>\n",
       "      <td>1.0</td>\n",
       "      <td>0.0</td>\n",
       "      <td>1.0</td>\n",
       "      <td>0.0</td>\n",
       "      <td>NaN</td>\n",
       "      <td>0.0</td>\n",
       "      <td>1.0</td>\n",
       "      <td>1.0</td>\n",
       "      <td>1.0</td>\n",
       "      <td>1.0</td>\n",
       "      <td>0.0</td>\n",
       "      <td>0.0</td>\n",
       "      <td>0.0</td>\n",
       "      <td>1.0</td>\n",
       "      <td>1.0</td>\n",
       "      <td>0.0</td>\n",
       "      <td>0.0</td>\n",
       "    </tr>\n",
       "    <tr>\n",
       "      <th>...</th>\n",
       "      <td>...</td>\n",
       "      <td>...</td>\n",
       "      <td>...</td>\n",
       "      <td>...</td>\n",
       "      <td>...</td>\n",
       "      <td>...</td>\n",
       "      <td>...</td>\n",
       "      <td>...</td>\n",
       "      <td>...</td>\n",
       "      <td>...</td>\n",
       "      <td>...</td>\n",
       "      <td>...</td>\n",
       "      <td>...</td>\n",
       "      <td>...</td>\n",
       "      <td>...</td>\n",
       "      <td>...</td>\n",
       "      <td>...</td>\n",
       "      <td>...</td>\n",
       "      <td>...</td>\n",
       "      <td>...</td>\n",
       "      <td>...</td>\n",
       "      <td>...</td>\n",
       "      <td>...</td>\n",
       "      <td>...</td>\n",
       "      <td>...</td>\n",
       "      <td>...</td>\n",
       "      <td>...</td>\n",
       "      <td>...</td>\n",
       "      <td>...</td>\n",
       "      <td>...</td>\n",
       "      <td>...</td>\n",
       "      <td>...</td>\n",
       "      <td>...</td>\n",
       "      <td>...</td>\n",
       "      <td>...</td>\n",
       "      <td>...</td>\n",
       "      <td>...</td>\n",
       "      <td>...</td>\n",
       "    </tr>\n",
       "    <tr>\n",
       "      <th>416</th>\n",
       "      <td>422.0</td>\n",
       "      <td>TOYOTA Corolla 1.3 16V HATCHB LINEA TERRA 2/3...</td>\n",
       "      <td>55.0</td>\n",
       "      <td>February</td>\n",
       "      <td>2000.0</td>\n",
       "      <td>NaN</td>\n",
       "      <td>Petrol</td>\n",
       "      <td>86.0</td>\n",
       "      <td>NaN</td>\n",
       "      <td>Blue</td>\n",
       "      <td>0.0</td>\n",
       "      <td>1300.0</td>\n",
       "      <td>3.0</td>\n",
       "      <td>4.0</td>\n",
       "      <td>5.0</td>\n",
       "      <td>69.0</td>\n",
       "      <td>1015.0</td>\n",
       "      <td>0.0</td>\n",
       "      <td>1.0</td>\n",
       "      <td>3.0</td>\n",
       "      <td>1.0</td>\n",
       "      <td>1.0</td>\n",
       "      <td>1.0</td>\n",
       "      <td>0.0</td>\n",
       "      <td>0.0</td>\n",
       "      <td>0.0</td>\n",
       "      <td>0.0</td>\n",
       "      <td>1.0</td>\n",
       "      <td>1.0</td>\n",
       "      <td>NaN</td>\n",
       "      <td>0.0</td>\n",
       "      <td>0.0</td>\n",
       "      <td>1.0</td>\n",
       "      <td>1.0</td>\n",
       "      <td>0.0</td>\n",
       "      <td>0.0</td>\n",
       "      <td>0.0</td>\n",
       "      <td>1.0</td>\n",
       "    </tr>\n",
       "    <tr>\n",
       "      <th>283</th>\n",
       "      <td>NaN</td>\n",
       "      <td>TOYOTA Corolla 1.6 16V VVT I LIFTB TERRA 4/5-D...</td>\n",
       "      <td>41.0</td>\n",
       "      <td>April</td>\n",
       "      <td>2001.0</td>\n",
       "      <td>45287.0</td>\n",
       "      <td>Petrol</td>\n",
       "      <td>110.0</td>\n",
       "      <td>1.0</td>\n",
       "      <td>Red</td>\n",
       "      <td>0.0</td>\n",
       "      <td>1600.0</td>\n",
       "      <td>5.0</td>\n",
       "      <td>4.0</td>\n",
       "      <td>5.0</td>\n",
       "      <td>85.0</td>\n",
       "      <td>1075.0</td>\n",
       "      <td>0.0</td>\n",
       "      <td>1.0</td>\n",
       "      <td>3.0</td>\n",
       "      <td>1.0</td>\n",
       "      <td>1.0</td>\n",
       "      <td>NaN</td>\n",
       "      <td>0.0</td>\n",
       "      <td>0.0</td>\n",
       "      <td>1.0</td>\n",
       "      <td>1.0</td>\n",
       "      <td>0.0</td>\n",
       "      <td>0.0</td>\n",
       "      <td>1.0</td>\n",
       "      <td>0.0</td>\n",
       "      <td>0.0</td>\n",
       "      <td>0.0</td>\n",
       "      <td>1.0</td>\n",
       "      <td>NaN</td>\n",
       "      <td>0.0</td>\n",
       "      <td>0.0</td>\n",
       "      <td>1.0</td>\n",
       "    </tr>\n",
       "    <tr>\n",
       "      <th>1254</th>\n",
       "      <td>1270.0</td>\n",
       "      <td>TOYOTA Corolla 1.3 Linea Terra wagon Stationwagen</td>\n",
       "      <td>78.0</td>\n",
       "      <td>NaN</td>\n",
       "      <td>1998.0</td>\n",
       "      <td>NaN</td>\n",
       "      <td>Petrol</td>\n",
       "      <td>86.0</td>\n",
       "      <td>1.0</td>\n",
       "      <td>Red</td>\n",
       "      <td>0.0</td>\n",
       "      <td>1300.0</td>\n",
       "      <td>NaN</td>\n",
       "      <td>4.0</td>\n",
       "      <td>5.0</td>\n",
       "      <td>69.0</td>\n",
       "      <td>1050.0</td>\n",
       "      <td>0.0</td>\n",
       "      <td>0.0</td>\n",
       "      <td>12.0</td>\n",
       "      <td>0.0</td>\n",
       "      <td>1.0</td>\n",
       "      <td>0.0</td>\n",
       "      <td>0.0</td>\n",
       "      <td>0.0</td>\n",
       "      <td>0.0</td>\n",
       "      <td>0.0</td>\n",
       "      <td>0.0</td>\n",
       "      <td>0.0</td>\n",
       "      <td>1.0</td>\n",
       "      <td>0.0</td>\n",
       "      <td>0.0</td>\n",
       "      <td>0.0</td>\n",
       "      <td>0.0</td>\n",
       "      <td>0.0</td>\n",
       "      <td>0.0</td>\n",
       "      <td>0.0</td>\n",
       "      <td>1.0</td>\n",
       "    </tr>\n",
       "    <tr>\n",
       "      <th>1125</th>\n",
       "      <td>1140.0</td>\n",
       "      <td>TOYOTA Corolla 1.6 16V HATCHB S 2/3-Doors</td>\n",
       "      <td>72.0</td>\n",
       "      <td>September</td>\n",
       "      <td>1998.0</td>\n",
       "      <td>106108.0</td>\n",
       "      <td>Petrol</td>\n",
       "      <td>110.0</td>\n",
       "      <td>1.0</td>\n",
       "      <td>Blue</td>\n",
       "      <td>0.0</td>\n",
       "      <td>NaN</td>\n",
       "      <td>3.0</td>\n",
       "      <td>4.0</td>\n",
       "      <td>5.0</td>\n",
       "      <td>NaN</td>\n",
       "      <td>1050.0</td>\n",
       "      <td>0.0</td>\n",
       "      <td>1.0</td>\n",
       "      <td>3.0</td>\n",
       "      <td>0.0</td>\n",
       "      <td>1.0</td>\n",
       "      <td>0.0</td>\n",
       "      <td>0.0</td>\n",
       "      <td>0.0</td>\n",
       "      <td>0.0</td>\n",
       "      <td>0.0</td>\n",
       "      <td>1.0</td>\n",
       "      <td>1.0</td>\n",
       "      <td>1.0</td>\n",
       "      <td>0.0</td>\n",
       "      <td>0.0</td>\n",
       "      <td>0.0</td>\n",
       "      <td>1.0</td>\n",
       "      <td>1.0</td>\n",
       "      <td>0.0</td>\n",
       "      <td>0.0</td>\n",
       "      <td>0.0</td>\n",
       "    </tr>\n",
       "    <tr>\n",
       "      <th>412</th>\n",
       "      <td>418.0</td>\n",
       "      <td>TOYOTA Corolla 1.6 16V VVT I LIFTB SOL 4/5-Doors</td>\n",
       "      <td>55.0</td>\n",
       "      <td>February</td>\n",
       "      <td>2000.0</td>\n",
       "      <td>97234.0</td>\n",
       "      <td>Petrol</td>\n",
       "      <td>110.0</td>\n",
       "      <td>0.0</td>\n",
       "      <td>Blue</td>\n",
       "      <td>0.0</td>\n",
       "      <td>1600.0</td>\n",
       "      <td>5.0</td>\n",
       "      <td>4.0</td>\n",
       "      <td>5.0</td>\n",
       "      <td>85.0</td>\n",
       "      <td>1080.0</td>\n",
       "      <td>0.0</td>\n",
       "      <td>1.0</td>\n",
       "      <td>3.0</td>\n",
       "      <td>1.0</td>\n",
       "      <td>1.0</td>\n",
       "      <td>1.0</td>\n",
       "      <td>1.0</td>\n",
       "      <td>0.0</td>\n",
       "      <td>1.0</td>\n",
       "      <td>0.0</td>\n",
       "      <td>1.0</td>\n",
       "      <td>1.0</td>\n",
       "      <td>1.0</td>\n",
       "      <td>0.0</td>\n",
       "      <td>1.0</td>\n",
       "      <td>0.0</td>\n",
       "      <td>1.0</td>\n",
       "      <td>0.0</td>\n",
       "      <td>0.0</td>\n",
       "      <td>0.0</td>\n",
       "      <td>0.0</td>\n",
       "    </tr>\n",
       "  </tbody>\n",
       "</table>\n",
       "<p>357 rows × 38 columns</p>\n",
       "</div>"
      ],
      "text/plain": [
       "          Id  ... Tow_Bar\n",
       "740    748.0  ...     1.0\n",
       "644    651.0  ...     0.0\n",
       "434    440.0  ...     NaN\n",
       "858    867.0  ...     0.0\n",
       "141    143.0  ...     0.0\n",
       "...      ...  ...     ...\n",
       "416    422.0  ...     1.0\n",
       "283      NaN  ...     1.0\n",
       "1254  1270.0  ...     1.0\n",
       "1125  1140.0  ...     0.0\n",
       "412    418.0  ...     0.0\n",
       "\n",
       "[357 rows x 38 columns]"
      ]
     },
     "execution_count": 11,
     "metadata": {
      "tags": []
     },
     "output_type": "execute_result"
    }
   ],
   "source": [
    "test_X"
   ]
  },
  {
   "cell_type": "code",
   "execution_count": 12,
   "metadata": {
    "colab": {
     "base_uri": "https://localhost:8080/"
    },
    "id": "mvEMdtc0mtuj",
    "outputId": "e533f088-93d7-4706-af6d-03956cdd5433"
   },
   "outputs": [
    {
     "data": {
      "text/plain": [
       "740      7450\n",
       "644      6950\n",
       "434      9750\n",
       "858      8200\n",
       "141     23950\n",
       "        ...  \n",
       "416      8950\n",
       "283     11950\n",
       "1254     8450\n",
       "1125     7750\n",
       "412      9950\n",
       "Name: Price, Length: 357, dtype: int64"
      ]
     },
     "execution_count": 12,
     "metadata": {
      "tags": []
     },
     "output_type": "execute_result"
    }
   ],
   "source": [
    "test_Y"
   ]
  },
  {
   "cell_type": "markdown",
   "metadata": {
    "id": "H2Ro7tpHmtuj"
   },
   "source": [
    "### 7) Exploratory Analysis on Train and Test Data\n",
    "#### First we explore the Train and Test Data to see if we can drop insignificant columns and if imputations are required."
   ]
  },
  {
   "cell_type": "code",
   "execution_count": 13,
   "metadata": {
    "colab": {
     "base_uri": "https://localhost:8080/"
    },
    "id": "4NHtyBmamtuj",
    "outputId": "9cc1543f-a765-4ff7-987a-8587c5c25a92"
   },
   "outputs": [
    {
     "name": "stdout",
     "output_type": "stream",
     "text": [
      "<class 'pandas.core.frame.DataFrame'>\n",
      "Int64Index: 1068 entries, 1297 to 684\n",
      "Data columns (total 38 columns):\n",
      " #   Column             Non-Null Count  Dtype  \n",
      "---  ------             --------------  -----  \n",
      " 0   Id                 1014 non-null   float64\n",
      " 1   Model              1025 non-null   object \n",
      " 2   Age_08_04          1025 non-null   float64\n",
      " 3   Mfg_Month          1013 non-null   object \n",
      " 4   Mfg_Year           1005 non-null   float64\n",
      " 5   KM                 1015 non-null   float64\n",
      " 6   Fuel_Type          1015 non-null   object \n",
      " 7   HP                 1023 non-null   float64\n",
      " 8   Met_Color          1009 non-null   float64\n",
      " 9   Color              1019 non-null   object \n",
      " 10  Automatic          1013 non-null   float64\n",
      " 11  CC                 1018 non-null   float64\n",
      " 12  Doors              1021 non-null   float64\n",
      " 13  Cylinders          1018 non-null   float64\n",
      " 14  Gears              1008 non-null   float64\n",
      " 15  Quarterly_Tax      1013 non-null   float64\n",
      " 16  Weight             1012 non-null   float64\n",
      " 17  Mfr_Guarantee      1016 non-null   float64\n",
      " 18  BOVAG_Guarantee    1004 non-null   float64\n",
      " 19  Guarantee_Period   1023 non-null   float64\n",
      " 20  ABS                1021 non-null   float64\n",
      " 21  Airbag_1           1012 non-null   float64\n",
      " 22  Airbag_2           1016 non-null   float64\n",
      " 23  Airco              1022 non-null   float64\n",
      " 24  Automatic_airco    1017 non-null   float64\n",
      " 25  Boardcomputer      1005 non-null   float64\n",
      " 26  CD_Player          1007 non-null   float64\n",
      " 27  Central_Lock       1028 non-null   float64\n",
      " 28  Powered_Windows    1006 non-null   float64\n",
      " 29  Power_Steering     1014 non-null   float64\n",
      " 30  Radio              1018 non-null   float64\n",
      " 31  Mistlamps          1021 non-null   float64\n",
      " 32  Sport_Model        1013 non-null   float64\n",
      " 33  Backseat_Divider   1018 non-null   float64\n",
      " 34  Metallic_Rim       1013 non-null   float64\n",
      " 35  Radio_cassette     1014 non-null   float64\n",
      " 36  Parking_Assistant  1007 non-null   float64\n",
      " 37  Tow_Bar            1018 non-null   float64\n",
      "dtypes: float64(34), object(4)\n",
      "memory usage: 325.4+ KB\n"
     ]
    }
   ],
   "source": [
    "train_X.info()"
   ]
  },
  {
   "cell_type": "markdown",
   "metadata": {
    "id": "kHV_KV2qmtuk"
   },
   "source": [
    "### 8) Dropping Insignificant Columns from the Feature Dataset\n",
    "#### The Id and Model Name are the ones which are insignificant so first we work on the Train_X and drop these columns"
   ]
  },
  {
   "cell_type": "code",
   "execution_count": 14,
   "metadata": {
    "colab": {
     "base_uri": "https://localhost:8080/",
     "height": 0
    },
    "id": "z7YGQ6BJmtuk",
    "outputId": "bfbcc3c4-7ccd-4743-d8db-25fbd3880331"
   },
   "outputs": [
    {
     "data": {
      "text/html": [
       "<div>\n",
       "<style scoped>\n",
       "    .dataframe tbody tr th:only-of-type {\n",
       "        vertical-align: middle;\n",
       "    }\n",
       "\n",
       "    .dataframe tbody tr th {\n",
       "        vertical-align: top;\n",
       "    }\n",
       "\n",
       "    .dataframe thead th {\n",
       "        text-align: right;\n",
       "    }\n",
       "</style>\n",
       "<table border=\"1\" class=\"dataframe\">\n",
       "  <thead>\n",
       "    <tr style=\"text-align: right;\">\n",
       "      <th></th>\n",
       "      <th>Age_08_04</th>\n",
       "      <th>Mfg_Month</th>\n",
       "      <th>Mfg_Year</th>\n",
       "      <th>KM</th>\n",
       "      <th>Fuel_Type</th>\n",
       "      <th>HP</th>\n",
       "      <th>Met_Color</th>\n",
       "      <th>Color</th>\n",
       "      <th>Automatic</th>\n",
       "      <th>CC</th>\n",
       "      <th>Doors</th>\n",
       "      <th>Cylinders</th>\n",
       "      <th>Gears</th>\n",
       "      <th>Quarterly_Tax</th>\n",
       "      <th>Weight</th>\n",
       "      <th>Mfr_Guarantee</th>\n",
       "      <th>BOVAG_Guarantee</th>\n",
       "      <th>Guarantee_Period</th>\n",
       "      <th>ABS</th>\n",
       "      <th>Airbag_1</th>\n",
       "      <th>Airbag_2</th>\n",
       "      <th>Airco</th>\n",
       "      <th>Automatic_airco</th>\n",
       "      <th>Boardcomputer</th>\n",
       "      <th>CD_Player</th>\n",
       "      <th>Central_Lock</th>\n",
       "      <th>Powered_Windows</th>\n",
       "      <th>Power_Steering</th>\n",
       "      <th>Radio</th>\n",
       "      <th>Mistlamps</th>\n",
       "      <th>Sport_Model</th>\n",
       "      <th>Backseat_Divider</th>\n",
       "      <th>Metallic_Rim</th>\n",
       "      <th>Radio_cassette</th>\n",
       "      <th>Parking_Assistant</th>\n",
       "      <th>Tow_Bar</th>\n",
       "    </tr>\n",
       "  </thead>\n",
       "  <tbody>\n",
       "    <tr>\n",
       "      <th>1297</th>\n",
       "      <td>76.0</td>\n",
       "      <td>May</td>\n",
       "      <td>1998.0</td>\n",
       "      <td>70039.0</td>\n",
       "      <td>Petrol</td>\n",
       "      <td>110.0</td>\n",
       "      <td>1.0</td>\n",
       "      <td>Grey</td>\n",
       "      <td>0.0</td>\n",
       "      <td>1600.0</td>\n",
       "      <td>3.0</td>\n",
       "      <td>4.0</td>\n",
       "      <td>5.0</td>\n",
       "      <td>69.0</td>\n",
       "      <td>1050.0</td>\n",
       "      <td>1.0</td>\n",
       "      <td>1.0</td>\n",
       "      <td>3.0</td>\n",
       "      <td>1.0</td>\n",
       "      <td>1.0</td>\n",
       "      <td>0.0</td>\n",
       "      <td>0.0</td>\n",
       "      <td>0.0</td>\n",
       "      <td>0.0</td>\n",
       "      <td>0.0</td>\n",
       "      <td>0.0</td>\n",
       "      <td>0.0</td>\n",
       "      <td>1.0</td>\n",
       "      <td>0.0</td>\n",
       "      <td>0.0</td>\n",
       "      <td>1.0</td>\n",
       "      <td>1.0</td>\n",
       "      <td>0.0</td>\n",
       "      <td>0.0</td>\n",
       "      <td>0.0</td>\n",
       "      <td>1.0</td>\n",
       "    </tr>\n",
       "    <tr>\n",
       "      <th>338</th>\n",
       "      <td>41.0</td>\n",
       "      <td>April</td>\n",
       "      <td>2001.0</td>\n",
       "      <td>29716.0</td>\n",
       "      <td>Petrol</td>\n",
       "      <td>116.0</td>\n",
       "      <td>1.0</td>\n",
       "      <td>Grey</td>\n",
       "      <td>0.0</td>\n",
       "      <td>1600.0</td>\n",
       "      <td>5.0</td>\n",
       "      <td>4.0</td>\n",
       "      <td>5.0</td>\n",
       "      <td>85.0</td>\n",
       "      <td>1075.0</td>\n",
       "      <td>0.0</td>\n",
       "      <td>1.0</td>\n",
       "      <td>3.0</td>\n",
       "      <td>1.0</td>\n",
       "      <td>1.0</td>\n",
       "      <td>NaN</td>\n",
       "      <td>NaN</td>\n",
       "      <td>0.0</td>\n",
       "      <td>NaN</td>\n",
       "      <td>1.0</td>\n",
       "      <td>0.0</td>\n",
       "      <td>0.0</td>\n",
       "      <td>1.0</td>\n",
       "      <td>0.0</td>\n",
       "      <td>0.0</td>\n",
       "      <td>0.0</td>\n",
       "      <td>0.0</td>\n",
       "      <td>0.0</td>\n",
       "      <td>0.0</td>\n",
       "      <td>0.0</td>\n",
       "      <td>1.0</td>\n",
       "    </tr>\n",
       "    <tr>\n",
       "      <th>649</th>\n",
       "      <td>63.0</td>\n",
       "      <td>June</td>\n",
       "      <td>1999.0</td>\n",
       "      <td>115000.0</td>\n",
       "      <td>CNG</td>\n",
       "      <td>110.0</td>\n",
       "      <td>0.0</td>\n",
       "      <td>Red</td>\n",
       "      <td>0.0</td>\n",
       "      <td>1600.0</td>\n",
       "      <td>3.0</td>\n",
       "      <td>NaN</td>\n",
       "      <td>5.0</td>\n",
       "      <td>197.0</td>\n",
       "      <td>1109.0</td>\n",
       "      <td>0.0</td>\n",
       "      <td>1.0</td>\n",
       "      <td>6.0</td>\n",
       "      <td>1.0</td>\n",
       "      <td>1.0</td>\n",
       "      <td>0.0</td>\n",
       "      <td>1.0</td>\n",
       "      <td>0.0</td>\n",
       "      <td>0.0</td>\n",
       "      <td>0.0</td>\n",
       "      <td>1.0</td>\n",
       "      <td>NaN</td>\n",
       "      <td>1.0</td>\n",
       "      <td>0.0</td>\n",
       "      <td>1.0</td>\n",
       "      <td>0.0</td>\n",
       "      <td>0.0</td>\n",
       "      <td>1.0</td>\n",
       "      <td>0.0</td>\n",
       "      <td>0.0</td>\n",
       "      <td>1.0</td>\n",
       "    </tr>\n",
       "    <tr>\n",
       "      <th>1366</th>\n",
       "      <td>80.0</td>\n",
       "      <td>January</td>\n",
       "      <td>1998.0</td>\n",
       "      <td>57000.0</td>\n",
       "      <td>Petrol</td>\n",
       "      <td>86.0</td>\n",
       "      <td>0.0</td>\n",
       "      <td>Blue</td>\n",
       "      <td>0.0</td>\n",
       "      <td>1300.0</td>\n",
       "      <td>4.0</td>\n",
       "      <td>4.0</td>\n",
       "      <td>5.0</td>\n",
       "      <td>69.0</td>\n",
       "      <td>1000.0</td>\n",
       "      <td>1.0</td>\n",
       "      <td>1.0</td>\n",
       "      <td>3.0</td>\n",
       "      <td>NaN</td>\n",
       "      <td>1.0</td>\n",
       "      <td>0.0</td>\n",
       "      <td>0.0</td>\n",
       "      <td>0.0</td>\n",
       "      <td>0.0</td>\n",
       "      <td>0.0</td>\n",
       "      <td>0.0</td>\n",
       "      <td>0.0</td>\n",
       "      <td>1.0</td>\n",
       "      <td>0.0</td>\n",
       "      <td>0.0</td>\n",
       "      <td>0.0</td>\n",
       "      <td>0.0</td>\n",
       "      <td>0.0</td>\n",
       "      <td>0.0</td>\n",
       "      <td>0.0</td>\n",
       "      <td>0.0</td>\n",
       "    </tr>\n",
       "    <tr>\n",
       "      <th>918</th>\n",
       "      <td>67.0</td>\n",
       "      <td>February</td>\n",
       "      <td>1999.0</td>\n",
       "      <td>57000.0</td>\n",
       "      <td>Petrol</td>\n",
       "      <td>110.0</td>\n",
       "      <td>0.0</td>\n",
       "      <td>Grey</td>\n",
       "      <td>0.0</td>\n",
       "      <td>1600.0</td>\n",
       "      <td>3.0</td>\n",
       "      <td>4.0</td>\n",
       "      <td>5.0</td>\n",
       "      <td>69.0</td>\n",
       "      <td>1050.0</td>\n",
       "      <td>0.0</td>\n",
       "      <td>1.0</td>\n",
       "      <td>3.0</td>\n",
       "      <td>1.0</td>\n",
       "      <td>1.0</td>\n",
       "      <td>1.0</td>\n",
       "      <td>0.0</td>\n",
       "      <td>0.0</td>\n",
       "      <td>0.0</td>\n",
       "      <td>0.0</td>\n",
       "      <td>0.0</td>\n",
       "      <td>0.0</td>\n",
       "      <td>1.0</td>\n",
       "      <td>0.0</td>\n",
       "      <td>0.0</td>\n",
       "      <td>1.0</td>\n",
       "      <td>1.0</td>\n",
       "      <td>0.0</td>\n",
       "      <td>0.0</td>\n",
       "      <td>0.0</td>\n",
       "      <td>0.0</td>\n",
       "    </tr>\n",
       "    <tr>\n",
       "      <th>...</th>\n",
       "      <td>...</td>\n",
       "      <td>...</td>\n",
       "      <td>...</td>\n",
       "      <td>...</td>\n",
       "      <td>...</td>\n",
       "      <td>...</td>\n",
       "      <td>...</td>\n",
       "      <td>...</td>\n",
       "      <td>...</td>\n",
       "      <td>...</td>\n",
       "      <td>...</td>\n",
       "      <td>...</td>\n",
       "      <td>...</td>\n",
       "      <td>...</td>\n",
       "      <td>...</td>\n",
       "      <td>...</td>\n",
       "      <td>...</td>\n",
       "      <td>...</td>\n",
       "      <td>...</td>\n",
       "      <td>...</td>\n",
       "      <td>...</td>\n",
       "      <td>...</td>\n",
       "      <td>...</td>\n",
       "      <td>...</td>\n",
       "      <td>...</td>\n",
       "      <td>...</td>\n",
       "      <td>...</td>\n",
       "      <td>...</td>\n",
       "      <td>...</td>\n",
       "      <td>...</td>\n",
       "      <td>...</td>\n",
       "      <td>...</td>\n",
       "      <td>...</td>\n",
       "      <td>...</td>\n",
       "      <td>...</td>\n",
       "      <td>...</td>\n",
       "    </tr>\n",
       "    <tr>\n",
       "      <th>763</th>\n",
       "      <td>59.0</td>\n",
       "      <td>October</td>\n",
       "      <td>1999.0</td>\n",
       "      <td>78750.0</td>\n",
       "      <td>Diesel</td>\n",
       "      <td>90.0</td>\n",
       "      <td>1.0</td>\n",
       "      <td>Silver</td>\n",
       "      <td>NaN</td>\n",
       "      <td>1975.0</td>\n",
       "      <td>5.0</td>\n",
       "      <td>4.0</td>\n",
       "      <td>5.0</td>\n",
       "      <td>210.0</td>\n",
       "      <td>1155.0</td>\n",
       "      <td>0.0</td>\n",
       "      <td>0.0</td>\n",
       "      <td>NaN</td>\n",
       "      <td>0.0</td>\n",
       "      <td>1.0</td>\n",
       "      <td>0.0</td>\n",
       "      <td>1.0</td>\n",
       "      <td>0.0</td>\n",
       "      <td>0.0</td>\n",
       "      <td>0.0</td>\n",
       "      <td>0.0</td>\n",
       "      <td>1.0</td>\n",
       "      <td>1.0</td>\n",
       "      <td>1.0</td>\n",
       "      <td>0.0</td>\n",
       "      <td>0.0</td>\n",
       "      <td>0.0</td>\n",
       "      <td>0.0</td>\n",
       "      <td>1.0</td>\n",
       "      <td>0.0</td>\n",
       "      <td>NaN</td>\n",
       "    </tr>\n",
       "    <tr>\n",
       "      <th>835</th>\n",
       "      <td>68.0</td>\n",
       "      <td>January</td>\n",
       "      <td>1999.0</td>\n",
       "      <td>66785.0</td>\n",
       "      <td>Petrol</td>\n",
       "      <td>86.0</td>\n",
       "      <td>0.0</td>\n",
       "      <td>Blue</td>\n",
       "      <td>1.0</td>\n",
       "      <td>1300.0</td>\n",
       "      <td>3.0</td>\n",
       "      <td>4.0</td>\n",
       "      <td>5.0</td>\n",
       "      <td>69.0</td>\n",
       "      <td>1045.0</td>\n",
       "      <td>0.0</td>\n",
       "      <td>1.0</td>\n",
       "      <td>3.0</td>\n",
       "      <td>1.0</td>\n",
       "      <td>1.0</td>\n",
       "      <td>1.0</td>\n",
       "      <td>0.0</td>\n",
       "      <td>0.0</td>\n",
       "      <td>0.0</td>\n",
       "      <td>0.0</td>\n",
       "      <td>0.0</td>\n",
       "      <td>0.0</td>\n",
       "      <td>1.0</td>\n",
       "      <td>0.0</td>\n",
       "      <td>0.0</td>\n",
       "      <td>1.0</td>\n",
       "      <td>1.0</td>\n",
       "      <td>0.0</td>\n",
       "      <td>0.0</td>\n",
       "      <td>0.0</td>\n",
       "      <td>0.0</td>\n",
       "    </tr>\n",
       "    <tr>\n",
       "      <th>1216</th>\n",
       "      <td>74.0</td>\n",
       "      <td>July</td>\n",
       "      <td>1998.0</td>\n",
       "      <td>84123.0</td>\n",
       "      <td>Petrol</td>\n",
       "      <td>110.0</td>\n",
       "      <td>0.0</td>\n",
       "      <td>Black</td>\n",
       "      <td>0.0</td>\n",
       "      <td>1600.0</td>\n",
       "      <td>3.0</td>\n",
       "      <td>4.0</td>\n",
       "      <td>5.0</td>\n",
       "      <td>69.0</td>\n",
       "      <td>1050.0</td>\n",
       "      <td>0.0</td>\n",
       "      <td>1.0</td>\n",
       "      <td>3.0</td>\n",
       "      <td>1.0</td>\n",
       "      <td>1.0</td>\n",
       "      <td>1.0</td>\n",
       "      <td>0.0</td>\n",
       "      <td>0.0</td>\n",
       "      <td>0.0</td>\n",
       "      <td>0.0</td>\n",
       "      <td>0.0</td>\n",
       "      <td>0.0</td>\n",
       "      <td>1.0</td>\n",
       "      <td>0.0</td>\n",
       "      <td>0.0</td>\n",
       "      <td>1.0</td>\n",
       "      <td>1.0</td>\n",
       "      <td>0.0</td>\n",
       "      <td>0.0</td>\n",
       "      <td>0.0</td>\n",
       "      <td>0.0</td>\n",
       "    </tr>\n",
       "    <tr>\n",
       "      <th>559</th>\n",
       "      <td>NaN</td>\n",
       "      <td>October</td>\n",
       "      <td>2000.0</td>\n",
       "      <td>38900.0</td>\n",
       "      <td>NaN</td>\n",
       "      <td>97.0</td>\n",
       "      <td>1.0</td>\n",
       "      <td>Grey</td>\n",
       "      <td>0.0</td>\n",
       "      <td>1400.0</td>\n",
       "      <td>3.0</td>\n",
       "      <td>4.0</td>\n",
       "      <td>5.0</td>\n",
       "      <td>NaN</td>\n",
       "      <td>1025.0</td>\n",
       "      <td>0.0</td>\n",
       "      <td>1.0</td>\n",
       "      <td>3.0</td>\n",
       "      <td>1.0</td>\n",
       "      <td>NaN</td>\n",
       "      <td>1.0</td>\n",
       "      <td>0.0</td>\n",
       "      <td>0.0</td>\n",
       "      <td>1.0</td>\n",
       "      <td>1.0</td>\n",
       "      <td>0.0</td>\n",
       "      <td>0.0</td>\n",
       "      <td>1.0</td>\n",
       "      <td>0.0</td>\n",
       "      <td>0.0</td>\n",
       "      <td>NaN</td>\n",
       "      <td>1.0</td>\n",
       "      <td>0.0</td>\n",
       "      <td>0.0</td>\n",
       "      <td>0.0</td>\n",
       "      <td>0.0</td>\n",
       "    </tr>\n",
       "    <tr>\n",
       "      <th>684</th>\n",
       "      <td>67.0</td>\n",
       "      <td>February</td>\n",
       "      <td>1999.0</td>\n",
       "      <td>99781.0</td>\n",
       "      <td>Petrol</td>\n",
       "      <td>110.0</td>\n",
       "      <td>1.0</td>\n",
       "      <td>Grey</td>\n",
       "      <td>0.0</td>\n",
       "      <td>1600.0</td>\n",
       "      <td>5.0</td>\n",
       "      <td>4.0</td>\n",
       "      <td>5.0</td>\n",
       "      <td>85.0</td>\n",
       "      <td>1085.0</td>\n",
       "      <td>0.0</td>\n",
       "      <td>1.0</td>\n",
       "      <td>3.0</td>\n",
       "      <td>1.0</td>\n",
       "      <td>NaN</td>\n",
       "      <td>1.0</td>\n",
       "      <td>0.0</td>\n",
       "      <td>0.0</td>\n",
       "      <td>0.0</td>\n",
       "      <td>0.0</td>\n",
       "      <td>0.0</td>\n",
       "      <td>0.0</td>\n",
       "      <td>1.0</td>\n",
       "      <td>0.0</td>\n",
       "      <td>0.0</td>\n",
       "      <td>NaN</td>\n",
       "      <td>1.0</td>\n",
       "      <td>0.0</td>\n",
       "      <td>0.0</td>\n",
       "      <td>NaN</td>\n",
       "      <td>0.0</td>\n",
       "    </tr>\n",
       "  </tbody>\n",
       "</table>\n",
       "<p>1068 rows × 36 columns</p>\n",
       "</div>"
      ],
      "text/plain": [
       "      Age_08_04 Mfg_Month  Mfg_Year  ...  Radio_cassette Parking_Assistant  Tow_Bar\n",
       "1297       76.0       May    1998.0  ...             0.0               0.0      1.0\n",
       "338        41.0     April    2001.0  ...             0.0               0.0      1.0\n",
       "649        63.0      June    1999.0  ...             0.0               0.0      1.0\n",
       "1366       80.0   January    1998.0  ...             0.0               0.0      0.0\n",
       "918        67.0  February    1999.0  ...             0.0               0.0      0.0\n",
       "...         ...       ...       ...  ...             ...               ...      ...\n",
       "763        59.0   October    1999.0  ...             1.0               0.0      NaN\n",
       "835        68.0   January    1999.0  ...             0.0               0.0      0.0\n",
       "1216       74.0      July    1998.0  ...             0.0               0.0      0.0\n",
       "559         NaN   October    2000.0  ...             0.0               0.0      0.0\n",
       "684        67.0  February    1999.0  ...             0.0               NaN      0.0\n",
       "\n",
       "[1068 rows x 36 columns]"
      ]
     },
     "execution_count": 14,
     "metadata": {
      "tags": []
     },
     "output_type": "execute_result"
    }
   ],
   "source": [
    "train_X.drop(columns = ['Id','Model'], axis = 1, inplace = True)\n",
    "train_X\n"
   ]
  },
  {
   "cell_type": "markdown",
   "metadata": {
    "id": "JH3wBssQmtuk"
   },
   "source": [
    "#### Similarly we drop the Id and Model Name from the Test_X as well."
   ]
  },
  {
   "cell_type": "code",
   "execution_count": 15,
   "metadata": {
    "colab": {
     "base_uri": "https://localhost:8080/",
     "height": 0
    },
    "id": "QfE5qfIxmtuk",
    "outputId": "a04b0e21-8f30-4e15-f94f-d0ba5ec02cf5"
   },
   "outputs": [
    {
     "data": {
      "text/html": [
       "<div>\n",
       "<style scoped>\n",
       "    .dataframe tbody tr th:only-of-type {\n",
       "        vertical-align: middle;\n",
       "    }\n",
       "\n",
       "    .dataframe tbody tr th {\n",
       "        vertical-align: top;\n",
       "    }\n",
       "\n",
       "    .dataframe thead th {\n",
       "        text-align: right;\n",
       "    }\n",
       "</style>\n",
       "<table border=\"1\" class=\"dataframe\">\n",
       "  <thead>\n",
       "    <tr style=\"text-align: right;\">\n",
       "      <th></th>\n",
       "      <th>Age_08_04</th>\n",
       "      <th>Mfg_Month</th>\n",
       "      <th>Mfg_Year</th>\n",
       "      <th>KM</th>\n",
       "      <th>Fuel_Type</th>\n",
       "      <th>HP</th>\n",
       "      <th>Met_Color</th>\n",
       "      <th>Color</th>\n",
       "      <th>Automatic</th>\n",
       "      <th>CC</th>\n",
       "      <th>Doors</th>\n",
       "      <th>Cylinders</th>\n",
       "      <th>Gears</th>\n",
       "      <th>Quarterly_Tax</th>\n",
       "      <th>Weight</th>\n",
       "      <th>Mfr_Guarantee</th>\n",
       "      <th>BOVAG_Guarantee</th>\n",
       "      <th>Guarantee_Period</th>\n",
       "      <th>ABS</th>\n",
       "      <th>Airbag_1</th>\n",
       "      <th>Airbag_2</th>\n",
       "      <th>Airco</th>\n",
       "      <th>Automatic_airco</th>\n",
       "      <th>Boardcomputer</th>\n",
       "      <th>CD_Player</th>\n",
       "      <th>Central_Lock</th>\n",
       "      <th>Powered_Windows</th>\n",
       "      <th>Power_Steering</th>\n",
       "      <th>Radio</th>\n",
       "      <th>Mistlamps</th>\n",
       "      <th>Sport_Model</th>\n",
       "      <th>Backseat_Divider</th>\n",
       "      <th>Metallic_Rim</th>\n",
       "      <th>Radio_cassette</th>\n",
       "      <th>Parking_Assistant</th>\n",
       "      <th>Tow_Bar</th>\n",
       "    </tr>\n",
       "  </thead>\n",
       "  <tbody>\n",
       "    <tr>\n",
       "      <th>740</th>\n",
       "      <td>65.0</td>\n",
       "      <td>April</td>\n",
       "      <td>1999.0</td>\n",
       "      <td>NaN</td>\n",
       "      <td>Petrol</td>\n",
       "      <td>86.0</td>\n",
       "      <td>1.0</td>\n",
       "      <td>Blue</td>\n",
       "      <td>0.0</td>\n",
       "      <td>1300.0</td>\n",
       "      <td>3.0</td>\n",
       "      <td>4.0</td>\n",
       "      <td>5.0</td>\n",
       "      <td>69.0</td>\n",
       "      <td>1015.0</td>\n",
       "      <td>0.0</td>\n",
       "      <td>0.0</td>\n",
       "      <td>3.0</td>\n",
       "      <td>1.0</td>\n",
       "      <td>1.0</td>\n",
       "      <td>1.0</td>\n",
       "      <td>0.0</td>\n",
       "      <td>0.0</td>\n",
       "      <td>0.0</td>\n",
       "      <td>0.0</td>\n",
       "      <td>0.0</td>\n",
       "      <td>0.0</td>\n",
       "      <td>1.0</td>\n",
       "      <td>0.0</td>\n",
       "      <td>0.0</td>\n",
       "      <td>NaN</td>\n",
       "      <td>1.0</td>\n",
       "      <td>NaN</td>\n",
       "      <td>0.0</td>\n",
       "      <td>0.0</td>\n",
       "      <td>1.0</td>\n",
       "    </tr>\n",
       "    <tr>\n",
       "      <th>644</th>\n",
       "      <td>68.0</td>\n",
       "      <td>January</td>\n",
       "      <td>1999.0</td>\n",
       "      <td>117000.0</td>\n",
       "      <td>Diesel</td>\n",
       "      <td>72.0</td>\n",
       "      <td>0.0</td>\n",
       "      <td>Silver</td>\n",
       "      <td>0.0</td>\n",
       "      <td>2000.0</td>\n",
       "      <td>3.0</td>\n",
       "      <td>4.0</td>\n",
       "      <td>5.0</td>\n",
       "      <td>185.0</td>\n",
       "      <td>1115.0</td>\n",
       "      <td>0.0</td>\n",
       "      <td>1.0</td>\n",
       "      <td>3.0</td>\n",
       "      <td>1.0</td>\n",
       "      <td>1.0</td>\n",
       "      <td>1.0</td>\n",
       "      <td>0.0</td>\n",
       "      <td>0.0</td>\n",
       "      <td>0.0</td>\n",
       "      <td>NaN</td>\n",
       "      <td>0.0</td>\n",
       "      <td>0.0</td>\n",
       "      <td>1.0</td>\n",
       "      <td>0.0</td>\n",
       "      <td>0.0</td>\n",
       "      <td>1.0</td>\n",
       "      <td>NaN</td>\n",
       "      <td>0.0</td>\n",
       "      <td>0.0</td>\n",
       "      <td>0.0</td>\n",
       "      <td>0.0</td>\n",
       "    </tr>\n",
       "    <tr>\n",
       "      <th>434</th>\n",
       "      <td>48.0</td>\n",
       "      <td>NaN</td>\n",
       "      <td>2000.0</td>\n",
       "      <td>78600.0</td>\n",
       "      <td>Petrol</td>\n",
       "      <td>110.0</td>\n",
       "      <td>1.0</td>\n",
       "      <td>Blue</td>\n",
       "      <td>0.0</td>\n",
       "      <td>1600.0</td>\n",
       "      <td>5.0</td>\n",
       "      <td>4.0</td>\n",
       "      <td>5.0</td>\n",
       "      <td>85.0</td>\n",
       "      <td>1075.0</td>\n",
       "      <td>0.0</td>\n",
       "      <td>1.0</td>\n",
       "      <td>3.0</td>\n",
       "      <td>1.0</td>\n",
       "      <td>1.0</td>\n",
       "      <td>1.0</td>\n",
       "      <td>0.0</td>\n",
       "      <td>0.0</td>\n",
       "      <td>1.0</td>\n",
       "      <td>0.0</td>\n",
       "      <td>1.0</td>\n",
       "      <td>1.0</td>\n",
       "      <td>1.0</td>\n",
       "      <td>1.0</td>\n",
       "      <td>0.0</td>\n",
       "      <td>0.0</td>\n",
       "      <td>1.0</td>\n",
       "      <td>0.0</td>\n",
       "      <td>1.0</td>\n",
       "      <td>0.0</td>\n",
       "      <td>NaN</td>\n",
       "    </tr>\n",
       "    <tr>\n",
       "      <th>858</th>\n",
       "      <td>60.0</td>\n",
       "      <td>September</td>\n",
       "      <td>1999.0</td>\n",
       "      <td>64383.0</td>\n",
       "      <td>Petrol</td>\n",
       "      <td>86.0</td>\n",
       "      <td>0.0</td>\n",
       "      <td>Red</td>\n",
       "      <td>0.0</td>\n",
       "      <td>1300.0</td>\n",
       "      <td>3.0</td>\n",
       "      <td>4.0</td>\n",
       "      <td>5.0</td>\n",
       "      <td>69.0</td>\n",
       "      <td>1015.0</td>\n",
       "      <td>1.0</td>\n",
       "      <td>NaN</td>\n",
       "      <td>3.0</td>\n",
       "      <td>NaN</td>\n",
       "      <td>1.0</td>\n",
       "      <td>1.0</td>\n",
       "      <td>0.0</td>\n",
       "      <td>0.0</td>\n",
       "      <td>0.0</td>\n",
       "      <td>0.0</td>\n",
       "      <td>0.0</td>\n",
       "      <td>0.0</td>\n",
       "      <td>1.0</td>\n",
       "      <td>0.0</td>\n",
       "      <td>0.0</td>\n",
       "      <td>0.0</td>\n",
       "      <td>1.0</td>\n",
       "      <td>0.0</td>\n",
       "      <td>0.0</td>\n",
       "      <td>0.0</td>\n",
       "      <td>0.0</td>\n",
       "    </tr>\n",
       "    <tr>\n",
       "      <th>141</th>\n",
       "      <td>19.0</td>\n",
       "      <td>February</td>\n",
       "      <td>2003.0</td>\n",
       "      <td>21684.0</td>\n",
       "      <td>Petrol</td>\n",
       "      <td>192.0</td>\n",
       "      <td>1.0</td>\n",
       "      <td>Silver</td>\n",
       "      <td>0.0</td>\n",
       "      <td>1800.0</td>\n",
       "      <td>5.0</td>\n",
       "      <td>4.0</td>\n",
       "      <td>5.0</td>\n",
       "      <td>19.0</td>\n",
       "      <td>1185.0</td>\n",
       "      <td>0.0</td>\n",
       "      <td>1.0</td>\n",
       "      <td>12.0</td>\n",
       "      <td>1.0</td>\n",
       "      <td>1.0</td>\n",
       "      <td>0.0</td>\n",
       "      <td>1.0</td>\n",
       "      <td>0.0</td>\n",
       "      <td>NaN</td>\n",
       "      <td>0.0</td>\n",
       "      <td>1.0</td>\n",
       "      <td>1.0</td>\n",
       "      <td>1.0</td>\n",
       "      <td>1.0</td>\n",
       "      <td>0.0</td>\n",
       "      <td>0.0</td>\n",
       "      <td>0.0</td>\n",
       "      <td>1.0</td>\n",
       "      <td>1.0</td>\n",
       "      <td>0.0</td>\n",
       "      <td>0.0</td>\n",
       "    </tr>\n",
       "    <tr>\n",
       "      <th>...</th>\n",
       "      <td>...</td>\n",
       "      <td>...</td>\n",
       "      <td>...</td>\n",
       "      <td>...</td>\n",
       "      <td>...</td>\n",
       "      <td>...</td>\n",
       "      <td>...</td>\n",
       "      <td>...</td>\n",
       "      <td>...</td>\n",
       "      <td>...</td>\n",
       "      <td>...</td>\n",
       "      <td>...</td>\n",
       "      <td>...</td>\n",
       "      <td>...</td>\n",
       "      <td>...</td>\n",
       "      <td>...</td>\n",
       "      <td>...</td>\n",
       "      <td>...</td>\n",
       "      <td>...</td>\n",
       "      <td>...</td>\n",
       "      <td>...</td>\n",
       "      <td>...</td>\n",
       "      <td>...</td>\n",
       "      <td>...</td>\n",
       "      <td>...</td>\n",
       "      <td>...</td>\n",
       "      <td>...</td>\n",
       "      <td>...</td>\n",
       "      <td>...</td>\n",
       "      <td>...</td>\n",
       "      <td>...</td>\n",
       "      <td>...</td>\n",
       "      <td>...</td>\n",
       "      <td>...</td>\n",
       "      <td>...</td>\n",
       "      <td>...</td>\n",
       "    </tr>\n",
       "    <tr>\n",
       "      <th>416</th>\n",
       "      <td>55.0</td>\n",
       "      <td>February</td>\n",
       "      <td>2000.0</td>\n",
       "      <td>NaN</td>\n",
       "      <td>Petrol</td>\n",
       "      <td>86.0</td>\n",
       "      <td>NaN</td>\n",
       "      <td>Blue</td>\n",
       "      <td>0.0</td>\n",
       "      <td>1300.0</td>\n",
       "      <td>3.0</td>\n",
       "      <td>4.0</td>\n",
       "      <td>5.0</td>\n",
       "      <td>69.0</td>\n",
       "      <td>1015.0</td>\n",
       "      <td>0.0</td>\n",
       "      <td>1.0</td>\n",
       "      <td>3.0</td>\n",
       "      <td>1.0</td>\n",
       "      <td>1.0</td>\n",
       "      <td>1.0</td>\n",
       "      <td>0.0</td>\n",
       "      <td>0.0</td>\n",
       "      <td>0.0</td>\n",
       "      <td>0.0</td>\n",
       "      <td>1.0</td>\n",
       "      <td>1.0</td>\n",
       "      <td>NaN</td>\n",
       "      <td>0.0</td>\n",
       "      <td>0.0</td>\n",
       "      <td>1.0</td>\n",
       "      <td>1.0</td>\n",
       "      <td>0.0</td>\n",
       "      <td>0.0</td>\n",
       "      <td>0.0</td>\n",
       "      <td>1.0</td>\n",
       "    </tr>\n",
       "    <tr>\n",
       "      <th>283</th>\n",
       "      <td>41.0</td>\n",
       "      <td>April</td>\n",
       "      <td>2001.0</td>\n",
       "      <td>45287.0</td>\n",
       "      <td>Petrol</td>\n",
       "      <td>110.0</td>\n",
       "      <td>1.0</td>\n",
       "      <td>Red</td>\n",
       "      <td>0.0</td>\n",
       "      <td>1600.0</td>\n",
       "      <td>5.0</td>\n",
       "      <td>4.0</td>\n",
       "      <td>5.0</td>\n",
       "      <td>85.0</td>\n",
       "      <td>1075.0</td>\n",
       "      <td>0.0</td>\n",
       "      <td>1.0</td>\n",
       "      <td>3.0</td>\n",
       "      <td>1.0</td>\n",
       "      <td>1.0</td>\n",
       "      <td>NaN</td>\n",
       "      <td>0.0</td>\n",
       "      <td>0.0</td>\n",
       "      <td>1.0</td>\n",
       "      <td>1.0</td>\n",
       "      <td>0.0</td>\n",
       "      <td>0.0</td>\n",
       "      <td>1.0</td>\n",
       "      <td>0.0</td>\n",
       "      <td>0.0</td>\n",
       "      <td>0.0</td>\n",
       "      <td>1.0</td>\n",
       "      <td>NaN</td>\n",
       "      <td>0.0</td>\n",
       "      <td>0.0</td>\n",
       "      <td>1.0</td>\n",
       "    </tr>\n",
       "    <tr>\n",
       "      <th>1254</th>\n",
       "      <td>78.0</td>\n",
       "      <td>NaN</td>\n",
       "      <td>1998.0</td>\n",
       "      <td>NaN</td>\n",
       "      <td>Petrol</td>\n",
       "      <td>86.0</td>\n",
       "      <td>1.0</td>\n",
       "      <td>Red</td>\n",
       "      <td>0.0</td>\n",
       "      <td>1300.0</td>\n",
       "      <td>NaN</td>\n",
       "      <td>4.0</td>\n",
       "      <td>5.0</td>\n",
       "      <td>69.0</td>\n",
       "      <td>1050.0</td>\n",
       "      <td>0.0</td>\n",
       "      <td>0.0</td>\n",
       "      <td>12.0</td>\n",
       "      <td>0.0</td>\n",
       "      <td>1.0</td>\n",
       "      <td>0.0</td>\n",
       "      <td>0.0</td>\n",
       "      <td>0.0</td>\n",
       "      <td>0.0</td>\n",
       "      <td>0.0</td>\n",
       "      <td>0.0</td>\n",
       "      <td>0.0</td>\n",
       "      <td>1.0</td>\n",
       "      <td>0.0</td>\n",
       "      <td>0.0</td>\n",
       "      <td>0.0</td>\n",
       "      <td>0.0</td>\n",
       "      <td>0.0</td>\n",
       "      <td>0.0</td>\n",
       "      <td>0.0</td>\n",
       "      <td>1.0</td>\n",
       "    </tr>\n",
       "    <tr>\n",
       "      <th>1125</th>\n",
       "      <td>72.0</td>\n",
       "      <td>September</td>\n",
       "      <td>1998.0</td>\n",
       "      <td>106108.0</td>\n",
       "      <td>Petrol</td>\n",
       "      <td>110.0</td>\n",
       "      <td>1.0</td>\n",
       "      <td>Blue</td>\n",
       "      <td>0.0</td>\n",
       "      <td>NaN</td>\n",
       "      <td>3.0</td>\n",
       "      <td>4.0</td>\n",
       "      <td>5.0</td>\n",
       "      <td>NaN</td>\n",
       "      <td>1050.0</td>\n",
       "      <td>0.0</td>\n",
       "      <td>1.0</td>\n",
       "      <td>3.0</td>\n",
       "      <td>0.0</td>\n",
       "      <td>1.0</td>\n",
       "      <td>0.0</td>\n",
       "      <td>0.0</td>\n",
       "      <td>0.0</td>\n",
       "      <td>0.0</td>\n",
       "      <td>0.0</td>\n",
       "      <td>1.0</td>\n",
       "      <td>1.0</td>\n",
       "      <td>1.0</td>\n",
       "      <td>0.0</td>\n",
       "      <td>0.0</td>\n",
       "      <td>0.0</td>\n",
       "      <td>1.0</td>\n",
       "      <td>1.0</td>\n",
       "      <td>0.0</td>\n",
       "      <td>0.0</td>\n",
       "      <td>0.0</td>\n",
       "    </tr>\n",
       "    <tr>\n",
       "      <th>412</th>\n",
       "      <td>55.0</td>\n",
       "      <td>February</td>\n",
       "      <td>2000.0</td>\n",
       "      <td>97234.0</td>\n",
       "      <td>Petrol</td>\n",
       "      <td>110.0</td>\n",
       "      <td>0.0</td>\n",
       "      <td>Blue</td>\n",
       "      <td>0.0</td>\n",
       "      <td>1600.0</td>\n",
       "      <td>5.0</td>\n",
       "      <td>4.0</td>\n",
       "      <td>5.0</td>\n",
       "      <td>85.0</td>\n",
       "      <td>1080.0</td>\n",
       "      <td>0.0</td>\n",
       "      <td>1.0</td>\n",
       "      <td>3.0</td>\n",
       "      <td>1.0</td>\n",
       "      <td>1.0</td>\n",
       "      <td>1.0</td>\n",
       "      <td>1.0</td>\n",
       "      <td>0.0</td>\n",
       "      <td>1.0</td>\n",
       "      <td>0.0</td>\n",
       "      <td>1.0</td>\n",
       "      <td>1.0</td>\n",
       "      <td>1.0</td>\n",
       "      <td>0.0</td>\n",
       "      <td>1.0</td>\n",
       "      <td>0.0</td>\n",
       "      <td>1.0</td>\n",
       "      <td>0.0</td>\n",
       "      <td>0.0</td>\n",
       "      <td>0.0</td>\n",
       "      <td>0.0</td>\n",
       "    </tr>\n",
       "  </tbody>\n",
       "</table>\n",
       "<p>357 rows × 36 columns</p>\n",
       "</div>"
      ],
      "text/plain": [
       "      Age_08_04  Mfg_Month  ...  Parking_Assistant  Tow_Bar\n",
       "740        65.0      April  ...                0.0      1.0\n",
       "644        68.0    January  ...                0.0      0.0\n",
       "434        48.0        NaN  ...                0.0      NaN\n",
       "858        60.0  September  ...                0.0      0.0\n",
       "141        19.0   February  ...                0.0      0.0\n",
       "...         ...        ...  ...                ...      ...\n",
       "416        55.0   February  ...                0.0      1.0\n",
       "283        41.0      April  ...                0.0      1.0\n",
       "1254       78.0        NaN  ...                0.0      1.0\n",
       "1125       72.0  September  ...                0.0      0.0\n",
       "412        55.0   February  ...                0.0      0.0\n",
       "\n",
       "[357 rows x 36 columns]"
      ]
     },
     "execution_count": 15,
     "metadata": {
      "tags": []
     },
     "output_type": "execute_result"
    }
   ],
   "source": [
    "test_X.drop(columns = ['Id','Model'], axis = 1, inplace = True)\n",
    "test_X"
   ]
  },
  {
   "cell_type": "markdown",
   "metadata": {
    "id": "qEFZ2pbemtuk"
   },
   "source": [
    "### 9) List of columns that have missing values in Test and Train"
   ]
  },
  {
   "cell_type": "code",
   "execution_count": 16,
   "metadata": {
    "colab": {
     "base_uri": "https://localhost:8080/"
    },
    "id": "rEE0Lr97mtuk",
    "outputId": "37746fa9-7784-4346-c704-bc2766fd5679"
   },
   "outputs": [
    {
     "data": {
      "text/plain": [
       "Age_08_04            True\n",
       "Mfg_Month            True\n",
       "Mfg_Year             True\n",
       "KM                   True\n",
       "Fuel_Type            True\n",
       "HP                   True\n",
       "Met_Color            True\n",
       "Color                True\n",
       "Automatic            True\n",
       "CC                   True\n",
       "Doors                True\n",
       "Cylinders            True\n",
       "Gears                True\n",
       "Quarterly_Tax        True\n",
       "Weight               True\n",
       "Mfr_Guarantee        True\n",
       "BOVAG_Guarantee      True\n",
       "Guarantee_Period     True\n",
       "ABS                  True\n",
       "Airbag_1             True\n",
       "Airbag_2             True\n",
       "Airco                True\n",
       "Automatic_airco      True\n",
       "Boardcomputer        True\n",
       "CD_Player            True\n",
       "Central_Lock         True\n",
       "Powered_Windows      True\n",
       "Power_Steering       True\n",
       "Radio                True\n",
       "Mistlamps            True\n",
       "Sport_Model          True\n",
       "Backseat_Divider     True\n",
       "Metallic_Rim         True\n",
       "Radio_cassette       True\n",
       "Parking_Assistant    True\n",
       "Tow_Bar              True\n",
       "dtype: bool"
      ]
     },
     "execution_count": 16,
     "metadata": {
      "tags": []
     },
     "output_type": "execute_result"
    }
   ],
   "source": [
    "train_X.isnull().any()"
   ]
  },
  {
   "cell_type": "code",
   "execution_count": 17,
   "metadata": {
    "colab": {
     "base_uri": "https://localhost:8080/"
    },
    "id": "1clS6Yhqmtuk",
    "outputId": "10604ebf-c2c3-4626-ef06-98b52bd2bee0"
   },
   "outputs": [
    {
     "data": {
      "text/plain": [
       "Age_08_04            True\n",
       "Mfg_Month            True\n",
       "Mfg_Year             True\n",
       "KM                   True\n",
       "Fuel_Type            True\n",
       "HP                   True\n",
       "Met_Color            True\n",
       "Color                True\n",
       "Automatic            True\n",
       "CC                   True\n",
       "Doors                True\n",
       "Cylinders            True\n",
       "Gears                True\n",
       "Quarterly_Tax        True\n",
       "Weight               True\n",
       "Mfr_Guarantee        True\n",
       "BOVAG_Guarantee      True\n",
       "Guarantee_Period     True\n",
       "ABS                  True\n",
       "Airbag_1             True\n",
       "Airbag_2             True\n",
       "Airco                True\n",
       "Automatic_airco      True\n",
       "Boardcomputer        True\n",
       "CD_Player            True\n",
       "Central_Lock         True\n",
       "Powered_Windows      True\n",
       "Power_Steering       True\n",
       "Radio                True\n",
       "Mistlamps            True\n",
       "Sport_Model          True\n",
       "Backseat_Divider     True\n",
       "Metallic_Rim         True\n",
       "Radio_cassette       True\n",
       "Parking_Assistant    True\n",
       "Tow_Bar              True\n",
       "dtype: bool"
      ]
     },
     "execution_count": 17,
     "metadata": {
      "tags": []
     },
     "output_type": "execute_result"
    }
   ],
   "source": [
    "test_X.isnull().any()"
   ]
  },
  {
   "cell_type": "markdown",
   "metadata": {
    "id": "uZ5zSRCgmtuk"
   },
   "source": [
    "### 10) Exploring the Feature Dataset\n",
    "Let us explore some of the features that will be used in our machine learning algorithms. This will give us a better idea about the distribution of features as well as how to handle imputation of missing values in order to clean the data. We will plot the histograms for continous features and a bar graph for discrete/binary features separately which will help us understand better these features.\n"
   ]
  },
  {
   "cell_type": "markdown",
   "metadata": {
    "id": "oVp2bfUQmtuk"
   },
   "source": [
    "#### a) Plotting Histograms for Continous Features.\n",
    "Here Age, KM (Kilometers), HP (Horse Power), CC, Quarterly Tax, Weight and Guarantee Period are Continous Features."
   ]
  },
  {
   "cell_type": "code",
   "execution_count": 18,
   "metadata": {
    "colab": {
     "base_uri": "https://localhost:8080/",
     "height": 0
    },
    "id": "reOntf6lmtuk",
    "outputId": "9de1b65d-e4d4-4afc-9ead-a96a77b3a1e2"
   },
   "outputs": [
    {
     "data": {
      "text/plain": [
       "Text(0.5, 1.0, 'Guarantee Period Histogram')"
      ]
     },
     "execution_count": 18,
     "metadata": {
      "tags": []
     },
     "output_type": "execute_result"
    },
    {
     "data": {
      "image/png": "[encoded data removed]",
      "text/plain": [
       "<Figure size 720x1080 with 7 Axes>"
      ]
     },
     "metadata": {
      "needs_background": "light",
      "tags": []
     },
     "output_type": "display_data"
    }
   ],
   "source": [
    "# Set up a grid of plots\n",
    "plt.figure(figsize=(10,15)) \n",
    "fig_dims = (4, 2)\n",
    "\n",
    "# Plot age histogram\n",
    "plt.subplot2grid(fig_dims, (0,0))\n",
    "train_X['Age_08_04'].hist()\n",
    "plt.title('Age Histogram')\n",
    "\n",
    "# Plot KM histogram\n",
    "plt.subplot2grid(fig_dims, (0,1))\n",
    "train_X['KM'].hist()\n",
    "plt.title('KM Histogram')\n",
    "\n",
    "# Plot HP histogram\n",
    "plt.subplot2grid(fig_dims, (1,0))\n",
    "train_X['HP'].hist()\n",
    "plt.title('HP Histogram')\n",
    "\n",
    "# Plot CC histogram\n",
    "plt.subplot2grid(fig_dims, (1,1))\n",
    "train_X['CC'].hist()\n",
    "plt.title('CC Histogram')\n",
    "\n",
    "# Plot Quarterly Tax histogram\n",
    "plt.subplot2grid(fig_dims, (2,0))\n",
    "train_X['Quarterly_Tax'].hist()\n",
    "plt.title('Quarterly Tax Histogram')\n",
    "\n",
    "# Plot Weight histogram\n",
    "plt.subplot2grid(fig_dims, (2,1))\n",
    "train_X['Weight'].hist()\n",
    "plt.title('Weight Histogram')\n",
    "\n",
    "# Plot Weight histogram\n",
    "plt.subplot2grid(fig_dims, (3,0))\n",
    "train_X['Guarantee_Period'].hist()\n",
    "plt.title('Guarantee Period Histogram')"
   ]
  },
  {
   "cell_type": "markdown",
   "metadata": {
    "id": "HTh6yF3Mmtul"
   },
   "source": [
    "#### b) Analysis and Understanding of the Dataset For Continous Variables:\n",
    "We can clearly see above the following trends for each of these variables:\n",
    "    \n",
    "1. **Age**: The histogram for Age is left skewed. The solution would be to perform median imputation for missing values.\n",
    "2. **KM**: The histogram for KM its slightly right skewed. The solution would be to perform median imputation for missing values.\n",
    "3. **HP**: has a few outliers at the higher extremes while majority of its values lies in range 5 to 120. The histogram for HP its slightly right skewed. The solution would be to perform median imputation.\n",
    "4. **CC**: CC has sparce data with continuity from 1300-1400+, majority values at 1600 and very few at the higher end from 1800 - 2000 with values around 160000 as well. CC is right skewed because of extreme values and hence median imputation is needed.\n",
    "5. **Quarterly Tax**: Shows its highest frequency from 50-100 with the rest values showing sparceness. Since the distribution is right skewed we will perform median imputation for the missing values.\n",
    "6. **Weight**: Clearly shows increased frequency for values form 1000-1200 and very few in the higher values. Since the distribution is right skewed, we will perform median imputation for the missing values.\n",
    "7. **Guarantee Period**: The Guarantee Period plot clearly shows the data is right skewed and requires median imputation for the missing values."
   ]
  },
  {
   "cell_type": "markdown",
   "metadata": {
    "id": "op_4PQsAmtul"
   },
   "source": [
    "#### c) Plotting Bar Graphs for Discrete/Binary Features.\n",
    "Here the rest of the catagorical variables and binary valued variables are plotted with Bar Graph for better understanding."
   ]
  },
  {
   "cell_type": "code",
   "execution_count": 19,
   "metadata": {
    "colab": {
     "base_uri": "https://localhost:8080/",
     "height": 0
    },
    "id": "QlC1Wipdmtul",
    "outputId": "3530042a-e940-4897-8550-0b39151d7c11"
   },
   "outputs": [
    {
     "data": {
      "text/plain": [
       "<matplotlib.axes._subplots.AxesSubplot at 0x7fbd81e10b00>"
      ]
     },
     "execution_count": 19,
     "metadata": {
      "tags": []
     },
     "output_type": "execute_result"
    },
    {
     "data": {
      "image/png": "[encoded data removed]",
      "text/plain": [
       "<Figure size 3600x5040 with 29 Axes>"
      ]
     },
     "metadata": {
      "needs_background": "light",
      "tags": []
     },
     "output_type": "display_data"
    }
   ],
   "source": [
    "# Set up a grid of plots\n",
    "plt.figure(figsize=(50,70)) \n",
    "fig_dims = (15 , 2)\n",
    "\n",
    "#Plot Manufacturing Month Bar Graph\n",
    "plt.subplot2grid(fig_dims, (0, 0))\n",
    "train_X['Mfg_Month'].value_counts().plot(kind='bar', title='Manufacturing Month')\n",
    "\n",
    "# Plot Manufacturing Year Bar Graph\n",
    "plt.subplot2grid(fig_dims, (0, 1))\n",
    "train_X['Mfg_Year'].value_counts().plot(kind='bar', title='Manufacturing Year')\n",
    "\n",
    "# Plot Fuel Type Bar Graph\n",
    "plt.subplot2grid(fig_dims, (1, 0))\n",
    "train_X['Fuel_Type'].value_counts().plot(kind='bar', title='Fuel Type')\n",
    "\n",
    "# Plot Met Color Bar Graph\n",
    "plt.subplot2grid(fig_dims, (1, 1))\n",
    "train_X['Met_Color'].value_counts().plot(kind='bar', title='Met Color')\n",
    "\n",
    "# Plot Color Bar Graph\n",
    "plt.subplot2grid(fig_dims, (2, 0))\n",
    "train_X['Color'].value_counts().plot(kind='bar', title='Color')\n",
    "\n",
    "# Plot Automatic Bar Graph\n",
    "plt.subplot2grid(fig_dims, (2, 1))\n",
    "train_X['Automatic'].value_counts().plot(kind='bar', title='Automatic')\n",
    "\n",
    "# Plot Doors Bar Graph\n",
    "plt.subplot2grid(fig_dims, (3, 0))\n",
    "train_X['Doors'].value_counts().plot(kind='bar', title='Doors')\n",
    "\n",
    "# Plot Cylinders Bar Graph\n",
    "plt.subplot2grid(fig_dims, (3, 1))\n",
    "train_X['Cylinders'].value_counts().plot(kind='bar', title='Cylinders')\n",
    "\n",
    "# Plot Gears Bar Graph\n",
    "plt.subplot2grid(fig_dims, (4, 0))\n",
    "train_X['Gears'].value_counts().plot(kind='bar', title='Gears')\n",
    "\n",
    "# Plot Mfr_Guarantee Bar Graph\n",
    "plt.subplot2grid(fig_dims, (4, 1))\n",
    "train_X['Mfr_Guarantee'].value_counts().plot(kind='bar', title='Mfr_Guarantee')\n",
    "\n",
    "# Plot BOVAG_Guarantee Bar Graph\n",
    "plt.subplot2grid(fig_dims, (5, 0))\n",
    "train_X['BOVAG_Guarantee'].value_counts().plot(kind='bar', title='BOVAG_Guarantee')\n",
    "\n",
    "# Plot ABS Bar Graph\n",
    "plt.subplot2grid(fig_dims, (5, 1))\n",
    "train_X['ABS'].value_counts().plot(kind='bar', title='ABS')\n",
    "\n",
    "# Plot Airbag_1 Bar Graph\n",
    "plt.subplot2grid(fig_dims, (6, 0))\n",
    "train_X['Airbag_1'].value_counts().plot(kind='bar', title='Airbag_1')\n",
    "\n",
    "# Plot Airbag_2 Bar Graph\n",
    "plt.subplot2grid(fig_dims, (6, 1))\n",
    "train_X['Airbag_2'].value_counts().plot(kind='bar', title='Airbag_2')\n",
    "\n",
    "# Plot Airco Bar Graph\n",
    "plt.subplot2grid(fig_dims, (7, 0))\n",
    "train_X['Airco'].value_counts().plot(kind='bar', title='Airco')\n",
    "\n",
    "# Plot Automatic_airco Bar Graph\n",
    "plt.subplot2grid(fig_dims, (7, 1))\n",
    "train_X['Automatic_airco'].value_counts().plot(kind='bar', title='Automatic_airco')\n",
    "\n",
    "# Plot Boardcomputer Bar Graph\n",
    "plt.subplot2grid(fig_dims, (8, 0))\n",
    "train_X['Boardcomputer'].value_counts().plot(kind='bar', title='Boardcomputer')\n",
    "\n",
    "# Plot CD_Player Bar Graph\n",
    "plt.subplot2grid(fig_dims, (8, 1))\n",
    "train_X['CD_Player'].value_counts().plot(kind='bar', title='CD_Player')\n",
    "\n",
    "# Plot Central_Lock Bar Graph\n",
    "plt.subplot2grid(fig_dims, (9, 0))\n",
    "train_X['Central_Lock'].value_counts().plot(kind='bar', title='Central_Lock')\n",
    "\n",
    "# Plot Powered_Windows Bar Graph\n",
    "plt.subplot2grid(fig_dims, (9, 1))\n",
    "train_X['Powered_Windows'].value_counts().plot(kind='bar', title='Powered_Windows')\n",
    "\n",
    "# Plot Power_Steering Bar Graph\n",
    "plt.subplot2grid(fig_dims, (10, 0))\n",
    "train_X['Power_Steering'].value_counts().plot(kind='bar', title='Power_Steering')\n",
    "\n",
    "# Plot Radio Bar Graph\n",
    "plt.subplot2grid(fig_dims, (10, 1))\n",
    "train_X['Radio'].value_counts().plot(kind='bar', title='Radio')\n",
    "\n",
    "# Plot Mistlamps Bar Graph\n",
    "plt.subplot2grid(fig_dims, (11, 0))\n",
    "train_X['Mistlamps'].value_counts().plot(kind='bar', title='Mistlamps')\n",
    "\n",
    "# Plot Sport_Model Bar Graph\n",
    "plt.subplot2grid(fig_dims, (11, 1))\n",
    "train_X['Sport_Model'].value_counts().plot(kind='bar', title='Sport_Model')\n",
    "\n",
    "# Plot Backseat_Divider Bar Graph\n",
    "plt.subplot2grid(fig_dims, (12, 0))\n",
    "train_X['Backseat_Divider'].value_counts().plot(kind='bar', title='Backseat_Divider')\n",
    "\n",
    "# Plot Metallic_Rim Bar Graph\n",
    "plt.subplot2grid(fig_dims, (12, 1))\n",
    "train_X['Metallic_Rim'].value_counts().plot(kind='bar', title='Metallic_Rim')\n",
    "\n",
    "# Plot Radio_cassette Bar Graph\n",
    "plt.subplot2grid(fig_dims, (13, 0))\n",
    "train_X['Radio_cassette'].value_counts().plot(kind='bar', title='Radio_cassette')\n",
    "\n",
    "# Plot Parking_Assistant Bar Graph\n",
    "plt.subplot2grid(fig_dims, (13, 1))\n",
    "train_X['Parking_Assistant'].value_counts().plot(kind='bar', title='Parking_Assistant')\n",
    "\n",
    "# Plot Boardcomputer Bar Graph\n",
    "plt.subplot2grid(fig_dims, (14, 0))\n",
    "train_X['Tow_Bar'].value_counts().plot(kind='bar', title='Tow_Bar')\n",
    "\n",
    "\n"
   ]
  },
  {
   "cell_type": "markdown",
   "metadata": {
    "id": "amYQ9R8Bmtul"
   },
   "source": [
    "#### d) Analysis and Understanding of the Dataset For Discrete/Binary Variables:\n",
    "For Discrete and Binary variables we will primarily impute missing values with the values which have the highest frequency of occurance. Lets check through each of the variables to see how we are going to impute them\n",
    "\n",
    "1. **Manufacturing Month**: January shows the peak frequency in comparison to others so missing values will be imputed with January as a value\n",
    "2. **Manufacturing Year**: Majority of the models are from the year 1999 so missing values will be imputed with 1999 as a value.\n",
    "3. **Fuel Type**: We can clearly see the dominant value is Petrol so we are going to impute the missing values with Petrol as a value.\n",
    "4. **Met color**: It has more occurances of 1 as the dominant value than 0 hence the missing values will be imputed with 1 as a value.\n",
    "5. **Color**: Since Red, Green and Blue almost show the maximum frequency distribution, we will diving the number of appearances of NaN values to 3 and assign them Red, Green and Blue missing values.\n",
    "6. **Automatic**: Majority values are 0 so the missing values will be imputed as 0\n",
    "7. **Doors**: The Majority values are 5 for the doors so the missing values will be imputed with 5 as the value.\n",
    "8. **Cylinders**: It has only one value so will contain 4 as the value for missing values.\n",
    "9. **Gears**: Majority are 5 gears, so the missing values will be imputed with 5 as the value.\n",
    "10. **Mfr_Guarantee**: 0 values are higher than 1 so the missing values will be imputed with 0 as the value.\n",
    "11. **BOVAG_Guarantee**: 1 values are higher than 0 so the missing values will be imputed with 1 as the value.\n",
    "12. **ABS**:  1 values are higher than 0 so the missing values will be imputed with 1 as the value.\n",
    "12. **Airbag_1**:  1 values are higher than 0 so the missing values will be imputed with 1 as the value.\n",
    "14. **Airbag_2**:  1 values are higher than 0 so the missing values will be imputed with 1 as the value.\n",
    "15. **Airco**: 1 values are higher than 0 so the missing values will be imputed with 1 as the value.\n",
    "16. **Automatic_airco**:  0 values are higher than 1 so the missing values will be imputed with 0 as the value.\n",
    "17. **Boardcomputer**:  0 values are higher than 1 so the missing values will be imputed with 0 as the value.\n",
    "18. **CD_Player**:  0 values are higher than 1 so the missing values will be imputed with 0 as the value.\n",
    "19. **Central_Lock**: 1 values are higher than 0 so the missing values will be imputed with 1 as the value.\n",
    "20. **Powered_Windows**: 1 values are higher than 0 so the missing values will be imputed with 1 as the value.\n",
    "21. **Power_Steering**: 1 values are higher than 0 so the missing values will be imputed with 1 as the value.\n",
    "22. **Radio**:  0 values are higher than 1 so the missing values will be imputed with 0 as the value.\n",
    "23. **Mistlamps**:  0 values are higher than 1 so the missing values will be imputed with 0 as the value.\n",
    "24. **Sport_Model**:  0 values are higher than 1 so the missing values will be imputed with 0 as the value.\n",
    "25. **Backseat_Divider**: 1 values are higher than 0 so the missing values will be imputed with 1 as the value.\n",
    "26. **Metallic_Rim**: 0 values are higher than 1 so the missing values will be imputed with 0 as the value.\n",
    "27. **Radio_cassette**: 0 values are higher than 1 so the missing values will be imputed with 0 as the value.\n",
    "28. **Parking_Assistant**: 0 values are higher than 1 so the missing values will be imputed with 0 as the value.\n",
    "29. **Tow_Bar**: 0 values are higher than 1 so the missing values will be imputed with 0 as the value.\n"
   ]
  },
  {
   "cell_type": "markdown",
   "metadata": {
    "id": "xg9qavjymtul"
   },
   "source": [
    "### 11) Imputing the missing values:\n",
    "### For Train Dataset: \n",
    "#### a) Imputing the Continous variables with missing values\n",
    "Let's pick each of the 6 variables and impute the missing values within them as we decided based on the analysis we did above in step 10.a). We will be imputing Age, KM, CC,HP, Quarterly_Tax, Weight and Guarantee Period with Median values."
   ]
  },
  {
   "cell_type": "code",
   "execution_count": 20,
   "metadata": {
    "id": "FSvRJphKmtul"
   },
   "outputs": [],
   "source": [
    "# median imputation: Features: Age, KM, HP, Quarterly_Tax, and Weight\n",
    "median_variables = ['Age_08_04', 'KM', 'HP', 'CC', 'Quarterly_Tax', 'Weight', 'Guarantee_Period']\n",
    "for z in median_variables:\n",
    "    train_X[z]= train_X[z].fillna(train_X[z].median())\n",
    "    train_X[z] = train_X[z].astype(int)    \n",
    "    "
   ]
  },
  {
   "cell_type": "code",
   "execution_count": 21,
   "metadata": {
    "colab": {
     "base_uri": "https://localhost:8080/"
    },
    "id": "6huc7yG-mtul",
    "outputId": "70f6d7f6-39e6-48fa-ec2d-1ddac139bc65"
   },
   "outputs": [
    {
     "name": "stdout",
     "output_type": "stream",
     "text": [
      "<class 'pandas.core.frame.DataFrame'>\n",
      "Int64Index: 1068 entries, 1297 to 684\n",
      "Data columns (total 36 columns):\n",
      " #   Column             Non-Null Count  Dtype  \n",
      "---  ------             --------------  -----  \n",
      " 0   Age_08_04          1068 non-null   int64  \n",
      " 1   Mfg_Month          1013 non-null   object \n",
      " 2   Mfg_Year           1005 non-null   float64\n",
      " 3   KM                 1068 non-null   int64  \n",
      " 4   Fuel_Type          1015 non-null   object \n",
      " 5   HP                 1068 non-null   int64  \n",
      " 6   Met_Color          1009 non-null   float64\n",
      " 7   Color              1019 non-null   object \n",
      " 8   Automatic          1013 non-null   float64\n",
      " 9   CC                 1068 non-null   int64  \n",
      " 10  Doors              1021 non-null   float64\n",
      " 11  Cylinders          1018 non-null   float64\n",
      " 12  Gears              1008 non-null   float64\n",
      " 13  Quarterly_Tax      1068 non-null   int64  \n",
      " 14  Weight             1068 non-null   int64  \n",
      " 15  Mfr_Guarantee      1016 non-null   float64\n",
      " 16  BOVAG_Guarantee    1004 non-null   float64\n",
      " 17  Guarantee_Period   1068 non-null   int64  \n",
      " 18  ABS                1021 non-null   float64\n",
      " 19  Airbag_1           1012 non-null   float64\n",
      " 20  Airbag_2           1016 non-null   float64\n",
      " 21  Airco              1022 non-null   float64\n",
      " 22  Automatic_airco    1017 non-null   float64\n",
      " 23  Boardcomputer      1005 non-null   float64\n",
      " 24  CD_Player          1007 non-null   float64\n",
      " 25  Central_Lock       1028 non-null   float64\n",
      " 26  Powered_Windows    1006 non-null   float64\n",
      " 27  Power_Steering     1014 non-null   float64\n",
      " 28  Radio              1018 non-null   float64\n",
      " 29  Mistlamps          1021 non-null   float64\n",
      " 30  Sport_Model        1013 non-null   float64\n",
      " 31  Backseat_Divider   1018 non-null   float64\n",
      " 32  Metallic_Rim       1013 non-null   float64\n",
      " 33  Radio_cassette     1014 non-null   float64\n",
      " 34  Parking_Assistant  1007 non-null   float64\n",
      " 35  Tow_Bar            1018 non-null   float64\n",
      "dtypes: float64(26), int64(7), object(3)\n",
      "memory usage: 308.7+ KB\n"
     ]
    }
   ],
   "source": [
    "#Checking if the 6 continous variables are now having any missing values or not\n",
    "#train_X.isnull().any()\n",
    "train_X.info()"
   ]
  },
  {
   "cell_type": "markdown",
   "metadata": {
    "id": "MPxiuADqmtul"
   },
   "source": [
    "#### b) Imputing the Discrete/Binary variables with missing values\n",
    "Let's pick the rest of the 29 catagorical variables and impute the missing values within them as we decided based on the analysis we did above in step 10.d). We will be imputing each of these variables missing values with the values which have the maximum occurances. To do so we will be performing modal imputation."
   ]
  },
  {
   "cell_type": "code",
   "execution_count": 22,
   "metadata": {
    "id": "8SQ7Enqtmtul"
   },
   "outputs": [],
   "source": [
    "# modal imputation: Features: Manufacturing Month, Manufacturing Year, Fuel Type, MetColor, Color, Doors,etc \n",
    "\n",
    "column_names = ['Mfg_Month','Mfg_Year', 'Fuel_Type','Met_Color', 'Color', 'Automatic','Doors', 'Cylinders', 'Gears',\n",
    "          'Mfr_Guarantee','BOVAG_Guarantee', 'ABS', 'Airbag_1', 'Airbag_2', 'Airco', 'Automatic_airco',\n",
    "          'Boardcomputer' , 'CD_Player' , 'Central_Lock' , 'Powered_Windows', 'Power_Steering', 'Radio', 'Mistlamps' ,\n",
    "          'Sport_Model' , 'Backseat_Divider' , 'Metallic_Rim' , 'Radio_cassette' , 'Parking_Assistant', 'Tow_Bar']\n",
    "for z in column_names:\n",
    "    mode_count = train_X[z].value_counts().index[0]\n",
    "    train_X[z].fillna(mode_count, inplace=True)\n"
   ]
  },
  {
   "cell_type": "code",
   "execution_count": 23,
   "metadata": {
    "colab": {
     "base_uri": "https://localhost:8080/"
    },
    "id": "FliN77opmtul",
    "outputId": "e9ef3a27-8b09-453f-bb53-be64c9d6ea74"
   },
   "outputs": [
    {
     "name": "stdout",
     "output_type": "stream",
     "text": [
      "<class 'pandas.core.frame.DataFrame'>\n",
      "Int64Index: 1068 entries, 1297 to 684\n",
      "Data columns (total 36 columns):\n",
      " #   Column             Non-Null Count  Dtype  \n",
      "---  ------             --------------  -----  \n",
      " 0   Age_08_04          1068 non-null   int64  \n",
      " 1   Mfg_Month          1068 non-null   object \n",
      " 2   Mfg_Year           1068 non-null   float64\n",
      " 3   KM                 1068 non-null   int64  \n",
      " 4   Fuel_Type          1068 non-null   object \n",
      " 5   HP                 1068 non-null   int64  \n",
      " 6   Met_Color          1068 non-null   float64\n",
      " 7   Color              1068 non-null   object \n",
      " 8   Automatic          1068 non-null   float64\n",
      " 9   CC                 1068 non-null   int64  \n",
      " 10  Doors              1068 non-null   float64\n",
      " 11  Cylinders          1068 non-null   float64\n",
      " 12  Gears              1068 non-null   float64\n",
      " 13  Quarterly_Tax      1068 non-null   int64  \n",
      " 14  Weight             1068 non-null   int64  \n",
      " 15  Mfr_Guarantee      1068 non-null   float64\n",
      " 16  BOVAG_Guarantee    1068 non-null   float64\n",
      " 17  Guarantee_Period   1068 non-null   int64  \n",
      " 18  ABS                1068 non-null   float64\n",
      " 19  Airbag_1           1068 non-null   float64\n",
      " 20  Airbag_2           1068 non-null   float64\n",
      " 21  Airco              1068 non-null   float64\n",
      " 22  Automatic_airco    1068 non-null   float64\n",
      " 23  Boardcomputer      1068 non-null   float64\n",
      " 24  CD_Player          1068 non-null   float64\n",
      " 25  Central_Lock       1068 non-null   float64\n",
      " 26  Powered_Windows    1068 non-null   float64\n",
      " 27  Power_Steering     1068 non-null   float64\n",
      " 28  Radio              1068 non-null   float64\n",
      " 29  Mistlamps          1068 non-null   float64\n",
      " 30  Sport_Model        1068 non-null   float64\n",
      " 31  Backseat_Divider   1068 non-null   float64\n",
      " 32  Metallic_Rim       1068 non-null   float64\n",
      " 33  Radio_cassette     1068 non-null   float64\n",
      " 34  Parking_Assistant  1068 non-null   float64\n",
      " 35  Tow_Bar            1068 non-null   float64\n",
      "dtypes: float64(26), int64(7), object(3)\n",
      "memory usage: 308.7+ KB\n"
     ]
    }
   ],
   "source": [
    "### Checking for null values presence:\n",
    "#train_X.isnull().any()\n",
    "train_X.info()"
   ]
  },
  {
   "cell_type": "code",
   "execution_count": 24,
   "metadata": {
    "colab": {
     "base_uri": "https://localhost:8080/",
     "height": 0
    },
    "id": "yV0h87eOmtul",
    "outputId": "1e600035-11c3-4aa5-aa94-5503bcccd776"
   },
   "outputs": [
    {
     "data": {
      "text/html": [
       "<div>\n",
       "<style scoped>\n",
       "    .dataframe tbody tr th:only-of-type {\n",
       "        vertical-align: middle;\n",
       "    }\n",
       "\n",
       "    .dataframe tbody tr th {\n",
       "        vertical-align: top;\n",
       "    }\n",
       "\n",
       "    .dataframe thead th {\n",
       "        text-align: right;\n",
       "    }\n",
       "</style>\n",
       "<table border=\"1\" class=\"dataframe\">\n",
       "  <thead>\n",
       "    <tr style=\"text-align: right;\">\n",
       "      <th></th>\n",
       "      <th>Age_08_04</th>\n",
       "      <th>Mfg_Year</th>\n",
       "      <th>KM</th>\n",
       "      <th>HP</th>\n",
       "      <th>Met_Color</th>\n",
       "      <th>Automatic</th>\n",
       "      <th>CC</th>\n",
       "      <th>Doors</th>\n",
       "      <th>Cylinders</th>\n",
       "      <th>Gears</th>\n",
       "      <th>Quarterly_Tax</th>\n",
       "      <th>Weight</th>\n",
       "      <th>Mfr_Guarantee</th>\n",
       "      <th>BOVAG_Guarantee</th>\n",
       "      <th>Guarantee_Period</th>\n",
       "      <th>ABS</th>\n",
       "      <th>Airbag_1</th>\n",
       "      <th>Airbag_2</th>\n",
       "      <th>Airco</th>\n",
       "      <th>Automatic_airco</th>\n",
       "      <th>Boardcomputer</th>\n",
       "      <th>CD_Player</th>\n",
       "      <th>Central_Lock</th>\n",
       "      <th>Powered_Windows</th>\n",
       "      <th>Power_Steering</th>\n",
       "      <th>Radio</th>\n",
       "      <th>Mistlamps</th>\n",
       "      <th>Sport_Model</th>\n",
       "      <th>Backseat_Divider</th>\n",
       "      <th>Metallic_Rim</th>\n",
       "      <th>Radio_cassette</th>\n",
       "      <th>Parking_Assistant</th>\n",
       "      <th>Tow_Bar</th>\n",
       "    </tr>\n",
       "  </thead>\n",
       "  <tbody>\n",
       "    <tr>\n",
       "      <th>count</th>\n",
       "      <td>1068.000000</td>\n",
       "      <td>1068.000000</td>\n",
       "      <td>1068.000000</td>\n",
       "      <td>1068.000000</td>\n",
       "      <td>1068.000000</td>\n",
       "      <td>1068.000000</td>\n",
       "      <td>1068.000000</td>\n",
       "      <td>1068.000000</td>\n",
       "      <td>1068.0</td>\n",
       "      <td>1068.000000</td>\n",
       "      <td>1068.000000</td>\n",
       "      <td>1068.000000</td>\n",
       "      <td>1068.000000</td>\n",
       "      <td>1068.000000</td>\n",
       "      <td>1068.000000</td>\n",
       "      <td>1068.000000</td>\n",
       "      <td>1068.000000</td>\n",
       "      <td>1068.000000</td>\n",
       "      <td>1068.000000</td>\n",
       "      <td>1068.000000</td>\n",
       "      <td>1068.000000</td>\n",
       "      <td>1068.000000</td>\n",
       "      <td>1068.000000</td>\n",
       "      <td>1068.000000</td>\n",
       "      <td>1068.000000</td>\n",
       "      <td>1068.000000</td>\n",
       "      <td>1068.000000</td>\n",
       "      <td>1068.000000</td>\n",
       "      <td>1068.000000</td>\n",
       "      <td>1068.000000</td>\n",
       "      <td>1068.000000</td>\n",
       "      <td>1068.000000</td>\n",
       "      <td>1068.000000</td>\n",
       "    </tr>\n",
       "    <tr>\n",
       "      <th>mean</th>\n",
       "      <td>56.015918</td>\n",
       "      <td>1999.610487</td>\n",
       "      <td>66939.889513</td>\n",
       "      <td>102.061798</td>\n",
       "      <td>0.698502</td>\n",
       "      <td>0.042135</td>\n",
       "      <td>1566.562734</td>\n",
       "      <td>4.089888</td>\n",
       "      <td>4.0</td>\n",
       "      <td>5.029963</td>\n",
       "      <td>87.036517</td>\n",
       "      <td>1072.672285</td>\n",
       "      <td>0.382959</td>\n",
       "      <td>0.900749</td>\n",
       "      <td>3.789326</td>\n",
       "      <td>0.819288</td>\n",
       "      <td>0.976592</td>\n",
       "      <td>0.727528</td>\n",
       "      <td>0.530899</td>\n",
       "      <td>0.057116</td>\n",
       "      <td>0.281835</td>\n",
       "      <td>0.206929</td>\n",
       "      <td>0.600187</td>\n",
       "      <td>0.591760</td>\n",
       "      <td>0.978464</td>\n",
       "      <td>0.143258</td>\n",
       "      <td>0.250936</td>\n",
       "      <td>0.284644</td>\n",
       "      <td>0.779026</td>\n",
       "      <td>0.191011</td>\n",
       "      <td>0.138577</td>\n",
       "      <td>0.002809</td>\n",
       "      <td>0.267790</td>\n",
       "    </tr>\n",
       "    <tr>\n",
       "      <th>std</th>\n",
       "      <td>18.679428</td>\n",
       "      <td>1.529455</td>\n",
       "      <td>35586.069172</td>\n",
       "      <td>14.046379</td>\n",
       "      <td>0.459123</td>\n",
       "      <td>0.200991</td>\n",
       "      <td>180.744941</td>\n",
       "      <td>0.950199</td>\n",
       "      <td>0.0</td>\n",
       "      <td>0.170564</td>\n",
       "      <td>40.495451</td>\n",
       "      <td>53.655810</td>\n",
       "      <td>0.486336</td>\n",
       "      <td>0.299139</td>\n",
       "      <td>3.063465</td>\n",
       "      <td>0.384959</td>\n",
       "      <td>0.151267</td>\n",
       "      <td>0.445440</td>\n",
       "      <td>0.499278</td>\n",
       "      <td>0.232173</td>\n",
       "      <td>0.450104</td>\n",
       "      <td>0.405294</td>\n",
       "      <td>0.490089</td>\n",
       "      <td>0.491738</td>\n",
       "      <td>0.145229</td>\n",
       "      <td>0.350500</td>\n",
       "      <td>0.433755</td>\n",
       "      <td>0.451456</td>\n",
       "      <td>0.415097</td>\n",
       "      <td>0.393282</td>\n",
       "      <td>0.345666</td>\n",
       "      <td>0.052950</td>\n",
       "      <td>0.443015</td>\n",
       "    </tr>\n",
       "    <tr>\n",
       "      <th>min</th>\n",
       "      <td>1.000000</td>\n",
       "      <td>1998.000000</td>\n",
       "      <td>1.000000</td>\n",
       "      <td>69.000000</td>\n",
       "      <td>0.000000</td>\n",
       "      <td>0.000000</td>\n",
       "      <td>1300.000000</td>\n",
       "      <td>3.000000</td>\n",
       "      <td>4.0</td>\n",
       "      <td>5.000000</td>\n",
       "      <td>19.000000</td>\n",
       "      <td>1000.000000</td>\n",
       "      <td>0.000000</td>\n",
       "      <td>0.000000</td>\n",
       "      <td>3.000000</td>\n",
       "      <td>0.000000</td>\n",
       "      <td>0.000000</td>\n",
       "      <td>0.000000</td>\n",
       "      <td>0.000000</td>\n",
       "      <td>0.000000</td>\n",
       "      <td>0.000000</td>\n",
       "      <td>0.000000</td>\n",
       "      <td>0.000000</td>\n",
       "      <td>0.000000</td>\n",
       "      <td>0.000000</td>\n",
       "      <td>0.000000</td>\n",
       "      <td>0.000000</td>\n",
       "      <td>0.000000</td>\n",
       "      <td>0.000000</td>\n",
       "      <td>0.000000</td>\n",
       "      <td>0.000000</td>\n",
       "      <td>0.000000</td>\n",
       "      <td>0.000000</td>\n",
       "    </tr>\n",
       "    <tr>\n",
       "      <th>25%</th>\n",
       "      <td>44.000000</td>\n",
       "      <td>1999.000000</td>\n",
       "      <td>43090.000000</td>\n",
       "      <td>90.000000</td>\n",
       "      <td>0.000000</td>\n",
       "      <td>0.000000</td>\n",
       "      <td>1400.000000</td>\n",
       "      <td>3.000000</td>\n",
       "      <td>4.0</td>\n",
       "      <td>5.000000</td>\n",
       "      <td>69.000000</td>\n",
       "      <td>1043.750000</td>\n",
       "      <td>0.000000</td>\n",
       "      <td>1.000000</td>\n",
       "      <td>3.000000</td>\n",
       "      <td>1.000000</td>\n",
       "      <td>1.000000</td>\n",
       "      <td>0.000000</td>\n",
       "      <td>0.000000</td>\n",
       "      <td>0.000000</td>\n",
       "      <td>0.000000</td>\n",
       "      <td>0.000000</td>\n",
       "      <td>0.000000</td>\n",
       "      <td>0.000000</td>\n",
       "      <td>1.000000</td>\n",
       "      <td>0.000000</td>\n",
       "      <td>0.000000</td>\n",
       "      <td>0.000000</td>\n",
       "      <td>1.000000</td>\n",
       "      <td>0.000000</td>\n",
       "      <td>0.000000</td>\n",
       "      <td>0.000000</td>\n",
       "      <td>0.000000</td>\n",
       "    </tr>\n",
       "    <tr>\n",
       "      <th>50%</th>\n",
       "      <td>61.000000</td>\n",
       "      <td>1999.000000</td>\n",
       "      <td>63135.000000</td>\n",
       "      <td>110.000000</td>\n",
       "      <td>1.000000</td>\n",
       "      <td>0.000000</td>\n",
       "      <td>1600.000000</td>\n",
       "      <td>4.500000</td>\n",
       "      <td>4.0</td>\n",
       "      <td>5.000000</td>\n",
       "      <td>85.000000</td>\n",
       "      <td>1070.000000</td>\n",
       "      <td>0.000000</td>\n",
       "      <td>1.000000</td>\n",
       "      <td>3.000000</td>\n",
       "      <td>1.000000</td>\n",
       "      <td>1.000000</td>\n",
       "      <td>1.000000</td>\n",
       "      <td>1.000000</td>\n",
       "      <td>0.000000</td>\n",
       "      <td>0.000000</td>\n",
       "      <td>0.000000</td>\n",
       "      <td>1.000000</td>\n",
       "      <td>1.000000</td>\n",
       "      <td>1.000000</td>\n",
       "      <td>0.000000</td>\n",
       "      <td>0.000000</td>\n",
       "      <td>0.000000</td>\n",
       "      <td>1.000000</td>\n",
       "      <td>0.000000</td>\n",
       "      <td>0.000000</td>\n",
       "      <td>0.000000</td>\n",
       "      <td>0.000000</td>\n",
       "    </tr>\n",
       "    <tr>\n",
       "      <th>75%</th>\n",
       "      <td>69.000000</td>\n",
       "      <td>2000.000000</td>\n",
       "      <td>84979.000000</td>\n",
       "      <td>110.000000</td>\n",
       "      <td>1.000000</td>\n",
       "      <td>0.000000</td>\n",
       "      <td>1600.000000</td>\n",
       "      <td>5.000000</td>\n",
       "      <td>4.0</td>\n",
       "      <td>5.000000</td>\n",
       "      <td>85.000000</td>\n",
       "      <td>1085.000000</td>\n",
       "      <td>1.000000</td>\n",
       "      <td>1.000000</td>\n",
       "      <td>3.000000</td>\n",
       "      <td>1.000000</td>\n",
       "      <td>1.000000</td>\n",
       "      <td>1.000000</td>\n",
       "      <td>1.000000</td>\n",
       "      <td>0.000000</td>\n",
       "      <td>1.000000</td>\n",
       "      <td>0.000000</td>\n",
       "      <td>1.000000</td>\n",
       "      <td>1.000000</td>\n",
       "      <td>1.000000</td>\n",
       "      <td>0.000000</td>\n",
       "      <td>1.000000</td>\n",
       "      <td>1.000000</td>\n",
       "      <td>1.000000</td>\n",
       "      <td>0.000000</td>\n",
       "      <td>0.000000</td>\n",
       "      <td>0.000000</td>\n",
       "      <td>1.000000</td>\n",
       "    </tr>\n",
       "    <tr>\n",
       "      <th>max</th>\n",
       "      <td>80.000000</td>\n",
       "      <td>2004.000000</td>\n",
       "      <td>232940.000000</td>\n",
       "      <td>192.000000</td>\n",
       "      <td>1.000000</td>\n",
       "      <td>1.000000</td>\n",
       "      <td>2000.000000</td>\n",
       "      <td>5.000000</td>\n",
       "      <td>4.0</td>\n",
       "      <td>6.000000</td>\n",
       "      <td>283.000000</td>\n",
       "      <td>1615.000000</td>\n",
       "      <td>1.000000</td>\n",
       "      <td>1.000000</td>\n",
       "      <td>36.000000</td>\n",
       "      <td>1.000000</td>\n",
       "      <td>1.000000</td>\n",
       "      <td>1.000000</td>\n",
       "      <td>1.000000</td>\n",
       "      <td>1.000000</td>\n",
       "      <td>1.000000</td>\n",
       "      <td>1.000000</td>\n",
       "      <td>1.000000</td>\n",
       "      <td>1.000000</td>\n",
       "      <td>1.000000</td>\n",
       "      <td>1.000000</td>\n",
       "      <td>1.000000</td>\n",
       "      <td>1.000000</td>\n",
       "      <td>1.000000</td>\n",
       "      <td>1.000000</td>\n",
       "      <td>1.000000</td>\n",
       "      <td>1.000000</td>\n",
       "      <td>1.000000</td>\n",
       "    </tr>\n",
       "  </tbody>\n",
       "</table>\n",
       "</div>"
      ],
      "text/plain": [
       "         Age_08_04     Mfg_Year  ...  Parking_Assistant      Tow_Bar\n",
       "count  1068.000000  1068.000000  ...        1068.000000  1068.000000\n",
       "mean     56.015918  1999.610487  ...           0.002809     0.267790\n",
       "std      18.679428     1.529455  ...           0.052950     0.443015\n",
       "min       1.000000  1998.000000  ...           0.000000     0.000000\n",
       "25%      44.000000  1999.000000  ...           0.000000     0.000000\n",
       "50%      61.000000  1999.000000  ...           0.000000     0.000000\n",
       "75%      69.000000  2000.000000  ...           0.000000     1.000000\n",
       "max      80.000000  2004.000000  ...           1.000000     1.000000\n",
       "\n",
       "[8 rows x 33 columns]"
      ]
     },
     "execution_count": 24,
     "metadata": {
      "tags": []
     },
     "output_type": "execute_result"
    }
   ],
   "source": [
    "train_X.describe()"
   ]
  },
  {
   "cell_type": "markdown",
   "metadata": {
    "id": "TJQjJQ5Dmtul"
   },
   "source": [
    "### For Test Dataset: \n",
    "#### a) Imputing the Continous & Discrete/Binary variables with missing values\n",
    "Just like we did above we will do the same steps on the test data as well."
   ]
  },
  {
   "cell_type": "code",
   "execution_count": 25,
   "metadata": {
    "id": "8LHiBYlYmtul"
   },
   "outputs": [],
   "source": [
    "# median imputation: Features: Age, KM, HP, Quarterly_Tax, Weight, and Guarantee Period.\n",
    "median_variables = ['Age_08_04','KM','CC','HP', 'Quarterly_Tax', 'Weight', 'Guarantee_Period']\n",
    "for z in median_variables:\n",
    "    test_X[z]= test_X[z].fillna(test_X[z].median())\n",
    "    test_X[z] = test_X[z].astype(int)\n",
    "    \n",
    "# mode imputation: Features: Manufacturing Month, Manufacturing Year, Fuel Type, MetColor, Color, Doors,etc \n",
    "\n",
    "column_names = ['Mfg_Month','Mfg_Year', 'Fuel_Type','Met_Color', 'Color', 'Automatic','Doors', 'Cylinders', 'Gears',\n",
    "          'Mfr_Guarantee','BOVAG_Guarantee', 'ABS', 'Airbag_1', 'Airbag_2', 'Airco', 'Automatic_airco',\n",
    "          'Boardcomputer' , 'CD_Player' , 'Central_Lock' , 'Powered_Windows', 'Power_Steering', 'Radio', 'Mistlamps' ,\n",
    "          'Sport_Model' , 'Backseat_Divider' , 'Metallic_Rim' , 'Radio_cassette' , 'Parking_Assistant', 'Tow_Bar']\n",
    "for z in column_names:\n",
    "    mode_count = test_X[z].value_counts().index[0]\n",
    "    test_X[z].fillna(mode_count, inplace=True)\n"
   ]
  },
  {
   "cell_type": "code",
   "execution_count": 26,
   "metadata": {
    "colab": {
     "base_uri": "https://localhost:8080/"
    },
    "id": "r-SPZJAsmtul",
    "outputId": "56079f30-5479-4bdf-a21f-69c4f9de127b"
   },
   "outputs": [
    {
     "name": "stdout",
     "output_type": "stream",
     "text": [
      "<class 'pandas.core.frame.DataFrame'>\n",
      "Int64Index: 357 entries, 740 to 412\n",
      "Data columns (total 36 columns):\n",
      " #   Column             Non-Null Count  Dtype  \n",
      "---  ------             --------------  -----  \n",
      " 0   Age_08_04          357 non-null    int64  \n",
      " 1   Mfg_Month          357 non-null    object \n",
      " 2   Mfg_Year           357 non-null    float64\n",
      " 3   KM                 357 non-null    int64  \n",
      " 4   Fuel_Type          357 non-null    object \n",
      " 5   HP                 357 non-null    int64  \n",
      " 6   Met_Color          357 non-null    float64\n",
      " 7   Color              357 non-null    object \n",
      " 8   Automatic          357 non-null    float64\n",
      " 9   CC                 357 non-null    int64  \n",
      " 10  Doors              357 non-null    float64\n",
      " 11  Cylinders          357 non-null    float64\n",
      " 12  Gears              357 non-null    float64\n",
      " 13  Quarterly_Tax      357 non-null    int64  \n",
      " 14  Weight             357 non-null    int64  \n",
      " 15  Mfr_Guarantee      357 non-null    float64\n",
      " 16  BOVAG_Guarantee    357 non-null    float64\n",
      " 17  Guarantee_Period   357 non-null    int64  \n",
      " 18  ABS                357 non-null    float64\n",
      " 19  Airbag_1           357 non-null    float64\n",
      " 20  Airbag_2           357 non-null    float64\n",
      " 21  Airco              357 non-null    float64\n",
      " 22  Automatic_airco    357 non-null    float64\n",
      " 23  Boardcomputer      357 non-null    float64\n",
      " 24  CD_Player          357 non-null    float64\n",
      " 25  Central_Lock       357 non-null    float64\n",
      " 26  Powered_Windows    357 non-null    float64\n",
      " 27  Power_Steering     357 non-null    float64\n",
      " 28  Radio              357 non-null    float64\n",
      " 29  Mistlamps          357 non-null    float64\n",
      " 30  Sport_Model        357 non-null    float64\n",
      " 31  Backseat_Divider   357 non-null    float64\n",
      " 32  Metallic_Rim       357 non-null    float64\n",
      " 33  Radio_cassette     357 non-null    float64\n",
      " 34  Parking_Assistant  357 non-null    float64\n",
      " 35  Tow_Bar            357 non-null    float64\n",
      "dtypes: float64(26), int64(7), object(3)\n",
      "memory usage: 103.2+ KB\n"
     ]
    }
   ],
   "source": [
    "### Checking for null values presence:\n",
    "#test_X.isnull().any()\n",
    "test_X.info()"
   ]
  },
  {
   "cell_type": "code",
   "execution_count": 27,
   "metadata": {
    "colab": {
     "base_uri": "https://localhost:8080/"
    },
    "id": "fGovhfVFmtul",
    "outputId": "3e3fe20e-f40d-4f4e-8192-4aa65aba04cd"
   },
   "outputs": [
    {
     "data": {
      "text/plain": [
       "Index([], dtype='object')"
      ]
     },
     "execution_count": 27,
     "metadata": {
      "tags": []
     },
     "output_type": "execute_result"
    }
   ],
   "source": [
    "#Check if there are null values or not.\n",
    "test_X.columns[test_X.isnull().any()]"
   ]
  },
  {
   "cell_type": "code",
   "execution_count": 28,
   "metadata": {
    "colab": {
     "base_uri": "https://localhost:8080/",
     "height": 0
    },
    "id": "IAWg3CQnmtul",
    "outputId": "eb1663fb-b26d-4fb7-856e-eb11a33eb271"
   },
   "outputs": [
    {
     "data": {
      "text/html": [
       "<div>\n",
       "<style scoped>\n",
       "    .dataframe tbody tr th:only-of-type {\n",
       "        vertical-align: middle;\n",
       "    }\n",
       "\n",
       "    .dataframe tbody tr th {\n",
       "        vertical-align: top;\n",
       "    }\n",
       "\n",
       "    .dataframe thead th {\n",
       "        text-align: right;\n",
       "    }\n",
       "</style>\n",
       "<table border=\"1\" class=\"dataframe\">\n",
       "  <thead>\n",
       "    <tr style=\"text-align: right;\">\n",
       "      <th></th>\n",
       "      <th>Age_08_04</th>\n",
       "      <th>Mfg_Year</th>\n",
       "      <th>KM</th>\n",
       "      <th>HP</th>\n",
       "      <th>Met_Color</th>\n",
       "      <th>Automatic</th>\n",
       "      <th>CC</th>\n",
       "      <th>Doors</th>\n",
       "      <th>Cylinders</th>\n",
       "      <th>Gears</th>\n",
       "      <th>Quarterly_Tax</th>\n",
       "      <th>Weight</th>\n",
       "      <th>Mfr_Guarantee</th>\n",
       "      <th>BOVAG_Guarantee</th>\n",
       "      <th>Guarantee_Period</th>\n",
       "      <th>ABS</th>\n",
       "      <th>Airbag_1</th>\n",
       "      <th>Airbag_2</th>\n",
       "      <th>Airco</th>\n",
       "      <th>Automatic_airco</th>\n",
       "      <th>Boardcomputer</th>\n",
       "      <th>CD_Player</th>\n",
       "      <th>Central_Lock</th>\n",
       "      <th>Powered_Windows</th>\n",
       "      <th>Power_Steering</th>\n",
       "      <th>Radio</th>\n",
       "      <th>Mistlamps</th>\n",
       "      <th>Sport_Model</th>\n",
       "      <th>Backseat_Divider</th>\n",
       "      <th>Metallic_Rim</th>\n",
       "      <th>Radio_cassette</th>\n",
       "      <th>Parking_Assistant</th>\n",
       "      <th>Tow_Bar</th>\n",
       "    </tr>\n",
       "  </thead>\n",
       "  <tbody>\n",
       "    <tr>\n",
       "      <th>count</th>\n",
       "      <td>357.000000</td>\n",
       "      <td>357.000000</td>\n",
       "      <td>357.000000</td>\n",
       "      <td>357.000000</td>\n",
       "      <td>357.000000</td>\n",
       "      <td>357.000000</td>\n",
       "      <td>357.000000</td>\n",
       "      <td>357.000000</td>\n",
       "      <td>357.0</td>\n",
       "      <td>357.000000</td>\n",
       "      <td>357.000000</td>\n",
       "      <td>357.000000</td>\n",
       "      <td>357.000000</td>\n",
       "      <td>357.00000</td>\n",
       "      <td>357.000000</td>\n",
       "      <td>357.000000</td>\n",
       "      <td>357.000000</td>\n",
       "      <td>357.000000</td>\n",
       "      <td>357.000000</td>\n",
       "      <td>357.000000</td>\n",
       "      <td>357.000000</td>\n",
       "      <td>357.000000</td>\n",
       "      <td>357.000000</td>\n",
       "      <td>357.000000</td>\n",
       "      <td>357.000000</td>\n",
       "      <td>357.000000</td>\n",
       "      <td>357.000000</td>\n",
       "      <td>357.000000</td>\n",
       "      <td>357.000000</td>\n",
       "      <td>357.000000</td>\n",
       "      <td>357.000000</td>\n",
       "      <td>357.000000</td>\n",
       "      <td>357.000000</td>\n",
       "    </tr>\n",
       "    <tr>\n",
       "      <th>mean</th>\n",
       "      <td>56.282913</td>\n",
       "      <td>1999.509804</td>\n",
       "      <td>71488.232493</td>\n",
       "      <td>101.358543</td>\n",
       "      <td>0.655462</td>\n",
       "      <td>0.072829</td>\n",
       "      <td>1614.509804</td>\n",
       "      <td>3.941176</td>\n",
       "      <td>4.0</td>\n",
       "      <td>5.022409</td>\n",
       "      <td>87.941176</td>\n",
       "      <td>1070.515406</td>\n",
       "      <td>0.417367</td>\n",
       "      <td>0.89916</td>\n",
       "      <td>3.725490</td>\n",
       "      <td>0.831933</td>\n",
       "      <td>0.957983</td>\n",
       "      <td>0.753501</td>\n",
       "      <td>0.563025</td>\n",
       "      <td>0.053221</td>\n",
       "      <td>0.268908</td>\n",
       "      <td>0.212885</td>\n",
       "      <td>0.585434</td>\n",
       "      <td>0.568627</td>\n",
       "      <td>0.980392</td>\n",
       "      <td>0.137255</td>\n",
       "      <td>0.218487</td>\n",
       "      <td>0.271709</td>\n",
       "      <td>0.798319</td>\n",
       "      <td>0.196078</td>\n",
       "      <td>0.131653</td>\n",
       "      <td>0.002801</td>\n",
       "      <td>0.243697</td>\n",
       "    </tr>\n",
       "    <tr>\n",
       "      <th>std</th>\n",
       "      <td>16.988796</td>\n",
       "      <td>1.456500</td>\n",
       "      <td>39204.495244</td>\n",
       "      <td>17.108880</td>\n",
       "      <td>0.475884</td>\n",
       "      <td>0.260221</td>\n",
       "      <td>785.974378</td>\n",
       "      <td>0.950702</td>\n",
       "      <td>0.0</td>\n",
       "      <td>0.148217</td>\n",
       "      <td>40.537532</td>\n",
       "      <td>44.214593</td>\n",
       "      <td>0.493817</td>\n",
       "      <td>0.30154</td>\n",
       "      <td>2.713418</td>\n",
       "      <td>0.374451</td>\n",
       "      <td>0.200909</td>\n",
       "      <td>0.431577</td>\n",
       "      <td>0.496708</td>\n",
       "      <td>0.224790</td>\n",
       "      <td>0.444014</td>\n",
       "      <td>0.409922</td>\n",
       "      <td>0.493338</td>\n",
       "      <td>0.495963</td>\n",
       "      <td>0.138843</td>\n",
       "      <td>0.344599</td>\n",
       "      <td>0.413800</td>\n",
       "      <td>0.445465</td>\n",
       "      <td>0.401818</td>\n",
       "      <td>0.397586</td>\n",
       "      <td>0.338587</td>\n",
       "      <td>0.052926</td>\n",
       "      <td>0.429915</td>\n",
       "    </tr>\n",
       "    <tr>\n",
       "      <th>min</th>\n",
       "      <td>1.000000</td>\n",
       "      <td>1998.000000</td>\n",
       "      <td>1.000000</td>\n",
       "      <td>69.000000</td>\n",
       "      <td>0.000000</td>\n",
       "      <td>0.000000</td>\n",
       "      <td>1300.000000</td>\n",
       "      <td>3.000000</td>\n",
       "      <td>4.0</td>\n",
       "      <td>5.000000</td>\n",
       "      <td>19.000000</td>\n",
       "      <td>1000.000000</td>\n",
       "      <td>0.000000</td>\n",
       "      <td>0.00000</td>\n",
       "      <td>3.000000</td>\n",
       "      <td>0.000000</td>\n",
       "      <td>0.000000</td>\n",
       "      <td>0.000000</td>\n",
       "      <td>0.000000</td>\n",
       "      <td>0.000000</td>\n",
       "      <td>0.000000</td>\n",
       "      <td>0.000000</td>\n",
       "      <td>0.000000</td>\n",
       "      <td>0.000000</td>\n",
       "      <td>0.000000</td>\n",
       "      <td>0.000000</td>\n",
       "      <td>0.000000</td>\n",
       "      <td>0.000000</td>\n",
       "      <td>0.000000</td>\n",
       "      <td>0.000000</td>\n",
       "      <td>0.000000</td>\n",
       "      <td>0.000000</td>\n",
       "      <td>0.000000</td>\n",
       "    </tr>\n",
       "    <tr>\n",
       "      <th>25%</th>\n",
       "      <td>46.000000</td>\n",
       "      <td>1998.000000</td>\n",
       "      <td>46449.000000</td>\n",
       "      <td>86.000000</td>\n",
       "      <td>0.000000</td>\n",
       "      <td>0.000000</td>\n",
       "      <td>1400.000000</td>\n",
       "      <td>3.000000</td>\n",
       "      <td>4.0</td>\n",
       "      <td>5.000000</td>\n",
       "      <td>69.000000</td>\n",
       "      <td>1040.000000</td>\n",
       "      <td>0.000000</td>\n",
       "      <td>1.00000</td>\n",
       "      <td>3.000000</td>\n",
       "      <td>1.000000</td>\n",
       "      <td>1.000000</td>\n",
       "      <td>1.000000</td>\n",
       "      <td>0.000000</td>\n",
       "      <td>0.000000</td>\n",
       "      <td>0.000000</td>\n",
       "      <td>0.000000</td>\n",
       "      <td>0.000000</td>\n",
       "      <td>0.000000</td>\n",
       "      <td>1.000000</td>\n",
       "      <td>0.000000</td>\n",
       "      <td>0.000000</td>\n",
       "      <td>0.000000</td>\n",
       "      <td>1.000000</td>\n",
       "      <td>0.000000</td>\n",
       "      <td>0.000000</td>\n",
       "      <td>0.000000</td>\n",
       "      <td>0.000000</td>\n",
       "    </tr>\n",
       "    <tr>\n",
       "      <th>50%</th>\n",
       "      <td>59.000000</td>\n",
       "      <td>1999.000000</td>\n",
       "      <td>63164.000000</td>\n",
       "      <td>110.000000</td>\n",
       "      <td>1.000000</td>\n",
       "      <td>0.000000</td>\n",
       "      <td>1600.000000</td>\n",
       "      <td>4.000000</td>\n",
       "      <td>4.0</td>\n",
       "      <td>5.000000</td>\n",
       "      <td>85.000000</td>\n",
       "      <td>1065.000000</td>\n",
       "      <td>0.000000</td>\n",
       "      <td>1.00000</td>\n",
       "      <td>3.000000</td>\n",
       "      <td>1.000000</td>\n",
       "      <td>1.000000</td>\n",
       "      <td>1.000000</td>\n",
       "      <td>1.000000</td>\n",
       "      <td>0.000000</td>\n",
       "      <td>0.000000</td>\n",
       "      <td>0.000000</td>\n",
       "      <td>1.000000</td>\n",
       "      <td>1.000000</td>\n",
       "      <td>1.000000</td>\n",
       "      <td>0.000000</td>\n",
       "      <td>0.000000</td>\n",
       "      <td>0.000000</td>\n",
       "      <td>1.000000</td>\n",
       "      <td>0.000000</td>\n",
       "      <td>0.000000</td>\n",
       "      <td>0.000000</td>\n",
       "      <td>0.000000</td>\n",
       "    </tr>\n",
       "    <tr>\n",
       "      <th>75%</th>\n",
       "      <td>70.000000</td>\n",
       "      <td>2000.000000</td>\n",
       "      <td>85470.000000</td>\n",
       "      <td>110.000000</td>\n",
       "      <td>1.000000</td>\n",
       "      <td>0.000000</td>\n",
       "      <td>1600.000000</td>\n",
       "      <td>5.000000</td>\n",
       "      <td>4.0</td>\n",
       "      <td>5.000000</td>\n",
       "      <td>85.000000</td>\n",
       "      <td>1085.000000</td>\n",
       "      <td>1.000000</td>\n",
       "      <td>1.00000</td>\n",
       "      <td>3.000000</td>\n",
       "      <td>1.000000</td>\n",
       "      <td>1.000000</td>\n",
       "      <td>1.000000</td>\n",
       "      <td>1.000000</td>\n",
       "      <td>0.000000</td>\n",
       "      <td>1.000000</td>\n",
       "      <td>0.000000</td>\n",
       "      <td>1.000000</td>\n",
       "      <td>1.000000</td>\n",
       "      <td>1.000000</td>\n",
       "      <td>0.000000</td>\n",
       "      <td>0.000000</td>\n",
       "      <td>1.000000</td>\n",
       "      <td>1.000000</td>\n",
       "      <td>0.000000</td>\n",
       "      <td>0.000000</td>\n",
       "      <td>0.000000</td>\n",
       "      <td>0.000000</td>\n",
       "    </tr>\n",
       "    <tr>\n",
       "      <th>max</th>\n",
       "      <td>80.000000</td>\n",
       "      <td>2004.000000</td>\n",
       "      <td>243000.000000</td>\n",
       "      <td>192.000000</td>\n",
       "      <td>1.000000</td>\n",
       "      <td>1.000000</td>\n",
       "      <td>16000.000000</td>\n",
       "      <td>5.000000</td>\n",
       "      <td>4.0</td>\n",
       "      <td>6.000000</td>\n",
       "      <td>234.000000</td>\n",
       "      <td>1270.000000</td>\n",
       "      <td>1.000000</td>\n",
       "      <td>1.00000</td>\n",
       "      <td>36.000000</td>\n",
       "      <td>1.000000</td>\n",
       "      <td>1.000000</td>\n",
       "      <td>1.000000</td>\n",
       "      <td>1.000000</td>\n",
       "      <td>1.000000</td>\n",
       "      <td>1.000000</td>\n",
       "      <td>1.000000</td>\n",
       "      <td>1.000000</td>\n",
       "      <td>1.000000</td>\n",
       "      <td>1.000000</td>\n",
       "      <td>1.000000</td>\n",
       "      <td>1.000000</td>\n",
       "      <td>1.000000</td>\n",
       "      <td>1.000000</td>\n",
       "      <td>1.000000</td>\n",
       "      <td>1.000000</td>\n",
       "      <td>1.000000</td>\n",
       "      <td>1.000000</td>\n",
       "    </tr>\n",
       "  </tbody>\n",
       "</table>\n",
       "</div>"
      ],
      "text/plain": [
       "        Age_08_04     Mfg_Year  ...  Parking_Assistant     Tow_Bar\n",
       "count  357.000000   357.000000  ...         357.000000  357.000000\n",
       "mean    56.282913  1999.509804  ...           0.002801    0.243697\n",
       "std     16.988796     1.456500  ...           0.052926    0.429915\n",
       "min      1.000000  1998.000000  ...           0.000000    0.000000\n",
       "25%     46.000000  1998.000000  ...           0.000000    0.000000\n",
       "50%     59.000000  1999.000000  ...           0.000000    0.000000\n",
       "75%     70.000000  2000.000000  ...           0.000000    0.000000\n",
       "max     80.000000  2004.000000  ...           1.000000    1.000000\n",
       "\n",
       "[8 rows x 33 columns]"
      ]
     },
     "execution_count": 28,
     "metadata": {
      "tags": []
     },
     "output_type": "execute_result"
    }
   ],
   "source": [
    "test_X.describe()"
   ]
  },
  {
   "cell_type": "markdown",
   "metadata": {
    "id": "gOKSiseomtul"
   },
   "source": [
    "### 12) Data Transformation of the Train and Test Datasets:\n",
    "We have now completely removed all the null values and imputed them with the desired values. Now we can work on tranforming the data to make it suitable for regression models.\n",
    "\n",
    "#### a) Data Transformation of Train Dataset \n",
    "Let us go through each categorical/ordinal/binary columns and perform data transformation by either mapping or one hot vector encoding. Columns 'Age', 'KM', 'HP', 'CC', 'Quarterly_Tax', 'Weight' and 'Guarantee Period' are continous and will not require 1 hot vector transformation. Column 'Cylinders' has only one value 4 hence we will drop this column. Rest all the 30 columns will require one hot vector transformation as they are all nominal catagorical variables."
   ]
  },
  {
   "cell_type": "code",
   "execution_count": 29,
   "metadata": {
    "id": "tUllRxwwmtul"
   },
   "outputs": [],
   "source": [
    "#Dropping the Cylinders variable from the Train dataset\n",
    "train_X.drop(columns = ['Cylinders'], axis = 1, inplace = True)\n",
    "train_X\n",
    "\n",
    "#Adding 1 hot vectors to the rest 29 feature columns:\n",
    "column_names = ['Mfg_Month','Mfg_Year', 'Fuel_Type','Met_Color', 'Color', 'Automatic','Doors', 'Gears',\n",
    "          'Mfr_Guarantee','BOVAG_Guarantee', 'ABS', 'Airbag_1', 'Airbag_2', 'Airco', 'Automatic_airco',\n",
    "          'Boardcomputer' , 'CD_Player' , 'Central_Lock' , 'Powered_Windows', 'Power_Steering', 'Radio', 'Mistlamps' ,\n",
    "          'Sport_Model' , 'Backseat_Divider' , 'Metallic_Rim' , 'Radio_cassette' , 'Parking_Assistant', 'Tow_Bar']\n",
    "for z in column_names:\n",
    "    cols = pd.get_dummies(train_X[z], prefix= z)\n",
    "    train_X[cols.columns] = cols\n",
    "    train_X.drop(z, axis = 1, inplace = True)\n"
   ]
  },
  {
   "cell_type": "code",
   "execution_count": 30,
   "metadata": {
    "colab": {
     "base_uri": "https://localhost:8080/"
    },
    "id": "5DZvsjT9mtul",
    "outputId": "3e92102f-8234-46b1-eb50-151dcfa79e64"
   },
   "outputs": [
    {
     "name": "stdout",
     "output_type": "stream",
     "text": [
      "<class 'pandas.core.frame.DataFrame'>\n",
      "Int64Index: 1068 entries, 1297 to 684\n",
      "Data columns (total 86 columns):\n",
      " #   Column                 Non-Null Count  Dtype\n",
      "---  ------                 --------------  -----\n",
      " 0   Age_08_04              1068 non-null   int64\n",
      " 1   KM                     1068 non-null   int64\n",
      " 2   HP                     1068 non-null   int64\n",
      " 3   CC                     1068 non-null   int64\n",
      " 4   Quarterly_Tax          1068 non-null   int64\n",
      " 5   Weight                 1068 non-null   int64\n",
      " 6   Guarantee_Period       1068 non-null   int64\n",
      " 7   Mfg_Month_April        1068 non-null   uint8\n",
      " 8   Mfg_Month_August       1068 non-null   uint8\n",
      " 9   Mfg_Month_December     1068 non-null   uint8\n",
      " 10  Mfg_Month_February     1068 non-null   uint8\n",
      " 11  Mfg_Month_January      1068 non-null   uint8\n",
      " 12  Mfg_Month_July         1068 non-null   uint8\n",
      " 13  Mfg_Month_June         1068 non-null   uint8\n",
      " 14  Mfg_Month_March        1068 non-null   uint8\n",
      " 15  Mfg_Month_May          1068 non-null   uint8\n",
      " 16  Mfg_Month_November     1068 non-null   uint8\n",
      " 17  Mfg_Month_October      1068 non-null   uint8\n",
      " 18  Mfg_Month_September    1068 non-null   uint8\n",
      " 19  Mfg_Year_1998.0        1068 non-null   uint8\n",
      " 20  Mfg_Year_1999.0        1068 non-null   uint8\n",
      " 21  Mfg_Year_2000.0        1068 non-null   uint8\n",
      " 22  Mfg_Year_2001.0        1068 non-null   uint8\n",
      " 23  Mfg_Year_2002.0        1068 non-null   uint8\n",
      " 24  Mfg_Year_2003.0        1068 non-null   uint8\n",
      " 25  Mfg_Year_2004.0        1068 non-null   uint8\n",
      " 26  Fuel_Type_CNG          1068 non-null   uint8\n",
      " 27  Fuel_Type_Diesel       1068 non-null   uint8\n",
      " 28  Fuel_Type_Petrol       1068 non-null   uint8\n",
      " 29  Met_Color_0.0          1068 non-null   uint8\n",
      " 30  Met_Color_1.0          1068 non-null   uint8\n",
      " 31  Color_Black            1068 non-null   uint8\n",
      " 32  Color_Blue             1068 non-null   uint8\n",
      " 33  Color_Green            1068 non-null   uint8\n",
      " 34  Color_Grey             1068 non-null   uint8\n",
      " 35  Color_Red              1068 non-null   uint8\n",
      " 36  Color_Silver           1068 non-null   uint8\n",
      " 37  Color_Violet           1068 non-null   uint8\n",
      " 38  Color_White            1068 non-null   uint8\n",
      " 39  Automatic_0.0          1068 non-null   uint8\n",
      " 40  Automatic_1.0          1068 non-null   uint8\n",
      " 41  Doors_3.0              1068 non-null   uint8\n",
      " 42  Doors_4.0              1068 non-null   uint8\n",
      " 43  Doors_5.0              1068 non-null   uint8\n",
      " 44  Gears_5.0              1068 non-null   uint8\n",
      " 45  Gears_6.0              1068 non-null   uint8\n",
      " 46  Mfr_Guarantee_0.0      1068 non-null   uint8\n",
      " 47  Mfr_Guarantee_1.0      1068 non-null   uint8\n",
      " 48  BOVAG_Guarantee_0.0    1068 non-null   uint8\n",
      " 49  BOVAG_Guarantee_1.0    1068 non-null   uint8\n",
      " 50  ABS_0.0                1068 non-null   uint8\n",
      " 51  ABS_1.0                1068 non-null   uint8\n",
      " 52  Airbag_1_0.0           1068 non-null   uint8\n",
      " 53  Airbag_1_1.0           1068 non-null   uint8\n",
      " 54  Airbag_2_0.0           1068 non-null   uint8\n",
      " 55  Airbag_2_1.0           1068 non-null   uint8\n",
      " 56  Airco_0.0              1068 non-null   uint8\n",
      " 57  Airco_1.0              1068 non-null   uint8\n",
      " 58  Automatic_airco_0.0    1068 non-null   uint8\n",
      " 59  Automatic_airco_1.0    1068 non-null   uint8\n",
      " 60  Boardcomputer_0.0      1068 non-null   uint8\n",
      " 61  Boardcomputer_1.0      1068 non-null   uint8\n",
      " 62  CD_Player_0.0          1068 non-null   uint8\n",
      " 63  CD_Player_1.0          1068 non-null   uint8\n",
      " 64  Central_Lock_0.0       1068 non-null   uint8\n",
      " 65  Central_Lock_1.0       1068 non-null   uint8\n",
      " 66  Powered_Windows_0.0    1068 non-null   uint8\n",
      " 67  Powered_Windows_1.0    1068 non-null   uint8\n",
      " 68  Power_Steering_0.0     1068 non-null   uint8\n",
      " 69  Power_Steering_1.0     1068 non-null   uint8\n",
      " 70  Radio_0.0              1068 non-null   uint8\n",
      " 71  Radio_1.0              1068 non-null   uint8\n",
      " 72  Mistlamps_0.0          1068 non-null   uint8\n",
      " 73  Mistlamps_1.0          1068 non-null   uint8\n",
      " 74  Sport_Model_0.0        1068 non-null   uint8\n",
      " 75  Sport_Model_1.0        1068 non-null   uint8\n",
      " 76  Backseat_Divider_0.0   1068 non-null   uint8\n",
      " 77  Backseat_Divider_1.0   1068 non-null   uint8\n",
      " 78  Metallic_Rim_0.0       1068 non-null   uint8\n",
      " 79  Metallic_Rim_1.0       1068 non-null   uint8\n",
      " 80  Radio_cassette_0.0     1068 non-null   uint8\n",
      " 81  Radio_cassette_1.0     1068 non-null   uint8\n",
      " 82  Parking_Assistant_0.0  1068 non-null   uint8\n",
      " 83  Parking_Assistant_1.0  1068 non-null   uint8\n",
      " 84  Tow_Bar_0.0            1068 non-null   uint8\n",
      " 85  Tow_Bar_1.0            1068 non-null   uint8\n",
      "dtypes: int64(7), uint8(79)\n",
      "memory usage: 149.1 KB\n"
     ]
    }
   ],
   "source": [
    "train_X.info()"
   ]
  },
  {
   "cell_type": "code",
   "execution_count": 31,
   "metadata": {
    "colab": {
     "base_uri": "https://localhost:8080/"
    },
    "id": "ugnNQ572mtul",
    "outputId": "a3b76b1d-938f-4631-e13d-6213cafd9912"
   },
   "outputs": [
    {
     "data": {
      "text/plain": [
       "(1068, 86)"
      ]
     },
     "execution_count": 31,
     "metadata": {
      "tags": []
     },
     "output_type": "execute_result"
    }
   ],
   "source": [
    "train_X.shape"
   ]
  },
  {
   "cell_type": "markdown",
   "metadata": {
    "id": "g2ot5uIOmtum"
   },
   "source": [
    "The shape of the Train dataset after transformation is 86 columns and 1068 rows"
   ]
  },
  {
   "cell_type": "markdown",
   "metadata": {
    "id": "fOkJafCHmtum"
   },
   "source": [
    "#### b) Data Transformation of Test Dataset \n",
    "Redoing the exact data transformation that we did for the Train Dataset on Test Dataset we should receive the exact number of transformed columns as 86."
   ]
  },
  {
   "cell_type": "code",
   "execution_count": 32,
   "metadata": {
    "id": "ANqXc8dxmtum"
   },
   "outputs": [],
   "source": [
    "#Dropping the Cylinder variable from the Test dataset\n",
    "test_X.drop(columns = ['Cylinders'], axis = 1, inplace = True)\n",
    "test_X\n",
    "\n",
    "#Adding 1 hot vectors to the rest 29 feature columns:\n",
    "column_names = ['Mfg_Month','Mfg_Year', 'Fuel_Type','Met_Color', 'Color', 'Automatic','Doors', 'Gears',\n",
    "          'Mfr_Guarantee','BOVAG_Guarantee', 'ABS', 'Airbag_1', 'Airbag_2', 'Airco', 'Automatic_airco',\n",
    "          'Boardcomputer' , 'CD_Player' , 'Central_Lock' , 'Powered_Windows', 'Power_Steering', 'Radio', 'Mistlamps' ,\n",
    "          'Sport_Model' , 'Backseat_Divider' , 'Metallic_Rim' , 'Radio_cassette' , 'Parking_Assistant', 'Tow_Bar']\n",
    "for z in column_names:\n",
    "    cols = pd.get_dummies(test_X[z], prefix= z)\n",
    "    test_X[cols.columns] = cols\n",
    "    test_X.drop(z, axis = 1, inplace = True)\n"
   ]
  },
  {
   "cell_type": "code",
   "execution_count": 33,
   "metadata": {
    "colab": {
     "base_uri": "https://localhost:8080/"
    },
    "id": "33TPyd1mmtum",
    "outputId": "28b3759c-db1d-4295-9f65-28d473f41be9"
   },
   "outputs": [
    {
     "name": "stdout",
     "output_type": "stream",
     "text": [
      "<class 'pandas.core.frame.DataFrame'>\n",
      "Int64Index: 357 entries, 740 to 412\n",
      "Data columns (total 86 columns):\n",
      " #   Column                 Non-Null Count  Dtype\n",
      "---  ------                 --------------  -----\n",
      " 0   Age_08_04              357 non-null    int64\n",
      " 1   KM                     357 non-null    int64\n",
      " 2   HP                     357 non-null    int64\n",
      " 3   CC                     357 non-null    int64\n",
      " 4   Quarterly_Tax          357 non-null    int64\n",
      " 5   Weight                 357 non-null    int64\n",
      " 6   Guarantee_Period       357 non-null    int64\n",
      " 7   Mfg_Month_April        357 non-null    uint8\n",
      " 8   Mfg_Month_August       357 non-null    uint8\n",
      " 9   Mfg_Month_December     357 non-null    uint8\n",
      " 10  Mfg_Month_February     357 non-null    uint8\n",
      " 11  Mfg_Month_January      357 non-null    uint8\n",
      " 12  Mfg_Month_July         357 non-null    uint8\n",
      " 13  Mfg_Month_June         357 non-null    uint8\n",
      " 14  Mfg_Month_March        357 non-null    uint8\n",
      " 15  Mfg_Month_May          357 non-null    uint8\n",
      " 16  Mfg_Month_November     357 non-null    uint8\n",
      " 17  Mfg_Month_October      357 non-null    uint8\n",
      " 18  Mfg_Month_September    357 non-null    uint8\n",
      " 19  Mfg_Year_1998.0        357 non-null    uint8\n",
      " 20  Mfg_Year_1999.0        357 non-null    uint8\n",
      " 21  Mfg_Year_2000.0        357 non-null    uint8\n",
      " 22  Mfg_Year_2001.0        357 non-null    uint8\n",
      " 23  Mfg_Year_2002.0        357 non-null    uint8\n",
      " 24  Mfg_Year_2003.0        357 non-null    uint8\n",
      " 25  Mfg_Year_2004.0        357 non-null    uint8\n",
      " 26  Fuel_Type_CNG          357 non-null    uint8\n",
      " 27  Fuel_Type_Diesel       357 non-null    uint8\n",
      " 28  Fuel_Type_Petrol       357 non-null    uint8\n",
      " 29  Met_Color_0.0          357 non-null    uint8\n",
      " 30  Met_Color_1.0          357 non-null    uint8\n",
      " 31  Color_Black            357 non-null    uint8\n",
      " 32  Color_Blue             357 non-null    uint8\n",
      " 33  Color_Green            357 non-null    uint8\n",
      " 34  Color_Grey             357 non-null    uint8\n",
      " 35  Color_Red              357 non-null    uint8\n",
      " 36  Color_Silver           357 non-null    uint8\n",
      " 37  Color_Violet           357 non-null    uint8\n",
      " 38  Color_White            357 non-null    uint8\n",
      " 39  Automatic_0.0          357 non-null    uint8\n",
      " 40  Automatic_1.0          357 non-null    uint8\n",
      " 41  Doors_3.0              357 non-null    uint8\n",
      " 42  Doors_4.0              357 non-null    uint8\n",
      " 43  Doors_5.0              357 non-null    uint8\n",
      " 44  Gears_5.0              357 non-null    uint8\n",
      " 45  Gears_6.0              357 non-null    uint8\n",
      " 46  Mfr_Guarantee_0.0      357 non-null    uint8\n",
      " 47  Mfr_Guarantee_1.0      357 non-null    uint8\n",
      " 48  BOVAG_Guarantee_0.0    357 non-null    uint8\n",
      " 49  BOVAG_Guarantee_1.0    357 non-null    uint8\n",
      " 50  ABS_0.0                357 non-null    uint8\n",
      " 51  ABS_1.0                357 non-null    uint8\n",
      " 52  Airbag_1_0.0           357 non-null    uint8\n",
      " 53  Airbag_1_1.0           357 non-null    uint8\n",
      " 54  Airbag_2_0.0           357 non-null    uint8\n",
      " 55  Airbag_2_1.0           357 non-null    uint8\n",
      " 56  Airco_0.0              357 non-null    uint8\n",
      " 57  Airco_1.0              357 non-null    uint8\n",
      " 58  Automatic_airco_0.0    357 non-null    uint8\n",
      " 59  Automatic_airco_1.0    357 non-null    uint8\n",
      " 60  Boardcomputer_0.0      357 non-null    uint8\n",
      " 61  Boardcomputer_1.0      357 non-null    uint8\n",
      " 62  CD_Player_0.0          357 non-null    uint8\n",
      " 63  CD_Player_1.0          357 non-null    uint8\n",
      " 64  Central_Lock_0.0       357 non-null    uint8\n",
      " 65  Central_Lock_1.0       357 non-null    uint8\n",
      " 66  Powered_Windows_0.0    357 non-null    uint8\n",
      " 67  Powered_Windows_1.0    357 non-null    uint8\n",
      " 68  Power_Steering_0.0     357 non-null    uint8\n",
      " 69  Power_Steering_1.0     357 non-null    uint8\n",
      " 70  Radio_0.0              357 non-null    uint8\n",
      " 71  Radio_1.0              357 non-null    uint8\n",
      " 72  Mistlamps_0.0          357 non-null    uint8\n",
      " 73  Mistlamps_1.0          357 non-null    uint8\n",
      " 74  Sport_Model_0.0        357 non-null    uint8\n",
      " 75  Sport_Model_1.0        357 non-null    uint8\n",
      " 76  Backseat_Divider_0.0   357 non-null    uint8\n",
      " 77  Backseat_Divider_1.0   357 non-null    uint8\n",
      " 78  Metallic_Rim_0.0       357 non-null    uint8\n",
      " 79  Metallic_Rim_1.0       357 non-null    uint8\n",
      " 80  Radio_cassette_0.0     357 non-null    uint8\n",
      " 81  Radio_cassette_1.0     357 non-null    uint8\n",
      " 82  Parking_Assistant_0.0  357 non-null    uint8\n",
      " 83  Parking_Assistant_1.0  357 non-null    uint8\n",
      " 84  Tow_Bar_0.0            357 non-null    uint8\n",
      " 85  Tow_Bar_1.0            357 non-null    uint8\n",
      "dtypes: int64(7), uint8(79)\n",
      "memory usage: 49.9 KB\n"
     ]
    }
   ],
   "source": [
    "test_X.info()"
   ]
  },
  {
   "cell_type": "code",
   "execution_count": 34,
   "metadata": {
    "colab": {
     "base_uri": "https://localhost:8080/"
    },
    "id": "DWgfOr_Qmtum",
    "outputId": "ac7fafdb-6fd9-4cca-a7bf-c32c82283c07"
   },
   "outputs": [
    {
     "data": {
      "text/plain": [
       "(357, 86)"
      ]
     },
     "execution_count": 34,
     "metadata": {
      "tags": []
     },
     "output_type": "execute_result"
    }
   ],
   "source": [
    "test_X.shape"
   ]
  },
  {
   "cell_type": "markdown",
   "metadata": {
    "id": "Vx--g8UOmtum"
   },
   "source": [
    "The shape of the Test dataset after transformation is 86 columns and 357 rows"
   ]
  },
  {
   "cell_type": "code",
   "execution_count": 35,
   "metadata": {
    "colab": {
     "base_uri": "https://localhost:8080/",
     "height": 0
    },
    "id": "n1C2V2Vgmtum",
    "outputId": "c5a158a2-da70-4728-a02d-3e61e3012d83"
   },
   "outputs": [
    {
     "data": {
      "text/html": [
       "<div>\n",
       "<style scoped>\n",
       "    .dataframe tbody tr th:only-of-type {\n",
       "        vertical-align: middle;\n",
       "    }\n",
       "\n",
       "    .dataframe tbody tr th {\n",
       "        vertical-align: top;\n",
       "    }\n",
       "\n",
       "    .dataframe thead th {\n",
       "        text-align: right;\n",
       "    }\n",
       "</style>\n",
       "<table border=\"1\" class=\"dataframe\">\n",
       "  <thead>\n",
       "    <tr style=\"text-align: right;\">\n",
       "      <th></th>\n",
       "      <th>Age_08_04</th>\n",
       "      <th>KM</th>\n",
       "      <th>HP</th>\n",
       "      <th>CC</th>\n",
       "      <th>Quarterly_Tax</th>\n",
       "      <th>Weight</th>\n",
       "      <th>Guarantee_Period</th>\n",
       "      <th>Mfg_Month_April</th>\n",
       "      <th>Mfg_Month_August</th>\n",
       "      <th>Mfg_Month_December</th>\n",
       "      <th>Mfg_Month_February</th>\n",
       "      <th>Mfg_Month_January</th>\n",
       "      <th>Mfg_Month_July</th>\n",
       "      <th>Mfg_Month_June</th>\n",
       "      <th>Mfg_Month_March</th>\n",
       "      <th>Mfg_Month_May</th>\n",
       "      <th>Mfg_Month_November</th>\n",
       "      <th>Mfg_Month_October</th>\n",
       "      <th>Mfg_Month_September</th>\n",
       "      <th>Mfg_Year_1998.0</th>\n",
       "      <th>Mfg_Year_1999.0</th>\n",
       "      <th>Mfg_Year_2000.0</th>\n",
       "      <th>Mfg_Year_2001.0</th>\n",
       "      <th>Mfg_Year_2002.0</th>\n",
       "      <th>Mfg_Year_2003.0</th>\n",
       "      <th>Mfg_Year_2004.0</th>\n",
       "      <th>Fuel_Type_CNG</th>\n",
       "      <th>Fuel_Type_Diesel</th>\n",
       "      <th>Fuel_Type_Petrol</th>\n",
       "      <th>Met_Color_0.0</th>\n",
       "      <th>Met_Color_1.0</th>\n",
       "      <th>Color_Black</th>\n",
       "      <th>Color_Blue</th>\n",
       "      <th>Color_Green</th>\n",
       "      <th>Color_Grey</th>\n",
       "      <th>Color_Red</th>\n",
       "      <th>Color_Silver</th>\n",
       "      <th>Color_Violet</th>\n",
       "      <th>Color_White</th>\n",
       "      <th>Automatic_0.0</th>\n",
       "      <th>...</th>\n",
       "      <th>Mfr_Guarantee_0.0</th>\n",
       "      <th>Mfr_Guarantee_1.0</th>\n",
       "      <th>BOVAG_Guarantee_0.0</th>\n",
       "      <th>BOVAG_Guarantee_1.0</th>\n",
       "      <th>ABS_0.0</th>\n",
       "      <th>ABS_1.0</th>\n",
       "      <th>Airbag_1_0.0</th>\n",
       "      <th>Airbag_1_1.0</th>\n",
       "      <th>Airbag_2_0.0</th>\n",
       "      <th>Airbag_2_1.0</th>\n",
       "      <th>Airco_0.0</th>\n",
       "      <th>Airco_1.0</th>\n",
       "      <th>Automatic_airco_0.0</th>\n",
       "      <th>Automatic_airco_1.0</th>\n",
       "      <th>Boardcomputer_0.0</th>\n",
       "      <th>Boardcomputer_1.0</th>\n",
       "      <th>CD_Player_0.0</th>\n",
       "      <th>CD_Player_1.0</th>\n",
       "      <th>Central_Lock_0.0</th>\n",
       "      <th>Central_Lock_1.0</th>\n",
       "      <th>Powered_Windows_0.0</th>\n",
       "      <th>Powered_Windows_1.0</th>\n",
       "      <th>Power_Steering_0.0</th>\n",
       "      <th>Power_Steering_1.0</th>\n",
       "      <th>Radio_0.0</th>\n",
       "      <th>Radio_1.0</th>\n",
       "      <th>Mistlamps_0.0</th>\n",
       "      <th>Mistlamps_1.0</th>\n",
       "      <th>Sport_Model_0.0</th>\n",
       "      <th>Sport_Model_1.0</th>\n",
       "      <th>Backseat_Divider_0.0</th>\n",
       "      <th>Backseat_Divider_1.0</th>\n",
       "      <th>Metallic_Rim_0.0</th>\n",
       "      <th>Metallic_Rim_1.0</th>\n",
       "      <th>Radio_cassette_0.0</th>\n",
       "      <th>Radio_cassette_1.0</th>\n",
       "      <th>Parking_Assistant_0.0</th>\n",
       "      <th>Parking_Assistant_1.0</th>\n",
       "      <th>Tow_Bar_0.0</th>\n",
       "      <th>Tow_Bar_1.0</th>\n",
       "    </tr>\n",
       "  </thead>\n",
       "  <tbody>\n",
       "    <tr>\n",
       "      <th>740</th>\n",
       "      <td>65</td>\n",
       "      <td>63164</td>\n",
       "      <td>86</td>\n",
       "      <td>1300</td>\n",
       "      <td>69</td>\n",
       "      <td>1015</td>\n",
       "      <td>3</td>\n",
       "      <td>1</td>\n",
       "      <td>0</td>\n",
       "      <td>0</td>\n",
       "      <td>0</td>\n",
       "      <td>0</td>\n",
       "      <td>0</td>\n",
       "      <td>0</td>\n",
       "      <td>0</td>\n",
       "      <td>0</td>\n",
       "      <td>0</td>\n",
       "      <td>0</td>\n",
       "      <td>0</td>\n",
       "      <td>0</td>\n",
       "      <td>1</td>\n",
       "      <td>0</td>\n",
       "      <td>0</td>\n",
       "      <td>0</td>\n",
       "      <td>0</td>\n",
       "      <td>0</td>\n",
       "      <td>0</td>\n",
       "      <td>0</td>\n",
       "      <td>1</td>\n",
       "      <td>0</td>\n",
       "      <td>1</td>\n",
       "      <td>0</td>\n",
       "      <td>1</td>\n",
       "      <td>0</td>\n",
       "      <td>0</td>\n",
       "      <td>0</td>\n",
       "      <td>0</td>\n",
       "      <td>0</td>\n",
       "      <td>0</td>\n",
       "      <td>1</td>\n",
       "      <td>...</td>\n",
       "      <td>1</td>\n",
       "      <td>0</td>\n",
       "      <td>1</td>\n",
       "      <td>0</td>\n",
       "      <td>0</td>\n",
       "      <td>1</td>\n",
       "      <td>0</td>\n",
       "      <td>1</td>\n",
       "      <td>0</td>\n",
       "      <td>1</td>\n",
       "      <td>1</td>\n",
       "      <td>0</td>\n",
       "      <td>1</td>\n",
       "      <td>0</td>\n",
       "      <td>1</td>\n",
       "      <td>0</td>\n",
       "      <td>1</td>\n",
       "      <td>0</td>\n",
       "      <td>1</td>\n",
       "      <td>0</td>\n",
       "      <td>1</td>\n",
       "      <td>0</td>\n",
       "      <td>0</td>\n",
       "      <td>1</td>\n",
       "      <td>1</td>\n",
       "      <td>0</td>\n",
       "      <td>1</td>\n",
       "      <td>0</td>\n",
       "      <td>1</td>\n",
       "      <td>0</td>\n",
       "      <td>0</td>\n",
       "      <td>1</td>\n",
       "      <td>1</td>\n",
       "      <td>0</td>\n",
       "      <td>1</td>\n",
       "      <td>0</td>\n",
       "      <td>1</td>\n",
       "      <td>0</td>\n",
       "      <td>0</td>\n",
       "      <td>1</td>\n",
       "    </tr>\n",
       "    <tr>\n",
       "      <th>644</th>\n",
       "      <td>68</td>\n",
       "      <td>117000</td>\n",
       "      <td>72</td>\n",
       "      <td>2000</td>\n",
       "      <td>185</td>\n",
       "      <td>1115</td>\n",
       "      <td>3</td>\n",
       "      <td>0</td>\n",
       "      <td>0</td>\n",
       "      <td>0</td>\n",
       "      <td>0</td>\n",
       "      <td>1</td>\n",
       "      <td>0</td>\n",
       "      <td>0</td>\n",
       "      <td>0</td>\n",
       "      <td>0</td>\n",
       "      <td>0</td>\n",
       "      <td>0</td>\n",
       "      <td>0</td>\n",
       "      <td>0</td>\n",
       "      <td>1</td>\n",
       "      <td>0</td>\n",
       "      <td>0</td>\n",
       "      <td>0</td>\n",
       "      <td>0</td>\n",
       "      <td>0</td>\n",
       "      <td>0</td>\n",
       "      <td>1</td>\n",
       "      <td>0</td>\n",
       "      <td>1</td>\n",
       "      <td>0</td>\n",
       "      <td>0</td>\n",
       "      <td>0</td>\n",
       "      <td>0</td>\n",
       "      <td>0</td>\n",
       "      <td>0</td>\n",
       "      <td>1</td>\n",
       "      <td>0</td>\n",
       "      <td>0</td>\n",
       "      <td>1</td>\n",
       "      <td>...</td>\n",
       "      <td>1</td>\n",
       "      <td>0</td>\n",
       "      <td>0</td>\n",
       "      <td>1</td>\n",
       "      <td>0</td>\n",
       "      <td>1</td>\n",
       "      <td>0</td>\n",
       "      <td>1</td>\n",
       "      <td>0</td>\n",
       "      <td>1</td>\n",
       "      <td>1</td>\n",
       "      <td>0</td>\n",
       "      <td>1</td>\n",
       "      <td>0</td>\n",
       "      <td>1</td>\n",
       "      <td>0</td>\n",
       "      <td>1</td>\n",
       "      <td>0</td>\n",
       "      <td>1</td>\n",
       "      <td>0</td>\n",
       "      <td>1</td>\n",
       "      <td>0</td>\n",
       "      <td>0</td>\n",
       "      <td>1</td>\n",
       "      <td>1</td>\n",
       "      <td>0</td>\n",
       "      <td>1</td>\n",
       "      <td>0</td>\n",
       "      <td>0</td>\n",
       "      <td>1</td>\n",
       "      <td>0</td>\n",
       "      <td>1</td>\n",
       "      <td>1</td>\n",
       "      <td>0</td>\n",
       "      <td>1</td>\n",
       "      <td>0</td>\n",
       "      <td>1</td>\n",
       "      <td>0</td>\n",
       "      <td>1</td>\n",
       "      <td>0</td>\n",
       "    </tr>\n",
       "    <tr>\n",
       "      <th>434</th>\n",
       "      <td>48</td>\n",
       "      <td>78600</td>\n",
       "      <td>110</td>\n",
       "      <td>1600</td>\n",
       "      <td>85</td>\n",
       "      <td>1075</td>\n",
       "      <td>3</td>\n",
       "      <td>0</td>\n",
       "      <td>0</td>\n",
       "      <td>0</td>\n",
       "      <td>1</td>\n",
       "      <td>0</td>\n",
       "      <td>0</td>\n",
       "      <td>0</td>\n",
       "      <td>0</td>\n",
       "      <td>0</td>\n",
       "      <td>0</td>\n",
       "      <td>0</td>\n",
       "      <td>0</td>\n",
       "      <td>0</td>\n",
       "      <td>0</td>\n",
       "      <td>1</td>\n",
       "      <td>0</td>\n",
       "      <td>0</td>\n",
       "      <td>0</td>\n",
       "      <td>0</td>\n",
       "      <td>0</td>\n",
       "      <td>0</td>\n",
       "      <td>1</td>\n",
       "      <td>0</td>\n",
       "      <td>1</td>\n",
       "      <td>0</td>\n",
       "      <td>1</td>\n",
       "      <td>0</td>\n",
       "      <td>0</td>\n",
       "      <td>0</td>\n",
       "      <td>0</td>\n",
       "      <td>0</td>\n",
       "      <td>0</td>\n",
       "      <td>1</td>\n",
       "      <td>...</td>\n",
       "      <td>1</td>\n",
       "      <td>0</td>\n",
       "      <td>0</td>\n",
       "      <td>1</td>\n",
       "      <td>0</td>\n",
       "      <td>1</td>\n",
       "      <td>0</td>\n",
       "      <td>1</td>\n",
       "      <td>0</td>\n",
       "      <td>1</td>\n",
       "      <td>1</td>\n",
       "      <td>0</td>\n",
       "      <td>1</td>\n",
       "      <td>0</td>\n",
       "      <td>0</td>\n",
       "      <td>1</td>\n",
       "      <td>1</td>\n",
       "      <td>0</td>\n",
       "      <td>0</td>\n",
       "      <td>1</td>\n",
       "      <td>0</td>\n",
       "      <td>1</td>\n",
       "      <td>0</td>\n",
       "      <td>1</td>\n",
       "      <td>0</td>\n",
       "      <td>1</td>\n",
       "      <td>1</td>\n",
       "      <td>0</td>\n",
       "      <td>1</td>\n",
       "      <td>0</td>\n",
       "      <td>0</td>\n",
       "      <td>1</td>\n",
       "      <td>1</td>\n",
       "      <td>0</td>\n",
       "      <td>0</td>\n",
       "      <td>1</td>\n",
       "      <td>1</td>\n",
       "      <td>0</td>\n",
       "      <td>1</td>\n",
       "      <td>0</td>\n",
       "    </tr>\n",
       "    <tr>\n",
       "      <th>858</th>\n",
       "      <td>60</td>\n",
       "      <td>64383</td>\n",
       "      <td>86</td>\n",
       "      <td>1300</td>\n",
       "      <td>69</td>\n",
       "      <td>1015</td>\n",
       "      <td>3</td>\n",
       "      <td>0</td>\n",
       "      <td>0</td>\n",
       "      <td>0</td>\n",
       "      <td>0</td>\n",
       "      <td>0</td>\n",
       "      <td>0</td>\n",
       "      <td>0</td>\n",
       "      <td>0</td>\n",
       "      <td>0</td>\n",
       "      <td>0</td>\n",
       "      <td>0</td>\n",
       "      <td>1</td>\n",
       "      <td>0</td>\n",
       "      <td>1</td>\n",
       "      <td>0</td>\n",
       "      <td>0</td>\n",
       "      <td>0</td>\n",
       "      <td>0</td>\n",
       "      <td>0</td>\n",
       "      <td>0</td>\n",
       "      <td>0</td>\n",
       "      <td>1</td>\n",
       "      <td>1</td>\n",
       "      <td>0</td>\n",
       "      <td>0</td>\n",
       "      <td>0</td>\n",
       "      <td>0</td>\n",
       "      <td>0</td>\n",
       "      <td>1</td>\n",
       "      <td>0</td>\n",
       "      <td>0</td>\n",
       "      <td>0</td>\n",
       "      <td>1</td>\n",
       "      <td>...</td>\n",
       "      <td>0</td>\n",
       "      <td>1</td>\n",
       "      <td>0</td>\n",
       "      <td>1</td>\n",
       "      <td>0</td>\n",
       "      <td>1</td>\n",
       "      <td>0</td>\n",
       "      <td>1</td>\n",
       "      <td>0</td>\n",
       "      <td>1</td>\n",
       "      <td>1</td>\n",
       "      <td>0</td>\n",
       "      <td>1</td>\n",
       "      <td>0</td>\n",
       "      <td>1</td>\n",
       "      <td>0</td>\n",
       "      <td>1</td>\n",
       "      <td>0</td>\n",
       "      <td>1</td>\n",
       "      <td>0</td>\n",
       "      <td>1</td>\n",
       "      <td>0</td>\n",
       "      <td>0</td>\n",
       "      <td>1</td>\n",
       "      <td>1</td>\n",
       "      <td>0</td>\n",
       "      <td>1</td>\n",
       "      <td>0</td>\n",
       "      <td>1</td>\n",
       "      <td>0</td>\n",
       "      <td>0</td>\n",
       "      <td>1</td>\n",
       "      <td>1</td>\n",
       "      <td>0</td>\n",
       "      <td>1</td>\n",
       "      <td>0</td>\n",
       "      <td>1</td>\n",
       "      <td>0</td>\n",
       "      <td>1</td>\n",
       "      <td>0</td>\n",
       "    </tr>\n",
       "    <tr>\n",
       "      <th>141</th>\n",
       "      <td>19</td>\n",
       "      <td>21684</td>\n",
       "      <td>192</td>\n",
       "      <td>1800</td>\n",
       "      <td>19</td>\n",
       "      <td>1185</td>\n",
       "      <td>12</td>\n",
       "      <td>0</td>\n",
       "      <td>0</td>\n",
       "      <td>0</td>\n",
       "      <td>1</td>\n",
       "      <td>0</td>\n",
       "      <td>0</td>\n",
       "      <td>0</td>\n",
       "      <td>0</td>\n",
       "      <td>0</td>\n",
       "      <td>0</td>\n",
       "      <td>0</td>\n",
       "      <td>0</td>\n",
       "      <td>0</td>\n",
       "      <td>0</td>\n",
       "      <td>0</td>\n",
       "      <td>0</td>\n",
       "      <td>0</td>\n",
       "      <td>1</td>\n",
       "      <td>0</td>\n",
       "      <td>0</td>\n",
       "      <td>0</td>\n",
       "      <td>1</td>\n",
       "      <td>0</td>\n",
       "      <td>1</td>\n",
       "      <td>0</td>\n",
       "      <td>0</td>\n",
       "      <td>0</td>\n",
       "      <td>0</td>\n",
       "      <td>0</td>\n",
       "      <td>1</td>\n",
       "      <td>0</td>\n",
       "      <td>0</td>\n",
       "      <td>1</td>\n",
       "      <td>...</td>\n",
       "      <td>1</td>\n",
       "      <td>0</td>\n",
       "      <td>0</td>\n",
       "      <td>1</td>\n",
       "      <td>0</td>\n",
       "      <td>1</td>\n",
       "      <td>0</td>\n",
       "      <td>1</td>\n",
       "      <td>1</td>\n",
       "      <td>0</td>\n",
       "      <td>0</td>\n",
       "      <td>1</td>\n",
       "      <td>1</td>\n",
       "      <td>0</td>\n",
       "      <td>1</td>\n",
       "      <td>0</td>\n",
       "      <td>1</td>\n",
       "      <td>0</td>\n",
       "      <td>0</td>\n",
       "      <td>1</td>\n",
       "      <td>0</td>\n",
       "      <td>1</td>\n",
       "      <td>0</td>\n",
       "      <td>1</td>\n",
       "      <td>0</td>\n",
       "      <td>1</td>\n",
       "      <td>1</td>\n",
       "      <td>0</td>\n",
       "      <td>1</td>\n",
       "      <td>0</td>\n",
       "      <td>1</td>\n",
       "      <td>0</td>\n",
       "      <td>0</td>\n",
       "      <td>1</td>\n",
       "      <td>0</td>\n",
       "      <td>1</td>\n",
       "      <td>1</td>\n",
       "      <td>0</td>\n",
       "      <td>1</td>\n",
       "      <td>0</td>\n",
       "    </tr>\n",
       "  </tbody>\n",
       "</table>\n",
       "<p>5 rows × 86 columns</p>\n",
       "</div>"
      ],
      "text/plain": [
       "     Age_08_04      KM   HP  ...  Parking_Assistant_1.0  Tow_Bar_0.0  Tow_Bar_1.0\n",
       "740         65   63164   86  ...                      0            0            1\n",
       "644         68  117000   72  ...                      0            1            0\n",
       "434         48   78600  110  ...                      0            1            0\n",
       "858         60   64383   86  ...                      0            1            0\n",
       "141         19   21684  192  ...                      0            1            0\n",
       "\n",
       "[5 rows x 86 columns]"
      ]
     },
     "execution_count": 35,
     "metadata": {
      "tags": []
     },
     "output_type": "execute_result"
    }
   ],
   "source": [
    "test_X.head()"
   ]
  },
  {
   "cell_type": "markdown",
   "metadata": {
    "id": "rM3WBWW8mtum"
   },
   "source": [
    "#### We have imputed the missing values as well as performed data transformation. Thus, our train and test data sets are completely clean. Now, the next steps will be to perform scaling on the feature set of train and test data."
   ]
  },
  {
   "cell_type": "markdown",
   "metadata": {
    "id": "SsELay2Ymtum"
   },
   "source": [
    "### 13) Scaling the Feature set in Train and Test Data Sets\n",
    "In the following regression problem, we have seen considerable outliers which are essential values but at the same time tend to impact the variables in the Data set. We cannot use **Standar Scaler** here because majority of the data is not normally distributed and has extreme outliers. To avoid this we perform MinMaxScaler() to scale the feature set in train and test data, as **MinMaxScaler()** will transform each value in the dataset proportionally thus preserving the shape of the dataset that is not causing any distortion.\n"
   ]
  },
  {
   "cell_type": "code",
   "execution_count": 36,
   "metadata": {
    "id": "wSsk9usMmtum"
   },
   "outputs": [],
   "source": [
    "from sklearn.preprocessing import MinMaxScaler\n",
    "scaler = MinMaxScaler()\n",
    "train_X_scaled = scaler.fit_transform(train_X)\n",
    "test_X_scaled = scaler.transform(test_X)"
   ]
  },
  {
   "cell_type": "code",
   "execution_count": 37,
   "metadata": {
    "colab": {
     "base_uri": "https://localhost:8080/"
    },
    "id": "ySQEOrqOmtum",
    "outputId": "b650497a-36f2-4fdf-e4b8-32c8a3885fdc"
   },
   "outputs": [
    {
     "data": {
      "text/plain": [
       "array([[0.94936709, 0.30067099, 0.33333333, ..., 0.        , 0.        ,\n",
       "        1.        ],\n",
       "       [0.50632911, 0.12756559, 0.38211382, ..., 0.        , 0.        ,\n",
       "        1.        ],\n",
       "       [0.78481013, 0.49368719, 0.33333333, ..., 0.        , 0.        ,\n",
       "        1.        ],\n",
       "       ...,\n",
       "       [0.92405063, 0.36113317, 0.33333333, ..., 0.        , 1.        ,\n",
       "        0.        ],\n",
       "       [0.75949367, 0.16699222, 0.22764228, ..., 0.        , 1.        ,\n",
       "        0.        ],\n",
       "       [0.83544304, 0.42835249, 0.33333333, ..., 0.        , 1.        ,\n",
       "        0.        ]])"
      ]
     },
     "execution_count": 37,
     "metadata": {
      "tags": []
     },
     "output_type": "execute_result"
    }
   ],
   "source": [
    "train_X_scaled"
   ]
  },
  {
   "cell_type": "code",
   "execution_count": 38,
   "metadata": {
    "colab": {
     "base_uri": "https://localhost:8080/"
    },
    "id": "e3A62Knlmtun",
    "outputId": "c61ed6d0-caea-4229-a655-64a0a4c0adb6"
   },
   "outputs": [
    {
     "data": {
      "text/plain": [
       "array([[0.81012658, 0.27115683, 0.13821138, ..., 0.        , 0.        ,\n",
       "        1.        ],\n",
       "       [0.84810127, 0.50227313, 0.02439024, ..., 0.        , 1.        ,\n",
       "        0.        ],\n",
       "       [0.59493671, 0.3374231 , 0.33333333, ..., 0.        , 1.        ,\n",
       "        0.        ],\n",
       "       ...,\n",
       "       [0.97468354, 0.27115683, 0.13821138, ..., 0.        , 0.        ,\n",
       "        1.        ],\n",
       "       [0.89873418, 0.4555141 , 0.33333333, ..., 0.        , 1.        ,\n",
       "        0.        ],\n",
       "       [0.6835443 , 0.41741829, 0.33333333, ..., 0.        , 1.        ,\n",
       "        0.        ]])"
      ]
     },
     "execution_count": 38,
     "metadata": {
      "tags": []
     },
     "output_type": "execute_result"
    }
   ],
   "source": [
    "test_X_scaled"
   ]
  },
  {
   "cell_type": "code",
   "execution_count": 39,
   "metadata": {
    "id": "8mcDBMTqmtuo"
   },
   "outputs": [],
   "source": [
    "# Convert array back to dataframe\n",
    "from pandas import DataFrame\n",
    "X_train_scaled = DataFrame(train_X_scaled)"
   ]
  },
  {
   "cell_type": "code",
   "execution_count": 40,
   "metadata": {
    "colab": {
     "base_uri": "https://localhost:8080/"
    },
    "id": "ZZ5gaUyzmtuo",
    "outputId": "465782e5-6889-4f41-fc39-4dd0e25f2c8c"
   },
   "outputs": [
    {
     "name": "stdout",
     "output_type": "stream",
     "text": [
      "<class 'pandas.core.frame.DataFrame'>\n",
      "RangeIndex: 1068 entries, 0 to 1067\n",
      "Data columns (total 86 columns):\n",
      " #   Column  Non-Null Count  Dtype  \n",
      "---  ------  --------------  -----  \n",
      " 0   0       1068 non-null   float64\n",
      " 1   1       1068 non-null   float64\n",
      " 2   2       1068 non-null   float64\n",
      " 3   3       1068 non-null   float64\n",
      " 4   4       1068 non-null   float64\n",
      " 5   5       1068 non-null   float64\n",
      " 6   6       1068 non-null   float64\n",
      " 7   7       1068 non-null   float64\n",
      " 8   8       1068 non-null   float64\n",
      " 9   9       1068 non-null   float64\n",
      " 10  10      1068 non-null   float64\n",
      " 11  11      1068 non-null   float64\n",
      " 12  12      1068 non-null   float64\n",
      " 13  13      1068 non-null   float64\n",
      " 14  14      1068 non-null   float64\n",
      " 15  15      1068 non-null   float64\n",
      " 16  16      1068 non-null   float64\n",
      " 17  17      1068 non-null   float64\n",
      " 18  18      1068 non-null   float64\n",
      " 19  19      1068 non-null   float64\n",
      " 20  20      1068 non-null   float64\n",
      " 21  21      1068 non-null   float64\n",
      " 22  22      1068 non-null   float64\n",
      " 23  23      1068 non-null   float64\n",
      " 24  24      1068 non-null   float64\n",
      " 25  25      1068 non-null   float64\n",
      " 26  26      1068 non-null   float64\n",
      " 27  27      1068 non-null   float64\n",
      " 28  28      1068 non-null   float64\n",
      " 29  29      1068 non-null   float64\n",
      " 30  30      1068 non-null   float64\n",
      " 31  31      1068 non-null   float64\n",
      " 32  32      1068 non-null   float64\n",
      " 33  33      1068 non-null   float64\n",
      " 34  34      1068 non-null   float64\n",
      " 35  35      1068 non-null   float64\n",
      " 36  36      1068 non-null   float64\n",
      " 37  37      1068 non-null   float64\n",
      " 38  38      1068 non-null   float64\n",
      " 39  39      1068 non-null   float64\n",
      " 40  40      1068 non-null   float64\n",
      " 41  41      1068 non-null   float64\n",
      " 42  42      1068 non-null   float64\n",
      " 43  43      1068 non-null   float64\n",
      " 44  44      1068 non-null   float64\n",
      " 45  45      1068 non-null   float64\n",
      " 46  46      1068 non-null   float64\n",
      " 47  47      1068 non-null   float64\n",
      " 48  48      1068 non-null   float64\n",
      " 49  49      1068 non-null   float64\n",
      " 50  50      1068 non-null   float64\n",
      " 51  51      1068 non-null   float64\n",
      " 52  52      1068 non-null   float64\n",
      " 53  53      1068 non-null   float64\n",
      " 54  54      1068 non-null   float64\n",
      " 55  55      1068 non-null   float64\n",
      " 56  56      1068 non-null   float64\n",
      " 57  57      1068 non-null   float64\n",
      " 58  58      1068 non-null   float64\n",
      " 59  59      1068 non-null   float64\n",
      " 60  60      1068 non-null   float64\n",
      " 61  61      1068 non-null   float64\n",
      " 62  62      1068 non-null   float64\n",
      " 63  63      1068 non-null   float64\n",
      " 64  64      1068 non-null   float64\n",
      " 65  65      1068 non-null   float64\n",
      " 66  66      1068 non-null   float64\n",
      " 67  67      1068 non-null   float64\n",
      " 68  68      1068 non-null   float64\n",
      " 69  69      1068 non-null   float64\n",
      " 70  70      1068 non-null   float64\n",
      " 71  71      1068 non-null   float64\n",
      " 72  72      1068 non-null   float64\n",
      " 73  73      1068 non-null   float64\n",
      " 74  74      1068 non-null   float64\n",
      " 75  75      1068 non-null   float64\n",
      " 76  76      1068 non-null   float64\n",
      " 77  77      1068 non-null   float64\n",
      " 78  78      1068 non-null   float64\n",
      " 79  79      1068 non-null   float64\n",
      " 80  80      1068 non-null   float64\n",
      " 81  81      1068 non-null   float64\n",
      " 82  82      1068 non-null   float64\n",
      " 83  83      1068 non-null   float64\n",
      " 84  84      1068 non-null   float64\n",
      " 85  85      1068 non-null   float64\n",
      "dtypes: float64(86)\n",
      "memory usage: 717.7 KB\n"
     ]
    }
   ],
   "source": [
    "X_train_scaled.info()"
   ]
  },
  {
   "cell_type": "code",
   "execution_count": 41,
   "metadata": {
    "id": "ljUReBKWmtuo"
   },
   "outputs": [],
   "source": [
    "# Convert array back to dataframe\n",
    "from pandas import DataFrame\n",
    "X_test_scaled = DataFrame(test_X_scaled)"
   ]
  },
  {
   "cell_type": "code",
   "execution_count": 42,
   "metadata": {
    "colab": {
     "base_uri": "https://localhost:8080/"
    },
    "id": "sQAEy0snmtuo",
    "outputId": "c2404727-b585-4125-b78c-dd69182fac9c"
   },
   "outputs": [
    {
     "name": "stdout",
     "output_type": "stream",
     "text": [
      "<class 'pandas.core.frame.DataFrame'>\n",
      "RangeIndex: 357 entries, 0 to 356\n",
      "Data columns (total 86 columns):\n",
      " #   Column  Non-Null Count  Dtype  \n",
      "---  ------  --------------  -----  \n",
      " 0   0       357 non-null    float64\n",
      " 1   1       357 non-null    float64\n",
      " 2   2       357 non-null    float64\n",
      " 3   3       357 non-null    float64\n",
      " 4   4       357 non-null    float64\n",
      " 5   5       357 non-null    float64\n",
      " 6   6       357 non-null    float64\n",
      " 7   7       357 non-null    float64\n",
      " 8   8       357 non-null    float64\n",
      " 9   9       357 non-null    float64\n",
      " 10  10      357 non-null    float64\n",
      " 11  11      357 non-null    float64\n",
      " 12  12      357 non-null    float64\n",
      " 13  13      357 non-null    float64\n",
      " 14  14      357 non-null    float64\n",
      " 15  15      357 non-null    float64\n",
      " 16  16      357 non-null    float64\n",
      " 17  17      357 non-null    float64\n",
      " 18  18      357 non-null    float64\n",
      " 19  19      357 non-null    float64\n",
      " 20  20      357 non-null    float64\n",
      " 21  21      357 non-null    float64\n",
      " 22  22      357 non-null    float64\n",
      " 23  23      357 non-null    float64\n",
      " 24  24      357 non-null    float64\n",
      " 25  25      357 non-null    float64\n",
      " 26  26      357 non-null    float64\n",
      " 27  27      357 non-null    float64\n",
      " 28  28      357 non-null    float64\n",
      " 29  29      357 non-null    float64\n",
      " 30  30      357 non-null    float64\n",
      " 31  31      357 non-null    float64\n",
      " 32  32      357 non-null    float64\n",
      " 33  33      357 non-null    float64\n",
      " 34  34      357 non-null    float64\n",
      " 35  35      357 non-null    float64\n",
      " 36  36      357 non-null    float64\n",
      " 37  37      357 non-null    float64\n",
      " 38  38      357 non-null    float64\n",
      " 39  39      357 non-null    float64\n",
      " 40  40      357 non-null    float64\n",
      " 41  41      357 non-null    float64\n",
      " 42  42      357 non-null    float64\n",
      " 43  43      357 non-null    float64\n",
      " 44  44      357 non-null    float64\n",
      " 45  45      357 non-null    float64\n",
      " 46  46      357 non-null    float64\n",
      " 47  47      357 non-null    float64\n",
      " 48  48      357 non-null    float64\n",
      " 49  49      357 non-null    float64\n",
      " 50  50      357 non-null    float64\n",
      " 51  51      357 non-null    float64\n",
      " 52  52      357 non-null    float64\n",
      " 53  53      357 non-null    float64\n",
      " 54  54      357 non-null    float64\n",
      " 55  55      357 non-null    float64\n",
      " 56  56      357 non-null    float64\n",
      " 57  57      357 non-null    float64\n",
      " 58  58      357 non-null    float64\n",
      " 59  59      357 non-null    float64\n",
      " 60  60      357 non-null    float64\n",
      " 61  61      357 non-null    float64\n",
      " 62  62      357 non-null    float64\n",
      " 63  63      357 non-null    float64\n",
      " 64  64      357 non-null    float64\n",
      " 65  65      357 non-null    float64\n",
      " 66  66      357 non-null    float64\n",
      " 67  67      357 non-null    float64\n",
      " 68  68      357 non-null    float64\n",
      " 69  69      357 non-null    float64\n",
      " 70  70      357 non-null    float64\n",
      " 71  71      357 non-null    float64\n",
      " 72  72      357 non-null    float64\n",
      " 73  73      357 non-null    float64\n",
      " 74  74      357 non-null    float64\n",
      " 75  75      357 non-null    float64\n",
      " 76  76      357 non-null    float64\n",
      " 77  77      357 non-null    float64\n",
      " 78  78      357 non-null    float64\n",
      " 79  79      357 non-null    float64\n",
      " 80  80      357 non-null    float64\n",
      " 81  81      357 non-null    float64\n",
      " 82  82      357 non-null    float64\n",
      " 83  83      357 non-null    float64\n",
      " 84  84      357 non-null    float64\n",
      " 85  85      357 non-null    float64\n",
      "dtypes: float64(86)\n",
      "memory usage: 240.0 KB\n"
     ]
    }
   ],
   "source": [
    "X_test_scaled.info()"
   ]
  },
  {
   "cell_type": "markdown",
   "metadata": {
    "id": "HEqyRqt6mtuo"
   },
   "source": [
    "## <font color='green'>Machine Learning Regression Models\n",
    "#### We will now start to use our train and test datasets to work on different Regression Models below, before that we import some of the important libraries required for the Regression Models"
   ]
  },
  {
   "cell_type": "markdown",
   "metadata": {
    "id": "EnVrKKb8mtuo"
   },
   "source": [
    "## Bagging"
   ]
  },
  {
   "cell_type": "markdown",
   "metadata": {
    "id": "t88YlKiZmtuo"
   },
   "source": [
    "### 1) K Neighbors Regressor"
   ]
  },
  {
   "cell_type": "code",
   "execution_count": 43,
   "metadata": {
    "colab": {
     "base_uri": "https://localhost:8080/"
    },
    "id": "Vt06uCvNmtuo",
    "outputId": "fac546ef-e0b2-4792-d800-cdffe568c694"
   },
   "outputs": [
    {
     "data": {
      "text/plain": [
       "KNeighborsRegressor(algorithm='auto', leaf_size=30, metric='minkowski',\n",
       "                    metric_params=None, n_jobs=None, n_neighbors=6, p=2,\n",
       "                    weights='uniform')"
      ]
     },
     "execution_count": 43,
     "metadata": {
      "tags": []
     },
     "output_type": "execute_result"
    }
   ],
   "source": [
    "from sklearn.neighbors import KNeighborsRegressor\n",
    "\n",
    "model_KNN = KNeighborsRegressor(n_neighbors=6)\n",
    "model_KNN.fit(X_train_scaled, train_Y)"
   ]
  },
  {
   "cell_type": "code",
   "execution_count": 44,
   "metadata": {
    "id": "eUrKP5dwmtuo"
   },
   "outputs": [],
   "source": [
    "from sklearn.ensemble import BaggingRegressor\n",
    "\n",
    "bag_KNN = BaggingRegressor(model_KNN, n_estimators=5000,max_samples=100,bootstrap=True,n_jobs=-1,random_state=0,oob_score=True)\n",
    "\n",
    "bag_KNN.fit(X_train_scaled, train_Y)\n",
    "y_pred = bag_KNN.predict(X_test_scaled)"
   ]
  },
  {
   "cell_type": "code",
   "execution_count": 45,
   "metadata": {
    "colab": {
     "base_uri": "https://localhost:8080/"
    },
    "id": "lKRrBJQWmtuo",
    "outputId": "76e5b44b-8330-44fb-b156-9f6dbf248527"
   },
   "outputs": [
    {
     "name": "stdout",
     "output_type": "stream",
     "text": [
      "The train score is: 0.7235 \n",
      "The test score is: 0.6697 \n"
     ]
    }
   ],
   "source": [
    "# Reporting the training and testing scores for the bagging classifier\n",
    "\n",
    "print(\"The train score is: {:.4f} \".format(bag_KNN.score(X_train_scaled, train_Y)))\n",
    "print(\"The test score is: {:.4f} \".format(bag_KNN.score(X_test_scaled, test_Y)))\n",
    "train_score = bag_KNN.score(X_train_scaled, train_Y)\n",
    "test_score = bag_KNN.score(X_test_scaled, test_Y)\n",
    "difference = test_score - train_score"
   ]
  },
  {
   "cell_type": "code",
   "execution_count": 46,
   "metadata": {
    "colab": {
     "base_uri": "https://localhost:8080/",
     "height": 143
    },
    "id": "iQ1waL7Smtuo",
    "outputId": "6c69ad8b-b327-432b-8081-81e2841f7055"
   },
   "outputs": [
    {
     "data": {
      "text/html": [
       "<div>\n",
       "<style scoped>\n",
       "    .dataframe tbody tr th:only-of-type {\n",
       "        vertical-align: middle;\n",
       "    }\n",
       "\n",
       "    .dataframe tbody tr th {\n",
       "        vertical-align: top;\n",
       "    }\n",
       "\n",
       "    .dataframe thead th {\n",
       "        text-align: right;\n",
       "    }\n",
       "</style>\n",
       "<table border=\"1\" class=\"dataframe\">\n",
       "  <thead>\n",
       "    <tr style=\"text-align: right;\">\n",
       "      <th></th>\n",
       "      <th>0</th>\n",
       "    </tr>\n",
       "  </thead>\n",
       "  <tbody>\n",
       "    <tr>\n",
       "      <th>0</th>\n",
       "      <td>0.723489</td>\n",
       "    </tr>\n",
       "    <tr>\n",
       "      <th>1</th>\n",
       "      <td>0.669690</td>\n",
       "    </tr>\n",
       "    <tr>\n",
       "      <th>2</th>\n",
       "      <td>-0.053798</td>\n",
       "    </tr>\n",
       "  </tbody>\n",
       "</table>\n",
       "</div>"
      ],
      "text/plain": [
       "          0\n",
       "0  0.723489\n",
       "1  0.669690\n",
       "2 -0.053798"
      ]
     },
     "execution_count": 46,
     "metadata": {
      "tags": []
     },
     "output_type": "execute_result"
    }
   ],
   "source": [
    "# Capturing the Parameters in a Data Frame:\n",
    "bag_KNNR_list = [train_score, test_score, difference]\n",
    "KNNR_bagging = pd.DataFrame(bag_KNNR_list)\n",
    "KNNR_bagging"
   ]
  },
  {
   "cell_type": "markdown",
   "metadata": {
    "id": "Kx2AhTlJmtuo"
   },
   "source": [
    "### 2) Decision Tree Regressor"
   ]
  },
  {
   "cell_type": "code",
   "execution_count": 47,
   "metadata": {
    "id": "wCk4IK6zmtuo"
   },
   "outputs": [],
   "source": [
    "from sklearn.tree import DecisionTreeRegressor\n",
    "\n",
    "model_DT = DecisionTreeRegressor(random_state=0)\n",
    "bag_DT = BaggingRegressor(model_DT,n_estimators=500,max_samples=100,bootstrap=True,n_jobs=-1,random_state=0,oob_score=True)"
   ]
  },
  {
   "cell_type": "code",
   "execution_count": 48,
   "metadata": {
    "id": "DcwhiVcGmtuo"
   },
   "outputs": [],
   "source": [
    "bag_DT.fit(X_train_scaled, train_Y)\n",
    "y_pred = bag_DT.predict(X_test_scaled)"
   ]
  },
  {
   "cell_type": "code",
   "execution_count": 49,
   "metadata": {
    "colab": {
     "base_uri": "https://localhost:8080/"
    },
    "id": "b2_lMt96mtuo",
    "outputId": "d7fa8815-4c6c-40b9-b685-5d010105e0a2"
   },
   "outputs": [
    {
     "name": "stdout",
     "output_type": "stream",
     "text": [
      "OOB score is 0.8657\n"
     ]
    }
   ],
   "source": [
    "print(\"OOB score is {:.4f}\".format(bag_DT.oob_score_))"
   ]
  },
  {
   "cell_type": "code",
   "execution_count": 50,
   "metadata": {
    "colab": {
     "base_uri": "https://localhost:8080/"
    },
    "id": "5bbE57FSmtuq",
    "outputId": "14b3f80e-9a80-4500-f7de-0398d4d56f86"
   },
   "outputs": [
    {
     "name": "stdout",
     "output_type": "stream",
     "text": [
      "The train score is: 0.8884 \n",
      "The test score is: 0.8111 \n"
     ]
    }
   ],
   "source": [
    "# Reporting the training and testing scores for the bagging classifier\n",
    "\n",
    "print(\"The train score is: {:.4f} \".format(bag_DT.score(X_train_scaled, train_Y)))\n",
    "print(\"The test score is: {:.4f} \".format(bag_DT.score(X_test_scaled, test_Y)))\n",
    "train_score = bag_DT.score(X_train_scaled, train_Y)\n",
    "test_score = bag_DT.score(X_test_scaled, test_Y)\n",
    "difference = test_score - train_score"
   ]
  },
  {
   "cell_type": "code",
   "execution_count": 51,
   "metadata": {
    "colab": {
     "base_uri": "https://localhost:8080/",
     "height": 143
    },
    "id": "uhsc9pv3mtuq",
    "outputId": "79b80197-9f77-4785-9092-d53ffb5a24bc"
   },
   "outputs": [
    {
     "data": {
      "text/html": [
       "<div>\n",
       "<style scoped>\n",
       "    .dataframe tbody tr th:only-of-type {\n",
       "        vertical-align: middle;\n",
       "    }\n",
       "\n",
       "    .dataframe tbody tr th {\n",
       "        vertical-align: top;\n",
       "    }\n",
       "\n",
       "    .dataframe thead th {\n",
       "        text-align: right;\n",
       "    }\n",
       "</style>\n",
       "<table border=\"1\" class=\"dataframe\">\n",
       "  <thead>\n",
       "    <tr style=\"text-align: right;\">\n",
       "      <th></th>\n",
       "      <th>0</th>\n",
       "    </tr>\n",
       "  </thead>\n",
       "  <tbody>\n",
       "    <tr>\n",
       "      <th>0</th>\n",
       "      <td>0.888392</td>\n",
       "    </tr>\n",
       "    <tr>\n",
       "      <th>1</th>\n",
       "      <td>0.811130</td>\n",
       "    </tr>\n",
       "    <tr>\n",
       "      <th>2</th>\n",
       "      <td>-0.077261</td>\n",
       "    </tr>\n",
       "  </tbody>\n",
       "</table>\n",
       "</div>"
      ],
      "text/plain": [
       "          0\n",
       "0  0.888392\n",
       "1  0.811130\n",
       "2 -0.077261"
      ]
     },
     "execution_count": 51,
     "metadata": {
      "tags": []
     },
     "output_type": "execute_result"
    }
   ],
   "source": [
    "# Capturing the Parameters in a Data Frame:\n",
    "DTree_Bagging_list = [train_score, test_score, difference]\n",
    "DTree_Bagging = pd.DataFrame(DTree_Bagging_list)\n",
    "DTree_Bagging"
   ]
  },
  {
   "cell_type": "markdown",
   "metadata": {
    "id": "LhEMngxNmtur"
   },
   "source": [
    "## Pasting"
   ]
  },
  {
   "cell_type": "markdown",
   "metadata": {
    "id": "KjevuHr6mtur"
   },
   "source": [
    "### 1) K Neighbors Regressor"
   ]
  },
  {
   "cell_type": "code",
   "execution_count": 52,
   "metadata": {
    "colab": {
     "base_uri": "https://localhost:8080/"
    },
    "id": "Qs-jWYH4mtur",
    "outputId": "d37f2eb3-9b6a-4ace-d34c-bf878442e78e"
   },
   "outputs": [
    {
     "data": {
      "text/plain": [
       "KNeighborsRegressor(algorithm='auto', leaf_size=30, metric='minkowski',\n",
       "                    metric_params=None, n_jobs=None, n_neighbors=6, p=2,\n",
       "                    weights='uniform')"
      ]
     },
     "execution_count": 52,
     "metadata": {
      "tags": []
     },
     "output_type": "execute_result"
    }
   ],
   "source": [
    "from sklearn.neighbors import KNeighborsRegressor\n",
    "\n",
    "model_KNN = KNeighborsRegressor(n_neighbors=6)\n",
    "model_KNN.fit(X_train_scaled, train_Y)"
   ]
  },
  {
   "cell_type": "code",
   "execution_count": 53,
   "metadata": {
    "id": "LMozhUDKmtur"
   },
   "outputs": [],
   "source": [
    "from sklearn.ensemble import BaggingRegressor\n",
    "\n",
    "paste_KNN = BaggingRegressor(model_KNN, n_estimators=5000,max_samples=100,bootstrap=False,n_jobs=-1,random_state=0)\n",
    "\n",
    "paste_KNN.fit(X_train_scaled, train_Y)\n",
    "y_pred = paste_KNN.predict(X_test_scaled)"
   ]
  },
  {
   "cell_type": "code",
   "execution_count": 54,
   "metadata": {
    "colab": {
     "base_uri": "https://localhost:8080/"
    },
    "id": "6tnpagAKmtur",
    "outputId": "d1a57306-658b-48a3-a976-27e8bd029ea8"
   },
   "outputs": [
    {
     "name": "stdout",
     "output_type": "stream",
     "text": [
      "The train score is: 0.7241 \n",
      "The test score is: 0.6709 \n"
     ]
    }
   ],
   "source": [
    "# Reporting the training and testing scores for the bagging classifier\n",
    "\n",
    "print(\"The train score is: {:.4f} \".format(paste_KNN.score(X_train_scaled, train_Y)))\n",
    "print(\"The test score is: {:.4f} \".format(paste_KNN.score(X_test_scaled, test_Y)))\n",
    "train_score = paste_KNN.score(X_train_scaled, train_Y)\n",
    "test_score = paste_KNN.score(X_test_scaled, test_Y)\n",
    "difference = test_score - train_score"
   ]
  },
  {
   "cell_type": "code",
   "execution_count": 55,
   "metadata": {
    "colab": {
     "base_uri": "https://localhost:8080/",
     "height": 0
    },
    "id": "55BlfDcPmtur",
    "outputId": "f45c924a-1fdc-4a50-be3f-8c9d023daab8"
   },
   "outputs": [
    {
     "data": {
      "text/html": [
       "<div>\n",
       "<style scoped>\n",
       "    .dataframe tbody tr th:only-of-type {\n",
       "        vertical-align: middle;\n",
       "    }\n",
       "\n",
       "    .dataframe tbody tr th {\n",
       "        vertical-align: top;\n",
       "    }\n",
       "\n",
       "    .dataframe thead th {\n",
       "        text-align: right;\n",
       "    }\n",
       "</style>\n",
       "<table border=\"1\" class=\"dataframe\">\n",
       "  <thead>\n",
       "    <tr style=\"text-align: right;\">\n",
       "      <th></th>\n",
       "      <th>0</th>\n",
       "    </tr>\n",
       "  </thead>\n",
       "  <tbody>\n",
       "    <tr>\n",
       "      <th>0</th>\n",
       "      <td>0.724064</td>\n",
       "    </tr>\n",
       "    <tr>\n",
       "      <th>1</th>\n",
       "      <td>0.670941</td>\n",
       "    </tr>\n",
       "    <tr>\n",
       "      <th>2</th>\n",
       "      <td>-0.053123</td>\n",
       "    </tr>\n",
       "  </tbody>\n",
       "</table>\n",
       "</div>"
      ],
      "text/plain": [
       "          0\n",
       "0  0.724064\n",
       "1  0.670941\n",
       "2 -0.053123"
      ]
     },
     "execution_count": 55,
     "metadata": {
      "tags": []
     },
     "output_type": "execute_result"
    }
   ],
   "source": [
    "# Capturing the Parameters in a Data Frame:\n",
    "KNNR_Paste_list = [train_score, test_score, difference]\n",
    "KNNR_Paste = pd.DataFrame(KNNR_Paste_list)\n",
    "KNNR_Paste"
   ]
  },
  {
   "cell_type": "markdown",
   "metadata": {
    "id": "giw9bqTWmtur"
   },
   "source": [
    "### 2) Decision Tree Regressor"
   ]
  },
  {
   "cell_type": "code",
   "execution_count": 56,
   "metadata": {
    "id": "6_JAoIz5mtur"
   },
   "outputs": [],
   "source": [
    "from sklearn.tree import DecisionTreeRegressor\n",
    "\n",
    "model_DT = DecisionTreeRegressor(random_state=0)\n",
    "paste_DT = BaggingRegressor(model_DT, n_estimators=500,max_samples=100,bootstrap=False,n_jobs=-1,random_state=0)"
   ]
  },
  {
   "cell_type": "code",
   "execution_count": 57,
   "metadata": {
    "id": "SObTpDQLmtur"
   },
   "outputs": [],
   "source": [
    "paste_DT.fit(X_train_scaled, train_Y)\n",
    "y_pred = paste_DT.predict(X_test_scaled)"
   ]
  },
  {
   "cell_type": "code",
   "execution_count": 58,
   "metadata": {
    "colab": {
     "base_uri": "https://localhost:8080/"
    },
    "id": "UZUSAd3Kmtur",
    "outputId": "140e0aa6-ee85-4782-caed-f64c8e872f91"
   },
   "outputs": [
    {
     "name": "stdout",
     "output_type": "stream",
     "text": [
      "The train score is: 0.8886 \n",
      "The test score is: 0.8159 \n"
     ]
    }
   ],
   "source": [
    "# Reporting the training and testing scores for the bagging classifier\n",
    "\n",
    "print(\"The train score is: {:.4f} \".format(paste_DT.score(X_train_scaled, train_Y)))\n",
    "print(\"The test score is: {:.4f} \".format(paste_DT.score(X_test_scaled, test_Y)))\n",
    "train_score = paste_DT.score(X_train_scaled, train_Y)\n",
    "test_score = paste_DT.score(X_test_scaled, test_Y)\n",
    "difference = test_score - train_score"
   ]
  },
  {
   "cell_type": "code",
   "execution_count": 59,
   "metadata": {
    "colab": {
     "base_uri": "https://localhost:8080/",
     "height": 0
    },
    "id": "94IOxnaCmtur",
    "outputId": "3b5d737b-fffb-48ff-fa58-616301a25ea6"
   },
   "outputs": [
    {
     "data": {
      "text/html": [
       "<div>\n",
       "<style scoped>\n",
       "    .dataframe tbody tr th:only-of-type {\n",
       "        vertical-align: middle;\n",
       "    }\n",
       "\n",
       "    .dataframe tbody tr th {\n",
       "        vertical-align: top;\n",
       "    }\n",
       "\n",
       "    .dataframe thead th {\n",
       "        text-align: right;\n",
       "    }\n",
       "</style>\n",
       "<table border=\"1\" class=\"dataframe\">\n",
       "  <thead>\n",
       "    <tr style=\"text-align: right;\">\n",
       "      <th></th>\n",
       "      <th>0</th>\n",
       "    </tr>\n",
       "  </thead>\n",
       "  <tbody>\n",
       "    <tr>\n",
       "      <th>0</th>\n",
       "      <td>0.888604</td>\n",
       "    </tr>\n",
       "    <tr>\n",
       "      <th>1</th>\n",
       "      <td>0.815917</td>\n",
       "    </tr>\n",
       "    <tr>\n",
       "      <th>2</th>\n",
       "      <td>-0.072687</td>\n",
       "    </tr>\n",
       "  </tbody>\n",
       "</table>\n",
       "</div>"
      ],
      "text/plain": [
       "          0\n",
       "0  0.888604\n",
       "1  0.815917\n",
       "2 -0.072687"
      ]
     },
     "execution_count": 59,
     "metadata": {
      "tags": []
     },
     "output_type": "execute_result"
    }
   ],
   "source": [
    "# Capturing the Parameters in a Data Frame:\n",
    "DTree_Paste_list = [train_score, test_score, difference]\n",
    "DTree_Paste = pd.DataFrame(DTree_Paste_list)\n",
    "DTree_Paste"
   ]
  },
  {
   "cell_type": "markdown",
   "metadata": {
    "id": "LBTLV7Cjmtur"
   },
   "source": [
    "## Adaboost"
   ]
  },
  {
   "cell_type": "markdown",
   "metadata": {
    "id": "M9o8-pT8mtur"
   },
   "source": [
    "### 1) K Neighbors Regressor"
   ]
  },
  {
   "cell_type": "code",
   "execution_count": 60,
   "metadata": {
    "colab": {
     "base_uri": "https://localhost:8080/"
    },
    "id": "XY47hDbymtur",
    "outputId": "697bd8fe-84ef-4d2f-fd04-cfe44338fc2b"
   },
   "outputs": [
    {
     "data": {
      "text/plain": [
       "AdaBoostRegressor(base_estimator=KNeighborsRegressor(algorithm='auto',\n",
       "                                                     leaf_size=30,\n",
       "                                                     metric='minkowski',\n",
       "                                                     metric_params=None,\n",
       "                                                     n_jobs=None, n_neighbors=6,\n",
       "                                                     p=2, weights='uniform'),\n",
       "                  learning_rate=0.5, loss='linear', n_estimators=500,\n",
       "                  random_state=0)"
      ]
     },
     "execution_count": 60,
     "metadata": {
      "tags": []
     },
     "output_type": "execute_result"
    }
   ],
   "source": [
    "from sklearn.ensemble import AdaBoostRegressor\n",
    "\n",
    "ada_KNN = AdaBoostRegressor(model_KNN, n_estimators=500, learning_rate=0.5, random_state=0)\n",
    "ada_KNN.fit(X_train_scaled, train_Y)"
   ]
  },
  {
   "cell_type": "code",
   "execution_count": 61,
   "metadata": {
    "colab": {
     "base_uri": "https://localhost:8080/"
    },
    "id": "y0AhdQdImtur",
    "outputId": "13215bec-dc22-4a8b-e0a5-4288b806d146"
   },
   "outputs": [
    {
     "name": "stdout",
     "output_type": "stream",
     "text": [
      "The train score is: 0.9265 \n",
      "The test score is: 0.6095 \n"
     ]
    }
   ],
   "source": [
    "# Reporting the training and testing scores for the bagging classifier\n",
    "\n",
    "print(\"The train score is: {:.4f} \".format(ada_KNN.score(X_train_scaled, train_Y)))\n",
    "print(\"The test score is: {:.4f} \".format(ada_KNN.score(X_test_scaled, test_Y)))\n",
    "train_score = ada_KNN.score(X_train_scaled, train_Y)\n",
    "test_score = ada_KNN.score(X_test_scaled, test_Y)\n",
    "difference = test_score - train_score"
   ]
  },
  {
   "cell_type": "code",
   "execution_count": 62,
   "metadata": {
    "colab": {
     "base_uri": "https://localhost:8080/",
     "height": 0
    },
    "id": "vlua8rjHmtur",
    "outputId": "7d332e0c-3653-46a7-a2be-e1bc2a28ed48"
   },
   "outputs": [
    {
     "data": {
      "text/html": [
       "<div>\n",
       "<style scoped>\n",
       "    .dataframe tbody tr th:only-of-type {\n",
       "        vertical-align: middle;\n",
       "    }\n",
       "\n",
       "    .dataframe tbody tr th {\n",
       "        vertical-align: top;\n",
       "    }\n",
       "\n",
       "    .dataframe thead th {\n",
       "        text-align: right;\n",
       "    }\n",
       "</style>\n",
       "<table border=\"1\" class=\"dataframe\">\n",
       "  <thead>\n",
       "    <tr style=\"text-align: right;\">\n",
       "      <th></th>\n",
       "      <th>0</th>\n",
       "    </tr>\n",
       "  </thead>\n",
       "  <tbody>\n",
       "    <tr>\n",
       "      <th>0</th>\n",
       "      <td>0.926486</td>\n",
       "    </tr>\n",
       "    <tr>\n",
       "      <th>1</th>\n",
       "      <td>0.609464</td>\n",
       "    </tr>\n",
       "    <tr>\n",
       "      <th>2</th>\n",
       "      <td>-0.317022</td>\n",
       "    </tr>\n",
       "  </tbody>\n",
       "</table>\n",
       "</div>"
      ],
      "text/plain": [
       "          0\n",
       "0  0.926486\n",
       "1  0.609464\n",
       "2 -0.317022"
      ]
     },
     "execution_count": 62,
     "metadata": {
      "tags": []
     },
     "output_type": "execute_result"
    }
   ],
   "source": [
    "# Capturing the Parameters in a Data Frame:\n",
    "KNNR_Ada_list = [train_score, test_score, difference]\n",
    "KNNR_Ada = pd.DataFrame(KNNR_Ada_list)\n",
    "KNNR_Ada"
   ]
  },
  {
   "cell_type": "markdown",
   "metadata": {
    "id": "QIwWM3Lxmtur"
   },
   "source": [
    "### 2) Decision Tree Regressor"
   ]
  },
  {
   "cell_type": "code",
   "execution_count": 63,
   "metadata": {
    "colab": {
     "base_uri": "https://localhost:8080/"
    },
    "id": "lXZmaiIsmtur",
    "outputId": "fccfe542-e400-4385-c151-79758ed5c4f8"
   },
   "outputs": [
    {
     "data": {
      "text/plain": [
       "AdaBoostRegressor(base_estimator=DecisionTreeRegressor(ccp_alpha=0.0,\n",
       "                                                       criterion='mse',\n",
       "                                                       max_depth=1,\n",
       "                                                       max_features=None,\n",
       "                                                       max_leaf_nodes=None,\n",
       "                                                       min_impurity_decrease=0.0,\n",
       "                                                       min_impurity_split=None,\n",
       "                                                       min_samples_leaf=1,\n",
       "                                                       min_samples_split=2,\n",
       "                                                       min_weight_fraction_leaf=0.0,\n",
       "                                                       presort='deprecated',\n",
       "                                                       random_state=None,\n",
       "                                                       splitter='best'),\n",
       "                  learning_rate=0.5, loss='linear', n_estimators=500,\n",
       "                  random_state=0)"
      ]
     },
     "execution_count": 63,
     "metadata": {
      "tags": []
     },
     "output_type": "execute_result"
    }
   ],
   "source": [
    "ada_DT = AdaBoostRegressor(DecisionTreeRegressor(max_depth=1), n_estimators=500, learning_rate=0.5, random_state=0)\n",
    "ada_DT.fit(X_train_scaled, train_Y)"
   ]
  },
  {
   "cell_type": "code",
   "execution_count": 64,
   "metadata": {
    "colab": {
     "base_uri": "https://localhost:8080/"
    },
    "id": "rPClnu9_mtus",
    "outputId": "7089f32d-4686-45da-ead3-406623700f4e"
   },
   "outputs": [
    {
     "name": "stdout",
     "output_type": "stream",
     "text": [
      "The train score is: 0.5377 \n",
      "The test score is: 0.3378 \n"
     ]
    }
   ],
   "source": [
    "# Reporting the training and testing scores for the bagging classifier\n",
    "\n",
    "print(\"The train score is: {:.4f} \".format(ada_DT.score(X_train_scaled, train_Y)))\n",
    "print(\"The test score is: {:.4f} \".format(ada_DT.score(X_test_scaled, test_Y)))\n",
    "train_score = ada_DT.score(X_train_scaled, train_Y)\n",
    "test_score = ada_DT.score(X_test_scaled, test_Y)\n",
    "difference = test_score - train_score"
   ]
  },
  {
   "cell_type": "code",
   "execution_count": 65,
   "metadata": {
    "colab": {
     "base_uri": "https://localhost:8080/",
     "height": 0
    },
    "id": "KnOaH01wmtus",
    "outputId": "9125828a-bafb-4e2c-93dc-80f8004fe9de"
   },
   "outputs": [
    {
     "data": {
      "text/html": [
       "<div>\n",
       "<style scoped>\n",
       "    .dataframe tbody tr th:only-of-type {\n",
       "        vertical-align: middle;\n",
       "    }\n",
       "\n",
       "    .dataframe tbody tr th {\n",
       "        vertical-align: top;\n",
       "    }\n",
       "\n",
       "    .dataframe thead th {\n",
       "        text-align: right;\n",
       "    }\n",
       "</style>\n",
       "<table border=\"1\" class=\"dataframe\">\n",
       "  <thead>\n",
       "    <tr style=\"text-align: right;\">\n",
       "      <th></th>\n",
       "      <th>0</th>\n",
       "    </tr>\n",
       "  </thead>\n",
       "  <tbody>\n",
       "    <tr>\n",
       "      <th>0</th>\n",
       "      <td>0.537749</td>\n",
       "    </tr>\n",
       "    <tr>\n",
       "      <th>1</th>\n",
       "      <td>0.337788</td>\n",
       "    </tr>\n",
       "    <tr>\n",
       "      <th>2</th>\n",
       "      <td>-0.199961</td>\n",
       "    </tr>\n",
       "  </tbody>\n",
       "</table>\n",
       "</div>"
      ],
      "text/plain": [
       "          0\n",
       "0  0.537749\n",
       "1  0.337788\n",
       "2 -0.199961"
      ]
     },
     "execution_count": 65,
     "metadata": {
      "tags": []
     },
     "output_type": "execute_result"
    }
   ],
   "source": [
    "# Capturing the Parameters in a Data Frame:\n",
    "DTree_Ada_list = [train_score, test_score, difference]\n",
    "DTree_Ada = pd.DataFrame(DTree_Ada_list)\n",
    "DTree_Ada"
   ]
  },
  {
   "cell_type": "markdown",
   "metadata": {
    "id": "3h5PII3Kmtus"
   },
   "source": [
    "## Gradient Boosting"
   ]
  },
  {
   "cell_type": "code",
   "execution_count": 66,
   "metadata": {
    "id": "0A3ToNU6mtus"
   },
   "outputs": [],
   "source": [
    "from sklearn.model_selection import GridSearchCV\n",
    "from sklearn.ensemble import GradientBoostingRegressor\n",
    "\n",
    "param_grid = {'max_depth':[1,2,3,4,5],\n",
    "              'learning_rate':[0.01,0.1,0.5,0.75,1],\n",
    "              'random_state':[0]}\n",
    "grad_boost = GridSearchCV(GradientBoostingRegressor(),param_grid,n_jobs=-1,cv=3,return_train_score=True)"
   ]
  },
  {
   "cell_type": "code",
   "execution_count": 67,
   "metadata": {
    "colab": {
     "base_uri": "https://localhost:8080/"
    },
    "id": "0djNzTBPmtus",
    "outputId": "65b0ecc6-fbc9-455e-ccae-6a6c1b0e46d4"
   },
   "outputs": [
    {
     "data": {
      "text/plain": [
       "GridSearchCV(cv=3, error_score=nan,\n",
       "             estimator=GradientBoostingRegressor(alpha=0.9, ccp_alpha=0.0,\n",
       "                                                 criterion='friedman_mse',\n",
       "                                                 init=None, learning_rate=0.1,\n",
       "                                                 loss='ls', max_depth=3,\n",
       "                                                 max_features=None,\n",
       "                                                 max_leaf_nodes=None,\n",
       "                                                 min_impurity_decrease=0.0,\n",
       "                                                 min_impurity_split=None,\n",
       "                                                 min_samples_leaf=1,\n",
       "                                                 min_samples_split=2,\n",
       "                                                 min_weight_fraction_leaf=0.0,\n",
       "                                                 n_estimators=100,\n",
       "                                                 n_iter_no_change=None,\n",
       "                                                 presort='deprecated',\n",
       "                                                 random_state=None,\n",
       "                                                 subsample=1.0, tol=0.0001,\n",
       "                                                 validation_fraction=0.1,\n",
       "                                                 verbose=0, warm_start=False),\n",
       "             iid='deprecated', n_jobs=-1,\n",
       "             param_grid={'learning_rate': [0.01, 0.1, 0.5, 0.75, 1],\n",
       "                         'max_depth': [1, 2, 3, 4, 5], 'random_state': [0]},\n",
       "             pre_dispatch='2*n_jobs', refit=True, return_train_score=True,\n",
       "             scoring=None, verbose=0)"
      ]
     },
     "execution_count": 67,
     "metadata": {
      "tags": []
     },
     "output_type": "execute_result"
    }
   ],
   "source": [
    "grad_boost.fit(X_train_scaled, train_Y)"
   ]
  },
  {
   "cell_type": "code",
   "execution_count": 68,
   "metadata": {
    "colab": {
     "base_uri": "https://localhost:8080/"
    },
    "id": "0cQfdWNQmtus",
    "outputId": "32851023-0148-41ff-abd0-0069295045c1"
   },
   "outputs": [
    {
     "name": "stdout",
     "output_type": "stream",
     "text": [
      "Best Parameters: {'learning_rate': 0.1, 'max_depth': 4, 'random_state': 0} \n"
     ]
    }
   ],
   "source": [
    "print(\"Best Parameters: {} \".format(grad_boost.best_params_))"
   ]
  },
  {
   "cell_type": "code",
   "execution_count": 69,
   "metadata": {
    "colab": {
     "base_uri": "https://localhost:8080/"
    },
    "id": "xWiZFDGImtuu",
    "outputId": "1fbf2b23-6b04-4c57-9b2a-4f5bf5631df9"
   },
   "outputs": [
    {
     "data": {
      "text/plain": [
       "GradientBoostingRegressor(alpha=0.9, ccp_alpha=0.0, criterion='friedman_mse',\n",
       "                          init=None, learning_rate=0.1, loss='ls', max_depth=4,\n",
       "                          max_features=None, max_leaf_nodes=None,\n",
       "                          min_impurity_decrease=0.0, min_impurity_split=None,\n",
       "                          min_samples_leaf=1, min_samples_split=2,\n",
       "                          min_weight_fraction_leaf=0.0, n_estimators=5,\n",
       "                          n_iter_no_change=None, presort='deprecated',\n",
       "                          random_state=0, subsample=1.0, tol=0.0001,\n",
       "                          validation_fraction=0.1, verbose=0, warm_start=False)"
      ]
     },
     "execution_count": 69,
     "metadata": {
      "tags": []
     },
     "output_type": "execute_result"
    }
   ],
   "source": [
    "grad_boost = GradientBoostingRegressor(max_depth=4, n_estimators=5, learning_rate=0.1, random_state=0)\n",
    "grad_boost.fit(X_train_scaled, train_Y)"
   ]
  },
  {
   "cell_type": "code",
   "execution_count": 70,
   "metadata": {
    "colab": {
     "base_uri": "https://localhost:8080/"
    },
    "id": "sf2RcKW0mtuu",
    "outputId": "699c015f-be3d-42ab-da72-5f67393230bc"
   },
   "outputs": [
    {
     "name": "stdout",
     "output_type": "stream",
     "text": [
      "The train score is: 0.5839 \n",
      "The test score is: 0.5239 \n"
     ]
    }
   ],
   "source": [
    "# Reporting the training and testing scores for the bagging classifier\n",
    "\n",
    "print(\"The train score is: {:.4f} \".format(grad_boost.score(X_train_scaled, train_Y)))\n",
    "print(\"The test score is: {:.4f} \".format(grad_boost.score(X_test_scaled, test_Y)))\n",
    "train_score = grad_boost.score(X_train_scaled, train_Y)\n",
    "test_score = grad_boost.score(X_test_scaled, test_Y)\n",
    "difference = test_score - train_score"
   ]
  },
  {
   "cell_type": "code",
   "execution_count": 71,
   "metadata": {
    "colab": {
     "base_uri": "https://localhost:8080/",
     "height": 143
    },
    "id": "aPUxnAb9mtuu",
    "outputId": "3cd506cd-7cbc-4c56-bb08-dc0db4acb431"
   },
   "outputs": [
    {
     "data": {
      "text/html": [
       "<div>\n",
       "<style scoped>\n",
       "    .dataframe tbody tr th:only-of-type {\n",
       "        vertical-align: middle;\n",
       "    }\n",
       "\n",
       "    .dataframe tbody tr th {\n",
       "        vertical-align: top;\n",
       "    }\n",
       "\n",
       "    .dataframe thead th {\n",
       "        text-align: right;\n",
       "    }\n",
       "</style>\n",
       "<table border=\"1\" class=\"dataframe\">\n",
       "  <thead>\n",
       "    <tr style=\"text-align: right;\">\n",
       "      <th></th>\n",
       "      <th>0</th>\n",
       "    </tr>\n",
       "  </thead>\n",
       "  <tbody>\n",
       "    <tr>\n",
       "      <th>0</th>\n",
       "      <td>0.583895</td>\n",
       "    </tr>\n",
       "    <tr>\n",
       "      <th>1</th>\n",
       "      <td>0.523924</td>\n",
       "    </tr>\n",
       "    <tr>\n",
       "      <th>2</th>\n",
       "      <td>-0.059971</td>\n",
       "    </tr>\n",
       "  </tbody>\n",
       "</table>\n",
       "</div>"
      ],
      "text/plain": [
       "          0\n",
       "0  0.583895\n",
       "1  0.523924\n",
       "2 -0.059971"
      ]
     },
     "execution_count": 71,
     "metadata": {
      "tags": []
     },
     "output_type": "execute_result"
    }
   ],
   "source": [
    "# Capturing the Parameters in a Data Frame:\n",
    "Gradient_Boost_list = [train_score, test_score, difference]\n",
    "Gradient_Boost = pd.DataFrame(Gradient_Boost_list)\n",
    "Gradient_Boost"
   ]
  },
  {
   "cell_type": "markdown",
   "metadata": {
    "id": "Kq8spy0umtuu"
   },
   "source": [
    "## <font color='green'> Conclusion - Ensemble/ Models"
   ]
  },
  {
   "cell_type": "markdown",
   "metadata": {
    "id": "e7AD_6Lwmtuu"
   },
   "source": [
    "### Displaying the combined results of all the Ensemble models"
   ]
  },
  {
   "cell_type": "code",
   "execution_count": 72,
   "metadata": {
    "colab": {
     "base_uri": "https://localhost:8080/",
     "height": 0
    },
    "id": "KOfSAJeEmtuu",
    "outputId": "7fc8fbce-674c-4c0b-8d05-3073e7f7977e"
   },
   "outputs": [
    {
     "data": {
      "text/html": [
       "<div>\n",
       "<style scoped>\n",
       "    .dataframe tbody tr th:only-of-type {\n",
       "        vertical-align: middle;\n",
       "    }\n",
       "\n",
       "    .dataframe tbody tr th {\n",
       "        vertical-align: top;\n",
       "    }\n",
       "\n",
       "    .dataframe thead th {\n",
       "        text-align: right;\n",
       "    }\n",
       "</style>\n",
       "<table border=\"1\" class=\"dataframe\">\n",
       "  <thead>\n",
       "    <tr style=\"text-align: right;\">\n",
       "      <th></th>\n",
       "      <th>Bagging KNNR</th>\n",
       "      <th>Bagging DTree</th>\n",
       "      <th>Paste KNN</th>\n",
       "      <th>Paste DTree</th>\n",
       "      <th>Ada KNN</th>\n",
       "      <th>Ada DTree</th>\n",
       "      <th>Grad Boost</th>\n",
       "    </tr>\n",
       "  </thead>\n",
       "  <tbody>\n",
       "    <tr>\n",
       "      <th>0</th>\n",
       "      <td>0.723489</td>\n",
       "      <td>0.888392</td>\n",
       "      <td>0.724064</td>\n",
       "      <td>0.888604</td>\n",
       "      <td>0.926486</td>\n",
       "      <td>0.537749</td>\n",
       "      <td>0.583895</td>\n",
       "    </tr>\n",
       "    <tr>\n",
       "      <th>1</th>\n",
       "      <td>0.669690</td>\n",
       "      <td>0.811130</td>\n",
       "      <td>0.670941</td>\n",
       "      <td>0.815917</td>\n",
       "      <td>0.609464</td>\n",
       "      <td>0.337788</td>\n",
       "      <td>0.523924</td>\n",
       "    </tr>\n",
       "    <tr>\n",
       "      <th>2</th>\n",
       "      <td>-0.053798</td>\n",
       "      <td>-0.077261</td>\n",
       "      <td>-0.053123</td>\n",
       "      <td>-0.072687</td>\n",
       "      <td>-0.317022</td>\n",
       "      <td>-0.199961</td>\n",
       "      <td>-0.059971</td>\n",
       "    </tr>\n",
       "  </tbody>\n",
       "</table>\n",
       "</div>"
      ],
      "text/plain": [
       "   Bagging KNNR  Bagging DTree  Paste KNN  ...   Ada KNN  Ada DTree  Grad Boost\n",
       "0      0.723489       0.888392   0.724064  ...  0.926486   0.537749    0.583895\n",
       "1      0.669690       0.811130   0.670941  ...  0.609464   0.337788    0.523924\n",
       "2     -0.053798      -0.077261  -0.053123  ... -0.317022  -0.199961   -0.059971\n",
       "\n",
       "[3 rows x 7 columns]"
      ]
     },
     "execution_count": 72,
     "metadata": {
      "tags": []
     },
     "output_type": "execute_result"
    }
   ],
   "source": [
    "#Combining the Captured Datasets into one DF\n",
    "Reg = pd.concat([ KNNR_bagging, DTree_Bagging, KNNR_Paste, DTree_Paste, KNNR_Ada, DTree_Ada, Gradient_Boost], axis = 1)\n",
    "Reg.columns =['Bagging KNNR', 'Bagging DTree', 'Paste KNN', 'Paste DTree', 'Ada KNN', 'Ada DTree', 'Grad Boost'] \n",
    "Reg.rows = ['Train Score', 'Test Score', 'Difference']\n",
    "Reg"
   ]
  },
  {
   "cell_type": "markdown",
   "metadata": {
    "id": "aHnrFPL8mtuv"
   },
   "source": [
    "#### As per the table above we can see that the best Ensemble models best fit for the ToyotaCorola Dataset are the <mark style=\"background-color: lightblue\">Bagging Decision Tree and Paste Decision Tree </mark> with almost near Training = 0.888 and Test Score = 0.811 and Difference of 0.07 Hence SGD Regressor is the best fit for the ToyotaCorola Dataset."
   ]
  },
  {
   "cell_type": "markdown",
   "metadata": {
    "id": "oW48Qz8Vmtuv"
   },
   "source": [
    "## Dimension Reduction using the Principal Component Analaysis (PCA)"
   ]
  },
  {
   "cell_type": "markdown",
   "metadata": {
    "id": "NYxAZmyWmtuv"
   },
   "source": [
    "##### We will reduce the Dimension of the Data frame and later run all the Regression models using the reduced dataset."
   ]
  },
  {
   "cell_type": "code",
   "execution_count": 73,
   "metadata": {
    "id": "-EuXh5DAmtuv"
   },
   "outputs": [],
   "source": [
    "from sklearn.decomposition import PCA\n",
    "\n",
    "pca = PCA(n_components=0.95, random_state = 0)\n",
    "X_train_pca = pca.fit_transform(X_train_scaled)\n",
    "X_test_pca = pca.transform(X_test_scaled)"
   ]
  },
  {
   "cell_type": "code",
   "execution_count": 74,
   "metadata": {
    "colab": {
     "base_uri": "https://localhost:8080/"
    },
    "id": "es3HWO6Gmtuv",
    "outputId": "4ce5b8f6-69a4-444c-ffb9-79b32afbbbb0"
   },
   "outputs": [
    {
     "data": {
      "text/plain": [
       "37"
      ]
     },
     "execution_count": 74,
     "metadata": {
      "tags": []
     },
     "output_type": "execute_result"
    }
   ],
   "source": [
    "pca.n_components_"
   ]
  },
  {
   "cell_type": "markdown",
   "metadata": {
    "id": "kkZyxmD-mtuv"
   },
   "source": [
    "##### Here we can see the original dataset had 86 values and PCA has reduced the dimension to 37."
   ]
  },
  {
   "cell_type": "markdown",
   "metadata": {
    "id": "qwXekD1ymtuv"
   },
   "source": [
    "## Running all the models after PCA"
   ]
  },
  {
   "cell_type": "markdown",
   "metadata": {
    "id": "QiEmlr8emtuv"
   },
   "source": [
    "### 1) K Neighbors Regressor"
   ]
  },
  {
   "cell_type": "code",
   "execution_count": 75,
   "metadata": {
    "id": "6kH5nVpBmtuv"
   },
   "outputs": [],
   "source": [
    "from sklearn.neighbors import KNeighborsRegressor\n",
    "from sklearn.model_selection import GridSearchCV\n",
    "\n",
    "knn_neighbours = { 'n_neighbors':[1,2,3,4,5,6,7,8,9,10]}"
   ]
  },
  {
   "cell_type": "code",
   "execution_count": 76,
   "metadata": {
    "colab": {
     "base_uri": "https://localhost:8080/"
    },
    "id": "5pO-j0jcmtuv",
    "outputId": "f0467067-33f8-4693-d44c-192f5a9adff1"
   },
   "outputs": [
    {
     "data": {
      "text/plain": [
       "GridSearchCV(cv=10, error_score=nan,\n",
       "             estimator=KNeighborsRegressor(algorithm='auto', leaf_size=30,\n",
       "                                           metric='minkowski',\n",
       "                                           metric_params=None, n_jobs=None,\n",
       "                                           n_neighbors=5, p=2,\n",
       "                                           weights='uniform'),\n",
       "             iid='deprecated', n_jobs=None,\n",
       "             param_grid={'n_neighbors': [1, 2, 3, 4, 5, 6, 7, 8, 9, 10]},\n",
       "             pre_dispatch='2*n_jobs', refit=True, return_train_score=True,\n",
       "             scoring=None, verbose=0)"
      ]
     },
     "execution_count": 76,
     "metadata": {
      "tags": []
     },
     "output_type": "execute_result"
    }
   ],
   "source": [
    "#Performing Cross validation on the data set.\n",
    "Grid_KNN = GridSearchCV(KNeighborsRegressor(),knn_neighbours,cv=10,return_train_score=True)\n",
    "Grid_KNN.fit(X_train_pca, train_Y)"
   ]
  },
  {
   "cell_type": "code",
   "execution_count": 77,
   "metadata": {
    "colab": {
     "base_uri": "https://localhost:8080/"
    },
    "id": "pa6yCbavmtuv",
    "outputId": "d045a24e-1f77-45d4-d7d3-c84ccd36205b"
   },
   "outputs": [
    {
     "name": "stdout",
     "output_type": "stream",
     "text": [
      "Best cross-validation score for the model is: 0.7723\n",
      "Best parameters are:  {'n_neighbors': 6}\n",
      "Best estimator is:  KNeighborsRegressor(algorithm='auto', leaf_size=30, metric='minkowski',\n",
      "                    metric_params=None, n_jobs=None, n_neighbors=6, p=2,\n",
      "                    weights='uniform')\n"
     ]
    }
   ],
   "source": [
    "# Finding out the best parameters for the model\n",
    "\n",
    "print(\"Best cross-validation score for the model is: {:.4f}\".format(Grid_KNN.best_score_))\n",
    "print('Best parameters are: ', Grid_KNN.best_params_)\n",
    "print('Best estimator is: ', Grid_KNN.best_estimator_)\n",
    "\n",
    "best_cvscore = format(Grid_KNN.best_score_)\n",
    "best_param = format(Grid_KNN.best_params_)"
   ]
  },
  {
   "cell_type": "markdown",
   "metadata": {
    "id": "XqFs07iwmtuv"
   },
   "source": [
    "##### Here the best score that we get for Cross validation is 0.7723 with K = 6 "
   ]
  },
  {
   "cell_type": "code",
   "execution_count": 78,
   "metadata": {
    "colab": {
     "base_uri": "https://localhost:8080/"
    },
    "id": "YP-J5MyQmtuv",
    "outputId": "4654db8c-a247-4d13-c606-475cf9d3ef8b"
   },
   "outputs": [
    {
     "name": "stdout",
     "output_type": "stream",
     "text": [
      "The train score is: 0.8414 \n",
      "The test score is: 0.7127 \n",
      "The test score is: {:.4f}  0.12866371338765592\n"
     ]
    }
   ],
   "source": [
    "# Reporting the training and testing scores for the best model\n",
    "\n",
    "print(\"The train score is: {:.4f} \".format(Grid_KNN.score(X_train_pca, train_Y)))\n",
    "print(\"The test score is: {:.4f} \".format(Grid_KNN.score(X_test_pca, test_Y)))\n",
    "train_score = Grid_KNN.score(X_train_pca, train_Y)\n",
    "test_score = Grid_KNN.score(X_test_pca, test_Y)\n",
    "difference = train_score - test_score\n",
    "print(\"The test score is: {:.4f} \", difference)"
   ]
  },
  {
   "cell_type": "markdown",
   "metadata": {
    "id": "ctC8PH7Omtuv"
   },
   "source": [
    "##### The train score is 0.8414 but the test score is 0.7127, the test score is lesser than the train score with a difference of 0.1287"
   ]
  },
  {
   "cell_type": "markdown",
   "metadata": {
    "id": "TwQmU7f2mtuv"
   },
   "source": [
    "### 2) Linear Regression using Normal Equation"
   ]
  },
  {
   "cell_type": "code",
   "execution_count": 79,
   "metadata": {
    "colab": {
     "base_uri": "https://localhost:8080/"
    },
    "id": "dU9PG3iWmtuv",
    "outputId": "23e6cdd1-9715-453f-b097-c64a5a116f66"
   },
   "outputs": [
    {
     "name": "stdout",
     "output_type": "stream",
     "text": [
      "The Best cross validation score is: 0.7818\n",
      "0.8016\n",
      "0.7215\n",
      "The test score is: {:.4f}  0.08003671309678095\n"
     ]
    }
   ],
   "source": [
    "from sklearn.linear_model import LinearRegression\n",
    "from sklearn.model_selection import cross_val_score\n",
    "\n",
    "lreg = LinearRegression()\n",
    "lreg.fit(X_train_pca, train_Y)\n",
    "score = cross_val_score(lreg,X_train_pca, train_Y,cv=10)\n",
    "print(\"The Best cross validation score is: {:.4f}\".format(score.mean()))\n",
    "print(\"{:.4f}\".format(lreg.score(X_train_pca, train_Y)))\n",
    "print(\"{:.4f}\".format(lreg.score(X_test_pca, test_Y)))\n",
    "\n",
    "best_cvscore = format(score.mean())\n",
    "best_param = 'NA'\n",
    "train_score = lreg.score(X_train_pca, train_Y)\n",
    "test_score = lreg.score(X_test_pca, test_Y)\n",
    "difference = train_score - test_score\n",
    "print(\"The test score is: {:.4f} \", difference)"
   ]
  },
  {
   "cell_type": "markdown",
   "metadata": {
    "id": "jl6JpKEYmtuv"
   },
   "source": [
    "##### The train score is 0.8016 but the test score is 0.7215, the test score is lesser than the train score with a difference of 0.0801"
   ]
  },
  {
   "cell_type": "markdown",
   "metadata": {
    "id": "EOfvfV9Bmtuv"
   },
   "source": [
    "### 3) Ridge Regression"
   ]
  },
  {
   "cell_type": "code",
   "execution_count": 80,
   "metadata": {
    "id": "5Hc22GY1mtuv"
   },
   "outputs": [],
   "source": [
    "from sklearn.model_selection import GridSearchCV\n",
    "from  sklearn.linear_model import Ridge\n",
    "\n",
    "param_grid = {'alpha':[0.001,0.01, 0.1, 1, 10, 100,1000]}"
   ]
  },
  {
   "cell_type": "code",
   "execution_count": 81,
   "metadata": {
    "colab": {
     "base_uri": "https://localhost:8080/"
    },
    "id": "OQ1A9yTimtuw",
    "outputId": "b9e9a43a-66e2-4bfd-cf6b-edbe4f1eaf3b"
   },
   "outputs": [
    {
     "data": {
      "text/plain": [
       "GridSearchCV(cv=10, error_score=nan,\n",
       "             estimator=Ridge(alpha=1.0, copy_X=True, fit_intercept=True,\n",
       "                             max_iter=None, normalize=False, random_state=None,\n",
       "                             solver='auto', tol=0.001),\n",
       "             iid='deprecated', n_jobs=None,\n",
       "             param_grid={'alpha': [0.001, 0.01, 0.1, 1, 10, 100, 1000]},\n",
       "             pre_dispatch='2*n_jobs', refit=True, return_train_score=True,\n",
       "             scoring=None, verbose=0)"
      ]
     },
     "execution_count": 81,
     "metadata": {
      "tags": []
     },
     "output_type": "execute_result"
    }
   ],
   "source": [
    "Grid_Ridge = GridSearchCV(Ridge(),param_grid,cv=10,return_train_score=True)\n",
    "Grid_Ridge.fit(X_train_pca,train_Y)"
   ]
  },
  {
   "cell_type": "code",
   "execution_count": 82,
   "metadata": {
    "colab": {
     "base_uri": "https://localhost:8080/"
    },
    "id": "eWxvtSCQmtuw",
    "outputId": "312be282-9295-4c66-c5f9-cbe36f85b923"
   },
   "outputs": [
    {
     "name": "stdout",
     "output_type": "stream",
     "text": [
      "Best Cross-Validation Score: 0.7821\n",
      "Best Paramater: {'alpha': 10}\n"
     ]
    }
   ],
   "source": [
    "# Finding out the best parameters for the model\n",
    "\n",
    "print(\"Best Cross-Validation Score: {:.4f}\".format(Grid_Ridge.best_score_))\n",
    "print('Best Paramater:',Grid_Ridge.best_params_)\n",
    "best_cvscore = Grid_Ridge.best_score_\n",
    "best_param = Grid_Ridge.best_params_\n"
   ]
  },
  {
   "cell_type": "markdown",
   "metadata": {
    "id": "eeEKH7Nmmtuw"
   },
   "source": [
    "##### Here we can see that with alpha = 10 the Cross Validation score is 0.7821"
   ]
  },
  {
   "cell_type": "code",
   "execution_count": 83,
   "metadata": {
    "colab": {
     "base_uri": "https://localhost:8080/"
    },
    "id": "xdtezsJcmtuw",
    "outputId": "894ec7db-9da7-403c-afb3-716588854a04"
   },
   "outputs": [
    {
     "name": "stdout",
     "output_type": "stream",
     "text": [
      "Best Training score: 0.8001\n",
      "Best Testing score: 0.7304\n",
      "The test score is: {:.4f}  0.06961336252009587\n"
     ]
    }
   ],
   "source": [
    "# Reporting the training and testing scores for the best model\n",
    "\n",
    "print(\"Best Training score: {:.4f}\".format(Grid_Ridge.score(X_train_pca,train_Y)))\n",
    "print(\"Best Testing score: {:.4f}\".format(Grid_Ridge.score(X_test_pca, test_Y)))\n",
    "train_score = Grid_Ridge.score(X_train_pca,train_Y)\n",
    "test_score = Grid_Ridge.score(X_test_pca, test_Y)\n",
    "difference = train_score - test_score\n",
    "print(\"The test score is: {:.4f} \", difference)"
   ]
  },
  {
   "cell_type": "markdown",
   "metadata": {
    "id": "71hrjmOImtuw"
   },
   "source": [
    "##### The train score is 0.8001 but the test score is 0.7304, the test score is comparitively lesser than the train score with a marginal difference of 0.0697"
   ]
  },
  {
   "cell_type": "code",
   "execution_count": 84,
   "metadata": {
    "colab": {
     "base_uri": "https://localhost:8080/",
     "height": 0
    },
    "id": "6UIXc7Tumtuw",
    "outputId": "1e943d22-9e4f-4e16-c06e-8f990a5a7fe4"
   },
   "outputs": [
    {
     "data": {
      "image/png": "[encoded data removed]",
      "text/plain": [
       "<Figure size 432x288 with 1 Axes>"
      ]
     },
     "metadata": {
      "needs_background": "light",
      "tags": []
     },
     "output_type": "display_data"
    }
   ],
   "source": [
    "#Plotting the Ridge Regression lines for each of the feature values in the X PCA dataset.\n",
    "%matplotlib inline\n",
    "import numpy as np\n",
    "\n",
    "x_range1 = np.linspace(0.001, 1, 100).reshape(-1,1)\n",
    "x_range2 = np.linspace(1, 10000, 10000).reshape(-1,1)\n",
    "\n",
    "x_range = np.append(x_range1, x_range2)\n",
    "coeff = []\n",
    "\n",
    "for alpha in x_range: \n",
    "    ridge = Ridge(alpha)\n",
    "    ridge.fit(X_train_pca,train_Y)\n",
    "    coeff.append(ridge.coef_ )\n",
    "    \n",
    "coeff = np.array(coeff)\n",
    "\n",
    "for i in range(0,37):\n",
    "    plt.plot(x_range, coeff[:,i], label = 'feature {:d}'.format(i))\n",
    "\n",
    "plt.axhline(y=0, xmin=0.001, xmax=9999, linewidth=1, c ='gray')\n",
    "plt.xlabel(r'$\\alpha$')\n",
    "plt.xscale('log')\n",
    "plt.legend(loc='upper center', bbox_to_anchor=(1.5, 2),\n",
    "          ncol=3, fancybox=True, shadow=True)\n",
    "plt.show()"
   ]
  },
  {
   "cell_type": "markdown",
   "metadata": {
    "id": "jrpOvJ6zmtuw"
   },
   "source": [
    "### 4) LASSO Regression"
   ]
  },
  {
   "cell_type": "code",
   "execution_count": 85,
   "metadata": {
    "id": "lXDEBkJUmtuw"
   },
   "outputs": [],
   "source": [
    "from sklearn.model_selection import GridSearchCV\n",
    "from  sklearn.linear_model import Lasso\n",
    "\n",
    "param_grid = {'alpha':[0.001,0.01, 0.1, 1, 10, 100,1000]}"
   ]
  },
  {
   "cell_type": "code",
   "execution_count": 86,
   "metadata": {
    "colab": {
     "base_uri": "https://localhost:8080/"
    },
    "id": "RTB-9OJpmtuw",
    "outputId": "89bfb742-feb0-4a58-dacc-57f974ab77a9"
   },
   "outputs": [
    {
     "data": {
      "text/plain": [
       "GridSearchCV(cv=10, error_score=nan,\n",
       "             estimator=Lasso(alpha=1.0, copy_X=True, fit_intercept=True,\n",
       "                             max_iter=1000, normalize=False, positive=False,\n",
       "                             precompute=False, random_state=None,\n",
       "                             selection='cyclic', tol=0.0001, warm_start=False),\n",
       "             iid='deprecated', n_jobs=None,\n",
       "             param_grid={'alpha': [0.001, 0.01, 0.1, 1, 10, 100, 1000]},\n",
       "             pre_dispatch='2*n_jobs', refit=True, return_train_score=True,\n",
       "             scoring=None, verbose=0)"
      ]
     },
     "execution_count": 86,
     "metadata": {
      "tags": []
     },
     "output_type": "execute_result"
    }
   ],
   "source": [
    "Grid_Lasso = GridSearchCV(Lasso(),param_grid,cv=10,return_train_score=True)\n",
    "Grid_Lasso.fit(X_train_pca,train_Y)"
   ]
  },
  {
   "cell_type": "code",
   "execution_count": 87,
   "metadata": {
    "colab": {
     "base_uri": "https://localhost:8080/"
    },
    "id": "nOghOs-Ymtuw",
    "outputId": "a92633ae-a6f2-456a-978c-02849671fa69"
   },
   "outputs": [
    {
     "name": "stdout",
     "output_type": "stream",
     "text": [
      "Best Cross-Validation Score: 0.7824\n",
      "Best Paramater: {'alpha': 10}\n"
     ]
    }
   ],
   "source": [
    "# Finding out the best parameters for the model\n",
    "\n",
    "print(\"Best Cross-Validation Score: {:.4f}\".format(Grid_Lasso.best_score_))\n",
    "print('Best Paramater:',Grid_Lasso.best_params_)\n",
    "best_cvscore = Grid_Lasso.best_score_\n",
    "best_param = Grid_Lasso.best_params_"
   ]
  },
  {
   "cell_type": "markdown",
   "metadata": {
    "id": "sayiwYWFmtuw"
   },
   "source": [
    "##### We can see that with alpha = 10 the Cross Validation score is 0.7824"
   ]
  },
  {
   "cell_type": "code",
   "execution_count": 88,
   "metadata": {
    "colab": {
     "base_uri": "https://localhost:8080/"
    },
    "id": "mAEjlTwCmtuw",
    "outputId": "29af74e2-fdcd-42bb-f4d9-d33b1444bbaa"
   },
   "outputs": [
    {
     "name": "stdout",
     "output_type": "stream",
     "text": [
      "Best Training score: 0.7998\n",
      "Best Testing score: 0.7261\n",
      "The test score is: {:.4f}  0.07368876256725143\n"
     ]
    }
   ],
   "source": [
    "# Reporting the training and testing scores for the best model\n",
    "\n",
    "print(\"Best Training score: {:.4f}\".format(Grid_Lasso.score(X_train_pca,train_Y)))\n",
    "print(\"Best Testing score: {:.4f}\".format(Grid_Lasso.score(X_test_pca, test_Y)))\n",
    "train_score = Grid_Lasso.score(X_train_pca,train_Y)\n",
    "test_score = Grid_Lasso.score(X_test_pca, test_Y)\n",
    "difference = train_score - test_score\n",
    "print(\"The test score is: {:.4f} \", difference)"
   ]
  },
  {
   "cell_type": "markdown",
   "metadata": {
    "id": "f-KiQLYfmtuw"
   },
   "source": [
    "##### The train score is 0.7998 but the test score is 0.7261, the test score is comparitively lesser than the train score with a marginal difference of 0.0737"
   ]
  },
  {
   "cell_type": "code",
   "execution_count": 89,
   "metadata": {
    "colab": {
     "base_uri": "https://localhost:8080/",
     "height": 0
    },
    "id": "LwnDjHb8mtuw",
    "outputId": "787c2207-ff08-46dd-80ba-59495774f0e5"
   },
   "outputs": [
    {
     "data": {
      "image/png": "[encoded data removed]",
      "text/plain": [
       "<Figure size 432x288 with 1 Axes>"
      ]
     },
     "metadata": {
      "needs_background": "light",
      "tags": []
     },
     "output_type": "display_data"
    }
   ],
   "source": [
    "#Plotting the LASSO Regression lines for each of the feature values in the X dataset.\n",
    "%matplotlib inline\n",
    "\n",
    "x_range1 = np.linspace(0.001, 1, 1000).reshape(-1,1)\n",
    "x_range2 = np.linspace(1, 1000, 1000).reshape(-1,1)\n",
    "\n",
    "x_range = np.append(x_range1, x_range2)\n",
    "coeff = []\n",
    "\n",
    "for alpha in x_range: \n",
    "    lasso = Lasso(alpha)\n",
    "    lasso.fit(X_train_pca,train_Y)\n",
    "    coeff.append(lasso.coef_ )\n",
    "    \n",
    "coeff = np.array(coeff)\n",
    "\n",
    "for i in range(0,37):\n",
    "    plt.plot(x_range, coeff[:,i], label = 'feature {:d}'.format(i))\n",
    "\n",
    "plt.axhline(y=0, xmin=0.001, xmax=9999, linewidth=1, c ='gray')\n",
    "plt.xlabel(r'$\\alpha$')\n",
    "plt.xscale('log')\n",
    "plt.legend(loc='upper center', bbox_to_anchor=(1.5, 2),\n",
    "          ncol=3, fancybox=True, shadow=True)\n",
    "plt.show()"
   ]
  },
  {
   "cell_type": "markdown",
   "metadata": {
    "id": "ezxZLbe3mtuw"
   },
   "source": [
    "### 5) Polynomial Regression"
   ]
  },
  {
   "cell_type": "code",
   "execution_count": 90,
   "metadata": {
    "id": "FfZVydo2mtux"
   },
   "outputs": [],
   "source": [
    "from sklearn.preprocessing  import PolynomialFeatures\n",
    "from sklearn.model_selection import GridSearchCV\n",
    "from sklearn.pipeline import make_pipeline\n",
    "\n",
    "param_grid = {'polynomialfeatures__degree':[1,2,3]}"
   ]
  },
  {
   "cell_type": "code",
   "execution_count": 91,
   "metadata": {
    "id": "Rkm2lT0imtux"
   },
   "outputs": [],
   "source": [
    "pipeline = make_pipeline(PolynomialFeatures(),LinearRegression())"
   ]
  },
  {
   "cell_type": "code",
   "execution_count": 92,
   "metadata": {
    "colab": {
     "base_uri": "https://localhost:8080/"
    },
    "id": "97vFNWP9mtux",
    "outputId": "84a8cb46-192a-4843-c81b-ff81ae657482"
   },
   "outputs": [
    {
     "data": {
      "text/plain": [
       "GridSearchCV(cv=10, error_score=nan,\n",
       "             estimator=Pipeline(memory=None,\n",
       "                                steps=[('polynomialfeatures',\n",
       "                                        PolynomialFeatures(degree=2,\n",
       "                                                           include_bias=True,\n",
       "                                                           interaction_only=False,\n",
       "                                                           order='C')),\n",
       "                                       ('linearregression',\n",
       "                                        LinearRegression(copy_X=True,\n",
       "                                                         fit_intercept=True,\n",
       "                                                         n_jobs=None,\n",
       "                                                         normalize=False))],\n",
       "                                verbose=False),\n",
       "             iid='deprecated', n_jobs=None,\n",
       "             param_grid={'polynomialfeatures__degree': [1, 2, 3]},\n",
       "             pre_dispatch='2*n_jobs', refit=True, return_train_score=True,\n",
       "             scoring=None, verbose=0)"
      ]
     },
     "execution_count": 92,
     "metadata": {
      "tags": []
     },
     "output_type": "execute_result"
    }
   ],
   "source": [
    "Grid_Poly = GridSearchCV(pipeline,param_grid,cv=10,return_train_score=True)\n",
    "Grid_Poly.fit(X_train_pca,train_Y)"
   ]
  },
  {
   "cell_type": "code",
   "execution_count": 93,
   "metadata": {
    "colab": {
     "base_uri": "https://localhost:8080/"
    },
    "id": "BaWMbxfGmtux",
    "outputId": "510d62c1-65ef-4f14-b699-a4db71b8e93f"
   },
   "outputs": [
    {
     "name": "stdout",
     "output_type": "stream",
     "text": [
      "Best Cross-Validation Score: 0.7818\n",
      "Best Paramater: {'polynomialfeatures__degree': 1}\n"
     ]
    }
   ],
   "source": [
    "# Finding out the best parameters for the model\n",
    "\n",
    "print(\"Best Cross-Validation Score: {:.4f}\".format(Grid_Poly.best_score_))\n",
    "print('Best Paramater:',Grid_Poly.best_params_)\n",
    "best_cvscore = Grid_Poly.best_score_\n",
    "best_param = Grid_Poly.best_params_"
   ]
  },
  {
   "cell_type": "markdown",
   "metadata": {
    "id": "a4-Z7AUsmtux"
   },
   "source": [
    "##### We can see that with the polynomial degree = 1 the Cross Validation score is 0.7818"
   ]
  },
  {
   "cell_type": "code",
   "execution_count": 94,
   "metadata": {
    "colab": {
     "base_uri": "https://localhost:8080/"
    },
    "id": "OE2DR_F_mtux",
    "outputId": "f64224e9-0625-47ca-9aa5-9f0bc9462b4f"
   },
   "outputs": [
    {
     "name": "stdout",
     "output_type": "stream",
     "text": [
      "Best Training score: 0.8016\n",
      "Best Testing score: 0.7215\n",
      "The test score is: 0.0800 \n"
     ]
    }
   ],
   "source": [
    "# Reporting the training and testing scores for the best model\n",
    "\n",
    "print(\"Best Training score: {:.4f}\".format(Grid_Poly.score(X_train_pca,train_Y)))\n",
    "print(\"Best Testing score: {:.4f}\".format(Grid_Poly.score(X_test_pca,test_Y)))\n",
    "train_score = Grid_Poly.score(X_train_pca,train_Y)\n",
    "test_score = Grid_Poly.score(X_test_pca,test_Y)\n",
    "difference = train_score - test_score\n",
    "print(\"The test score is: {:.4f} \".format(difference))"
   ]
  },
  {
   "cell_type": "markdown",
   "metadata": {
    "id": "w1KzPwmqmtux"
   },
   "source": [
    "##### The train score is 0.8061 but the test score is 0.7215, the test score is lesser than the train score with a difference of 0.0801. "
   ]
  },
  {
   "cell_type": "markdown",
   "metadata": {
    "id": "RC3o_Jsimtux"
   },
   "source": [
    "### 6) Linear SVM Regression"
   ]
  },
  {
   "cell_type": "code",
   "execution_count": 95,
   "metadata": {
    "colab": {
     "base_uri": "https://localhost:8080/"
    },
    "id": "qG8nfJ9Dmtux",
    "outputId": "98661512-6625-4935-98c2-edabcc806c56"
   },
   "outputs": [
    {
     "data": {
      "text/plain": [
       "GridSearchCV(cv=10, error_score=nan,\n",
       "             estimator=LinearSVR(C=1.0, dual=True, epsilon=0.0,\n",
       "                                 fit_intercept=True, intercept_scaling=1.0,\n",
       "                                 loss='epsilon_insensitive', max_iter=1000,\n",
       "                                 random_state=None, tol=0.0001, verbose=0),\n",
       "             iid='deprecated', n_jobs=None,\n",
       "             param_grid={'C': [0.001, 0.01, 0.1, 1, 10, 100], 'tol': [1]},\n",
       "             pre_dispatch='2*n_jobs', refit=True, return_train_score=True,\n",
       "             scoring='r2', verbose=0)"
      ]
     },
     "execution_count": 95,
     "metadata": {
      "tags": []
     },
     "output_type": "execute_result"
    }
   ],
   "source": [
    "from sklearn.model_selection import GridSearchCV\n",
    "from sklearn.svm import LinearSVR\n",
    "\n",
    "param_grid = {'C': [0.001, 0.01, 0.1, 1, 10, 100],'tol':[1]}\n",
    "\n",
    "Grid_LSVC = GridSearchCV(LinearSVR(), param_grid, cv=10, return_train_score=True,scoring='r2')\n",
    "Grid_LSVC.fit(X_train_pca,train_Y)"
   ]
  },
  {
   "cell_type": "code",
   "execution_count": 96,
   "metadata": {
    "colab": {
     "base_uri": "https://localhost:8080/"
    },
    "id": "GsIGZzgVmtux",
    "outputId": "b97f9a45-d17a-41e3-cf94-5aa92b2722a5"
   },
   "outputs": [
    {
     "name": "stdout",
     "output_type": "stream",
     "text": [
      "Best Cross-Validation Score: 0.7356\n",
      "Best Paramater: {'C': 100, 'tol': 1}\n"
     ]
    }
   ],
   "source": [
    "# Finding out the best parameters for the model\n",
    "\n",
    "print(\"Best Cross-Validation Score: {:.4f}\".format(Grid_LSVC.best_score_))\n",
    "print('Best Paramater:',Grid_LSVC.best_params_)\n",
    "best_cvscore = Grid_LSVC.best_score_\n",
    "best_param = Grid_LSVC.best_params_"
   ]
  },
  {
   "cell_type": "markdown",
   "metadata": {
    "id": "-ymL5sTImtux"
   },
   "source": [
    "##### With Parameter C = 100, tol = 1, the Cross-Validation Score is 0.7229"
   ]
  },
  {
   "cell_type": "code",
   "execution_count": 97,
   "metadata": {
    "colab": {
     "base_uri": "https://localhost:8080/"
    },
    "id": "3QjPVasCmtux",
    "outputId": "91bb0e3f-60da-499a-ca7c-69188ccd992e"
   },
   "outputs": [
    {
     "name": "stdout",
     "output_type": "stream",
     "text": [
      "Best Training score :0.7412\n",
      "Best Testing score: 0.7269\n",
      "The difference is: 0.0196 \n"
     ]
    }
   ],
   "source": [
    "# Reporting the training and testing scores for the best model\n",
    "\n",
    "print(\"Best Training score :{:.4f}\".format(Grid_LSVC.score(X_train_pca,train_Y)))\n",
    "print(\"Best Testing score: {:.4f}\".format(Grid_LSVC.score(X_test_pca,test_Y)))\n",
    "train_score = Grid_LSVC.score(X_train_pca,train_Y)\n",
    "test_score = Grid_LSVC.score(X_test_pca,test_Y)\n",
    "test_score = Grid_Poly.score(X_test_pca,test_Y)\n",
    "difference = train_score - test_score\n",
    "print(\"The difference is: {:.4f} \".format(difference))"
   ]
  },
  {
   "cell_type": "markdown",
   "metadata": {
    "id": "hfpDDJ-1mtux"
   },
   "source": [
    "##### The train score is 0.7047 and the test score is 0.6910 for the best chosen C Parameter with a marginal difference of 0.0137."
   ]
  },
  {
   "cell_type": "markdown",
   "metadata": {
    "id": "vLcK8BpWmtux"
   },
   "source": [
    "### 7) SVM with Linear Kernel"
   ]
  },
  {
   "cell_type": "code",
   "execution_count": 98,
   "metadata": {
    "id": "CxdQYki0mtux"
   },
   "outputs": [],
   "source": [
    "from sklearn.model_selection import GridSearchCV\n",
    "from sklearn.svm import SVR\n",
    "\n",
    "param_grid = {'C': [0.001, 0.01, 0.1, 1, 10, 100]}"
   ]
  },
  {
   "cell_type": "code",
   "execution_count": 99,
   "metadata": {
    "colab": {
     "base_uri": "https://localhost:8080/"
    },
    "id": "TZ64-agymtux",
    "outputId": "24aee7fb-ec7b-42b3-81f8-caccbe1e0749"
   },
   "outputs": [
    {
     "data": {
      "text/plain": [
       "GridSearchCV(cv=10, error_score=nan,\n",
       "             estimator=SVR(C=1.0, cache_size=200, coef0=0.0, degree=3,\n",
       "                           epsilon=0.1, gamma='scale', kernel='linear',\n",
       "                           max_iter=-1, shrinking=True, tol=0.001,\n",
       "                           verbose=False),\n",
       "             iid='deprecated', n_jobs=None,\n",
       "             param_grid={'C': [0.001, 0.01, 0.1, 1, 10, 100]},\n",
       "             pre_dispatch='2*n_jobs', refit=True, return_train_score=True,\n",
       "             scoring=None, verbose=0)"
      ]
     },
     "execution_count": 99,
     "metadata": {
      "tags": []
     },
     "output_type": "execute_result"
    }
   ],
   "source": [
    "Grid_LK = GridSearchCV(SVR(kernel = 'linear'), param_grid, cv=10, return_train_score=True)\n",
    "Grid_LK.fit(X_train_pca,train_Y)"
   ]
  },
  {
   "cell_type": "code",
   "execution_count": 100,
   "metadata": {
    "colab": {
     "base_uri": "https://localhost:8080/"
    },
    "id": "Vn-Jw20smtux",
    "outputId": "c459fcfc-a6d2-41c4-bc70-89383c71690f"
   },
   "outputs": [
    {
     "name": "stdout",
     "output_type": "stream",
     "text": [
      "Best parameters: {'C': 100}\n",
      "Best cross-validation score: 0.7742\n"
     ]
    }
   ],
   "source": [
    "# Finding out the best parameters for the model\n",
    "\n",
    "print(\"Best parameters: {}\".format(Grid_LK.best_params_))\n",
    "print(\"Best cross-validation score: {:.4f}\".format(Grid_LK.best_score_))\n",
    "best_cvscore = Grid_LK.best_score_\n",
    "best_param = Grid_LK.best_params_"
   ]
  },
  {
   "cell_type": "markdown",
   "metadata": {
    "id": "A8IbxZwmmtuy"
   },
   "source": [
    "##### With Parameter C = 100 the Cross-Validation Score is 0.7742"
   ]
  },
  {
   "cell_type": "code",
   "execution_count": 101,
   "metadata": {
    "colab": {
     "base_uri": "https://localhost:8080/"
    },
    "id": "fJZJ0Lgymtuy",
    "outputId": "2046e52e-88cc-4618-8673-ab2a16702149"
   },
   "outputs": [
    {
     "name": "stdout",
     "output_type": "stream",
     "text": [
      "Best training score: 0.7857\n",
      "Best testing score: 0.7416\n",
      "The difference is: 0.0642 \n"
     ]
    }
   ],
   "source": [
    "# Reporting the training and testing scores for the best model\n",
    "\n",
    "print(\"Best training score: {:.4f}\".format(Grid_LK.score(X_train_pca,train_Y)))\n",
    "print(\"Best testing score: {:.4f}\".format(Grid_LK.score(X_test_pca,test_Y)))\n",
    "train_score = Grid_LK.score(X_train_pca,train_Y)\n",
    "test_score = Grid_LK.score(X_test_pca,test_Y)\n",
    "test_score = Grid_Poly.score(X_test_pca,test_Y)\n",
    "difference = train_score - test_score\n",
    "print(\"The difference is: {:.4f} \".format(difference))"
   ]
  },
  {
   "cell_type": "markdown",
   "metadata": {
    "id": "7-Ew2yi7mtuy"
   },
   "source": [
    "##### The train score is 0.7857 and the test score is 0.7416 for the best chosen C Parameter with a marginal difference of 0.0642."
   ]
  },
  {
   "cell_type": "markdown",
   "metadata": {
    "id": "UI20X3hEmtuy"
   },
   "source": [
    "### 8) SVM with Poly Kernel"
   ]
  },
  {
   "cell_type": "code",
   "execution_count": 102,
   "metadata": {
    "id": "qZxM9p06mtuz"
   },
   "outputs": [],
   "source": [
    "from sklearn.model_selection import GridSearchCV\n",
    "from sklearn.svm import SVR\n",
    "\n",
    "param_grid = {'C': [0.001, 0.01, 0.1, 1, 10, 100]}"
   ]
  },
  {
   "cell_type": "code",
   "execution_count": 103,
   "metadata": {
    "colab": {
     "base_uri": "https://localhost:8080/"
    },
    "id": "HwVXXeHbmtuz",
    "outputId": "0616f342-dbdb-4961-881b-71be2ed81d34"
   },
   "outputs": [
    {
     "data": {
      "text/plain": [
       "GridSearchCV(cv=10, error_score=nan,\n",
       "             estimator=SVR(C=1.0, cache_size=200, coef0=0.0, degree=3,\n",
       "                           epsilon=0.1, gamma='scale', kernel='poly',\n",
       "                           max_iter=-1, shrinking=True, tol=0.001,\n",
       "                           verbose=False),\n",
       "             iid='deprecated', n_jobs=None,\n",
       "             param_grid={'C': [0.001, 0.01, 0.1, 1, 10, 100]},\n",
       "             pre_dispatch='2*n_jobs', refit=True, return_train_score=True,\n",
       "             scoring=None, verbose=0)"
      ]
     },
     "execution_count": 103,
     "metadata": {
      "tags": []
     },
     "output_type": "execute_result"
    }
   ],
   "source": [
    "Grid_PK = GridSearchCV(SVR(kernel = 'poly'), param_grid, cv=10, return_train_score=True)\n",
    "Grid_PK.fit(X_train_pca,train_Y)"
   ]
  },
  {
   "cell_type": "code",
   "execution_count": 104,
   "metadata": {
    "colab": {
     "base_uri": "https://localhost:8080/"
    },
    "id": "TCfhXqeDmtuz",
    "outputId": "4058ab05-92a2-42f3-dbd8-b58257444f4d"
   },
   "outputs": [
    {
     "name": "stdout",
     "output_type": "stream",
     "text": [
      "Best parameters: {'C': 100}\n",
      "Best cross-validation score: 0.3509\n"
     ]
    }
   ],
   "source": [
    "# Finding out the best parameters for the model\n",
    "\n",
    "print(\"Best parameters: {}\".format(Grid_PK.best_params_))\n",
    "print(\"Best cross-validation score: {:.4f}\".format(Grid_PK.best_score_))\n",
    "best_cvscore = Grid_PK.best_score_\n",
    "best_param = Grid_PK.best_params_"
   ]
  },
  {
   "cell_type": "markdown",
   "metadata": {
    "id": "ctzBPBEUmtuz"
   },
   "source": [
    "##### With Parameter C = 100 the Cross-Validation Score is -0.0582"
   ]
  },
  {
   "cell_type": "code",
   "execution_count": 105,
   "metadata": {
    "colab": {
     "base_uri": "https://localhost:8080/"
    },
    "id": "_3uixp2Emtuz",
    "outputId": "8ed1935e-df35-4246-e88e-29ca6538ea04"
   },
   "outputs": [
    {
     "name": "stdout",
     "output_type": "stream",
     "text": [
      "Best training score: 0.4115\n",
      "Best testing score: 0.4016\n",
      "The difference is: -0.3100 \n"
     ]
    }
   ],
   "source": [
    "# Reporting the training and testing scores for the best model\n",
    "\n",
    "print(\"Best training score: {:.4f}\".format(Grid_PK.score(X_train_pca,train_Y)))\n",
    "print(\"Best testing score: {:.4f}\".format(Grid_PK.score(X_test_pca,test_Y)))\n",
    "train_score = Grid_PK.score(X_train_pca,train_Y)\n",
    "test_score = Grid_PK.score(X_test_pca,test_Y)\n",
    "test_score = Grid_Poly.score(X_test_pca,test_Y)\n",
    "difference = train_score - test_score\n",
    "print(\"The difference is: {:.4f} \".format(difference))"
   ]
  },
  {
   "cell_type": "markdown",
   "metadata": {
    "id": "ZFBcneozmtuz"
   },
   "source": [
    "##### The train score is -0.0467 and the test score is -0.0231 for the best chosen C Parameter with a marginal difference of 0.024. As compared to the previous models run so far, SVM with Poly Kernal creates the worst underfit for the dataset for the regression models."
   ]
  },
  {
   "cell_type": "markdown",
   "metadata": {
    "id": "nRP0nanNmtuz"
   },
   "source": [
    "### 9) SVM with RBF Kernel"
   ]
  },
  {
   "cell_type": "code",
   "execution_count": 106,
   "metadata": {
    "id": "0UMM4X08mtuz"
   },
   "outputs": [],
   "source": [
    "from sklearn.model_selection import GridSearchCV\n",
    "from sklearn.svm import SVR\n",
    "\n",
    "param_grid = {'C': [0.001, 0.01, 0.1, 1, 10, 100],\n",
    "              'gamma': [0.001, 0.01, 0.1, 1, 10, 100]}"
   ]
  },
  {
   "cell_type": "code",
   "execution_count": 107,
   "metadata": {
    "colab": {
     "base_uri": "https://localhost:8080/"
    },
    "id": "78Ryk7iEmtuz",
    "outputId": "e5419825-900a-4c83-bee8-11bde68925e3"
   },
   "outputs": [
    {
     "data": {
      "text/plain": [
       "GridSearchCV(cv=10, error_score=nan,\n",
       "             estimator=SVR(C=1.0, cache_size=200, coef0=0.0, degree=3,\n",
       "                           epsilon=0.1, gamma='scale', kernel='rbf',\n",
       "                           max_iter=-1, shrinking=True, tol=0.001,\n",
       "                           verbose=False),\n",
       "             iid='deprecated', n_jobs=None,\n",
       "             param_grid={'C': [0.001, 0.01, 0.1, 1, 10, 100],\n",
       "                         'gamma': [0.001, 0.01, 0.1, 1, 10, 100]},\n",
       "             pre_dispatch='2*n_jobs', refit=True, return_train_score=True,\n",
       "             scoring=None, verbose=0)"
      ]
     },
     "execution_count": 107,
     "metadata": {
      "tags": []
     },
     "output_type": "execute_result"
    }
   ],
   "source": [
    "Grid_RK = GridSearchCV(SVR(kernel = 'rbf'), param_grid, cv=10, return_train_score=True)\n",
    "Grid_RK.fit(X_train_pca,train_Y)"
   ]
  },
  {
   "cell_type": "code",
   "execution_count": 108,
   "metadata": {
    "colab": {
     "base_uri": "https://localhost:8080/"
    },
    "id": "ITh0dx00mtu0",
    "outputId": "c50952d7-88ac-4273-b9cd-ed7addfe62df"
   },
   "outputs": [
    {
     "name": "stdout",
     "output_type": "stream",
     "text": [
      "Best parameters: {'C': 100, 'gamma': 0.1}\n",
      "Best cross-validation score: 0.3895\n"
     ]
    }
   ],
   "source": [
    "# Finding out the best parameters for the model\n",
    "\n",
    "print(\"Best parameters: {}\".format(Grid_RK.best_params_))\n",
    "print(\"Best cross-validation score: {:.4f}\".format(Grid_RK.best_score_))\n",
    "best_cvscore = Grid_RK.best_score_\n",
    "best_param = Grid_RK.best_params_"
   ]
  },
  {
   "cell_type": "markdown",
   "metadata": {
    "id": "fvuKXOzpmtu0"
   },
   "source": [
    "##### With Parameter C = 100 , gamma = 0.1, the Cross-Validation Score is 0.3895"
   ]
  },
  {
   "cell_type": "code",
   "execution_count": 109,
   "metadata": {
    "colab": {
     "base_uri": "https://localhost:8080/"
    },
    "id": "U_HnW5Zdmtu0",
    "outputId": "7281a7c0-8a1d-4860-ad9b-27549226e09b"
   },
   "outputs": [
    {
     "name": "stdout",
     "output_type": "stream",
     "text": [
      "Best training score: 0.4264\n",
      "Best testing score: 0.4274\n",
      "The difference is: -0.0010 \n"
     ]
    }
   ],
   "source": [
    "# Reporting the training and testing scores for the best model\n",
    "\n",
    "print(\"Best training score: {:.4f}\".format(Grid_RK.score(X_train_pca,train_Y)))\n",
    "print(\"Best testing score: {:.4f}\".format(Grid_RK.score(X_test_pca,test_Y)))\n",
    "train_score = Grid_RK.score(X_train_pca,train_Y)\n",
    "test_score = Grid_RK.score(X_test_pca,test_Y)\n",
    "difference = train_score - test_score\n",
    "print(\"The difference is: {:.4f} \".format(difference))"
   ]
  },
  {
   "cell_type": "markdown",
   "metadata": {
    "id": "WgTiaLHDmtu0"
   },
   "source": [
    "##### The train score is 0.4264 and the test score is 0.4272 for the best chosen C and gamma Parameter with a marginal difference of 0.001. As compared to the previous models run so far, SVM with RBF Kernal has very less performance difference between the test and the train scores but the score for them are very less in comparison to other models."
   ]
  },
  {
   "cell_type": "markdown",
   "metadata": {
    "id": "03tOMGUpmtu0"
   },
   "source": [
    "### 10) Decision Tree Regressor"
   ]
  },
  {
   "cell_type": "code",
   "execution_count": 110,
   "metadata": {
    "id": "Limxgmp5mtu0"
   },
   "outputs": [],
   "source": [
    "from sklearn.tree import DecisionTreeRegressor\n",
    "\n",
    "param_grid = {\"max_leaf_nodes\": range(2,6),\n",
    "              \"min_samples_split\": range(2,10,1),\n",
    "              \"max_depth\": [1,2,3,4]\n",
    "           }"
   ]
  },
  {
   "cell_type": "code",
   "execution_count": 111,
   "metadata": {
    "colab": {
     "base_uri": "https://localhost:8080/"
    },
    "id": "jyJyn_flmtu0",
    "outputId": "cba181ab-6c04-4db2-bd0b-a5ae4f471a35"
   },
   "outputs": [
    {
     "data": {
      "text/plain": [
       "GridSearchCV(cv=10, error_score=nan,\n",
       "             estimator=DecisionTreeRegressor(ccp_alpha=0.0, criterion='mse',\n",
       "                                             max_depth=None, max_features=None,\n",
       "                                             max_leaf_nodes=None,\n",
       "                                             min_impurity_decrease=0.0,\n",
       "                                             min_impurity_split=None,\n",
       "                                             min_samples_leaf=1,\n",
       "                                             min_samples_split=2,\n",
       "                                             min_weight_fraction_leaf=0.0,\n",
       "                                             presort='deprecated',\n",
       "                                             random_state=0, splitter='best'),\n",
       "             iid='deprecated', n_jobs=None,\n",
       "             param_grid={'max_depth': [1, 2, 3, 4],\n",
       "                         'max_leaf_nodes': range(2, 6),\n",
       "                         'min_samples_split': range(2, 10)},\n",
       "             pre_dispatch='2*n_jobs', refit=True, return_train_score=True,\n",
       "             scoring=None, verbose=0)"
      ]
     },
     "execution_count": 111,
     "metadata": {
      "tags": []
     },
     "output_type": "execute_result"
    }
   ],
   "source": [
    "dreg = DecisionTreeRegressor(random_state=0)\n",
    "Grid_dtree = GridSearchCV(dreg, param_grid, cv=10, return_train_score = True)\n",
    "Grid_dtree.fit(X_train_pca,train_Y)"
   ]
  },
  {
   "cell_type": "code",
   "execution_count": 112,
   "metadata": {
    "colab": {
     "base_uri": "https://localhost:8080/"
    },
    "id": "5okQwOXtmtu0",
    "outputId": "3c2e006a-f493-4a68-f31c-03cae35410e6"
   },
   "outputs": [
    {
     "name": "stdout",
     "output_type": "stream",
     "text": [
      "Best parameters: {'max_depth': 3, 'max_leaf_nodes': 5, 'min_samples_split': 2}\n",
      "Best cross-validation score: 0.3746\n"
     ]
    }
   ],
   "source": [
    "# Finding out the best parameters for the model\n",
    "\n",
    "print(\"Best parameters: {}\".format(Grid_dtree.best_params_))\n",
    "print(\"Best cross-validation score: {:.4f}\".format(Grid_dtree.best_score_))\n",
    "best_cvscore = Grid_dtree.best_score_\n",
    "best_param = Grid_dtree.best_params_"
   ]
  },
  {
   "cell_type": "markdown",
   "metadata": {
    "id": "5BtJlSbUmtu0"
   },
   "source": [
    "##### With Parameter max_depth = 3, max_leaf_nodes= 5 and min_samples_split = 2, the Cross-Validation Score is 0.3744"
   ]
  },
  {
   "cell_type": "code",
   "execution_count": 113,
   "metadata": {
    "colab": {
     "base_uri": "https://localhost:8080/"
    },
    "id": "FArY70pTmtu0",
    "outputId": "10dbce12-8e14-493d-d6bb-f63a4ef8ccd4"
   },
   "outputs": [
    {
     "name": "stdout",
     "output_type": "stream",
     "text": [
      "Best training score: 0.5252\n",
      "Best testing score: 0.3580\n",
      "The difference is: 0.1672 \n"
     ]
    }
   ],
   "source": [
    "# Reporting the training and testing scores for the best model\n",
    "\n",
    "print(\"Best training score: {:.4f}\".format(Grid_dtree.score(X_train_pca,train_Y)))\n",
    "print(\"Best testing score: {:.4f}\".format(Grid_dtree.score(X_test_pca,test_Y)))\n",
    "train_score = Grid_dtree.score(X_train_pca,train_Y)\n",
    "test_score = Grid_dtree.score(X_test_pca,test_Y)\n",
    "difference = train_score - test_score\n",
    "print(\"The difference is: {:.4f} \".format(difference))"
   ]
  },
  {
   "cell_type": "markdown",
   "metadata": {
    "id": "ElexiI8hmtu0"
   },
   "source": [
    "##### The train score is 0.5252 and the test score is 0.3580 for the best chosen depth, leaf nodes and sample splits as mentioned above with a marginal difference of 0.1672. As compared to the previous models run so far, Decision Tree Regressor has comparitively less performance difference between the test and the train scores but the score for them are very less."
   ]
  },
  {
   "cell_type": "markdown",
   "metadata": {
    "id": "oppK7_Fzmtu0"
   },
   "source": [
    "### 11) SGD Regressor"
   ]
  },
  {
   "cell_type": "code",
   "execution_count": 114,
   "metadata": {
    "id": "UBKg3Nh_mtu0"
   },
   "outputs": [],
   "source": [
    "from sklearn.linear_model import SGDRegressor\n",
    "\n",
    "param_grid = {'alpha': [0.001, 0.01, 0.1, 1, 10, 100],\n",
    "              'penalty': ['l1','l2'],\n",
    "              'eta0':[0.01,0.05,0.1,0.5]}"
   ]
  },
  {
   "cell_type": "code",
   "execution_count": 115,
   "metadata": {
    "colab": {
     "base_uri": "https://localhost:8080/"
    },
    "id": "h-fwMUMgmtu0",
    "outputId": "b1da0d59-c5c6-48d9-e78c-eda0add71e06"
   },
   "outputs": [
    {
     "data": {
      "text/plain": [
       "GridSearchCV(cv=10, error_score=nan,\n",
       "             estimator=SGDRegressor(alpha=0.0001, average=False,\n",
       "                                    early_stopping=False, epsilon=0.1,\n",
       "                                    eta0=0.01, fit_intercept=True,\n",
       "                                    l1_ratio=0.15, learning_rate='invscaling',\n",
       "                                    loss='squared_loss', max_iter=10000,\n",
       "                                    n_iter_no_change=5, penalty='l2',\n",
       "                                    power_t=0.25, random_state=None,\n",
       "                                    shuffle=True, tol=0.001,\n",
       "                                    validation_fraction=0.1, verbose=0,\n",
       "                                    warm_start=False),\n",
       "             iid='deprecated', n_jobs=None,\n",
       "             param_grid={'alpha': [0.001, 0.01, 0.1, 1, 10, 100],\n",
       "                         'eta0': [0.01, 0.05, 0.1, 0.5],\n",
       "                         'penalty': ['l1', 'l2']},\n",
       "             pre_dispatch='2*n_jobs', refit=True, return_train_score=True,\n",
       "             scoring=None, verbose=0)"
      ]
     },
     "execution_count": 115,
     "metadata": {
      "tags": []
     },
     "output_type": "execute_result"
    }
   ],
   "source": [
    "Grid_SGD = GridSearchCV(SGDRegressor(max_iter=10000),param_grid,cv=10,return_train_score=True)\n",
    "Grid_SGD.fit(X_train_pca,train_Y)"
   ]
  },
  {
   "cell_type": "code",
   "execution_count": 116,
   "metadata": {
    "colab": {
     "base_uri": "https://localhost:8080/"
    },
    "id": "h6-ud3xsmtu0",
    "outputId": "c076a3f9-69f2-43e0-ab28-bf2b44471912"
   },
   "outputs": [
    {
     "name": "stdout",
     "output_type": "stream",
     "text": [
      "Best parameters: {'alpha': 0.001, 'eta0': 0.01, 'penalty': 'l2'}\n",
      "Best cross-validation score: 0.7824\n"
     ]
    }
   ],
   "source": [
    "# Finding out the best parameters for the model\n",
    "\n",
    "print(\"Best parameters: {}\".format(Grid_SGD.best_params_))\n",
    "print(\"Best cross-validation score: {:.4f}\".format(Grid_SGD.best_score_))\n",
    "best_cvscore = Grid_SGD.best_score_\n",
    "best_param = Grid_SGD.best_params_"
   ]
  },
  {
   "cell_type": "code",
   "execution_count": 117,
   "metadata": {
    "colab": {
     "base_uri": "https://localhost:8080/"
    },
    "id": "muFPmELamtu0",
    "outputId": "1b392aa2-e00f-472e-ca48-2196945d0153"
   },
   "outputs": [
    {
     "name": "stdout",
     "output_type": "stream",
     "text": [
      "Best training score: 0.8015\n",
      "Best testing score: 0.7241\n",
      "The difference is: 0.0774 \n"
     ]
    }
   ],
   "source": [
    "# Reporting the training and testing scores for the best model\n",
    "\n",
    "print(\"Best training score: {:.4f}\".format(Grid_SGD.score(X_train_pca,train_Y)))\n",
    "print(\"Best testing score: {:.4f}\".format(Grid_SGD.score(X_test_pca,test_Y)))\n",
    "train_score = Grid_SGD.score(X_train_pca,train_Y)\n",
    "test_score = Grid_SGD.score(X_test_pca,test_Y)\n",
    "difference = train_score - test_score\n",
    "print(\"The difference is: {:.4f} \".format(difference))"
   ]
  },
  {
   "cell_type": "markdown",
   "metadata": {
    "id": "cIt5F6PWmtu0"
   },
   "source": [
    "##### The train score is 0.8009 and the test score is 0.7195 for the best chosen alpha, eta0 and penalty values as mentioned above with a marginal difference of 0.0814. "
   ]
  },
  {
   "cell_type": "markdown",
   "metadata": {
    "id": "LeQZEV64mtu0"
   },
   "source": [
    "## Deep Learning"
   ]
  },
  {
   "cell_type": "code",
   "execution_count": 118,
   "metadata": {
    "id": "UmORa93smtu0"
   },
   "outputs": [],
   "source": [
    "from keras.models import Sequential\n",
    "from keras.layers import Dense\n",
    "import numpy\n",
    "\n",
    "# fix random seed for reproducibility\n",
    "numpy.random.seed(10)"
   ]
  },
  {
   "cell_type": "markdown",
   "metadata": {
    "id": "hrnvKxpcmtu0"
   },
   "source": [
    "#### 1) Deep learning on original datasets (without PCA)"
   ]
  },
  {
   "cell_type": "code",
   "execution_count": 137,
   "metadata": {
    "id": "oGZbQheumtu0"
   },
   "outputs": [],
   "source": [
    "# create model\n",
    "model = Sequential()\n",
    "model.add(Dense(20, input_dim=86, kernel_initializer='normal', activation='relu'))\n",
    "model.add(Dense(1, kernel_initializer='normal'))"
   ]
  },
  {
   "cell_type": "code",
   "execution_count": 144,
   "metadata": {
    "id": "FRByAVOOmtu0"
   },
   "outputs": [],
   "source": [
    "# Compile model\n",
    "model.compile(loss='mae', optimizer='sgd' , metrics = ['mae'])"
   ]
  },
  {
   "cell_type": "code",
   "execution_count": 145,
   "metadata": {
    "colab": {
     "base_uri": "https://localhost:8080/"
    },
    "id": "imHhd1vbmtu0",
    "outputId": "3307bb78-98b3-4ad0-c75b-1c13ee99fb28"
   },
   "outputs": [
    {
     "name": "stdout",
     "output_type": "stream",
     "text": [
      "Epoch 1/100\n",
      "54/54 [==============================] - 0s 927us/step - loss: 915.8416 - mae: 915.8416\n",
      "Epoch 2/100\n",
      "54/54 [==============================] - 0s 965us/step - loss: 917.9111 - mae: 917.9111\n",
      "Epoch 3/100\n",
      "54/54 [==============================] - 0s 845us/step - loss: 917.7434 - mae: 917.7434\n",
      "Epoch 4/100\n",
      "54/54 [==============================] - 0s 861us/step - loss: 924.7687 - mae: 924.7687\n",
      "Epoch 5/100\n",
      "54/54 [==============================] - 0s 851us/step - loss: 907.7501 - mae: 907.7501\n",
      "Epoch 6/100\n",
      "54/54 [==============================] - 0s 884us/step - loss: 895.3901 - mae: 895.3901\n",
      "Epoch 7/100\n",
      "54/54 [==============================] - 0s 1ms/step - loss: 906.5305 - mae: 906.5305\n",
      "Epoch 8/100\n",
      "54/54 [==============================] - 0s 1ms/step - loss: 912.8050 - mae: 912.8050\n",
      "Epoch 9/100\n",
      "54/54 [==============================] - 0s 916us/step - loss: 896.9355 - mae: 896.9355\n",
      "Epoch 10/100\n",
      "54/54 [==============================] - 0s 870us/step - loss: 900.9602 - mae: 900.9602\n",
      "Epoch 11/100\n",
      "54/54 [==============================] - 0s 875us/step - loss: 906.8366 - mae: 906.8366\n",
      "Epoch 12/100\n",
      "54/54 [==============================] - 0s 972us/step - loss: 902.7974 - mae: 902.7974\n",
      "Epoch 13/100\n",
      "54/54 [==============================] - 0s 1ms/step - loss: 897.5031 - mae: 897.5031\n",
      "Epoch 14/100\n",
      "54/54 [==============================] - 0s 999us/step - loss: 887.3989 - mae: 887.3989\n",
      "Epoch 15/100\n",
      "54/54 [==============================] - 0s 1ms/step - loss: 890.8235 - mae: 890.8235\n",
      "Epoch 16/100\n",
      "54/54 [==============================] - 0s 974us/step - loss: 882.8410 - mae: 882.8410\n",
      "Epoch 17/100\n",
      "54/54 [==============================] - 0s 863us/step - loss: 884.1381 - mae: 884.1381\n",
      "Epoch 18/100\n",
      "54/54 [==============================] - 0s 828us/step - loss: 878.2916 - mae: 878.2916\n",
      "Epoch 19/100\n",
      "54/54 [==============================] - 0s 868us/step - loss: 897.5494 - mae: 897.5494\n",
      "Epoch 20/100\n",
      "54/54 [==============================] - 0s 874us/step - loss: 899.3854 - mae: 899.3854\n",
      "Epoch 21/100\n",
      "54/54 [==============================] - 0s 907us/step - loss: 883.7383 - mae: 883.7383\n",
      "Epoch 22/100\n",
      "54/54 [==============================] - 0s 842us/step - loss: 884.8724 - mae: 884.8724\n",
      "Epoch 23/100\n",
      "54/54 [==============================] - 0s 1ms/step - loss: 883.0522 - mae: 883.0522\n",
      "Epoch 24/100\n",
      "54/54 [==============================] - 0s 870us/step - loss: 884.4860 - mae: 884.4860\n",
      "Epoch 25/100\n",
      "54/54 [==============================] - 0s 1ms/step - loss: 876.5582 - mae: 876.5582\n",
      "Epoch 26/100\n",
      "54/54 [==============================] - 0s 990us/step - loss: 891.2159 - mae: 891.2159\n",
      "Epoch 27/100\n",
      "54/54 [==============================] - 0s 1ms/step - loss: 876.3079 - mae: 876.3079\n",
      "Epoch 28/100\n",
      "54/54 [==============================] - 0s 907us/step - loss: 873.3364 - mae: 873.3364\n",
      "Epoch 29/100\n",
      "54/54 [==============================] - 0s 1ms/step - loss: 875.5865 - mae: 875.5865\n",
      "Epoch 30/100\n",
      "54/54 [==============================] - 0s 979us/step - loss: 880.9210 - mae: 880.9210\n",
      "Epoch 31/100\n",
      "54/54 [==============================] - 0s 892us/step - loss: 862.3736 - mae: 862.3736\n",
      "Epoch 32/100\n",
      "54/54 [==============================] - 0s 913us/step - loss: 868.8318 - mae: 868.8318\n",
      "Epoch 33/100\n",
      "54/54 [==============================] - 0s 844us/step - loss: 866.5894 - mae: 866.5894\n",
      "Epoch 34/100\n",
      "54/54 [==============================] - 0s 853us/step - loss: 868.4174 - mae: 868.4174\n",
      "Epoch 35/100\n",
      "54/54 [==============================] - 0s 850us/step - loss: 871.1102 - mae: 871.1102\n",
      "Epoch 36/100\n",
      "54/54 [==============================] - 0s 908us/step - loss: 864.3440 - mae: 864.3440\n",
      "Epoch 37/100\n",
      "54/54 [==============================] - 0s 896us/step - loss: 868.3622 - mae: 868.3622\n",
      "Epoch 38/100\n",
      "54/54 [==============================] - 0s 900us/step - loss: 870.8487 - mae: 870.8487\n",
      "Epoch 39/100\n",
      "54/54 [==============================] - 0s 882us/step - loss: 863.5530 - mae: 863.5530\n",
      "Epoch 40/100\n",
      "54/54 [==============================] - 0s 1ms/step - loss: 871.7140 - mae: 871.7140\n",
      "Epoch 41/100\n",
      "54/54 [==============================] - 0s 871us/step - loss: 858.0723 - mae: 858.0723\n",
      "Epoch 42/100\n",
      "54/54 [==============================] - 0s 877us/step - loss: 849.8889 - mae: 849.8889\n",
      "Epoch 43/100\n",
      "54/54 [==============================] - 0s 888us/step - loss: 863.4597 - mae: 863.4597\n",
      "Epoch 44/100\n",
      "54/54 [==============================] - 0s 965us/step - loss: 853.8674 - mae: 853.8674\n",
      "Epoch 45/100\n",
      "54/54 [==============================] - 0s 890us/step - loss: 853.9758 - mae: 853.9758\n",
      "Epoch 46/100\n",
      "54/54 [==============================] - 0s 862us/step - loss: 856.9183 - mae: 856.9183\n",
      "Epoch 47/100\n",
      "54/54 [==============================] - 0s 856us/step - loss: 857.5490 - mae: 857.5490\n",
      "Epoch 48/100\n",
      "54/54 [==============================] - 0s 895us/step - loss: 875.5732 - mae: 875.5732\n",
      "Epoch 49/100\n",
      "54/54 [==============================] - 0s 925us/step - loss: 859.9114 - mae: 859.9114\n",
      "Epoch 50/100\n",
      "54/54 [==============================] - 0s 888us/step - loss: 867.7800 - mae: 867.7800\n",
      "Epoch 51/100\n",
      "54/54 [==============================] - 0s 912us/step - loss: 855.1014 - mae: 855.1014\n",
      "Epoch 52/100\n",
      "54/54 [==============================] - 0s 852us/step - loss: 852.7352 - mae: 852.7352\n",
      "Epoch 53/100\n",
      "54/54 [==============================] - 0s 862us/step - loss: 859.7740 - mae: 859.7740\n",
      "Epoch 54/100\n",
      "54/54 [==============================] - 0s 881us/step - loss: 853.6677 - mae: 853.6677\n",
      "Epoch 55/100\n",
      "54/54 [==============================] - 0s 856us/step - loss: 859.9310 - mae: 859.9310\n",
      "Epoch 56/100\n",
      "54/54 [==============================] - 0s 850us/step - loss: 868.4128 - mae: 868.4128\n",
      "Epoch 57/100\n",
      "54/54 [==============================] - 0s 908us/step - loss: 855.6414 - mae: 855.6414\n",
      "Epoch 58/100\n",
      "54/54 [==============================] - 0s 1ms/step - loss: 866.5751 - mae: 866.5751\n",
      "Epoch 59/100\n",
      "54/54 [==============================] - 0s 1ms/step - loss: 860.3846 - mae: 860.3846\n",
      "Epoch 60/100\n",
      "54/54 [==============================] - 0s 875us/step - loss: 862.7178 - mae: 862.7178\n",
      "Epoch 61/100\n",
      "54/54 [==============================] - 0s 869us/step - loss: 859.1035 - mae: 859.1035\n",
      "Epoch 62/100\n",
      "54/54 [==============================] - 0s 869us/step - loss: 855.0161 - mae: 855.0161\n",
      "Epoch 63/100\n",
      "54/54 [==============================] - 0s 957us/step - loss: 842.6206 - mae: 842.6206\n",
      "Epoch 64/100\n",
      "54/54 [==============================] - 0s 927us/step - loss: 857.5845 - mae: 857.5845\n",
      "Epoch 65/100\n",
      "54/54 [==============================] - 0s 883us/step - loss: 865.0329 - mae: 865.0329\n",
      "Epoch 66/100\n",
      "54/54 [==============================] - 0s 1ms/step - loss: 862.9122 - mae: 862.9122\n",
      "Epoch 67/100\n",
      "54/54 [==============================] - 0s 886us/step - loss: 863.0636 - mae: 863.0636\n",
      "Epoch 68/100\n",
      "54/54 [==============================] - 0s 897us/step - loss: 852.4393 - mae: 852.4393\n",
      "Epoch 69/100\n",
      "54/54 [==============================] - 0s 898us/step - loss: 856.2089 - mae: 856.2089\n",
      "Epoch 70/100\n",
      "54/54 [==============================] - 0s 899us/step - loss: 858.2794 - mae: 858.2794\n",
      "Epoch 71/100\n",
      "54/54 [==============================] - 0s 960us/step - loss: 852.3170 - mae: 852.3170\n",
      "Epoch 72/100\n",
      "54/54 [==============================] - 0s 1ms/step - loss: 862.2993 - mae: 862.2993\n",
      "Epoch 73/100\n",
      "54/54 [==============================] - 0s 1ms/step - loss: 848.1597 - mae: 848.1596\n",
      "Epoch 74/100\n",
      "54/54 [==============================] - 0s 834us/step - loss: 858.2971 - mae: 858.2971\n",
      "Epoch 75/100\n",
      "54/54 [==============================] - 0s 851us/step - loss: 850.6575 - mae: 850.6575\n",
      "Epoch 76/100\n",
      "54/54 [==============================] - 0s 883us/step - loss: 862.2258 - mae: 862.2258\n",
      "Epoch 77/100\n",
      "54/54 [==============================] - 0s 1ms/step - loss: 850.0083 - mae: 850.0083\n",
      "Epoch 78/100\n",
      "54/54 [==============================] - 0s 1ms/step - loss: 858.5476 - mae: 858.5476\n",
      "Epoch 79/100\n",
      "54/54 [==============================] - 0s 881us/step - loss: 854.5640 - mae: 854.5640\n",
      "Epoch 80/100\n",
      "54/54 [==============================] - 0s 1ms/step - loss: 845.8592 - mae: 845.8592\n",
      "Epoch 81/100\n",
      "54/54 [==============================] - 0s 1ms/step - loss: 853.6819 - mae: 853.6819\n",
      "Epoch 82/100\n",
      "54/54 [==============================] - 0s 1ms/step - loss: 853.0332 - mae: 853.0332\n",
      "Epoch 83/100\n",
      "54/54 [==============================] - 0s 1ms/step - loss: 856.5598 - mae: 856.5598\n",
      "Epoch 84/100\n",
      "54/54 [==============================] - 0s 913us/step - loss: 863.5084 - mae: 863.5084\n",
      "Epoch 85/100\n",
      "54/54 [==============================] - 0s 1ms/step - loss: 861.6186 - mae: 861.6186\n",
      "Epoch 86/100\n",
      "54/54 [==============================] - 0s 1ms/step - loss: 847.1526 - mae: 847.1526\n",
      "Epoch 87/100\n",
      "54/54 [==============================] - 0s 1ms/step - loss: 858.6744 - mae: 858.6744\n",
      "Epoch 88/100\n",
      "54/54 [==============================] - 0s 1ms/step - loss: 862.1986 - mae: 862.1986\n",
      "Epoch 89/100\n",
      "54/54 [==============================] - 0s 1ms/step - loss: 856.7191 - mae: 856.7191\n",
      "Epoch 90/100\n",
      "54/54 [==============================] - 0s 1ms/step - loss: 844.5515 - mae: 844.5515\n",
      "Epoch 91/100\n",
      "54/54 [==============================] - 0s 1ms/step - loss: 854.1884 - mae: 854.1883\n",
      "Epoch 92/100\n",
      "54/54 [==============================] - 0s 1ms/step - loss: 851.6069 - mae: 851.6069\n",
      "Epoch 93/100\n",
      "54/54 [==============================] - 0s 1ms/step - loss: 848.1458 - mae: 848.1458\n",
      "Epoch 94/100\n",
      "54/54 [==============================] - 0s 1ms/step - loss: 843.0242 - mae: 843.0242\n",
      "Epoch 95/100\n",
      "54/54 [==============================] - 0s 1ms/step - loss: 859.0709 - mae: 859.0709\n",
      "Epoch 96/100\n",
      "54/54 [==============================] - 0s 1ms/step - loss: 846.2100 - mae: 846.2100\n",
      "Epoch 97/100\n",
      "54/54 [==============================] - 0s 862us/step - loss: 851.4832 - mae: 851.4832\n",
      "Epoch 98/100\n",
      "54/54 [==============================] - 0s 1ms/step - loss: 852.8487 - mae: 852.8487\n",
      "Epoch 99/100\n",
      "54/54 [==============================] - 0s 1ms/step - loss: 856.1661 - mae: 856.1661\n",
      "Epoch 100/100\n",
      "54/54 [==============================] - 0s 1ms/step - loss: 856.1928 - mae: 856.1928\n"
     ]
    },
    {
     "data": {
      "text/plain": [
       "<tensorflow.python.keras.callbacks.History at 0x7fbd389b5e48>"
      ]
     },
     "execution_count": 145,
     "metadata": {
      "tags": []
     },
     "output_type": "execute_result"
    }
   ],
   "source": [
    "model.fit(X_train_scaled, train_Y, epochs = 100, batch_size = 20)"
   ]
  },
  {
   "cell_type": "code",
   "execution_count": 146,
   "metadata": {
    "colab": {
     "base_uri": "https://localhost:8080/"
    },
    "id": "JVoFt_2Smtu0",
    "outputId": "941b8293-d7a8-4176-e1be-e3a4f6bccb29"
   },
   "outputs": [
    {
     "name": "stdout",
     "output_type": "stream",
     "text": [
      "12/12 [==============================] - 0s 1ms/step - loss: 942.1901 - mae: 942.1901\n"
     ]
    },
    {
     "data": {
      "text/plain": [
       "[942.1901245117188, 942.1901245117188]"
      ]
     },
     "execution_count": 146,
     "metadata": {
      "tags": []
     },
     "output_type": "execute_result"
    }
   ],
   "source": [
    "model.evaluate(X_test_scaled, test_Y)"
   ]
  },
  {
   "cell_type": "code",
   "execution_count": 147,
   "metadata": {
    "colab": {
     "base_uri": "https://localhost:8080/"
    },
    "id": "QVtv2_edmtu0",
    "outputId": "4cc9dffe-1bab-46f1-d3eb-9acb797a03fe"
   },
   "outputs": [
    {
     "name": "stdout",
     "output_type": "stream",
     "text": [
      "Train score: 0.89\n",
      "Test score: 0.86\n"
     ]
    }
   ],
   "source": [
    "from sklearn.metrics import r2_score, recall_score, precision_score\n",
    "\n",
    "y_train_predict = model.predict(X_train_scaled)\n",
    "y_test_predict = model.predict(X_test_scaled)\n",
    "\n",
    "print('Train score: {:.2f}'.format(r2_score(train_Y, y_train_predict)))\n",
    "print('Test score: {:.2f}'.format(r2_score(test_Y, y_test_predict)))"
   ]
  },
  {
   "cell_type": "markdown",
   "metadata": {
    "id": "LyZA-UHRmtu0"
   },
   "source": [
    "#### 2) Deep Learning on reduced datasets (with PCA)"
   ]
  },
  {
   "cell_type": "code",
   "execution_count": 149,
   "metadata": {
    "id": "lWnQRu2Wmtu0"
   },
   "outputs": [],
   "source": [
    "# create model\n",
    "model = Sequential()\n",
    "model.add(Dense(20, input_dim=37, kernel_initializer='normal', activation='relu'))\n",
    "model.add(Dense(1, kernel_initializer='normal'))"
   ]
  },
  {
   "cell_type": "code",
   "execution_count": 150,
   "metadata": {
    "id": "vKjieEgNmtu0"
   },
   "outputs": [],
   "source": [
    "# Compile model\n",
    "model.compile(loss='mae', optimizer='sgd' , metrics = ['mae'])"
   ]
  },
  {
   "cell_type": "code",
   "execution_count": 151,
   "metadata": {
    "colab": {
     "base_uri": "https://localhost:8080/"
    },
    "id": "d3RRqlfOmtu0",
    "outputId": "14264762-5aa8-4c65-b727-38e5a72c1a75"
   },
   "outputs": [
    {
     "name": "stdout",
     "output_type": "stream",
     "text": [
      "Epoch 1/100\n",
      "54/54 [==============================] - 0s 865us/step - loss: 10801.1953 - mae: 10801.1953\n",
      "Epoch 2/100\n",
      "54/54 [==============================] - 0s 1ms/step - loss: 10800.5947 - mae: 10800.5947\n",
      "Epoch 3/100\n",
      "54/54 [==============================] - 0s 1ms/step - loss: 10799.9424 - mae: 10799.9424\n",
      "Epoch 4/100\n",
      "54/54 [==============================] - 0s 861us/step - loss: 10799.1445 - mae: 10799.1436\n",
      "Epoch 5/100\n",
      "54/54 [==============================] - 0s 893us/step - loss: 10797.9443 - mae: 10797.9443\n",
      "Epoch 6/100\n",
      "54/54 [==============================] - 0s 875us/step - loss: 10795.6074 - mae: 10795.6074\n",
      "Epoch 7/100\n",
      "54/54 [==============================] - 0s 928us/step - loss: 10789.9609 - mae: 10789.9609\n",
      "Epoch 8/100\n",
      "54/54 [==============================] - 0s 1ms/step - loss: 10774.6279 - mae: 10774.6279\n",
      "Epoch 9/100\n",
      "54/54 [==============================] - 0s 907us/step - loss: 10731.0918 - mae: 10731.0918\n",
      "Epoch 10/100\n",
      "54/54 [==============================] - 0s 838us/step - loss: 10604.6416 - mae: 10604.6416\n",
      "Epoch 11/100\n",
      "54/54 [==============================] - 0s 841us/step - loss: 10235.1133 - mae: 10235.1133\n",
      "Epoch 12/100\n",
      "54/54 [==============================] - 0s 863us/step - loss: 9154.9375 - mae: 9154.9375\n",
      "Epoch 13/100\n",
      "54/54 [==============================] - 0s 1ms/step - loss: 6032.2910 - mae: 6032.2910\n",
      "Epoch 14/100\n",
      "54/54 [==============================] - 0s 869us/step - loss: 2159.3093 - mae: 2159.3093\n",
      "Epoch 15/100\n",
      "54/54 [==============================] - 0s 823us/step - loss: 1584.7605 - mae: 1584.7605\n",
      "Epoch 16/100\n",
      "54/54 [==============================] - 0s 823us/step - loss: 1434.6428 - mae: 1434.6428\n",
      "Epoch 17/100\n",
      "54/54 [==============================] - 0s 862us/step - loss: 1337.1051 - mae: 1337.1051\n",
      "Epoch 18/100\n",
      "54/54 [==============================] - 0s 893us/step - loss: 1276.7463 - mae: 1276.7463\n",
      "Epoch 19/100\n",
      "54/54 [==============================] - 0s 837us/step - loss: 1232.0457 - mae: 1232.0457\n",
      "Epoch 20/100\n",
      "54/54 [==============================] - 0s 824us/step - loss: 1205.9218 - mae: 1205.9218\n",
      "Epoch 21/100\n",
      "54/54 [==============================] - 0s 926us/step - loss: 1186.2118 - mae: 1186.2118\n",
      "Epoch 22/100\n",
      "54/54 [==============================] - 0s 1ms/step - loss: 1171.4755 - mae: 1171.4755\n",
      "Epoch 23/100\n",
      "54/54 [==============================] - 0s 939us/step - loss: 1167.1914 - mae: 1167.1914\n",
      "Epoch 24/100\n",
      "54/54 [==============================] - 0s 1ms/step - loss: 1167.3193 - mae: 1167.3193\n",
      "Epoch 25/100\n",
      "54/54 [==============================] - 0s 888us/step - loss: 1161.1050 - mae: 1161.1050\n",
      "Epoch 26/100\n",
      "54/54 [==============================] - 0s 830us/step - loss: 1159.0264 - mae: 1159.0264\n",
      "Epoch 27/100\n",
      "54/54 [==============================] - 0s 864us/step - loss: 1155.0649 - mae: 1155.0649\n",
      "Epoch 28/100\n",
      "54/54 [==============================] - 0s 1ms/step - loss: 1157.1226 - mae: 1157.1226\n",
      "Epoch 29/100\n",
      "54/54 [==============================] - 0s 878us/step - loss: 1150.2784 - mae: 1150.2784\n",
      "Epoch 30/100\n",
      "54/54 [==============================] - 0s 830us/step - loss: 1158.7477 - mae: 1158.7477\n",
      "Epoch 31/100\n",
      "54/54 [==============================] - 0s 876us/step - loss: 1156.1831 - mae: 1156.1831\n",
      "Epoch 32/100\n",
      "54/54 [==============================] - 0s 1ms/step - loss: 1153.3566 - mae: 1153.3566\n",
      "Epoch 33/100\n",
      "54/54 [==============================] - 0s 1ms/step - loss: 1153.1755 - mae: 1153.1755\n",
      "Epoch 34/100\n",
      "54/54 [==============================] - 0s 1ms/step - loss: 1150.4585 - mae: 1150.4585\n",
      "Epoch 35/100\n",
      "54/54 [==============================] - 0s 1ms/step - loss: 1154.5133 - mae: 1154.5133\n",
      "Epoch 36/100\n",
      "54/54 [==============================] - 0s 1ms/step - loss: 1148.1534 - mae: 1148.1534\n",
      "Epoch 37/100\n",
      "54/54 [==============================] - 0s 1ms/step - loss: 1152.2299 - mae: 1152.2299\n",
      "Epoch 38/100\n",
      "54/54 [==============================] - 0s 1ms/step - loss: 1153.0272 - mae: 1153.0272\n",
      "Epoch 39/100\n",
      "54/54 [==============================] - 0s 1ms/step - loss: 1148.1377 - mae: 1148.1377\n",
      "Epoch 40/100\n",
      "54/54 [==============================] - 0s 915us/step - loss: 1153.2063 - mae: 1153.2063\n",
      "Epoch 41/100\n",
      "54/54 [==============================] - 0s 820us/step - loss: 1152.1238 - mae: 1152.1238\n",
      "Epoch 42/100\n",
      "54/54 [==============================] - 0s 1ms/step - loss: 1154.8403 - mae: 1154.8403\n",
      "Epoch 43/100\n",
      "54/54 [==============================] - 0s 885us/step - loss: 1150.7845 - mae: 1150.7845\n",
      "Epoch 44/100\n",
      "54/54 [==============================] - 0s 840us/step - loss: 1156.7421 - mae: 1156.7421\n",
      "Epoch 45/100\n",
      "54/54 [==============================] - 0s 901us/step - loss: 1148.0609 - mae: 1148.0609\n",
      "Epoch 46/100\n",
      "54/54 [==============================] - 0s 962us/step - loss: 1151.4644 - mae: 1151.4644\n",
      "Epoch 47/100\n",
      "54/54 [==============================] - 0s 858us/step - loss: 1153.1084 - mae: 1153.1084\n",
      "Epoch 48/100\n",
      "54/54 [==============================] - 0s 853us/step - loss: 1150.2511 - mae: 1150.2511\n",
      "Epoch 49/100\n",
      "54/54 [==============================] - 0s 958us/step - loss: 1155.3009 - mae: 1155.3009\n",
      "Epoch 50/100\n",
      "54/54 [==============================] - 0s 841us/step - loss: 1151.2260 - mae: 1151.2260\n",
      "Epoch 51/100\n",
      "54/54 [==============================] - 0s 832us/step - loss: 1156.2380 - mae: 1156.2380\n",
      "Epoch 52/100\n",
      "54/54 [==============================] - 0s 848us/step - loss: 1155.4968 - mae: 1155.4968\n",
      "Epoch 53/100\n",
      "54/54 [==============================] - 0s 1ms/step - loss: 1153.7432 - mae: 1153.7432\n",
      "Epoch 54/100\n",
      "54/54 [==============================] - 0s 894us/step - loss: 1155.0087 - mae: 1155.0087\n",
      "Epoch 55/100\n",
      "54/54 [==============================] - 0s 865us/step - loss: 1155.4866 - mae: 1155.4866\n",
      "Epoch 56/100\n",
      "54/54 [==============================] - 0s 896us/step - loss: 1150.2585 - mae: 1150.2585\n",
      "Epoch 57/100\n",
      "54/54 [==============================] - 0s 1ms/step - loss: 1150.5731 - mae: 1150.5731\n",
      "Epoch 58/100\n",
      "54/54 [==============================] - 0s 866us/step - loss: 1154.3956 - mae: 1154.3956\n",
      "Epoch 59/100\n",
      "54/54 [==============================] - 0s 841us/step - loss: 1151.6741 - mae: 1151.6741\n",
      "Epoch 60/100\n",
      "54/54 [==============================] - 0s 842us/step - loss: 1151.2432 - mae: 1151.2430\n",
      "Epoch 61/100\n",
      "54/54 [==============================] - 0s 912us/step - loss: 1151.9749 - mae: 1151.9749\n",
      "Epoch 62/100\n",
      "54/54 [==============================] - 0s 905us/step - loss: 1147.8009 - mae: 1147.8009\n",
      "Epoch 63/100\n",
      "54/54 [==============================] - 0s 1ms/step - loss: 1152.1008 - mae: 1152.1008\n",
      "Epoch 64/100\n",
      "54/54 [==============================] - 0s 1ms/step - loss: 1148.1718 - mae: 1148.1718\n",
      "Epoch 65/100\n",
      "54/54 [==============================] - 0s 876us/step - loss: 1152.2733 - mae: 1152.2733\n",
      "Epoch 66/100\n",
      "54/54 [==============================] - 0s 991us/step - loss: 1154.0161 - mae: 1154.0161\n",
      "Epoch 67/100\n",
      "54/54 [==============================] - 0s 911us/step - loss: 1152.6990 - mae: 1152.6990\n",
      "Epoch 68/100\n",
      "54/54 [==============================] - 0s 887us/step - loss: 1148.7939 - mae: 1148.7939\n",
      "Epoch 69/100\n",
      "54/54 [==============================] - 0s 853us/step - loss: 1151.0721 - mae: 1151.0721\n",
      "Epoch 70/100\n",
      "54/54 [==============================] - 0s 817us/step - loss: 1152.1788 - mae: 1152.1790\n",
      "Epoch 71/100\n",
      "54/54 [==============================] - 0s 890us/step - loss: 1150.7617 - mae: 1150.7617\n",
      "Epoch 72/100\n",
      "54/54 [==============================] - 0s 894us/step - loss: 1151.6368 - mae: 1151.6368\n",
      "Epoch 73/100\n",
      "54/54 [==============================] - 0s 870us/step - loss: 1156.6526 - mae: 1156.6526\n",
      "Epoch 74/100\n",
      "54/54 [==============================] - 0s 1ms/step - loss: 1150.1633 - mae: 1150.1633\n",
      "Epoch 75/100\n",
      "54/54 [==============================] - 0s 1ms/step - loss: 1153.8234 - mae: 1153.8234\n",
      "Epoch 76/100\n",
      "54/54 [==============================] - 0s 901us/step - loss: 1152.0591 - mae: 1152.0591\n",
      "Epoch 77/100\n",
      "54/54 [==============================] - 0s 1ms/step - loss: 1155.0560 - mae: 1155.0560\n",
      "Epoch 78/100\n",
      "54/54 [==============================] - 0s 1ms/step - loss: 1149.4349 - mae: 1149.4349\n",
      "Epoch 79/100\n",
      "54/54 [==============================] - 0s 863us/step - loss: 1156.4332 - mae: 1156.4332\n",
      "Epoch 80/100\n",
      "54/54 [==============================] - 0s 896us/step - loss: 1153.1459 - mae: 1153.1459\n",
      "Epoch 81/100\n",
      "54/54 [==============================] - 0s 892us/step - loss: 1151.8523 - mae: 1151.8523\n",
      "Epoch 82/100\n",
      "54/54 [==============================] - 0s 892us/step - loss: 1156.2725 - mae: 1156.2725\n",
      "Epoch 83/100\n",
      "54/54 [==============================] - 0s 894us/step - loss: 1149.9991 - mae: 1149.9991\n",
      "Epoch 84/100\n",
      "54/54 [==============================] - 0s 1ms/step - loss: 1151.2974 - mae: 1151.2974\n",
      "Epoch 85/100\n",
      "54/54 [==============================] - 0s 1ms/step - loss: 1146.6653 - mae: 1146.6653\n",
      "Epoch 86/100\n",
      "54/54 [==============================] - 0s 895us/step - loss: 1151.8846 - mae: 1151.8846\n",
      "Epoch 87/100\n",
      "54/54 [==============================] - 0s 1ms/step - loss: 1152.6801 - mae: 1152.6801\n",
      "Epoch 88/100\n",
      "54/54 [==============================] - 0s 834us/step - loss: 1154.0564 - mae: 1154.0564\n",
      "Epoch 89/100\n",
      "54/54 [==============================] - 0s 839us/step - loss: 1153.0778 - mae: 1153.0778\n",
      "Epoch 90/100\n",
      "54/54 [==============================] - 0s 865us/step - loss: 1154.2798 - mae: 1154.2798\n",
      "Epoch 91/100\n",
      "54/54 [==============================] - 0s 913us/step - loss: 1149.3918 - mae: 1149.3918\n",
      "Epoch 92/100\n",
      "54/54 [==============================] - 0s 896us/step - loss: 1154.4607 - mae: 1154.4607\n",
      "Epoch 93/100\n",
      "54/54 [==============================] - 0s 1ms/step - loss: 1152.3115 - mae: 1152.3115\n",
      "Epoch 94/100\n",
      "54/54 [==============================] - 0s 884us/step - loss: 1150.3478 - mae: 1150.3478\n",
      "Epoch 95/100\n",
      "54/54 [==============================] - 0s 957us/step - loss: 1151.2173 - mae: 1151.2173\n",
      "Epoch 96/100\n",
      "54/54 [==============================] - 0s 1ms/step - loss: 1152.1604 - mae: 1152.1604\n",
      "Epoch 97/100\n",
      "54/54 [==============================] - 0s 877us/step - loss: 1154.1039 - mae: 1154.1039\n",
      "Epoch 98/100\n",
      "54/54 [==============================] - 0s 843us/step - loss: 1148.0364 - mae: 1148.0365\n",
      "Epoch 99/100\n",
      "54/54 [==============================] - 0s 1ms/step - loss: 1149.0696 - mae: 1149.0696\n",
      "Epoch 100/100\n",
      "54/54 [==============================] - 0s 888us/step - loss: 1160.0353 - mae: 1160.0353\n"
     ]
    },
    {
     "data": {
      "text/plain": [
       "<tensorflow.python.keras.callbacks.History at 0x7fbd36886668>"
      ]
     },
     "execution_count": 151,
     "metadata": {
      "tags": []
     },
     "output_type": "execute_result"
    }
   ],
   "source": [
    "model.fit(X_train_pca, train_Y, epochs = 100, batch_size = 20)"
   ]
  },
  {
   "cell_type": "code",
   "execution_count": 152,
   "metadata": {
    "colab": {
     "base_uri": "https://localhost:8080/"
    },
    "id": "T2MJltp2mtu1",
    "outputId": "2b11fbb6-9247-4995-d98a-1fdf54d13ef4"
   },
   "outputs": [
    {
     "name": "stdout",
     "output_type": "stream",
     "text": [
      "12/12 [==============================] - 0s 1ms/step - loss: 1161.5447 - mae: 1161.5447\n"
     ]
    },
    {
     "data": {
      "text/plain": [
       "[1161.544677734375, 1161.544677734375]"
      ]
     },
     "execution_count": 152,
     "metadata": {
      "tags": []
     },
     "output_type": "execute_result"
    }
   ],
   "source": [
    "model.evaluate(X_test_pca, test_Y)"
   ]
  },
  {
   "cell_type": "code",
   "execution_count": 153,
   "metadata": {
    "colab": {
     "base_uri": "https://localhost:8080/"
    },
    "id": "4Zz1qcnwmtu1",
    "outputId": "e0983f99-1589-46cc-8c4c-3e06c05d8693"
   },
   "outputs": [
    {
     "name": "stdout",
     "output_type": "stream",
     "text": [
      "Train score: 0.79\n",
      "Test score: 0.73\n"
     ]
    }
   ],
   "source": [
    "from sklearn.metrics import r2_score, recall_score, precision_score\n",
    "\n",
    "y_train_predict = model.predict(X_train_pca)\n",
    "y_test_predict = model.predict(X_test_pca)\n",
    "\n",
    "print('Train score: {:.2f}'.format(r2_score(train_Y, y_train_predict)))\n",
    "print('Test score: {:.2f}'.format(r2_score(test_Y, y_test_predict)))"
   ]
  },
  {
   "cell_type": "markdown",
   "metadata": {},
   "source": [
    "#### We can clearly see from above that the Train Score = 0.89 and Test Score = 0.86 values for Deep Learning without PCA are higher than the ones with PCA (Train Score = 0.79 and Test Score = 0.73). Hence, for Deep Learning, PCA is not enhancing the model."
   ]
  },
  {
   "cell_type": "markdown",
   "metadata": {
    "id": "oSkiWqxjmtu1"
   },
   "source": [
    "## <font color='green'> Conclusion - PCA Regression Models"
   ]
  },
  {
   "cell_type": "markdown",
   "metadata": {
    "id": "i4rT98W2mtu1"
   },
   "source": [
    "### 1) Displaying the combined results of all the models"
   ]
  },
  {
   "cell_type": "code",
   "execution_count": 154,
   "metadata": {
    "id": "8F74zI1mmtu1"
   },
   "outputs": [],
   "source": [
    "import pandas as pd\n",
    "\n",
    "data = {'KNN Reg': [0.8770,0.7541,0.8414,0.7127],\n",
    "        'Linear Reg': [0.9127,0.8312,0.8016,0.7215],\n",
    "        'Ridge Reg': [0.9122,0.8658,0.8001, 0.7304],\n",
    "        'Lasso Reg': [0.9125,0.8523,0.7998, 0.7261],\n",
    "        'Poly Reg': [1,0.7274,0.8016, 0.7215],\n",
    "        'Linear SVM': [0.6676, 0.6174,0.7047, 0.6910],\n",
    "        'Linear Kernel': [0.8711,0.8408, 0.7857, 0.7416],\n",
    "        'Poly Kernel': [-0.01244,0.01290,-0.0467, -0.0231],\n",
    "        'RBF Kernel': [0.4023,0.4036,0.4264, 0.4274],\n",
    "        'DT Regressor': [0.8031,0.7256, 0.5252, 0.3580],\n",
    "        'SGD Regressor': [0.9073,0.8552,0.8009, 0.7195],\n",
    "        }\n",
    "\n",
    "df = pd.DataFrame (data, columns = ['KNN Reg','Linear Reg','Ridge Reg','Lasso Reg','Poly Reg','Linear SVM','Linear Kernel','Poly Kernel','RBF Kernel','DT Regressor','SGD Regressor'],\n",
    "                  index=['Train Score without PCA', 'Test Score without PCA','Train Score with PCA','Test Score with PCA'])"
   ]
  },
  {
   "cell_type": "code",
   "execution_count": 155,
   "metadata": {
    "colab": {
     "base_uri": "https://localhost:8080/",
     "height": 227
    },
    "id": "aFOOwfz2mtu1",
    "outputId": "ae318655-09e1-4aa2-ac57-b85dcd7f9409"
   },
   "outputs": [
    {
     "data": {
      "text/html": [
       "<div>\n",
       "<style scoped>\n",
       "    .dataframe tbody tr th:only-of-type {\n",
       "        vertical-align: middle;\n",
       "    }\n",
       "\n",
       "    .dataframe tbody tr th {\n",
       "        vertical-align: top;\n",
       "    }\n",
       "\n",
       "    .dataframe thead th {\n",
       "        text-align: right;\n",
       "    }\n",
       "</style>\n",
       "<table border=\"1\" class=\"dataframe\">\n",
       "  <thead>\n",
       "    <tr style=\"text-align: right;\">\n",
       "      <th></th>\n",
       "      <th>KNN Reg</th>\n",
       "      <th>Linear Reg</th>\n",
       "      <th>Ridge Reg</th>\n",
       "      <th>Lasso Reg</th>\n",
       "      <th>Poly Reg</th>\n",
       "      <th>Linear SVM</th>\n",
       "      <th>Linear Kernel</th>\n",
       "      <th>Poly Kernel</th>\n",
       "      <th>RBF Kernel</th>\n",
       "      <th>DT Regressor</th>\n",
       "      <th>SGD Regressor</th>\n",
       "    </tr>\n",
       "  </thead>\n",
       "  <tbody>\n",
       "    <tr>\n",
       "      <th>Train Score without PCA</th>\n",
       "      <td>0.8770</td>\n",
       "      <td>0.9127</td>\n",
       "      <td>0.9122</td>\n",
       "      <td>0.9125</td>\n",
       "      <td>1.0000</td>\n",
       "      <td>0.6676</td>\n",
       "      <td>0.8711</td>\n",
       "      <td>-0.01244</td>\n",
       "      <td>0.4023</td>\n",
       "      <td>0.8031</td>\n",
       "      <td>0.9073</td>\n",
       "    </tr>\n",
       "    <tr>\n",
       "      <th>Test Score without PCA</th>\n",
       "      <td>0.7541</td>\n",
       "      <td>0.8312</td>\n",
       "      <td>0.8658</td>\n",
       "      <td>0.8523</td>\n",
       "      <td>0.7274</td>\n",
       "      <td>0.6174</td>\n",
       "      <td>0.8408</td>\n",
       "      <td>0.01290</td>\n",
       "      <td>0.4036</td>\n",
       "      <td>0.7256</td>\n",
       "      <td>0.8552</td>\n",
       "    </tr>\n",
       "    <tr>\n",
       "      <th>Train Score with PCA</th>\n",
       "      <td>0.8414</td>\n",
       "      <td>0.8016</td>\n",
       "      <td>0.8001</td>\n",
       "      <td>0.7998</td>\n",
       "      <td>0.8016</td>\n",
       "      <td>0.7047</td>\n",
       "      <td>0.7857</td>\n",
       "      <td>-0.04670</td>\n",
       "      <td>0.4264</td>\n",
       "      <td>0.5252</td>\n",
       "      <td>0.8009</td>\n",
       "    </tr>\n",
       "    <tr>\n",
       "      <th>Test Score with PCA</th>\n",
       "      <td>0.7127</td>\n",
       "      <td>0.7215</td>\n",
       "      <td>0.7304</td>\n",
       "      <td>0.7261</td>\n",
       "      <td>0.7215</td>\n",
       "      <td>0.6910</td>\n",
       "      <td>0.7416</td>\n",
       "      <td>-0.02310</td>\n",
       "      <td>0.4274</td>\n",
       "      <td>0.3580</td>\n",
       "      <td>0.7195</td>\n",
       "    </tr>\n",
       "  </tbody>\n",
       "</table>\n",
       "</div>"
      ],
      "text/plain": [
       "                         KNN Reg  Linear Reg  ...  DT Regressor  SGD Regressor\n",
       "Train Score without PCA   0.8770      0.9127  ...        0.8031         0.9073\n",
       "Test Score without PCA    0.7541      0.8312  ...        0.7256         0.8552\n",
       "Train Score with PCA      0.8414      0.8016  ...        0.5252         0.8009\n",
       "Test Score with PCA       0.7127      0.7215  ...        0.3580         0.7195\n",
       "\n",
       "[4 rows x 11 columns]"
      ]
     },
     "metadata": {
      "tags": []
     },
     "output_type": "display_data"
    }
   ],
   "source": [
    "from IPython.display import display\n",
    "display(df)"
   ]
  },
  {
   "cell_type": "markdown",
   "metadata": {
    "id": "KpCEm6hxmtu1"
   },
   "source": [
    "#### We can clearly see in the above table that after PCA all the train and test scores have reduced substantially. Before PCA we can see that Linear Regression, Ridge, Lasso and SGD Regressor were giving reasonably good scores for Test and Train datasets but after PCA the scores have reduced drastically. \n",
    "\n",
    "#### As we see in the table above, PCA doesn't help to get better results. The running time of the algorithms reduces but even then there is no improvement in the performance of the models if we reduce the dimension of the dataset. Since we don't get an improved result from PCA we conclude that, <mark style=\"background-color: lightblue\">for the ToyotaCorolla dataset all the features are important for accurate results. </mark>"
   ]
  }
 ],
 "metadata": {
  "colab": {
   "collapsed_sections": [
    "H2Ro7tpHmtuj",
    "kHV_KV2qmtuk",
    "JH3wBssQmtuk",
    "qEFZ2pbemtuk",
    "uZ5zSRCgmtuk",
    "oVp2bfUQmtuk",
    "HTh6yF3Mmtul",
    "op_4PQsAmtul",
    "amYQ9R8Bmtul",
    "xg9qavjymtul",
    "MPxiuADqmtul",
    "TJQjJQ5Dmtul",
    "gOKSiseomtul",
    "fOkJafCHmtum",
    "rM3WBWW8mtum",
    "SsELay2Ymtum",
    "KjevuHr6mtur",
    "giw9bqTWmtur",
    "M9o8-pT8mtur",
    "QIwWM3Lxmtur",
    "e7AD_6Lwmtuu",
    "aHnrFPL8mtuv",
    "QiEmlr8emtuv",
    "TwQmU7f2mtuv",
    "EOfvfV9Bmtuv",
    "jrpOvJ6zmtuw",
    "ezxZLbe3mtuw",
    "RC3o_Jsimtux",
    "vLcK8BpWmtux",
    "UI20X3hEmtuy",
    "nRP0nanNmtuz",
    "03tOMGUpmtu0",
    "oppK7_Fzmtu0",
    "KpCEm6hxmtu1"
   ],
   "name": "Project2_Regression_Group13_Pai_Pereira.ipynb",
   "provenance": []
  },
  "kernelspec": {
   "display_name": "Python 3",
   "language": "python",
   "name": "python3"
  },
  "language_info": {
   "codemirror_mode": {
    "name": "ipython",
    "version": 3
   },
   "file_extension": ".py",
   "mimetype": "text/x-python",
   "name": "python",
   "nbconvert_exporter": "python",
   "pygments_lexer": "ipython3",
   "version": "3.8.5"
  }
 },
 "nbformat": 4,
 "nbformat_minor": 4
}
