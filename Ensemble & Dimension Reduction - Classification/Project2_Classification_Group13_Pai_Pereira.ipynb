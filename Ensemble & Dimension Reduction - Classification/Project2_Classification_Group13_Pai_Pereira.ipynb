{
 "cells": [
  {
   "cell_type": "markdown",
   "metadata": {
    "id": "PKQHnHe_L39n"
   },
   "source": [
    "# <font color='blue'> Project 2 - Classification"
   ]
  },
  {
   "cell_type": "markdown",
   "metadata": {
    "id": "eWF2SODJL39n"
   },
   "source": [
    "### Group Members:\n",
    "#### Femina Martin Pereira - FXP190002\n",
    "#### Divya Deepak Pai - DXP190009"
   ]
  },
  {
   "cell_type": "markdown",
   "metadata": {
    "id": "StY1vD3YL39n"
   },
   "source": [
    "### Dataset Description:    \n",
    "It is a Bank Marketing data set. The data is related with direct marketing campaigns of a Portuguese banking institution. The marketing campaigns were based on phone calls. Often, more than one contact to the same client was required, in order to access if the product (bank term deposit) would be (or not) subscribed. \n",
    "\n",
    "The dataset has 4521 instances and 18 columns.\n",
    "\n",
    "### Goal:\n",
    "The classification goal is to predict if the client will subscribe a term deposit - yes or no (Column y)."
   ]
  },
  {
   "cell_type": "code",
   "execution_count": null,
   "metadata": {
    "id": "2x1_V73QL39n"
   },
   "outputs": [],
   "source": [
    "import numpy as np\n",
    "import pandas as pd\n",
    "import matplotlib.pyplot as plt\n",
    "import warnings\n",
    "warnings.filterwarnings('ignore')"
   ]
  },
  {
   "cell_type": "markdown",
   "metadata": {
    "id": "zs4Nmkn5L39o"
   },
   "source": [
    "### Importing the Dataset used in Project 1 (with Missing Values)"
   ]
  },
  {
   "cell_type": "code",
   "execution_count": null,
   "metadata": {
    "id": "jeqoDO-PL39o"
   },
   "outputs": [],
   "source": [
    "df = pd.read_csv('bank_marketing_missing.csv')"
   ]
  },
  {
   "cell_type": "code",
   "execution_count": null,
   "metadata": {
    "colab": {
     "base_uri": "https://localhost:8080/",
     "height": 226
    },
    "id": "jCBJcxTDL39o",
    "outputId": "2001a5e3-0213-471a-c027-0e795f5cb9e7"
   },
   "outputs": [
    {
     "data": {
      "text/html": [
       "<div>\n",
       "<style scoped>\n",
       "    .dataframe tbody tr th:only-of-type {\n",
       "        vertical-align: middle;\n",
       "    }\n",
       "\n",
       "    .dataframe tbody tr th {\n",
       "        vertical-align: top;\n",
       "    }\n",
       "\n",
       "    .dataframe thead th {\n",
       "        text-align: right;\n",
       "    }\n",
       "</style>\n",
       "<table border=\"1\" class=\"dataframe\">\n",
       "  <thead>\n",
       "    <tr style=\"text-align: right;\">\n",
       "      <th></th>\n",
       "      <th>ID</th>\n",
       "      <th>age</th>\n",
       "      <th>job</th>\n",
       "      <th>marital</th>\n",
       "      <th>education</th>\n",
       "      <th>default</th>\n",
       "      <th>balance</th>\n",
       "      <th>housing</th>\n",
       "      <th>loan</th>\n",
       "      <th>contact</th>\n",
       "      <th>day</th>\n",
       "      <th>month</th>\n",
       "      <th>duration</th>\n",
       "      <th>campaign</th>\n",
       "      <th>pdays</th>\n",
       "      <th>previous</th>\n",
       "      <th>poutcome</th>\n",
       "      <th>y</th>\n",
       "    </tr>\n",
       "  </thead>\n",
       "  <tbody>\n",
       "    <tr>\n",
       "      <th>0</th>\n",
       "      <td>1</td>\n",
       "      <td>30.0</td>\n",
       "      <td>NaN</td>\n",
       "      <td>married</td>\n",
       "      <td>primary</td>\n",
       "      <td>no</td>\n",
       "      <td>1787</td>\n",
       "      <td>no</td>\n",
       "      <td>no</td>\n",
       "      <td>cellular</td>\n",
       "      <td>19</td>\n",
       "      <td>oct</td>\n",
       "      <td>79</td>\n",
       "      <td>1</td>\n",
       "      <td>-1</td>\n",
       "      <td>0</td>\n",
       "      <td>unknown</td>\n",
       "      <td>no</td>\n",
       "    </tr>\n",
       "    <tr>\n",
       "      <th>1</th>\n",
       "      <td>2</td>\n",
       "      <td>33.0</td>\n",
       "      <td>services</td>\n",
       "      <td>married</td>\n",
       "      <td>secondary</td>\n",
       "      <td>no</td>\n",
       "      <td>4789</td>\n",
       "      <td>yes</td>\n",
       "      <td>yes</td>\n",
       "      <td>cellular</td>\n",
       "      <td>11</td>\n",
       "      <td>may</td>\n",
       "      <td>220</td>\n",
       "      <td>1</td>\n",
       "      <td>339</td>\n",
       "      <td>4</td>\n",
       "      <td>failure</td>\n",
       "      <td>no</td>\n",
       "    </tr>\n",
       "    <tr>\n",
       "      <th>2</th>\n",
       "      <td>3</td>\n",
       "      <td>35.0</td>\n",
       "      <td>management</td>\n",
       "      <td>single</td>\n",
       "      <td>tertiary</td>\n",
       "      <td>no</td>\n",
       "      <td>1350</td>\n",
       "      <td>yes</td>\n",
       "      <td>no</td>\n",
       "      <td>cellular</td>\n",
       "      <td>16</td>\n",
       "      <td>apr</td>\n",
       "      <td>185</td>\n",
       "      <td>1</td>\n",
       "      <td>330</td>\n",
       "      <td>1</td>\n",
       "      <td>failure</td>\n",
       "      <td>no</td>\n",
       "    </tr>\n",
       "    <tr>\n",
       "      <th>3</th>\n",
       "      <td>4</td>\n",
       "      <td>30.0</td>\n",
       "      <td>management</td>\n",
       "      <td>NaN</td>\n",
       "      <td>tertiary</td>\n",
       "      <td>no</td>\n",
       "      <td>1476</td>\n",
       "      <td>yes</td>\n",
       "      <td>yes</td>\n",
       "      <td>unknown</td>\n",
       "      <td>3</td>\n",
       "      <td>jun</td>\n",
       "      <td>199</td>\n",
       "      <td>4</td>\n",
       "      <td>-1</td>\n",
       "      <td>0</td>\n",
       "      <td>unknown</td>\n",
       "      <td>no</td>\n",
       "    </tr>\n",
       "    <tr>\n",
       "      <th>4</th>\n",
       "      <td>5</td>\n",
       "      <td>59.0</td>\n",
       "      <td>blue-collar</td>\n",
       "      <td>NaN</td>\n",
       "      <td>secondary</td>\n",
       "      <td>no</td>\n",
       "      <td>0</td>\n",
       "      <td>yes</td>\n",
       "      <td>no</td>\n",
       "      <td>unknown</td>\n",
       "      <td>5</td>\n",
       "      <td>may</td>\n",
       "      <td>226</td>\n",
       "      <td>1</td>\n",
       "      <td>-1</td>\n",
       "      <td>0</td>\n",
       "      <td>unknown</td>\n",
       "      <td>no</td>\n",
       "    </tr>\n",
       "  </tbody>\n",
       "</table>\n",
       "</div>"
      ],
      "text/plain": [
       "   ID   age          job  marital  ... pdays previous  poutcome   y\n",
       "0   1  30.0          NaN  married  ...    -1        0   unknown  no\n",
       "1   2  33.0     services  married  ...   339        4   failure  no\n",
       "2   3  35.0   management   single  ...   330        1   failure  no\n",
       "3   4  30.0   management      NaN  ...    -1        0   unknown  no\n",
       "4   5  59.0  blue-collar      NaN  ...    -1        0   unknown  no\n",
       "\n",
       "[5 rows x 18 columns]"
      ]
     },
     "execution_count": 5,
     "metadata": {
      "tags": []
     },
     "output_type": "execute_result"
    }
   ],
   "source": [
    "df.head()"
   ]
  },
  {
   "cell_type": "code",
   "execution_count": null,
   "metadata": {
    "colab": {
     "base_uri": "https://localhost:8080/",
     "height": 243
    },
    "id": "Mpk32yabL39q",
    "outputId": "3a4da997-cc3b-417c-ee3f-bba7565361e7"
   },
   "outputs": [
    {
     "data": {
      "text/html": [
       "<div>\n",
       "<style scoped>\n",
       "    .dataframe tbody tr th:only-of-type {\n",
       "        vertical-align: middle;\n",
       "    }\n",
       "\n",
       "    .dataframe tbody tr th {\n",
       "        vertical-align: top;\n",
       "    }\n",
       "\n",
       "    .dataframe thead th {\n",
       "        text-align: right;\n",
       "    }\n",
       "</style>\n",
       "<table border=\"1\" class=\"dataframe\">\n",
       "  <thead>\n",
       "    <tr style=\"text-align: right;\">\n",
       "      <th></th>\n",
       "      <th>ID</th>\n",
       "      <th>age</th>\n",
       "      <th>job</th>\n",
       "      <th>marital</th>\n",
       "      <th>education</th>\n",
       "      <th>default</th>\n",
       "      <th>balance</th>\n",
       "      <th>housing</th>\n",
       "      <th>loan</th>\n",
       "      <th>contact</th>\n",
       "      <th>day</th>\n",
       "      <th>month</th>\n",
       "      <th>duration</th>\n",
       "      <th>campaign</th>\n",
       "      <th>pdays</th>\n",
       "      <th>previous</th>\n",
       "      <th>poutcome</th>\n",
       "      <th>y</th>\n",
       "    </tr>\n",
       "  </thead>\n",
       "  <tbody>\n",
       "    <tr>\n",
       "      <th>4516</th>\n",
       "      <td>4517</td>\n",
       "      <td>33.0</td>\n",
       "      <td>services</td>\n",
       "      <td>married</td>\n",
       "      <td>secondary</td>\n",
       "      <td>no</td>\n",
       "      <td>-333</td>\n",
       "      <td>yes</td>\n",
       "      <td>no</td>\n",
       "      <td>cellular</td>\n",
       "      <td>30</td>\n",
       "      <td>jul</td>\n",
       "      <td>329</td>\n",
       "      <td>5</td>\n",
       "      <td>-1</td>\n",
       "      <td>0</td>\n",
       "      <td>unknown</td>\n",
       "      <td>no</td>\n",
       "    </tr>\n",
       "    <tr>\n",
       "      <th>4517</th>\n",
       "      <td>4518</td>\n",
       "      <td>57.0</td>\n",
       "      <td>self-employed</td>\n",
       "      <td>married</td>\n",
       "      <td>tertiary</td>\n",
       "      <td>yes</td>\n",
       "      <td>-3313</td>\n",
       "      <td>yes</td>\n",
       "      <td>yes</td>\n",
       "      <td>unknown</td>\n",
       "      <td>9</td>\n",
       "      <td>may</td>\n",
       "      <td>153</td>\n",
       "      <td>1</td>\n",
       "      <td>-1</td>\n",
       "      <td>0</td>\n",
       "      <td>unknown</td>\n",
       "      <td>no</td>\n",
       "    </tr>\n",
       "    <tr>\n",
       "      <th>4518</th>\n",
       "      <td>4519</td>\n",
       "      <td>57.0</td>\n",
       "      <td>technician</td>\n",
       "      <td>married</td>\n",
       "      <td>secondary</td>\n",
       "      <td>no</td>\n",
       "      <td>295</td>\n",
       "      <td>no</td>\n",
       "      <td>no</td>\n",
       "      <td>cellular</td>\n",
       "      <td>19</td>\n",
       "      <td>aug</td>\n",
       "      <td>151</td>\n",
       "      <td>11</td>\n",
       "      <td>-1</td>\n",
       "      <td>0</td>\n",
       "      <td>unknown</td>\n",
       "      <td>no</td>\n",
       "    </tr>\n",
       "    <tr>\n",
       "      <th>4519</th>\n",
       "      <td>4520</td>\n",
       "      <td>28.0</td>\n",
       "      <td>blue-collar</td>\n",
       "      <td>married</td>\n",
       "      <td>secondary</td>\n",
       "      <td>no</td>\n",
       "      <td>1137</td>\n",
       "      <td>no</td>\n",
       "      <td>no</td>\n",
       "      <td>cellular</td>\n",
       "      <td>6</td>\n",
       "      <td>feb</td>\n",
       "      <td>129</td>\n",
       "      <td>4</td>\n",
       "      <td>211</td>\n",
       "      <td>3</td>\n",
       "      <td>other</td>\n",
       "      <td>no</td>\n",
       "    </tr>\n",
       "    <tr>\n",
       "      <th>4520</th>\n",
       "      <td>4521</td>\n",
       "      <td>44.0</td>\n",
       "      <td>entrepreneur</td>\n",
       "      <td>single</td>\n",
       "      <td>tertiary</td>\n",
       "      <td>no</td>\n",
       "      <td>1136</td>\n",
       "      <td>yes</td>\n",
       "      <td>yes</td>\n",
       "      <td>cellular</td>\n",
       "      <td>3</td>\n",
       "      <td>apr</td>\n",
       "      <td>345</td>\n",
       "      <td>2</td>\n",
       "      <td>249</td>\n",
       "      <td>7</td>\n",
       "      <td>other</td>\n",
       "      <td>no</td>\n",
       "    </tr>\n",
       "  </tbody>\n",
       "</table>\n",
       "</div>"
      ],
      "text/plain": [
       "        ID   age            job  marital  ... pdays previous  poutcome   y\n",
       "4516  4517  33.0       services  married  ...    -1        0   unknown  no\n",
       "4517  4518  57.0  self-employed  married  ...    -1        0   unknown  no\n",
       "4518  4519  57.0     technician  married  ...    -1        0   unknown  no\n",
       "4519  4520  28.0    blue-collar  married  ...   211        3     other  no\n",
       "4520  4521  44.0   entrepreneur   single  ...   249        7     other  no\n",
       "\n",
       "[5 rows x 18 columns]"
      ]
     },
     "execution_count": 6,
     "metadata": {
      "tags": []
     },
     "output_type": "execute_result"
    }
   ],
   "source": [
    "df.tail()"
   ]
  },
  {
   "cell_type": "markdown",
   "metadata": {
    "id": "Mv3075dQL39q"
   },
   "source": [
    "### Perform Train and Test Splits"
   ]
  },
  {
   "cell_type": "code",
   "execution_count": null,
   "metadata": {
    "id": "4p3qKWQ0L39q"
   },
   "outputs": [],
   "source": [
    "from sklearn.model_selection import train_test_split\n",
    "\n",
    "train, test = train_test_split(df, random_state = 0)"
   ]
  },
  {
   "cell_type": "code",
   "execution_count": null,
   "metadata": {
    "colab": {
     "base_uri": "https://localhost:8080/",
     "height": 444
    },
    "id": "0nV7LnV4L39q",
    "outputId": "dba874da-1999-4c0d-ba4d-2f160bd8bf1f"
   },
   "outputs": [
    {
     "data": {
      "text/html": [
       "<div>\n",
       "<style scoped>\n",
       "    .dataframe tbody tr th:only-of-type {\n",
       "        vertical-align: middle;\n",
       "    }\n",
       "\n",
       "    .dataframe tbody tr th {\n",
       "        vertical-align: top;\n",
       "    }\n",
       "\n",
       "    .dataframe thead th {\n",
       "        text-align: right;\n",
       "    }\n",
       "</style>\n",
       "<table border=\"1\" class=\"dataframe\">\n",
       "  <thead>\n",
       "    <tr style=\"text-align: right;\">\n",
       "      <th></th>\n",
       "      <th>ID</th>\n",
       "      <th>age</th>\n",
       "      <th>job</th>\n",
       "      <th>marital</th>\n",
       "      <th>education</th>\n",
       "      <th>default</th>\n",
       "      <th>balance</th>\n",
       "      <th>housing</th>\n",
       "      <th>loan</th>\n",
       "      <th>contact</th>\n",
       "      <th>day</th>\n",
       "      <th>month</th>\n",
       "      <th>duration</th>\n",
       "      <th>campaign</th>\n",
       "      <th>pdays</th>\n",
       "      <th>previous</th>\n",
       "      <th>poutcome</th>\n",
       "      <th>y</th>\n",
       "    </tr>\n",
       "  </thead>\n",
       "  <tbody>\n",
       "    <tr>\n",
       "      <th>4384</th>\n",
       "      <td>4385</td>\n",
       "      <td>52.0</td>\n",
       "      <td>management</td>\n",
       "      <td>single</td>\n",
       "      <td>tertiary</td>\n",
       "      <td>no</td>\n",
       "      <td>4</td>\n",
       "      <td>no</td>\n",
       "      <td>yes</td>\n",
       "      <td>cellular</td>\n",
       "      <td>28</td>\n",
       "      <td>jul</td>\n",
       "      <td>30</td>\n",
       "      <td>9</td>\n",
       "      <td>-1</td>\n",
       "      <td>0</td>\n",
       "      <td>unknown</td>\n",
       "      <td>no</td>\n",
       "    </tr>\n",
       "    <tr>\n",
       "      <th>2560</th>\n",
       "      <td>2561</td>\n",
       "      <td>44.0</td>\n",
       "      <td>blue-collar</td>\n",
       "      <td>married</td>\n",
       "      <td>secondary</td>\n",
       "      <td>no</td>\n",
       "      <td>1071</td>\n",
       "      <td>yes</td>\n",
       "      <td>no</td>\n",
       "      <td>cellular</td>\n",
       "      <td>11</td>\n",
       "      <td>may</td>\n",
       "      <td>143</td>\n",
       "      <td>3</td>\n",
       "      <td>357</td>\n",
       "      <td>1</td>\n",
       "      <td>failure</td>\n",
       "      <td>no</td>\n",
       "    </tr>\n",
       "    <tr>\n",
       "      <th>1470</th>\n",
       "      <td>1471</td>\n",
       "      <td>NaN</td>\n",
       "      <td>blue-collar</td>\n",
       "      <td>married</td>\n",
       "      <td>primary</td>\n",
       "      <td>no</td>\n",
       "      <td>4103</td>\n",
       "      <td>no</td>\n",
       "      <td>no</td>\n",
       "      <td>cellular</td>\n",
       "      <td>19</td>\n",
       "      <td>nov</td>\n",
       "      <td>291</td>\n",
       "      <td>1</td>\n",
       "      <td>-1</td>\n",
       "      <td>0</td>\n",
       "      <td>unknown</td>\n",
       "      <td>no</td>\n",
       "    </tr>\n",
       "    <tr>\n",
       "      <th>1771</th>\n",
       "      <td>1772</td>\n",
       "      <td>37.0</td>\n",
       "      <td>management</td>\n",
       "      <td>married</td>\n",
       "      <td>tertiary</td>\n",
       "      <td>no</td>\n",
       "      <td>347</td>\n",
       "      <td>yes</td>\n",
       "      <td>no</td>\n",
       "      <td>cellular</td>\n",
       "      <td>22</td>\n",
       "      <td>jul</td>\n",
       "      <td>282</td>\n",
       "      <td>1</td>\n",
       "      <td>-1</td>\n",
       "      <td>0</td>\n",
       "      <td>unknown</td>\n",
       "      <td>no</td>\n",
       "    </tr>\n",
       "    <tr>\n",
       "      <th>2604</th>\n",
       "      <td>2605</td>\n",
       "      <td>57.0</td>\n",
       "      <td>management</td>\n",
       "      <td>married</td>\n",
       "      <td>unknown</td>\n",
       "      <td>no</td>\n",
       "      <td>0</td>\n",
       "      <td>no</td>\n",
       "      <td>no</td>\n",
       "      <td>cellular</td>\n",
       "      <td>30</td>\n",
       "      <td>NaN</td>\n",
       "      <td>585</td>\n",
       "      <td>1</td>\n",
       "      <td>-1</td>\n",
       "      <td>0</td>\n",
       "      <td>unknown</td>\n",
       "      <td>no</td>\n",
       "    </tr>\n",
       "    <tr>\n",
       "      <th>...</th>\n",
       "      <td>...</td>\n",
       "      <td>...</td>\n",
       "      <td>...</td>\n",
       "      <td>...</td>\n",
       "      <td>...</td>\n",
       "      <td>...</td>\n",
       "      <td>...</td>\n",
       "      <td>...</td>\n",
       "      <td>...</td>\n",
       "      <td>...</td>\n",
       "      <td>...</td>\n",
       "      <td>...</td>\n",
       "      <td>...</td>\n",
       "      <td>...</td>\n",
       "      <td>...</td>\n",
       "      <td>...</td>\n",
       "      <td>...</td>\n",
       "      <td>...</td>\n",
       "    </tr>\n",
       "    <tr>\n",
       "      <th>1033</th>\n",
       "      <td>1034</td>\n",
       "      <td>NaN</td>\n",
       "      <td>technician</td>\n",
       "      <td>single</td>\n",
       "      <td>secondary</td>\n",
       "      <td>no</td>\n",
       "      <td>534</td>\n",
       "      <td>yes</td>\n",
       "      <td>no</td>\n",
       "      <td>cellular</td>\n",
       "      <td>18</td>\n",
       "      <td>may</td>\n",
       "      <td>382</td>\n",
       "      <td>1</td>\n",
       "      <td>-1</td>\n",
       "      <td>0</td>\n",
       "      <td>unknown</td>\n",
       "      <td>no</td>\n",
       "    </tr>\n",
       "    <tr>\n",
       "      <th>3264</th>\n",
       "      <td>3265</td>\n",
       "      <td>36.0</td>\n",
       "      <td>management</td>\n",
       "      <td>single</td>\n",
       "      <td>tertiary</td>\n",
       "      <td>no</td>\n",
       "      <td>613</td>\n",
       "      <td>no</td>\n",
       "      <td>NaN</td>\n",
       "      <td>cellular</td>\n",
       "      <td>7</td>\n",
       "      <td>aug</td>\n",
       "      <td>86</td>\n",
       "      <td>2</td>\n",
       "      <td>-1</td>\n",
       "      <td>0</td>\n",
       "      <td>unknown</td>\n",
       "      <td>no</td>\n",
       "    </tr>\n",
       "    <tr>\n",
       "      <th>1653</th>\n",
       "      <td>1654</td>\n",
       "      <td>53.0</td>\n",
       "      <td>blue-collar</td>\n",
       "      <td>married</td>\n",
       "      <td>primary</td>\n",
       "      <td>no</td>\n",
       "      <td>306</td>\n",
       "      <td>no</td>\n",
       "      <td>no</td>\n",
       "      <td>cellular</td>\n",
       "      <td>28</td>\n",
       "      <td>jul</td>\n",
       "      <td>388</td>\n",
       "      <td>3</td>\n",
       "      <td>181</td>\n",
       "      <td>1</td>\n",
       "      <td>success</td>\n",
       "      <td>yes</td>\n",
       "    </tr>\n",
       "    <tr>\n",
       "      <th>2607</th>\n",
       "      <td>2608</td>\n",
       "      <td>32.0</td>\n",
       "      <td>blue-collar</td>\n",
       "      <td>married</td>\n",
       "      <td>NaN</td>\n",
       "      <td>no</td>\n",
       "      <td>642</td>\n",
       "      <td>no</td>\n",
       "      <td>yes</td>\n",
       "      <td>cellular</td>\n",
       "      <td>8</td>\n",
       "      <td>jul</td>\n",
       "      <td>524</td>\n",
       "      <td>1</td>\n",
       "      <td>-1</td>\n",
       "      <td>0</td>\n",
       "      <td>unknown</td>\n",
       "      <td>no</td>\n",
       "    </tr>\n",
       "    <tr>\n",
       "      <th>2732</th>\n",
       "      <td>2733</td>\n",
       "      <td>NaN</td>\n",
       "      <td>technician</td>\n",
       "      <td>married</td>\n",
       "      <td>primary</td>\n",
       "      <td>no</td>\n",
       "      <td>-322</td>\n",
       "      <td>no</td>\n",
       "      <td>no</td>\n",
       "      <td>unknown</td>\n",
       "      <td>9</td>\n",
       "      <td>jun</td>\n",
       "      <td>225</td>\n",
       "      <td>2</td>\n",
       "      <td>-1</td>\n",
       "      <td>0</td>\n",
       "      <td>unknown</td>\n",
       "      <td>no</td>\n",
       "    </tr>\n",
       "  </tbody>\n",
       "</table>\n",
       "<p>3390 rows × 18 columns</p>\n",
       "</div>"
      ],
      "text/plain": [
       "        ID   age          job  marital  ... pdays previous  poutcome    y\n",
       "4384  4385  52.0   management   single  ...    -1        0   unknown   no\n",
       "2560  2561  44.0  blue-collar  married  ...   357        1   failure   no\n",
       "1470  1471   NaN  blue-collar  married  ...    -1        0   unknown   no\n",
       "1771  1772  37.0   management  married  ...    -1        0   unknown   no\n",
       "2604  2605  57.0   management  married  ...    -1        0   unknown   no\n",
       "...    ...   ...          ...      ...  ...   ...      ...       ...  ...\n",
       "1033  1034   NaN   technician   single  ...    -1        0   unknown   no\n",
       "3264  3265  36.0   management   single  ...    -1        0   unknown   no\n",
       "1653  1654  53.0  blue-collar  married  ...   181        1   success  yes\n",
       "2607  2608  32.0  blue-collar  married  ...    -1        0   unknown   no\n",
       "2732  2733   NaN   technician  married  ...    -1        0   unknown   no\n",
       "\n",
       "[3390 rows x 18 columns]"
      ]
     },
     "execution_count": 8,
     "metadata": {
      "tags": []
     },
     "output_type": "execute_result"
    }
   ],
   "source": [
    "train"
   ]
  },
  {
   "cell_type": "code",
   "execution_count": null,
   "metadata": {
    "colab": {
     "base_uri": "https://localhost:8080/",
     "height": 444
    },
    "id": "ibFpdlD9L39q",
    "outputId": "18bc47f4-196e-4c5b-967a-eca5ca841ad8"
   },
   "outputs": [
    {
     "data": {
      "text/html": [
       "<div>\n",
       "<style scoped>\n",
       "    .dataframe tbody tr th:only-of-type {\n",
       "        vertical-align: middle;\n",
       "    }\n",
       "\n",
       "    .dataframe tbody tr th {\n",
       "        vertical-align: top;\n",
       "    }\n",
       "\n",
       "    .dataframe thead th {\n",
       "        text-align: right;\n",
       "    }\n",
       "</style>\n",
       "<table border=\"1\" class=\"dataframe\">\n",
       "  <thead>\n",
       "    <tr style=\"text-align: right;\">\n",
       "      <th></th>\n",
       "      <th>ID</th>\n",
       "      <th>age</th>\n",
       "      <th>job</th>\n",
       "      <th>marital</th>\n",
       "      <th>education</th>\n",
       "      <th>default</th>\n",
       "      <th>balance</th>\n",
       "      <th>housing</th>\n",
       "      <th>loan</th>\n",
       "      <th>contact</th>\n",
       "      <th>day</th>\n",
       "      <th>month</th>\n",
       "      <th>duration</th>\n",
       "      <th>campaign</th>\n",
       "      <th>pdays</th>\n",
       "      <th>previous</th>\n",
       "      <th>poutcome</th>\n",
       "      <th>y</th>\n",
       "    </tr>\n",
       "  </thead>\n",
       "  <tbody>\n",
       "    <tr>\n",
       "      <th>4274</th>\n",
       "      <td>4275</td>\n",
       "      <td>35.0</td>\n",
       "      <td>blue-collar</td>\n",
       "      <td>married</td>\n",
       "      <td>primary</td>\n",
       "      <td>no</td>\n",
       "      <td>378</td>\n",
       "      <td>yes</td>\n",
       "      <td>no</td>\n",
       "      <td>unknown</td>\n",
       "      <td>16</td>\n",
       "      <td>may</td>\n",
       "      <td>427</td>\n",
       "      <td>3</td>\n",
       "      <td>-1</td>\n",
       "      <td>0</td>\n",
       "      <td>unknown</td>\n",
       "      <td>no</td>\n",
       "    </tr>\n",
       "    <tr>\n",
       "      <th>72</th>\n",
       "      <td>73</td>\n",
       "      <td>31.0</td>\n",
       "      <td>management</td>\n",
       "      <td>NaN</td>\n",
       "      <td>tertiary</td>\n",
       "      <td>no</td>\n",
       "      <td>6248</td>\n",
       "      <td>yes</td>\n",
       "      <td>no</td>\n",
       "      <td>NaN</td>\n",
       "      <td>9</td>\n",
       "      <td>may</td>\n",
       "      <td>154</td>\n",
       "      <td>2</td>\n",
       "      <td>-1</td>\n",
       "      <td>0</td>\n",
       "      <td>unknown</td>\n",
       "      <td>no</td>\n",
       "    </tr>\n",
       "    <tr>\n",
       "      <th>1065</th>\n",
       "      <td>1066</td>\n",
       "      <td>30.0</td>\n",
       "      <td>unemployed</td>\n",
       "      <td>married</td>\n",
       "      <td>tertiary</td>\n",
       "      <td>no</td>\n",
       "      <td>0</td>\n",
       "      <td>yes</td>\n",
       "      <td>no</td>\n",
       "      <td>cellular</td>\n",
       "      <td>18</td>\n",
       "      <td>nov</td>\n",
       "      <td>756</td>\n",
       "      <td>1</td>\n",
       "      <td>-1</td>\n",
       "      <td>0</td>\n",
       "      <td>unknown</td>\n",
       "      <td>no</td>\n",
       "    </tr>\n",
       "    <tr>\n",
       "      <th>3185</th>\n",
       "      <td>3186</td>\n",
       "      <td>42.0</td>\n",
       "      <td>admin.</td>\n",
       "      <td>married</td>\n",
       "      <td>secondary</td>\n",
       "      <td>no</td>\n",
       "      <td>529</td>\n",
       "      <td>yes</td>\n",
       "      <td>yes</td>\n",
       "      <td>cellular</td>\n",
       "      <td>19</td>\n",
       "      <td>nov</td>\n",
       "      <td>193</td>\n",
       "      <td>3</td>\n",
       "      <td>-1</td>\n",
       "      <td>0</td>\n",
       "      <td>unknown</td>\n",
       "      <td>no</td>\n",
       "    </tr>\n",
       "    <tr>\n",
       "      <th>130</th>\n",
       "      <td>131</td>\n",
       "      <td>41.0</td>\n",
       "      <td>blue-collar</td>\n",
       "      <td>married</td>\n",
       "      <td>NaN</td>\n",
       "      <td>no</td>\n",
       "      <td>168</td>\n",
       "      <td>yes</td>\n",
       "      <td>no</td>\n",
       "      <td>cellular</td>\n",
       "      <td>18</td>\n",
       "      <td>nov</td>\n",
       "      <td>187</td>\n",
       "      <td>3</td>\n",
       "      <td>-1</td>\n",
       "      <td>0</td>\n",
       "      <td>unknown</td>\n",
       "      <td>no</td>\n",
       "    </tr>\n",
       "    <tr>\n",
       "      <th>...</th>\n",
       "      <td>...</td>\n",
       "      <td>...</td>\n",
       "      <td>...</td>\n",
       "      <td>...</td>\n",
       "      <td>...</td>\n",
       "      <td>...</td>\n",
       "      <td>...</td>\n",
       "      <td>...</td>\n",
       "      <td>...</td>\n",
       "      <td>...</td>\n",
       "      <td>...</td>\n",
       "      <td>...</td>\n",
       "      <td>...</td>\n",
       "      <td>...</td>\n",
       "      <td>...</td>\n",
       "      <td>...</td>\n",
       "      <td>...</td>\n",
       "      <td>...</td>\n",
       "    </tr>\n",
       "    <tr>\n",
       "      <th>1790</th>\n",
       "      <td>1791</td>\n",
       "      <td>NaN</td>\n",
       "      <td>technician</td>\n",
       "      <td>married</td>\n",
       "      <td>secondary</td>\n",
       "      <td>no</td>\n",
       "      <td>1477</td>\n",
       "      <td>yes</td>\n",
       "      <td>no</td>\n",
       "      <td>cellular</td>\n",
       "      <td>8</td>\n",
       "      <td>jul</td>\n",
       "      <td>355</td>\n",
       "      <td>1</td>\n",
       "      <td>-1</td>\n",
       "      <td>0</td>\n",
       "      <td>unknown</td>\n",
       "      <td>no</td>\n",
       "    </tr>\n",
       "    <tr>\n",
       "      <th>2106</th>\n",
       "      <td>2107</td>\n",
       "      <td>47.0</td>\n",
       "      <td>entrepreneur</td>\n",
       "      <td>married</td>\n",
       "      <td>primary</td>\n",
       "      <td>no</td>\n",
       "      <td>668</td>\n",
       "      <td>no</td>\n",
       "      <td>no</td>\n",
       "      <td>cellular</td>\n",
       "      <td>12</td>\n",
       "      <td>may</td>\n",
       "      <td>908</td>\n",
       "      <td>1</td>\n",
       "      <td>-1</td>\n",
       "      <td>0</td>\n",
       "      <td>unknown</td>\n",
       "      <td>no</td>\n",
       "    </tr>\n",
       "    <tr>\n",
       "      <th>242</th>\n",
       "      <td>243</td>\n",
       "      <td>44.0</td>\n",
       "      <td>management</td>\n",
       "      <td>married</td>\n",
       "      <td>tertiary</td>\n",
       "      <td>no</td>\n",
       "      <td>3762</td>\n",
       "      <td>no</td>\n",
       "      <td>no</td>\n",
       "      <td>cellular</td>\n",
       "      <td>28</td>\n",
       "      <td>aug</td>\n",
       "      <td>125</td>\n",
       "      <td>12</td>\n",
       "      <td>-1</td>\n",
       "      <td>0</td>\n",
       "      <td>unknown</td>\n",
       "      <td>no</td>\n",
       "    </tr>\n",
       "    <tr>\n",
       "      <th>4402</th>\n",
       "      <td>4403</td>\n",
       "      <td>41.0</td>\n",
       "      <td>NaN</td>\n",
       "      <td>married</td>\n",
       "      <td>primary</td>\n",
       "      <td>no</td>\n",
       "      <td>39</td>\n",
       "      <td>yes</td>\n",
       "      <td>no</td>\n",
       "      <td>cellular</td>\n",
       "      <td>21</td>\n",
       "      <td>NaN</td>\n",
       "      <td>549</td>\n",
       "      <td>2</td>\n",
       "      <td>-1</td>\n",
       "      <td>0</td>\n",
       "      <td>unknown</td>\n",
       "      <td>yes</td>\n",
       "    </tr>\n",
       "    <tr>\n",
       "      <th>1606</th>\n",
       "      <td>1607</td>\n",
       "      <td>41.0</td>\n",
       "      <td>blue-collar</td>\n",
       "      <td>single</td>\n",
       "      <td>unknown</td>\n",
       "      <td>no</td>\n",
       "      <td>4684</td>\n",
       "      <td>no</td>\n",
       "      <td>no</td>\n",
       "      <td>unknown</td>\n",
       "      <td>20</td>\n",
       "      <td>jun</td>\n",
       "      <td>30</td>\n",
       "      <td>6</td>\n",
       "      <td>-1</td>\n",
       "      <td>0</td>\n",
       "      <td>unknown</td>\n",
       "      <td>no</td>\n",
       "    </tr>\n",
       "  </tbody>\n",
       "</table>\n",
       "<p>1131 rows × 18 columns</p>\n",
       "</div>"
      ],
      "text/plain": [
       "        ID   age           job  marital  ... pdays previous  poutcome    y\n",
       "4274  4275  35.0   blue-collar  married  ...    -1        0   unknown   no\n",
       "72      73  31.0    management      NaN  ...    -1        0   unknown   no\n",
       "1065  1066  30.0    unemployed  married  ...    -1        0   unknown   no\n",
       "3185  3186  42.0        admin.  married  ...    -1        0   unknown   no\n",
       "130    131  41.0   blue-collar  married  ...    -1        0   unknown   no\n",
       "...    ...   ...           ...      ...  ...   ...      ...       ...  ...\n",
       "1790  1791   NaN    technician  married  ...    -1        0   unknown   no\n",
       "2106  2107  47.0  entrepreneur  married  ...    -1        0   unknown   no\n",
       "242    243  44.0    management  married  ...    -1        0   unknown   no\n",
       "4402  4403  41.0           NaN  married  ...    -1        0   unknown  yes\n",
       "1606  1607  41.0   blue-collar   single  ...    -1        0   unknown   no\n",
       "\n",
       "[1131 rows x 18 columns]"
      ]
     },
     "execution_count": 9,
     "metadata": {
      "tags": []
     },
     "output_type": "execute_result"
    }
   ],
   "source": [
    "test"
   ]
  },
  {
   "cell_type": "markdown",
   "metadata": {
    "id": "59w0vEctL39r"
   },
   "source": [
    "### Explore the train data"
   ]
  },
  {
   "cell_type": "code",
   "execution_count": null,
   "metadata": {
    "colab": {
     "base_uri": "https://localhost:8080/"
    },
    "id": "HFuBhxr_L39r",
    "outputId": "97164d9d-1474-483c-c0c7-0dfb63267397"
   },
   "outputs": [
    {
     "name": "stdout",
     "output_type": "stream",
     "text": [
      "<class 'pandas.core.frame.DataFrame'>\n",
      "Int64Index: 3390 entries, 4384 to 2732\n",
      "Data columns (total 18 columns):\n",
      " #   Column     Non-Null Count  Dtype  \n",
      "---  ------     --------------  -----  \n",
      " 0   ID         3390 non-null   int64  \n",
      " 1   age        2754 non-null   float64\n",
      " 2   job        3216 non-null   object \n",
      " 3   marital    3270 non-null   object \n",
      " 4   education  3219 non-null   object \n",
      " 5   default    3390 non-null   object \n",
      " 6   balance    3390 non-null   int64  \n",
      " 7   housing    3390 non-null   object \n",
      " 8   loan       3186 non-null   object \n",
      " 9   contact    3084 non-null   object \n",
      " 10  day        3390 non-null   int64  \n",
      " 11  month      3144 non-null   object \n",
      " 12  duration   3390 non-null   int64  \n",
      " 13  campaign   3390 non-null   int64  \n",
      " 14  pdays      3390 non-null   int64  \n",
      " 15  previous   3390 non-null   int64  \n",
      " 16  poutcome   3390 non-null   object \n",
      " 17  y          3390 non-null   object \n",
      "dtypes: float64(1), int64(7), object(10)\n",
      "memory usage: 503.2+ KB\n"
     ]
    }
   ],
   "source": [
    "train.info()"
   ]
  },
  {
   "cell_type": "markdown",
   "metadata": {
    "id": "DaocI0S5L39s"
   },
   "source": [
    "### Remove the insignificant columns from the train set"
   ]
  },
  {
   "cell_type": "code",
   "execution_count": null,
   "metadata": {
    "id": "fYv4QjvkL39s"
   },
   "outputs": [],
   "source": [
    "train.drop('ID', axis = 1, inplace = True)"
   ]
  },
  {
   "cell_type": "code",
   "execution_count": null,
   "metadata": {
    "colab": {
     "base_uri": "https://localhost:8080/",
     "height": 300
    },
    "id": "kdJCtyx3L39s",
    "outputId": "f507cc83-fa87-44d1-d4c4-9a59fbefbdce"
   },
   "outputs": [
    {
     "data": {
      "text/html": [
       "<div>\n",
       "<style scoped>\n",
       "    .dataframe tbody tr th:only-of-type {\n",
       "        vertical-align: middle;\n",
       "    }\n",
       "\n",
       "    .dataframe tbody tr th {\n",
       "        vertical-align: top;\n",
       "    }\n",
       "\n",
       "    .dataframe thead th {\n",
       "        text-align: right;\n",
       "    }\n",
       "</style>\n",
       "<table border=\"1\" class=\"dataframe\">\n",
       "  <thead>\n",
       "    <tr style=\"text-align: right;\">\n",
       "      <th></th>\n",
       "      <th>age</th>\n",
       "      <th>balance</th>\n",
       "      <th>day</th>\n",
       "      <th>duration</th>\n",
       "      <th>campaign</th>\n",
       "      <th>pdays</th>\n",
       "      <th>previous</th>\n",
       "    </tr>\n",
       "  </thead>\n",
       "  <tbody>\n",
       "    <tr>\n",
       "      <th>count</th>\n",
       "      <td>2754.000000</td>\n",
       "      <td>3390.000000</td>\n",
       "      <td>3390.000000</td>\n",
       "      <td>3390.000000</td>\n",
       "      <td>3390.000000</td>\n",
       "      <td>3390.000000</td>\n",
       "      <td>3390.000000</td>\n",
       "    </tr>\n",
       "    <tr>\n",
       "      <th>mean</th>\n",
       "      <td>41.244735</td>\n",
       "      <td>1432.131563</td>\n",
       "      <td>15.848083</td>\n",
       "      <td>260.278171</td>\n",
       "      <td>2.792625</td>\n",
       "      <td>40.054277</td>\n",
       "      <td>0.543363</td>\n",
       "    </tr>\n",
       "    <tr>\n",
       "      <th>std</th>\n",
       "      <td>10.883711</td>\n",
       "      <td>3070.844395</td>\n",
       "      <td>8.232079</td>\n",
       "      <td>252.128385</td>\n",
       "      <td>3.067703</td>\n",
       "      <td>100.755075</td>\n",
       "      <td>1.695039</td>\n",
       "    </tr>\n",
       "    <tr>\n",
       "      <th>min</th>\n",
       "      <td>19.000000</td>\n",
       "      <td>-2082.000000</td>\n",
       "      <td>1.000000</td>\n",
       "      <td>5.000000</td>\n",
       "      <td>1.000000</td>\n",
       "      <td>-1.000000</td>\n",
       "      <td>0.000000</td>\n",
       "    </tr>\n",
       "    <tr>\n",
       "      <th>25%</th>\n",
       "      <td>32.000000</td>\n",
       "      <td>72.000000</td>\n",
       "      <td>8.000000</td>\n",
       "      <td>104.000000</td>\n",
       "      <td>1.000000</td>\n",
       "      <td>-1.000000</td>\n",
       "      <td>0.000000</td>\n",
       "    </tr>\n",
       "    <tr>\n",
       "      <th>50%</th>\n",
       "      <td>40.000000</td>\n",
       "      <td>440.000000</td>\n",
       "      <td>16.000000</td>\n",
       "      <td>185.000000</td>\n",
       "      <td>2.000000</td>\n",
       "      <td>-1.000000</td>\n",
       "      <td>0.000000</td>\n",
       "    </tr>\n",
       "    <tr>\n",
       "      <th>75%</th>\n",
       "      <td>48.000000</td>\n",
       "      <td>1464.000000</td>\n",
       "      <td>21.000000</td>\n",
       "      <td>331.000000</td>\n",
       "      <td>3.000000</td>\n",
       "      <td>-1.000000</td>\n",
       "      <td>0.000000</td>\n",
       "    </tr>\n",
       "    <tr>\n",
       "      <th>max</th>\n",
       "      <td>87.000000</td>\n",
       "      <td>71188.000000</td>\n",
       "      <td>31.000000</td>\n",
       "      <td>3025.000000</td>\n",
       "      <td>50.000000</td>\n",
       "      <td>871.000000</td>\n",
       "      <td>25.000000</td>\n",
       "    </tr>\n",
       "  </tbody>\n",
       "</table>\n",
       "</div>"
      ],
      "text/plain": [
       "               age       balance  ...        pdays     previous\n",
       "count  2754.000000   3390.000000  ...  3390.000000  3390.000000\n",
       "mean     41.244735   1432.131563  ...    40.054277     0.543363\n",
       "std      10.883711   3070.844395  ...   100.755075     1.695039\n",
       "min      19.000000  -2082.000000  ...    -1.000000     0.000000\n",
       "25%      32.000000     72.000000  ...    -1.000000     0.000000\n",
       "50%      40.000000    440.000000  ...    -1.000000     0.000000\n",
       "75%      48.000000   1464.000000  ...    -1.000000     0.000000\n",
       "max      87.000000  71188.000000  ...   871.000000    25.000000\n",
       "\n",
       "[8 rows x 7 columns]"
      ]
     },
     "execution_count": 12,
     "metadata": {
      "tags": []
     },
     "output_type": "execute_result"
    }
   ],
   "source": [
    "train.describe()"
   ]
  },
  {
   "cell_type": "markdown",
   "metadata": {
    "id": "CMG99TEBL39s"
   },
   "source": [
    "### List of columns that have missing values"
   ]
  },
  {
   "cell_type": "code",
   "execution_count": null,
   "metadata": {
    "colab": {
     "base_uri": "https://localhost:8080/"
    },
    "id": "ezMD1oi9L39s",
    "outputId": "0b81449c-8fe4-437a-ab15-c5a20e942180"
   },
   "outputs": [
    {
     "data": {
      "text/plain": [
       "Index(['age', 'job', 'marital', 'education', 'loan', 'contact', 'month'], dtype='object')"
      ]
     },
     "execution_count": 13,
     "metadata": {
      "tags": []
     },
     "output_type": "execute_result"
    }
   ],
   "source": [
    "train.columns[train.isnull().any()]"
   ]
  },
  {
   "cell_type": "markdown",
   "metadata": {
    "id": "Z3Ry0ftoL39s"
   },
   "source": [
    "### Exploratory Data Analysis"
   ]
  },
  {
   "cell_type": "markdown",
   "metadata": {
    "id": "nTxCXWsvL39s"
   },
   "source": [
    "Let us explore some of the features that will be used in our classification algorithms. This will give us a better idea about the distribution of features as well as how to handle imputation of missing values in order to clean the data."
   ]
  },
  {
   "cell_type": "code",
   "execution_count": null,
   "metadata": {
    "colab": {
     "base_uri": "https://localhost:8080/",
     "height": 896
    },
    "id": "XCl450RcL39s",
    "outputId": "a699a38f-7f3b-493e-932f-383277b0c6d1"
   },
   "outputs": [
    {
     "data": {
      "text/plain": [
       "(array([0, 1]), <a list of 2 Text major ticklabel objects>)"
      ]
     },
     "execution_count": 14,
     "metadata": {
      "tags": []
     },
     "output_type": "execute_result"
    },
    {
     "data": {
      "image/png": "[encoded data removed]",
      "text/plain": [
       "<Figure size 720x1080 with 5 Axes>"
      ]
     },
     "metadata": {
      "needs_background": "light",
      "tags": []
     },
     "output_type": "display_data"
    }
   ],
   "source": [
    "# Set up a grid of plots\n",
    "# import pylab as plt1\n",
    "# fig = plt1.figure(figsize=fizsize_with_subplots) \n",
    "plt.figure(figsize=(10,15)) \n",
    "fig_dims = (3, 2)\n",
    "\n",
    "# Plot age histogram\n",
    "plt.subplot2grid(fig_dims, (0,0))\n",
    "train['age'].hist()\n",
    "plt.title('Age Histogram')\n",
    "\n",
    "# Plot marital status counts\n",
    "plt.subplot2grid(fig_dims, (0, 1))\n",
    "train['marital'].value_counts().plot(kind='bar', \n",
    "                                       title='Marital Status Counts')\n",
    "plt.xticks(rotation=0)\n",
    "\n",
    "# Plot Type of Education counts\n",
    "plt.subplot2grid(fig_dims, (1, 0))\n",
    "train['education'].value_counts().plot(kind='bar', \n",
    "                                    title='Type of Education Counts')\n",
    "plt.xticks(rotation=0)\n",
    "\n",
    "# Plot type of job counts\n",
    "plt.subplot2grid(fig_dims, (1, 1))\n",
    "train['job'].value_counts().plot(kind='bar', \n",
    "                                         title='Type of Job Counts')\n",
    "plt.xticks(rotation=45)\n",
    "\n",
    "# Plot loan counts\n",
    "plt.subplot2grid(fig_dims, (2, 0))\n",
    "train['loan'].value_counts().plot(kind='bar', \n",
    "                                         title='Loan Counts')\n",
    "plt.xticks(rotation=0)"
   ]
  },
  {
   "cell_type": "code",
   "execution_count": null,
   "metadata": {
    "colab": {
     "base_uri": "https://localhost:8080/",
     "height": 371
    },
    "id": "bfKmWt4NL39s",
    "outputId": "b719a9a6-5ecc-463d-c18e-9d5cb66a0de7"
   },
   "outputs": [
    {
     "data": {
      "text/plain": [
       "(array([ 0,  1,  2,  3,  4,  5,  6,  7,  8,  9, 10, 11]),\n",
       " <a list of 12 Text major ticklabel objects>)"
      ]
     },
     "execution_count": 15,
     "metadata": {
      "tags": []
     },
     "output_type": "execute_result"
    },
    {
     "data": {
      "image/png": "[encoded data removed]",
      "text/plain": [
       "<Figure size 720x360 with 2 Axes>"
      ]
     },
     "metadata": {
      "needs_background": "light",
      "tags": []
     },
     "output_type": "display_data"
    }
   ],
   "source": [
    "plt.figure(figsize=(10,5)) \n",
    "fig_dims = (1, 2)\n",
    "\n",
    "# Plot contact counts\n",
    "plt.subplot2grid(fig_dims, (0, 0))\n",
    "train['contact'].value_counts().plot(kind='bar', \n",
    "                                         title='Contact Counts')\n",
    "plt.xticks(rotation=0)\n",
    "\n",
    "# Plot month counts\n",
    "plt.subplot2grid(fig_dims, (0, 1))\n",
    "train['month'].value_counts().plot(kind='bar', \n",
    "                                         title='Month Counts')\n",
    "plt.xticks(rotation=0)"
   ]
  },
  {
   "cell_type": "markdown",
   "metadata": {
    "id": "AoRc39mUL39t"
   },
   "source": [
    "### Imputation of NaN values - Train data"
   ]
  },
  {
   "cell_type": "markdown",
   "metadata": {
    "id": "-xsqrIfPL39t"
   },
   "source": [
    "### Feature: AGE"
   ]
  },
  {
   "cell_type": "markdown",
   "metadata": {
    "id": "tlL_Igh-L39t"
   },
   "source": [
    "As we can see from the above plot that Age histogram is right-skewed. Thus, we will impute the NaN values in the AGE column by the median value of age."
   ]
  },
  {
   "cell_type": "code",
   "execution_count": null,
   "metadata": {
    "id": "jaP41T9cL39t"
   },
   "outputs": [],
   "source": [
    "train['age']= train['age'].fillna(train['age'].median())\n",
    "train['age'] = train['age'].astype(int)"
   ]
  },
  {
   "cell_type": "markdown",
   "metadata": {
    "id": "XCaEtMzYL39t"
   },
   "source": [
    "### Feature: MARITAL"
   ]
  },
  {
   "cell_type": "markdown",
   "metadata": {
    "id": "QaU1ADpeL39t"
   },
   "source": [
    "As we can see that marital is a categorical variable with categories - married, divorced and single. Since, the category 'married' has the highest frequency, thus, we will impute the NaN values by 'married'."
   ]
  },
  {
   "cell_type": "code",
   "execution_count": null,
   "metadata": {
    "id": "oVwcC6UxL39t"
   },
   "outputs": [],
   "source": [
    "train['marital'].replace(np.NaN, 'married', inplace = True)"
   ]
  },
  {
   "cell_type": "markdown",
   "metadata": {
    "id": "WJ7_l7VKL39t"
   },
   "source": [
    "### Feature: EDUCATION"
   ]
  },
  {
   "cell_type": "markdown",
   "metadata": {
    "id": "vfG4f_BLL39t"
   },
   "source": [
    "Education is a categorical variable with categories - unknown, secondary, primary and tertiary. As we can see that the clients have attained secondary education mostly, thus, we replace the NaN values by the category 'secondary'. "
   ]
  },
  {
   "cell_type": "code",
   "execution_count": null,
   "metadata": {
    "id": "r5WJoG2LL39t"
   },
   "outputs": [],
   "source": [
    "train['education'].replace(np.NaN, 'secondary', inplace = True)"
   ]
  },
  {
   "cell_type": "markdown",
   "metadata": {
    "id": "B3g15KnjL39t"
   },
   "source": [
    "### Feature: JOB"
   ]
  },
  {
   "cell_type": "markdown",
   "metadata": {
    "id": "y0eL_H4qL39t"
   },
   "source": [
    "Job is a categorical variable with 12 categories- 'admin.','unknown','unemployed','management','housemaid','entrepreneur','student', 'blue-collar','self-employed','retired','technician','services'. The 2 highly frequent categories are management and blue-collar. We impute the NaN values by the mode value, that is highly frequent category, thus by 'management'."
   ]
  },
  {
   "cell_type": "code",
   "execution_count": null,
   "metadata": {
    "id": "xq1tS_PAL39t"
   },
   "outputs": [],
   "source": [
    "train['job'].replace(np.NaN, 'management', inplace = True)"
   ]
  },
  {
   "cell_type": "markdown",
   "metadata": {
    "id": "lQ5X73H1L39t"
   },
   "source": [
    "### Feature: LOAN"
   ]
  },
  {
   "cell_type": "markdown",
   "metadata": {
    "id": "7jQcvN00L39u"
   },
   "source": [
    "Loan is a binary variable with values yes or no. Since, a majority of clients did not have a personal loan, we will impute the NaN values by 'no'."
   ]
  },
  {
   "cell_type": "code",
   "execution_count": null,
   "metadata": {
    "id": "HRTPpc7rL39u"
   },
   "outputs": [],
   "source": [
    "train['loan'].replace(np.NaN, 'no', inplace = True)"
   ]
  },
  {
   "cell_type": "markdown",
   "metadata": {
    "id": "HDP_uWRgL39u"
   },
   "source": [
    "### Feature: CONTACT"
   ]
  },
  {
   "cell_type": "markdown",
   "metadata": {
    "id": "0iUqgyYmL39u"
   },
   "source": [
    "Contact is a categorical variable with categories- unknown, cellular and telephone. Since, the contact type 'cellular' is highly frequent in the dataset, we replace the NaN values by 'cellular'."
   ]
  },
  {
   "cell_type": "code",
   "execution_count": null,
   "metadata": {
    "id": "plgIl9K9L39u"
   },
   "outputs": [],
   "source": [
    "train['contact'].replace(np.NaN, 'cellular', inplace = True)"
   ]
  },
  {
   "cell_type": "markdown",
   "metadata": {
    "id": "kNt2i2HHL39u"
   },
   "source": [
    "### Feature: MONTH"
   ]
  },
  {
   "cell_type": "markdown",
   "metadata": {
    "id": "BlE4GyKIL39u"
   },
   "source": [
    "Month is again a categorical variable with values - jan, feb, mar, apr, may, jun, jul, aug, sep, oct, nov and dec. Since, most of the last contacts were made in the month of may, we replace the NaN values by 'may'."
   ]
  },
  {
   "cell_type": "code",
   "execution_count": null,
   "metadata": {
    "id": "Ogo086N7L39v"
   },
   "outputs": [],
   "source": [
    "train['month'].replace(np.NaN, 'may', inplace = True)"
   ]
  },
  {
   "cell_type": "markdown",
   "metadata": {
    "id": "gxDO_HfaL39v"
   },
   "source": [
    "We have imputed all the missing values with either mean or median or mode of the columns. Thus, the data is now complete with no NaN values."
   ]
  },
  {
   "cell_type": "code",
   "execution_count": null,
   "metadata": {
    "colab": {
     "base_uri": "https://localhost:8080/"
    },
    "id": "DgB-qefvL39v",
    "outputId": "3cbe071d-bde0-4229-a988-e749c44504df"
   },
   "outputs": [
    {
     "data": {
      "text/plain": [
       "Index([], dtype='object')"
      ]
     },
     "execution_count": 23,
     "metadata": {
      "tags": []
     },
     "output_type": "execute_result"
    }
   ],
   "source": [
    "train.columns[train.isnull().any()]"
   ]
  },
  {
   "cell_type": "code",
   "execution_count": null,
   "metadata": {
    "colab": {
     "base_uri": "https://localhost:8080/"
    },
    "id": "DbNFTxiSL39w",
    "outputId": "8811ee42-7c95-489b-8d9a-94d039398644"
   },
   "outputs": [
    {
     "name": "stdout",
     "output_type": "stream",
     "text": [
      "<class 'pandas.core.frame.DataFrame'>\n",
      "Int64Index: 3390 entries, 4384 to 2732\n",
      "Data columns (total 17 columns):\n",
      " #   Column     Non-Null Count  Dtype \n",
      "---  ------     --------------  ----- \n",
      " 0   age        3390 non-null   int64 \n",
      " 1   job        3390 non-null   object\n",
      " 2   marital    3390 non-null   object\n",
      " 3   education  3390 non-null   object\n",
      " 4   default    3390 non-null   object\n",
      " 5   balance    3390 non-null   int64 \n",
      " 6   housing    3390 non-null   object\n",
      " 7   loan       3390 non-null   object\n",
      " 8   contact    3390 non-null   object\n",
      " 9   day        3390 non-null   int64 \n",
      " 10  month      3390 non-null   object\n",
      " 11  duration   3390 non-null   int64 \n",
      " 12  campaign   3390 non-null   int64 \n",
      " 13  pdays      3390 non-null   int64 \n",
      " 14  previous   3390 non-null   int64 \n",
      " 15  poutcome   3390 non-null   object\n",
      " 16  y          3390 non-null   object\n",
      "dtypes: int64(7), object(10)\n",
      "memory usage: 476.7+ KB\n"
     ]
    }
   ],
   "source": [
    "train.info()"
   ]
  },
  {
   "cell_type": "markdown",
   "metadata": {
    "id": "64X3YEInL39w"
   },
   "source": [
    "### Data Transformation - Train data "
   ]
  },
  {
   "cell_type": "markdown",
   "metadata": {
    "id": "LOL9kkY0L39w"
   },
   "source": [
    "Let us go through each categorical/ordinal/binary columns and perform data transformation by either mapping or one hot vector encoding. Columns 'job', 'marital', 'education', 'default', 'housing', 'loan', 'contact', 'month', 'poutcome' and 'y' are of data type object. Also, column 'day' is not an object, it is an integer value from 1 to 31, but it requires data transformation as it is not a numeric value that can be added or subtracted, it represents the dates in a month."
   ]
  },
  {
   "cell_type": "markdown",
   "metadata": {
    "id": "W9KO6-W9L39w"
   },
   "source": [
    "Data Transformation on column JOB : one hot vector of length 12"
   ]
  },
  {
   "cell_type": "code",
   "execution_count": null,
   "metadata": {
    "id": "sPgs1iZrL39w"
   },
   "outputs": [],
   "source": [
    "cols = pd.get_dummies(train['job'], prefix= 'job')\n",
    "train[cols.columns] = cols\n",
    "train.drop('job', axis = 1, inplace = True)"
   ]
  },
  {
   "cell_type": "markdown",
   "metadata": {
    "id": "XfmgX4pBL39w"
   },
   "source": [
    "Data Transformation on column MARITAL : one hot vector of length 3"
   ]
  },
  {
   "cell_type": "code",
   "execution_count": null,
   "metadata": {
    "id": "knfQD9cjL39w"
   },
   "outputs": [],
   "source": [
    "cols = pd.get_dummies(train['marital'], prefix= 'marital')\n",
    "train[cols.columns] = cols\n",
    "train.drop('marital', axis = 1, inplace = True)"
   ]
  },
  {
   "cell_type": "markdown",
   "metadata": {
    "id": "MdWu-SFnL39w"
   },
   "source": [
    "Data Transformation on column EDUCATION : 0 to 3"
   ]
  },
  {
   "cell_type": "code",
   "execution_count": null,
   "metadata": {
    "id": "U5BUDDzHL39w"
   },
   "outputs": [],
   "source": [
    "train['education'] = train['education'].map({'unknown':0, 'primary':1, 'secondary':2, 'tertiary':3}).astype(int)"
   ]
  },
  {
   "cell_type": "markdown",
   "metadata": {
    "id": "ZEhWa1mJL39w"
   },
   "source": [
    "Data Transformation on column DEFAULT : We will plot 'default' to see the number of yes and no."
   ]
  },
  {
   "cell_type": "code",
   "execution_count": null,
   "metadata": {
    "colab": {
     "base_uri": "https://localhost:8080/"
    },
    "id": "EdsM4YXXL39w",
    "outputId": "b3e89418-82ec-4f3c-e32d-f8fd08e51787"
   },
   "outputs": [
    {
     "data": {
      "text/plain": [
       "(array([0, 1]), <a list of 2 Text major ticklabel objects>)"
      ]
     },
     "execution_count": 28,
     "metadata": {
      "tags": []
     },
     "output_type": "execute_result"
    },
    {
     "data": {
      "image/png": "[encoded data removed]",
      "text/plain": [
       "<Figure size 432x288 with 1 Axes>"
      ]
     },
     "metadata": {
      "needs_background": "light",
      "tags": []
     },
     "output_type": "display_data"
    }
   ],
   "source": [
    "train['default'].value_counts().plot(kind='bar', title='Default Counts')\n",
    "plt.xticks(rotation=0)"
   ]
  },
  {
   "cell_type": "markdown",
   "metadata": {
    "id": "km048M23L39w"
   },
   "source": [
    "We can see that the frequent class in column 'default' is 'no'. Thus, 'no' is mapped to 1 and 'yes' to 0."
   ]
  },
  {
   "cell_type": "code",
   "execution_count": null,
   "metadata": {
    "id": "k7Te8U2HL39w"
   },
   "outputs": [],
   "source": [
    "train['default'] = train['default'].map({'no':1, 'yes':0}).astype(int)"
   ]
  },
  {
   "cell_type": "markdown",
   "metadata": {
    "id": "J_zZMP7YL39w"
   },
   "source": [
    "Data Transformation on column HOUSING : We will plot 'housing' to see the number of yes and no."
   ]
  },
  {
   "cell_type": "code",
   "execution_count": null,
   "metadata": {
    "colab": {
     "base_uri": "https://localhost:8080/"
    },
    "id": "ttYWNfxjL39w",
    "outputId": "f941c7ce-84b2-464f-aa1d-12808a447b36"
   },
   "outputs": [
    {
     "data": {
      "text/plain": [
       "(array([0, 1]), <a list of 2 Text major ticklabel objects>)"
      ]
     },
     "execution_count": 30,
     "metadata": {
      "tags": []
     },
     "output_type": "execute_result"
    },
    {
     "data": {
      "image/png": "[encoded data removed]",
      "text/plain": [
       "<Figure size 432x288 with 1 Axes>"
      ]
     },
     "metadata": {
      "needs_background": "light",
      "tags": []
     },
     "output_type": "display_data"
    }
   ],
   "source": [
    "train['housing'].value_counts().plot(kind='bar', title='Housing Counts')\n",
    "plt.xticks(rotation=0)"
   ]
  },
  {
   "cell_type": "markdown",
   "metadata": {
    "id": "il7FID5_L39w"
   },
   "source": [
    "We can see that the frequent class in column 'housing' is 'yes'. Thus, 'yes' is mapped to 1 and 'no' to 0."
   ]
  },
  {
   "cell_type": "code",
   "execution_count": null,
   "metadata": {
    "id": "QP04a5OqL39w"
   },
   "outputs": [],
   "source": [
    "train['housing'] = train['housing'].map({'yes':1, 'no':0}).astype(int)"
   ]
  },
  {
   "cell_type": "markdown",
   "metadata": {
    "id": "AbFo2ZeqL39w"
   },
   "source": [
    "Data Transformation on column LOAN : We will plot 'loan' to see the number of yes and no."
   ]
  },
  {
   "cell_type": "code",
   "execution_count": null,
   "metadata": {
    "colab": {
     "base_uri": "https://localhost:8080/"
    },
    "id": "ZE4BXDviL39w",
    "outputId": "f1141c85-b541-4491-8477-a6902875fa4d"
   },
   "outputs": [
    {
     "data": {
      "text/plain": [
       "(array([0, 1]), <a list of 2 Text major ticklabel objects>)"
      ]
     },
     "execution_count": 32,
     "metadata": {
      "tags": []
     },
     "output_type": "execute_result"
    },
    {
     "data": {
      "image/png": "[encoded data removed]",
      "text/plain": [
       "<Figure size 432x288 with 1 Axes>"
      ]
     },
     "metadata": {
      "needs_background": "light",
      "tags": []
     },
     "output_type": "display_data"
    }
   ],
   "source": [
    "train['loan'].value_counts().plot(kind='bar', title='Loan Counts')\n",
    "plt.xticks(rotation=0)"
   ]
  },
  {
   "cell_type": "markdown",
   "metadata": {
    "id": "Mq6waA_fL39w"
   },
   "source": [
    "We can see that the frequent class in column 'loan' is 'no'. Thus, 'no' is mapped to 1 and 'yes' to 0."
   ]
  },
  {
   "cell_type": "code",
   "execution_count": null,
   "metadata": {
    "id": "WJq4-bXKL39w"
   },
   "outputs": [],
   "source": [
    "train['loan'] = train['loan'].map({'no':1, 'yes':0}).astype(int)"
   ]
  },
  {
   "cell_type": "markdown",
   "metadata": {
    "id": "925P7OWgL39w"
   },
   "source": [
    "Data Transformation on column CONTACT : one hot vector of length 3"
   ]
  },
  {
   "cell_type": "code",
   "execution_count": null,
   "metadata": {
    "id": "lI70ZBE0L39w"
   },
   "outputs": [],
   "source": [
    "cols = pd.get_dummies(train['contact'], prefix= 'contact')\n",
    "train[cols.columns] = cols\n",
    "train.drop('contact', axis = 1, inplace = True)"
   ]
  },
  {
   "cell_type": "markdown",
   "metadata": {
    "id": "GlmahYBiL39w"
   },
   "source": [
    "Data Transformation on column MONTH : one hot vector of length 12"
   ]
  },
  {
   "cell_type": "code",
   "execution_count": null,
   "metadata": {
    "id": "uNpY_eQkL39w"
   },
   "outputs": [],
   "source": [
    "cols = pd.get_dummies(train['month'], prefix= 'month')\n",
    "train[cols.columns] = cols\n",
    "train.drop('month', axis = 1, inplace = True)"
   ]
  },
  {
   "cell_type": "markdown",
   "metadata": {
    "id": "DPFBOzT6L39w"
   },
   "source": [
    "Data Transformation on column POUTCOME : one hot vector of length 4"
   ]
  },
  {
   "cell_type": "code",
   "execution_count": null,
   "metadata": {
    "id": "rS9Qd1QYL39w"
   },
   "outputs": [],
   "source": [
    "cols = pd.get_dummies(train['poutcome'], prefix= 'poutcome')\n",
    "train[cols.columns] = cols\n",
    "train.drop('poutcome', axis = 1, inplace = True)"
   ]
  },
  {
   "cell_type": "markdown",
   "metadata": {
    "id": "fyTZuMMWL39x"
   },
   "source": [
    "Data Transformation on column y(target value) : We will plot 'y' to see the number of yes and no."
   ]
  },
  {
   "cell_type": "code",
   "execution_count": null,
   "metadata": {
    "colab": {
     "base_uri": "https://localhost:8080/"
    },
    "id": "PmpDbc7WL39x",
    "outputId": "ff9cbea2-e8b3-4d5f-b603-02e70816e2aa"
   },
   "outputs": [
    {
     "data": {
      "text/plain": [
       "(array([0, 1]), <a list of 2 Text major ticklabel objects>)"
      ]
     },
     "execution_count": 37,
     "metadata": {
      "tags": []
     },
     "output_type": "execute_result"
    },
    {
     "data": {
      "image/png": "[encoded data removed]",
      "text/plain": [
       "<Figure size 432x288 with 1 Axes>"
      ]
     },
     "metadata": {
      "needs_background": "light",
      "tags": []
     },
     "output_type": "display_data"
    }
   ],
   "source": [
    "train['y'].value_counts().plot(kind='bar', title='y(target value) Counts')\n",
    "plt.xticks(rotation=0)"
   ]
  },
  {
   "cell_type": "markdown",
   "metadata": {
    "id": "RtqCefPPL39y"
   },
   "source": [
    "We can see that the frequent class in column 'y' is 'no'. Thus, 'no' is mapped to 1 and 'yes' to 0."
   ]
  },
  {
   "cell_type": "code",
   "execution_count": null,
   "metadata": {
    "id": "aGL2ZwGsL39y"
   },
   "outputs": [],
   "source": [
    "train['y'] = train['y'].map({'no':1, 'yes':0}).astype(int)"
   ]
  },
  {
   "cell_type": "markdown",
   "metadata": {
    "id": "iNUywSOaL39y"
   },
   "source": [
    "Data Transformation on column DAY : one hot vector of length 31 (Since, it represents the last contact day of the month)"
   ]
  },
  {
   "cell_type": "code",
   "execution_count": null,
   "metadata": {
    "id": "otNIaT1VL39y"
   },
   "outputs": [],
   "source": [
    "cols = pd.get_dummies(train['day'], prefix= 'day')\n",
    "train[cols.columns] = cols\n",
    "train.drop('day', axis = 1, inplace = True)"
   ]
  },
  {
   "cell_type": "code",
   "execution_count": null,
   "metadata": {
    "colab": {
     "base_uri": "https://localhost:8080/"
    },
    "id": "KJfU4O_WL39y",
    "outputId": "74c92b85-016f-4770-94b2-5755d4628a83"
   },
   "outputs": [
    {
     "name": "stdout",
     "output_type": "stream",
     "text": [
      "<class 'pandas.core.frame.DataFrame'>\n",
      "Int64Index: 3390 entries, 4384 to 2732\n",
      "Data columns (total 76 columns):\n",
      " #   Column             Non-Null Count  Dtype\n",
      "---  ------             --------------  -----\n",
      " 0   age                3390 non-null   int64\n",
      " 1   education          3390 non-null   int64\n",
      " 2   default            3390 non-null   int64\n",
      " 3   balance            3390 non-null   int64\n",
      " 4   housing            3390 non-null   int64\n",
      " 5   loan               3390 non-null   int64\n",
      " 6   duration           3390 non-null   int64\n",
      " 7   campaign           3390 non-null   int64\n",
      " 8   pdays              3390 non-null   int64\n",
      " 9   previous           3390 non-null   int64\n",
      " 10  y                  3390 non-null   int64\n",
      " 11  job_admin.         3390 non-null   uint8\n",
      " 12  job_blue-collar    3390 non-null   uint8\n",
      " 13  job_entrepreneur   3390 non-null   uint8\n",
      " 14  job_housemaid      3390 non-null   uint8\n",
      " 15  job_management     3390 non-null   uint8\n",
      " 16  job_retired        3390 non-null   uint8\n",
      " 17  job_self-employed  3390 non-null   uint8\n",
      " 18  job_services       3390 non-null   uint8\n",
      " 19  job_student        3390 non-null   uint8\n",
      " 20  job_technician     3390 non-null   uint8\n",
      " 21  job_unemployed     3390 non-null   uint8\n",
      " 22  job_unknown        3390 non-null   uint8\n",
      " 23  marital_divorced   3390 non-null   uint8\n",
      " 24  marital_married    3390 non-null   uint8\n",
      " 25  marital_single     3390 non-null   uint8\n",
      " 26  contact_cellular   3390 non-null   uint8\n",
      " 27  contact_telephone  3390 non-null   uint8\n",
      " 28  contact_unknown    3390 non-null   uint8\n",
      " 29  month_apr          3390 non-null   uint8\n",
      " 30  month_aug          3390 non-null   uint8\n",
      " 31  month_dec          3390 non-null   uint8\n",
      " 32  month_feb          3390 non-null   uint8\n",
      " 33  month_jan          3390 non-null   uint8\n",
      " 34  month_jul          3390 non-null   uint8\n",
      " 35  month_jun          3390 non-null   uint8\n",
      " 36  month_mar          3390 non-null   uint8\n",
      " 37  month_may          3390 non-null   uint8\n",
      " 38  month_nov          3390 non-null   uint8\n",
      " 39  month_oct          3390 non-null   uint8\n",
      " 40  month_sep          3390 non-null   uint8\n",
      " 41  poutcome_failure   3390 non-null   uint8\n",
      " 42  poutcome_other     3390 non-null   uint8\n",
      " 43  poutcome_success   3390 non-null   uint8\n",
      " 44  poutcome_unknown   3390 non-null   uint8\n",
      " 45  day_1              3390 non-null   uint8\n",
      " 46  day_2              3390 non-null   uint8\n",
      " 47  day_3              3390 non-null   uint8\n",
      " 48  day_4              3390 non-null   uint8\n",
      " 49  day_5              3390 non-null   uint8\n",
      " 50  day_6              3390 non-null   uint8\n",
      " 51  day_7              3390 non-null   uint8\n",
      " 52  day_8              3390 non-null   uint8\n",
      " 53  day_9              3390 non-null   uint8\n",
      " 54  day_10             3390 non-null   uint8\n",
      " 55  day_11             3390 non-null   uint8\n",
      " 56  day_12             3390 non-null   uint8\n",
      " 57  day_13             3390 non-null   uint8\n",
      " 58  day_14             3390 non-null   uint8\n",
      " 59  day_15             3390 non-null   uint8\n",
      " 60  day_16             3390 non-null   uint8\n",
      " 61  day_17             3390 non-null   uint8\n",
      " 62  day_18             3390 non-null   uint8\n",
      " 63  day_19             3390 non-null   uint8\n",
      " 64  day_20             3390 non-null   uint8\n",
      " 65  day_21             3390 non-null   uint8\n",
      " 66  day_22             3390 non-null   uint8\n",
      " 67  day_23             3390 non-null   uint8\n",
      " 68  day_24             3390 non-null   uint8\n",
      " 69  day_25             3390 non-null   uint8\n",
      " 70  day_26             3390 non-null   uint8\n",
      " 71  day_27             3390 non-null   uint8\n",
      " 72  day_28             3390 non-null   uint8\n",
      " 73  day_29             3390 non-null   uint8\n",
      " 74  day_30             3390 non-null   uint8\n",
      " 75  day_31             3390 non-null   uint8\n",
      "dtypes: int64(11), uint8(65)\n",
      "memory usage: 533.0 KB\n"
     ]
    }
   ],
   "source": [
    "train.info()"
   ]
  },
  {
   "cell_type": "code",
   "execution_count": null,
   "metadata": {
    "colab": {
     "base_uri": "https://localhost:8080/"
    },
    "id": "N3e3-BqqL39y",
    "outputId": "b0eb4fd2-53e0-48d3-c43d-41a6d497cf54"
   },
   "outputs": [
    {
     "data": {
      "text/plain": [
       "(3390, 76)"
      ]
     },
     "execution_count": 41,
     "metadata": {
      "tags": []
     },
     "output_type": "execute_result"
    }
   ],
   "source": [
    "train.shape"
   ]
  },
  {
   "cell_type": "markdown",
   "metadata": {
    "id": "TiEO2XauL39y"
   },
   "source": [
    "### Imputing Missing Values in Test data"
   ]
  },
  {
   "cell_type": "markdown",
   "metadata": {
    "id": "HDFz1-DKL39y"
   },
   "source": [
    "The imputatin of missing values performed for the train data should be replicated for the test data as well. "
   ]
  },
  {
   "cell_type": "code",
   "execution_count": null,
   "metadata": {
    "colab": {
     "base_uri": "https://localhost:8080/"
    },
    "id": "F4X2b0yPL39y",
    "outputId": "430b6624-0afe-40af-a486-79b8bace0a0a"
   },
   "outputs": [
    {
     "name": "stdout",
     "output_type": "stream",
     "text": [
      "<class 'pandas.core.frame.DataFrame'>\n",
      "Int64Index: 1131 entries, 4274 to 1606\n",
      "Data columns (total 18 columns):\n",
      " #   Column     Non-Null Count  Dtype  \n",
      "---  ------     --------------  -----  \n",
      " 0   ID         1131 non-null   int64  \n",
      " 1   age        911 non-null    float64\n",
      " 2   job        1065 non-null   object \n",
      " 3   marital    1101 non-null   object \n",
      " 4   education  1076 non-null   object \n",
      " 5   default    1131 non-null   object \n",
      " 6   balance    1131 non-null   int64  \n",
      " 7   housing    1131 non-null   object \n",
      " 8   loan       1070 non-null   object \n",
      " 9   contact    1036 non-null   object \n",
      " 10  day        1131 non-null   int64  \n",
      " 11  month      1049 non-null   object \n",
      " 12  duration   1131 non-null   int64  \n",
      " 13  campaign   1131 non-null   int64  \n",
      " 14  pdays      1131 non-null   int64  \n",
      " 15  previous   1131 non-null   int64  \n",
      " 16  poutcome   1131 non-null   object \n",
      " 17  y          1131 non-null   object \n",
      "dtypes: float64(1), int64(7), object(10)\n",
      "memory usage: 167.9+ KB\n"
     ]
    }
   ],
   "source": [
    "test.info()"
   ]
  },
  {
   "cell_type": "code",
   "execution_count": null,
   "metadata": {
    "id": "GtPlDJjfL39y"
   },
   "outputs": [],
   "source": [
    "test.drop('ID', axis = 1, inplace = True)"
   ]
  },
  {
   "cell_type": "code",
   "execution_count": null,
   "metadata": {
    "colab": {
     "base_uri": "https://localhost:8080/"
    },
    "id": "E3WYs_roL39y",
    "outputId": "13e12850-66b8-406d-eb77-786d90cd38ff"
   },
   "outputs": [
    {
     "data": {
      "text/html": [
       "<div>\n",
       "<style scoped>\n",
       "    .dataframe tbody tr th:only-of-type {\n",
       "        vertical-align: middle;\n",
       "    }\n",
       "\n",
       "    .dataframe tbody tr th {\n",
       "        vertical-align: top;\n",
       "    }\n",
       "\n",
       "    .dataframe thead th {\n",
       "        text-align: right;\n",
       "    }\n",
       "</style>\n",
       "<table border=\"1\" class=\"dataframe\">\n",
       "  <thead>\n",
       "    <tr style=\"text-align: right;\">\n",
       "      <th></th>\n",
       "      <th>age</th>\n",
       "      <th>balance</th>\n",
       "      <th>day</th>\n",
       "      <th>duration</th>\n",
       "      <th>campaign</th>\n",
       "      <th>pdays</th>\n",
       "      <th>previous</th>\n",
       "    </tr>\n",
       "  </thead>\n",
       "  <tbody>\n",
       "    <tr>\n",
       "      <th>count</th>\n",
       "      <td>911.000000</td>\n",
       "      <td>1131.000000</td>\n",
       "      <td>1131.000000</td>\n",
       "      <td>1131.000000</td>\n",
       "      <td>1131.000000</td>\n",
       "      <td>1131.000000</td>\n",
       "      <td>1131.000000</td>\n",
       "    </tr>\n",
       "    <tr>\n",
       "      <th>mean</th>\n",
       "      <td>41.148189</td>\n",
       "      <td>1394.261715</td>\n",
       "      <td>16.116711</td>\n",
       "      <td>275.000884</td>\n",
       "      <td>2.796640</td>\n",
       "      <td>38.904509</td>\n",
       "      <td>0.540230</td>\n",
       "    </tr>\n",
       "    <tr>\n",
       "      <th>std</th>\n",
       "      <td>10.394789</td>\n",
       "      <td>2819.343894</td>\n",
       "      <td>8.294608</td>\n",
       "      <td>281.583539</td>\n",
       "      <td>3.234114</td>\n",
       "      <td>98.235403</td>\n",
       "      <td>1.689876</td>\n",
       "    </tr>\n",
       "    <tr>\n",
       "      <th>min</th>\n",
       "      <td>19.000000</td>\n",
       "      <td>-3313.000000</td>\n",
       "      <td>1.000000</td>\n",
       "      <td>4.000000</td>\n",
       "      <td>1.000000</td>\n",
       "      <td>-1.000000</td>\n",
       "      <td>0.000000</td>\n",
       "    </tr>\n",
       "    <tr>\n",
       "      <th>25%</th>\n",
       "      <td>33.000000</td>\n",
       "      <td>61.500000</td>\n",
       "      <td>9.000000</td>\n",
       "      <td>105.000000</td>\n",
       "      <td>1.000000</td>\n",
       "      <td>-1.000000</td>\n",
       "      <td>0.000000</td>\n",
       "    </tr>\n",
       "    <tr>\n",
       "      <th>50%</th>\n",
       "      <td>40.000000</td>\n",
       "      <td>456.000000</td>\n",
       "      <td>16.000000</td>\n",
       "      <td>185.000000</td>\n",
       "      <td>2.000000</td>\n",
       "      <td>-1.000000</td>\n",
       "      <td>0.000000</td>\n",
       "    </tr>\n",
       "    <tr>\n",
       "      <th>75%</th>\n",
       "      <td>48.000000</td>\n",
       "      <td>1547.000000</td>\n",
       "      <td>22.000000</td>\n",
       "      <td>324.000000</td>\n",
       "      <td>3.000000</td>\n",
       "      <td>-1.000000</td>\n",
       "      <td>0.000000</td>\n",
       "    </tr>\n",
       "    <tr>\n",
       "      <th>max</th>\n",
       "      <td>83.000000</td>\n",
       "      <td>27359.000000</td>\n",
       "      <td>31.000000</td>\n",
       "      <td>2087.000000</td>\n",
       "      <td>32.000000</td>\n",
       "      <td>541.000000</td>\n",
       "      <td>23.000000</td>\n",
       "    </tr>\n",
       "  </tbody>\n",
       "</table>\n",
       "</div>"
      ],
      "text/plain": [
       "              age       balance  ...        pdays     previous\n",
       "count  911.000000   1131.000000  ...  1131.000000  1131.000000\n",
       "mean    41.148189   1394.261715  ...    38.904509     0.540230\n",
       "std     10.394789   2819.343894  ...    98.235403     1.689876\n",
       "min     19.000000  -3313.000000  ...    -1.000000     0.000000\n",
       "25%     33.000000     61.500000  ...    -1.000000     0.000000\n",
       "50%     40.000000    456.000000  ...    -1.000000     0.000000\n",
       "75%     48.000000   1547.000000  ...    -1.000000     0.000000\n",
       "max     83.000000  27359.000000  ...   541.000000    23.000000\n",
       "\n",
       "[8 rows x 7 columns]"
      ]
     },
     "execution_count": 44,
     "metadata": {
      "tags": []
     },
     "output_type": "execute_result"
    }
   ],
   "source": [
    "test.describe()"
   ]
  },
  {
   "cell_type": "code",
   "execution_count": null,
   "metadata": {
    "colab": {
     "base_uri": "https://localhost:8080/"
    },
    "id": "Dz5Nu6lXL39z",
    "outputId": "1d246df1-c6db-4175-8bcc-455fa8a83b67"
   },
   "outputs": [
    {
     "data": {
      "text/plain": [
       "Index(['age', 'job', 'marital', 'education', 'loan', 'contact', 'month'], dtype='object')"
      ]
     },
     "execution_count": 45,
     "metadata": {
      "tags": []
     },
     "output_type": "execute_result"
    }
   ],
   "source": [
    "test.columns[test.isnull().any()]"
   ]
  },
  {
   "cell_type": "code",
   "execution_count": null,
   "metadata": {
    "id": "bPkcOqWKL39z"
   },
   "outputs": [],
   "source": [
    "# Feature: AGE\n",
    "test['age']= test['age'].fillna(test['age'].median())\n",
    "test['age'] = test['age'].astype(int)\n",
    "\n",
    "# Feature: MARITAL\n",
    "test['marital'].replace(np.NaN, 'married', inplace = True)\n",
    "\n",
    "# Feature: EDUCATION\n",
    "test['education'].replace(np.NaN, 'secondary', inplace = True)\n",
    "\n",
    "# Feature: JOB\n",
    "test['job'].replace(np.NaN, 'management', inplace = True)\n",
    "\n",
    "# Feature: LOAN\n",
    "test['loan'].replace(np.NaN, 'no', inplace = True)\n",
    "\n",
    "# Feature: CONTACT\n",
    "test['contact'].replace(np.NaN, 'cellular', inplace = True)\n",
    "\n",
    "# Feature: MONTH\n",
    "test['month'].replace(np.NaN, 'may', inplace = True)"
   ]
  },
  {
   "cell_type": "code",
   "execution_count": null,
   "metadata": {
    "colab": {
     "base_uri": "https://localhost:8080/"
    },
    "id": "cJICjE42L39z",
    "outputId": "c3a95465-bf7c-46ed-9fce-324543faa828"
   },
   "outputs": [
    {
     "data": {
      "text/plain": [
       "Index([], dtype='object')"
      ]
     },
     "execution_count": 47,
     "metadata": {
      "tags": []
     },
     "output_type": "execute_result"
    }
   ],
   "source": [
    "test.columns[test.isnull().any()]"
   ]
  },
  {
   "cell_type": "code",
   "execution_count": null,
   "metadata": {
    "colab": {
     "base_uri": "https://localhost:8080/"
    },
    "id": "jVtBjW3gL390",
    "outputId": "2cd7f7ac-5a2d-4e2c-daee-c4939f9bd6df"
   },
   "outputs": [
    {
     "name": "stdout",
     "output_type": "stream",
     "text": [
      "<class 'pandas.core.frame.DataFrame'>\n",
      "Int64Index: 1131 entries, 4274 to 1606\n",
      "Data columns (total 17 columns):\n",
      " #   Column     Non-Null Count  Dtype \n",
      "---  ------     --------------  ----- \n",
      " 0   age        1131 non-null   int64 \n",
      " 1   job        1131 non-null   object\n",
      " 2   marital    1131 non-null   object\n",
      " 3   education  1131 non-null   object\n",
      " 4   default    1131 non-null   object\n",
      " 5   balance    1131 non-null   int64 \n",
      " 6   housing    1131 non-null   object\n",
      " 7   loan       1131 non-null   object\n",
      " 8   contact    1131 non-null   object\n",
      " 9   day        1131 non-null   int64 \n",
      " 10  month      1131 non-null   object\n",
      " 11  duration   1131 non-null   int64 \n",
      " 12  campaign   1131 non-null   int64 \n",
      " 13  pdays      1131 non-null   int64 \n",
      " 14  previous   1131 non-null   int64 \n",
      " 15  poutcome   1131 non-null   object\n",
      " 16  y          1131 non-null   object\n",
      "dtypes: int64(7), object(10)\n",
      "memory usage: 159.0+ KB\n"
     ]
    }
   ],
   "source": [
    "test.info()"
   ]
  },
  {
   "cell_type": "markdown",
   "metadata": {
    "id": "IW35WJzKL390"
   },
   "source": [
    "### Data Transformation - Test Data"
   ]
  },
  {
   "cell_type": "markdown",
   "metadata": {
    "id": "bH7hRe8hL390"
   },
   "source": [
    "The data transformation steps performed for the train data should be replicated for the test data as well."
   ]
  },
  {
   "cell_type": "code",
   "execution_count": null,
   "metadata": {
    "id": "9OknZYelL390"
   },
   "outputs": [],
   "source": [
    "# Feature: JOB\n",
    "cols = pd.get_dummies(test['job'], prefix= 'job')\n",
    "test[cols.columns] = cols\n",
    "test.drop('job', axis = 1, inplace = True)\n",
    "\n",
    "#Feature: MARITAL\n",
    "cols = pd.get_dummies(test['marital'], prefix= 'marital')\n",
    "test[cols.columns] = cols\n",
    "test.drop('marital', axis = 1, inplace = True)\n",
    "\n",
    "# Feature: EDUCATION\n",
    "test['education'] = test['education'].map({'unknown':0, 'primary':1, 'secondary':2, 'tertiary':3}).astype(int)\n",
    "\n",
    "# Feature: DEFAULT\n",
    "test['default'] = test['default'].map({'no':1, 'yes':0}).astype(int)\n",
    "\n",
    "# Feature: HOUSING\n",
    "test['housing'] = test['housing'].map({'yes':1, 'no':0}).astype(int)\n",
    "\n",
    "# Feature: LOAN\n",
    "test['loan'] = test['loan'].map({'no':1, 'yes':0}).astype(int)\n",
    "\n",
    "# Feature: CONTACT\n",
    "cols = pd.get_dummies(test['contact'], prefix= 'contact')\n",
    "test[cols.columns] = cols\n",
    "test.drop('contact', axis = 1, inplace = True)\n",
    "\n",
    "# Feature: MONTH\n",
    "cols = pd.get_dummies(test['month'], prefix= 'month')\n",
    "test[cols.columns] = cols\n",
    "test.drop('month', axis = 1, inplace = True)\n",
    "\n",
    "# Feature: POUTCOME\n",
    "cols = pd.get_dummies(test['poutcome'], prefix= 'poutcome')\n",
    "test[cols.columns] = cols\n",
    "test.drop('poutcome', axis = 1, inplace = True)\n",
    "\n",
    "# Feature: Y (Target Value)\n",
    "test['y'] = test['y'].map({'no':1, 'yes':0}).astype(int)\n",
    "\n",
    "# Feature: DAY\n",
    "cols = pd.get_dummies(test['day'], prefix= 'day')\n",
    "test[cols.columns] = cols\n",
    "test.drop('day', axis = 1, inplace = True)"
   ]
  },
  {
   "cell_type": "code",
   "execution_count": null,
   "metadata": {
    "colab": {
     "base_uri": "https://localhost:8080/"
    },
    "id": "y-XSPJ9DL390",
    "outputId": "f247170f-f0fa-4e9d-b146-979d8ee63fdc"
   },
   "outputs": [
    {
     "name": "stdout",
     "output_type": "stream",
     "text": [
      "<class 'pandas.core.frame.DataFrame'>\n",
      "Int64Index: 1131 entries, 4274 to 1606\n",
      "Data columns (total 76 columns):\n",
      " #   Column             Non-Null Count  Dtype\n",
      "---  ------             --------------  -----\n",
      " 0   age                1131 non-null   int64\n",
      " 1   education          1131 non-null   int64\n",
      " 2   default            1131 non-null   int64\n",
      " 3   balance            1131 non-null   int64\n",
      " 4   housing            1131 non-null   int64\n",
      " 5   loan               1131 non-null   int64\n",
      " 6   duration           1131 non-null   int64\n",
      " 7   campaign           1131 non-null   int64\n",
      " 8   pdays              1131 non-null   int64\n",
      " 9   previous           1131 non-null   int64\n",
      " 10  y                  1131 non-null   int64\n",
      " 11  job_admin.         1131 non-null   uint8\n",
      " 12  job_blue-collar    1131 non-null   uint8\n",
      " 13  job_entrepreneur   1131 non-null   uint8\n",
      " 14  job_housemaid      1131 non-null   uint8\n",
      " 15  job_management     1131 non-null   uint8\n",
      " 16  job_retired        1131 non-null   uint8\n",
      " 17  job_self-employed  1131 non-null   uint8\n",
      " 18  job_services       1131 non-null   uint8\n",
      " 19  job_student        1131 non-null   uint8\n",
      " 20  job_technician     1131 non-null   uint8\n",
      " 21  job_unemployed     1131 non-null   uint8\n",
      " 22  job_unknown        1131 non-null   uint8\n",
      " 23  marital_divorced   1131 non-null   uint8\n",
      " 24  marital_married    1131 non-null   uint8\n",
      " 25  marital_single     1131 non-null   uint8\n",
      " 26  contact_cellular   1131 non-null   uint8\n",
      " 27  contact_telephone  1131 non-null   uint8\n",
      " 28  contact_unknown    1131 non-null   uint8\n",
      " 29  month_apr          1131 non-null   uint8\n",
      " 30  month_aug          1131 non-null   uint8\n",
      " 31  month_dec          1131 non-null   uint8\n",
      " 32  month_feb          1131 non-null   uint8\n",
      " 33  month_jan          1131 non-null   uint8\n",
      " 34  month_jul          1131 non-null   uint8\n",
      " 35  month_jun          1131 non-null   uint8\n",
      " 36  month_mar          1131 non-null   uint8\n",
      " 37  month_may          1131 non-null   uint8\n",
      " 38  month_nov          1131 non-null   uint8\n",
      " 39  month_oct          1131 non-null   uint8\n",
      " 40  month_sep          1131 non-null   uint8\n",
      " 41  poutcome_failure   1131 non-null   uint8\n",
      " 42  poutcome_other     1131 non-null   uint8\n",
      " 43  poutcome_success   1131 non-null   uint8\n",
      " 44  poutcome_unknown   1131 non-null   uint8\n",
      " 45  day_1              1131 non-null   uint8\n",
      " 46  day_2              1131 non-null   uint8\n",
      " 47  day_3              1131 non-null   uint8\n",
      " 48  day_4              1131 non-null   uint8\n",
      " 49  day_5              1131 non-null   uint8\n",
      " 50  day_6              1131 non-null   uint8\n",
      " 51  day_7              1131 non-null   uint8\n",
      " 52  day_8              1131 non-null   uint8\n",
      " 53  day_9              1131 non-null   uint8\n",
      " 54  day_10             1131 non-null   uint8\n",
      " 55  day_11             1131 non-null   uint8\n",
      " 56  day_12             1131 non-null   uint8\n",
      " 57  day_13             1131 non-null   uint8\n",
      " 58  day_14             1131 non-null   uint8\n",
      " 59  day_15             1131 non-null   uint8\n",
      " 60  day_16             1131 non-null   uint8\n",
      " 61  day_17             1131 non-null   uint8\n",
      " 62  day_18             1131 non-null   uint8\n",
      " 63  day_19             1131 non-null   uint8\n",
      " 64  day_20             1131 non-null   uint8\n",
      " 65  day_21             1131 non-null   uint8\n",
      " 66  day_22             1131 non-null   uint8\n",
      " 67  day_23             1131 non-null   uint8\n",
      " 68  day_24             1131 non-null   uint8\n",
      " 69  day_25             1131 non-null   uint8\n",
      " 70  day_26             1131 non-null   uint8\n",
      " 71  day_27             1131 non-null   uint8\n",
      " 72  day_28             1131 non-null   uint8\n",
      " 73  day_29             1131 non-null   uint8\n",
      " 74  day_30             1131 non-null   uint8\n",
      " 75  day_31             1131 non-null   uint8\n",
      "dtypes: int64(11), uint8(65)\n",
      "memory usage: 177.8 KB\n"
     ]
    }
   ],
   "source": [
    "test.info()"
   ]
  },
  {
   "cell_type": "code",
   "execution_count": null,
   "metadata": {
    "colab": {
     "base_uri": "https://localhost:8080/"
    },
    "id": "LJ2xCaAJL390",
    "outputId": "6fe15e41-fd64-43fb-ddaa-bba9051e197a"
   },
   "outputs": [
    {
     "data": {
      "text/plain": [
       "(1131, 76)"
      ]
     },
     "execution_count": 51,
     "metadata": {
      "tags": []
     },
     "output_type": "execute_result"
    }
   ],
   "source": [
    "test.shape"
   ]
  },
  {
   "cell_type": "markdown",
   "metadata": {
    "id": "hTasLNOwL390"
   },
   "source": [
    "#### We have imputed the missing values as well as performed data transformation. Thus, our train and test data sets are completely clean. Now, the next steps will be to separate the feature set and target value in the train and test data and then, perform scaling on the feature set of train and test data. "
   ]
  },
  {
   "cell_type": "markdown",
   "metadata": {
    "id": "cgR9CiGoL390"
   },
   "source": [
    "### Separating Feature set and Target value in Train and Test Data Sets"
   ]
  },
  {
   "cell_type": "code",
   "execution_count": null,
   "metadata": {
    "id": "X0Cb0vvZL390"
   },
   "outputs": [],
   "source": [
    "# Create feature set and target value in train data\n",
    "train_feature = train.drop('y', axis = 1)\n",
    "train_target = train['y']\n",
    "\n",
    "# Create feature set and target value in test data\n",
    "test_feature = test.drop('y', axis = 1)\n",
    "test_target = test['y']"
   ]
  },
  {
   "cell_type": "markdown",
   "metadata": {
    "id": "X6SMkb1fL390"
   },
   "source": [
    "### Since, it is a Classification problem, we perform MinMaxScaler() to scale the feature set in train and test data"
   ]
  },
  {
   "cell_type": "code",
   "execution_count": null,
   "metadata": {
    "id": "GZlYJDPnL391"
   },
   "outputs": [],
   "source": [
    "from sklearn.preprocessing import MinMaxScaler\n",
    "scaler = MinMaxScaler()\n",
    "train_feature_scaled = scaler.fit_transform(train_feature)\n",
    "test_feature_scaled = scaler.transform(test_feature)"
   ]
  },
  {
   "cell_type": "code",
   "execution_count": null,
   "metadata": {
    "id": "H90sIRvcL391"
   },
   "outputs": [],
   "source": [
    "# Convert array back to dataframe\n",
    "from pandas import DataFrame\n",
    "train_scaled = DataFrame(train_feature_scaled)"
   ]
  },
  {
   "cell_type": "code",
   "execution_count": null,
   "metadata": {
    "id": "4KCBU7lnL391"
   },
   "outputs": [],
   "source": [
    "# Convert array back to dataframe\n",
    "from pandas import DataFrame\n",
    "test_scaled = DataFrame(test_feature_scaled)"
   ]
  },
  {
   "cell_type": "markdown",
   "metadata": {
    "id": "JUPet3ZPL391"
   },
   "source": [
    "### Classification Tasks"
   ]
  },
  {
   "cell_type": "code",
   "execution_count": null,
   "metadata": {
    "id": "mZR3ldTuL391"
   },
   "outputs": [],
   "source": [
    "from sklearn.neighbors import KNeighborsClassifier\n",
    "from sklearn.linear_model import LogisticRegression\n",
    "from sklearn.tree import DecisionTreeClassifier\n",
    "from sklearn.svm import LinearSVC\n",
    "import matplotlib.gridspec as gridspec\n",
    "from sklearn.svm import SVC\n",
    "from sklearn.model_selection import GridSearchCV\n",
    "from sklearn.metrics import confusion_matrix\n",
    "from sklearn.metrics import f1_score\n",
    "from sklearn.metrics import precision_recall_curve\n",
    "from sklearn.metrics import roc_curve\n",
    "from sklearn.metrics import classification_report\n",
    "from numpy import sqrt\n",
    "from numpy import argmax\n",
    "from sklearn.metrics import roc_auc_score\n",
    "from sklearn.metrics import accuracy_score\n",
    "\n",
    "from sklearn.ensemble import VotingClassifier\n",
    "from sklearn.ensemble import BaggingClassifier\n",
    "from sklearn.ensemble import AdaBoostClassifier\n",
    "from  sklearn.ensemble import GradientBoostingClassifier\n",
    "from sklearn.decomposition import PCA"
   ]
  },
  {
   "cell_type": "markdown",
   "metadata": {
    "id": "tXbgWIjlL391"
   },
   "source": [
    "### Note: For all the below Classification Tasks, the Evaluation Function used is the same from Project 1 - ROC_AUC Score."
   ]
  },
  {
   "cell_type": "markdown",
   "metadata": {
    "id": "OqNFJvISL391"
   },
   "source": [
    "### 1. Voting Classifiers"
   ]
  },
  {
   "cell_type": "markdown",
   "metadata": {
    "id": "WKaeg5DyL391"
   },
   "source": [
    "### Hard Voting"
   ]
  },
  {
   "cell_type": "markdown",
   "metadata": {
    "id": "i_z0xjGxL391"
   },
   "source": [
    "The algorithms that are used for hard voting classifier are kNN Classifier, Logistic Regression and Decision Tree Classifier."
   ]
  },
  {
   "cell_type": "code",
   "execution_count": null,
   "metadata": {
    "id": "39pF3liNL392"
   },
   "outputs": [],
   "source": [
    "knn_clf = KNeighborsClassifier(n_neighbors=11, weights='uniform',metric='manhattan')\n",
    "lr_clf = LogisticRegression(C=1, penalty='l2', random_state=0)\n",
    "dt_clf = DecisionTreeClassifier(max_depth=3, random_state=0)"
   ]
  },
  {
   "cell_type": "code",
   "execution_count": null,
   "metadata": {
    "colab": {
     "base_uri": "https://localhost:8080/"
    },
    "id": "dJvl6cpBL392",
    "outputId": "8666dae1-e6fb-4c3f-89c1-4558143ff677"
   },
   "outputs": [
    {
     "name": "stdout",
     "output_type": "stream",
     "text": [
      "Hard Voting train score: 0.9015\n",
      "Hard Voting test score: 0.8904\n"
     ]
    }
   ],
   "source": [
    "hard_voting_clf = VotingClassifier(estimators=[('knn', knn_clf), ('logreg', lr_clf),('dt', dt_clf)], voting='hard')                                              \n",
    "hard_voting_clf.fit(train_scaled, train_target)\n",
    "\n",
    "# Calculating Accuracy using Voting Classifier for hard voting\n",
    "print(\"Hard Voting train score: {:.4f}\".format(hard_voting_clf.score(train_scaled, train_target)))\n",
    "print(\"Hard Voting test score: {:.4f}\".format(hard_voting_clf.score(test_scaled, test_target)))"
   ]
  },
  {
   "cell_type": "markdown",
   "metadata": {
    "id": "r6HUSIZHL392"
   },
   "source": [
    "### Evaluation of Hard Voting"
   ]
  },
  {
   "cell_type": "markdown",
   "metadata": {
    "id": "S_E_PMp2L392"
   },
   "source": [
    "##### Since predict_proba is not available when voting = 'hard', we cannot evaluate using ROC_AUC score. Thus, we have calculated the F1 score instead. "
   ]
  },
  {
   "cell_type": "markdown",
   "metadata": {
    "id": "85990kQmL392"
   },
   "source": [
    "##### F1 Score"
   ]
  },
  {
   "cell_type": "code",
   "execution_count": null,
   "metadata": {
    "id": "zHoul5geL392"
   },
   "outputs": [],
   "source": [
    "hardPred = hard_voting_clf.predict(test_scaled)"
   ]
  },
  {
   "cell_type": "code",
   "execution_count": null,
   "metadata": {
    "colab": {
     "base_uri": "https://localhost:8080/"
    },
    "id": "agMQ-LIzL392",
    "outputId": "be573602-3dbd-4880-ba2e-7534369a9d56"
   },
   "outputs": [
    {
     "name": "stdout",
     "output_type": "stream",
     "text": [
      "F1 score for Hard Voting: 0.9408\n"
     ]
    }
   ],
   "source": [
    "print(\"F1 score for Hard Voting: {:.4f}\".format(f1_score(test_target, hardPred)))"
   ]
  },
  {
   "cell_type": "markdown",
   "metadata": {
    "id": "Cf4MPBt6L392"
   },
   "source": [
    "### Soft Voting"
   ]
  },
  {
   "cell_type": "markdown",
   "metadata": {
    "id": "xy6eq9apL392"
   },
   "source": [
    "The algorithms that are used for soft voting classifier are kNN Classifier, Logistic Regression and Decision Tree Classifier."
   ]
  },
  {
   "cell_type": "code",
   "execution_count": null,
   "metadata": {
    "id": "Zvz6leOhL392"
   },
   "outputs": [],
   "source": [
    "knn_clf = KNeighborsClassifier(n_neighbors=11, weights='uniform',metric='manhattan')\n",
    "lr_clf = LogisticRegression(C=1, penalty='l2',random_state=0)\n",
    "dt_clf = DecisionTreeClassifier(max_depth=3, random_state=0)"
   ]
  },
  {
   "cell_type": "code",
   "execution_count": null,
   "metadata": {
    "colab": {
     "base_uri": "https://localhost:8080/"
    },
    "id": "vGcxiOnZL392",
    "outputId": "7850bc0a-dce6-4dfe-bf63-300e996b3e0b"
   },
   "outputs": [
    {
     "name": "stdout",
     "output_type": "stream",
     "text": [
      "Soft Voting train score: 0.9038\n",
      "Soft Voting test score: 0.8886\n"
     ]
    }
   ],
   "source": [
    "soft_voting_clf = VotingClassifier(estimators=[('knn', knn_clf), ('logreg', lr_clf),\n",
    "                                               ('dt', dt_clf)], voting='soft')\n",
    "soft_voting_clf.fit(train_scaled, train_target)\n",
    "\n",
    "# Calculating Accuracy using Voting Classifier for soft voting\n",
    "print(\"Soft Voting train score: {:.4f}\".format(soft_voting_clf.score(train_scaled, train_target)))\n",
    "print(\"Soft Voting test score: {:.4f}\".format(soft_voting_clf.score(test_scaled, test_target)))"
   ]
  },
  {
   "cell_type": "markdown",
   "metadata": {
    "id": "qP1OksUrL392"
   },
   "source": [
    "### Evaluation of Soft Voting"
   ]
  },
  {
   "cell_type": "markdown",
   "metadata": {
    "id": "Nd5Pu0nDL392"
   },
   "source": [
    "##### F1 Score"
   ]
  },
  {
   "cell_type": "code",
   "execution_count": null,
   "metadata": {
    "id": "H4nTYzK7L393"
   },
   "outputs": [],
   "source": [
    "softPred = soft_voting_clf.predict(test_scaled)"
   ]
  },
  {
   "cell_type": "code",
   "execution_count": null,
   "metadata": {
    "colab": {
     "base_uri": "https://localhost:8080/"
    },
    "id": "C3Gy9e-qL393",
    "outputId": "d8cdd829-b9b4-47a3-f699-1c44d46ae9cf"
   },
   "outputs": [
    {
     "name": "stdout",
     "output_type": "stream",
     "text": [
      "F1 score for Soft Voting: 0.9400\n"
     ]
    }
   ],
   "source": [
    "print(\"F1 score for Soft Voting: {:.4f}\".format(f1_score(test_target, softPred)))"
   ]
  },
  {
   "cell_type": "markdown",
   "metadata": {
    "id": "uVStu8j3L394"
   },
   "source": [
    "##### ROC_AUC Score"
   ]
  },
  {
   "cell_type": "code",
   "execution_count": null,
   "metadata": {
    "colab": {
     "base_uri": "https://localhost:8080/"
    },
    "id": "xuYCk7jWL394",
    "outputId": "341be209-a3db-49e6-f5bc-aaa62b7f13d9"
   },
   "outputs": [
    {
     "name": "stdout",
     "output_type": "stream",
     "text": [
      "ROC_AUC Score for Soft Voting: 0.8942\n"
     ]
    }
   ],
   "source": [
    "soft_prob = soft_voting_clf.predict_proba(test_scaled)\n",
    "soft_prob = soft_prob[:,1]\n",
    "rascore_soft = roc_auc_score(test_target, soft_prob)\n",
    "print(\"ROC_AUC Score for Soft Voting: {:.4f}\".format(rascore_soft))"
   ]
  },
  {
   "cell_type": "markdown",
   "metadata": {
    "id": "9ZgcOya9L394"
   },
   "source": [
    "### 2. Bagging and Pasting"
   ]
  },
  {
   "cell_type": "markdown",
   "metadata": {
    "id": "-7-IAX1bL394"
   },
   "source": [
    "### Bagging using Logistic Regression"
   ]
  },
  {
   "cell_type": "code",
   "execution_count": null,
   "metadata": {
    "colab": {
     "base_uri": "https://localhost:8080/"
    },
    "id": "yhc_RM2eL395",
    "outputId": "66104c0f-7441-4b7d-88ad-98e25c9faf93"
   },
   "outputs": [
    {
     "name": "stdout",
     "output_type": "stream",
     "text": [
      "Train score: 0.8870\n",
      "Test score: 0.8780\n"
     ]
    }
   ],
   "source": [
    "lr_clf = LogisticRegression(C=1, penalty='l2',random_state=0)\n",
    "lr_bag_clf = BaggingClassifier(lr_clf, n_estimators=500, max_samples=100, bootstrap=True, n_jobs=-1, random_state=0)\n",
    "lr_bag_clf.fit(train_scaled, train_target)\n",
    "\n",
    "print('Train score: {:.4f}'.format(lr_bag_clf.score(train_scaled, train_target)))\n",
    "print('Test score: {:.4f}'.format(lr_bag_clf.score(test_scaled, test_target)))"
   ]
  },
  {
   "cell_type": "markdown",
   "metadata": {
    "id": "UVqS2q7_L395"
   },
   "source": [
    "#### Evaluation "
   ]
  },
  {
   "cell_type": "code",
   "execution_count": null,
   "metadata": {
    "colab": {
     "base_uri": "https://localhost:8080/"
    },
    "id": "B8QsqxZcL395",
    "outputId": "3eff0c38-06e0-495f-e1de-ff9c4c65160d"
   },
   "outputs": [
    {
     "name": "stdout",
     "output_type": "stream",
     "text": [
      "ROC_AUC Score for Bagging using Logistic Regression: 0.7687\n"
     ]
    }
   ],
   "source": [
    "bagLR_prob = lr_bag_clf.predict_proba(test_scaled)\n",
    "bagLR_prob = bagLR_prob[:,1]\n",
    "rascore_bagLR = roc_auc_score(test_target, bagLR_prob)\n",
    "print(\"ROC_AUC Score for Bagging using Logistic Regression: {:.4f}\".format(rascore_bagLR))"
   ]
  },
  {
   "cell_type": "markdown",
   "metadata": {
    "id": "WIlMtmZ2L395"
   },
   "source": [
    "### Bagging using Decision Tree Classifier"
   ]
  },
  {
   "cell_type": "code",
   "execution_count": null,
   "metadata": {
    "colab": {
     "base_uri": "https://localhost:8080/"
    },
    "id": "75ggqLt7L395",
    "outputId": "19163e55-3296-46a5-e1eb-0bd628fcf048"
   },
   "outputs": [
    {
     "name": "stdout",
     "output_type": "stream",
     "text": [
      "Train score: 0.8914\n",
      "Test score: 0.8877\n"
     ]
    }
   ],
   "source": [
    "dt_clf = DecisionTreeClassifier(max_depth=3, random_state=0)\n",
    "dt_clf.fit(train_scaled, train_target)\n",
    "dt_bag_clf = BaggingClassifier(dt_clf, n_estimators=500, max_samples=100, bootstrap=True, n_jobs=-1, random_state=0)\n",
    "dt_bag_clf.fit(train_scaled, train_target)\n",
    "\n",
    "print('Train score: {:.4f}'.format(dt_bag_clf.score(train_scaled, train_target)))\n",
    "print('Test score: {:.4f}'.format(dt_bag_clf.score(test_scaled, test_target)))"
   ]
  },
  {
   "cell_type": "markdown",
   "metadata": {
    "id": "5q4S0kWfL395"
   },
   "source": [
    "#### Evaluation"
   ]
  },
  {
   "cell_type": "code",
   "execution_count": null,
   "metadata": {
    "colab": {
     "base_uri": "https://localhost:8080/"
    },
    "id": "oiEIxPK-L395",
    "outputId": "a88a16ee-b831-4060-d4fe-43cc5c164515"
   },
   "outputs": [
    {
     "name": "stdout",
     "output_type": "stream",
     "text": [
      "ROC_AUC Score for Bagging using Decision Tree Classifier: 0.8840\n"
     ]
    }
   ],
   "source": [
    "bagDT_prob = dt_bag_clf.predict_proba(test_scaled)\n",
    "bagDT_prob = bagDT_prob[:,1]\n",
    "rascore_bagDT = roc_auc_score(test_target, bagDT_prob)\n",
    "print(\"ROC_AUC Score for Bagging using Decision Tree Classifier: {:.4f}\".format(rascore_bagDT))"
   ]
  },
  {
   "cell_type": "markdown",
   "metadata": {
    "id": "tzyntU3nL396"
   },
   "source": [
    "### Pasting using Logistic Regression"
   ]
  },
  {
   "cell_type": "code",
   "execution_count": null,
   "metadata": {
    "colab": {
     "base_uri": "https://localhost:8080/"
    },
    "id": "Z4E7KI-gL396",
    "outputId": "0320cd4a-86b4-4f4b-de41-b94b02c2cd77"
   },
   "outputs": [
    {
     "name": "stdout",
     "output_type": "stream",
     "text": [
      "Train score: 0.8870\n",
      "Test score: 0.8780\n"
     ]
    }
   ],
   "source": [
    "lr_clf = LogisticRegression(C=1, penalty='l2',random_state=0)\n",
    "lr_bag_clf = BaggingClassifier(lr_clf, n_estimators=500, max_samples=100, bootstrap=False, n_jobs=-1, random_state=0)\n",
    "lr_bag_clf.fit(train_scaled, train_target)\n",
    "\n",
    "print('Train score: {:.4f}'.format(lr_bag_clf.score(train_scaled, train_target)))\n",
    "print('Test score: {:.4f}'.format(lr_bag_clf.score(test_scaled, test_target)))"
   ]
  },
  {
   "cell_type": "markdown",
   "metadata": {
    "id": "4X8TttfaL396"
   },
   "source": [
    "#### Evaluation"
   ]
  },
  {
   "cell_type": "code",
   "execution_count": null,
   "metadata": {
    "colab": {
     "base_uri": "https://localhost:8080/"
    },
    "id": "RnA12He2L396",
    "outputId": "021cb7d5-d1e3-44b8-b4c9-001151f83e77"
   },
   "outputs": [
    {
     "name": "stdout",
     "output_type": "stream",
     "text": [
      "ROC_AUC Score for Pasting using Logistic Regression: 0.7695\n"
     ]
    }
   ],
   "source": [
    "pasteLR_prob = lr_bag_clf.predict_proba(test_scaled)\n",
    "pasteLR_prob = pasteLR_prob[:,1]\n",
    "rascore_pasteLR = roc_auc_score(test_target, pasteLR_prob)\n",
    "print(\"ROC_AUC Score for Pasting using Logistic Regression: {:.4f}\".format(rascore_pasteLR))"
   ]
  },
  {
   "cell_type": "markdown",
   "metadata": {
    "id": "JvG9QImpL396"
   },
   "source": [
    "### Pasting using Decision Tree Classifier"
   ]
  },
  {
   "cell_type": "code",
   "execution_count": null,
   "metadata": {
    "colab": {
     "base_uri": "https://localhost:8080/"
    },
    "id": "5_in_RQ4L396",
    "outputId": "c7c8c269-3f8d-4302-cdce-8de84ef0367d"
   },
   "outputs": [
    {
     "name": "stdout",
     "output_type": "stream",
     "text": [
      "Train score: 0.8926\n",
      "Test score: 0.8886\n"
     ]
    }
   ],
   "source": [
    "dt_clf = DecisionTreeClassifier(max_depth=3, random_state=0)\n",
    "dt_bag_clf = BaggingClassifier(dt_clf, n_estimators=500, max_samples=100, bootstrap=False, n_jobs=-1, random_state=0)\n",
    "dt_bag_clf.fit(train_scaled, train_target)\n",
    "\n",
    "print('Train score: {:.4f}'.format(dt_bag_clf.score(train_scaled, train_target)))\n",
    "print('Test score: {:.4f}'.format(dt_bag_clf.score(test_scaled, test_target)))"
   ]
  },
  {
   "cell_type": "markdown",
   "metadata": {
    "id": "rBklk7sGL396"
   },
   "source": [
    "#### Evaluation"
   ]
  },
  {
   "cell_type": "code",
   "execution_count": null,
   "metadata": {
    "colab": {
     "base_uri": "https://localhost:8080/"
    },
    "id": "-E7sMO5uL396",
    "outputId": "b6cfaa1e-d31d-4ecf-d7aa-1cd7357465e8"
   },
   "outputs": [
    {
     "name": "stdout",
     "output_type": "stream",
     "text": [
      "ROC_AUC Score for Pasting using Decision Tree Classifier: 0.8826\n"
     ]
    }
   ],
   "source": [
    "pasteDT_prob = dt_bag_clf.predict_proba(test_scaled)\n",
    "pasteDT_prob = pasteDT_prob[:,1]\n",
    "rascore_pasteDT = roc_auc_score(test_target, pasteDT_prob)\n",
    "print(\"ROC_AUC Score for Pasting using Decision Tree Classifier: {:.4f}\".format(rascore_pasteDT))"
   ]
  },
  {
   "cell_type": "markdown",
   "metadata": {
    "id": "BUiRbqPEL396"
   },
   "source": [
    "### 3. Adaboost Boosting"
   ]
  },
  {
   "cell_type": "markdown",
   "metadata": {
    "id": "EzveS6cdL396"
   },
   "source": [
    "### Adaboost Boosting using Logistic Regression"
   ]
  },
  {
   "cell_type": "code",
   "execution_count": null,
   "metadata": {
    "colab": {
     "base_uri": "https://localhost:8080/"
    },
    "id": "dAfrA8_kL396",
    "outputId": "8d72388c-b23b-42c7-fe0d-b8cf7131ea91"
   },
   "outputs": [
    {
     "name": "stdout",
     "output_type": "stream",
     "text": [
      "Train score: 0.8962\n",
      "Test score: 0.8886\n"
     ]
    }
   ],
   "source": [
    "lr_clf = LogisticRegression(C=1, penalty='l2', random_state=0)\n",
    "lr_ada_clf = AdaBoostClassifier(lr_clf, n_estimators=500, algorithm=\"SAMME.R\", learning_rate=0.5, random_state=0)\n",
    "lr_ada_clf.fit(train_scaled, train_target)\n",
    "\n",
    "print('Train score: {:.4f}'.format(lr_ada_clf.score(train_scaled, train_target)))\n",
    "print('Test score: {:.4f}'.format(lr_ada_clf.score(test_scaled, test_target)))"
   ]
  },
  {
   "cell_type": "markdown",
   "metadata": {
    "id": "-sYY4R7qL396"
   },
   "source": [
    "#### Evaluation"
   ]
  },
  {
   "cell_type": "code",
   "execution_count": null,
   "metadata": {
    "colab": {
     "base_uri": "https://localhost:8080/"
    },
    "id": "53ia1NHqL396",
    "outputId": "2dc114d4-5bfc-4db4-f742-753ccb8465fd"
   },
   "outputs": [
    {
     "name": "stdout",
     "output_type": "stream",
     "text": [
      "ROC_AUC Score for Adaboost Boosting using Logistic Regression: 0.8608\n"
     ]
    }
   ],
   "source": [
    "adaLR_prob = lr_ada_clf.predict_proba(test_scaled)\n",
    "adaLR_prob = adaLR_prob[:,1]\n",
    "rascore_adaLR = roc_auc_score(test_target, adaLR_prob)\n",
    "print(\"ROC_AUC Score for Adaboost Boosting using Logistic Regression: {:.4f}\".format(rascore_adaLR))"
   ]
  },
  {
   "cell_type": "markdown",
   "metadata": {
    "id": "-RiH_HBHL396"
   },
   "source": [
    "### Adaboost Boosting using Decision Tree Classifier"
   ]
  },
  {
   "cell_type": "code",
   "execution_count": null,
   "metadata": {
    "colab": {
     "base_uri": "https://localhost:8080/"
    },
    "id": "7l5t2dTpL396",
    "outputId": "648bd905-390e-4e8a-b679-43ccc8906b10"
   },
   "outputs": [
    {
     "name": "stdout",
     "output_type": "stream",
     "text": [
      "Train score: 0.9189\n",
      "Test score: 0.8771\n"
     ]
    }
   ],
   "source": [
    "dt_clf = DecisionTreeClassifier(max_depth=1, random_state=0)\n",
    "dt_ada_clf = AdaBoostClassifier(dt_clf, n_estimators=500, algorithm=\"SAMME.R\", learning_rate=0.5, random_state=0)\n",
    "dt_ada_clf.fit(train_scaled, train_target)\n",
    "\n",
    "print('Train score: {:.4f}'.format(dt_ada_clf.score(train_scaled, train_target)))\n",
    "print('Test score: {:.4f}'.format(dt_ada_clf.score(test_scaled, test_target)))"
   ]
  },
  {
   "cell_type": "markdown",
   "metadata": {
    "id": "04HtZBHGL396"
   },
   "source": [
    "#### Evaluation"
   ]
  },
  {
   "cell_type": "code",
   "execution_count": null,
   "metadata": {
    "colab": {
     "base_uri": "https://localhost:8080/"
    },
    "id": "wcatqUfVL396",
    "outputId": "04678041-5d6e-4d9e-a92d-e49f7012c4a2"
   },
   "outputs": [
    {
     "name": "stdout",
     "output_type": "stream",
     "text": [
      "ROC_AUC Score for Adaboost Boosting using Decision Tree Classifier: 0.8535\n"
     ]
    }
   ],
   "source": [
    "adaDT_prob = dt_ada_clf.predict_proba(test_scaled)\n",
    "adaDT_prob = adaDT_prob[:,1]\n",
    "rascore_adaDT = roc_auc_score(test_target, adaDT_prob)\n",
    "print(\"ROC_AUC Score for Adaboost Boosting using Decision Tree Classifier: {:.4f}\".format(rascore_adaDT))"
   ]
  },
  {
   "cell_type": "markdown",
   "metadata": {
    "id": "Cx6X50ugL396"
   },
   "source": [
    "### 4. Gradient Boosting"
   ]
  },
  {
   "cell_type": "code",
   "execution_count": null,
   "metadata": {
    "id": "muUawerHL396"
   },
   "outputs": [],
   "source": [
    "# Grid Search to find the best hyperparameters\n",
    "param_grid = {'max_depth': [1, 2, 3, 4, 5],\n",
    "              'learning_rate': [0.01, 0.1, 0.5, 0.75, 1],\n",
    "              'random_state': [0]}\n",
    "grid_search_gbc = GridSearchCV(GradientBoostingClassifier(), param_grid, n_jobs = -1, cv=3, return_train_score=True)"
   ]
  },
  {
   "cell_type": "code",
   "execution_count": null,
   "metadata": {
    "colab": {
     "base_uri": "https://localhost:8080/"
    },
    "id": "fFu6RjR0L396",
    "outputId": "773340f7-14da-4008-9f55-f6cd2258dc10"
   },
   "outputs": [
    {
     "data": {
      "text/plain": [
       "GridSearchCV(cv=3, error_score=nan,\n",
       "             estimator=GradientBoostingClassifier(ccp_alpha=0.0,\n",
       "                                                  criterion='friedman_mse',\n",
       "                                                  init=None, learning_rate=0.1,\n",
       "                                                  loss='deviance', max_depth=3,\n",
       "                                                  max_features=None,\n",
       "                                                  max_leaf_nodes=None,\n",
       "                                                  min_impurity_decrease=0.0,\n",
       "                                                  min_impurity_split=None,\n",
       "                                                  min_samples_leaf=1,\n",
       "                                                  min_samples_split=2,\n",
       "                                                  min_weight_fraction_leaf=0.0,\n",
       "                                                  n_estimators=100,\n",
       "                                                  n_iter_no_change=None,\n",
       "                                                  presort='deprecated',\n",
       "                                                  random_state=None,\n",
       "                                                  subsample=1.0, tol=0.0001,\n",
       "                                                  validation_fraction=0.1,\n",
       "                                                  verbose=0, warm_start=False),\n",
       "             iid='deprecated', n_jobs=-1,\n",
       "             param_grid={'learning_rate': [0.01, 0.1, 0.5, 0.75, 1],\n",
       "                         'max_depth': [1, 2, 3, 4, 5], 'random_state': [0]},\n",
       "             pre_dispatch='2*n_jobs', refit=True, return_train_score=True,\n",
       "             scoring=None, verbose=0)"
      ]
     },
     "execution_count": 79,
     "metadata": {
      "tags": []
     },
     "output_type": "execute_result"
    }
   ],
   "source": [
    "grid_search_gbc.fit(train_scaled, train_target)"
   ]
  },
  {
   "cell_type": "code",
   "execution_count": null,
   "metadata": {
    "colab": {
     "base_uri": "https://localhost:8080/"
    },
    "id": "tYZ6zPfEL396",
    "outputId": "1b3e0596-00dc-47c5-cc24-1e4c2065c9d3"
   },
   "outputs": [
    {
     "name": "stdout",
     "output_type": "stream",
     "text": [
      "Best parameters: {'learning_rate': 0.5, 'max_depth': 1, 'random_state': 0}\n"
     ]
    }
   ],
   "source": [
    "print(\"Best parameters: {}\".format(grid_search_gbc.best_params_))"
   ]
  },
  {
   "cell_type": "code",
   "execution_count": null,
   "metadata": {
    "colab": {
     "base_uri": "https://localhost:8080/"
    },
    "id": "BSZ6EV1iL396",
    "outputId": "ff0fd784-6a50-4eea-ca0f-051aed2c7306"
   },
   "outputs": [
    {
     "name": "stdout",
     "output_type": "stream",
     "text": [
      "Accuracy on training set: 0.9097\n",
      "Accuracy on test set: 0.8921\n"
     ]
    }
   ],
   "source": [
    "gbrt = GradientBoostingClassifier(random_state=0, max_depth=1, learning_rate=0.5)\n",
    "gbrt.fit(train_scaled, train_target)\n",
    "\n",
    "print(\"Accuracy on training set: {:.4f}\".format(gbrt.score(train_scaled, train_target)))\n",
    "print(\"Accuracy on test set: {:.4f}\".format(gbrt.score(test_scaled, test_target)))"
   ]
  },
  {
   "cell_type": "markdown",
   "metadata": {
    "id": "kcUCBFW0L396"
   },
   "source": [
    "#### Evaluation"
   ]
  },
  {
   "cell_type": "code",
   "execution_count": null,
   "metadata": {
    "colab": {
     "base_uri": "https://localhost:8080/"
    },
    "id": "IueQQr7DL396",
    "outputId": "55f9574d-80f3-453d-c563-daf95b93c2ce"
   },
   "outputs": [
    {
     "name": "stdout",
     "output_type": "stream",
     "text": [
      "ROC_AUC Score for Gradient Boosting Classifier: 0.8800\n"
     ]
    }
   ],
   "source": [
    "grad_prob = grid_search_gbc.predict_proba(test_scaled)\n",
    "grad_prob = grad_prob[:,1]\n",
    "rascore_grad = roc_auc_score(test_target, grad_prob)\n",
    "print(\"ROC_AUC Score for Gradient Boosting Classifier: {:.4f}\".format(rascore_grad))"
   ]
  },
  {
   "cell_type": "markdown",
   "metadata": {
    "id": "dXluZL-ML397"
   },
   "source": [
    "### 5. Principal Component Analysis (PCA)"
   ]
  },
  {
   "cell_type": "code",
   "execution_count": null,
   "metadata": {
    "id": "PgumezaTL397"
   },
   "outputs": [],
   "source": [
    "pca = PCA(n_components=0.95, random_state=0)"
   ]
  },
  {
   "cell_type": "code",
   "execution_count": null,
   "metadata": {
    "id": "wx5pzES8L397"
   },
   "outputs": [],
   "source": [
    "X_train_reduced = pca.fit_transform(train_scaled)"
   ]
  },
  {
   "cell_type": "code",
   "execution_count": null,
   "metadata": {
    "id": "TuuveEx3L397"
   },
   "outputs": [],
   "source": [
    "X_test_reduced = pca.transform(test_scaled)"
   ]
  },
  {
   "cell_type": "code",
   "execution_count": null,
   "metadata": {
    "colab": {
     "base_uri": "https://localhost:8080/"
    },
    "id": "v5zAGbPuL397",
    "outputId": "2c25354b-cbc7-47ae-e8d4-8d2727a7b12f"
   },
   "outputs": [
    {
     "data": {
      "text/plain": [
       "48"
      ]
     },
     "execution_count": 86,
     "metadata": {
      "tags": []
     },
     "output_type": "execute_result"
    }
   ],
   "source": [
    "pca.n_components_"
   ]
  },
  {
   "cell_type": "markdown",
   "metadata": {
    "id": "2GGve4SYL397"
   },
   "source": [
    "#### Before performing PCA, there were 75 features. After PCA, we can see from above that now we have 48 features. Thus, the correlated columns have been removed and we have only uncorrelated features in the train and test data sets."
   ]
  },
  {
   "cell_type": "markdown",
   "metadata": {
    "id": "3ph1431YL397"
   },
   "source": [
    "#### Now we will be applying all the models with the reduced data set. The Evaluation Function to be used will be ROC_AUC Score as mentioned earlier."
   ]
  },
  {
   "cell_type": "markdown",
   "metadata": {
    "id": "eQ1eVXNqL397"
   },
   "source": [
    "### 1. kNN Classification"
   ]
  },
  {
   "cell_type": "code",
   "execution_count": null,
   "metadata": {
    "id": "hN62JVf0L397"
   },
   "outputs": [],
   "source": [
    "param_grid = {'n_neighbors': [3,4,5,6,7,8,9,10,11,12],\n",
    "              'weights': ['uniform','distance'],\n",
    "              'metric': ['euclidean','manhattan']}\n",
    "grid_search_knn = GridSearchCV(KNeighborsClassifier(), param_grid, n_jobs = -1, cv=5, return_train_score=True)"
   ]
  },
  {
   "cell_type": "code",
   "execution_count": null,
   "metadata": {
    "colab": {
     "base_uri": "https://localhost:8080/"
    },
    "id": "8qc2wlXfL397",
    "outputId": "3ff95ea5-11a2-4438-9090-406cab1de625"
   },
   "outputs": [
    {
     "data": {
      "text/plain": [
       "GridSearchCV(cv=5, error_score=nan,\n",
       "             estimator=KNeighborsClassifier(algorithm='auto', leaf_size=30,\n",
       "                                            metric='minkowski',\n",
       "                                            metric_params=None, n_jobs=None,\n",
       "                                            n_neighbors=5, p=2,\n",
       "                                            weights='uniform'),\n",
       "             iid='deprecated', n_jobs=-1,\n",
       "             param_grid={'metric': ['euclidean', 'manhattan'],\n",
       "                         'n_neighbors': [3, 4, 5, 6, 7, 8, 9, 10, 11, 12],\n",
       "                         'weights': ['uniform', 'distance']},\n",
       "             pre_dispatch='2*n_jobs', refit=True, return_train_score=True,\n",
       "             scoring=None, verbose=0)"
      ]
     },
     "execution_count": 88,
     "metadata": {
      "tags": []
     },
     "output_type": "execute_result"
    }
   ],
   "source": [
    "grid_search_knn.fit(X_train_reduced, train_target)"
   ]
  },
  {
   "cell_type": "code",
   "execution_count": null,
   "metadata": {
    "colab": {
     "base_uri": "https://localhost:8080/"
    },
    "id": "vf_p4632L397",
    "outputId": "36bafd73-036e-4cb5-cc3e-ed85c2b2641a"
   },
   "outputs": [
    {
     "name": "stdout",
     "output_type": "stream",
     "text": [
      "Best parameters: {'metric': 'manhattan', 'n_neighbors': 12, 'weights': 'uniform'}\n",
      "Best cross-validation score: 0.89\n"
     ]
    }
   ],
   "source": [
    "print(\"Best parameters: {}\".format(grid_search_knn.best_params_))\n",
    "print(\"Best cross-validation score: {:.2f}\".format(grid_search_knn.best_score_))"
   ]
  },
  {
   "cell_type": "code",
   "execution_count": null,
   "metadata": {
    "colab": {
     "base_uri": "https://localhost:8080/"
    },
    "id": "KjVe17JzL397",
    "outputId": "32b98d4a-f497-4fe7-9ade-3d6092bbf47b"
   },
   "outputs": [
    {
     "name": "stdout",
     "output_type": "stream",
     "text": [
      "Best train score: 0.8947\n",
      "Best test score: 0.8806\n"
     ]
    }
   ],
   "source": [
    "print(\"Best train score: {:.4f}\".format(grid_search_knn.score(X_train_reduced,train_target)))\n",
    "print(\"Best test score: {:.4f}\".format(grid_search_knn.score(X_test_reduced,test_target)))"
   ]
  },
  {
   "cell_type": "markdown",
   "metadata": {
    "id": "Vp2ARWRSL397"
   },
   "source": [
    "#### As we can see from above, the best parameters for kNN model are metric = manhattan, weights = uniform with k=12. Without PCA, k was equal to 11, now it is 12, rest all hyperparameters being unchanged."
   ]
  },
  {
   "cell_type": "markdown",
   "metadata": {
    "id": "CIiFXHDPL397"
   },
   "source": [
    "#### Evaluation"
   ]
  },
  {
   "cell_type": "code",
   "execution_count": null,
   "metadata": {
    "colab": {
     "base_uri": "https://localhost:8080/"
    },
    "id": "NzYIsu4RL397",
    "outputId": "caab0ae1-3bd5-4de1-b38d-3151842138d6"
   },
   "outputs": [
    {
     "name": "stdout",
     "output_type": "stream",
     "text": [
      "ROC_AUC Score for K Neighbors Classifier: 0.6997\n"
     ]
    }
   ],
   "source": [
    "knn_prob = grid_search_knn.predict_proba(X_test_reduced)\n",
    "knn_prob = knn_prob[:,1]\n",
    "rascore_knn = roc_auc_score(test_target, knn_prob)\n",
    "print(\"ROC_AUC Score for K Neighbors Classifier: {:.4f}\".format(rascore_knn))"
   ]
  },
  {
   "cell_type": "markdown",
   "metadata": {
    "id": "un6kMFF9L397"
   },
   "source": [
    "### 2. Logistic Regression"
   ]
  },
  {
   "cell_type": "code",
   "execution_count": null,
   "metadata": {
    "id": "EX75Ez09L397"
   },
   "outputs": [],
   "source": [
    "param_grid = {'C': [0.01,0.1,1,10,100],\n",
    "              'penalty': ['l1','l2']}\n",
    "grid_search_logistic = GridSearchCV(LogisticRegression(), param_grid, n_jobs = -1, cv=5, return_train_score=True)"
   ]
  },
  {
   "cell_type": "code",
   "execution_count": null,
   "metadata": {
    "colab": {
     "base_uri": "https://localhost:8080/"
    },
    "id": "TcgM_VWsL397",
    "outputId": "9b416d6b-29b1-4bf1-9926-aa61779f66b6"
   },
   "outputs": [
    {
     "data": {
      "text/plain": [
       "GridSearchCV(cv=5, error_score=nan,\n",
       "             estimator=LogisticRegression(C=1.0, class_weight=None, dual=False,\n",
       "                                          fit_intercept=True,\n",
       "                                          intercept_scaling=1, l1_ratio=None,\n",
       "                                          max_iter=100, multi_class='auto',\n",
       "                                          n_jobs=None, penalty='l2',\n",
       "                                          random_state=None, solver='lbfgs',\n",
       "                                          tol=0.0001, verbose=0,\n",
       "                                          warm_start=False),\n",
       "             iid='deprecated', n_jobs=-1,\n",
       "             param_grid={'C': [0.01, 0.1, 1, 10, 100], 'penalty': ['l1', 'l2']},\n",
       "             pre_dispatch='2*n_jobs', refit=True, return_train_score=True,\n",
       "             scoring=None, verbose=0)"
      ]
     },
     "execution_count": 93,
     "metadata": {
      "tags": []
     },
     "output_type": "execute_result"
    }
   ],
   "source": [
    "grid_search_logistic.fit(X_train_reduced, train_target)"
   ]
  },
  {
   "cell_type": "code",
   "execution_count": null,
   "metadata": {
    "colab": {
     "base_uri": "https://localhost:8080/"
    },
    "id": "c-Qn9VdnL397",
    "outputId": "1f257718-1c69-49e4-eee0-c6c91ca547cd"
   },
   "outputs": [
    {
     "name": "stdout",
     "output_type": "stream",
     "text": [
      "Best parameters: {'C': 1, 'penalty': 'l2'}\n",
      "Best cross-validation score: 0.90\n"
     ]
    }
   ],
   "source": [
    "print(\"Best parameters: {}\".format(grid_search_logistic.best_params_))\n",
    "print(\"Best cross-validation score: {:.2f}\".format(grid_search_logistic.best_score_))"
   ]
  },
  {
   "cell_type": "code",
   "execution_count": null,
   "metadata": {
    "colab": {
     "base_uri": "https://localhost:8080/"
    },
    "id": "eVXadPK9L397",
    "outputId": "cc0b7ff2-9892-4e8a-f5c2-75479a621657"
   },
   "outputs": [
    {
     "name": "stdout",
     "output_type": "stream",
     "text": [
      "Best train score: 0.8956\n",
      "Best test score: 0.8886\n"
     ]
    }
   ],
   "source": [
    "print(\"Best train score: {:.4f}\".format(grid_search_logistic.score(X_train_reduced,train_target)))\n",
    "print(\"Best test score: {:.4f}\".format(grid_search_logistic.score(X_test_reduced,test_target)))"
   ]
  },
  {
   "cell_type": "markdown",
   "metadata": {
    "id": "4oOVM9PBL397"
   },
   "source": [
    "#### As we can see from above, the best parameters for Logistic Regression model are c = 1 and penalty = l2, which are the same as without PCA."
   ]
  },
  {
   "cell_type": "markdown",
   "metadata": {
    "id": "gcUvfjThL397"
   },
   "source": [
    "#### Evaluation"
   ]
  },
  {
   "cell_type": "code",
   "execution_count": null,
   "metadata": {
    "colab": {
     "base_uri": "https://localhost:8080/"
    },
    "id": "guJM5mkYL397",
    "outputId": "64233efc-5d15-40f5-dc40-13bd5db37f1c"
   },
   "outputs": [
    {
     "name": "stdout",
     "output_type": "stream",
     "text": [
      "ROC_AUC Score for Logistic Regression: 0.7147\n"
     ]
    }
   ],
   "source": [
    "lr_prob = grid_search_logistic.predict_proba(X_test_reduced)\n",
    "lr_prob = lr_prob[:,1]\n",
    "rascore_lr = roc_auc_score(test_target, lr_prob)\n",
    "print(\"ROC_AUC Score for Logistic Regression: {:.4f}\".format(rascore_lr))"
   ]
  },
  {
   "cell_type": "markdown",
   "metadata": {
    "id": "z4-ndY1lL398"
   },
   "source": [
    "### 3. Linear Support Vector Machine"
   ]
  },
  {
   "cell_type": "code",
   "execution_count": null,
   "metadata": {
    "id": "9EHpGFGPL398"
   },
   "outputs": [],
   "source": [
    "param_grid = {'C': [0.001,0.01,0.1,1,10,100]}\n",
    "grid_search_lsvc = GridSearchCV(LinearSVC(), param_grid, n_jobs = -1, cv=5, return_train_score=True)"
   ]
  },
  {
   "cell_type": "code",
   "execution_count": null,
   "metadata": {
    "colab": {
     "base_uri": "https://localhost:8080/"
    },
    "id": "vQfIhhOuL398",
    "outputId": "1d37dc3f-d5b0-49b7-ed1a-418395686348"
   },
   "outputs": [
    {
     "data": {
      "text/plain": [
       "GridSearchCV(cv=5, error_score=nan,\n",
       "             estimator=LinearSVC(C=1.0, class_weight=None, dual=True,\n",
       "                                 fit_intercept=True, intercept_scaling=1,\n",
       "                                 loss='squared_hinge', max_iter=1000,\n",
       "                                 multi_class='ovr', penalty='l2',\n",
       "                                 random_state=None, tol=0.0001, verbose=0),\n",
       "             iid='deprecated', n_jobs=-1,\n",
       "             param_grid={'C': [0.001, 0.01, 0.1, 1, 10, 100]},\n",
       "             pre_dispatch='2*n_jobs', refit=True, return_train_score=True,\n",
       "             scoring=None, verbose=0)"
      ]
     },
     "execution_count": 98,
     "metadata": {
      "tags": []
     },
     "output_type": "execute_result"
    }
   ],
   "source": [
    "grid_search_lsvc.fit(X_train_reduced, train_target)"
   ]
  },
  {
   "cell_type": "code",
   "execution_count": null,
   "metadata": {
    "colab": {
     "base_uri": "https://localhost:8080/"
    },
    "id": "eN5Y39YWL398",
    "outputId": "c5a62411-61ee-4abb-c13c-78a5af2643f6"
   },
   "outputs": [
    {
     "name": "stdout",
     "output_type": "stream",
     "text": [
      "Best parameters: {'C': 0.1}\n",
      "Best cross-validation score: 0.89\n"
     ]
    }
   ],
   "source": [
    "print(\"Best parameters: {}\".format(grid_search_lsvc.best_params_))\n",
    "print(\"Best cross-validation score: {:.2f}\".format(grid_search_lsvc.best_score_))"
   ]
  },
  {
   "cell_type": "code",
   "execution_count": null,
   "metadata": {
    "colab": {
     "base_uri": "https://localhost:8080/"
    },
    "id": "h-iG5ewbL398",
    "outputId": "0ea1bd9b-472e-4268-f6c8-cd6c35082776"
   },
   "outputs": [
    {
     "name": "stdout",
     "output_type": "stream",
     "text": [
      "Best train score: 0.8935\n",
      "Best test score: 0.8930\n"
     ]
    }
   ],
   "source": [
    "print(\"Best train score: {:.4f}\".format(grid_search_lsvc.score(X_train_reduced,train_target)))\n",
    "print(\"Best test score: {:.4f}\".format(grid_search_lsvc.score(X_test_reduced,test_target)))"
   ]
  },
  {
   "cell_type": "markdown",
   "metadata": {
    "id": "HoIObCOdL398"
   },
   "source": [
    "#### As we can see from above, the best parameter for Linear SVM Model is c = 0.1. Without PCA, it was c = 10."
   ]
  },
  {
   "cell_type": "markdown",
   "metadata": {
    "id": "NUFbUNVxL398"
   },
   "source": [
    "#### Evaluation"
   ]
  },
  {
   "cell_type": "code",
   "execution_count": null,
   "metadata": {
    "colab": {
     "base_uri": "https://localhost:8080/"
    },
    "id": "cWRksnpSL398",
    "outputId": "226fe403-aa50-427a-bf09-5203bd5bd4b8"
   },
   "outputs": [
    {
     "name": "stdout",
     "output_type": "stream",
     "text": [
      "ROC_AUC Score for Linear SVC: 0.7206\n"
     ]
    }
   ],
   "source": [
    "lsvc_prob = grid_search_lsvc.decision_function(X_test_reduced)\n",
    "rascore_lsvc = roc_auc_score(test_target, lsvc_prob)\n",
    "print(\"ROC_AUC Score for Linear SVC: {:.4f}\".format(rascore_lsvc))"
   ]
  },
  {
   "cell_type": "markdown",
   "metadata": {
    "id": "ZWuyw7yiL398"
   },
   "source": [
    "### 4. Kernelized SVM using rbf kernel"
   ]
  },
  {
   "cell_type": "code",
   "execution_count": null,
   "metadata": {
    "id": "F_g765_HL398"
   },
   "outputs": [],
   "source": [
    "param_grid = {'C': [0.001, 0.01, 0.1, 1, 10, 100],\n",
    "              'gamma': [0.001, 0.01, 0.1, 1, 10, 100]}\n",
    "grid_search_rbf = GridSearchCV(SVC(kernel=\"rbf\"), param_grid, n_jobs = -1, cv=5, return_train_score=True)"
   ]
  },
  {
   "cell_type": "code",
   "execution_count": null,
   "metadata": {
    "colab": {
     "base_uri": "https://localhost:8080/"
    },
    "id": "uqos3gtfL399",
    "outputId": "eb330b49-4609-467c-a6d1-affbbcf269ad"
   },
   "outputs": [
    {
     "data": {
      "text/plain": [
       "GridSearchCV(cv=5, error_score=nan,\n",
       "             estimator=SVC(C=1.0, break_ties=False, cache_size=200,\n",
       "                           class_weight=None, coef0=0.0,\n",
       "                           decision_function_shape='ovr', degree=3,\n",
       "                           gamma='scale', kernel='rbf', max_iter=-1,\n",
       "                           probability=False, random_state=None, shrinking=True,\n",
       "                           tol=0.001, verbose=False),\n",
       "             iid='deprecated', n_jobs=-1,\n",
       "             param_grid={'C': [0.001, 0.01, 0.1, 1, 10, 100],\n",
       "                         'gamma': [0.001, 0.01, 0.1, 1, 10, 100]},\n",
       "             pre_dispatch='2*n_jobs', refit=True, return_train_score=True,\n",
       "             scoring=None, verbose=0)"
      ]
     },
     "execution_count": 103,
     "metadata": {
      "tags": []
     },
     "output_type": "execute_result"
    }
   ],
   "source": [
    "grid_search_rbf.fit(X_train_reduced, train_target)"
   ]
  },
  {
   "cell_type": "code",
   "execution_count": null,
   "metadata": {
    "colab": {
     "base_uri": "https://localhost:8080/"
    },
    "id": "A1OCxVKyL399",
    "outputId": "c82f3710-1a6a-450c-85ec-91da0fd316ba"
   },
   "outputs": [
    {
     "name": "stdout",
     "output_type": "stream",
     "text": [
      "Best parameters: {'C': 10, 'gamma': 0.01}\n",
      "Best cross-validation score: 0.89\n"
     ]
    }
   ],
   "source": [
    "print(\"Best parameters: {}\".format(grid_search_rbf.best_params_))\n",
    "print(\"Best cross-validation score: {:.2f}\".format(grid_search_rbf.best_score_))"
   ]
  },
  {
   "cell_type": "code",
   "execution_count": null,
   "metadata": {
    "colab": {
     "base_uri": "https://localhost:8080/"
    },
    "id": "ECy5K_muL399",
    "outputId": "511b8507-6253-476b-ed1e-8e066abe9027"
   },
   "outputs": [
    {
     "name": "stdout",
     "output_type": "stream",
     "text": [
      "Best train score: 0.8926\n",
      "Best test score: 0.8939\n"
     ]
    }
   ],
   "source": [
    "print(\"Best train score: {:.4f}\".format(grid_search_rbf.score(X_train_reduced,train_target)))\n",
    "print(\"Best test score: {:.4f}\".format(grid_search_rbf.score(X_test_reduced,test_target)))"
   ]
  },
  {
   "cell_type": "markdown",
   "metadata": {
    "id": "5I_b2I_5L399"
   },
   "source": [
    "#### As we can see from above, the best hyper parameters for the SVC with RBF kernel are c = 10 and gamma = 0.01. Without PCA, they were c = 100 and gamma = 0.01."
   ]
  },
  {
   "cell_type": "markdown",
   "metadata": {
    "id": "GtsDRRvGL399"
   },
   "source": [
    "#### Evaluation"
   ]
  },
  {
   "cell_type": "code",
   "execution_count": null,
   "metadata": {
    "colab": {
     "base_uri": "https://localhost:8080/"
    },
    "id": "a2PeR8-NL399",
    "outputId": "e26ea3bc-29a4-4183-de40-155af8cc8fda"
   },
   "outputs": [
    {
     "name": "stdout",
     "output_type": "stream",
     "text": [
      "ROC_AUC Score for Kernelized SVC with RBF Kernel: 0.7424\n"
     ]
    }
   ],
   "source": [
    "rbf_prob = grid_search_rbf.decision_function(X_test_reduced)\n",
    "rascore_rbf = roc_auc_score(test_target, rbf_prob)\n",
    "print(\"ROC_AUC Score for Kernelized SVC with RBF Kernel: {:.4f}\".format(rascore_rbf))"
   ]
  },
  {
   "cell_type": "markdown",
   "metadata": {
    "id": "PFQ3hHNYL399"
   },
   "source": [
    "### 5. Kernelized SVM using poly kernel"
   ]
  },
  {
   "cell_type": "code",
   "execution_count": null,
   "metadata": {
    "id": "8mA8iD8LL399"
   },
   "outputs": [],
   "source": [
    "param_grid = {'C': [0.01, 0.1, 1, 10, 100]}\n",
    "grid_search_poly = GridSearchCV(SVC(kernel=\"poly\"), param_grid, n_jobs = -1, cv=5, return_train_score=True)"
   ]
  },
  {
   "cell_type": "code",
   "execution_count": null,
   "metadata": {
    "colab": {
     "base_uri": "https://localhost:8080/"
    },
    "id": "atJBRaSJL399",
    "outputId": "de7864e9-2790-4abc-a33a-3d78441eae48"
   },
   "outputs": [
    {
     "data": {
      "text/plain": [
       "GridSearchCV(cv=5, error_score=nan,\n",
       "             estimator=SVC(C=1.0, break_ties=False, cache_size=200,\n",
       "                           class_weight=None, coef0=0.0,\n",
       "                           decision_function_shape='ovr', degree=3,\n",
       "                           gamma='scale', kernel='poly', max_iter=-1,\n",
       "                           probability=False, random_state=None, shrinking=True,\n",
       "                           tol=0.001, verbose=False),\n",
       "             iid='deprecated', n_jobs=-1,\n",
       "             param_grid={'C': [0.01, 0.1, 1, 10, 100]}, pre_dispatch='2*n_jobs',\n",
       "             refit=True, return_train_score=True, scoring=None, verbose=0)"
      ]
     },
     "execution_count": 108,
     "metadata": {
      "tags": []
     },
     "output_type": "execute_result"
    }
   ],
   "source": [
    "grid_search_poly.fit(X_train_reduced, train_target)"
   ]
  },
  {
   "cell_type": "code",
   "execution_count": null,
   "metadata": {
    "colab": {
     "base_uri": "https://localhost:8080/"
    },
    "id": "Y3HV8yFgL399",
    "outputId": "bcc7ebc7-d585-4512-c045-fb51b12c4b65"
   },
   "outputs": [
    {
     "name": "stdout",
     "output_type": "stream",
     "text": [
      "Best parameters: {'C': 1}\n",
      "Best cross-validation score: 0.89\n"
     ]
    }
   ],
   "source": [
    "print(\"Best parameters: {}\".format(grid_search_poly.best_params_))\n",
    "print(\"Best cross-validation score: {:.2f}\".format(grid_search_poly.best_score_))"
   ]
  },
  {
   "cell_type": "code",
   "execution_count": null,
   "metadata": {
    "colab": {
     "base_uri": "https://localhost:8080/"
    },
    "id": "KloM5_hHL399",
    "outputId": "deece569-546f-4cd3-dcbc-b8ed523f375e"
   },
   "outputs": [
    {
     "name": "stdout",
     "output_type": "stream",
     "text": [
      "Best train score: 0.9186\n",
      "Best test score: 0.8859\n"
     ]
    }
   ],
   "source": [
    "print(\"Best train score: {:.4f}\".format(grid_search_poly.score(X_train_reduced,train_target)))\n",
    "print(\"Best test score: {:.4f}\".format(grid_search_poly.score(X_test_reduced,test_target)))"
   ]
  },
  {
   "cell_type": "markdown",
   "metadata": {
    "id": "iIDA_eiTL399"
   },
   "source": [
    "#### As we can see here that the best hyperparameter value for Kernelized SVM with POLY Kernel is c = 1. It is the same as without PCA."
   ]
  },
  {
   "cell_type": "markdown",
   "metadata": {
    "id": "vNIeQVtLL399"
   },
   "source": [
    "#### Evaluation"
   ]
  },
  {
   "cell_type": "code",
   "execution_count": null,
   "metadata": {
    "colab": {
     "base_uri": "https://localhost:8080/"
    },
    "id": "kDMumJs2L399",
    "outputId": "3e989738-7a20-401c-8229-7ff6473f4a9a"
   },
   "outputs": [
    {
     "name": "stdout",
     "output_type": "stream",
     "text": [
      "ROC_AUC Score for Kernelized SVM with Poly Kernel: 0.6719\n"
     ]
    }
   ],
   "source": [
    "poly_prob = grid_search_poly.decision_function(X_test_reduced)\n",
    "rascore_poly = roc_auc_score(test_target, poly_prob)\n",
    "print(\"ROC_AUC Score for Kernelized SVM with Poly Kernel: {:.4f}\".format(rascore_poly))"
   ]
  },
  {
   "cell_type": "markdown",
   "metadata": {
    "id": "gOZHtx6OL399"
   },
   "source": [
    "### 6. Kernelized SVM using linear kernel"
   ]
  },
  {
   "cell_type": "code",
   "execution_count": null,
   "metadata": {
    "id": "jl4OgEEML399"
   },
   "outputs": [],
   "source": [
    "param_grid = {'C': [0.01, 0.1, 1, 10, 100]}\n",
    "grid_search_svcl = GridSearchCV(SVC(kernel=\"linear\"), param_grid, n_jobs = -1, cv=5, return_train_score=True)"
   ]
  },
  {
   "cell_type": "code",
   "execution_count": null,
   "metadata": {
    "colab": {
     "base_uri": "https://localhost:8080/"
    },
    "id": "15w1Msz9L399",
    "outputId": "e5b808e0-ecc1-4fa5-d062-0a9a2e8914cb"
   },
   "outputs": [
    {
     "data": {
      "text/plain": [
       "GridSearchCV(cv=5, error_score=nan,\n",
       "             estimator=SVC(C=1.0, break_ties=False, cache_size=200,\n",
       "                           class_weight=None, coef0=0.0,\n",
       "                           decision_function_shape='ovr', degree=3,\n",
       "                           gamma='scale', kernel='linear', max_iter=-1,\n",
       "                           probability=False, random_state=None, shrinking=True,\n",
       "                           tol=0.001, verbose=False),\n",
       "             iid='deprecated', n_jobs=-1,\n",
       "             param_grid={'C': [0.01, 0.1, 1, 10, 100]}, pre_dispatch='2*n_jobs',\n",
       "             refit=True, return_train_score=True, scoring=None, verbose=0)"
      ]
     },
     "execution_count": 113,
     "metadata": {
      "tags": []
     },
     "output_type": "execute_result"
    }
   ],
   "source": [
    "grid_search_svcl.fit(X_train_reduced, train_target)"
   ]
  },
  {
   "cell_type": "code",
   "execution_count": null,
   "metadata": {
    "colab": {
     "base_uri": "https://localhost:8080/"
    },
    "id": "gv-jfM-XL399",
    "outputId": "346cfd73-36b8-49fc-9f48-b20296d56583"
   },
   "outputs": [
    {
     "name": "stdout",
     "output_type": "stream",
     "text": [
      "Best parameters: {'C': 1}\n",
      "Best cross-validation score: 0.89\n"
     ]
    }
   ],
   "source": [
    "print(\"Best parameters: {}\".format(grid_search_svcl.best_params_))\n",
    "print(\"Best cross-validation score: {:.2f}\".format(grid_search_svcl.best_score_))"
   ]
  },
  {
   "cell_type": "code",
   "execution_count": null,
   "metadata": {
    "colab": {
     "base_uri": "https://localhost:8080/"
    },
    "id": "gsg_43xCL399",
    "outputId": "cd3756e3-27e2-42c6-95b7-2bcc9a80c774"
   },
   "outputs": [
    {
     "name": "stdout",
     "output_type": "stream",
     "text": [
      "Best train score: 0.8926\n",
      "Best test score: 0.8939\n"
     ]
    }
   ],
   "source": [
    "print(\"Best train score: {:.4f}\".format(grid_search_svcl.score(X_train_reduced,train_target)))\n",
    "print(\"Best test score: {:.4f}\".format(grid_search_svcl.score(X_test_reduced,test_target)))"
   ]
  },
  {
   "cell_type": "markdown",
   "metadata": {
    "id": "xDmX5_wbL399"
   },
   "source": [
    "#### We can see from above that the best hyperparameter value for Kernelized SVM with linear kernel is c = 1. Without PCA, it was c = 10."
   ]
  },
  {
   "cell_type": "markdown",
   "metadata": {
    "id": "xJKVyUM9L399"
   },
   "source": [
    "#### Evaluation"
   ]
  },
  {
   "cell_type": "code",
   "execution_count": null,
   "metadata": {
    "colab": {
     "base_uri": "https://localhost:8080/"
    },
    "id": "9ZCnK7GxL399",
    "outputId": "ffe398ff-d7e0-4400-a3f0-3ae44f91dbc5"
   },
   "outputs": [
    {
     "name": "stdout",
     "output_type": "stream",
     "text": [
      "ROC_AUC Score for Kernelized SVM with Linear Kernel: 0.7196\n"
     ]
    }
   ],
   "source": [
    "svcl_prob = grid_search_svcl.decision_function(X_test_reduced)\n",
    "rascore_svcl = roc_auc_score(test_target, svcl_prob)\n",
    "print(\"ROC_AUC Score for Kernelized SVM with Linear Kernel: {:.4f}\".format(rascore_svcl))"
   ]
  },
  {
   "cell_type": "markdown",
   "metadata": {
    "id": "U2OXp_AAL399"
   },
   "source": [
    "### 7. Decision Tree Classifier"
   ]
  },
  {
   "cell_type": "code",
   "execution_count": null,
   "metadata": {
    "id": "8zGj0tHaL399"
   },
   "outputs": [],
   "source": [
    "param_grid = {'max_depth': range(1,20)}\n",
    "grid_search_dt = GridSearchCV(DecisionTreeClassifier(), param_grid, cv=5, return_train_score=True)"
   ]
  },
  {
   "cell_type": "code",
   "execution_count": null,
   "metadata": {
    "colab": {
     "base_uri": "https://localhost:8080/"
    },
    "id": "OjZktpV-L399",
    "outputId": "338299b2-a345-4561-9437-2bbdabc62be3"
   },
   "outputs": [
    {
     "data": {
      "text/plain": [
       "GridSearchCV(cv=5, error_score=nan,\n",
       "             estimator=DecisionTreeClassifier(ccp_alpha=0.0, class_weight=None,\n",
       "                                              criterion='gini', max_depth=None,\n",
       "                                              max_features=None,\n",
       "                                              max_leaf_nodes=None,\n",
       "                                              min_impurity_decrease=0.0,\n",
       "                                              min_impurity_split=None,\n",
       "                                              min_samples_leaf=1,\n",
       "                                              min_samples_split=2,\n",
       "                                              min_weight_fraction_leaf=0.0,\n",
       "                                              presort='deprecated',\n",
       "                                              random_state=None,\n",
       "                                              splitter='best'),\n",
       "             iid='deprecated', n_jobs=None,\n",
       "             param_grid={'max_depth': range(1, 20)}, pre_dispatch='2*n_jobs',\n",
       "             refit=True, return_train_score=True, scoring=None, verbose=0)"
      ]
     },
     "execution_count": 118,
     "metadata": {
      "tags": []
     },
     "output_type": "execute_result"
    }
   ],
   "source": [
    "grid_search_dt.fit(X_train_reduced, train_target)"
   ]
  },
  {
   "cell_type": "code",
   "execution_count": null,
   "metadata": {
    "colab": {
     "base_uri": "https://localhost:8080/"
    },
    "id": "m6Sj8Wp6L399",
    "outputId": "94d1bee2-26fe-483f-f663-e2047322c10d"
   },
   "outputs": [
    {
     "name": "stdout",
     "output_type": "stream",
     "text": [
      "Best parameters: {'max_depth': 2}\n",
      "Best cross-validation score: 0.89\n"
     ]
    }
   ],
   "source": [
    "print(\"Best parameters: {}\".format(grid_search_dt.best_params_))\n",
    "print(\"Best cross-validation score: {:.2f}\".format(grid_search_dt.best_score_))"
   ]
  },
  {
   "cell_type": "code",
   "execution_count": null,
   "metadata": {
    "colab": {
     "base_uri": "https://localhost:8080/"
    },
    "id": "GCGKk3aIL399",
    "outputId": "54ead70b-1e68-4ba8-e99d-b08f4f377993"
   },
   "outputs": [
    {
     "name": "stdout",
     "output_type": "stream",
     "text": [
      "Best train score: 0.8953\n",
      "Best test score: 0.8912\n"
     ]
    }
   ],
   "source": [
    "print(\"Best train score: {:.4f}\".format(grid_search_dt.score(X_train_reduced,train_target)))\n",
    "print(\"Best test score: {:.4f}\".format(grid_search_dt.score(X_test_reduced,test_target)))"
   ]
  },
  {
   "cell_type": "markdown",
   "metadata": {
    "id": "jreckZ4rL399"
   },
   "source": [
    "#### As we can see here that the best parameter for Decision Tree Classifier is max depth = 2. Without PCA, it was max depth = 4."
   ]
  },
  {
   "cell_type": "markdown",
   "metadata": {
    "id": "aI1wf_HQL399"
   },
   "source": [
    "#### Evaluation"
   ]
  },
  {
   "cell_type": "code",
   "execution_count": null,
   "metadata": {
    "colab": {
     "base_uri": "https://localhost:8080/"
    },
    "id": "J2U-ir-yL399",
    "outputId": "8e320470-00fd-425a-eae7-711370ade6ab"
   },
   "outputs": [
    {
     "name": "stdout",
     "output_type": "stream",
     "text": [
      "ROC_AUC Score for Decision Tree Classifier: 0.5573\n"
     ]
    }
   ],
   "source": [
    "dt_prob = grid_search_dt.predict_proba(X_test_reduced)\n",
    "dt_prob = dt_prob[:,1]\n",
    "rascore_dt = roc_auc_score(test_target, dt_prob)\n",
    "print(\"ROC_AUC Score for Decision Tree Classifier: {:.4f}\".format(rascore_dt))"
   ]
  },
  {
   "cell_type": "markdown",
   "metadata": {
    "id": "Gc6ZEeK2L399"
   },
   "source": [
    "### Comparing results of Classification models with and without PCA"
   ]
  },
  {
   "cell_type": "code",
   "execution_count": null,
   "metadata": {
    "id": "ItsoHKcrL399"
   },
   "outputs": [],
   "source": [
    "import pandas as pd\n",
    "\n",
    "data = {'kNN Classifier': [0.8953,0.8789,0.8947,0.8806,0.89,0.89,0.7161,0.6997],\n",
    "        'Logistic Regression': [0.9012,0.8895,0.8956,0.8886,0.90,0.90,0.8812,0.7147],\n",
    "        'LinearSVC': [0.9018,0.8912,0.8935,0.8930,0.90,0.89,0.8906,0.7206],\n",
    "        'RBF Kernel': [0.9118,0.8974,0.8926,0.8939,0.90,0.89,0.8791,0.7424],\n",
    "        'POLY Kernel': [0.9103,0.8895,0.9186,0.8859,0.89,0.89,0.8680,0.6719],\n",
    "        'LINEAR Kernel': [0.8929,0.8921,0.8926,0.8939,0.89,0.89,0.8824,0.7196],\n",
    "        'Decision Tree Classifier': [0.9035,0.8966,0.8953,0.8912,0.89,0.89,0.8295,0.5573]\n",
    "        }\n",
    "\n",
    "df = pd.DataFrame (data, columns = ['kNN Classifier','Logistic Regression','LinearSVC','RBF Kernel','POLY Kernel','LINEAR Kernel','Decision Tree Classifier'],\n",
    "                  index=['Train Score without PCA', 'Test Score without PCA','Train Score with PCA','Test Score with PCA','Cross Validation Score without PCA','Cross Validation Score with PCA','ROC_AUC Score without PCA','ROC_AUC Score with PCA'])"
   ]
  },
  {
   "cell_type": "code",
   "execution_count": null,
   "metadata": {
    "colab": {
     "base_uri": "https://localhost:8080/"
    },
    "id": "pc1l9BCsL399",
    "outputId": "cfcdb7c2-945c-4ba6-99a7-a69ab6cffc6c"
   },
   "outputs": [
    {
     "data": {
      "text/html": [
       "<div>\n",
       "<style scoped>\n",
       "    .dataframe tbody tr th:only-of-type {\n",
       "        vertical-align: middle;\n",
       "    }\n",
       "\n",
       "    .dataframe tbody tr th {\n",
       "        vertical-align: top;\n",
       "    }\n",
       "\n",
       "    .dataframe thead th {\n",
       "        text-align: right;\n",
       "    }\n",
       "</style>\n",
       "<table border=\"1\" class=\"dataframe\">\n",
       "  <thead>\n",
       "    <tr style=\"text-align: right;\">\n",
       "      <th></th>\n",
       "      <th>kNN Classifier</th>\n",
       "      <th>Logistic Regression</th>\n",
       "      <th>LinearSVC</th>\n",
       "      <th>RBF Kernel</th>\n",
       "      <th>POLY Kernel</th>\n",
       "      <th>LINEAR Kernel</th>\n",
       "      <th>Decision Tree Classifier</th>\n",
       "    </tr>\n",
       "  </thead>\n",
       "  <tbody>\n",
       "    <tr>\n",
       "      <th>Train Score without PCA</th>\n",
       "      <td>0.8953</td>\n",
       "      <td>0.9012</td>\n",
       "      <td>0.9018</td>\n",
       "      <td>0.9118</td>\n",
       "      <td>0.9103</td>\n",
       "      <td>0.8929</td>\n",
       "      <td>0.9035</td>\n",
       "    </tr>\n",
       "    <tr>\n",
       "      <th>Test Score without PCA</th>\n",
       "      <td>0.8789</td>\n",
       "      <td>0.8895</td>\n",
       "      <td>0.8912</td>\n",
       "      <td>0.8974</td>\n",
       "      <td>0.8895</td>\n",
       "      <td>0.8921</td>\n",
       "      <td>0.8966</td>\n",
       "    </tr>\n",
       "    <tr>\n",
       "      <th>Train Score with PCA</th>\n",
       "      <td>0.8947</td>\n",
       "      <td>0.8956</td>\n",
       "      <td>0.8935</td>\n",
       "      <td>0.8926</td>\n",
       "      <td>0.9186</td>\n",
       "      <td>0.8926</td>\n",
       "      <td>0.8953</td>\n",
       "    </tr>\n",
       "    <tr>\n",
       "      <th>Test Score with PCA</th>\n",
       "      <td>0.8806</td>\n",
       "      <td>0.8886</td>\n",
       "      <td>0.8930</td>\n",
       "      <td>0.8939</td>\n",
       "      <td>0.8859</td>\n",
       "      <td>0.8939</td>\n",
       "      <td>0.8912</td>\n",
       "    </tr>\n",
       "    <tr>\n",
       "      <th>Cross Validation Score without PCA</th>\n",
       "      <td>0.8900</td>\n",
       "      <td>0.9000</td>\n",
       "      <td>0.9000</td>\n",
       "      <td>0.9000</td>\n",
       "      <td>0.8900</td>\n",
       "      <td>0.8900</td>\n",
       "      <td>0.8900</td>\n",
       "    </tr>\n",
       "    <tr>\n",
       "      <th>Cross Validation Score with PCA</th>\n",
       "      <td>0.8900</td>\n",
       "      <td>0.9000</td>\n",
       "      <td>0.8900</td>\n",
       "      <td>0.8900</td>\n",
       "      <td>0.8900</td>\n",
       "      <td>0.8900</td>\n",
       "      <td>0.8900</td>\n",
       "    </tr>\n",
       "    <tr>\n",
       "      <th>ROC_AUC Score without PCA</th>\n",
       "      <td>0.7161</td>\n",
       "      <td>0.8812</td>\n",
       "      <td>0.8906</td>\n",
       "      <td>0.8791</td>\n",
       "      <td>0.8680</td>\n",
       "      <td>0.8824</td>\n",
       "      <td>0.8295</td>\n",
       "    </tr>\n",
       "    <tr>\n",
       "      <th>ROC_AUC Score with PCA</th>\n",
       "      <td>0.6997</td>\n",
       "      <td>0.7147</td>\n",
       "      <td>0.7206</td>\n",
       "      <td>0.7424</td>\n",
       "      <td>0.6719</td>\n",
       "      <td>0.7196</td>\n",
       "      <td>0.5573</td>\n",
       "    </tr>\n",
       "  </tbody>\n",
       "</table>\n",
       "</div>"
      ],
      "text/plain": [
       "                                    kNN Classifier  ...  Decision Tree Classifier\n",
       "Train Score without PCA                     0.8953  ...                    0.9035\n",
       "Test Score without PCA                      0.8789  ...                    0.8966\n",
       "Train Score with PCA                        0.8947  ...                    0.8953\n",
       "Test Score with PCA                         0.8806  ...                    0.8912\n",
       "Cross Validation Score without PCA          0.8900  ...                    0.8900\n",
       "Cross Validation Score with PCA             0.8900  ...                    0.8900\n",
       "ROC_AUC Score without PCA                   0.7161  ...                    0.8295\n",
       "ROC_AUC Score with PCA                      0.6997  ...                    0.5573\n",
       "\n",
       "[8 rows x 7 columns]"
      ]
     },
     "metadata": {
      "tags": []
     },
     "output_type": "display_data"
    }
   ],
   "source": [
    "from IPython.display import display\n",
    "display(df)"
   ]
  },
  {
   "cell_type": "markdown",
   "metadata": {
    "id": "mZVS8dIkL399"
   },
   "source": [
    "#### We can see from the above table that -\n",
    "1. The train scores with PCA have consistently decreased, but this decrease is very minimum.\n",
    "2. The test scores have either slightly increased or slightly decreased.\n",
    "3. Thus, the train and test scores have not changed significantly. So, even after using 48 features (reduced dataset), the train and test scores are almost the same as when 75 features (original dataset) were used.\n",
    "\n",
    "4. The cross validation scores are consistent at either 0.89 or 0.90 with or without PCA.\n",
    "\n",
    "5. The important point to be noted here is the ROC_AUC score. Without PCA, the ROC_AUC scores were in the range of 0.8-0.9. However, with PCA, they have significantly decreased to 0.55-0.74. The ROC_AUC score is used to evaluate whether a model is a good classifier or a bad classifier. Higher ROC_AUC score closer to 1 indicates a good classifier. "
   ]
  },
  {
   "cell_type": "markdown",
   "metadata": {
    "id": "dfp6-RFCL399"
   },
   "source": [
    "### Based on our observations, we can infer that the execution time can be decreased with almost the same train and test scores if we use PCA. However, it will be a trade-off between minimizing the execution time or getting a good classifier. With PCA, the accuracy of getting a good prediction will be reduced significantly since they have low ROC_AUC scores."
   ]
  },
  {
   "cell_type": "markdown",
   "metadata": {
    "id": "TsZ3fpZOL399"
   },
   "source": [
    "### Deep Learning"
   ]
  },
  {
   "cell_type": "code",
   "execution_count": null,
   "metadata": {
    "colab": {
     "base_uri": "https://localhost:8080/"
    },
    "id": "ia9qNOGCL399",
    "outputId": "3b14905d-0558-4a35-eaf0-699215f6ab2c"
   },
   "outputs": [
    {
     "data": {
      "application/vnd.google.colaboratory.intrinsic+json": {
       "type": "string"
      },
      "text/plain": [
       "'2.3.0'"
      ]
     },
     "execution_count": 124,
     "metadata": {
      "tags": []
     },
     "output_type": "execute_result"
    }
   ],
   "source": [
    "import tensorflow as tf\n",
    "tf.__version__"
   ]
  },
  {
   "cell_type": "code",
   "execution_count": null,
   "metadata": {
    "id": "H2LWHCYVL399"
   },
   "outputs": [],
   "source": [
    "from keras.models import Sequential\n",
    "from keras.layers import Dense\n",
    "from keras.wrappers.scikit_learn import KerasClassifier"
   ]
  },
  {
   "cell_type": "code",
   "execution_count": null,
   "metadata": {
    "colab": {
     "base_uri": "https://localhost:8080/"
    },
    "id": "MPXTtAg-L399",
    "outputId": "1fc4cbc4-26d7-4a6b-c7e1-f42d9a40a718"
   },
   "outputs": [
    {
     "data": {
      "text/plain": [
       "<tensorflow.python.framework.ops.Graph at 0x7f042b2a9ac8>"
      ]
     },
     "execution_count": 126,
     "metadata": {
      "tags": []
     },
     "output_type": "execute_result"
    }
   ],
   "source": [
    "from tensorflow.python.framework import ops\n",
    "ops.get_default_graph()"
   ]
  },
  {
   "cell_type": "markdown",
   "metadata": {
    "id": "HN34K5psL399"
   },
   "source": [
    "### Let us perform Deep Learning on the original data set (without PCA)."
   ]
  },
  {
   "cell_type": "code",
   "execution_count": null,
   "metadata": {
    "id": "vK4fgCMgL399"
   },
   "outputs": [],
   "source": [
    "seed = 10\n",
    "np.random.seed(10)"
   ]
  },
  {
   "cell_type": "code",
   "execution_count": null,
   "metadata": {
    "id": "hQ0WxtocL399"
   },
   "outputs": [],
   "source": [
    "# Create Model\n",
    "model = Sequential()\n",
    "model.add(Dense(12, input_dim=75, activation='relu'))\n",
    "model.add(Dense(8, activation='relu'))\n",
    "model.add(Dense(1, activation='sigmoid'))"
   ]
  },
  {
   "cell_type": "code",
   "execution_count": null,
   "metadata": {
    "id": "MXZDKn8bL399"
   },
   "outputs": [],
   "source": [
    "# Compile Model\n",
    "model.compile(loss='binary_crossentropy', optimizer='adam', metrics=['accuracy'])"
   ]
  },
  {
   "cell_type": "code",
   "execution_count": null,
   "metadata": {
    "colab": {
     "base_uri": "https://localhost:8080/"
    },
    "id": "wGa-7c4sL399",
    "outputId": "f0b123c5-1174-4153-f394-bbcfe7c23a51"
   },
   "outputs": [
    {
     "name": "stdout",
     "output_type": "stream",
     "text": [
      "Epoch 1/100\n",
      "85/85 [==============================] - 0s 1ms/step - loss: 0.5590 - accuracy: 0.7224\n",
      "Epoch 2/100\n",
      "85/85 [==============================] - 0s 1ms/step - loss: 0.3517 - accuracy: 0.8870\n",
      "Epoch 3/100\n",
      "85/85 [==============================] - 0s 1ms/step - loss: 0.3375 - accuracy: 0.8870\n",
      "Epoch 4/100\n",
      "85/85 [==============================] - 0s 1ms/step - loss: 0.3270 - accuracy: 0.8876\n",
      "Epoch 5/100\n",
      "85/85 [==============================] - 0s 1ms/step - loss: 0.3172 - accuracy: 0.8888\n",
      "Epoch 6/100\n",
      "85/85 [==============================] - 0s 1ms/step - loss: 0.3083 - accuracy: 0.8920\n",
      "Epoch 7/100\n",
      "85/85 [==============================] - 0s 1ms/step - loss: 0.3012 - accuracy: 0.8941\n",
      "Epoch 8/100\n",
      "85/85 [==============================] - 0s 1ms/step - loss: 0.2966 - accuracy: 0.8944\n",
      "Epoch 9/100\n",
      "85/85 [==============================] - 0s 1ms/step - loss: 0.2898 - accuracy: 0.8941\n",
      "Epoch 10/100\n",
      "85/85 [==============================] - 0s 1ms/step - loss: 0.2839 - accuracy: 0.8965\n",
      "Epoch 11/100\n",
      "85/85 [==============================] - 0s 1ms/step - loss: 0.2792 - accuracy: 0.8962\n",
      "Epoch 12/100\n",
      "85/85 [==============================] - 0s 1ms/step - loss: 0.2732 - accuracy: 0.8979\n",
      "Epoch 13/100\n",
      "85/85 [==============================] - 0s 1ms/step - loss: 0.2686 - accuracy: 0.8988\n",
      "Epoch 14/100\n",
      "85/85 [==============================] - 0s 1ms/step - loss: 0.2638 - accuracy: 0.8988\n",
      "Epoch 15/100\n",
      "85/85 [==============================] - 0s 1ms/step - loss: 0.2590 - accuracy: 0.8976\n",
      "Epoch 16/100\n",
      "85/85 [==============================] - 0s 1ms/step - loss: 0.2546 - accuracy: 0.8973\n",
      "Epoch 17/100\n",
      "85/85 [==============================] - 0s 1ms/step - loss: 0.2505 - accuracy: 0.8985\n",
      "Epoch 18/100\n",
      "85/85 [==============================] - 0s 1ms/step - loss: 0.2461 - accuracy: 0.9000\n",
      "Epoch 19/100\n",
      "85/85 [==============================] - 0s 1ms/step - loss: 0.2431 - accuracy: 0.9006\n",
      "Epoch 20/100\n",
      "85/85 [==============================] - 0s 1ms/step - loss: 0.2383 - accuracy: 0.9012\n",
      "Epoch 21/100\n",
      "85/85 [==============================] - 0s 1ms/step - loss: 0.2369 - accuracy: 0.9044\n",
      "Epoch 22/100\n",
      "85/85 [==============================] - 0s 1ms/step - loss: 0.2324 - accuracy: 0.9044\n",
      "Epoch 23/100\n",
      "85/85 [==============================] - 0s 1ms/step - loss: 0.2295 - accuracy: 0.9077\n",
      "Epoch 24/100\n",
      "85/85 [==============================] - 0s 1ms/step - loss: 0.2274 - accuracy: 0.9088\n",
      "Epoch 25/100\n",
      "85/85 [==============================] - 0s 1ms/step - loss: 0.2247 - accuracy: 0.9091\n",
      "Epoch 26/100\n",
      "85/85 [==============================] - 0s 1ms/step - loss: 0.2238 - accuracy: 0.9080\n",
      "Epoch 27/100\n",
      "85/85 [==============================] - 0s 1ms/step - loss: 0.2215 - accuracy: 0.9077\n",
      "Epoch 28/100\n",
      "85/85 [==============================] - 0s 1ms/step - loss: 0.2181 - accuracy: 0.9080\n",
      "Epoch 29/100\n",
      "85/85 [==============================] - 0s 1ms/step - loss: 0.2174 - accuracy: 0.9094\n",
      "Epoch 30/100\n",
      "85/85 [==============================] - 0s 1ms/step - loss: 0.2166 - accuracy: 0.9112\n",
      "Epoch 31/100\n",
      "85/85 [==============================] - 0s 1ms/step - loss: 0.2140 - accuracy: 0.9086\n",
      "Epoch 32/100\n",
      "85/85 [==============================] - 0s 1ms/step - loss: 0.2120 - accuracy: 0.9130\n",
      "Epoch 33/100\n",
      "85/85 [==============================] - 0s 1ms/step - loss: 0.2093 - accuracy: 0.9124\n",
      "Epoch 34/100\n",
      "85/85 [==============================] - 0s 1ms/step - loss: 0.2098 - accuracy: 0.9118\n",
      "Epoch 35/100\n",
      "85/85 [==============================] - 0s 1ms/step - loss: 0.2079 - accuracy: 0.9118\n",
      "Epoch 36/100\n",
      "85/85 [==============================] - 0s 1ms/step - loss: 0.2056 - accuracy: 0.9147\n",
      "Epoch 37/100\n",
      "85/85 [==============================] - 0s 1ms/step - loss: 0.2045 - accuracy: 0.9127\n",
      "Epoch 38/100\n",
      "85/85 [==============================] - 0s 1ms/step - loss: 0.2020 - accuracy: 0.9139\n",
      "Epoch 39/100\n",
      "85/85 [==============================] - 0s 1ms/step - loss: 0.2012 - accuracy: 0.9145\n",
      "Epoch 40/100\n",
      "85/85 [==============================] - 0s 1ms/step - loss: 0.2002 - accuracy: 0.9159\n",
      "Epoch 41/100\n",
      "85/85 [==============================] - 0s 1ms/step - loss: 0.1973 - accuracy: 0.9174\n",
      "Epoch 42/100\n",
      "85/85 [==============================] - 0s 1ms/step - loss: 0.1963 - accuracy: 0.9159\n",
      "Epoch 43/100\n",
      "85/85 [==============================] - 0s 1ms/step - loss: 0.1957 - accuracy: 0.9156\n",
      "Epoch 44/100\n",
      "85/85 [==============================] - 0s 1ms/step - loss: 0.1920 - accuracy: 0.9171\n",
      "Epoch 45/100\n",
      "85/85 [==============================] - 0s 1ms/step - loss: 0.1936 - accuracy: 0.9153\n",
      "Epoch 46/100\n",
      "85/85 [==============================] - 0s 1ms/step - loss: 0.1900 - accuracy: 0.9186\n",
      "Epoch 47/100\n",
      "85/85 [==============================] - 0s 1ms/step - loss: 0.1893 - accuracy: 0.9192\n",
      "Epoch 48/100\n",
      "85/85 [==============================] - 0s 1ms/step - loss: 0.1885 - accuracy: 0.9153\n",
      "Epoch 49/100\n",
      "85/85 [==============================] - 0s 1ms/step - loss: 0.1870 - accuracy: 0.9212\n",
      "Epoch 50/100\n",
      "85/85 [==============================] - 0s 1ms/step - loss: 0.1853 - accuracy: 0.9180\n",
      "Epoch 51/100\n",
      "85/85 [==============================] - 0s 1ms/step - loss: 0.1848 - accuracy: 0.9201\n",
      "Epoch 52/100\n",
      "85/85 [==============================] - 0s 1ms/step - loss: 0.1835 - accuracy: 0.9218\n",
      "Epoch 53/100\n",
      "85/85 [==============================] - 0s 1ms/step - loss: 0.1822 - accuracy: 0.9209\n",
      "Epoch 54/100\n",
      "85/85 [==============================] - 0s 1ms/step - loss: 0.1809 - accuracy: 0.9209\n",
      "Epoch 55/100\n",
      "85/85 [==============================] - 0s 1ms/step - loss: 0.1797 - accuracy: 0.9206\n",
      "Epoch 56/100\n",
      "85/85 [==============================] - 0s 1ms/step - loss: 0.1785 - accuracy: 0.9233\n",
      "Epoch 57/100\n",
      "85/85 [==============================] - 0s 1ms/step - loss: 0.1777 - accuracy: 0.9224\n",
      "Epoch 58/100\n",
      "85/85 [==============================] - 0s 1ms/step - loss: 0.1762 - accuracy: 0.9230\n",
      "Epoch 59/100\n",
      "85/85 [==============================] - 0s 1ms/step - loss: 0.1752 - accuracy: 0.9248\n",
      "Epoch 60/100\n",
      "85/85 [==============================] - 0s 1ms/step - loss: 0.1751 - accuracy: 0.9263\n",
      "Epoch 61/100\n",
      "85/85 [==============================] - 0s 1ms/step - loss: 0.1747 - accuracy: 0.9254\n",
      "Epoch 62/100\n",
      "85/85 [==============================] - 0s 1ms/step - loss: 0.1733 - accuracy: 0.9251\n",
      "Epoch 63/100\n",
      "85/85 [==============================] - 0s 1ms/step - loss: 0.1721 - accuracy: 0.9268\n",
      "Epoch 64/100\n",
      "85/85 [==============================] - 0s 1ms/step - loss: 0.1717 - accuracy: 0.9245\n",
      "Epoch 65/100\n",
      "85/85 [==============================] - 0s 1ms/step - loss: 0.1702 - accuracy: 0.9254\n",
      "Epoch 66/100\n",
      "85/85 [==============================] - 0s 1ms/step - loss: 0.1703 - accuracy: 0.9257\n",
      "Epoch 67/100\n",
      "85/85 [==============================] - 0s 1ms/step - loss: 0.1701 - accuracy: 0.9257\n",
      "Epoch 68/100\n",
      "85/85 [==============================] - 0s 1ms/step - loss: 0.1677 - accuracy: 0.9307\n",
      "Epoch 69/100\n",
      "85/85 [==============================] - 0s 1ms/step - loss: 0.1688 - accuracy: 0.9292\n",
      "Epoch 70/100\n",
      "85/85 [==============================] - 0s 1ms/step - loss: 0.1662 - accuracy: 0.9265\n",
      "Epoch 71/100\n",
      "85/85 [==============================] - 0s 1ms/step - loss: 0.1654 - accuracy: 0.9292\n",
      "Epoch 72/100\n",
      "85/85 [==============================] - 0s 1ms/step - loss: 0.1647 - accuracy: 0.9310\n",
      "Epoch 73/100\n",
      "85/85 [==============================] - 0s 1ms/step - loss: 0.1634 - accuracy: 0.9310\n",
      "Epoch 74/100\n",
      "85/85 [==============================] - 0s 1ms/step - loss: 0.1620 - accuracy: 0.9289\n",
      "Epoch 75/100\n",
      "85/85 [==============================] - 0s 1ms/step - loss: 0.1616 - accuracy: 0.9322\n",
      "Epoch 76/100\n",
      "85/85 [==============================] - 0s 1ms/step - loss: 0.1616 - accuracy: 0.9304\n",
      "Epoch 77/100\n",
      "85/85 [==============================] - 0s 1ms/step - loss: 0.1619 - accuracy: 0.9322\n",
      "Epoch 78/100\n",
      "85/85 [==============================] - 0s 1ms/step - loss: 0.1602 - accuracy: 0.9322\n",
      "Epoch 79/100\n",
      "85/85 [==============================] - 0s 1ms/step - loss: 0.1614 - accuracy: 0.9307\n",
      "Epoch 80/100\n",
      "85/85 [==============================] - 0s 1ms/step - loss: 0.1588 - accuracy: 0.9310\n",
      "Epoch 81/100\n",
      "85/85 [==============================] - 0s 1ms/step - loss: 0.1577 - accuracy: 0.9333\n",
      "Epoch 82/100\n",
      "85/85 [==============================] - 0s 1ms/step - loss: 0.1574 - accuracy: 0.9324\n",
      "Epoch 83/100\n",
      "85/85 [==============================] - 0s 1ms/step - loss: 0.1575 - accuracy: 0.9327\n",
      "Epoch 84/100\n",
      "85/85 [==============================] - 0s 1ms/step - loss: 0.1559 - accuracy: 0.9327\n",
      "Epoch 85/100\n",
      "85/85 [==============================] - 0s 1ms/step - loss: 0.1559 - accuracy: 0.9307\n",
      "Epoch 86/100\n",
      "85/85 [==============================] - 0s 1ms/step - loss: 0.1549 - accuracy: 0.9327\n",
      "Epoch 87/100\n",
      "85/85 [==============================] - 0s 1ms/step - loss: 0.1539 - accuracy: 0.9322\n",
      "Epoch 88/100\n",
      "85/85 [==============================] - 0s 1ms/step - loss: 0.1527 - accuracy: 0.9342\n",
      "Epoch 89/100\n",
      "85/85 [==============================] - 0s 1ms/step - loss: 0.1525 - accuracy: 0.9366\n",
      "Epoch 90/100\n",
      "85/85 [==============================] - 0s 1ms/step - loss: 0.1519 - accuracy: 0.9354\n",
      "Epoch 91/100\n",
      "85/85 [==============================] - 0s 1ms/step - loss: 0.1522 - accuracy: 0.9330\n",
      "Epoch 92/100\n",
      "85/85 [==============================] - 0s 1ms/step - loss: 0.1511 - accuracy: 0.9348\n",
      "Epoch 93/100\n",
      "85/85 [==============================] - 0s 1ms/step - loss: 0.1505 - accuracy: 0.9348\n",
      "Epoch 94/100\n",
      "85/85 [==============================] - 0s 1ms/step - loss: 0.1512 - accuracy: 0.9319\n",
      "Epoch 95/100\n",
      "85/85 [==============================] - 0s 1ms/step - loss: 0.1493 - accuracy: 0.9360\n",
      "Epoch 96/100\n",
      "85/85 [==============================] - 0s 1ms/step - loss: 0.1476 - accuracy: 0.9381\n",
      "Epoch 97/100\n",
      "85/85 [==============================] - 0s 1ms/step - loss: 0.1471 - accuracy: 0.9351\n",
      "Epoch 98/100\n",
      "85/85 [==============================] - 0s 1ms/step - loss: 0.1477 - accuracy: 0.9366\n",
      "Epoch 99/100\n",
      "85/85 [==============================] - 0s 1ms/step - loss: 0.1475 - accuracy: 0.9372\n",
      "Epoch 100/100\n",
      "85/85 [==============================] - 0s 1ms/step - loss: 0.1447 - accuracy: 0.9375\n"
     ]
    },
    {
     "data": {
      "text/plain": [
       "<tensorflow.python.keras.callbacks.History at 0x7f03f4e01748>"
      ]
     },
     "execution_count": 130,
     "metadata": {
      "tags": []
     },
     "output_type": "execute_result"
    }
   ],
   "source": [
    "# Fit Model\n",
    "model.fit(train_scaled, train_target, epochs=100, batch_size=40)"
   ]
  },
  {
   "cell_type": "markdown",
   "metadata": {
    "id": "I_rlDjbbL39-"
   },
   "source": [
    "#### Evaluation"
   ]
  },
  {
   "cell_type": "code",
   "execution_count": null,
   "metadata": {
    "colab": {
     "base_uri": "https://localhost:8080/"
    },
    "id": "aYhQnNZ2L39-",
    "outputId": "b94d3765-3a92-4ef4-a975-ba7ae16fe155"
   },
   "outputs": [
    {
     "name": "stdout",
     "output_type": "stream",
     "text": [
      "106/106 [==============================] - 0s 876us/step - loss: 0.1405 - accuracy: 0.9386\n",
      "accuracy: 93.86%\n",
      "36/36 [==============================] - 0s 885us/step - loss: 0.2982 - accuracy: 0.8895\n",
      "accuracy: 88.95%\n"
     ]
    }
   ],
   "source": [
    "train_scores = model.evaluate(train_scaled, train_target)\n",
    "print(\"%s: %.2f%%\" % (model.metrics_names[1], train_scores[1]*100))\n",
    "\n",
    "test_scores = model.evaluate(test_scaled, test_target)\n",
    "print(\"%s: %.2f%%\" % (model.metrics_names[1], test_scores[1]*100))"
   ]
  },
  {
   "cell_type": "markdown",
   "metadata": {
    "id": "SsfnFhGyL39-"
   },
   "source": [
    "### Let us now perform Deep Learning on the reduced data set (with PCA)."
   ]
  },
  {
   "cell_type": "code",
   "execution_count": 150,
   "metadata": {
    "id": "-JhJADh9gKg7"
   },
   "outputs": [],
   "source": [
    "# Create Model\n",
    "model = Sequential()\n",
    "model.add(Dense(12, input_dim=48, activation='relu'))\n",
    "model.add(Dense(8, activation='relu'))\n",
    "model.add(Dense(1, activation='sigmoid'))"
   ]
  },
  {
   "cell_type": "code",
   "execution_count": 151,
   "metadata": {
    "id": "bS-piqVtgKg8"
   },
   "outputs": [],
   "source": [
    "# Compile Model\n",
    "model.compile(loss='binary_crossentropy', optimizer='adam', metrics=['accuracy'])"
   ]
  },
  {
   "cell_type": "code",
   "execution_count": 152,
   "metadata": {
    "colab": {
     "base_uri": "https://localhost:8080/"
    },
    "id": "bANf8VqYf8qb",
    "outputId": "e23127a6-72a7-48c8-b6d3-f1a499086487"
   },
   "outputs": [
    {
     "name": "stdout",
     "output_type": "stream",
     "text": [
      "Epoch 1/100\n",
      "85/85 [==============================] - 0s 1ms/step - loss: 0.5790 - accuracy: 0.7286\n",
      "Epoch 2/100\n",
      "85/85 [==============================] - 0s 1ms/step - loss: 0.3895 - accuracy: 0.8870\n",
      "Epoch 3/100\n",
      "85/85 [==============================] - 0s 1ms/step - loss: 0.3377 - accuracy: 0.8870\n",
      "Epoch 4/100\n",
      "85/85 [==============================] - 0s 1ms/step - loss: 0.3222 - accuracy: 0.8870\n",
      "Epoch 5/100\n",
      "85/85 [==============================] - 0s 1ms/step - loss: 0.3146 - accuracy: 0.8885\n",
      "Epoch 6/100\n",
      "85/85 [==============================] - 0s 1ms/step - loss: 0.3101 - accuracy: 0.8920\n",
      "Epoch 7/100\n",
      "85/85 [==============================] - 0s 1ms/step - loss: 0.3067 - accuracy: 0.8953\n",
      "Epoch 8/100\n",
      "85/85 [==============================] - 0s 1ms/step - loss: 0.3041 - accuracy: 0.8962\n",
      "Epoch 9/100\n",
      "85/85 [==============================] - 0s 1ms/step - loss: 0.3021 - accuracy: 0.8962\n",
      "Epoch 10/100\n",
      "85/85 [==============================] - 0s 1ms/step - loss: 0.2999 - accuracy: 0.8968\n",
      "Epoch 11/100\n",
      "85/85 [==============================] - 0s 1ms/step - loss: 0.2983 - accuracy: 0.8962\n",
      "Epoch 12/100\n",
      "85/85 [==============================] - 0s 1ms/step - loss: 0.2971 - accuracy: 0.8950\n",
      "Epoch 13/100\n",
      "85/85 [==============================] - 0s 1ms/step - loss: 0.2957 - accuracy: 0.8965\n",
      "Epoch 14/100\n",
      "85/85 [==============================] - 0s 1ms/step - loss: 0.2943 - accuracy: 0.8965\n",
      "Epoch 15/100\n",
      "85/85 [==============================] - 0s 1ms/step - loss: 0.2932 - accuracy: 0.8962\n",
      "Epoch 16/100\n",
      "85/85 [==============================] - 0s 1ms/step - loss: 0.2914 - accuracy: 0.8962\n",
      "Epoch 17/100\n",
      "85/85 [==============================] - 0s 1ms/step - loss: 0.2904 - accuracy: 0.8959\n",
      "Epoch 18/100\n",
      "85/85 [==============================] - 0s 1ms/step - loss: 0.2891 - accuracy: 0.8962\n",
      "Epoch 19/100\n",
      "85/85 [==============================] - 0s 1ms/step - loss: 0.2879 - accuracy: 0.8979\n",
      "Epoch 20/100\n",
      "85/85 [==============================] - 0s 1ms/step - loss: 0.2866 - accuracy: 0.8976\n",
      "Epoch 21/100\n",
      "85/85 [==============================] - 0s 1ms/step - loss: 0.2852 - accuracy: 0.8982\n",
      "Epoch 22/100\n",
      "85/85 [==============================] - 0s 1ms/step - loss: 0.2841 - accuracy: 0.8991\n",
      "Epoch 23/100\n",
      "85/85 [==============================] - 0s 1ms/step - loss: 0.2828 - accuracy: 0.8973\n",
      "Epoch 24/100\n",
      "85/85 [==============================] - 0s 1ms/step - loss: 0.2821 - accuracy: 0.8982\n",
      "Epoch 25/100\n",
      "85/85 [==============================] - 0s 1ms/step - loss: 0.2801 - accuracy: 0.9000\n",
      "Epoch 26/100\n",
      "85/85 [==============================] - 0s 1ms/step - loss: 0.2795 - accuracy: 0.8985\n",
      "Epoch 27/100\n",
      "85/85 [==============================] - 0s 1ms/step - loss: 0.2778 - accuracy: 0.9006\n",
      "Epoch 28/100\n",
      "85/85 [==============================] - 0s 1ms/step - loss: 0.2767 - accuracy: 0.8997\n",
      "Epoch 29/100\n",
      "85/85 [==============================] - 0s 1ms/step - loss: 0.2758 - accuracy: 0.9006\n",
      "Epoch 30/100\n",
      "85/85 [==============================] - 0s 1ms/step - loss: 0.2741 - accuracy: 0.9012\n",
      "Epoch 31/100\n",
      "85/85 [==============================] - 0s 1ms/step - loss: 0.2730 - accuracy: 0.9021\n",
      "Epoch 32/100\n",
      "85/85 [==============================] - 0s 1ms/step - loss: 0.2715 - accuracy: 0.9021\n",
      "Epoch 33/100\n",
      "85/85 [==============================] - 0s 1ms/step - loss: 0.2704 - accuracy: 0.9027\n",
      "Epoch 34/100\n",
      "85/85 [==============================] - 0s 1ms/step - loss: 0.2695 - accuracy: 0.9044\n",
      "Epoch 35/100\n",
      "85/85 [==============================] - 0s 1ms/step - loss: 0.2682 - accuracy: 0.9032\n",
      "Epoch 36/100\n",
      "85/85 [==============================] - 0s 1ms/step - loss: 0.2666 - accuracy: 0.9035\n",
      "Epoch 37/100\n",
      "85/85 [==============================] - 0s 1ms/step - loss: 0.2649 - accuracy: 0.9050\n",
      "Epoch 38/100\n",
      "85/85 [==============================] - 0s 1ms/step - loss: 0.2638 - accuracy: 0.9038\n",
      "Epoch 39/100\n",
      "85/85 [==============================] - 0s 1ms/step - loss: 0.2624 - accuracy: 0.9053\n",
      "Epoch 40/100\n",
      "85/85 [==============================] - 0s 1ms/step - loss: 0.2612 - accuracy: 0.9056\n",
      "Epoch 41/100\n",
      "85/85 [==============================] - 0s 1ms/step - loss: 0.2596 - accuracy: 0.9059\n",
      "Epoch 42/100\n",
      "85/85 [==============================] - 0s 1ms/step - loss: 0.2584 - accuracy: 0.9053\n",
      "Epoch 43/100\n",
      "85/85 [==============================] - 0s 1ms/step - loss: 0.2572 - accuracy: 0.9062\n",
      "Epoch 44/100\n",
      "85/85 [==============================] - 0s 1ms/step - loss: 0.2558 - accuracy: 0.9068\n",
      "Epoch 45/100\n",
      "85/85 [==============================] - 0s 1ms/step - loss: 0.2544 - accuracy: 0.9059\n",
      "Epoch 46/100\n",
      "85/85 [==============================] - 0s 1ms/step - loss: 0.2534 - accuracy: 0.9050\n",
      "Epoch 47/100\n",
      "85/85 [==============================] - 0s 1ms/step - loss: 0.2520 - accuracy: 0.9056\n",
      "Epoch 48/100\n",
      "85/85 [==============================] - 0s 1ms/step - loss: 0.2506 - accuracy: 0.9074\n",
      "Epoch 49/100\n",
      "85/85 [==============================] - 0s 1ms/step - loss: 0.2496 - accuracy: 0.9062\n",
      "Epoch 50/100\n",
      "85/85 [==============================] - 0s 1ms/step - loss: 0.2478 - accuracy: 0.9086\n",
      "Epoch 51/100\n",
      "85/85 [==============================] - 0s 1ms/step - loss: 0.2464 - accuracy: 0.9077\n",
      "Epoch 52/100\n",
      "85/85 [==============================] - 0s 1ms/step - loss: 0.2452 - accuracy: 0.9068\n",
      "Epoch 53/100\n",
      "85/85 [==============================] - 0s 1ms/step - loss: 0.2442 - accuracy: 0.9088\n",
      "Epoch 54/100\n",
      "85/85 [==============================] - 0s 1ms/step - loss: 0.2430 - accuracy: 0.9091\n",
      "Epoch 55/100\n",
      "85/85 [==============================] - 0s 1ms/step - loss: 0.2412 - accuracy: 0.9097\n",
      "Epoch 56/100\n",
      "85/85 [==============================] - 0s 1ms/step - loss: 0.2401 - accuracy: 0.9091\n",
      "Epoch 57/100\n",
      "85/85 [==============================] - 0s 1ms/step - loss: 0.2385 - accuracy: 0.9112\n",
      "Epoch 58/100\n",
      "85/85 [==============================] - 0s 1ms/step - loss: 0.2375 - accuracy: 0.9109\n",
      "Epoch 59/100\n",
      "85/85 [==============================] - 0s 1ms/step - loss: 0.2365 - accuracy: 0.9097\n",
      "Epoch 60/100\n",
      "85/85 [==============================] - 0s 1ms/step - loss: 0.2358 - accuracy: 0.9106\n",
      "Epoch 61/100\n",
      "85/85 [==============================] - 0s 1ms/step - loss: 0.2350 - accuracy: 0.9118\n",
      "Epoch 62/100\n",
      "85/85 [==============================] - 0s 1ms/step - loss: 0.2332 - accuracy: 0.9109\n",
      "Epoch 63/100\n",
      "85/85 [==============================] - 0s 1ms/step - loss: 0.2323 - accuracy: 0.9124\n",
      "Epoch 64/100\n",
      "85/85 [==============================] - 0s 1ms/step - loss: 0.2310 - accuracy: 0.9118\n",
      "Epoch 65/100\n",
      "85/85 [==============================] - 0s 1ms/step - loss: 0.2303 - accuracy: 0.9124\n",
      "Epoch 66/100\n",
      "85/85 [==============================] - 0s 1ms/step - loss: 0.2295 - accuracy: 0.9118\n",
      "Epoch 67/100\n",
      "85/85 [==============================] - 0s 1ms/step - loss: 0.2283 - accuracy: 0.9159\n",
      "Epoch 68/100\n",
      "85/85 [==============================] - 0s 1ms/step - loss: 0.2274 - accuracy: 0.9121\n",
      "Epoch 69/100\n",
      "85/85 [==============================] - 0s 1ms/step - loss: 0.2262 - accuracy: 0.9147\n",
      "Epoch 70/100\n",
      "85/85 [==============================] - 0s 1ms/step - loss: 0.2248 - accuracy: 0.9139\n",
      "Epoch 71/100\n",
      "85/85 [==============================] - 0s 1ms/step - loss: 0.2242 - accuracy: 0.9156\n",
      "Epoch 72/100\n",
      "85/85 [==============================] - 0s 1ms/step - loss: 0.2227 - accuracy: 0.9142\n",
      "Epoch 73/100\n",
      "85/85 [==============================] - 0s 1ms/step - loss: 0.2228 - accuracy: 0.9159\n",
      "Epoch 74/100\n",
      "85/85 [==============================] - 0s 1ms/step - loss: 0.2216 - accuracy: 0.9145\n",
      "Epoch 75/100\n",
      "85/85 [==============================] - 0s 1ms/step - loss: 0.2207 - accuracy: 0.9162\n",
      "Epoch 76/100\n",
      "85/85 [==============================] - 0s 1ms/step - loss: 0.2194 - accuracy: 0.9168\n",
      "Epoch 77/100\n",
      "85/85 [==============================] - 0s 1ms/step - loss: 0.2188 - accuracy: 0.9150\n",
      "Epoch 78/100\n",
      "85/85 [==============================] - 0s 1ms/step - loss: 0.2183 - accuracy: 0.9165\n",
      "Epoch 79/100\n",
      "85/85 [==============================] - 0s 1ms/step - loss: 0.2168 - accuracy: 0.9162\n",
      "Epoch 80/100\n",
      "85/85 [==============================] - 0s 1ms/step - loss: 0.2160 - accuracy: 0.9153\n",
      "Epoch 81/100\n",
      "85/85 [==============================] - 0s 1ms/step - loss: 0.2150 - accuracy: 0.9171\n",
      "Epoch 82/100\n",
      "85/85 [==============================] - 0s 1ms/step - loss: 0.2150 - accuracy: 0.9145\n",
      "Epoch 83/100\n",
      "85/85 [==============================] - 0s 1ms/step - loss: 0.2144 - accuracy: 0.9183\n",
      "Epoch 84/100\n",
      "85/85 [==============================] - 0s 1ms/step - loss: 0.2131 - accuracy: 0.9177\n",
      "Epoch 85/100\n",
      "85/85 [==============================] - 0s 1ms/step - loss: 0.2124 - accuracy: 0.9162\n",
      "Epoch 86/100\n",
      "85/85 [==============================] - 0s 1ms/step - loss: 0.2109 - accuracy: 0.9168\n",
      "Epoch 87/100\n",
      "85/85 [==============================] - 0s 1ms/step - loss: 0.2110 - accuracy: 0.9180\n",
      "Epoch 88/100\n",
      "85/85 [==============================] - 0s 1ms/step - loss: 0.2100 - accuracy: 0.9174\n",
      "Epoch 89/100\n",
      "85/85 [==============================] - 0s 1ms/step - loss: 0.2093 - accuracy: 0.9171\n",
      "Epoch 90/100\n",
      "85/85 [==============================] - 0s 1ms/step - loss: 0.2090 - accuracy: 0.9186\n",
      "Epoch 91/100\n",
      "85/85 [==============================] - 0s 1ms/step - loss: 0.2071 - accuracy: 0.9183\n",
      "Epoch 92/100\n",
      "85/85 [==============================] - 0s 1ms/step - loss: 0.2078 - accuracy: 0.9177\n",
      "Epoch 93/100\n",
      "85/85 [==============================] - 0s 1ms/step - loss: 0.2062 - accuracy: 0.9180\n",
      "Epoch 94/100\n",
      "85/85 [==============================] - 0s 1ms/step - loss: 0.2068 - accuracy: 0.9186\n",
      "Epoch 95/100\n",
      "85/85 [==============================] - 0s 1ms/step - loss: 0.2056 - accuracy: 0.9195\n",
      "Epoch 96/100\n",
      "85/85 [==============================] - 0s 1ms/step - loss: 0.2047 - accuracy: 0.9198\n",
      "Epoch 97/100\n",
      "85/85 [==============================] - 0s 1ms/step - loss: 0.2053 - accuracy: 0.9168\n",
      "Epoch 98/100\n",
      "85/85 [==============================] - 0s 1ms/step - loss: 0.2029 - accuracy: 0.9189\n",
      "Epoch 99/100\n",
      "85/85 [==============================] - 0s 1ms/step - loss: 0.2033 - accuracy: 0.9204\n",
      "Epoch 100/100\n",
      "85/85 [==============================] - 0s 1ms/step - loss: 0.2019 - accuracy: 0.9206\n"
     ]
    },
    {
     "data": {
      "text/plain": [
       "<tensorflow.python.keras.callbacks.History at 0x7f03f1ad76d8>"
      ]
     },
     "execution_count": 152,
     "metadata": {
      "tags": []
     },
     "output_type": "execute_result"
    }
   ],
   "source": [
    "# Fit Model\n",
    "model.fit(X_train_reduced, train_target, epochs=100, batch_size=40)"
   ]
  },
  {
   "cell_type": "markdown",
   "metadata": {
    "id": "VK8zcBbTgbeP"
   },
   "source": [
    "#### Evaluation"
   ]
  },
  {
   "cell_type": "code",
   "execution_count": 153,
   "metadata": {
    "colab": {
     "base_uri": "https://localhost:8080/"
    },
    "id": "G6p85YOtgbeQ",
    "outputId": "a06e12bc-a599-4728-d5fa-e98171ff3fc3"
   },
   "outputs": [
    {
     "name": "stdout",
     "output_type": "stream",
     "text": [
      "106/106 [==============================] - 0s 925us/step - loss: 0.1972 - accuracy: 0.9201\n",
      "accuracy: 92.01%\n",
      "36/36 [==============================] - 0s 934us/step - loss: 0.3866 - accuracy: 0.8833\n",
      "accuracy: 88.33%\n"
     ]
    }
   ],
   "source": [
    "train_scores = model.evaluate(X_train_reduced, train_target)\n",
    "print(\"%s: %.2f%%\" % (model.metrics_names[1], train_scores[1]*100))\n",
    "\n",
    "test_scores = model.evaluate(X_test_reduced, test_target)\n",
    "print(\"%s: %.2f%%\" % (model.metrics_names[1], test_scores[1]*100))"
   ]
  },
  {
   "cell_type": "markdown",
   "metadata": {},
   "source": [
    "### The train and test scores accuracy without PCA are 93.86% and 88.95% respectively and those for with PCA are 92.01% and 88.33% respectively. \n",
    "### We can see that the train data set is slightly overfitted when all 75 features are used in the model. The difference between train and test scores is minimum in case of with PCA.\n",
    "### Thus, it would be good to reduce the dimensionality and perform deep learning for this data set."
   ]
  },
  {
   "cell_type": "markdown",
   "metadata": {
    "id": "bRQUH9uBgq8r"
   },
   "source": [
    "############"
   ]
  }
 ],
 "metadata": {
  "colab": {
   "collapsed_sections": [
    "AoRc39mUL39t",
    "64X3YEInL39w",
    "TiEO2XauL39y",
    "IW35WJzKL390",
    "hTasLNOwL390",
    "cgR9CiGoL390",
    "X6SMkb1fL390",
    "JUPet3ZPL391",
    "tXbgWIjlL391",
    "OqNFJvISL391",
    "r6HUSIZHL392",
    "Cf4MPBt6L392",
    "qP1OksUrL392",
    "9ZgcOya9L394",
    "-7-IAX1bL394",
    "UVqS2q7_L395",
    "WIlMtmZ2L395",
    "5q4S0kWfL395",
    "tzyntU3nL396",
    "4X8TttfaL396",
    "JvG9QImpL396",
    "rBklk7sGL396",
    "BUiRbqPEL396",
    "EzveS6cdL396",
    "-sYY4R7qL396",
    "-RiH_HBHL396",
    "04HtZBHGL396",
    "Cx6X50ugL396",
    "kcUCBFW0L396",
    "2GGve4SYL397",
    "3ph1431YL397",
    "eQ1eVXNqL397",
    "Vp2ARWRSL397",
    "CIiFXHDPL397",
    "un6kMFF9L397",
    "4oOVM9PBL397",
    "gcUvfjThL397",
    "z4-ndY1lL398",
    "HoIObCOdL398",
    "NUFbUNVxL398",
    "ZWuyw7yiL398",
    "5I_b2I_5L399",
    "GtsDRRvGL399",
    "PFQ3hHNYL399",
    "iIDA_eiTL399",
    "vNIeQVtLL399",
    "gOZHtx6OL399",
    "xDmX5_wbL399",
    "xJKVyUM9L399",
    "U2OXp_AAL399",
    "jreckZ4rL399",
    "aI1wf_HQL399",
    "Gc6ZEeK2L399",
    "mZVS8dIkL399",
    "dfp6-RFCL399"
   ],
   "name": "Project2_Classification_Group13_Pai_Pereira.ipynb",
   "provenance": [],
   "toc_visible": true
  },
  "kernelspec": {
   "display_name": "Python 3",
   "language": "python",
   "name": "python3"
  },
  "language_info": {
   "codemirror_mode": {
    "name": "ipython",
    "version": 3
   },
   "file_extension": ".py",
   "mimetype": "text/x-python",
   "name": "python",
   "nbconvert_exporter": "python",
   "pygments_lexer": "ipython3",
   "version": "3.8.5"
  }
 },
 "nbformat": 4,
 "nbformat_minor": 4
}
