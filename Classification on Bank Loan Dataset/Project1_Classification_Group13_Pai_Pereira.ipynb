{
 "cells": [
  {
   "cell_type": "markdown",
   "metadata": {},
   "source": [
    "# <font color='blue'> Project 1 - Classification\n",
    "    \n",
    "### Group Members:\n",
    "#### Femina Martin Pereira - FXP190002\n",
    "#### Divya Deepak Pai - DXP190009\n",
    "    \n",
    "### Dataset Source:\n",
    "[Moro et al., 2011] S. Moro, R. Laureano and P. Cortez. Using Data Mining for Bank Direct Marketing: An Application of the CRISP-DM Methodology. In P. Novais et al. (Eds.), Proceedings of the European Simulation and Modelling Conference - ESM'2011, pp. 117-121, Guimaraes, Portugal, October, 2011. EUROSIS (http://hdl.handle.net/1822/14838).\n",
    "    \n",
    "### Dataset Description:    \n",
    "It is a Bank Marketing data set. The data is related with direct marketing campaigns of a Portuguese banking institution. The marketing campaigns were based on phone calls. Often, more than one contact to the same client was required, in order to access if the product (bank term deposit) would be (or not) subscribed. \n",
    "\n",
    "The dataset has 4521 instances and 18 columns.\n",
    "\n",
    "### Goal:\n",
    "The classification goal is to predict if the client will subscribe a term deposit - yes or no (Column y).\t\n",
    "    \n",
    "### Attributes Information:\n",
    "\n",
    "### 1) Feature Set\n",
    "### Bank Client Data Attributes:-\n",
    "- ID (Client ID)\n",
    "- age (numeric)\n",
    "- job : type of job (categorical: 'admin.','unknown','unemployed','management','housemaid','entrepreneur','student',\n",
    "'blue-collar','self-employed','retired','technician','services') \n",
    "- marital : marital status (categorical: 'married','divorced','single'; note: 'divorced' means divorced or widowed)\n",
    "- education (categorical: 'unknown','secondary','primary','tertiary')\n",
    "- default: has credit in default? (binary: 'yes','no')\n",
    "- balance: average yearly balance, in euros (numeric) \n",
    "- housing: has housing loan? (binary: 'yes','no')\n",
    "- loan: has personal loan? (binary: 'yes','no')\n",
    "\n",
    "### Related with the last contact of the current campaign:-\n",
    "- contact: contact communication type (categorical: 'unknown','telephone','cellular') \n",
    "- day: last contact day of the month (numeric)\n",
    "- month: last contact month of year (categorical: 'jan', 'feb', 'mar', ..., 'nov', 'dec')\n",
    "- duration: last contact duration, in seconds (numeric)\n",
    "\n",
    "### Other Attributes:-\n",
    "- campaign: number of contacts performed during this campaign and for this client (numeric, includes last contact)\n",
    "- pdays: number of days that passed by after the client was last contacted from a previous campaign (numeric, -1 means client was not previously contacted)\n",
    "- previous: number of contacts performed before this campaign and for this client (numeric)\n",
    "- poutcome: outcome of the previous marketing campaign (categorical: 'unknown','other','failure','success')\n",
    "\n",
    "### 2) Target Value\n",
    "- y: has the client subscribed a term deposit? (binary: 'yes','no')"
   ]
  },
  {
   "cell_type": "code",
   "execution_count": 1,
   "metadata": {},
   "outputs": [],
   "source": [
    "import numpy as np\n",
    "import pandas as pd\n",
    "import matplotlib.pyplot as plt\n",
    "import warnings\n",
    "warnings.filterwarnings('ignore')"
   ]
  },
  {
   "cell_type": "markdown",
   "metadata": {},
   "source": [
    "### Importing the Original Dataset with no missing values"
   ]
  },
  {
   "cell_type": "code",
   "execution_count": 2,
   "metadata": {},
   "outputs": [],
   "source": [
    "df = pd.read_csv('C:\\\\Users\\\\user\\\\Desktop\\\\FALL 2020 COURSES\\\\APPLIED MACHINE LEARNING (MON)\\\\PROJECT 1\\\\bank_marketing.csv')"
   ]
  },
  {
   "cell_type": "code",
   "execution_count": 3,
   "metadata": {},
   "outputs": [
    {
     "data": {
      "text/html": [
       "<div>\n",
       "<style scoped>\n",
       "    .dataframe tbody tr th:only-of-type {\n",
       "        vertical-align: middle;\n",
       "    }\n",
       "\n",
       "    .dataframe tbody tr th {\n",
       "        vertical-align: top;\n",
       "    }\n",
       "\n",
       "    .dataframe thead th {\n",
       "        text-align: right;\n",
       "    }\n",
       "</style>\n",
       "<table border=\"1\" class=\"dataframe\">\n",
       "  <thead>\n",
       "    <tr style=\"text-align: right;\">\n",
       "      <th></th>\n",
       "      <th>ID</th>\n",
       "      <th>age</th>\n",
       "      <th>job</th>\n",
       "      <th>marital</th>\n",
       "      <th>education</th>\n",
       "      <th>default</th>\n",
       "      <th>balance</th>\n",
       "      <th>housing</th>\n",
       "      <th>loan</th>\n",
       "      <th>contact</th>\n",
       "      <th>day</th>\n",
       "      <th>month</th>\n",
       "      <th>duration</th>\n",
       "      <th>campaign</th>\n",
       "      <th>pdays</th>\n",
       "      <th>previous</th>\n",
       "      <th>poutcome</th>\n",
       "      <th>y</th>\n",
       "    </tr>\n",
       "  </thead>\n",
       "  <tbody>\n",
       "    <tr>\n",
       "      <th>0</th>\n",
       "      <td>1</td>\n",
       "      <td>30</td>\n",
       "      <td>unemployed</td>\n",
       "      <td>married</td>\n",
       "      <td>primary</td>\n",
       "      <td>no</td>\n",
       "      <td>1787</td>\n",
       "      <td>no</td>\n",
       "      <td>no</td>\n",
       "      <td>cellular</td>\n",
       "      <td>19</td>\n",
       "      <td>oct</td>\n",
       "      <td>79</td>\n",
       "      <td>1</td>\n",
       "      <td>-1</td>\n",
       "      <td>0</td>\n",
       "      <td>unknown</td>\n",
       "      <td>no</td>\n",
       "    </tr>\n",
       "    <tr>\n",
       "      <th>1</th>\n",
       "      <td>2</td>\n",
       "      <td>33</td>\n",
       "      <td>services</td>\n",
       "      <td>married</td>\n",
       "      <td>secondary</td>\n",
       "      <td>no</td>\n",
       "      <td>4789</td>\n",
       "      <td>yes</td>\n",
       "      <td>yes</td>\n",
       "      <td>cellular</td>\n",
       "      <td>11</td>\n",
       "      <td>may</td>\n",
       "      <td>220</td>\n",
       "      <td>1</td>\n",
       "      <td>339</td>\n",
       "      <td>4</td>\n",
       "      <td>failure</td>\n",
       "      <td>no</td>\n",
       "    </tr>\n",
       "    <tr>\n",
       "      <th>2</th>\n",
       "      <td>3</td>\n",
       "      <td>35</td>\n",
       "      <td>management</td>\n",
       "      <td>single</td>\n",
       "      <td>tertiary</td>\n",
       "      <td>no</td>\n",
       "      <td>1350</td>\n",
       "      <td>yes</td>\n",
       "      <td>no</td>\n",
       "      <td>cellular</td>\n",
       "      <td>16</td>\n",
       "      <td>apr</td>\n",
       "      <td>185</td>\n",
       "      <td>1</td>\n",
       "      <td>330</td>\n",
       "      <td>1</td>\n",
       "      <td>failure</td>\n",
       "      <td>no</td>\n",
       "    </tr>\n",
       "    <tr>\n",
       "      <th>3</th>\n",
       "      <td>4</td>\n",
       "      <td>30</td>\n",
       "      <td>management</td>\n",
       "      <td>married</td>\n",
       "      <td>tertiary</td>\n",
       "      <td>no</td>\n",
       "      <td>1476</td>\n",
       "      <td>yes</td>\n",
       "      <td>yes</td>\n",
       "      <td>unknown</td>\n",
       "      <td>3</td>\n",
       "      <td>jun</td>\n",
       "      <td>199</td>\n",
       "      <td>4</td>\n",
       "      <td>-1</td>\n",
       "      <td>0</td>\n",
       "      <td>unknown</td>\n",
       "      <td>no</td>\n",
       "    </tr>\n",
       "    <tr>\n",
       "      <th>4</th>\n",
       "      <td>5</td>\n",
       "      <td>59</td>\n",
       "      <td>blue-collar</td>\n",
       "      <td>married</td>\n",
       "      <td>secondary</td>\n",
       "      <td>no</td>\n",
       "      <td>0</td>\n",
       "      <td>yes</td>\n",
       "      <td>no</td>\n",
       "      <td>unknown</td>\n",
       "      <td>5</td>\n",
       "      <td>may</td>\n",
       "      <td>226</td>\n",
       "      <td>1</td>\n",
       "      <td>-1</td>\n",
       "      <td>0</td>\n",
       "      <td>unknown</td>\n",
       "      <td>no</td>\n",
       "    </tr>\n",
       "    <tr>\n",
       "      <th>...</th>\n",
       "      <td>...</td>\n",
       "      <td>...</td>\n",
       "      <td>...</td>\n",
       "      <td>...</td>\n",
       "      <td>...</td>\n",
       "      <td>...</td>\n",
       "      <td>...</td>\n",
       "      <td>...</td>\n",
       "      <td>...</td>\n",
       "      <td>...</td>\n",
       "      <td>...</td>\n",
       "      <td>...</td>\n",
       "      <td>...</td>\n",
       "      <td>...</td>\n",
       "      <td>...</td>\n",
       "      <td>...</td>\n",
       "      <td>...</td>\n",
       "      <td>...</td>\n",
       "    </tr>\n",
       "    <tr>\n",
       "      <th>4516</th>\n",
       "      <td>4517</td>\n",
       "      <td>33</td>\n",
       "      <td>services</td>\n",
       "      <td>married</td>\n",
       "      <td>secondary</td>\n",
       "      <td>no</td>\n",
       "      <td>-333</td>\n",
       "      <td>yes</td>\n",
       "      <td>no</td>\n",
       "      <td>cellular</td>\n",
       "      <td>30</td>\n",
       "      <td>jul</td>\n",
       "      <td>329</td>\n",
       "      <td>5</td>\n",
       "      <td>-1</td>\n",
       "      <td>0</td>\n",
       "      <td>unknown</td>\n",
       "      <td>no</td>\n",
       "    </tr>\n",
       "    <tr>\n",
       "      <th>4517</th>\n",
       "      <td>4518</td>\n",
       "      <td>57</td>\n",
       "      <td>self-employed</td>\n",
       "      <td>married</td>\n",
       "      <td>tertiary</td>\n",
       "      <td>yes</td>\n",
       "      <td>-3313</td>\n",
       "      <td>yes</td>\n",
       "      <td>yes</td>\n",
       "      <td>unknown</td>\n",
       "      <td>9</td>\n",
       "      <td>may</td>\n",
       "      <td>153</td>\n",
       "      <td>1</td>\n",
       "      <td>-1</td>\n",
       "      <td>0</td>\n",
       "      <td>unknown</td>\n",
       "      <td>no</td>\n",
       "    </tr>\n",
       "    <tr>\n",
       "      <th>4518</th>\n",
       "      <td>4519</td>\n",
       "      <td>57</td>\n",
       "      <td>technician</td>\n",
       "      <td>married</td>\n",
       "      <td>secondary</td>\n",
       "      <td>no</td>\n",
       "      <td>295</td>\n",
       "      <td>no</td>\n",
       "      <td>no</td>\n",
       "      <td>cellular</td>\n",
       "      <td>19</td>\n",
       "      <td>aug</td>\n",
       "      <td>151</td>\n",
       "      <td>11</td>\n",
       "      <td>-1</td>\n",
       "      <td>0</td>\n",
       "      <td>unknown</td>\n",
       "      <td>no</td>\n",
       "    </tr>\n",
       "    <tr>\n",
       "      <th>4519</th>\n",
       "      <td>4520</td>\n",
       "      <td>28</td>\n",
       "      <td>blue-collar</td>\n",
       "      <td>married</td>\n",
       "      <td>secondary</td>\n",
       "      <td>no</td>\n",
       "      <td>1137</td>\n",
       "      <td>no</td>\n",
       "      <td>no</td>\n",
       "      <td>cellular</td>\n",
       "      <td>6</td>\n",
       "      <td>feb</td>\n",
       "      <td>129</td>\n",
       "      <td>4</td>\n",
       "      <td>211</td>\n",
       "      <td>3</td>\n",
       "      <td>other</td>\n",
       "      <td>no</td>\n",
       "    </tr>\n",
       "    <tr>\n",
       "      <th>4520</th>\n",
       "      <td>4521</td>\n",
       "      <td>44</td>\n",
       "      <td>entrepreneur</td>\n",
       "      <td>single</td>\n",
       "      <td>tertiary</td>\n",
       "      <td>no</td>\n",
       "      <td>1136</td>\n",
       "      <td>yes</td>\n",
       "      <td>yes</td>\n",
       "      <td>cellular</td>\n",
       "      <td>3</td>\n",
       "      <td>apr</td>\n",
       "      <td>345</td>\n",
       "      <td>2</td>\n",
       "      <td>249</td>\n",
       "      <td>7</td>\n",
       "      <td>other</td>\n",
       "      <td>no</td>\n",
       "    </tr>\n",
       "  </tbody>\n",
       "</table>\n",
       "<p>4521 rows × 18 columns</p>\n",
       "</div>"
      ],
      "text/plain": [
       "        ID  age            job  marital  education default  balance housing  \\\n",
       "0        1   30     unemployed  married    primary      no     1787      no   \n",
       "1        2   33       services  married  secondary      no     4789     yes   \n",
       "2        3   35     management   single   tertiary      no     1350     yes   \n",
       "3        4   30     management  married   tertiary      no     1476     yes   \n",
       "4        5   59    blue-collar  married  secondary      no        0     yes   \n",
       "...    ...  ...            ...      ...        ...     ...      ...     ...   \n",
       "4516  4517   33       services  married  secondary      no     -333     yes   \n",
       "4517  4518   57  self-employed  married   tertiary     yes    -3313     yes   \n",
       "4518  4519   57     technician  married  secondary      no      295      no   \n",
       "4519  4520   28    blue-collar  married  secondary      no     1137      no   \n",
       "4520  4521   44   entrepreneur   single   tertiary      no     1136     yes   \n",
       "\n",
       "     loan   contact  day month  duration  campaign  pdays  previous poutcome  \\\n",
       "0      no  cellular   19   oct        79         1     -1         0  unknown   \n",
       "1     yes  cellular   11   may       220         1    339         4  failure   \n",
       "2      no  cellular   16   apr       185         1    330         1  failure   \n",
       "3     yes   unknown    3   jun       199         4     -1         0  unknown   \n",
       "4      no   unknown    5   may       226         1     -1         0  unknown   \n",
       "...   ...       ...  ...   ...       ...       ...    ...       ...      ...   \n",
       "4516   no  cellular   30   jul       329         5     -1         0  unknown   \n",
       "4517  yes   unknown    9   may       153         1     -1         0  unknown   \n",
       "4518   no  cellular   19   aug       151        11     -1         0  unknown   \n",
       "4519   no  cellular    6   feb       129         4    211         3    other   \n",
       "4520  yes  cellular    3   apr       345         2    249         7    other   \n",
       "\n",
       "       y  \n",
       "0     no  \n",
       "1     no  \n",
       "2     no  \n",
       "3     no  \n",
       "4     no  \n",
       "...   ..  \n",
       "4516  no  \n",
       "4517  no  \n",
       "4518  no  \n",
       "4519  no  \n",
       "4520  no  \n",
       "\n",
       "[4521 rows x 18 columns]"
      ]
     },
     "execution_count": 3,
     "metadata": {},
     "output_type": "execute_result"
    }
   ],
   "source": [
    "df"
   ]
  },
  {
   "cell_type": "markdown",
   "metadata": {},
   "source": [
    "### Remove the insignificant columns from the dataframe"
   ]
  },
  {
   "cell_type": "code",
   "execution_count": 4,
   "metadata": {},
   "outputs": [],
   "source": [
    "df.drop('ID', axis = 1, inplace = True)"
   ]
  },
  {
   "cell_type": "code",
   "execution_count": 5,
   "metadata": {},
   "outputs": [
    {
     "name": "stdout",
     "output_type": "stream",
     "text": [
      "<class 'pandas.core.frame.DataFrame'>\n",
      "RangeIndex: 4521 entries, 0 to 4520\n",
      "Data columns (total 17 columns):\n",
      " #   Column     Non-Null Count  Dtype \n",
      "---  ------     --------------  ----- \n",
      " 0   age        4521 non-null   int64 \n",
      " 1   job        4521 non-null   object\n",
      " 2   marital    4521 non-null   object\n",
      " 3   education  4521 non-null   object\n",
      " 4   default    4521 non-null   object\n",
      " 5   balance    4521 non-null   int64 \n",
      " 6   housing    4521 non-null   object\n",
      " 7   loan       4521 non-null   object\n",
      " 8   contact    4521 non-null   object\n",
      " 9   day        4521 non-null   int64 \n",
      " 10  month      4521 non-null   object\n",
      " 11  duration   4521 non-null   int64 \n",
      " 12  campaign   4521 non-null   int64 \n",
      " 13  pdays      4521 non-null   int64 \n",
      " 14  previous   4521 non-null   int64 \n",
      " 15  poutcome   4521 non-null   object\n",
      " 16  y          4521 non-null   object\n",
      "dtypes: int64(7), object(10)\n",
      "memory usage: 423.9+ KB\n"
     ]
    }
   ],
   "source": [
    "df.info()"
   ]
  },
  {
   "cell_type": "code",
   "execution_count": 6,
   "metadata": {},
   "outputs": [
    {
     "data": {
      "text/html": [
       "<div>\n",
       "<style scoped>\n",
       "    .dataframe tbody tr th:only-of-type {\n",
       "        vertical-align: middle;\n",
       "    }\n",
       "\n",
       "    .dataframe tbody tr th {\n",
       "        vertical-align: top;\n",
       "    }\n",
       "\n",
       "    .dataframe thead th {\n",
       "        text-align: right;\n",
       "    }\n",
       "</style>\n",
       "<table border=\"1\" class=\"dataframe\">\n",
       "  <thead>\n",
       "    <tr style=\"text-align: right;\">\n",
       "      <th></th>\n",
       "      <th>age</th>\n",
       "      <th>balance</th>\n",
       "      <th>day</th>\n",
       "      <th>duration</th>\n",
       "      <th>campaign</th>\n",
       "      <th>pdays</th>\n",
       "      <th>previous</th>\n",
       "    </tr>\n",
       "  </thead>\n",
       "  <tbody>\n",
       "    <tr>\n",
       "      <th>count</th>\n",
       "      <td>4521.000000</td>\n",
       "      <td>4521.000000</td>\n",
       "      <td>4521.000000</td>\n",
       "      <td>4521.000000</td>\n",
       "      <td>4521.000000</td>\n",
       "      <td>4521.000000</td>\n",
       "      <td>4521.000000</td>\n",
       "    </tr>\n",
       "    <tr>\n",
       "      <th>mean</th>\n",
       "      <td>41.170095</td>\n",
       "      <td>1422.657819</td>\n",
       "      <td>15.915284</td>\n",
       "      <td>263.961292</td>\n",
       "      <td>2.793630</td>\n",
       "      <td>39.766645</td>\n",
       "      <td>0.542579</td>\n",
       "    </tr>\n",
       "    <tr>\n",
       "      <th>std</th>\n",
       "      <td>10.576211</td>\n",
       "      <td>3009.638142</td>\n",
       "      <td>8.247667</td>\n",
       "      <td>259.856633</td>\n",
       "      <td>3.109807</td>\n",
       "      <td>100.121124</td>\n",
       "      <td>1.693562</td>\n",
       "    </tr>\n",
       "    <tr>\n",
       "      <th>min</th>\n",
       "      <td>19.000000</td>\n",
       "      <td>-3313.000000</td>\n",
       "      <td>1.000000</td>\n",
       "      <td>4.000000</td>\n",
       "      <td>1.000000</td>\n",
       "      <td>-1.000000</td>\n",
       "      <td>0.000000</td>\n",
       "    </tr>\n",
       "    <tr>\n",
       "      <th>25%</th>\n",
       "      <td>33.000000</td>\n",
       "      <td>69.000000</td>\n",
       "      <td>9.000000</td>\n",
       "      <td>104.000000</td>\n",
       "      <td>1.000000</td>\n",
       "      <td>-1.000000</td>\n",
       "      <td>0.000000</td>\n",
       "    </tr>\n",
       "    <tr>\n",
       "      <th>50%</th>\n",
       "      <td>39.000000</td>\n",
       "      <td>444.000000</td>\n",
       "      <td>16.000000</td>\n",
       "      <td>185.000000</td>\n",
       "      <td>2.000000</td>\n",
       "      <td>-1.000000</td>\n",
       "      <td>0.000000</td>\n",
       "    </tr>\n",
       "    <tr>\n",
       "      <th>75%</th>\n",
       "      <td>49.000000</td>\n",
       "      <td>1480.000000</td>\n",
       "      <td>21.000000</td>\n",
       "      <td>329.000000</td>\n",
       "      <td>3.000000</td>\n",
       "      <td>-1.000000</td>\n",
       "      <td>0.000000</td>\n",
       "    </tr>\n",
       "    <tr>\n",
       "      <th>max</th>\n",
       "      <td>87.000000</td>\n",
       "      <td>71188.000000</td>\n",
       "      <td>31.000000</td>\n",
       "      <td>3025.000000</td>\n",
       "      <td>50.000000</td>\n",
       "      <td>871.000000</td>\n",
       "      <td>25.000000</td>\n",
       "    </tr>\n",
       "  </tbody>\n",
       "</table>\n",
       "</div>"
      ],
      "text/plain": [
       "               age       balance          day     duration     campaign  \\\n",
       "count  4521.000000   4521.000000  4521.000000  4521.000000  4521.000000   \n",
       "mean     41.170095   1422.657819    15.915284   263.961292     2.793630   \n",
       "std      10.576211   3009.638142     8.247667   259.856633     3.109807   \n",
       "min      19.000000  -3313.000000     1.000000     4.000000     1.000000   \n",
       "25%      33.000000     69.000000     9.000000   104.000000     1.000000   \n",
       "50%      39.000000    444.000000    16.000000   185.000000     2.000000   \n",
       "75%      49.000000   1480.000000    21.000000   329.000000     3.000000   \n",
       "max      87.000000  71188.000000    31.000000  3025.000000    50.000000   \n",
       "\n",
       "             pdays     previous  \n",
       "count  4521.000000  4521.000000  \n",
       "mean     39.766645     0.542579  \n",
       "std     100.121124     1.693562  \n",
       "min      -1.000000     0.000000  \n",
       "25%      -1.000000     0.000000  \n",
       "50%      -1.000000     0.000000  \n",
       "75%      -1.000000     0.000000  \n",
       "max     871.000000    25.000000  "
      ]
     },
     "execution_count": 6,
     "metadata": {},
     "output_type": "execute_result"
    }
   ],
   "source": [
    "df.describe()"
   ]
  },
  {
   "cell_type": "markdown",
   "metadata": {},
   "source": [
    "### Since the dataset is complete, we randomly insert 5-10% NaN values."
   ]
  },
  {
   "cell_type": "code",
   "execution_count": 7,
   "metadata": {},
   "outputs": [],
   "source": [
    "df = pd.read_csv('C:\\\\Users\\\\user\\\\Desktop\\\\FALL 2020 COURSES\\\\APPLIED MACHINE LEARNING (MON)\\\\PROJECT 1\\\\bank_marketing_missing.csv')"
   ]
  },
  {
   "cell_type": "code",
   "execution_count": 8,
   "metadata": {},
   "outputs": [
    {
     "data": {
      "text/html": [
       "<div>\n",
       "<style scoped>\n",
       "    .dataframe tbody tr th:only-of-type {\n",
       "        vertical-align: middle;\n",
       "    }\n",
       "\n",
       "    .dataframe tbody tr th {\n",
       "        vertical-align: top;\n",
       "    }\n",
       "\n",
       "    .dataframe thead th {\n",
       "        text-align: right;\n",
       "    }\n",
       "</style>\n",
       "<table border=\"1\" class=\"dataframe\">\n",
       "  <thead>\n",
       "    <tr style=\"text-align: right;\">\n",
       "      <th></th>\n",
       "      <th>ID</th>\n",
       "      <th>age</th>\n",
       "      <th>job</th>\n",
       "      <th>marital</th>\n",
       "      <th>education</th>\n",
       "      <th>default</th>\n",
       "      <th>balance</th>\n",
       "      <th>housing</th>\n",
       "      <th>loan</th>\n",
       "      <th>contact</th>\n",
       "      <th>day</th>\n",
       "      <th>month</th>\n",
       "      <th>duration</th>\n",
       "      <th>campaign</th>\n",
       "      <th>pdays</th>\n",
       "      <th>previous</th>\n",
       "      <th>poutcome</th>\n",
       "      <th>y</th>\n",
       "    </tr>\n",
       "  </thead>\n",
       "  <tbody>\n",
       "    <tr>\n",
       "      <th>0</th>\n",
       "      <td>1</td>\n",
       "      <td>30.0</td>\n",
       "      <td>NaN</td>\n",
       "      <td>married</td>\n",
       "      <td>primary</td>\n",
       "      <td>no</td>\n",
       "      <td>1787</td>\n",
       "      <td>no</td>\n",
       "      <td>no</td>\n",
       "      <td>cellular</td>\n",
       "      <td>19</td>\n",
       "      <td>oct</td>\n",
       "      <td>79</td>\n",
       "      <td>1</td>\n",
       "      <td>-1</td>\n",
       "      <td>0</td>\n",
       "      <td>unknown</td>\n",
       "      <td>no</td>\n",
       "    </tr>\n",
       "    <tr>\n",
       "      <th>1</th>\n",
       "      <td>2</td>\n",
       "      <td>33.0</td>\n",
       "      <td>services</td>\n",
       "      <td>married</td>\n",
       "      <td>secondary</td>\n",
       "      <td>no</td>\n",
       "      <td>4789</td>\n",
       "      <td>yes</td>\n",
       "      <td>yes</td>\n",
       "      <td>cellular</td>\n",
       "      <td>11</td>\n",
       "      <td>may</td>\n",
       "      <td>220</td>\n",
       "      <td>1</td>\n",
       "      <td>339</td>\n",
       "      <td>4</td>\n",
       "      <td>failure</td>\n",
       "      <td>no</td>\n",
       "    </tr>\n",
       "    <tr>\n",
       "      <th>2</th>\n",
       "      <td>3</td>\n",
       "      <td>35.0</td>\n",
       "      <td>management</td>\n",
       "      <td>single</td>\n",
       "      <td>tertiary</td>\n",
       "      <td>no</td>\n",
       "      <td>1350</td>\n",
       "      <td>yes</td>\n",
       "      <td>no</td>\n",
       "      <td>cellular</td>\n",
       "      <td>16</td>\n",
       "      <td>apr</td>\n",
       "      <td>185</td>\n",
       "      <td>1</td>\n",
       "      <td>330</td>\n",
       "      <td>1</td>\n",
       "      <td>failure</td>\n",
       "      <td>no</td>\n",
       "    </tr>\n",
       "    <tr>\n",
       "      <th>3</th>\n",
       "      <td>4</td>\n",
       "      <td>30.0</td>\n",
       "      <td>management</td>\n",
       "      <td>NaN</td>\n",
       "      <td>tertiary</td>\n",
       "      <td>no</td>\n",
       "      <td>1476</td>\n",
       "      <td>yes</td>\n",
       "      <td>yes</td>\n",
       "      <td>unknown</td>\n",
       "      <td>3</td>\n",
       "      <td>jun</td>\n",
       "      <td>199</td>\n",
       "      <td>4</td>\n",
       "      <td>-1</td>\n",
       "      <td>0</td>\n",
       "      <td>unknown</td>\n",
       "      <td>no</td>\n",
       "    </tr>\n",
       "    <tr>\n",
       "      <th>4</th>\n",
       "      <td>5</td>\n",
       "      <td>59.0</td>\n",
       "      <td>blue-collar</td>\n",
       "      <td>NaN</td>\n",
       "      <td>secondary</td>\n",
       "      <td>no</td>\n",
       "      <td>0</td>\n",
       "      <td>yes</td>\n",
       "      <td>no</td>\n",
       "      <td>unknown</td>\n",
       "      <td>5</td>\n",
       "      <td>may</td>\n",
       "      <td>226</td>\n",
       "      <td>1</td>\n",
       "      <td>-1</td>\n",
       "      <td>0</td>\n",
       "      <td>unknown</td>\n",
       "      <td>no</td>\n",
       "    </tr>\n",
       "  </tbody>\n",
       "</table>\n",
       "</div>"
      ],
      "text/plain": [
       "   ID   age          job  marital  education default  balance housing loan  \\\n",
       "0   1  30.0          NaN  married    primary      no     1787      no   no   \n",
       "1   2  33.0     services  married  secondary      no     4789     yes  yes   \n",
       "2   3  35.0   management   single   tertiary      no     1350     yes   no   \n",
       "3   4  30.0   management      NaN   tertiary      no     1476     yes  yes   \n",
       "4   5  59.0  blue-collar      NaN  secondary      no        0     yes   no   \n",
       "\n",
       "    contact  day month  duration  campaign  pdays  previous poutcome   y  \n",
       "0  cellular   19   oct        79         1     -1         0  unknown  no  \n",
       "1  cellular   11   may       220         1    339         4  failure  no  \n",
       "2  cellular   16   apr       185         1    330         1  failure  no  \n",
       "3   unknown    3   jun       199         4     -1         0  unknown  no  \n",
       "4   unknown    5   may       226         1     -1         0  unknown  no  "
      ]
     },
     "execution_count": 8,
     "metadata": {},
     "output_type": "execute_result"
    }
   ],
   "source": [
    "df.head()"
   ]
  },
  {
   "cell_type": "code",
   "execution_count": 9,
   "metadata": {},
   "outputs": [
    {
     "data": {
      "text/html": [
       "<div>\n",
       "<style scoped>\n",
       "    .dataframe tbody tr th:only-of-type {\n",
       "        vertical-align: middle;\n",
       "    }\n",
       "\n",
       "    .dataframe tbody tr th {\n",
       "        vertical-align: top;\n",
       "    }\n",
       "\n",
       "    .dataframe thead th {\n",
       "        text-align: right;\n",
       "    }\n",
       "</style>\n",
       "<table border=\"1\" class=\"dataframe\">\n",
       "  <thead>\n",
       "    <tr style=\"text-align: right;\">\n",
       "      <th></th>\n",
       "      <th>ID</th>\n",
       "      <th>age</th>\n",
       "      <th>job</th>\n",
       "      <th>marital</th>\n",
       "      <th>education</th>\n",
       "      <th>default</th>\n",
       "      <th>balance</th>\n",
       "      <th>housing</th>\n",
       "      <th>loan</th>\n",
       "      <th>contact</th>\n",
       "      <th>day</th>\n",
       "      <th>month</th>\n",
       "      <th>duration</th>\n",
       "      <th>campaign</th>\n",
       "      <th>pdays</th>\n",
       "      <th>previous</th>\n",
       "      <th>poutcome</th>\n",
       "      <th>y</th>\n",
       "    </tr>\n",
       "  </thead>\n",
       "  <tbody>\n",
       "    <tr>\n",
       "      <th>4516</th>\n",
       "      <td>4517</td>\n",
       "      <td>33.0</td>\n",
       "      <td>services</td>\n",
       "      <td>married</td>\n",
       "      <td>secondary</td>\n",
       "      <td>no</td>\n",
       "      <td>-333</td>\n",
       "      <td>yes</td>\n",
       "      <td>no</td>\n",
       "      <td>cellular</td>\n",
       "      <td>30</td>\n",
       "      <td>jul</td>\n",
       "      <td>329</td>\n",
       "      <td>5</td>\n",
       "      <td>-1</td>\n",
       "      <td>0</td>\n",
       "      <td>unknown</td>\n",
       "      <td>no</td>\n",
       "    </tr>\n",
       "    <tr>\n",
       "      <th>4517</th>\n",
       "      <td>4518</td>\n",
       "      <td>57.0</td>\n",
       "      <td>self-employed</td>\n",
       "      <td>married</td>\n",
       "      <td>tertiary</td>\n",
       "      <td>yes</td>\n",
       "      <td>-3313</td>\n",
       "      <td>yes</td>\n",
       "      <td>yes</td>\n",
       "      <td>unknown</td>\n",
       "      <td>9</td>\n",
       "      <td>may</td>\n",
       "      <td>153</td>\n",
       "      <td>1</td>\n",
       "      <td>-1</td>\n",
       "      <td>0</td>\n",
       "      <td>unknown</td>\n",
       "      <td>no</td>\n",
       "    </tr>\n",
       "    <tr>\n",
       "      <th>4518</th>\n",
       "      <td>4519</td>\n",
       "      <td>57.0</td>\n",
       "      <td>technician</td>\n",
       "      <td>married</td>\n",
       "      <td>secondary</td>\n",
       "      <td>no</td>\n",
       "      <td>295</td>\n",
       "      <td>no</td>\n",
       "      <td>no</td>\n",
       "      <td>cellular</td>\n",
       "      <td>19</td>\n",
       "      <td>aug</td>\n",
       "      <td>151</td>\n",
       "      <td>11</td>\n",
       "      <td>-1</td>\n",
       "      <td>0</td>\n",
       "      <td>unknown</td>\n",
       "      <td>no</td>\n",
       "    </tr>\n",
       "    <tr>\n",
       "      <th>4519</th>\n",
       "      <td>4520</td>\n",
       "      <td>28.0</td>\n",
       "      <td>blue-collar</td>\n",
       "      <td>married</td>\n",
       "      <td>secondary</td>\n",
       "      <td>no</td>\n",
       "      <td>1137</td>\n",
       "      <td>no</td>\n",
       "      <td>no</td>\n",
       "      <td>cellular</td>\n",
       "      <td>6</td>\n",
       "      <td>feb</td>\n",
       "      <td>129</td>\n",
       "      <td>4</td>\n",
       "      <td>211</td>\n",
       "      <td>3</td>\n",
       "      <td>other</td>\n",
       "      <td>no</td>\n",
       "    </tr>\n",
       "    <tr>\n",
       "      <th>4520</th>\n",
       "      <td>4521</td>\n",
       "      <td>44.0</td>\n",
       "      <td>entrepreneur</td>\n",
       "      <td>single</td>\n",
       "      <td>tertiary</td>\n",
       "      <td>no</td>\n",
       "      <td>1136</td>\n",
       "      <td>yes</td>\n",
       "      <td>yes</td>\n",
       "      <td>cellular</td>\n",
       "      <td>3</td>\n",
       "      <td>apr</td>\n",
       "      <td>345</td>\n",
       "      <td>2</td>\n",
       "      <td>249</td>\n",
       "      <td>7</td>\n",
       "      <td>other</td>\n",
       "      <td>no</td>\n",
       "    </tr>\n",
       "  </tbody>\n",
       "</table>\n",
       "</div>"
      ],
      "text/plain": [
       "        ID   age            job  marital  education default  balance housing  \\\n",
       "4516  4517  33.0       services  married  secondary      no     -333     yes   \n",
       "4517  4518  57.0  self-employed  married   tertiary     yes    -3313     yes   \n",
       "4518  4519  57.0     technician  married  secondary      no      295      no   \n",
       "4519  4520  28.0    blue-collar  married  secondary      no     1137      no   \n",
       "4520  4521  44.0   entrepreneur   single   tertiary      no     1136     yes   \n",
       "\n",
       "     loan   contact  day month  duration  campaign  pdays  previous poutcome  \\\n",
       "4516   no  cellular   30   jul       329         5     -1         0  unknown   \n",
       "4517  yes   unknown    9   may       153         1     -1         0  unknown   \n",
       "4518   no  cellular   19   aug       151        11     -1         0  unknown   \n",
       "4519   no  cellular    6   feb       129         4    211         3    other   \n",
       "4520  yes  cellular    3   apr       345         2    249         7    other   \n",
       "\n",
       "       y  \n",
       "4516  no  \n",
       "4517  no  \n",
       "4518  no  \n",
       "4519  no  \n",
       "4520  no  "
      ]
     },
     "execution_count": 9,
     "metadata": {},
     "output_type": "execute_result"
    }
   ],
   "source": [
    "df.tail()"
   ]
  },
  {
   "cell_type": "markdown",
   "metadata": {},
   "source": [
    "### Perform Train and Test splits"
   ]
  },
  {
   "cell_type": "code",
   "execution_count": 10,
   "metadata": {},
   "outputs": [],
   "source": [
    "from sklearn.model_selection import train_test_split\n",
    "\n",
    "train, test = train_test_split(df, random_state = 0)"
   ]
  },
  {
   "cell_type": "code",
   "execution_count": 11,
   "metadata": {},
   "outputs": [
    {
     "data": {
      "text/html": [
       "<div>\n",
       "<style scoped>\n",
       "    .dataframe tbody tr th:only-of-type {\n",
       "        vertical-align: middle;\n",
       "    }\n",
       "\n",
       "    .dataframe tbody tr th {\n",
       "        vertical-align: top;\n",
       "    }\n",
       "\n",
       "    .dataframe thead th {\n",
       "        text-align: right;\n",
       "    }\n",
       "</style>\n",
       "<table border=\"1\" class=\"dataframe\">\n",
       "  <thead>\n",
       "    <tr style=\"text-align: right;\">\n",
       "      <th></th>\n",
       "      <th>ID</th>\n",
       "      <th>age</th>\n",
       "      <th>job</th>\n",
       "      <th>marital</th>\n",
       "      <th>education</th>\n",
       "      <th>default</th>\n",
       "      <th>balance</th>\n",
       "      <th>housing</th>\n",
       "      <th>loan</th>\n",
       "      <th>contact</th>\n",
       "      <th>day</th>\n",
       "      <th>month</th>\n",
       "      <th>duration</th>\n",
       "      <th>campaign</th>\n",
       "      <th>pdays</th>\n",
       "      <th>previous</th>\n",
       "      <th>poutcome</th>\n",
       "      <th>y</th>\n",
       "    </tr>\n",
       "  </thead>\n",
       "  <tbody>\n",
       "    <tr>\n",
       "      <th>4384</th>\n",
       "      <td>4385</td>\n",
       "      <td>52.0</td>\n",
       "      <td>management</td>\n",
       "      <td>single</td>\n",
       "      <td>tertiary</td>\n",
       "      <td>no</td>\n",
       "      <td>4</td>\n",
       "      <td>no</td>\n",
       "      <td>yes</td>\n",
       "      <td>cellular</td>\n",
       "      <td>28</td>\n",
       "      <td>jul</td>\n",
       "      <td>30</td>\n",
       "      <td>9</td>\n",
       "      <td>-1</td>\n",
       "      <td>0</td>\n",
       "      <td>unknown</td>\n",
       "      <td>no</td>\n",
       "    </tr>\n",
       "    <tr>\n",
       "      <th>2560</th>\n",
       "      <td>2561</td>\n",
       "      <td>44.0</td>\n",
       "      <td>blue-collar</td>\n",
       "      <td>married</td>\n",
       "      <td>secondary</td>\n",
       "      <td>no</td>\n",
       "      <td>1071</td>\n",
       "      <td>yes</td>\n",
       "      <td>no</td>\n",
       "      <td>cellular</td>\n",
       "      <td>11</td>\n",
       "      <td>may</td>\n",
       "      <td>143</td>\n",
       "      <td>3</td>\n",
       "      <td>357</td>\n",
       "      <td>1</td>\n",
       "      <td>failure</td>\n",
       "      <td>no</td>\n",
       "    </tr>\n",
       "    <tr>\n",
       "      <th>1470</th>\n",
       "      <td>1471</td>\n",
       "      <td>NaN</td>\n",
       "      <td>blue-collar</td>\n",
       "      <td>married</td>\n",
       "      <td>primary</td>\n",
       "      <td>no</td>\n",
       "      <td>4103</td>\n",
       "      <td>no</td>\n",
       "      <td>no</td>\n",
       "      <td>cellular</td>\n",
       "      <td>19</td>\n",
       "      <td>nov</td>\n",
       "      <td>291</td>\n",
       "      <td>1</td>\n",
       "      <td>-1</td>\n",
       "      <td>0</td>\n",
       "      <td>unknown</td>\n",
       "      <td>no</td>\n",
       "    </tr>\n",
       "    <tr>\n",
       "      <th>1771</th>\n",
       "      <td>1772</td>\n",
       "      <td>37.0</td>\n",
       "      <td>management</td>\n",
       "      <td>married</td>\n",
       "      <td>tertiary</td>\n",
       "      <td>no</td>\n",
       "      <td>347</td>\n",
       "      <td>yes</td>\n",
       "      <td>no</td>\n",
       "      <td>cellular</td>\n",
       "      <td>22</td>\n",
       "      <td>jul</td>\n",
       "      <td>282</td>\n",
       "      <td>1</td>\n",
       "      <td>-1</td>\n",
       "      <td>0</td>\n",
       "      <td>unknown</td>\n",
       "      <td>no</td>\n",
       "    </tr>\n",
       "    <tr>\n",
       "      <th>2604</th>\n",
       "      <td>2605</td>\n",
       "      <td>57.0</td>\n",
       "      <td>management</td>\n",
       "      <td>married</td>\n",
       "      <td>unknown</td>\n",
       "      <td>no</td>\n",
       "      <td>0</td>\n",
       "      <td>no</td>\n",
       "      <td>no</td>\n",
       "      <td>cellular</td>\n",
       "      <td>30</td>\n",
       "      <td>NaN</td>\n",
       "      <td>585</td>\n",
       "      <td>1</td>\n",
       "      <td>-1</td>\n",
       "      <td>0</td>\n",
       "      <td>unknown</td>\n",
       "      <td>no</td>\n",
       "    </tr>\n",
       "    <tr>\n",
       "      <th>...</th>\n",
       "      <td>...</td>\n",
       "      <td>...</td>\n",
       "      <td>...</td>\n",
       "      <td>...</td>\n",
       "      <td>...</td>\n",
       "      <td>...</td>\n",
       "      <td>...</td>\n",
       "      <td>...</td>\n",
       "      <td>...</td>\n",
       "      <td>...</td>\n",
       "      <td>...</td>\n",
       "      <td>...</td>\n",
       "      <td>...</td>\n",
       "      <td>...</td>\n",
       "      <td>...</td>\n",
       "      <td>...</td>\n",
       "      <td>...</td>\n",
       "      <td>...</td>\n",
       "    </tr>\n",
       "    <tr>\n",
       "      <th>1033</th>\n",
       "      <td>1034</td>\n",
       "      <td>NaN</td>\n",
       "      <td>technician</td>\n",
       "      <td>single</td>\n",
       "      <td>secondary</td>\n",
       "      <td>no</td>\n",
       "      <td>534</td>\n",
       "      <td>yes</td>\n",
       "      <td>no</td>\n",
       "      <td>cellular</td>\n",
       "      <td>18</td>\n",
       "      <td>may</td>\n",
       "      <td>382</td>\n",
       "      <td>1</td>\n",
       "      <td>-1</td>\n",
       "      <td>0</td>\n",
       "      <td>unknown</td>\n",
       "      <td>no</td>\n",
       "    </tr>\n",
       "    <tr>\n",
       "      <th>3264</th>\n",
       "      <td>3265</td>\n",
       "      <td>36.0</td>\n",
       "      <td>management</td>\n",
       "      <td>single</td>\n",
       "      <td>tertiary</td>\n",
       "      <td>no</td>\n",
       "      <td>613</td>\n",
       "      <td>no</td>\n",
       "      <td>NaN</td>\n",
       "      <td>cellular</td>\n",
       "      <td>7</td>\n",
       "      <td>aug</td>\n",
       "      <td>86</td>\n",
       "      <td>2</td>\n",
       "      <td>-1</td>\n",
       "      <td>0</td>\n",
       "      <td>unknown</td>\n",
       "      <td>no</td>\n",
       "    </tr>\n",
       "    <tr>\n",
       "      <th>1653</th>\n",
       "      <td>1654</td>\n",
       "      <td>53.0</td>\n",
       "      <td>blue-collar</td>\n",
       "      <td>married</td>\n",
       "      <td>primary</td>\n",
       "      <td>no</td>\n",
       "      <td>306</td>\n",
       "      <td>no</td>\n",
       "      <td>no</td>\n",
       "      <td>cellular</td>\n",
       "      <td>28</td>\n",
       "      <td>jul</td>\n",
       "      <td>388</td>\n",
       "      <td>3</td>\n",
       "      <td>181</td>\n",
       "      <td>1</td>\n",
       "      <td>success</td>\n",
       "      <td>yes</td>\n",
       "    </tr>\n",
       "    <tr>\n",
       "      <th>2607</th>\n",
       "      <td>2608</td>\n",
       "      <td>32.0</td>\n",
       "      <td>blue-collar</td>\n",
       "      <td>married</td>\n",
       "      <td>NaN</td>\n",
       "      <td>no</td>\n",
       "      <td>642</td>\n",
       "      <td>no</td>\n",
       "      <td>yes</td>\n",
       "      <td>cellular</td>\n",
       "      <td>8</td>\n",
       "      <td>jul</td>\n",
       "      <td>524</td>\n",
       "      <td>1</td>\n",
       "      <td>-1</td>\n",
       "      <td>0</td>\n",
       "      <td>unknown</td>\n",
       "      <td>no</td>\n",
       "    </tr>\n",
       "    <tr>\n",
       "      <th>2732</th>\n",
       "      <td>2733</td>\n",
       "      <td>NaN</td>\n",
       "      <td>technician</td>\n",
       "      <td>married</td>\n",
       "      <td>primary</td>\n",
       "      <td>no</td>\n",
       "      <td>-322</td>\n",
       "      <td>no</td>\n",
       "      <td>no</td>\n",
       "      <td>unknown</td>\n",
       "      <td>9</td>\n",
       "      <td>jun</td>\n",
       "      <td>225</td>\n",
       "      <td>2</td>\n",
       "      <td>-1</td>\n",
       "      <td>0</td>\n",
       "      <td>unknown</td>\n",
       "      <td>no</td>\n",
       "    </tr>\n",
       "  </tbody>\n",
       "</table>\n",
       "<p>3390 rows × 18 columns</p>\n",
       "</div>"
      ],
      "text/plain": [
       "        ID   age          job  marital  education default  balance housing  \\\n",
       "4384  4385  52.0   management   single   tertiary      no        4      no   \n",
       "2560  2561  44.0  blue-collar  married  secondary      no     1071     yes   \n",
       "1470  1471   NaN  blue-collar  married    primary      no     4103      no   \n",
       "1771  1772  37.0   management  married   tertiary      no      347     yes   \n",
       "2604  2605  57.0   management  married    unknown      no        0      no   \n",
       "...    ...   ...          ...      ...        ...     ...      ...     ...   \n",
       "1033  1034   NaN   technician   single  secondary      no      534     yes   \n",
       "3264  3265  36.0   management   single   tertiary      no      613      no   \n",
       "1653  1654  53.0  blue-collar  married    primary      no      306      no   \n",
       "2607  2608  32.0  blue-collar  married        NaN      no      642      no   \n",
       "2732  2733   NaN   technician  married    primary      no     -322      no   \n",
       "\n",
       "     loan   contact  day month  duration  campaign  pdays  previous poutcome  \\\n",
       "4384  yes  cellular   28   jul        30         9     -1         0  unknown   \n",
       "2560   no  cellular   11   may       143         3    357         1  failure   \n",
       "1470   no  cellular   19   nov       291         1     -1         0  unknown   \n",
       "1771   no  cellular   22   jul       282         1     -1         0  unknown   \n",
       "2604   no  cellular   30   NaN       585         1     -1         0  unknown   \n",
       "...   ...       ...  ...   ...       ...       ...    ...       ...      ...   \n",
       "1033   no  cellular   18   may       382         1     -1         0  unknown   \n",
       "3264  NaN  cellular    7   aug        86         2     -1         0  unknown   \n",
       "1653   no  cellular   28   jul       388         3    181         1  success   \n",
       "2607  yes  cellular    8   jul       524         1     -1         0  unknown   \n",
       "2732   no   unknown    9   jun       225         2     -1         0  unknown   \n",
       "\n",
       "        y  \n",
       "4384   no  \n",
       "2560   no  \n",
       "1470   no  \n",
       "1771   no  \n",
       "2604   no  \n",
       "...   ...  \n",
       "1033   no  \n",
       "3264   no  \n",
       "1653  yes  \n",
       "2607   no  \n",
       "2732   no  \n",
       "\n",
       "[3390 rows x 18 columns]"
      ]
     },
     "execution_count": 11,
     "metadata": {},
     "output_type": "execute_result"
    }
   ],
   "source": [
    "train"
   ]
  },
  {
   "cell_type": "code",
   "execution_count": 12,
   "metadata": {},
   "outputs": [
    {
     "data": {
      "text/html": [
       "<div>\n",
       "<style scoped>\n",
       "    .dataframe tbody tr th:only-of-type {\n",
       "        vertical-align: middle;\n",
       "    }\n",
       "\n",
       "    .dataframe tbody tr th {\n",
       "        vertical-align: top;\n",
       "    }\n",
       "\n",
       "    .dataframe thead th {\n",
       "        text-align: right;\n",
       "    }\n",
       "</style>\n",
       "<table border=\"1\" class=\"dataframe\">\n",
       "  <thead>\n",
       "    <tr style=\"text-align: right;\">\n",
       "      <th></th>\n",
       "      <th>ID</th>\n",
       "      <th>age</th>\n",
       "      <th>job</th>\n",
       "      <th>marital</th>\n",
       "      <th>education</th>\n",
       "      <th>default</th>\n",
       "      <th>balance</th>\n",
       "      <th>housing</th>\n",
       "      <th>loan</th>\n",
       "      <th>contact</th>\n",
       "      <th>day</th>\n",
       "      <th>month</th>\n",
       "      <th>duration</th>\n",
       "      <th>campaign</th>\n",
       "      <th>pdays</th>\n",
       "      <th>previous</th>\n",
       "      <th>poutcome</th>\n",
       "      <th>y</th>\n",
       "    </tr>\n",
       "  </thead>\n",
       "  <tbody>\n",
       "    <tr>\n",
       "      <th>4274</th>\n",
       "      <td>4275</td>\n",
       "      <td>35.0</td>\n",
       "      <td>blue-collar</td>\n",
       "      <td>married</td>\n",
       "      <td>primary</td>\n",
       "      <td>no</td>\n",
       "      <td>378</td>\n",
       "      <td>yes</td>\n",
       "      <td>no</td>\n",
       "      <td>unknown</td>\n",
       "      <td>16</td>\n",
       "      <td>may</td>\n",
       "      <td>427</td>\n",
       "      <td>3</td>\n",
       "      <td>-1</td>\n",
       "      <td>0</td>\n",
       "      <td>unknown</td>\n",
       "      <td>no</td>\n",
       "    </tr>\n",
       "    <tr>\n",
       "      <th>72</th>\n",
       "      <td>73</td>\n",
       "      <td>31.0</td>\n",
       "      <td>management</td>\n",
       "      <td>NaN</td>\n",
       "      <td>tertiary</td>\n",
       "      <td>no</td>\n",
       "      <td>6248</td>\n",
       "      <td>yes</td>\n",
       "      <td>no</td>\n",
       "      <td>NaN</td>\n",
       "      <td>9</td>\n",
       "      <td>may</td>\n",
       "      <td>154</td>\n",
       "      <td>2</td>\n",
       "      <td>-1</td>\n",
       "      <td>0</td>\n",
       "      <td>unknown</td>\n",
       "      <td>no</td>\n",
       "    </tr>\n",
       "    <tr>\n",
       "      <th>1065</th>\n",
       "      <td>1066</td>\n",
       "      <td>30.0</td>\n",
       "      <td>unemployed</td>\n",
       "      <td>married</td>\n",
       "      <td>tertiary</td>\n",
       "      <td>no</td>\n",
       "      <td>0</td>\n",
       "      <td>yes</td>\n",
       "      <td>no</td>\n",
       "      <td>cellular</td>\n",
       "      <td>18</td>\n",
       "      <td>nov</td>\n",
       "      <td>756</td>\n",
       "      <td>1</td>\n",
       "      <td>-1</td>\n",
       "      <td>0</td>\n",
       "      <td>unknown</td>\n",
       "      <td>no</td>\n",
       "    </tr>\n",
       "    <tr>\n",
       "      <th>3185</th>\n",
       "      <td>3186</td>\n",
       "      <td>42.0</td>\n",
       "      <td>admin.</td>\n",
       "      <td>married</td>\n",
       "      <td>secondary</td>\n",
       "      <td>no</td>\n",
       "      <td>529</td>\n",
       "      <td>yes</td>\n",
       "      <td>yes</td>\n",
       "      <td>cellular</td>\n",
       "      <td>19</td>\n",
       "      <td>nov</td>\n",
       "      <td>193</td>\n",
       "      <td>3</td>\n",
       "      <td>-1</td>\n",
       "      <td>0</td>\n",
       "      <td>unknown</td>\n",
       "      <td>no</td>\n",
       "    </tr>\n",
       "    <tr>\n",
       "      <th>130</th>\n",
       "      <td>131</td>\n",
       "      <td>41.0</td>\n",
       "      <td>blue-collar</td>\n",
       "      <td>married</td>\n",
       "      <td>NaN</td>\n",
       "      <td>no</td>\n",
       "      <td>168</td>\n",
       "      <td>yes</td>\n",
       "      <td>no</td>\n",
       "      <td>cellular</td>\n",
       "      <td>18</td>\n",
       "      <td>nov</td>\n",
       "      <td>187</td>\n",
       "      <td>3</td>\n",
       "      <td>-1</td>\n",
       "      <td>0</td>\n",
       "      <td>unknown</td>\n",
       "      <td>no</td>\n",
       "    </tr>\n",
       "    <tr>\n",
       "      <th>...</th>\n",
       "      <td>...</td>\n",
       "      <td>...</td>\n",
       "      <td>...</td>\n",
       "      <td>...</td>\n",
       "      <td>...</td>\n",
       "      <td>...</td>\n",
       "      <td>...</td>\n",
       "      <td>...</td>\n",
       "      <td>...</td>\n",
       "      <td>...</td>\n",
       "      <td>...</td>\n",
       "      <td>...</td>\n",
       "      <td>...</td>\n",
       "      <td>...</td>\n",
       "      <td>...</td>\n",
       "      <td>...</td>\n",
       "      <td>...</td>\n",
       "      <td>...</td>\n",
       "    </tr>\n",
       "    <tr>\n",
       "      <th>1790</th>\n",
       "      <td>1791</td>\n",
       "      <td>NaN</td>\n",
       "      <td>technician</td>\n",
       "      <td>married</td>\n",
       "      <td>secondary</td>\n",
       "      <td>no</td>\n",
       "      <td>1477</td>\n",
       "      <td>yes</td>\n",
       "      <td>no</td>\n",
       "      <td>cellular</td>\n",
       "      <td>8</td>\n",
       "      <td>jul</td>\n",
       "      <td>355</td>\n",
       "      <td>1</td>\n",
       "      <td>-1</td>\n",
       "      <td>0</td>\n",
       "      <td>unknown</td>\n",
       "      <td>no</td>\n",
       "    </tr>\n",
       "    <tr>\n",
       "      <th>2106</th>\n",
       "      <td>2107</td>\n",
       "      <td>47.0</td>\n",
       "      <td>entrepreneur</td>\n",
       "      <td>married</td>\n",
       "      <td>primary</td>\n",
       "      <td>no</td>\n",
       "      <td>668</td>\n",
       "      <td>no</td>\n",
       "      <td>no</td>\n",
       "      <td>cellular</td>\n",
       "      <td>12</td>\n",
       "      <td>may</td>\n",
       "      <td>908</td>\n",
       "      <td>1</td>\n",
       "      <td>-1</td>\n",
       "      <td>0</td>\n",
       "      <td>unknown</td>\n",
       "      <td>no</td>\n",
       "    </tr>\n",
       "    <tr>\n",
       "      <th>242</th>\n",
       "      <td>243</td>\n",
       "      <td>44.0</td>\n",
       "      <td>management</td>\n",
       "      <td>married</td>\n",
       "      <td>tertiary</td>\n",
       "      <td>no</td>\n",
       "      <td>3762</td>\n",
       "      <td>no</td>\n",
       "      <td>no</td>\n",
       "      <td>cellular</td>\n",
       "      <td>28</td>\n",
       "      <td>aug</td>\n",
       "      <td>125</td>\n",
       "      <td>12</td>\n",
       "      <td>-1</td>\n",
       "      <td>0</td>\n",
       "      <td>unknown</td>\n",
       "      <td>no</td>\n",
       "    </tr>\n",
       "    <tr>\n",
       "      <th>4402</th>\n",
       "      <td>4403</td>\n",
       "      <td>41.0</td>\n",
       "      <td>NaN</td>\n",
       "      <td>married</td>\n",
       "      <td>primary</td>\n",
       "      <td>no</td>\n",
       "      <td>39</td>\n",
       "      <td>yes</td>\n",
       "      <td>no</td>\n",
       "      <td>cellular</td>\n",
       "      <td>21</td>\n",
       "      <td>NaN</td>\n",
       "      <td>549</td>\n",
       "      <td>2</td>\n",
       "      <td>-1</td>\n",
       "      <td>0</td>\n",
       "      <td>unknown</td>\n",
       "      <td>yes</td>\n",
       "    </tr>\n",
       "    <tr>\n",
       "      <th>1606</th>\n",
       "      <td>1607</td>\n",
       "      <td>41.0</td>\n",
       "      <td>blue-collar</td>\n",
       "      <td>single</td>\n",
       "      <td>unknown</td>\n",
       "      <td>no</td>\n",
       "      <td>4684</td>\n",
       "      <td>no</td>\n",
       "      <td>no</td>\n",
       "      <td>unknown</td>\n",
       "      <td>20</td>\n",
       "      <td>jun</td>\n",
       "      <td>30</td>\n",
       "      <td>6</td>\n",
       "      <td>-1</td>\n",
       "      <td>0</td>\n",
       "      <td>unknown</td>\n",
       "      <td>no</td>\n",
       "    </tr>\n",
       "  </tbody>\n",
       "</table>\n",
       "<p>1131 rows × 18 columns</p>\n",
       "</div>"
      ],
      "text/plain": [
       "        ID   age           job  marital  education default  balance housing  \\\n",
       "4274  4275  35.0   blue-collar  married    primary      no      378     yes   \n",
       "72      73  31.0    management      NaN   tertiary      no     6248     yes   \n",
       "1065  1066  30.0    unemployed  married   tertiary      no        0     yes   \n",
       "3185  3186  42.0        admin.  married  secondary      no      529     yes   \n",
       "130    131  41.0   blue-collar  married        NaN      no      168     yes   \n",
       "...    ...   ...           ...      ...        ...     ...      ...     ...   \n",
       "1790  1791   NaN    technician  married  secondary      no     1477     yes   \n",
       "2106  2107  47.0  entrepreneur  married    primary      no      668      no   \n",
       "242    243  44.0    management  married   tertiary      no     3762      no   \n",
       "4402  4403  41.0           NaN  married    primary      no       39     yes   \n",
       "1606  1607  41.0   blue-collar   single    unknown      no     4684      no   \n",
       "\n",
       "     loan   contact  day month  duration  campaign  pdays  previous poutcome  \\\n",
       "4274   no   unknown   16   may       427         3     -1         0  unknown   \n",
       "72     no       NaN    9   may       154         2     -1         0  unknown   \n",
       "1065   no  cellular   18   nov       756         1     -1         0  unknown   \n",
       "3185  yes  cellular   19   nov       193         3     -1         0  unknown   \n",
       "130    no  cellular   18   nov       187         3     -1         0  unknown   \n",
       "...   ...       ...  ...   ...       ...       ...    ...       ...      ...   \n",
       "1790   no  cellular    8   jul       355         1     -1         0  unknown   \n",
       "2106   no  cellular   12   may       908         1     -1         0  unknown   \n",
       "242    no  cellular   28   aug       125        12     -1         0  unknown   \n",
       "4402   no  cellular   21   NaN       549         2     -1         0  unknown   \n",
       "1606   no   unknown   20   jun        30         6     -1         0  unknown   \n",
       "\n",
       "        y  \n",
       "4274   no  \n",
       "72     no  \n",
       "1065   no  \n",
       "3185   no  \n",
       "130    no  \n",
       "...   ...  \n",
       "1790   no  \n",
       "2106   no  \n",
       "242    no  \n",
       "4402  yes  \n",
       "1606   no  \n",
       "\n",
       "[1131 rows x 18 columns]"
      ]
     },
     "execution_count": 12,
     "metadata": {},
     "output_type": "execute_result"
    }
   ],
   "source": [
    "test"
   ]
  },
  {
   "cell_type": "markdown",
   "metadata": {},
   "source": [
    "### Explore the train data"
   ]
  },
  {
   "cell_type": "code",
   "execution_count": 13,
   "metadata": {
    "scrolled": true
   },
   "outputs": [
    {
     "name": "stdout",
     "output_type": "stream",
     "text": [
      "<class 'pandas.core.frame.DataFrame'>\n",
      "Int64Index: 3390 entries, 4384 to 2732\n",
      "Data columns (total 18 columns):\n",
      " #   Column     Non-Null Count  Dtype  \n",
      "---  ------     --------------  -----  \n",
      " 0   ID         3390 non-null   int64  \n",
      " 1   age        2754 non-null   float64\n",
      " 2   job        3216 non-null   object \n",
      " 3   marital    3270 non-null   object \n",
      " 4   education  3219 non-null   object \n",
      " 5   default    3390 non-null   object \n",
      " 6   balance    3390 non-null   int64  \n",
      " 7   housing    3390 non-null   object \n",
      " 8   loan       3186 non-null   object \n",
      " 9   contact    3084 non-null   object \n",
      " 10  day        3390 non-null   int64  \n",
      " 11  month      3144 non-null   object \n",
      " 12  duration   3390 non-null   int64  \n",
      " 13  campaign   3390 non-null   int64  \n",
      " 14  pdays      3390 non-null   int64  \n",
      " 15  previous   3390 non-null   int64  \n",
      " 16  poutcome   3390 non-null   object \n",
      " 17  y          3390 non-null   object \n",
      "dtypes: float64(1), int64(7), object(10)\n",
      "memory usage: 370.8+ KB\n"
     ]
    }
   ],
   "source": [
    "train.info()"
   ]
  },
  {
   "cell_type": "markdown",
   "metadata": {},
   "source": [
    "### Remove the insignificant columns from the train set"
   ]
  },
  {
   "cell_type": "code",
   "execution_count": 14,
   "metadata": {},
   "outputs": [],
   "source": [
    "train.drop('ID', axis = 1, inplace = True)"
   ]
  },
  {
   "cell_type": "code",
   "execution_count": 15,
   "metadata": {},
   "outputs": [
    {
     "data": {
      "text/html": [
       "<div>\n",
       "<style scoped>\n",
       "    .dataframe tbody tr th:only-of-type {\n",
       "        vertical-align: middle;\n",
       "    }\n",
       "\n",
       "    .dataframe tbody tr th {\n",
       "        vertical-align: top;\n",
       "    }\n",
       "\n",
       "    .dataframe thead th {\n",
       "        text-align: right;\n",
       "    }\n",
       "</style>\n",
       "<table border=\"1\" class=\"dataframe\">\n",
       "  <thead>\n",
       "    <tr style=\"text-align: right;\">\n",
       "      <th></th>\n",
       "      <th>age</th>\n",
       "      <th>balance</th>\n",
       "      <th>day</th>\n",
       "      <th>duration</th>\n",
       "      <th>campaign</th>\n",
       "      <th>pdays</th>\n",
       "      <th>previous</th>\n",
       "    </tr>\n",
       "  </thead>\n",
       "  <tbody>\n",
       "    <tr>\n",
       "      <th>count</th>\n",
       "      <td>2754.000000</td>\n",
       "      <td>3390.000000</td>\n",
       "      <td>3390.000000</td>\n",
       "      <td>3390.000000</td>\n",
       "      <td>3390.000000</td>\n",
       "      <td>3390.000000</td>\n",
       "      <td>3390.000000</td>\n",
       "    </tr>\n",
       "    <tr>\n",
       "      <th>mean</th>\n",
       "      <td>41.244735</td>\n",
       "      <td>1432.131563</td>\n",
       "      <td>15.848083</td>\n",
       "      <td>260.278171</td>\n",
       "      <td>2.792625</td>\n",
       "      <td>40.054277</td>\n",
       "      <td>0.543363</td>\n",
       "    </tr>\n",
       "    <tr>\n",
       "      <th>std</th>\n",
       "      <td>10.883711</td>\n",
       "      <td>3070.844395</td>\n",
       "      <td>8.232079</td>\n",
       "      <td>252.128385</td>\n",
       "      <td>3.067703</td>\n",
       "      <td>100.755075</td>\n",
       "      <td>1.695039</td>\n",
       "    </tr>\n",
       "    <tr>\n",
       "      <th>min</th>\n",
       "      <td>19.000000</td>\n",
       "      <td>-2082.000000</td>\n",
       "      <td>1.000000</td>\n",
       "      <td>5.000000</td>\n",
       "      <td>1.000000</td>\n",
       "      <td>-1.000000</td>\n",
       "      <td>0.000000</td>\n",
       "    </tr>\n",
       "    <tr>\n",
       "      <th>25%</th>\n",
       "      <td>32.000000</td>\n",
       "      <td>72.000000</td>\n",
       "      <td>8.000000</td>\n",
       "      <td>104.000000</td>\n",
       "      <td>1.000000</td>\n",
       "      <td>-1.000000</td>\n",
       "      <td>0.000000</td>\n",
       "    </tr>\n",
       "    <tr>\n",
       "      <th>50%</th>\n",
       "      <td>40.000000</td>\n",
       "      <td>440.000000</td>\n",
       "      <td>16.000000</td>\n",
       "      <td>185.000000</td>\n",
       "      <td>2.000000</td>\n",
       "      <td>-1.000000</td>\n",
       "      <td>0.000000</td>\n",
       "    </tr>\n",
       "    <tr>\n",
       "      <th>75%</th>\n",
       "      <td>48.000000</td>\n",
       "      <td>1464.000000</td>\n",
       "      <td>21.000000</td>\n",
       "      <td>331.000000</td>\n",
       "      <td>3.000000</td>\n",
       "      <td>-1.000000</td>\n",
       "      <td>0.000000</td>\n",
       "    </tr>\n",
       "    <tr>\n",
       "      <th>max</th>\n",
       "      <td>87.000000</td>\n",
       "      <td>71188.000000</td>\n",
       "      <td>31.000000</td>\n",
       "      <td>3025.000000</td>\n",
       "      <td>50.000000</td>\n",
       "      <td>871.000000</td>\n",
       "      <td>25.000000</td>\n",
       "    </tr>\n",
       "  </tbody>\n",
       "</table>\n",
       "</div>"
      ],
      "text/plain": [
       "               age       balance          day     duration     campaign  \\\n",
       "count  2754.000000   3390.000000  3390.000000  3390.000000  3390.000000   \n",
       "mean     41.244735   1432.131563    15.848083   260.278171     2.792625   \n",
       "std      10.883711   3070.844395     8.232079   252.128385     3.067703   \n",
       "min      19.000000  -2082.000000     1.000000     5.000000     1.000000   \n",
       "25%      32.000000     72.000000     8.000000   104.000000     1.000000   \n",
       "50%      40.000000    440.000000    16.000000   185.000000     2.000000   \n",
       "75%      48.000000   1464.000000    21.000000   331.000000     3.000000   \n",
       "max      87.000000  71188.000000    31.000000  3025.000000    50.000000   \n",
       "\n",
       "             pdays     previous  \n",
       "count  3390.000000  3390.000000  \n",
       "mean     40.054277     0.543363  \n",
       "std     100.755075     1.695039  \n",
       "min      -1.000000     0.000000  \n",
       "25%      -1.000000     0.000000  \n",
       "50%      -1.000000     0.000000  \n",
       "75%      -1.000000     0.000000  \n",
       "max     871.000000    25.000000  "
      ]
     },
     "execution_count": 15,
     "metadata": {},
     "output_type": "execute_result"
    }
   ],
   "source": [
    "train.describe()"
   ]
  },
  {
   "cell_type": "markdown",
   "metadata": {},
   "source": [
    "### List of columns that have missing values"
   ]
  },
  {
   "cell_type": "code",
   "execution_count": 16,
   "metadata": {},
   "outputs": [
    {
     "data": {
      "text/plain": [
       "Index(['age', 'job', 'marital', 'education', 'loan', 'contact', 'month'], dtype='object')"
      ]
     },
     "execution_count": 16,
     "metadata": {},
     "output_type": "execute_result"
    }
   ],
   "source": [
    "train.columns[train.isnull().any()]"
   ]
  },
  {
   "cell_type": "markdown",
   "metadata": {},
   "source": [
    "### Exploratory Data Analysis"
   ]
  },
  {
   "cell_type": "markdown",
   "metadata": {},
   "source": [
    "Let us explore some of the features that will be used in our machine learning algorithms. This will give us a better idea about the distribution of features as well as how to handle imputation of missing values in order to clean the data."
   ]
  },
  {
   "cell_type": "code",
   "execution_count": 17,
   "metadata": {},
   "outputs": [
    {
     "data": {
      "text/plain": [
       "(array([0, 1]), [Text(0, 0, 'no'), Text(1, 0, 'yes')])"
      ]
     },
     "execution_count": 17,
     "metadata": {},
     "output_type": "execute_result"
    },
    {
     "data": {
      "image/png": "[encoded data removed]",
      "text/plain": [
       "<Figure size 720x1080 with 5 Axes>"
      ]
     },
     "metadata": {
      "needs_background": "light"
     },
     "output_type": "display_data"
    }
   ],
   "source": [
    "# Set up a grid of plots\n",
    "# import pylab as plt1\n",
    "# fig = plt1.figure(figsize=fizsize_with_subplots) \n",
    "plt.figure(figsize=(10,15)) \n",
    "fig_dims = (3, 2)\n",
    "\n",
    "# Plot age histogram\n",
    "plt.subplot2grid(fig_dims, (0,0))\n",
    "train['age'].hist()\n",
    "plt.title('Age Histogram')\n",
    "\n",
    "# Plot marital status counts\n",
    "plt.subplot2grid(fig_dims, (0, 1))\n",
    "train['marital'].value_counts().plot(kind='bar', \n",
    "                                       title='Marital Status Counts')\n",
    "plt.xticks(rotation=0)\n",
    "\n",
    "# Plot Type of Education counts\n",
    "plt.subplot2grid(fig_dims, (1, 0))\n",
    "train['education'].value_counts().plot(kind='bar', \n",
    "                                    title='Type of Education Counts')\n",
    "plt.xticks(rotation=0)\n",
    "\n",
    "# Plot type of job counts\n",
    "plt.subplot2grid(fig_dims, (1, 1))\n",
    "train['job'].value_counts().plot(kind='bar', \n",
    "                                         title='Type of Job Counts')\n",
    "plt.xticks(rotation=45)\n",
    "\n",
    "# Plot loan counts\n",
    "plt.subplot2grid(fig_dims, (2, 0))\n",
    "train['loan'].value_counts().plot(kind='bar', \n",
    "                                         title='Loan Counts')\n",
    "plt.xticks(rotation=0)"
   ]
  },
  {
   "cell_type": "markdown",
   "metadata": {},
   "source": [
    "Let us look at the features - contact and month which tell us more about the last contact of the current campaign."
   ]
  },
  {
   "cell_type": "code",
   "execution_count": 18,
   "metadata": {},
   "outputs": [
    {
     "data": {
      "text/plain": [
       "(array([ 0,  1,  2,  3,  4,  5,  6,  7,  8,  9, 10, 11]),\n",
       " [Text(0, 0, 'may'),\n",
       "  Text(1, 0, 'jul'),\n",
       "  Text(2, 0, 'aug'),\n",
       "  Text(3, 0, 'jun'),\n",
       "  Text(4, 0, 'nov'),\n",
       "  Text(5, 0, 'apr'),\n",
       "  Text(6, 0, 'feb'),\n",
       "  Text(7, 0, 'jan'),\n",
       "  Text(8, 0, 'oct'),\n",
       "  Text(9, 0, 'sep'),\n",
       "  Text(10, 0, 'mar'),\n",
       "  Text(11, 0, 'dec')])"
      ]
     },
     "execution_count": 18,
     "metadata": {},
     "output_type": "execute_result"
    },
    {
     "data": {
      "image/png": "[encoded data removed]",
      "text/plain": [
       "<Figure size 720x360 with 2 Axes>"
      ]
     },
     "metadata": {
      "needs_background": "light"
     },
     "output_type": "display_data"
    }
   ],
   "source": [
    "plt.figure(figsize=(10,5)) \n",
    "fig_dims = (1, 2)\n",
    "\n",
    "# Plot contact counts\n",
    "plt.subplot2grid(fig_dims, (0, 0))\n",
    "train['contact'].value_counts().plot(kind='bar', \n",
    "                                         title='Contact Counts')\n",
    "plt.xticks(rotation=0)\n",
    "\n",
    "# Plot month counts\n",
    "plt.subplot2grid(fig_dims, (0, 1))\n",
    "train['month'].value_counts().plot(kind='bar', \n",
    "                                         title='Month Counts')\n",
    "plt.xticks(rotation=0)"
   ]
  },
  {
   "cell_type": "markdown",
   "metadata": {},
   "source": [
    "### Imputation of NaN values - Train data"
   ]
  },
  {
   "cell_type": "markdown",
   "metadata": {},
   "source": [
    "### Feature: AGE"
   ]
  },
  {
   "cell_type": "markdown",
   "metadata": {},
   "source": [
    "As we can see from the above plot that Age histogram is right-skewed. Thus, we will impute the NaN values in the AGE column by the median value of age."
   ]
  },
  {
   "cell_type": "code",
   "execution_count": 19,
   "metadata": {},
   "outputs": [],
   "source": [
    "train['age']= train['age'].fillna(train['age'].median())\n",
    "train['age'] = train['age'].astype(int)"
   ]
  },
  {
   "cell_type": "markdown",
   "metadata": {},
   "source": [
    "### Feature: MARITAL"
   ]
  },
  {
   "cell_type": "markdown",
   "metadata": {},
   "source": [
    "As we can see that marital is a categorical variable with categories - married, divorced and single. Since, the category 'married' has the highest frequency, thus, we will impute the NaN values by 'married'."
   ]
  },
  {
   "cell_type": "code",
   "execution_count": 20,
   "metadata": {},
   "outputs": [],
   "source": [
    "train['marital'].replace(np.NaN, 'married', inplace = True)"
   ]
  },
  {
   "cell_type": "markdown",
   "metadata": {},
   "source": [
    "### Feature: EDUCATION"
   ]
  },
  {
   "cell_type": "markdown",
   "metadata": {},
   "source": [
    "Education is a categorical variable with categories - unknown, secondary, primary and tertiary. As we can see that the clients have attained secondary education mostly, thus, we replace the NaN values by the category 'secondary'. "
   ]
  },
  {
   "cell_type": "code",
   "execution_count": 21,
   "metadata": {},
   "outputs": [],
   "source": [
    "train['education'].replace(np.NaN, 'secondary', inplace = True)"
   ]
  },
  {
   "cell_type": "markdown",
   "metadata": {},
   "source": [
    "### Feature: JOB"
   ]
  },
  {
   "cell_type": "markdown",
   "metadata": {},
   "source": [
    "Job is a categorical variable with 12 categories- 'admin.','unknown','unemployed','management','housemaid','entrepreneur','student', 'blue-collar','self-employed','retired','technician','services'. The 2 highly frequent categories are management and blue-collar. We impute the NaN values by the mode value, that is highly frequent category, thus by 'management'."
   ]
  },
  {
   "cell_type": "code",
   "execution_count": 22,
   "metadata": {},
   "outputs": [],
   "source": [
    "train['job'].replace(np.NaN, 'management', inplace = True)"
   ]
  },
  {
   "cell_type": "markdown",
   "metadata": {},
   "source": [
    "### Feature: LOAN"
   ]
  },
  {
   "cell_type": "markdown",
   "metadata": {},
   "source": [
    "Loan is a binary variable with values yes or no. Since, a majority of clients did not have a personal loan, we will impute the NaN values by 'no'."
   ]
  },
  {
   "cell_type": "code",
   "execution_count": 23,
   "metadata": {},
   "outputs": [],
   "source": [
    "train['loan'].replace(np.NaN, 'no', inplace = True)"
   ]
  },
  {
   "cell_type": "markdown",
   "metadata": {},
   "source": [
    "### Feature: CONTACT"
   ]
  },
  {
   "cell_type": "markdown",
   "metadata": {},
   "source": [
    "Contact is a categorical variable with categories- unknown, cellular and telephone. Since, the contact type 'cellular' is highly frequent in the dataset, we replace the NaN values by 'cellular'."
   ]
  },
  {
   "cell_type": "code",
   "execution_count": 24,
   "metadata": {},
   "outputs": [],
   "source": [
    "train['contact'].replace(np.NaN, 'cellular', inplace = True)"
   ]
  },
  {
   "cell_type": "markdown",
   "metadata": {},
   "source": [
    "### Feature: MONTH"
   ]
  },
  {
   "cell_type": "markdown",
   "metadata": {},
   "source": [
    "Month is again a categorical variable with values - jan, feb, mar, apr, may, jun, jul, aug, sep, oct, nov and dec. Since, most of the last contacts were made in the month of may, we replace the NaN values by 'may'."
   ]
  },
  {
   "cell_type": "code",
   "execution_count": 25,
   "metadata": {},
   "outputs": [],
   "source": [
    "train['month'].replace(np.NaN, 'may', inplace = True)"
   ]
  },
  {
   "cell_type": "markdown",
   "metadata": {},
   "source": [
    "We have imputed all the missing values with either mean or median or mode of the columns. Thus, the data is now complete with no NaN values."
   ]
  },
  {
   "cell_type": "code",
   "execution_count": 26,
   "metadata": {},
   "outputs": [
    {
     "data": {
      "text/plain": [
       "Index([], dtype='object')"
      ]
     },
     "execution_count": 26,
     "metadata": {},
     "output_type": "execute_result"
    }
   ],
   "source": [
    "train.columns[train.isnull().any()]"
   ]
  },
  {
   "cell_type": "code",
   "execution_count": 27,
   "metadata": {},
   "outputs": [
    {
     "name": "stdout",
     "output_type": "stream",
     "text": [
      "<class 'pandas.core.frame.DataFrame'>\n",
      "Int64Index: 3390 entries, 4384 to 2732\n",
      "Data columns (total 17 columns):\n",
      " #   Column     Non-Null Count  Dtype \n",
      "---  ------     --------------  ----- \n",
      " 0   age        3390 non-null   int32 \n",
      " 1   job        3390 non-null   object\n",
      " 2   marital    3390 non-null   object\n",
      " 3   education  3390 non-null   object\n",
      " 4   default    3390 non-null   object\n",
      " 5   balance    3390 non-null   int64 \n",
      " 6   housing    3390 non-null   object\n",
      " 7   loan       3390 non-null   object\n",
      " 8   contact    3390 non-null   object\n",
      " 9   day        3390 non-null   int64 \n",
      " 10  month      3390 non-null   object\n",
      " 11  duration   3390 non-null   int64 \n",
      " 12  campaign   3390 non-null   int64 \n",
      " 13  pdays      3390 non-null   int64 \n",
      " 14  previous   3390 non-null   int64 \n",
      " 15  poutcome   3390 non-null   object\n",
      " 16  y          3390 non-null   object\n",
      "dtypes: int32(1), int64(6), object(10)\n",
      "memory usage: 331.1+ KB\n"
     ]
    }
   ],
   "source": [
    "train.info()"
   ]
  },
  {
   "cell_type": "code",
   "execution_count": 28,
   "metadata": {},
   "outputs": [
    {
     "data": {
      "text/html": [
       "<div>\n",
       "<style scoped>\n",
       "    .dataframe tbody tr th:only-of-type {\n",
       "        vertical-align: middle;\n",
       "    }\n",
       "\n",
       "    .dataframe tbody tr th {\n",
       "        vertical-align: top;\n",
       "    }\n",
       "\n",
       "    .dataframe thead th {\n",
       "        text-align: right;\n",
       "    }\n",
       "</style>\n",
       "<table border=\"1\" class=\"dataframe\">\n",
       "  <thead>\n",
       "    <tr style=\"text-align: right;\">\n",
       "      <th></th>\n",
       "      <th>age</th>\n",
       "      <th>balance</th>\n",
       "      <th>day</th>\n",
       "      <th>duration</th>\n",
       "      <th>campaign</th>\n",
       "      <th>pdays</th>\n",
       "      <th>previous</th>\n",
       "    </tr>\n",
       "  </thead>\n",
       "  <tbody>\n",
       "    <tr>\n",
       "      <th>count</th>\n",
       "      <td>3390.000000</td>\n",
       "      <td>3390.000000</td>\n",
       "      <td>3390.000000</td>\n",
       "      <td>3390.000000</td>\n",
       "      <td>3390.000000</td>\n",
       "      <td>3390.000000</td>\n",
       "      <td>3390.000000</td>\n",
       "    </tr>\n",
       "    <tr>\n",
       "      <th>mean</th>\n",
       "      <td>41.011209</td>\n",
       "      <td>1432.131563</td>\n",
       "      <td>15.848083</td>\n",
       "      <td>260.278171</td>\n",
       "      <td>2.792625</td>\n",
       "      <td>40.054277</td>\n",
       "      <td>0.543363</td>\n",
       "    </tr>\n",
       "    <tr>\n",
       "      <th>std</th>\n",
       "      <td>9.821475</td>\n",
       "      <td>3070.844395</td>\n",
       "      <td>8.232079</td>\n",
       "      <td>252.128385</td>\n",
       "      <td>3.067703</td>\n",
       "      <td>100.755075</td>\n",
       "      <td>1.695039</td>\n",
       "    </tr>\n",
       "    <tr>\n",
       "      <th>min</th>\n",
       "      <td>19.000000</td>\n",
       "      <td>-2082.000000</td>\n",
       "      <td>1.000000</td>\n",
       "      <td>5.000000</td>\n",
       "      <td>1.000000</td>\n",
       "      <td>-1.000000</td>\n",
       "      <td>0.000000</td>\n",
       "    </tr>\n",
       "    <tr>\n",
       "      <th>25%</th>\n",
       "      <td>35.000000</td>\n",
       "      <td>72.000000</td>\n",
       "      <td>8.000000</td>\n",
       "      <td>104.000000</td>\n",
       "      <td>1.000000</td>\n",
       "      <td>-1.000000</td>\n",
       "      <td>0.000000</td>\n",
       "    </tr>\n",
       "    <tr>\n",
       "      <th>50%</th>\n",
       "      <td>40.000000</td>\n",
       "      <td>440.000000</td>\n",
       "      <td>16.000000</td>\n",
       "      <td>185.000000</td>\n",
       "      <td>2.000000</td>\n",
       "      <td>-1.000000</td>\n",
       "      <td>0.000000</td>\n",
       "    </tr>\n",
       "    <tr>\n",
       "      <th>75%</th>\n",
       "      <td>46.000000</td>\n",
       "      <td>1464.000000</td>\n",
       "      <td>21.000000</td>\n",
       "      <td>331.000000</td>\n",
       "      <td>3.000000</td>\n",
       "      <td>-1.000000</td>\n",
       "      <td>0.000000</td>\n",
       "    </tr>\n",
       "    <tr>\n",
       "      <th>max</th>\n",
       "      <td>87.000000</td>\n",
       "      <td>71188.000000</td>\n",
       "      <td>31.000000</td>\n",
       "      <td>3025.000000</td>\n",
       "      <td>50.000000</td>\n",
       "      <td>871.000000</td>\n",
       "      <td>25.000000</td>\n",
       "    </tr>\n",
       "  </tbody>\n",
       "</table>\n",
       "</div>"
      ],
      "text/plain": [
       "               age       balance          day     duration     campaign  \\\n",
       "count  3390.000000   3390.000000  3390.000000  3390.000000  3390.000000   \n",
       "mean     41.011209   1432.131563    15.848083   260.278171     2.792625   \n",
       "std       9.821475   3070.844395     8.232079   252.128385     3.067703   \n",
       "min      19.000000  -2082.000000     1.000000     5.000000     1.000000   \n",
       "25%      35.000000     72.000000     8.000000   104.000000     1.000000   \n",
       "50%      40.000000    440.000000    16.000000   185.000000     2.000000   \n",
       "75%      46.000000   1464.000000    21.000000   331.000000     3.000000   \n",
       "max      87.000000  71188.000000    31.000000  3025.000000    50.000000   \n",
       "\n",
       "             pdays     previous  \n",
       "count  3390.000000  3390.000000  \n",
       "mean     40.054277     0.543363  \n",
       "std     100.755075     1.695039  \n",
       "min      -1.000000     0.000000  \n",
       "25%      -1.000000     0.000000  \n",
       "50%      -1.000000     0.000000  \n",
       "75%      -1.000000     0.000000  \n",
       "max     871.000000    25.000000  "
      ]
     },
     "execution_count": 28,
     "metadata": {},
     "output_type": "execute_result"
    }
   ],
   "source": [
    "train.describe()"
   ]
  },
  {
   "cell_type": "markdown",
   "metadata": {},
   "source": [
    "### Data Transformation - Train data "
   ]
  },
  {
   "cell_type": "markdown",
   "metadata": {},
   "source": [
    "Let us go through each categorical/ordinal/binary columns and perform data transformation by either mapping or one hot vector encoding. Columns 'job', 'marital', 'education', 'default', 'housing', 'loan', 'contact', 'month', 'poutcome' and 'y' are of data type object. Also, column 'day' is not an object, it is an integer value from 1 to 31, but it requires data transformation as it is not a numeric value that can be added or subtracted, it represents the dates in a month."
   ]
  },
  {
   "cell_type": "markdown",
   "metadata": {},
   "source": [
    "Data Transformation on column JOB : one hot vector of length 12"
   ]
  },
  {
   "cell_type": "code",
   "execution_count": 29,
   "metadata": {},
   "outputs": [],
   "source": [
    "cols = pd.get_dummies(train['job'], prefix= 'job')\n",
    "train[cols.columns] = cols\n",
    "train.drop('job', axis = 1, inplace = True)"
   ]
  },
  {
   "cell_type": "markdown",
   "metadata": {},
   "source": [
    "Data Transformation on column MARITAL : one hot vector of length 3"
   ]
  },
  {
   "cell_type": "code",
   "execution_count": 30,
   "metadata": {},
   "outputs": [],
   "source": [
    "cols = pd.get_dummies(train['marital'], prefix= 'marital')\n",
    "train[cols.columns] = cols\n",
    "train.drop('marital', axis = 1, inplace = True)"
   ]
  },
  {
   "cell_type": "markdown",
   "metadata": {},
   "source": [
    "Data Transformation on column EDUCATION : 0 to 3"
   ]
  },
  {
   "cell_type": "code",
   "execution_count": 31,
   "metadata": {},
   "outputs": [],
   "source": [
    "train['education'] = train['education'].map({'unknown':0, 'primary':1, 'secondary':2, 'tertiary':3}).astype(int)"
   ]
  },
  {
   "cell_type": "markdown",
   "metadata": {},
   "source": [
    "Data Transformation on column DEFAULT : We will plot 'default' to see the number of yes and no."
   ]
  },
  {
   "cell_type": "code",
   "execution_count": 32,
   "metadata": {},
   "outputs": [
    {
     "data": {
      "text/plain": [
       "(array([0, 1]), [Text(0, 0, 'no'), Text(1, 0, 'yes')])"
      ]
     },
     "execution_count": 32,
     "metadata": {},
     "output_type": "execute_result"
    },
    {
     "data": {
      "image/png": "[encoded data removed]",
      "text/plain": [
       "<Figure size 432x288 with 1 Axes>"
      ]
     },
     "metadata": {
      "needs_background": "light"
     },
     "output_type": "display_data"
    }
   ],
   "source": [
    "train['default'].value_counts().plot(kind='bar', title='Default Counts')\n",
    "plt.xticks(rotation=0)"
   ]
  },
  {
   "cell_type": "markdown",
   "metadata": {},
   "source": [
    "We can see that the frequent class in column 'default' is 'no'. Thus, 'no' is mapped to 1 and 'yes' to 0."
   ]
  },
  {
   "cell_type": "code",
   "execution_count": 33,
   "metadata": {},
   "outputs": [],
   "source": [
    "train['default'] = train['default'].map({'no':1, 'yes':0}).astype(int)"
   ]
  },
  {
   "cell_type": "markdown",
   "metadata": {},
   "source": [
    "Data Transformation on column HOUSING : We will plot 'housing' to see the number of yes and no."
   ]
  },
  {
   "cell_type": "code",
   "execution_count": 34,
   "metadata": {},
   "outputs": [
    {
     "data": {
      "text/plain": [
       "(array([0, 1]), [Text(0, 0, 'yes'), Text(1, 0, 'no')])"
      ]
     },
     "execution_count": 34,
     "metadata": {},
     "output_type": "execute_result"
    },
    {
     "data": {
      "image/png": "[encoded data removed]",
      "text/plain": [
       "<Figure size 432x288 with 1 Axes>"
      ]
     },
     "metadata": {
      "needs_background": "light"
     },
     "output_type": "display_data"
    }
   ],
   "source": [
    "train['housing'].value_counts().plot(kind='bar', title='Housing Counts')\n",
    "plt.xticks(rotation=0)"
   ]
  },
  {
   "cell_type": "markdown",
   "metadata": {},
   "source": [
    "We can see that the frequent class in column 'housing' is 'yes'. Thus, 'yes' is mapped to 1 and 'no' to 0."
   ]
  },
  {
   "cell_type": "code",
   "execution_count": 35,
   "metadata": {},
   "outputs": [],
   "source": [
    "train['housing'] = train['housing'].map({'yes':1, 'no':0}).astype(int)"
   ]
  },
  {
   "cell_type": "markdown",
   "metadata": {},
   "source": [
    "Data Transformation on column LOAN : We will plot 'loan' to see the number of yes and no."
   ]
  },
  {
   "cell_type": "code",
   "execution_count": 36,
   "metadata": {},
   "outputs": [
    {
     "data": {
      "text/plain": [
       "(array([0, 1]), [Text(0, 0, 'no'), Text(1, 0, 'yes')])"
      ]
     },
     "execution_count": 36,
     "metadata": {},
     "output_type": "execute_result"
    },
    {
     "data": {
      "image/png": "[encoded data removed]",
      "text/plain": [
       "<Figure size 432x288 with 1 Axes>"
      ]
     },
     "metadata": {
      "needs_background": "light"
     },
     "output_type": "display_data"
    }
   ],
   "source": [
    "train['loan'].value_counts().plot(kind='bar', title='Loan Counts')\n",
    "plt.xticks(rotation=0)"
   ]
  },
  {
   "cell_type": "markdown",
   "metadata": {},
   "source": [
    "We can see that the frequent class in column 'loan' is 'no'. Thus, 'no' is mapped to 1 and 'yes' to 0."
   ]
  },
  {
   "cell_type": "code",
   "execution_count": 37,
   "metadata": {},
   "outputs": [],
   "source": [
    "train['loan'] = train['loan'].map({'no':1, 'yes':0}).astype(int)"
   ]
  },
  {
   "cell_type": "markdown",
   "metadata": {},
   "source": [
    "Data Transformation on column CONTACT : one hot vector of length 3"
   ]
  },
  {
   "cell_type": "code",
   "execution_count": 38,
   "metadata": {},
   "outputs": [],
   "source": [
    "cols = pd.get_dummies(train['contact'], prefix= 'contact')\n",
    "train[cols.columns] = cols\n",
    "train.drop('contact', axis = 1, inplace = True)"
   ]
  },
  {
   "cell_type": "markdown",
   "metadata": {},
   "source": [
    "Data Transformation on column MONTH : one hot vector of length 12"
   ]
  },
  {
   "cell_type": "code",
   "execution_count": 39,
   "metadata": {},
   "outputs": [],
   "source": [
    "cols = pd.get_dummies(train['month'], prefix= 'month')\n",
    "train[cols.columns] = cols\n",
    "train.drop('month', axis = 1, inplace = True)"
   ]
  },
  {
   "cell_type": "markdown",
   "metadata": {},
   "source": [
    "Data Transformation on column POUTCOME : one hot vector of length 4"
   ]
  },
  {
   "cell_type": "code",
   "execution_count": 40,
   "metadata": {},
   "outputs": [],
   "source": [
    "cols = pd.get_dummies(train['poutcome'], prefix= 'poutcome')\n",
    "train[cols.columns] = cols\n",
    "train.drop('poutcome', axis = 1, inplace = True)"
   ]
  },
  {
   "cell_type": "markdown",
   "metadata": {},
   "source": [
    "Data Transformation on column y(target value) : We will plot 'y' to see the number of yes and no."
   ]
  },
  {
   "cell_type": "code",
   "execution_count": 41,
   "metadata": {},
   "outputs": [
    {
     "data": {
      "text/plain": [
       "(array([0, 1]), [Text(0, 0, 'no'), Text(1, 0, 'yes')])"
      ]
     },
     "execution_count": 41,
     "metadata": {},
     "output_type": "execute_result"
    },
    {
     "data": {
      "image/png": "[encoded data removed]",
      "text/plain": [
       "<Figure size 432x288 with 1 Axes>"
      ]
     },
     "metadata": {
      "needs_background": "light"
     },
     "output_type": "display_data"
    }
   ],
   "source": [
    "train['y'].value_counts().plot(kind='bar', title='y(target value) Counts')\n",
    "plt.xticks(rotation=0)"
   ]
  },
  {
   "cell_type": "markdown",
   "metadata": {},
   "source": [
    "We can see that the frequent class in column 'y' is 'no'. Thus, 'no' is mapped to 1 and 'yes' to 0."
   ]
  },
  {
   "cell_type": "code",
   "execution_count": 42,
   "metadata": {},
   "outputs": [],
   "source": [
    "train['y'] = train['y'].map({'no':1, 'yes':0}).astype(int)"
   ]
  },
  {
   "cell_type": "markdown",
   "metadata": {},
   "source": [
    "Data Transformation on column DAY : one hot vector of length 31 (Since, it represents the last contact day of the month)"
   ]
  },
  {
   "cell_type": "code",
   "execution_count": 43,
   "metadata": {},
   "outputs": [],
   "source": [
    "cols = pd.get_dummies(train['day'], prefix= 'day')\n",
    "train[cols.columns] = cols\n",
    "train.drop('day', axis = 1, inplace = True)"
   ]
  },
  {
   "cell_type": "code",
   "execution_count": 44,
   "metadata": {},
   "outputs": [
    {
     "name": "stdout",
     "output_type": "stream",
     "text": [
      "<class 'pandas.core.frame.DataFrame'>\n",
      "Int64Index: 3390 entries, 4384 to 2732\n",
      "Data columns (total 76 columns):\n",
      " #   Column             Non-Null Count  Dtype\n",
      "---  ------             --------------  -----\n",
      " 0   age                3390 non-null   int32\n",
      " 1   education          3390 non-null   int32\n",
      " 2   default            3390 non-null   int32\n",
      " 3   balance            3390 non-null   int64\n",
      " 4   housing            3390 non-null   int32\n",
      " 5   loan               3390 non-null   int32\n",
      " 6   duration           3390 non-null   int64\n",
      " 7   campaign           3390 non-null   int64\n",
      " 8   pdays              3390 non-null   int64\n",
      " 9   previous           3390 non-null   int64\n",
      " 10  y                  3390 non-null   int32\n",
      " 11  job_admin.         3390 non-null   uint8\n",
      " 12  job_blue-collar    3390 non-null   uint8\n",
      " 13  job_entrepreneur   3390 non-null   uint8\n",
      " 14  job_housemaid      3390 non-null   uint8\n",
      " 15  job_management     3390 non-null   uint8\n",
      " 16  job_retired        3390 non-null   uint8\n",
      " 17  job_self-employed  3390 non-null   uint8\n",
      " 18  job_services       3390 non-null   uint8\n",
      " 19  job_student        3390 non-null   uint8\n",
      " 20  job_technician     3390 non-null   uint8\n",
      " 21  job_unemployed     3390 non-null   uint8\n",
      " 22  job_unknown        3390 non-null   uint8\n",
      " 23  marital_divorced   3390 non-null   uint8\n",
      " 24  marital_married    3390 non-null   uint8\n",
      " 25  marital_single     3390 non-null   uint8\n",
      " 26  contact_cellular   3390 non-null   uint8\n",
      " 27  contact_telephone  3390 non-null   uint8\n",
      " 28  contact_unknown    3390 non-null   uint8\n",
      " 29  month_apr          3390 non-null   uint8\n",
      " 30  month_aug          3390 non-null   uint8\n",
      " 31  month_dec          3390 non-null   uint8\n",
      " 32  month_feb          3390 non-null   uint8\n",
      " 33  month_jan          3390 non-null   uint8\n",
      " 34  month_jul          3390 non-null   uint8\n",
      " 35  month_jun          3390 non-null   uint8\n",
      " 36  month_mar          3390 non-null   uint8\n",
      " 37  month_may          3390 non-null   uint8\n",
      " 38  month_nov          3390 non-null   uint8\n",
      " 39  month_oct          3390 non-null   uint8\n",
      " 40  month_sep          3390 non-null   uint8\n",
      " 41  poutcome_failure   3390 non-null   uint8\n",
      " 42  poutcome_other     3390 non-null   uint8\n",
      " 43  poutcome_success   3390 non-null   uint8\n",
      " 44  poutcome_unknown   3390 non-null   uint8\n",
      " 45  day_1              3390 non-null   uint8\n",
      " 46  day_2              3390 non-null   uint8\n",
      " 47  day_3              3390 non-null   uint8\n",
      " 48  day_4              3390 non-null   uint8\n",
      " 49  day_5              3390 non-null   uint8\n",
      " 50  day_6              3390 non-null   uint8\n",
      " 51  day_7              3390 non-null   uint8\n",
      " 52  day_8              3390 non-null   uint8\n",
      " 53  day_9              3390 non-null   uint8\n",
      " 54  day_10             3390 non-null   uint8\n",
      " 55  day_11             3390 non-null   uint8\n",
      " 56  day_12             3390 non-null   uint8\n",
      " 57  day_13             3390 non-null   uint8\n",
      " 58  day_14             3390 non-null   uint8\n",
      " 59  day_15             3390 non-null   uint8\n",
      " 60  day_16             3390 non-null   uint8\n",
      " 61  day_17             3390 non-null   uint8\n",
      " 62  day_18             3390 non-null   uint8\n",
      " 63  day_19             3390 non-null   uint8\n",
      " 64  day_20             3390 non-null   uint8\n",
      " 65  day_21             3390 non-null   uint8\n",
      " 66  day_22             3390 non-null   uint8\n",
      " 67  day_23             3390 non-null   uint8\n",
      " 68  day_24             3390 non-null   uint8\n",
      " 69  day_25             3390 non-null   uint8\n",
      " 70  day_26             3390 non-null   uint8\n",
      " 71  day_27             3390 non-null   uint8\n",
      " 72  day_28             3390 non-null   uint8\n",
      " 73  day_29             3390 non-null   uint8\n",
      " 74  day_30             3390 non-null   uint8\n",
      " 75  day_31             3390 non-null   uint8\n",
      "dtypes: int32(6), int64(5), uint8(65)\n",
      "memory usage: 453.5 KB\n"
     ]
    }
   ],
   "source": [
    "train.info()"
   ]
  },
  {
   "cell_type": "code",
   "execution_count": 45,
   "metadata": {},
   "outputs": [
    {
     "data": {
      "text/plain": [
       "(3390, 76)"
      ]
     },
     "execution_count": 45,
     "metadata": {},
     "output_type": "execute_result"
    }
   ],
   "source": [
    "train.shape"
   ]
  },
  {
   "cell_type": "markdown",
   "metadata": {},
   "source": [
    "### Imputing Missing Values in Test data"
   ]
  },
  {
   "cell_type": "markdown",
   "metadata": {},
   "source": [
    "The imputatin of missing values performed for the train data should be replicated for the test data as well. "
   ]
  },
  {
   "cell_type": "code",
   "execution_count": 46,
   "metadata": {},
   "outputs": [
    {
     "name": "stdout",
     "output_type": "stream",
     "text": [
      "<class 'pandas.core.frame.DataFrame'>\n",
      "Int64Index: 1131 entries, 4274 to 1606\n",
      "Data columns (total 18 columns):\n",
      " #   Column     Non-Null Count  Dtype  \n",
      "---  ------     --------------  -----  \n",
      " 0   ID         1131 non-null   int64  \n",
      " 1   age        911 non-null    float64\n",
      " 2   job        1065 non-null   object \n",
      " 3   marital    1101 non-null   object \n",
      " 4   education  1076 non-null   object \n",
      " 5   default    1131 non-null   object \n",
      " 6   balance    1131 non-null   int64  \n",
      " 7   housing    1131 non-null   object \n",
      " 8   loan       1070 non-null   object \n",
      " 9   contact    1036 non-null   object \n",
      " 10  day        1131 non-null   int64  \n",
      " 11  month      1049 non-null   object \n",
      " 12  duration   1131 non-null   int64  \n",
      " 13  campaign   1131 non-null   int64  \n",
      " 14  pdays      1131 non-null   int64  \n",
      " 15  previous   1131 non-null   int64  \n",
      " 16  poutcome   1131 non-null   object \n",
      " 17  y          1131 non-null   object \n",
      "dtypes: float64(1), int64(7), object(10)\n",
      "memory usage: 123.7+ KB\n"
     ]
    }
   ],
   "source": [
    "test.info()"
   ]
  },
  {
   "cell_type": "code",
   "execution_count": 47,
   "metadata": {},
   "outputs": [],
   "source": [
    "test.drop('ID', axis = 1, inplace = True)"
   ]
  },
  {
   "cell_type": "code",
   "execution_count": 48,
   "metadata": {},
   "outputs": [
    {
     "data": {
      "text/html": [
       "<div>\n",
       "<style scoped>\n",
       "    .dataframe tbody tr th:only-of-type {\n",
       "        vertical-align: middle;\n",
       "    }\n",
       "\n",
       "    .dataframe tbody tr th {\n",
       "        vertical-align: top;\n",
       "    }\n",
       "\n",
       "    .dataframe thead th {\n",
       "        text-align: right;\n",
       "    }\n",
       "</style>\n",
       "<table border=\"1\" class=\"dataframe\">\n",
       "  <thead>\n",
       "    <tr style=\"text-align: right;\">\n",
       "      <th></th>\n",
       "      <th>age</th>\n",
       "      <th>balance</th>\n",
       "      <th>day</th>\n",
       "      <th>duration</th>\n",
       "      <th>campaign</th>\n",
       "      <th>pdays</th>\n",
       "      <th>previous</th>\n",
       "    </tr>\n",
       "  </thead>\n",
       "  <tbody>\n",
       "    <tr>\n",
       "      <th>count</th>\n",
       "      <td>911.000000</td>\n",
       "      <td>1131.000000</td>\n",
       "      <td>1131.000000</td>\n",
       "      <td>1131.000000</td>\n",
       "      <td>1131.000000</td>\n",
       "      <td>1131.000000</td>\n",
       "      <td>1131.000000</td>\n",
       "    </tr>\n",
       "    <tr>\n",
       "      <th>mean</th>\n",
       "      <td>41.148189</td>\n",
       "      <td>1394.261715</td>\n",
       "      <td>16.116711</td>\n",
       "      <td>275.000884</td>\n",
       "      <td>2.796640</td>\n",
       "      <td>38.904509</td>\n",
       "      <td>0.540230</td>\n",
       "    </tr>\n",
       "    <tr>\n",
       "      <th>std</th>\n",
       "      <td>10.394789</td>\n",
       "      <td>2819.343894</td>\n",
       "      <td>8.294608</td>\n",
       "      <td>281.583539</td>\n",
       "      <td>3.234114</td>\n",
       "      <td>98.235403</td>\n",
       "      <td>1.689876</td>\n",
       "    </tr>\n",
       "    <tr>\n",
       "      <th>min</th>\n",
       "      <td>19.000000</td>\n",
       "      <td>-3313.000000</td>\n",
       "      <td>1.000000</td>\n",
       "      <td>4.000000</td>\n",
       "      <td>1.000000</td>\n",
       "      <td>-1.000000</td>\n",
       "      <td>0.000000</td>\n",
       "    </tr>\n",
       "    <tr>\n",
       "      <th>25%</th>\n",
       "      <td>33.000000</td>\n",
       "      <td>61.500000</td>\n",
       "      <td>9.000000</td>\n",
       "      <td>105.000000</td>\n",
       "      <td>1.000000</td>\n",
       "      <td>-1.000000</td>\n",
       "      <td>0.000000</td>\n",
       "    </tr>\n",
       "    <tr>\n",
       "      <th>50%</th>\n",
       "      <td>40.000000</td>\n",
       "      <td>456.000000</td>\n",
       "      <td>16.000000</td>\n",
       "      <td>185.000000</td>\n",
       "      <td>2.000000</td>\n",
       "      <td>-1.000000</td>\n",
       "      <td>0.000000</td>\n",
       "    </tr>\n",
       "    <tr>\n",
       "      <th>75%</th>\n",
       "      <td>48.000000</td>\n",
       "      <td>1547.000000</td>\n",
       "      <td>22.000000</td>\n",
       "      <td>324.000000</td>\n",
       "      <td>3.000000</td>\n",
       "      <td>-1.000000</td>\n",
       "      <td>0.000000</td>\n",
       "    </tr>\n",
       "    <tr>\n",
       "      <th>max</th>\n",
       "      <td>83.000000</td>\n",
       "      <td>27359.000000</td>\n",
       "      <td>31.000000</td>\n",
       "      <td>2087.000000</td>\n",
       "      <td>32.000000</td>\n",
       "      <td>541.000000</td>\n",
       "      <td>23.000000</td>\n",
       "    </tr>\n",
       "  </tbody>\n",
       "</table>\n",
       "</div>"
      ],
      "text/plain": [
       "              age       balance          day     duration     campaign  \\\n",
       "count  911.000000   1131.000000  1131.000000  1131.000000  1131.000000   \n",
       "mean    41.148189   1394.261715    16.116711   275.000884     2.796640   \n",
       "std     10.394789   2819.343894     8.294608   281.583539     3.234114   \n",
       "min     19.000000  -3313.000000     1.000000     4.000000     1.000000   \n",
       "25%     33.000000     61.500000     9.000000   105.000000     1.000000   \n",
       "50%     40.000000    456.000000    16.000000   185.000000     2.000000   \n",
       "75%     48.000000   1547.000000    22.000000   324.000000     3.000000   \n",
       "max     83.000000  27359.000000    31.000000  2087.000000    32.000000   \n",
       "\n",
       "             pdays     previous  \n",
       "count  1131.000000  1131.000000  \n",
       "mean     38.904509     0.540230  \n",
       "std      98.235403     1.689876  \n",
       "min      -1.000000     0.000000  \n",
       "25%      -1.000000     0.000000  \n",
       "50%      -1.000000     0.000000  \n",
       "75%      -1.000000     0.000000  \n",
       "max     541.000000    23.000000  "
      ]
     },
     "execution_count": 48,
     "metadata": {},
     "output_type": "execute_result"
    }
   ],
   "source": [
    "test.describe()"
   ]
  },
  {
   "cell_type": "code",
   "execution_count": 49,
   "metadata": {},
   "outputs": [
    {
     "data": {
      "text/plain": [
       "Index(['age', 'job', 'marital', 'education', 'loan', 'contact', 'month'], dtype='object')"
      ]
     },
     "execution_count": 49,
     "metadata": {},
     "output_type": "execute_result"
    }
   ],
   "source": [
    "test.columns[test.isnull().any()]"
   ]
  },
  {
   "cell_type": "code",
   "execution_count": 50,
   "metadata": {},
   "outputs": [],
   "source": [
    "# Feature: AGE\n",
    "test['age']= test['age'].fillna(test['age'].median())\n",
    "test['age'] = test['age'].astype(int)\n",
    "\n",
    "# Feature: MARITAL\n",
    "test['marital'].replace(np.NaN, 'married', inplace = True)\n",
    "\n",
    "# Feature: EDUCATION\n",
    "test['education'].replace(np.NaN, 'secondary', inplace = True)\n",
    "\n",
    "# Feature: JOB\n",
    "test['job'].replace(np.NaN, 'management', inplace = True)\n",
    "\n",
    "# Feature: LOAN\n",
    "test['loan'].replace(np.NaN, 'no', inplace = True)\n",
    "\n",
    "# Feature: CONTACT\n",
    "test['contact'].replace(np.NaN, 'cellular', inplace = True)\n",
    "\n",
    "# Feature: MONTH\n",
    "test['month'].replace(np.NaN, 'may', inplace = True)"
   ]
  },
  {
   "cell_type": "code",
   "execution_count": 51,
   "metadata": {},
   "outputs": [
    {
     "data": {
      "text/plain": [
       "Index([], dtype='object')"
      ]
     },
     "execution_count": 51,
     "metadata": {},
     "output_type": "execute_result"
    }
   ],
   "source": [
    "test.columns[test.isnull().any()]"
   ]
  },
  {
   "cell_type": "code",
   "execution_count": 52,
   "metadata": {},
   "outputs": [
    {
     "name": "stdout",
     "output_type": "stream",
     "text": [
      "<class 'pandas.core.frame.DataFrame'>\n",
      "Int64Index: 1131 entries, 4274 to 1606\n",
      "Data columns (total 17 columns):\n",
      " #   Column     Non-Null Count  Dtype \n",
      "---  ------     --------------  ----- \n",
      " 0   age        1131 non-null   int32 \n",
      " 1   job        1131 non-null   object\n",
      " 2   marital    1131 non-null   object\n",
      " 3   education  1131 non-null   object\n",
      " 4   default    1131 non-null   object\n",
      " 5   balance    1131 non-null   int64 \n",
      " 6   housing    1131 non-null   object\n",
      " 7   loan       1131 non-null   object\n",
      " 8   contact    1131 non-null   object\n",
      " 9   day        1131 non-null   int64 \n",
      " 10  month      1131 non-null   object\n",
      " 11  duration   1131 non-null   int64 \n",
      " 12  campaign   1131 non-null   int64 \n",
      " 13  pdays      1131 non-null   int64 \n",
      " 14  previous   1131 non-null   int64 \n",
      " 15  poutcome   1131 non-null   object\n",
      " 16  y          1131 non-null   object\n",
      "dtypes: int32(1), int64(6), object(10)\n",
      "memory usage: 110.4+ KB\n"
     ]
    }
   ],
   "source": [
    "test.info()"
   ]
  },
  {
   "cell_type": "markdown",
   "metadata": {},
   "source": [
    "### Data Transformation - Test Data"
   ]
  },
  {
   "cell_type": "markdown",
   "metadata": {},
   "source": [
    "The data transformation steps performed for the train data should be replicated for the test data as well."
   ]
  },
  {
   "cell_type": "code",
   "execution_count": 53,
   "metadata": {},
   "outputs": [],
   "source": [
    "# Feature: JOB\n",
    "cols = pd.get_dummies(test['job'], prefix= 'job')\n",
    "test[cols.columns] = cols\n",
    "test.drop('job', axis = 1, inplace = True)\n",
    "\n",
    "#Feature: MARITAL\n",
    "cols = pd.get_dummies(test['marital'], prefix= 'marital')\n",
    "test[cols.columns] = cols\n",
    "test.drop('marital', axis = 1, inplace = True)\n",
    "\n",
    "# Feature: EDUCATION\n",
    "test['education'] = test['education'].map({'unknown':0, 'primary':1, 'secondary':2, 'tertiary':3}).astype(int)\n",
    "\n",
    "# Feature: DEFAULT\n",
    "test['default'] = test['default'].map({'no':1, 'yes':0}).astype(int)\n",
    "\n",
    "# Feature: HOUSING\n",
    "test['housing'] = test['housing'].map({'yes':1, 'no':0}).astype(int)\n",
    "\n",
    "# Feature: LOAN\n",
    "test['loan'] = test['loan'].map({'no':1, 'yes':0}).astype(int)\n",
    "\n",
    "# Feature: CONTACT\n",
    "cols = pd.get_dummies(test['contact'], prefix= 'contact')\n",
    "test[cols.columns] = cols\n",
    "test.drop('contact', axis = 1, inplace = True)\n",
    "\n",
    "# Feature: MONTH\n",
    "cols = pd.get_dummies(test['month'], prefix= 'month')\n",
    "test[cols.columns] = cols\n",
    "test.drop('month', axis = 1, inplace = True)\n",
    "\n",
    "# Feature: POUTCOME\n",
    "cols = pd.get_dummies(test['poutcome'], prefix= 'poutcome')\n",
    "test[cols.columns] = cols\n",
    "test.drop('poutcome', axis = 1, inplace = True)\n",
    "\n",
    "# Feature: Y (Target Value)\n",
    "test['y'] = test['y'].map({'no':1, 'yes':0}).astype(int)\n",
    "\n",
    "# Feature: DAY\n",
    "cols = pd.get_dummies(test['day'], prefix= 'day')\n",
    "test[cols.columns] = cols\n",
    "test.drop('day', axis = 1, inplace = True)"
   ]
  },
  {
   "cell_type": "code",
   "execution_count": 54,
   "metadata": {},
   "outputs": [
    {
     "name": "stdout",
     "output_type": "stream",
     "text": [
      "<class 'pandas.core.frame.DataFrame'>\n",
      "Int64Index: 1131 entries, 4274 to 1606\n",
      "Data columns (total 76 columns):\n",
      " #   Column             Non-Null Count  Dtype\n",
      "---  ------             --------------  -----\n",
      " 0   age                1131 non-null   int32\n",
      " 1   education          1131 non-null   int32\n",
      " 2   default            1131 non-null   int32\n",
      " 3   balance            1131 non-null   int64\n",
      " 4   housing            1131 non-null   int32\n",
      " 5   loan               1131 non-null   int32\n",
      " 6   duration           1131 non-null   int64\n",
      " 7   campaign           1131 non-null   int64\n",
      " 8   pdays              1131 non-null   int64\n",
      " 9   previous           1131 non-null   int64\n",
      " 10  y                  1131 non-null   int32\n",
      " 11  job_admin.         1131 non-null   uint8\n",
      " 12  job_blue-collar    1131 non-null   uint8\n",
      " 13  job_entrepreneur   1131 non-null   uint8\n",
      " 14  job_housemaid      1131 non-null   uint8\n",
      " 15  job_management     1131 non-null   uint8\n",
      " 16  job_retired        1131 non-null   uint8\n",
      " 17  job_self-employed  1131 non-null   uint8\n",
      " 18  job_services       1131 non-null   uint8\n",
      " 19  job_student        1131 non-null   uint8\n",
      " 20  job_technician     1131 non-null   uint8\n",
      " 21  job_unemployed     1131 non-null   uint8\n",
      " 22  job_unknown        1131 non-null   uint8\n",
      " 23  marital_divorced   1131 non-null   uint8\n",
      " 24  marital_married    1131 non-null   uint8\n",
      " 25  marital_single     1131 non-null   uint8\n",
      " 26  contact_cellular   1131 non-null   uint8\n",
      " 27  contact_telephone  1131 non-null   uint8\n",
      " 28  contact_unknown    1131 non-null   uint8\n",
      " 29  month_apr          1131 non-null   uint8\n",
      " 30  month_aug          1131 non-null   uint8\n",
      " 31  month_dec          1131 non-null   uint8\n",
      " 32  month_feb          1131 non-null   uint8\n",
      " 33  month_jan          1131 non-null   uint8\n",
      " 34  month_jul          1131 non-null   uint8\n",
      " 35  month_jun          1131 non-null   uint8\n",
      " 36  month_mar          1131 non-null   uint8\n",
      " 37  month_may          1131 non-null   uint8\n",
      " 38  month_nov          1131 non-null   uint8\n",
      " 39  month_oct          1131 non-null   uint8\n",
      " 40  month_sep          1131 non-null   uint8\n",
      " 41  poutcome_failure   1131 non-null   uint8\n",
      " 42  poutcome_other     1131 non-null   uint8\n",
      " 43  poutcome_success   1131 non-null   uint8\n",
      " 44  poutcome_unknown   1131 non-null   uint8\n",
      " 45  day_1              1131 non-null   uint8\n",
      " 46  day_2              1131 non-null   uint8\n",
      " 47  day_3              1131 non-null   uint8\n",
      " 48  day_4              1131 non-null   uint8\n",
      " 49  day_5              1131 non-null   uint8\n",
      " 50  day_6              1131 non-null   uint8\n",
      " 51  day_7              1131 non-null   uint8\n",
      " 52  day_8              1131 non-null   uint8\n",
      " 53  day_9              1131 non-null   uint8\n",
      " 54  day_10             1131 non-null   uint8\n",
      " 55  day_11             1131 non-null   uint8\n",
      " 56  day_12             1131 non-null   uint8\n",
      " 57  day_13             1131 non-null   uint8\n",
      " 58  day_14             1131 non-null   uint8\n",
      " 59  day_15             1131 non-null   uint8\n",
      " 60  day_16             1131 non-null   uint8\n",
      " 61  day_17             1131 non-null   uint8\n",
      " 62  day_18             1131 non-null   uint8\n",
      " 63  day_19             1131 non-null   uint8\n",
      " 64  day_20             1131 non-null   uint8\n",
      " 65  day_21             1131 non-null   uint8\n",
      " 66  day_22             1131 non-null   uint8\n",
      " 67  day_23             1131 non-null   uint8\n",
      " 68  day_24             1131 non-null   uint8\n",
      " 69  day_25             1131 non-null   uint8\n",
      " 70  day_26             1131 non-null   uint8\n",
      " 71  day_27             1131 non-null   uint8\n",
      " 72  day_28             1131 non-null   uint8\n",
      " 73  day_29             1131 non-null   uint8\n",
      " 74  day_30             1131 non-null   uint8\n",
      " 75  day_31             1131 non-null   uint8\n",
      "dtypes: int32(6), int64(5), uint8(65)\n",
      "memory usage: 151.3 KB\n"
     ]
    }
   ],
   "source": [
    "test.info()"
   ]
  },
  {
   "cell_type": "code",
   "execution_count": 55,
   "metadata": {},
   "outputs": [
    {
     "data": {
      "text/plain": [
       "(1131, 76)"
      ]
     },
     "execution_count": 55,
     "metadata": {},
     "output_type": "execute_result"
    }
   ],
   "source": [
    "test.shape"
   ]
  },
  {
   "cell_type": "markdown",
   "metadata": {},
   "source": [
    "#### We have imputed the missing values as well as performed data transformation. Thus, our train and test data sets are completely clean. Now, the next steps will be to separate the feature set and target value in the train and test data and then, perform scaling on the feature set of train and test data. "
   ]
  },
  {
   "cell_type": "markdown",
   "metadata": {},
   "source": [
    "### Separating Feature set and Target value in Train and Test Data Sets"
   ]
  },
  {
   "cell_type": "code",
   "execution_count": 56,
   "metadata": {},
   "outputs": [],
   "source": [
    "# Create feature set and target value in train data\n",
    "train_feature = train.drop('y', axis = 1)\n",
    "train_target = train['y']\n",
    "\n",
    "# Create feature set and target value in test data\n",
    "test_feature = test.drop('y', axis = 1)\n",
    "test_target = test['y']"
   ]
  },
  {
   "cell_type": "markdown",
   "metadata": {},
   "source": [
    "### Since, it is a Classification problem, we perform MinMaxScaler() to scale the feature set in train and test data"
   ]
  },
  {
   "cell_type": "code",
   "execution_count": 57,
   "metadata": {},
   "outputs": [],
   "source": [
    "from sklearn.preprocessing import MinMaxScaler\n",
    "scaler = MinMaxScaler()\n",
    "train_feature_scaled = scaler.fit_transform(train_feature)\n",
    "test_feature_scaled = scaler.transform(test_feature)"
   ]
  },
  {
   "cell_type": "code",
   "execution_count": 58,
   "metadata": {},
   "outputs": [],
   "source": [
    "# Convert array back to dataframe\n",
    "from pandas import DataFrame\n",
    "train_scaled = DataFrame(train_feature_scaled)"
   ]
  },
  {
   "cell_type": "code",
   "execution_count": 59,
   "metadata": {},
   "outputs": [
    {
     "name": "stdout",
     "output_type": "stream",
     "text": [
      "<class 'pandas.core.frame.DataFrame'>\n",
      "RangeIndex: 3390 entries, 0 to 3389\n",
      "Data columns (total 75 columns):\n",
      " #   Column  Non-Null Count  Dtype  \n",
      "---  ------  --------------  -----  \n",
      " 0   0       3390 non-null   float64\n",
      " 1   1       3390 non-null   float64\n",
      " 2   2       3390 non-null   float64\n",
      " 3   3       3390 non-null   float64\n",
      " 4   4       3390 non-null   float64\n",
      " 5   5       3390 non-null   float64\n",
      " 6   6       3390 non-null   float64\n",
      " 7   7       3390 non-null   float64\n",
      " 8   8       3390 non-null   float64\n",
      " 9   9       3390 non-null   float64\n",
      " 10  10      3390 non-null   float64\n",
      " 11  11      3390 non-null   float64\n",
      " 12  12      3390 non-null   float64\n",
      " 13  13      3390 non-null   float64\n",
      " 14  14      3390 non-null   float64\n",
      " 15  15      3390 non-null   float64\n",
      " 16  16      3390 non-null   float64\n",
      " 17  17      3390 non-null   float64\n",
      " 18  18      3390 non-null   float64\n",
      " 19  19      3390 non-null   float64\n",
      " 20  20      3390 non-null   float64\n",
      " 21  21      3390 non-null   float64\n",
      " 22  22      3390 non-null   float64\n",
      " 23  23      3390 non-null   float64\n",
      " 24  24      3390 non-null   float64\n",
      " 25  25      3390 non-null   float64\n",
      " 26  26      3390 non-null   float64\n",
      " 27  27      3390 non-null   float64\n",
      " 28  28      3390 non-null   float64\n",
      " 29  29      3390 non-null   float64\n",
      " 30  30      3390 non-null   float64\n",
      " 31  31      3390 non-null   float64\n",
      " 32  32      3390 non-null   float64\n",
      " 33  33      3390 non-null   float64\n",
      " 34  34      3390 non-null   float64\n",
      " 35  35      3390 non-null   float64\n",
      " 36  36      3390 non-null   float64\n",
      " 37  37      3390 non-null   float64\n",
      " 38  38      3390 non-null   float64\n",
      " 39  39      3390 non-null   float64\n",
      " 40  40      3390 non-null   float64\n",
      " 41  41      3390 non-null   float64\n",
      " 42  42      3390 non-null   float64\n",
      " 43  43      3390 non-null   float64\n",
      " 44  44      3390 non-null   float64\n",
      " 45  45      3390 non-null   float64\n",
      " 46  46      3390 non-null   float64\n",
      " 47  47      3390 non-null   float64\n",
      " 48  48      3390 non-null   float64\n",
      " 49  49      3390 non-null   float64\n",
      " 50  50      3390 non-null   float64\n",
      " 51  51      3390 non-null   float64\n",
      " 52  52      3390 non-null   float64\n",
      " 53  53      3390 non-null   float64\n",
      " 54  54      3390 non-null   float64\n",
      " 55  55      3390 non-null   float64\n",
      " 56  56      3390 non-null   float64\n",
      " 57  57      3390 non-null   float64\n",
      " 58  58      3390 non-null   float64\n",
      " 59  59      3390 non-null   float64\n",
      " 60  60      3390 non-null   float64\n",
      " 61  61      3390 non-null   float64\n",
      " 62  62      3390 non-null   float64\n",
      " 63  63      3390 non-null   float64\n",
      " 64  64      3390 non-null   float64\n",
      " 65  65      3390 non-null   float64\n",
      " 66  66      3390 non-null   float64\n",
      " 67  67      3390 non-null   float64\n",
      " 68  68      3390 non-null   float64\n",
      " 69  69      3390 non-null   float64\n",
      " 70  70      3390 non-null   float64\n",
      " 71  71      3390 non-null   float64\n",
      " 72  72      3390 non-null   float64\n",
      " 73  73      3390 non-null   float64\n",
      " 74  74      3390 non-null   float64\n",
      "dtypes: float64(75)\n",
      "memory usage: 1.9 MB\n"
     ]
    }
   ],
   "source": [
    "train_scaled.info()"
   ]
  },
  {
   "cell_type": "code",
   "execution_count": 60,
   "metadata": {},
   "outputs": [],
   "source": [
    "# Convert array back to dataframe\n",
    "from pandas import DataFrame\n",
    "test_scaled = DataFrame(test_feature_scaled)"
   ]
  },
  {
   "cell_type": "code",
   "execution_count": 61,
   "metadata": {},
   "outputs": [
    {
     "name": "stdout",
     "output_type": "stream",
     "text": [
      "<class 'pandas.core.frame.DataFrame'>\n",
      "RangeIndex: 1131 entries, 0 to 1130\n",
      "Data columns (total 75 columns):\n",
      " #   Column  Non-Null Count  Dtype  \n",
      "---  ------  --------------  -----  \n",
      " 0   0       1131 non-null   float64\n",
      " 1   1       1131 non-null   float64\n",
      " 2   2       1131 non-null   float64\n",
      " 3   3       1131 non-null   float64\n",
      " 4   4       1131 non-null   float64\n",
      " 5   5       1131 non-null   float64\n",
      " 6   6       1131 non-null   float64\n",
      " 7   7       1131 non-null   float64\n",
      " 8   8       1131 non-null   float64\n",
      " 9   9       1131 non-null   float64\n",
      " 10  10      1131 non-null   float64\n",
      " 11  11      1131 non-null   float64\n",
      " 12  12      1131 non-null   float64\n",
      " 13  13      1131 non-null   float64\n",
      " 14  14      1131 non-null   float64\n",
      " 15  15      1131 non-null   float64\n",
      " 16  16      1131 non-null   float64\n",
      " 17  17      1131 non-null   float64\n",
      " 18  18      1131 non-null   float64\n",
      " 19  19      1131 non-null   float64\n",
      " 20  20      1131 non-null   float64\n",
      " 21  21      1131 non-null   float64\n",
      " 22  22      1131 non-null   float64\n",
      " 23  23      1131 non-null   float64\n",
      " 24  24      1131 non-null   float64\n",
      " 25  25      1131 non-null   float64\n",
      " 26  26      1131 non-null   float64\n",
      " 27  27      1131 non-null   float64\n",
      " 28  28      1131 non-null   float64\n",
      " 29  29      1131 non-null   float64\n",
      " 30  30      1131 non-null   float64\n",
      " 31  31      1131 non-null   float64\n",
      " 32  32      1131 non-null   float64\n",
      " 33  33      1131 non-null   float64\n",
      " 34  34      1131 non-null   float64\n",
      " 35  35      1131 non-null   float64\n",
      " 36  36      1131 non-null   float64\n",
      " 37  37      1131 non-null   float64\n",
      " 38  38      1131 non-null   float64\n",
      " 39  39      1131 non-null   float64\n",
      " 40  40      1131 non-null   float64\n",
      " 41  41      1131 non-null   float64\n",
      " 42  42      1131 non-null   float64\n",
      " 43  43      1131 non-null   float64\n",
      " 44  44      1131 non-null   float64\n",
      " 45  45      1131 non-null   float64\n",
      " 46  46      1131 non-null   float64\n",
      " 47  47      1131 non-null   float64\n",
      " 48  48      1131 non-null   float64\n",
      " 49  49      1131 non-null   float64\n",
      " 50  50      1131 non-null   float64\n",
      " 51  51      1131 non-null   float64\n",
      " 52  52      1131 non-null   float64\n",
      " 53  53      1131 non-null   float64\n",
      " 54  54      1131 non-null   float64\n",
      " 55  55      1131 non-null   float64\n",
      " 56  56      1131 non-null   float64\n",
      " 57  57      1131 non-null   float64\n",
      " 58  58      1131 non-null   float64\n",
      " 59  59      1131 non-null   float64\n",
      " 60  60      1131 non-null   float64\n",
      " 61  61      1131 non-null   float64\n",
      " 62  62      1131 non-null   float64\n",
      " 63  63      1131 non-null   float64\n",
      " 64  64      1131 non-null   float64\n",
      " 65  65      1131 non-null   float64\n",
      " 66  66      1131 non-null   float64\n",
      " 67  67      1131 non-null   float64\n",
      " 68  68      1131 non-null   float64\n",
      " 69  69      1131 non-null   float64\n",
      " 70  70      1131 non-null   float64\n",
      " 71  71      1131 non-null   float64\n",
      " 72  72      1131 non-null   float64\n",
      " 73  73      1131 non-null   float64\n",
      " 74  74      1131 non-null   float64\n",
      "dtypes: float64(75)\n",
      "memory usage: 662.8 KB\n"
     ]
    }
   ],
   "source": [
    "test_scaled.info()"
   ]
  },
  {
   "cell_type": "markdown",
   "metadata": {},
   "source": [
    "### Classification Models"
   ]
  },
  {
   "cell_type": "code",
   "execution_count": 62,
   "metadata": {},
   "outputs": [],
   "source": [
    "from sklearn.neighbors import KNeighborsClassifier\n",
    "from sklearn.linear_model import LogisticRegression\n",
    "from sklearn.tree import DecisionTreeClassifier\n",
    "from sklearn.svm import LinearSVC\n",
    "import matplotlib.gridspec as gridspec\n",
    "from mlxtend.plotting import plot_decision_regions\n",
    "from sklearn.svm import SVC\n",
    "from sklearn.model_selection import GridSearchCV\n",
    "from sklearn.metrics import confusion_matrix\n",
    "from sklearn.metrics import f1_score\n",
    "from sklearn.metrics import precision_recall_curve\n",
    "from sklearn.metrics import roc_curve\n",
    "from sklearn.metrics import classification_report\n",
    "from numpy import sqrt\n",
    "from numpy import argmax\n",
    "from sklearn.metrics import roc_auc_score\n",
    "from sklearn.metrics import accuracy_score"
   ]
  },
  {
   "cell_type": "markdown",
   "metadata": {},
   "source": [
    "### 1. kNN Classification"
   ]
  },
  {
   "cell_type": "code",
   "execution_count": 63,
   "metadata": {},
   "outputs": [],
   "source": [
    "param_grid = {'n_neighbors': [3,4,5,6,7,8,9,10,11,12],\n",
    "              'weights': ['uniform','distance'],\n",
    "              'metric': ['euclidean','manhattan']}\n",
    "grid_search_knn = GridSearchCV(KNeighborsClassifier(), param_grid, n_jobs = -1, cv=5, return_train_score=True)"
   ]
  },
  {
   "cell_type": "code",
   "execution_count": 64,
   "metadata": {},
   "outputs": [
    {
     "data": {
      "text/plain": [
       "GridSearchCV(cv=5, estimator=KNeighborsClassifier(), n_jobs=-1,\n",
       "             param_grid={'metric': ['euclidean', 'manhattan'],\n",
       "                         'n_neighbors': [3, 4, 5, 6, 7, 8, 9, 10, 11, 12],\n",
       "                         'weights': ['uniform', 'distance']},\n",
       "             return_train_score=True)"
      ]
     },
     "execution_count": 64,
     "metadata": {},
     "output_type": "execute_result"
    }
   ],
   "source": [
    "grid_search_knn.fit(train_scaled, train_target)"
   ]
  },
  {
   "cell_type": "code",
   "execution_count": 65,
   "metadata": {},
   "outputs": [
    {
     "name": "stdout",
     "output_type": "stream",
     "text": [
      "Best parameters: {'metric': 'manhattan', 'n_neighbors': 11, 'weights': 'uniform'}\n",
      "Best cross-validation score: 0.89\n"
     ]
    }
   ],
   "source": [
    "print(\"Best parameters: {}\".format(grid_search_knn.best_params_))\n",
    "print(\"Best cross-validation score: {:.2f}\".format(grid_search_knn.best_score_))"
   ]
  },
  {
   "cell_type": "code",
   "execution_count": 66,
   "metadata": {},
   "outputs": [
    {
     "name": "stdout",
     "output_type": "stream",
     "text": [
      "Best train score: 0.8953\n",
      "Best test score: 0.8789\n"
     ]
    }
   ],
   "source": [
    "print(\"Best train score: {:.4f}\".format(grid_search_knn.score(train_scaled,train_target)))\n",
    "print(\"Best test score: {:.4f}\".format(grid_search_knn.score(test_scaled,test_target)))"
   ]
  },
  {
   "cell_type": "markdown",
   "metadata": {},
   "source": [
    "#### As we can see from above, the best parameters for kNN model are metric = manhattan, weights = uniform with k=11. Let us now evaluate our model based on different strategies."
   ]
  },
  {
   "cell_type": "markdown",
   "metadata": {},
   "source": [
    "### Evaluation of kNN Model"
   ]
  },
  {
   "cell_type": "markdown",
   "metadata": {},
   "source": [
    "#### We shall plot the Confusion Matrix, Precision Recall Curve, ROC Curve and calculate the F1 Score and the ROC_AUC Score."
   ]
  },
  {
   "cell_type": "markdown",
   "metadata": {},
   "source": [
    "##### Confusion Matrix"
   ]
  },
  {
   "cell_type": "code",
   "execution_count": 67,
   "metadata": {},
   "outputs": [
    {
     "data": {
      "image/png": "[encoded data removed]",
      "text/plain": [
       "<Figure size 432x288 with 1 Axes>"
      ]
     },
     "metadata": {
      "needs_background": "light"
     },
     "output_type": "display_data"
    }
   ],
   "source": [
    "%matplotlib inline\n",
    "import mglearn\n",
    "knnPred = grid_search_knn.predict(test_scaled)\n",
    "scores_image = mglearn.tools.heatmap(\n",
    "    confusion_matrix(test_target, knnPred), xlabel='Predicted Label',\n",
    "    ylabel='True Label', xticklabels=df.y.unique(),\n",
    "    yticklabels=df.y.unique(), cmap=plt.cm.gray_r, fmt=\"%d\")\n",
    "plt.title(\"Confusion Matrix\")\n",
    "plt.gca().invert_yaxis()"
   ]
  },
  {
   "cell_type": "markdown",
   "metadata": {},
   "source": [
    "#### We can see that - True Positive = 988, True Negative = 6, False Positive = 132 and False Negative = 5.\n",
    "#### Accuracy = (988 + 6) / (988 + 6 + 132 + 5) = 0.8789\n",
    "#### Precision = 988 / (988 + 132) = 0.8821\n",
    "#### Recall = 988 / (988 + 5) = 0.995"
   ]
  },
  {
   "cell_type": "markdown",
   "metadata": {},
   "source": [
    "##### Precision Recall Curve"
   ]
  },
  {
   "cell_type": "code",
   "execution_count": 68,
   "metadata": {},
   "outputs": [
    {
     "name": "stdout",
     "output_type": "stream",
     "text": [
      "Best Threshold=0.454545\n"
     ]
    },
    {
     "data": {
      "image/png": "[encoded data removed]",
      "text/plain": [
       "<Figure size 432x288 with 1 Axes>"
      ]
     },
     "metadata": {
      "needs_background": "light"
     },
     "output_type": "display_data"
    }
   ],
   "source": [
    "%matplotlib inline\n",
    "\n",
    "knn_prob = grid_search_knn.predict_proba(test_scaled)\n",
    "knn_prob = knn_prob[:,1]\n",
    "\n",
    "precision, recall, thresholds = precision_recall_curve(test_target, knn_prob)\n",
    "\n",
    "f = (2 * precision * recall) / (precision + recall)\n",
    "i = argmax(f)\n",
    "\n",
    "print('Best Threshold=%f' % (thresholds[i]))\n",
    "\n",
    "optimal_threshold = np.argmin(np.abs(thresholds-thresholds[i]))\n",
    "\n",
    "\n",
    "plt.plot(precision[optimal_threshold], recall[optimal_threshold], 'o', markersize=10,\n",
    "         label=\"best threshold\", fillstyle=\"none\", c='k', mew=2)\n",
    "\n",
    "plt.plot(precision, recall, label=\"Precision Recall Curve\")\n",
    "plt.xlabel(\"Precision\")\n",
    "plt.ylabel(\"Recall\")\n",
    "plt.legend(loc=\"best\")\n",
    "plt.show()"
   ]
  },
  {
   "cell_type": "markdown",
   "metadata": {},
   "source": [
    "##### ROC Curve"
   ]
  },
  {
   "cell_type": "code",
   "execution_count": 69,
   "metadata": {},
   "outputs": [
    {
     "name": "stdout",
     "output_type": "stream",
     "text": [
      "Best Threshold=1.000000\n"
     ]
    },
    {
     "data": {
      "text/plain": [
       "<matplotlib.legend.Legend at 0x144749d0>"
      ]
     },
     "execution_count": 69,
     "metadata": {},
     "output_type": "execute_result"
    },
    {
     "data": {
      "image/png": "[encoded data removed]",
      "text/plain": [
       "<Figure size 432x288 with 1 Axes>"
      ]
     },
     "metadata": {
      "needs_background": "light"
     },
     "output_type": "display_data"
    }
   ],
   "source": [
    "%matplotlib inline\n",
    "\n",
    "knn_prob = grid_search_knn.predict_proba(test_scaled)\n",
    "knn_prob = knn_prob[:,1]\n",
    "\n",
    "fpr, tpr, thresholds = roc_curve(test_target, knn_prob)\n",
    "\n",
    "i = tpr-fpr\n",
    "bt = argmax(i)\n",
    "\n",
    "print('Best Threshold=%f' % (thresholds[bt]))\n",
    "\n",
    "plt.plot(fpr, tpr, label=\"ROC Curve\")\n",
    "plt.xlabel(\"FPR\")\n",
    "plt.ylabel(\"TPR (recall)\")\n",
    "\n",
    "optimal_threshold = np.argmin(np.abs(thresholds - thresholds[bt]))\n",
    "plt.plot(fpr[optimal_threshold], tpr[optimal_threshold], 'o', markersize=10,\n",
    "         label=\"best threshold\", fillstyle=\"none\", c='k', mew=2)\n",
    "plt.legend(loc=4)"
   ]
  },
  {
   "cell_type": "markdown",
   "metadata": {},
   "source": [
    "##### F1 Score"
   ]
  },
  {
   "cell_type": "code",
   "execution_count": 70,
   "metadata": {},
   "outputs": [
    {
     "name": "stdout",
     "output_type": "stream",
     "text": [
      "F1 score K Neighbors Classifier: 0.9352\n"
     ]
    }
   ],
   "source": [
    "print(\"F1 score K Neighbors Classifier: {:.4f}\".format(f1_score(test_target, knnPred)))"
   ]
  },
  {
   "cell_type": "markdown",
   "metadata": {},
   "source": [
    "##### ROC_AUC Score"
   ]
  },
  {
   "cell_type": "code",
   "execution_count": 71,
   "metadata": {},
   "outputs": [
    {
     "name": "stdout",
     "output_type": "stream",
     "text": [
      "ROC_AUC Score for K Neighbors Classifier: 0.7161\n"
     ]
    }
   ],
   "source": [
    "knn_prob = grid_search_knn.predict_proba(test_scaled)\n",
    "knn_prob = knn_prob[:,1]\n",
    "rascore_knn = roc_auc_score(test_target, knn_prob)\n",
    "print(\"ROC_AUC Score for K Neighbors Classifier: {:.4f}\".format(rascore_knn))"
   ]
  },
  {
   "cell_type": "markdown",
   "metadata": {},
   "source": [
    "### 2. Logistic Regression"
   ]
  },
  {
   "cell_type": "code",
   "execution_count": 72,
   "metadata": {},
   "outputs": [],
   "source": [
    "param_grid = {'C': [0.01,0.1,1,10,100],\n",
    "              'penalty': ['l1','l2']}\n",
    "grid_search_logistic = GridSearchCV(LogisticRegression(), param_grid, n_jobs = -1, cv=5, return_train_score=True)"
   ]
  },
  {
   "cell_type": "code",
   "execution_count": 73,
   "metadata": {},
   "outputs": [
    {
     "data": {
      "text/plain": [
       "GridSearchCV(cv=5, estimator=LogisticRegression(), n_jobs=-1,\n",
       "             param_grid={'C': [0.01, 0.1, 1, 10, 100], 'penalty': ['l1', 'l2']},\n",
       "             return_train_score=True)"
      ]
     },
     "execution_count": 73,
     "metadata": {},
     "output_type": "execute_result"
    }
   ],
   "source": [
    "grid_search_logistic.fit(train_scaled, train_target)"
   ]
  },
  {
   "cell_type": "code",
   "execution_count": 74,
   "metadata": {},
   "outputs": [
    {
     "name": "stdout",
     "output_type": "stream",
     "text": [
      "Best parameters: {'C': 1, 'penalty': 'l2'}\n",
      "Best cross-validation score: 0.90\n"
     ]
    }
   ],
   "source": [
    "print(\"Best parameters: {}\".format(grid_search_logistic.best_params_))\n",
    "print(\"Best cross-validation score: {:.2f}\".format(grid_search_logistic.best_score_))"
   ]
  },
  {
   "cell_type": "code",
   "execution_count": 75,
   "metadata": {},
   "outputs": [
    {
     "name": "stdout",
     "output_type": "stream",
     "text": [
      "Best train score: 0.9012\n",
      "Best test score: 0.8895\n"
     ]
    }
   ],
   "source": [
    "print(\"Best train score: {:.4f}\".format(grid_search_logistic.score(train_scaled,train_target)))\n",
    "print(\"Best test score: {:.4f}\".format(grid_search_logistic.score(test_scaled,test_target)))"
   ]
  },
  {
   "cell_type": "markdown",
   "metadata": {},
   "source": [
    "#### As we can see from above, the best parameters for Logistic Regression model are c = 1 and penalty = l2. Let us now evaluate our model based on different strategies."
   ]
  },
  {
   "cell_type": "markdown",
   "metadata": {},
   "source": [
    "### Evaluation of Logistic Regression Model"
   ]
  },
  {
   "cell_type": "markdown",
   "metadata": {},
   "source": [
    "##### Confusion Matrix"
   ]
  },
  {
   "cell_type": "code",
   "execution_count": 76,
   "metadata": {},
   "outputs": [
    {
     "data": {
      "image/png": "[encoded data removed]",
      "text/plain": [
       "<Figure size 432x288 with 1 Axes>"
      ]
     },
     "metadata": {
      "needs_background": "light"
     },
     "output_type": "display_data"
    }
   ],
   "source": [
    "%matplotlib inline\n",
    "logRegPred = grid_search_logistic.predict(test_scaled)\n",
    "scores_image = mglearn.tools.heatmap(\n",
    "    confusion_matrix(test_target, logRegPred), xlabel='Predicted Label',\n",
    "    ylabel='True Label', xticklabels=df.y.unique(),\n",
    "    yticklabels=df.y.unique(), cmap=plt.cm.gray_r, fmt=\"%d\")\n",
    "plt.title(\"Confusion Matrix\")\n",
    "plt.gca().invert_yaxis()"
   ]
  },
  {
   "cell_type": "markdown",
   "metadata": {},
   "source": [
    "#### We can see that - True Positive = 977, True Negative = 29, False Positive = 109 and False Negative = 16.\n",
    "#### Accuracy = (977 + 29) / (977 + 29 + 109 + 16) = 0.8895\n",
    "#### Precision = 977 / (977 + 109) = 0.8996\n",
    "#### Recall = 977 / (977 + 16) = 0.9839"
   ]
  },
  {
   "cell_type": "markdown",
   "metadata": {},
   "source": [
    "##### Precision Recall Curve"
   ]
  },
  {
   "cell_type": "code",
   "execution_count": 77,
   "metadata": {},
   "outputs": [
    {
     "name": "stdout",
     "output_type": "stream",
     "text": [
      "Best Threshold=0.630725\n"
     ]
    },
    {
     "data": {
      "text/plain": [
       "<matplotlib.legend.Legend at 0x16685c70>"
      ]
     },
     "execution_count": 77,
     "metadata": {},
     "output_type": "execute_result"
    },
    {
     "data": {
      "image/png": "[encoded data removed]",
      "text/plain": [
       "<Figure size 432x288 with 1 Axes>"
      ]
     },
     "metadata": {
      "needs_background": "light"
     },
     "output_type": "display_data"
    }
   ],
   "source": [
    "%matplotlib inline\n",
    "\n",
    "lr_prob = grid_search_logistic.predict_proba(test_scaled)\n",
    "lr_prob = lr_prob[:,1]\n",
    "\n",
    "precision, recall, thresholds = precision_recall_curve(test_target, lr_prob)\n",
    "\n",
    "f = (2 * precision * recall) / (precision + recall)\n",
    "i = argmax(f)\n",
    "\n",
    "print('Best Threshold=%f' % (thresholds[i]))\n",
    "\n",
    "optimal_threshold = np.argmin(np.abs(thresholds-thresholds[i]))\n",
    "\n",
    "plt.plot(precision[optimal_threshold], recall[optimal_threshold], 'o', markersize=10,\n",
    "         label=\"best threshold\", fillstyle=\"none\", c='k', mew=2)\n",
    "\n",
    "plt.plot(precision, recall, label=\"Precision Recall Curve\")\n",
    "plt.xlabel(\"Precision\")\n",
    "plt.ylabel(\"Recall\")\n",
    "plt.legend(loc=\"best\")"
   ]
  },
  {
   "cell_type": "markdown",
   "metadata": {},
   "source": [
    "##### ROC Curve"
   ]
  },
  {
   "cell_type": "code",
   "execution_count": 78,
   "metadata": {},
   "outputs": [
    {
     "name": "stdout",
     "output_type": "stream",
     "text": [
      "Best Threshold=0.883810\n"
     ]
    },
    {
     "data": {
      "text/plain": [
       "<matplotlib.legend.Legend at 0x14474c40>"
      ]
     },
     "execution_count": 78,
     "metadata": {},
     "output_type": "execute_result"
    },
    {
     "data": {
      "image/png": "[encoded data removed]",
      "text/plain": [
       "<Figure size 432x288 with 1 Axes>"
      ]
     },
     "metadata": {
      "needs_background": "light"
     },
     "output_type": "display_data"
    }
   ],
   "source": [
    "%matplotlib inline\n",
    "\n",
    "lr_prob = grid_search_logistic.predict_proba(test_scaled)\n",
    "lr_prob = lr_prob[:,1]\n",
    "\n",
    "fpr, tpr, thresholds = roc_curve(test_target, lr_prob)\n",
    "\n",
    "i = tpr-fpr\n",
    "bt = argmax(i)\n",
    "\n",
    "print('Best Threshold=%f' % (thresholds[bt]))\n",
    "\n",
    "plt.plot(fpr, tpr, label=\"ROC Curve\")\n",
    "plt.xlabel(\"FPR\")\n",
    "plt.ylabel(\"TPR (recall)\")\n",
    "\n",
    "optimal_threshold = np.argmin(np.abs(thresholds - thresholds[bt]))\n",
    "plt.plot(fpr[optimal_threshold], tpr[optimal_threshold], 'o', markersize=10,\n",
    "         label=\"best threshold\", fillstyle=\"none\", c='k', mew=2)\n",
    "plt.legend(loc=4)"
   ]
  },
  {
   "cell_type": "markdown",
   "metadata": {},
   "source": [
    "##### F1 Score"
   ]
  },
  {
   "cell_type": "code",
   "execution_count": 79,
   "metadata": {},
   "outputs": [
    {
     "name": "stdout",
     "output_type": "stream",
     "text": [
      "F1 score Logistic Regression: 0.94\n"
     ]
    }
   ],
   "source": [
    "print(\"F1 score Logistic Regression: {:.2f}\".format(f1_score(test_target, logRegPred)))"
   ]
  },
  {
   "cell_type": "markdown",
   "metadata": {},
   "source": [
    "##### ROC_AUC Score"
   ]
  },
  {
   "cell_type": "code",
   "execution_count": 80,
   "metadata": {},
   "outputs": [
    {
     "name": "stdout",
     "output_type": "stream",
     "text": [
      "ROC_AUC Score for Logistic Regression: 0.8812\n"
     ]
    }
   ],
   "source": [
    "lr_prob = grid_search_logistic.predict_proba(test_scaled)\n",
    "lr_prob = lr_prob[:,1]\n",
    "rascore_lr = roc_auc_score(test_target, lr_prob)\n",
    "print(\"ROC_AUC Score for Logistic Regression: {:.4f}\".format(rascore_lr))"
   ]
  },
  {
   "cell_type": "markdown",
   "metadata": {},
   "source": [
    "### 3. Linear Support Vector Machine"
   ]
  },
  {
   "cell_type": "code",
   "execution_count": 81,
   "metadata": {},
   "outputs": [],
   "source": [
    "param_grid = {'C': [0.001,0.01,0.1,1,10,100]}\n",
    "grid_search_lsvc = GridSearchCV(LinearSVC(), param_grid, n_jobs = -1, cv=5, return_train_score=True)"
   ]
  },
  {
   "cell_type": "code",
   "execution_count": 82,
   "metadata": {},
   "outputs": [
    {
     "data": {
      "text/plain": [
       "GridSearchCV(cv=5, estimator=LinearSVC(), n_jobs=-1,\n",
       "             param_grid={'C': [0.001, 0.01, 0.1, 1, 10, 100]},\n",
       "             return_train_score=True)"
      ]
     },
     "execution_count": 82,
     "metadata": {},
     "output_type": "execute_result"
    }
   ],
   "source": [
    "grid_search_lsvc.fit(train_scaled, train_target)"
   ]
  },
  {
   "cell_type": "code",
   "execution_count": 83,
   "metadata": {},
   "outputs": [
    {
     "name": "stdout",
     "output_type": "stream",
     "text": [
      "Best parameters: {'C': 10}\n",
      "Best cross-validation score: 0.90\n"
     ]
    }
   ],
   "source": [
    "print(\"Best parameters: {}\".format(grid_search_lsvc.best_params_))\n",
    "print(\"Best cross-validation score: {:.2f}\".format(grid_search_lsvc.best_score_))"
   ]
  },
  {
   "cell_type": "code",
   "execution_count": 84,
   "metadata": {},
   "outputs": [
    {
     "name": "stdout",
     "output_type": "stream",
     "text": [
      "Best train score: 0.9018\n",
      "Best test score: 0.8912\n"
     ]
    }
   ],
   "source": [
    "print(\"Best train score: {:.4f}\".format(grid_search_lsvc.score(train_scaled,train_target)))\n",
    "print(\"Best test score: {:.4f}\".format(grid_search_lsvc.score(test_scaled,test_target)))"
   ]
  },
  {
   "cell_type": "markdown",
   "metadata": {},
   "source": [
    "#### As we can see from above, the best parameter for Linear SVM Model is c = 10. Let us now evaluate the model."
   ]
  },
  {
   "cell_type": "markdown",
   "metadata": {},
   "source": [
    "### Evaluation of Linear Support Vector Machine Model"
   ]
  },
  {
   "cell_type": "markdown",
   "metadata": {},
   "source": [
    "##### Confusion Matrix"
   ]
  },
  {
   "cell_type": "code",
   "execution_count": 85,
   "metadata": {},
   "outputs": [
    {
     "data": {
      "image/png": "[encoded data removed]",
      "text/plain": [
       "<Figure size 432x288 with 1 Axes>"
      ]
     },
     "metadata": {
      "needs_background": "light"
     },
     "output_type": "display_data"
    }
   ],
   "source": [
    "%matplotlib inline\n",
    "lsvcPred = grid_search_lsvc.predict(test_scaled)\n",
    "scores_image = mglearn.tools.heatmap(\n",
    "    confusion_matrix(test_target, lsvcPred), xlabel='Predicted Label',\n",
    "    ylabel='True Label', xticklabels=df.y.unique(),\n",
    "    yticklabels=df.y.unique(), cmap=plt.cm.gray_r, fmt=\"%d\")\n",
    "plt.title(\"Confusion Matrix\")\n",
    "plt.gca().invert_yaxis()"
   ]
  },
  {
   "cell_type": "markdown",
   "metadata": {},
   "source": [
    "#### We can see that - True Positive = 970, True Negative = 38, False Positive = 100 and False Negative = 23.\n",
    "#### Accuracy = (970 + 38)/(970 + 38 + 100 + 23) = 0.8912\n",
    "#### Precision = 970/(970 + 100) = 0.9065\n",
    "#### Recall = 970/(970 + 23) = 0.9768"
   ]
  },
  {
   "cell_type": "markdown",
   "metadata": {},
   "source": [
    "##### Precision Recall Curve"
   ]
  },
  {
   "cell_type": "code",
   "execution_count": 86,
   "metadata": {},
   "outputs": [
    {
     "name": "stdout",
     "output_type": "stream",
     "text": [
      "Best Threshold=0.056025\n"
     ]
    },
    {
     "data": {
      "text/plain": [
       "<matplotlib.legend.Legend at 0x16737838>"
      ]
     },
     "execution_count": 86,
     "metadata": {},
     "output_type": "execute_result"
    },
    {
     "data": {
      "image/png": "[encoded data removed]",
      "text/plain": [
       "<Figure size 432x288 with 1 Axes>"
      ]
     },
     "metadata": {
      "needs_background": "light"
     },
     "output_type": "display_data"
    }
   ],
   "source": [
    "%matplotlib inline\n",
    "\n",
    "lsvc_prob = grid_search_lsvc.decision_function(test_scaled)\n",
    "\n",
    "precision, recall, thresholds = precision_recall_curve(test_target, lsvc_prob)\n",
    "\n",
    "f = (2 * precision * recall) / (precision + recall)\n",
    "i = argmax(f)\n",
    "\n",
    "print('Best Threshold=%f' % (thresholds[i]))\n",
    "\n",
    "optimal_threshold = np.argmin(np.abs(thresholds-thresholds[i]))\n",
    "\n",
    "plt.plot(precision[optimal_threshold], recall[optimal_threshold], 'o', markersize=10,\n",
    "         label=\"best threshold\", fillstyle=\"none\", c='k', mew=2)\n",
    "\n",
    "plt.plot(precision, recall, label=\"Precision Recall Curve\")\n",
    "plt.xlabel(\"Precision\")\n",
    "plt.ylabel(\"Recall\")\n",
    "plt.legend(loc=\"best\")"
   ]
  },
  {
   "cell_type": "markdown",
   "metadata": {},
   "source": [
    "##### ROC Curve"
   ]
  },
  {
   "cell_type": "code",
   "execution_count": 87,
   "metadata": {},
   "outputs": [
    {
     "name": "stdout",
     "output_type": "stream",
     "text": [
      "Best Threshold=0.700401\n"
     ]
    },
    {
     "data": {
      "text/plain": [
       "<matplotlib.legend.Legend at 0x1661eaa8>"
      ]
     },
     "execution_count": 87,
     "metadata": {},
     "output_type": "execute_result"
    },
    {
     "data": {
      "image/png": "[encoded data removed]",
      "text/plain": [
       "<Figure size 432x288 with 1 Axes>"
      ]
     },
     "metadata": {
      "needs_background": "light"
     },
     "output_type": "display_data"
    }
   ],
   "source": [
    "%matplotlib inline\n",
    "\n",
    "lsvc_prob = grid_search_lsvc.decision_function(test_scaled)\n",
    "\n",
    "fpr, tpr, thresholds = roc_curve(test_target, lsvc_prob)\n",
    "\n",
    "i = tpr-fpr\n",
    "bt = argmax(i)\n",
    "\n",
    "print('Best Threshold=%f' % (thresholds[bt]))\n",
    "\n",
    "plt.plot(fpr, tpr, label=\"ROC Curve\")\n",
    "plt.xlabel(\"FPR\")\n",
    "plt.ylabel(\"TPR (recall)\")\n",
    "\n",
    "optimal_threshold = np.argmin(np.abs(thresholds - thresholds[bt]))\n",
    "plt.plot(fpr[optimal_threshold], tpr[optimal_threshold], 'o', markersize=10,\n",
    "         label=\"best threshold\", fillstyle=\"none\", c='k', mew=2)\n",
    "plt.legend(loc=4)"
   ]
  },
  {
   "cell_type": "markdown",
   "metadata": {},
   "source": [
    "##### F1 Score"
   ]
  },
  {
   "cell_type": "code",
   "execution_count": 88,
   "metadata": {},
   "outputs": [
    {
     "name": "stdout",
     "output_type": "stream",
     "text": [
      "F1 score Linear SVC: 0.9404\n"
     ]
    }
   ],
   "source": [
    "print(\"F1 score Linear SVC: {:.4f}\".format(f1_score(test_target, lsvcPred)))"
   ]
  },
  {
   "cell_type": "markdown",
   "metadata": {},
   "source": [
    "##### ROC_AUC Score"
   ]
  },
  {
   "cell_type": "code",
   "execution_count": 89,
   "metadata": {},
   "outputs": [
    {
     "name": "stdout",
     "output_type": "stream",
     "text": [
      "ROC_AUC Score for Linear SVC: 0.8906\n"
     ]
    }
   ],
   "source": [
    "lsvc_prob = grid_search_lsvc.decision_function(test_scaled)\n",
    "rascore_lsvc = roc_auc_score(test_target, lsvc_prob)\n",
    "print(\"ROC_AUC Score for Linear SVC: {:.4f}\".format(rascore_lsvc))"
   ]
  },
  {
   "cell_type": "markdown",
   "metadata": {},
   "source": [
    "### 4. Kernelized SVM using rbf kernel"
   ]
  },
  {
   "cell_type": "code",
   "execution_count": 90,
   "metadata": {},
   "outputs": [],
   "source": [
    "param_grid = {'C': [0.001, 0.01, 0.1, 1, 10, 100],\n",
    "              'gamma': [0.001, 0.01, 0.1, 1, 10, 100]}\n",
    "grid_search_rbf = GridSearchCV(SVC(kernel=\"rbf\"), param_grid, n_jobs = -1, cv=5, return_train_score=True)"
   ]
  },
  {
   "cell_type": "code",
   "execution_count": 91,
   "metadata": {},
   "outputs": [
    {
     "data": {
      "text/plain": [
       "GridSearchCV(cv=5, estimator=SVC(), n_jobs=-1,\n",
       "             param_grid={'C': [0.001, 0.01, 0.1, 1, 10, 100],\n",
       "                         'gamma': [0.001, 0.01, 0.1, 1, 10, 100]},\n",
       "             return_train_score=True)"
      ]
     },
     "execution_count": 91,
     "metadata": {},
     "output_type": "execute_result"
    }
   ],
   "source": [
    "grid_search_rbf.fit(train_scaled, train_target)"
   ]
  },
  {
   "cell_type": "code",
   "execution_count": 92,
   "metadata": {},
   "outputs": [
    {
     "name": "stdout",
     "output_type": "stream",
     "text": [
      "Best parameters: {'C': 100, 'gamma': 0.01}\n",
      "Best cross-validation score: 0.90\n"
     ]
    }
   ],
   "source": [
    "print(\"Best parameters: {}\".format(grid_search_rbf.best_params_))\n",
    "print(\"Best cross-validation score: {:.2f}\".format(grid_search_rbf.best_score_))"
   ]
  },
  {
   "cell_type": "code",
   "execution_count": 93,
   "metadata": {},
   "outputs": [
    {
     "name": "stdout",
     "output_type": "stream",
     "text": [
      "Best train score: 0.9118\n",
      "Best test score: 0.8974\n"
     ]
    }
   ],
   "source": [
    "print(\"Best train score: {:.4f}\".format(grid_search_rbf.score(train_scaled,train_target)))\n",
    "print(\"Best test score: {:.4f}\".format(grid_search_rbf.score(test_scaled,test_target)))"
   ]
  },
  {
   "cell_type": "markdown",
   "metadata": {},
   "source": [
    "#### As we can see from above, the best hyper parameters for the SVC with RBF kernel are c = 100 and gamma = 0.01. Let us now evaluate the model. "
   ]
  },
  {
   "cell_type": "markdown",
   "metadata": {},
   "source": [
    "### Evaluation of Kernelized SVM with RBF Kernel"
   ]
  },
  {
   "cell_type": "markdown",
   "metadata": {},
   "source": [
    "##### Confusion Matrix"
   ]
  },
  {
   "cell_type": "code",
   "execution_count": 94,
   "metadata": {},
   "outputs": [
    {
     "data": {
      "image/png": "[encoded data removed]",
      "text/plain": [
       "<Figure size 432x288 with 1 Axes>"
      ]
     },
     "metadata": {
      "needs_background": "light"
     },
     "output_type": "display_data"
    }
   ],
   "source": [
    "%matplotlib inline\n",
    "rbfPred = grid_search_rbf.predict(test_scaled)\n",
    "scores_image = mglearn.tools.heatmap(\n",
    "    confusion_matrix(test_target, rbfPred), xlabel='Predicted Label',\n",
    "    ylabel='True Label', xticklabels=df.y.unique(),\n",
    "    yticklabels=df.y.unique(), cmap=plt.cm.gray_r, fmt=\"%d\")\n",
    "plt.title(\"Confusion Matrix\")\n",
    "plt.gca().invert_yaxis()"
   ]
  },
  {
   "cell_type": "markdown",
   "metadata": {},
   "source": [
    "#### We can see that - True Positive = 977, True Negative = 38, False Positive = 100 and False Negative = 16.\n",
    "#### Accuracy = (977 + 38) / (977 + 38 + 100 + 16) = 0.8974\n",
    "#### Precision = 977 / (977 + 100) = 0.9071\n",
    "#### Recall = 977 / (977 + 16) = 0.9839"
   ]
  },
  {
   "cell_type": "markdown",
   "metadata": {},
   "source": [
    "##### Precision Recall Curve"
   ]
  },
  {
   "cell_type": "code",
   "execution_count": 95,
   "metadata": {},
   "outputs": [
    {
     "name": "stdout",
     "output_type": "stream",
     "text": [
      "Best Threshold=0.198803\n"
     ]
    },
    {
     "data": {
      "text/plain": [
       "<matplotlib.legend.Legend at 0x165c9268>"
      ]
     },
     "execution_count": 95,
     "metadata": {},
     "output_type": "execute_result"
    },
    {
     "data": {
      "image/png": "[encoded data removed]",
      "text/plain": [
       "<Figure size 432x288 with 1 Axes>"
      ]
     },
     "metadata": {
      "needs_background": "light"
     },
     "output_type": "display_data"
    }
   ],
   "source": [
    "%matplotlib inline\n",
    "\n",
    "rbf_prob = grid_search_rbf.decision_function(test_scaled)\n",
    "\n",
    "precision, recall, thresholds = precision_recall_curve(test_target, rbf_prob)\n",
    "\n",
    "f = (2 * precision * recall) / (precision + recall)\n",
    "i = argmax(f)\n",
    "\n",
    "print('Best Threshold=%f' % (thresholds[i]))\n",
    "\n",
    "optimal_threshold = np.argmin(np.abs(thresholds-thresholds[i]))\n",
    "\n",
    "plt.plot(precision[optimal_threshold], recall[optimal_threshold], 'o', markersize=10,\n",
    "         label=\"best threshold\", fillstyle=\"none\", c='k', mew=2)\n",
    "\n",
    "plt.plot(precision, recall, label=\"Precision Recall Curve\")\n",
    "plt.xlabel(\"Precision\")\n",
    "plt.ylabel(\"Recall\")\n",
    "plt.legend(loc=\"best\")"
   ]
  },
  {
   "cell_type": "markdown",
   "metadata": {},
   "source": [
    "##### ROC Curve"
   ]
  },
  {
   "cell_type": "code",
   "execution_count": 96,
   "metadata": {},
   "outputs": [
    {
     "name": "stdout",
     "output_type": "stream",
     "text": [
      "Best Threshold=1.088652\n"
     ]
    },
    {
     "data": {
      "text/plain": [
       "<matplotlib.legend.Legend at 0x165f8820>"
      ]
     },
     "execution_count": 96,
     "metadata": {},
     "output_type": "execute_result"
    },
    {
     "data": {
      "image/png": "[encoded data removed]",
      "text/plain": [
       "<Figure size 432x288 with 1 Axes>"
      ]
     },
     "metadata": {
      "needs_background": "light"
     },
     "output_type": "display_data"
    }
   ],
   "source": [
    "%matplotlib inline\n",
    "\n",
    "rbf_prob = grid_search_rbf.decision_function(test_scaled)\n",
    "\n",
    "fpr, tpr, thresholds = roc_curve(test_target, rbf_prob)\n",
    "\n",
    "i = tpr-fpr\n",
    "bt = argmax(i)\n",
    "\n",
    "print('Best Threshold=%f' % (thresholds[bt]))\n",
    "\n",
    "plt.plot(fpr, tpr, label=\"ROC Curve\")\n",
    "plt.xlabel(\"FPR\")\n",
    "plt.ylabel(\"TPR (recall)\")\n",
    "\n",
    "optimal_threshold = np.argmin(np.abs(thresholds - thresholds[bt]))\n",
    "plt.plot(fpr[optimal_threshold], tpr[optimal_threshold], 'o', markersize=10,\n",
    "         label=\"best threshold\", fillstyle=\"none\", c='k', mew=2)\n",
    "plt.legend(loc=4)"
   ]
  },
  {
   "cell_type": "markdown",
   "metadata": {},
   "source": [
    "##### F1 Score"
   ]
  },
  {
   "cell_type": "code",
   "execution_count": 97,
   "metadata": {},
   "outputs": [
    {
     "name": "stdout",
     "output_type": "stream",
     "text": [
      "F1 Score Kernelized SVC with RBF Kernel: 0.9440\n"
     ]
    }
   ],
   "source": [
    "print(\"F1 Score Kernelized SVC with RBF Kernel: {:.4f}\".format(f1_score(test_target, rbfPred)))"
   ]
  },
  {
   "cell_type": "markdown",
   "metadata": {},
   "source": [
    "##### ROC_AUC Score"
   ]
  },
  {
   "cell_type": "code",
   "execution_count": 98,
   "metadata": {},
   "outputs": [
    {
     "name": "stdout",
     "output_type": "stream",
     "text": [
      "ROC_AUC Score for Kernelized SVC with RBF Kernel: 0.8791\n"
     ]
    }
   ],
   "source": [
    "rbf_prob = grid_search_rbf.decision_function(test_scaled)\n",
    "rascore_rbf = roc_auc_score(test_target, rbf_prob)\n",
    "print(\"ROC_AUC Score for Kernelized SVC with RBF Kernel: {:.4f}\".format(rascore_rbf))"
   ]
  },
  {
   "cell_type": "markdown",
   "metadata": {},
   "source": [
    "### 5. Kernelized SVM using poly kernel"
   ]
  },
  {
   "cell_type": "code",
   "execution_count": 99,
   "metadata": {},
   "outputs": [],
   "source": [
    "param_grid = {'C': [0.01, 0.1, 1, 10, 100]}\n",
    "grid_search_poly = GridSearchCV(SVC(kernel=\"poly\"), param_grid, n_jobs = -1, cv=5, return_train_score=True)"
   ]
  },
  {
   "cell_type": "code",
   "execution_count": 100,
   "metadata": {},
   "outputs": [
    {
     "data": {
      "text/plain": [
       "GridSearchCV(cv=5, estimator=SVC(kernel='poly'), n_jobs=-1,\n",
       "             param_grid={'C': [0.01, 0.1, 1, 10, 100]},\n",
       "             return_train_score=True)"
      ]
     },
     "execution_count": 100,
     "metadata": {},
     "output_type": "execute_result"
    }
   ],
   "source": [
    "grid_search_poly.fit(train_scaled, train_target)"
   ]
  },
  {
   "cell_type": "code",
   "execution_count": 101,
   "metadata": {},
   "outputs": [
    {
     "name": "stdout",
     "output_type": "stream",
     "text": [
      "Best parameters: {'C': 1}\n",
      "Best cross-validation score: 0.89\n"
     ]
    }
   ],
   "source": [
    "print(\"Best parameters: {}\".format(grid_search_poly.best_params_))\n",
    "print(\"Best cross-validation score: {:.2f}\".format(grid_search_poly.best_score_))"
   ]
  },
  {
   "cell_type": "code",
   "execution_count": 102,
   "metadata": {},
   "outputs": [
    {
     "name": "stdout",
     "output_type": "stream",
     "text": [
      "Best train score: 0.9103\n",
      "Best test score: 0.8895\n"
     ]
    }
   ],
   "source": [
    "print(\"Best train score: {:.4f}\".format(grid_search_poly.score(train_scaled,train_target)))\n",
    "print(\"Best test score: {:.4f}\".format(grid_search_poly.score(test_scaled,test_target)))"
   ]
  },
  {
   "cell_type": "markdown",
   "metadata": {},
   "source": [
    "#### As we can see here that the best hyperparameter value for Kernelized SVM with POLY Kernel is c = 1. Let us now evaluate our model."
   ]
  },
  {
   "cell_type": "markdown",
   "metadata": {},
   "source": [
    "### Evaluation of Kernelized SVM with POLY Kernel "
   ]
  },
  {
   "cell_type": "markdown",
   "metadata": {},
   "source": [
    "##### Confusion Matrix"
   ]
  },
  {
   "cell_type": "code",
   "execution_count": 103,
   "metadata": {},
   "outputs": [
    {
     "data": {
      "image/png": "[encoded data removed]",
      "text/plain": [
       "<Figure size 432x288 with 1 Axes>"
      ]
     },
     "metadata": {
      "needs_background": "light"
     },
     "output_type": "display_data"
    }
   ],
   "source": [
    "%matplotlib inline\n",
    "polyPred = grid_search_poly.predict(test_scaled)\n",
    "scores_image = mglearn.tools.heatmap(\n",
    "    confusion_matrix(test_target, polyPred), xlabel='Predicted Label',\n",
    "    ylabel='True Label', xticklabels=df.y.unique(),\n",
    "    yticklabels=df.y.unique(), cmap=plt.cm.gray_r, fmt=\"%d\")\n",
    "plt.title(\"Confusion Matrix\")\n",
    "plt.gca().invert_yaxis()"
   ]
  },
  {
   "cell_type": "markdown",
   "metadata": {},
   "source": [
    "#### We can see that - True Positive = 989, True Negative = 17, False Positive = 121 and False Negative = 4.\n",
    "#### Accuracy = (989 + 17) / (989 + 17 + 121 + 4) = 0.8895\n",
    "#### Precision = 989 / (989 + 121) = 0.8910\n",
    "#### Recall = 989 / (989 + 4) = 0.9960"
   ]
  },
  {
   "cell_type": "markdown",
   "metadata": {},
   "source": [
    "##### Precision Recall Curve"
   ]
  },
  {
   "cell_type": "code",
   "execution_count": 104,
   "metadata": {},
   "outputs": [
    {
     "data": {
      "text/plain": [
       "<matplotlib.legend.Legend at 0x5302f58>"
      ]
     },
     "execution_count": 104,
     "metadata": {},
     "output_type": "execute_result"
    },
    {
     "data": {
      "image/png": "[encoded data removed]",
      "text/plain": [
       "<Figure size 432x288 with 1 Axes>"
      ]
     },
     "metadata": {
      "needs_background": "light"
     },
     "output_type": "display_data"
    }
   ],
   "source": [
    "%matplotlib inline\n",
    "\n",
    "poly_prob = grid_search_poly.decision_function(test_scaled)\n",
    "\n",
    "precision, recall, thresholds = precision_recall_curve(test_target, poly_prob)\n",
    "\n",
    "close_zero = np.argmin(np.abs(thresholds))\n",
    "\n",
    "plt.plot(precision[close_zero], recall[close_zero], 'o', markersize=10,\n",
    "         label=\"zero threshold\", fillstyle=\"none\", c='k', mew=2)\n",
    "\n",
    "plt.plot(precision, recall, label=\"Precision Recall Curve\")\n",
    "plt.xlabel(\"Precision\")\n",
    "plt.ylabel(\"Recall\")\n",
    "plt.legend(loc=\"best\")"
   ]
  },
  {
   "cell_type": "markdown",
   "metadata": {},
   "source": [
    "##### ROC Curve"
   ]
  },
  {
   "cell_type": "code",
   "execution_count": 105,
   "metadata": {},
   "outputs": [
    {
     "name": "stdout",
     "output_type": "stream",
     "text": [
      "Best Threshold=0.908036\n"
     ]
    },
    {
     "data": {
      "text/plain": [
       "<matplotlib.legend.Legend at 0x53335f8>"
      ]
     },
     "execution_count": 105,
     "metadata": {},
     "output_type": "execute_result"
    },
    {
     "data": {
      "image/png": "[encoded data removed]",
      "text/plain": [
       "<Figure size 432x288 with 1 Axes>"
      ]
     },
     "metadata": {
      "needs_background": "light"
     },
     "output_type": "display_data"
    }
   ],
   "source": [
    "%matplotlib inline\n",
    "\n",
    "poly_prob = grid_search_poly.decision_function(test_scaled)\n",
    "\n",
    "fpr, tpr, thresholds = roc_curve(test_target, poly_prob)\n",
    "\n",
    "i = tpr-fpr\n",
    "bt = argmax(i)\n",
    "\n",
    "print('Best Threshold=%f' % (thresholds[bt]))\n",
    "\n",
    "plt.plot(fpr, tpr, label=\"ROC Curve\")\n",
    "plt.xlabel(\"FPR\")\n",
    "plt.ylabel(\"TPR (recall)\")\n",
    "\n",
    "optimal_threshold = np.argmin(np.abs(thresholds - thresholds[bt]))\n",
    "plt.plot(fpr[optimal_threshold], tpr[optimal_threshold], 'o', markersize=10,\n",
    "         label=\"best threshold\", fillstyle=\"none\", c='k', mew=2)\n",
    "plt.legend(loc=4)"
   ]
  },
  {
   "cell_type": "markdown",
   "metadata": {},
   "source": [
    "##### F1 Score"
   ]
  },
  {
   "cell_type": "code",
   "execution_count": 106,
   "metadata": {},
   "outputs": [
    {
     "name": "stdout",
     "output_type": "stream",
     "text": [
      "F1 score Kernelized SVM with Poly Kernel: 0.9406\n"
     ]
    }
   ],
   "source": [
    "print(\"F1 score Kernelized SVM with Poly Kernel: {:.4f}\".format(f1_score(test_target, polyPred)))"
   ]
  },
  {
   "cell_type": "markdown",
   "metadata": {},
   "source": [
    "##### ROC_AUC Curve"
   ]
  },
  {
   "cell_type": "code",
   "execution_count": 107,
   "metadata": {},
   "outputs": [
    {
     "name": "stdout",
     "output_type": "stream",
     "text": [
      "ROC_AUC Score for Kernelized SVM with Poly Kernel: 0.8680\n"
     ]
    }
   ],
   "source": [
    "poly_prob = grid_search_poly.decision_function(test_scaled)\n",
    "rascore_poly = roc_auc_score(test_target, poly_prob)\n",
    "print(\"ROC_AUC Score for Kernelized SVM with Poly Kernel: {:.4f}\".format(rascore_poly))"
   ]
  },
  {
   "cell_type": "markdown",
   "metadata": {},
   "source": [
    "### 6. Kernelized SVM using linear kernel"
   ]
  },
  {
   "cell_type": "code",
   "execution_count": 108,
   "metadata": {},
   "outputs": [],
   "source": [
    "param_grid = {'C': [0.01, 0.1, 1, 10, 100]}\n",
    "grid_search_svcl = GridSearchCV(SVC(kernel=\"linear\"), param_grid, n_jobs = -1, cv=5, return_train_score=True)"
   ]
  },
  {
   "cell_type": "code",
   "execution_count": 109,
   "metadata": {},
   "outputs": [
    {
     "data": {
      "text/plain": [
       "GridSearchCV(cv=5, estimator=SVC(kernel='linear'), n_jobs=-1,\n",
       "             param_grid={'C': [0.01, 0.1, 1, 10, 100]},\n",
       "             return_train_score=True)"
      ]
     },
     "execution_count": 109,
     "metadata": {},
     "output_type": "execute_result"
    }
   ],
   "source": [
    "grid_search_svcl.fit(train_scaled, train_target)"
   ]
  },
  {
   "cell_type": "code",
   "execution_count": 110,
   "metadata": {},
   "outputs": [
    {
     "name": "stdout",
     "output_type": "stream",
     "text": [
      "Best parameters: {'C': 10}\n",
      "Best cross-validation score: 0.89\n"
     ]
    }
   ],
   "source": [
    "print(\"Best parameters: {}\".format(grid_search_svcl.best_params_))\n",
    "print(\"Best cross-validation score: {:.2f}\".format(grid_search_svcl.best_score_))"
   ]
  },
  {
   "cell_type": "code",
   "execution_count": 111,
   "metadata": {},
   "outputs": [
    {
     "name": "stdout",
     "output_type": "stream",
     "text": [
      "Best train score: 0.8929\n",
      "Best test score: 0.8921\n"
     ]
    }
   ],
   "source": [
    "print(\"Best train score: {:.4f}\".format(grid_search_svcl.score(train_scaled,train_target)))\n",
    "print(\"Best test score: {:.4f}\".format(grid_search_svcl.score(test_scaled,test_target)))"
   ]
  },
  {
   "cell_type": "markdown",
   "metadata": {},
   "source": [
    "#### We can see from above that the best hyperparameter value for Kernelized SVM with linear kernel is c = 10. We shall now evaluate our model."
   ]
  },
  {
   "cell_type": "markdown",
   "metadata": {},
   "source": [
    "### Evaluation of Kernelized SVM with LINEAR Kernel"
   ]
  },
  {
   "cell_type": "markdown",
   "metadata": {},
   "source": [
    "##### Confusion Matrix"
   ]
  },
  {
   "cell_type": "code",
   "execution_count": 112,
   "metadata": {},
   "outputs": [
    {
     "data": {
      "image/png": "[encoded data removed]",
      "text/plain": [
       "<Figure size 432x288 with 1 Axes>"
      ]
     },
     "metadata": {
      "needs_background": "light"
     },
     "output_type": "display_data"
    }
   ],
   "source": [
    "%matplotlib inline\n",
    "svclPred = grid_search_svcl.predict(test_scaled)\n",
    "scores_image = mglearn.tools.heatmap(\n",
    "    confusion_matrix(test_target, svclPred), xlabel='Predicted Label',\n",
    "    ylabel='True Label', xticklabels=df.y.unique(),\n",
    "    yticklabels=df.y.unique(), cmap=plt.cm.gray_r, fmt=\"%d\")\n",
    "plt.title(\"Confusion Matrix\")\n",
    "plt.gca().invert_yaxis()"
   ]
  },
  {
   "cell_type": "markdown",
   "metadata": {},
   "source": [
    "#### We can see that - True Positive = 983, True Negative = 26, False Positive = 112 and False Negative = 10.\n",
    "#### Accuracy = (983 + 26) / (983 + 26 + 112 + 10) = 0.8921\n",
    "#### Precision = 983 / (983 + 112) = 0.8977\n",
    "#### Recall = 983 / (983 + 10) = 0.9899"
   ]
  },
  {
   "cell_type": "markdown",
   "metadata": {},
   "source": [
    "##### Precision Recall Curve"
   ]
  },
  {
   "cell_type": "code",
   "execution_count": 113,
   "metadata": {},
   "outputs": [
    {
     "name": "stdout",
     "output_type": "stream",
     "text": [
      "Best Threshold=0.576453\n"
     ]
    },
    {
     "data": {
      "text/plain": [
       "<matplotlib.legend.Legend at 0x53af808>"
      ]
     },
     "execution_count": 113,
     "metadata": {},
     "output_type": "execute_result"
    },
    {
     "data": {
      "image/png": "[encoded data removed]",
      "text/plain": [
       "<Figure size 432x288 with 1 Axes>"
      ]
     },
     "metadata": {
      "needs_background": "light"
     },
     "output_type": "display_data"
    }
   ],
   "source": [
    "%matplotlib inline\n",
    "\n",
    "svcl_prob = grid_search_svcl.decision_function(test_scaled)\n",
    "\n",
    "precision, recall, thresholds = precision_recall_curve(test_target, svcl_prob)\n",
    "\n",
    "f = (2 * precision * recall) / (precision + recall)\n",
    "i = argmax(f)\n",
    "\n",
    "print('Best Threshold=%f' % (thresholds[i]))\n",
    "\n",
    "optimal_threshold = np.argmin(np.abs(thresholds-thresholds[i]))\n",
    "\n",
    "plt.plot(precision[optimal_threshold], recall[optimal_threshold], 'o', markersize=10,\n",
    "         label=\"best threshold\", fillstyle=\"none\", c='k', mew=2)\n",
    "\n",
    "plt.plot(precision, recall, label=\"Precision Recall Curve\")\n",
    "plt.xlabel(\"Precision\")\n",
    "plt.ylabel(\"Recall\")\n",
    "plt.legend(loc=\"best\")"
   ]
  },
  {
   "cell_type": "markdown",
   "metadata": {},
   "source": [
    "##### ROC Curve"
   ]
  },
  {
   "cell_type": "code",
   "execution_count": 114,
   "metadata": {},
   "outputs": [
    {
     "name": "stdout",
     "output_type": "stream",
     "text": [
      "Best Threshold=1.089741\n"
     ]
    },
    {
     "data": {
      "text/plain": [
       "<matplotlib.legend.Legend at 0x53d3a78>"
      ]
     },
     "execution_count": 114,
     "metadata": {},
     "output_type": "execute_result"
    },
    {
     "data": {
      "image/png": "[encoded data removed]",
      "text/plain": [
       "<Figure size 432x288 with 1 Axes>"
      ]
     },
     "metadata": {
      "needs_background": "light"
     },
     "output_type": "display_data"
    }
   ],
   "source": [
    "%matplotlib inline\n",
    "\n",
    "svcl_prob = grid_search_svcl.decision_function(test_scaled)\n",
    "\n",
    "fpr, tpr, thresholds = roc_curve(test_target, svcl_prob)\n",
    "\n",
    "i = tpr-fpr\n",
    "bt = argmax(i)\n",
    "\n",
    "print('Best Threshold=%f' % (thresholds[bt]))\n",
    "\n",
    "plt.plot(fpr, tpr, label=\"ROC Curve\")\n",
    "plt.xlabel(\"FPR\")\n",
    "plt.ylabel(\"TPR (recall)\")\n",
    "\n",
    "optimal_threshold = np.argmin(np.abs(thresholds - thresholds[bt]))\n",
    "plt.plot(fpr[optimal_threshold], tpr[optimal_threshold], 'o', markersize=10,\n",
    "         label=\"best threshold\", fillstyle=\"none\", c='k', mew=2)\n",
    "plt.legend(loc=4)"
   ]
  },
  {
   "cell_type": "markdown",
   "metadata": {},
   "source": [
    "##### F1 Score"
   ]
  },
  {
   "cell_type": "code",
   "execution_count": 115,
   "metadata": {},
   "outputs": [
    {
     "name": "stdout",
     "output_type": "stream",
     "text": [
      "F1 Score Kernelized SVM with Linear Kernel: 0.9416\n"
     ]
    }
   ],
   "source": [
    "print(\"F1 Score Kernelized SVM with Linear Kernel: {:.4f}\".format(f1_score(test_target, svclPred)))"
   ]
  },
  {
   "cell_type": "markdown",
   "metadata": {},
   "source": [
    "##### ROC_AUC Score"
   ]
  },
  {
   "cell_type": "code",
   "execution_count": 116,
   "metadata": {},
   "outputs": [
    {
     "name": "stdout",
     "output_type": "stream",
     "text": [
      "ROC_AUC Score for Kernelized SVM with Linear Kernel: 0.8824\n"
     ]
    }
   ],
   "source": [
    "svcl_prob = grid_search_svcl.decision_function(test_scaled)\n",
    "rascore_svcl = roc_auc_score(test_target, svcl_prob)\n",
    "print(\"ROC_AUC Score for Kernelized SVM with Linear Kernel: {:.4f}\".format(rascore_svcl))"
   ]
  },
  {
   "cell_type": "markdown",
   "metadata": {},
   "source": [
    "### 7. Decision Tree Classifier"
   ]
  },
  {
   "cell_type": "code",
   "execution_count": 117,
   "metadata": {},
   "outputs": [],
   "source": [
    "param_grid = {'max_depth': range(1,20)}\n",
    "grid_search_dt = GridSearchCV(DecisionTreeClassifier(), param_grid, cv=5, return_train_score=True)"
   ]
  },
  {
   "cell_type": "code",
   "execution_count": 118,
   "metadata": {},
   "outputs": [
    {
     "data": {
      "text/plain": [
       "GridSearchCV(cv=5, estimator=DecisionTreeClassifier(),\n",
       "             param_grid={'max_depth': range(1, 20)}, return_train_score=True)"
      ]
     },
     "execution_count": 118,
     "metadata": {},
     "output_type": "execute_result"
    }
   ],
   "source": [
    "grid_search_dt.fit(train_scaled, train_target)"
   ]
  },
  {
   "cell_type": "code",
   "execution_count": 119,
   "metadata": {},
   "outputs": [
    {
     "name": "stdout",
     "output_type": "stream",
     "text": [
      "Best parameters: {'max_depth': 3}\n",
      "Best cross-validation score: 0.89\n"
     ]
    }
   ],
   "source": [
    "print(\"Best parameters: {}\".format(grid_search_dt.best_params_))\n",
    "print(\"Best cross-validation score: {:.2f}\".format(grid_search_dt.best_score_))"
   ]
  },
  {
   "cell_type": "code",
   "execution_count": 120,
   "metadata": {},
   "outputs": [
    {
     "name": "stdout",
     "output_type": "stream",
     "text": [
      "Best train score: 0.9035\n",
      "Best test score: 0.8966\n"
     ]
    }
   ],
   "source": [
    "print(\"Best train score: {:.4f}\".format(grid_search_dt.score(train_scaled,train_target)))\n",
    "print(\"Best test score: {:.4f}\".format(grid_search_dt.score(test_scaled,test_target)))"
   ]
  },
  {
   "cell_type": "markdown",
   "metadata": {},
   "source": [
    "#### As we can see here that the best parameter for Decision Tree Classifier is max depth = 4. We will now evaluate our model."
   ]
  },
  {
   "cell_type": "markdown",
   "metadata": {},
   "source": [
    "### Evaluation of Decision Tree Classifier Model"
   ]
  },
  {
   "cell_type": "markdown",
   "metadata": {},
   "source": [
    "##### Confusion Matrix"
   ]
  },
  {
   "cell_type": "code",
   "execution_count": 121,
   "metadata": {},
   "outputs": [
    {
     "data": {
      "image/png": "[encoded data removed]",
      "text/plain": [
       "<Figure size 432x288 with 1 Axes>"
      ]
     },
     "metadata": {
      "needs_background": "light"
     },
     "output_type": "display_data"
    }
   ],
   "source": [
    "%matplotlib inline\n",
    "dtPred = grid_search_dt.predict(test_scaled)\n",
    "scores_image = mglearn.tools.heatmap(\n",
    "    confusion_matrix(test_target, dtPred), xlabel='Predicted Label',\n",
    "    ylabel='True Label', xticklabels=df.y.unique(),\n",
    "    yticklabels=df.y.unique(), cmap=plt.cm.gray_r, fmt=\"%d\")\n",
    "plt.title(\"Confusion Matrix\")\n",
    "plt.gca().invert_yaxis()"
   ]
  },
  {
   "cell_type": "markdown",
   "metadata": {},
   "source": [
    "#### We can see that - True Positive = 982, True Negative = 29, False Positive = 109 and False Negative = 11.\n",
    "#### Accuracy = (982 + 29) / (982 + 29 + 109 + 11) = 0.8939\n",
    "#### Precision = 982 / (982 + 109) = 0.9001\n",
    "#### Recall = 982 / (982 + 11) = 0.9889"
   ]
  },
  {
   "cell_type": "markdown",
   "metadata": {},
   "source": [
    "##### Precision Recall Curve"
   ]
  },
  {
   "cell_type": "code",
   "execution_count": 122,
   "metadata": {},
   "outputs": [
    {
     "name": "stdout",
     "output_type": "stream",
     "text": [
      "Best Threshold=0.569507\n"
     ]
    },
    {
     "data": {
      "text/plain": [
       "<matplotlib.legend.Legend at 0x17a06f10>"
      ]
     },
     "execution_count": 122,
     "metadata": {},
     "output_type": "execute_result"
    },
    {
     "data": {
      "image/png": "[encoded data removed]",
      "text/plain": [
       "<Figure size 432x288 with 1 Axes>"
      ]
     },
     "metadata": {
      "needs_background": "light"
     },
     "output_type": "display_data"
    }
   ],
   "source": [
    "%matplotlib inline\n",
    "\n",
    "dt_prob = grid_search_dt.predict_proba(test_scaled)\n",
    "dt_prob = dt_prob[:,1]\n",
    "\n",
    "precision, recall, thresholds = precision_recall_curve(test_target, dt_prob)\n",
    "\n",
    "f = (2 * precision * recall) / (precision + recall)\n",
    "i = argmax(f)\n",
    "\n",
    "print('Best Threshold=%f' % (thresholds[i]))\n",
    "\n",
    "optimal_threshold = np.argmin(np.abs(thresholds-thresholds[i]))\n",
    "\n",
    "plt.plot(precision[optimal_threshold], recall[optimal_threshold], 'o', markersize=10,\n",
    "         label=\"best threshold\", fillstyle=\"none\", c='k', mew=2)\n",
    "\n",
    "plt.plot(precision, recall, label=\"Precision Recall Curve\")\n",
    "plt.xlabel(\"Precision\")\n",
    "plt.ylabel(\"Recall\")\n",
    "plt.legend(loc=\"best\")"
   ]
  },
  {
   "cell_type": "markdown",
   "metadata": {},
   "source": [
    "##### ROC Curve"
   ]
  },
  {
   "cell_type": "code",
   "execution_count": 123,
   "metadata": {},
   "outputs": [
    {
     "name": "stdout",
     "output_type": "stream",
     "text": [
      "Best Threshold=0.978712\n"
     ]
    },
    {
     "data": {
      "text/plain": [
       "<matplotlib.legend.Legend at 0x53d3b80>"
      ]
     },
     "execution_count": 123,
     "metadata": {},
     "output_type": "execute_result"
    },
    {
     "data": {
      "image/png": "[encoded data removed]",
      "text/plain": [
       "<Figure size 432x288 with 1 Axes>"
      ]
     },
     "metadata": {
      "needs_background": "light"
     },
     "output_type": "display_data"
    }
   ],
   "source": [
    "%matplotlib inline\n",
    "\n",
    "dt_prob = grid_search_dt.predict_proba(test_scaled)\n",
    "dt_prob = dt_prob[:,1]\n",
    "\n",
    "fpr, tpr, thresholds = roc_curve(test_target, dt_prob)\n",
    "\n",
    "i = tpr-fpr\n",
    "bt = argmax(i)\n",
    "\n",
    "print('Best Threshold=%f' % (thresholds[bt]))\n",
    "\n",
    "plt.plot(fpr, tpr, label=\"ROC Curve\")\n",
    "plt.xlabel(\"FPR\")\n",
    "plt.ylabel(\"TPR (recall)\")\n",
    "\n",
    "optimal_threshold = np.argmin(np.abs(thresholds - thresholds[bt]))\n",
    "plt.plot(fpr[optimal_threshold], tpr[optimal_threshold], 'o', markersize=10,\n",
    "         label=\"best threshold\", fillstyle=\"none\", c='k', mew=2)\n",
    "plt.legend(loc=4)"
   ]
  },
  {
   "cell_type": "markdown",
   "metadata": {},
   "source": [
    "##### F1 Score"
   ]
  },
  {
   "cell_type": "code",
   "execution_count": 124,
   "metadata": {},
   "outputs": [
    {
     "name": "stdout",
     "output_type": "stream",
     "text": [
      "F1 Score Decision Tree Classifier: 0.9438\n"
     ]
    }
   ],
   "source": [
    "print(\"F1 Score Decision Tree Classifier: {:.4f}\".format(f1_score(test_target, dtPred)))"
   ]
  },
  {
   "cell_type": "markdown",
   "metadata": {},
   "source": [
    "##### ROC_AUC Curve"
   ]
  },
  {
   "cell_type": "code",
   "execution_count": 125,
   "metadata": {},
   "outputs": [
    {
     "name": "stdout",
     "output_type": "stream",
     "text": [
      "ROC_AUC Score for Decision Tree Classifier: 0.8281\n"
     ]
    }
   ],
   "source": [
    "dt_prob = grid_search_dt.predict_proba(test_scaled)\n",
    "dt_prob = dt_prob[:,1]\n",
    "rascore_dt = roc_auc_score(test_target, dt_prob)\n",
    "print(\"ROC_AUC Score for Decision Tree Classifier: {:.4f}\".format(rascore_dt))"
   ]
  },
  {
   "cell_type": "markdown",
   "metadata": {},
   "source": [
    "### Best Model for the Classification Dataset"
   ]
  },
  {
   "cell_type": "markdown",
   "metadata": {},
   "source": [
    "#### The different Evaluation strategies that we used in order to evaluate our Classification model were:-\n",
    "1. Cross Validation Score\n",
    "2. Train and Test Score\n",
    "3. Confusion Matrix - Accuracy, Precision and Recall\n",
    "4. Precision Recall Curve\n",
    "5. ROC Curve\n",
    "6. F1 Score\n",
    "7. ROC_AUC Score\n",
    "\n"
   ]
  },
  {
   "cell_type": "markdown",
   "metadata": {},
   "source": [
    "#### Our Classification Goal is to predict whether the client will subscribe for the term deposit - yes or no. \n",
    "\n",
    "1. If a client has already subscribed for the term deposit but is classified as not subscribed, that is False Negative, then, the bank will take efforts to send out emails to attract these clients, which will be a waste of resources because the client had already subscribed.\n",
    "2. On the other hand, if a client has not subscribed for the term deposit but is classified as subscribed, that is False Positive, then this is also an issue because the bank will consider this client as its important client who has already subscribed for the term deposit, and might not send out emails to them. So, these clients will actually never become their true clients.\n",
    "3. Thus, for this scenario, False Positives as well as False Negatives are equally important. Thus, we will consider the F1 Score to evaluate the performance of our model.\n",
    "4. When we look at the target column (y), we find out that it is imbalanced. The number of negative values (0) is much more higher than the number of positive values (1). For imbalanced classification, the ROC_AUC Score is the best parameter for evaluation. \n",
    "5. Thus, we will base our inferences based on two parameters - F1 Score and ROC_AUC Score."
   ]
  },
  {
   "cell_type": "markdown",
   "metadata": {},
   "source": [
    "#### The best ROC_AUC Score is for the Linear Support Vector Machine model with ROC_AUC Score = 0.8906. \n",
    "#### Also, the F1 Score of Linear Support Vector Machine model is high with F1 Score = 0.9404.\n",
    "#### If we look at the Linear SVM model closely, we see that its best Cross Validation Score = 0.9 and best Train Score = 0.9018 and best Test Score = 0.8912 for best hyperparamater C = 10. The difference between train and test scores is also minimal. \n",
    "#### Thus, we can conclude that for this dataset, the Linear Support Vector Machine proves to be the best Classification model."
   ]
  },
  {
   "cell_type": "markdown",
   "metadata": {},
   "source": [
    "### Running the Linear Support Vector Machine Model with C = 10 for Final Prediction"
   ]
  },
  {
   "cell_type": "code",
   "execution_count": 126,
   "metadata": {},
   "outputs": [
    {
     "data": {
      "text/plain": [
       "LinearSVC(C=10)"
      ]
     },
     "execution_count": 126,
     "metadata": {},
     "output_type": "execute_result"
    }
   ],
   "source": [
    "linear_svc = LinearSVC(C = 10)\n",
    "linear_svc.fit(train_scaled, train_target)"
   ]
  },
  {
   "cell_type": "code",
   "execution_count": 127,
   "metadata": {},
   "outputs": [
    {
     "name": "stdout",
     "output_type": "stream",
     "text": [
      "Train Score: 0.9021\n",
      "Test Score: 0.8930\n"
     ]
    }
   ],
   "source": [
    "print(\"Train Score: {:.4f}\".format(linear_svc.score(train_scaled,train_target)))\n",
    "print(\"Test Score: {:.4f}\".format(linear_svc.score(test_scaled,test_target)))"
   ]
  },
  {
   "cell_type": "code",
   "execution_count": 128,
   "metadata": {},
   "outputs": [],
   "source": [
    "final_prediction_classification = linear_svc.predict(test_scaled)"
   ]
  },
  {
   "cell_type": "code",
   "execution_count": 129,
   "metadata": {},
   "outputs": [
    {
     "data": {
      "text/plain": [
       "array([1, 1, 1, 1, 1, 1, 1, 0, 1, 0, 1, 1, 1, 1, 1, 1, 1, 1, 1, 1, 1, 1,\n",
       "       1, 1, 1, 1, 1, 1, 1, 1, 1, 1, 1, 1, 0, 1, 1, 1, 0, 1, 1, 1, 1, 1,\n",
       "       1, 1, 1, 1, 1, 1])"
      ]
     },
     "execution_count": 129,
     "metadata": {},
     "output_type": "execute_result"
    }
   ],
   "source": [
    "# Displaying first 50 predictions\n",
    "final_prediction_classification[:50]"
   ]
  },
  {
   "cell_type": "markdown",
   "metadata": {},
   "source": [
    "### Here, let us recollect that the NOs were mapped as 1 and YESs were mapped to 0. Thus, all the above 1s indicate that the predicted label for the test data instance is a NO and all the 0s indicate that the predicted label for the test data instance is a YES."
   ]
  }
 ],
 "metadata": {
  "kernelspec": {
   "display_name": "Python 3",
   "language": "python",
   "name": "python3"
  },
  "language_info": {
   "codemirror_mode": {
    "name": "ipython",
    "version": 3
   },
   "file_extension": ".py",
   "mimetype": "text/x-python",
   "name": "python",
   "nbconvert_exporter": "python",
   "pygments_lexer": "ipython3",
   "version": "3.7.4"
  }
 },
 "nbformat": 4,
 "nbformat_minor": 4
}
